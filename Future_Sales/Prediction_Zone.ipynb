{
 "cells": [
  {
   "cell_type": "code",
   "execution_count": 175,
   "metadata": {},
   "outputs": [
    {
     "name": "stdout",
     "output_type": "stream",
     "text": [
      "The rpy2.ipython extension is already loaded. To reload it, use:\n",
      "  %reload_ext rpy2.ipython\n"
     ]
    }
   ],
   "source": [
    "%matplotlib inline\n",
    "%load_ext rpy2.ipython\n",
    "import random\n",
    "import pandas as pdgo\n",
    "import os\n",
    "import numpy as np\n",
    "import matplotlib.pyplot as plt\n",
    "from sklearn.feature_extraction.text import TfidfVectorizer\n",
    "import seaborn as sns\n",
    "import pandas as pd\n",
    "import xgboost\n",
    "from sklearn.linear_model import LinearRegression\n",
    "import xgboost\n",
    "from sklearn.model_selection import KFold, StratifiedKFold, StratifiedShuffleSplit\n",
    "from sklearn.ensemble import RandomForestRegressor\n",
    "import matplotlib as mpl\n",
    "mpl.style.use('ggplot')\n",
    "np.random.seed(333)\n",
    "def compute_trimmed_rmse(prediction,target):\n",
    "    prediction[prediction>20] = 20\n",
    "    prediction[prediction<0] = 0\n",
    "    target[target>20] = 20\n",
    "    target[target<0] = 0\n",
    "    numer = sum((prediction - target)**2)\n",
    "    denom = len(prediction)\n",
    "    return np.sqrt(numer/denom)\n",
    "\n",
    "def rmse(prediction,target):\n",
    "    numer = sum((prediction - target)**2)\n",
    "    denom = len(prediction)\n",
    "    return np.sqrt(numer/denom)\n",
    "\n",
    "def month_split(dataframe, on_unique):\n",
    "    train = dataframe[dataframe['unique'] < on_unique]\n",
    "    test = dataframe[dataframe['unique'] == on_unique]\n",
    "    return train,test"
   ]
  },
  {
   "cell_type": "code",
   "execution_count": 180,
   "metadata": {},
   "outputs": [],
   "source": [
    "%macro -q __toolboxforsalesdata 1"
   ]
  },
  {
   "cell_type": "code",
   "execution_count": 181,
   "metadata": {},
   "outputs": [
    {
     "name": "stdout",
     "output_type": "stream",
     "text": [
      "Stored '__toolboxforsalesdata' (Macro)\n"
     ]
    }
   ],
   "source": [
    "%store __toolboxforsalesdata"
   ]
  },
  {
   "cell_type": "code",
   "execution_count": 2,
   "metadata": {},
   "outputs": [],
   "source": [
    "month_agg4 = pd.read_csv('month_agg4.csv')"
   ]
  },
  {
   "cell_type": "code",
   "execution_count": 3,
   "metadata": {},
   "outputs": [],
   "source": [
    "fake_test4 = pd.read_csv('fake_test4.csv')"
   ]
  },
  {
   "cell_type": "code",
   "execution_count": 4,
   "metadata": {},
   "outputs": [],
   "source": [
    "train33,val33 = month_split(month_agg4,33)"
   ]
  },
  {
   "cell_type": "code",
   "execution_count": 5,
   "metadata": {},
   "outputs": [
    {
     "data": {
      "text/html": [
       "<div>\n",
       "<style>\n",
       "    .dataframe thead tr:only-child th {\n",
       "        text-align: right;\n",
       "    }\n",
       "\n",
       "    .dataframe thead th {\n",
       "        text-align: left;\n",
       "    }\n",
       "\n",
       "    .dataframe tbody tr th {\n",
       "        vertical-align: top;\n",
       "    }\n",
       "</style>\n",
       "<table border=\"1\" class=\"dataframe\">\n",
       "  <thead>\n",
       "    <tr style=\"text-align: right;\">\n",
       "      <th></th>\n",
       "      <th>shop_id</th>\n",
       "      <th>item_id</th>\n",
       "      <th>unique</th>\n",
       "      <th>item_price</th>\n",
       "      <th>item_cnt_month</th>\n",
       "      <th>item_category_id</th>\n",
       "      <th>is_music</th>\n",
       "      <th>lag_shop_item_comb</th>\n",
       "      <th>lag_only_item</th>\n",
       "      <th>lag_only_item_cat</th>\n",
       "    </tr>\n",
       "  </thead>\n",
       "  <tbody>\n",
       "    <tr>\n",
       "      <th>0</th>\n",
       "      <td>0</td>\n",
       "      <td>32</td>\n",
       "      <td>0</td>\n",
       "      <td>221.0</td>\n",
       "      <td>6.0</td>\n",
       "      <td>40</td>\n",
       "      <td>False</td>\n",
       "      <td>NaN</td>\n",
       "      <td>NaN</td>\n",
       "      <td>NaN</td>\n",
       "    </tr>\n",
       "    <tr>\n",
       "      <th>1</th>\n",
       "      <td>0</td>\n",
       "      <td>33</td>\n",
       "      <td>0</td>\n",
       "      <td>347.0</td>\n",
       "      <td>3.0</td>\n",
       "      <td>37</td>\n",
       "      <td>False</td>\n",
       "      <td>NaN</td>\n",
       "      <td>NaN</td>\n",
       "      <td>NaN</td>\n",
       "    </tr>\n",
       "    <tr>\n",
       "      <th>2</th>\n",
       "      <td>0</td>\n",
       "      <td>35</td>\n",
       "      <td>0</td>\n",
       "      <td>247.0</td>\n",
       "      <td>1.0</td>\n",
       "      <td>40</td>\n",
       "      <td>False</td>\n",
       "      <td>NaN</td>\n",
       "      <td>NaN</td>\n",
       "      <td>NaN</td>\n",
       "    </tr>\n",
       "    <tr>\n",
       "      <th>3</th>\n",
       "      <td>0</td>\n",
       "      <td>43</td>\n",
       "      <td>0</td>\n",
       "      <td>221.0</td>\n",
       "      <td>1.0</td>\n",
       "      <td>40</td>\n",
       "      <td>False</td>\n",
       "      <td>NaN</td>\n",
       "      <td>NaN</td>\n",
       "      <td>NaN</td>\n",
       "    </tr>\n",
       "    <tr>\n",
       "      <th>4</th>\n",
       "      <td>0</td>\n",
       "      <td>51</td>\n",
       "      <td>0</td>\n",
       "      <td>128.5</td>\n",
       "      <td>2.0</td>\n",
       "      <td>57</td>\n",
       "      <td>True</td>\n",
       "      <td>NaN</td>\n",
       "      <td>NaN</td>\n",
       "      <td>NaN</td>\n",
       "    </tr>\n",
       "  </tbody>\n",
       "</table>\n",
       "</div>"
      ],
      "text/plain": [
       "   shop_id  item_id  unique  item_price  item_cnt_month  item_category_id  \\\n",
       "0        0       32       0       221.0             6.0                40   \n",
       "1        0       33       0       347.0             3.0                37   \n",
       "2        0       35       0       247.0             1.0                40   \n",
       "3        0       43       0       221.0             1.0                40   \n",
       "4        0       51       0       128.5             2.0                57   \n",
       "\n",
       "   is_music  lag_shop_item_comb  lag_only_item  lag_only_item_cat  \n",
       "0     False                 NaN            NaN                NaN  \n",
       "1     False                 NaN            NaN                NaN  \n",
       "2     False                 NaN            NaN                NaN  \n",
       "3     False                 NaN            NaN                NaN  \n",
       "4      True                 NaN            NaN                NaN  "
      ]
     },
     "execution_count": 5,
     "metadata": {},
     "output_type": "execute_result"
    }
   ],
   "source": [
    "train33.head()"
   ]
  },
  {
   "cell_type": "code",
   "execution_count": 6,
   "metadata": {},
   "outputs": [],
   "source": [
    "dropped_col_train33_no_na = train33.copy().drop(['shop_id','item_id','item_category_id','item_cnt_month'] , axis = 1).dropna()"
   ]
  },
  {
   "cell_type": "code",
   "execution_count": 7,
   "metadata": {},
   "outputs": [],
   "source": [
    "dropped_col_val33_no_na = val33.copy().drop(['shop_id','item_id','item_category_id','item_cnt_month'] , axis = 1).dropna()"
   ]
  },
  {
   "cell_type": "code",
   "execution_count": 8,
   "metadata": {},
   "outputs": [
    {
     "data": {
      "text/html": [
       "<div>\n",
       "<style>\n",
       "    .dataframe thead tr:only-child th {\n",
       "        text-align: right;\n",
       "    }\n",
       "\n",
       "    .dataframe thead th {\n",
       "        text-align: left;\n",
       "    }\n",
       "\n",
       "    .dataframe tbody tr th {\n",
       "        vertical-align: top;\n",
       "    }\n",
       "</style>\n",
       "<table border=\"1\" class=\"dataframe\">\n",
       "  <thead>\n",
       "    <tr style=\"text-align: right;\">\n",
       "      <th></th>\n",
       "      <th>unique</th>\n",
       "      <th>item_price</th>\n",
       "      <th>is_music</th>\n",
       "      <th>lag_shop_item_comb</th>\n",
       "      <th>lag_only_item</th>\n",
       "      <th>lag_only_item_cat</th>\n",
       "    </tr>\n",
       "  </thead>\n",
       "  <tbody>\n",
       "    <tr>\n",
       "      <th>63226</th>\n",
       "      <td>1</td>\n",
       "      <td>221.0</td>\n",
       "      <td>False</td>\n",
       "      <td>6.0</td>\n",
       "      <td>299.0</td>\n",
       "      <td>33489.0</td>\n",
       "    </tr>\n",
       "    <tr>\n",
       "      <th>63227</th>\n",
       "      <td>1</td>\n",
       "      <td>347.0</td>\n",
       "      <td>False</td>\n",
       "      <td>3.0</td>\n",
       "      <td>61.0</td>\n",
       "      <td>6094.0</td>\n",
       "    </tr>\n",
       "    <tr>\n",
       "      <th>63228</th>\n",
       "      <td>1</td>\n",
       "      <td>247.0</td>\n",
       "      <td>False</td>\n",
       "      <td>1.0</td>\n",
       "      <td>78.0</td>\n",
       "      <td>33489.0</td>\n",
       "    </tr>\n",
       "    <tr>\n",
       "      <th>63233</th>\n",
       "      <td>1</td>\n",
       "      <td>127.0</td>\n",
       "      <td>True</td>\n",
       "      <td>2.0</td>\n",
       "      <td>13.0</td>\n",
       "      <td>1539.0</td>\n",
       "    </tr>\n",
       "    <tr>\n",
       "      <th>63238</th>\n",
       "      <td>1</td>\n",
       "      <td>268.0</td>\n",
       "      <td>False</td>\n",
       "      <td>25.0</td>\n",
       "      <td>361.0</td>\n",
       "      <td>33489.0</td>\n",
       "    </tr>\n",
       "  </tbody>\n",
       "</table>\n",
       "</div>"
      ],
      "text/plain": [
       "       unique  item_price  is_music  lag_shop_item_comb  lag_only_item  \\\n",
       "63226       1       221.0     False                 6.0          299.0   \n",
       "63227       1       347.0     False                 3.0           61.0   \n",
       "63228       1       247.0     False                 1.0           78.0   \n",
       "63233       1       127.0      True                 2.0           13.0   \n",
       "63238       1       268.0     False                25.0          361.0   \n",
       "\n",
       "       lag_only_item_cat  \n",
       "63226            33489.0  \n",
       "63227             6094.0  \n",
       "63228            33489.0  \n",
       "63233             1539.0  \n",
       "63238            33489.0  "
      ]
     },
     "execution_count": 8,
     "metadata": {},
     "output_type": "execute_result"
    }
   ],
   "source": [
    "dropped_col_train33_no_na.head()"
   ]
  },
  {
   "cell_type": "code",
   "execution_count": 9,
   "metadata": {},
   "outputs": [],
   "source": [
    "xg_train = xgboost.DMatrix(dropped_col_train33_no_na,label = train33.copy().dropna()['item_cnt_month'])\n",
    "xg_val = xgboost.DMatrix(dropped_col_val33_no_na,label = val33.copy().dropna()['item_cnt_month'])"
   ]
  },
  {
   "cell_type": "code",
   "execution_count": 10,
   "metadata": {},
   "outputs": [],
   "source": [
    "param = {'max_depth': 1, 'eta': 0.001, 'silent': 1, 'objective': 'reg:linear', 'subsample' : 1,'eval_metric': 'rmse'}"
   ]
  },
  {
   "cell_type": "code",
   "execution_count": 11,
   "metadata": {},
   "outputs": [
    {
     "name": "stdout",
     "output_type": "stream",
     "text": [
      "[0]\ttrain_set-rmse:11.8957\tvalidation_set-rmse:22.7185\n",
      "Multiple eval metrics have been passed: 'validation_set-rmse' will be used for early stopping.\n",
      "\n",
      "Will train until validation_set-rmse hasn't improved in 10 rounds.\n",
      "[1]\ttrain_set-rmse:11.8909\tvalidation_set-rmse:22.7161\n",
      "[2]\ttrain_set-rmse:11.8862\tvalidation_set-rmse:22.7137\n",
      "[3]\ttrain_set-rmse:11.8814\tvalidation_set-rmse:22.7113\n",
      "[4]\ttrain_set-rmse:11.8766\tvalidation_set-rmse:22.709\n",
      "[5]\ttrain_set-rmse:11.8719\tvalidation_set-rmse:22.7066\n",
      "[6]\ttrain_set-rmse:11.8671\tvalidation_set-rmse:22.7043\n",
      "[7]\ttrain_set-rmse:11.8624\tvalidation_set-rmse:22.7019\n",
      "[8]\ttrain_set-rmse:11.8577\tvalidation_set-rmse:22.6996\n",
      "[9]\ttrain_set-rmse:11.853\tvalidation_set-rmse:22.6972\n",
      "[10]\ttrain_set-rmse:11.8482\tvalidation_set-rmse:22.6949\n",
      "[11]\ttrain_set-rmse:11.8435\tvalidation_set-rmse:22.6926\n",
      "[12]\ttrain_set-rmse:11.8388\tvalidation_set-rmse:22.6903\n",
      "[13]\ttrain_set-rmse:11.8341\tvalidation_set-rmse:22.6879\n",
      "[14]\ttrain_set-rmse:11.8295\tvalidation_set-rmse:22.6856\n",
      "[15]\ttrain_set-rmse:11.8248\tvalidation_set-rmse:22.6833\n",
      "[16]\ttrain_set-rmse:11.8201\tvalidation_set-rmse:22.681\n",
      "[17]\ttrain_set-rmse:11.8154\tvalidation_set-rmse:22.6787\n",
      "[18]\ttrain_set-rmse:11.8108\tvalidation_set-rmse:22.6764\n",
      "[19]\ttrain_set-rmse:11.8061\tvalidation_set-rmse:22.6741\n",
      "[20]\ttrain_set-rmse:11.8015\tvalidation_set-rmse:22.6718\n",
      "[21]\ttrain_set-rmse:11.7969\tvalidation_set-rmse:22.6695\n",
      "[22]\ttrain_set-rmse:11.7922\tvalidation_set-rmse:22.6672\n",
      "[23]\ttrain_set-rmse:11.7876\tvalidation_set-rmse:22.6649\n",
      "[24]\ttrain_set-rmse:11.783\tvalidation_set-rmse:22.6627\n",
      "[25]\ttrain_set-rmse:11.7784\tvalidation_set-rmse:22.6604\n",
      "[26]\ttrain_set-rmse:11.7738\tvalidation_set-rmse:22.6581\n",
      "[27]\ttrain_set-rmse:11.7692\tvalidation_set-rmse:22.6559\n",
      "[28]\ttrain_set-rmse:11.7646\tvalidation_set-rmse:22.6536\n",
      "[29]\ttrain_set-rmse:11.7601\tvalidation_set-rmse:22.6514\n",
      "[30]\ttrain_set-rmse:11.7555\tvalidation_set-rmse:22.6491\n",
      "[31]\ttrain_set-rmse:11.7509\tvalidation_set-rmse:22.6469\n",
      "[32]\ttrain_set-rmse:11.7464\tvalidation_set-rmse:22.6446\n",
      "[33]\ttrain_set-rmse:11.7418\tvalidation_set-rmse:22.6424\n",
      "[34]\ttrain_set-rmse:11.7373\tvalidation_set-rmse:22.6401\n",
      "[35]\ttrain_set-rmse:11.7328\tvalidation_set-rmse:22.638\n",
      "[36]\ttrain_set-rmse:11.7283\tvalidation_set-rmse:22.6357\n",
      "[37]\ttrain_set-rmse:11.7237\tvalidation_set-rmse:22.6335\n",
      "[38]\ttrain_set-rmse:11.7192\tvalidation_set-rmse:22.6313\n",
      "[39]\ttrain_set-rmse:11.7147\tvalidation_set-rmse:22.6291\n",
      "[40]\ttrain_set-rmse:11.7102\tvalidation_set-rmse:22.6269\n",
      "[41]\ttrain_set-rmse:11.7058\tvalidation_set-rmse:22.6248\n",
      "[42]\ttrain_set-rmse:11.7013\tvalidation_set-rmse:22.6226\n",
      "[43]\ttrain_set-rmse:11.6968\tvalidation_set-rmse:22.6204\n",
      "[44]\ttrain_set-rmse:11.6923\tvalidation_set-rmse:22.6182\n",
      "[45]\ttrain_set-rmse:11.6879\tvalidation_set-rmse:22.616\n",
      "[46]\ttrain_set-rmse:11.6834\tvalidation_set-rmse:22.6139\n",
      "[47]\ttrain_set-rmse:11.679\tvalidation_set-rmse:22.6117\n",
      "[48]\ttrain_set-rmse:11.6745\tvalidation_set-rmse:22.6095\n",
      "[49]\ttrain_set-rmse:11.6701\tvalidation_set-rmse:22.6074\n",
      "[50]\ttrain_set-rmse:11.6657\tvalidation_set-rmse:22.6052\n",
      "[51]\ttrain_set-rmse:11.6613\tvalidation_set-rmse:22.6031\n",
      "[52]\ttrain_set-rmse:11.6569\tvalidation_set-rmse:22.6009\n",
      "[53]\ttrain_set-rmse:11.6525\tvalidation_set-rmse:22.5988\n",
      "[54]\ttrain_set-rmse:11.6481\tvalidation_set-rmse:22.5967\n",
      "[55]\ttrain_set-rmse:11.6437\tvalidation_set-rmse:22.5945\n",
      "[56]\ttrain_set-rmse:11.6393\tvalidation_set-rmse:22.5924\n",
      "[57]\ttrain_set-rmse:11.6349\tvalidation_set-rmse:22.5903\n",
      "[58]\ttrain_set-rmse:11.6306\tvalidation_set-rmse:22.5882\n",
      "[59]\ttrain_set-rmse:11.6262\tvalidation_set-rmse:22.5861\n",
      "[60]\ttrain_set-rmse:11.6218\tvalidation_set-rmse:22.5839\n",
      "[61]\ttrain_set-rmse:11.6175\tvalidation_set-rmse:22.5818\n",
      "[62]\ttrain_set-rmse:11.6132\tvalidation_set-rmse:22.5797\n",
      "[63]\ttrain_set-rmse:11.6088\tvalidation_set-rmse:22.5776\n",
      "[64]\ttrain_set-rmse:11.6045\tvalidation_set-rmse:22.5755\n",
      "[65]\ttrain_set-rmse:11.6002\tvalidation_set-rmse:22.5734\n",
      "[66]\ttrain_set-rmse:11.5959\tvalidation_set-rmse:22.5713\n",
      "[67]\ttrain_set-rmse:11.5916\tvalidation_set-rmse:22.5693\n",
      "[68]\ttrain_set-rmse:11.5873\tvalidation_set-rmse:22.5672\n",
      "[69]\ttrain_set-rmse:11.583\tvalidation_set-rmse:22.5651\n",
      "[70]\ttrain_set-rmse:11.5787\tvalidation_set-rmse:22.563\n",
      "[71]\ttrain_set-rmse:11.5744\tvalidation_set-rmse:22.561\n",
      "[72]\ttrain_set-rmse:11.5702\tvalidation_set-rmse:22.5589\n",
      "[73]\ttrain_set-rmse:11.5659\tvalidation_set-rmse:22.5568\n",
      "[74]\ttrain_set-rmse:11.5616\tvalidation_set-rmse:22.5547\n",
      "[75]\ttrain_set-rmse:11.5574\tvalidation_set-rmse:22.5527\n",
      "[76]\ttrain_set-rmse:11.5531\tvalidation_set-rmse:22.5506\n",
      "[77]\ttrain_set-rmse:11.5489\tvalidation_set-rmse:22.5486\n",
      "[78]\ttrain_set-rmse:11.5447\tvalidation_set-rmse:22.5466\n",
      "[79]\ttrain_set-rmse:11.5405\tvalidation_set-rmse:22.5445\n",
      "[80]\ttrain_set-rmse:11.5362\tvalidation_set-rmse:22.5425\n",
      "[81]\ttrain_set-rmse:11.532\tvalidation_set-rmse:22.5405\n",
      "[82]\ttrain_set-rmse:11.5278\tvalidation_set-rmse:22.5384\n",
      "[83]\ttrain_set-rmse:11.5236\tvalidation_set-rmse:22.5364\n",
      "[84]\ttrain_set-rmse:11.5194\tvalidation_set-rmse:22.5344\n",
      "[85]\ttrain_set-rmse:11.5153\tvalidation_set-rmse:22.5324\n",
      "[86]\ttrain_set-rmse:11.5111\tvalidation_set-rmse:22.5303\n",
      "[87]\ttrain_set-rmse:11.5069\tvalidation_set-rmse:22.5284\n",
      "[88]\ttrain_set-rmse:11.5028\tvalidation_set-rmse:22.5263\n",
      "[89]\ttrain_set-rmse:11.4986\tvalidation_set-rmse:22.5243\n",
      "[90]\ttrain_set-rmse:11.4945\tvalidation_set-rmse:22.5223\n",
      "[91]\ttrain_set-rmse:11.4903\tvalidation_set-rmse:22.5204\n",
      "[92]\ttrain_set-rmse:11.4862\tvalidation_set-rmse:22.5183\n",
      "[93]\ttrain_set-rmse:11.4821\tvalidation_set-rmse:22.5164\n",
      "[94]\ttrain_set-rmse:11.4779\tvalidation_set-rmse:22.5144\n",
      "[95]\ttrain_set-rmse:11.4738\tvalidation_set-rmse:22.5124\n",
      "[96]\ttrain_set-rmse:11.4697\tvalidation_set-rmse:22.5104\n",
      "[97]\ttrain_set-rmse:11.4656\tvalidation_set-rmse:22.5085\n",
      "[98]\ttrain_set-rmse:11.4615\tvalidation_set-rmse:22.5065\n",
      "[99]\ttrain_set-rmse:11.4574\tvalidation_set-rmse:22.5045\n",
      "[100]\ttrain_set-rmse:11.4534\tvalidation_set-rmse:22.5026\n",
      "[101]\ttrain_set-rmse:11.4493\tvalidation_set-rmse:22.5006\n",
      "[102]\ttrain_set-rmse:11.4452\tvalidation_set-rmse:22.4986\n",
      "[103]\ttrain_set-rmse:11.4412\tvalidation_set-rmse:22.4967\n",
      "[104]\ttrain_set-rmse:11.4371\tvalidation_set-rmse:22.4947\n",
      "[105]\ttrain_set-rmse:11.433\tvalidation_set-rmse:22.4928\n",
      "[106]\ttrain_set-rmse:11.429\tvalidation_set-rmse:22.4909\n",
      "[107]\ttrain_set-rmse:11.425\tvalidation_set-rmse:22.4889\n",
      "[108]\ttrain_set-rmse:11.4209\tvalidation_set-rmse:22.487\n",
      "[109]\ttrain_set-rmse:11.4169\tvalidation_set-rmse:22.4851\n",
      "[110]\ttrain_set-rmse:11.4129\tvalidation_set-rmse:22.4831\n",
      "[111]\ttrain_set-rmse:11.4089\tvalidation_set-rmse:22.4812\n",
      "[112]\ttrain_set-rmse:11.4049\tvalidation_set-rmse:22.4793\n",
      "[113]\ttrain_set-rmse:11.4009\tvalidation_set-rmse:22.4774\n",
      "[114]\ttrain_set-rmse:11.3969\tvalidation_set-rmse:22.4755\n",
      "[115]\ttrain_set-rmse:11.3929\tvalidation_set-rmse:22.4736\n",
      "[116]\ttrain_set-rmse:11.389\tvalidation_set-rmse:22.4717\n",
      "[117]\ttrain_set-rmse:11.385\tvalidation_set-rmse:22.4698\n",
      "[118]\ttrain_set-rmse:11.381\tvalidation_set-rmse:22.4679\n",
      "[119]\ttrain_set-rmse:11.3771\tvalidation_set-rmse:22.466\n",
      "[120]\ttrain_set-rmse:11.3731\tvalidation_set-rmse:22.4641\n",
      "[121]\ttrain_set-rmse:11.3692\tvalidation_set-rmse:22.4622\n",
      "[122]\ttrain_set-rmse:11.3652\tvalidation_set-rmse:22.4603\n",
      "[123]\ttrain_set-rmse:11.3613\tvalidation_set-rmse:22.4585\n",
      "[124]\ttrain_set-rmse:11.3574\tvalidation_set-rmse:22.4566\n",
      "[125]\ttrain_set-rmse:11.3535\tvalidation_set-rmse:22.4547\n",
      "[126]\ttrain_set-rmse:11.3495\tvalidation_set-rmse:22.4528\n",
      "[127]\ttrain_set-rmse:11.3456\tvalidation_set-rmse:22.451\n",
      "[128]\ttrain_set-rmse:11.3417\tvalidation_set-rmse:22.4491\n",
      "[129]\ttrain_set-rmse:11.3378\tvalidation_set-rmse:22.4473\n",
      "[130]\ttrain_set-rmse:11.334\tvalidation_set-rmse:22.4454\n",
      "[131]\ttrain_set-rmse:11.3301\tvalidation_set-rmse:22.4436\n",
      "[132]\ttrain_set-rmse:11.3262\tvalidation_set-rmse:22.4417\n",
      "[133]\ttrain_set-rmse:11.3223\tvalidation_set-rmse:22.4399\n",
      "[134]\ttrain_set-rmse:11.3185\tvalidation_set-rmse:22.438\n",
      "[135]\ttrain_set-rmse:11.3146\tvalidation_set-rmse:22.4362\n",
      "[136]\ttrain_set-rmse:11.3108\tvalidation_set-rmse:22.4343\n",
      "[137]\ttrain_set-rmse:11.3069\tvalidation_set-rmse:22.4325\n",
      "[138]\ttrain_set-rmse:11.3031\tvalidation_set-rmse:22.4307\n",
      "[139]\ttrain_set-rmse:11.2993\tvalidation_set-rmse:22.4289\n",
      "[140]\ttrain_set-rmse:11.2954\tvalidation_set-rmse:22.427\n",
      "[141]\ttrain_set-rmse:11.2916\tvalidation_set-rmse:22.4252\n",
      "[142]\ttrain_set-rmse:11.2878\tvalidation_set-rmse:22.4234\n",
      "[143]\ttrain_set-rmse:11.284\tvalidation_set-rmse:22.4216\n"
     ]
    },
    {
     "name": "stdout",
     "output_type": "stream",
     "text": [
      "[144]\ttrain_set-rmse:11.2802\tvalidation_set-rmse:22.4198\n",
      "[145]\ttrain_set-rmse:11.2764\tvalidation_set-rmse:22.418\n",
      "[146]\ttrain_set-rmse:11.2726\tvalidation_set-rmse:22.4162\n",
      "[147]\ttrain_set-rmse:11.2689\tvalidation_set-rmse:22.4144\n",
      "[148]\ttrain_set-rmse:11.2651\tvalidation_set-rmse:22.4126\n",
      "[149]\ttrain_set-rmse:11.2613\tvalidation_set-rmse:22.4108\n",
      "[150]\ttrain_set-rmse:11.2576\tvalidation_set-rmse:22.409\n",
      "[151]\ttrain_set-rmse:11.2538\tvalidation_set-rmse:22.4072\n",
      "[152]\ttrain_set-rmse:11.25\tvalidation_set-rmse:22.4055\n",
      "[153]\ttrain_set-rmse:11.2463\tvalidation_set-rmse:22.4037\n",
      "[154]\ttrain_set-rmse:11.2426\tvalidation_set-rmse:22.4019\n",
      "[155]\ttrain_set-rmse:11.2388\tvalidation_set-rmse:22.4001\n",
      "[156]\ttrain_set-rmse:11.2351\tvalidation_set-rmse:22.3984\n",
      "[157]\ttrain_set-rmse:11.2314\tvalidation_set-rmse:22.3966\n",
      "[158]\ttrain_set-rmse:11.2277\tvalidation_set-rmse:22.3949\n",
      "[159]\ttrain_set-rmse:11.224\tvalidation_set-rmse:22.3931\n",
      "[160]\ttrain_set-rmse:11.2203\tvalidation_set-rmse:22.3913\n",
      "[161]\ttrain_set-rmse:11.2166\tvalidation_set-rmse:22.3896\n",
      "[162]\ttrain_set-rmse:11.2129\tvalidation_set-rmse:22.3878\n",
      "[163]\ttrain_set-rmse:11.2092\tvalidation_set-rmse:22.3861\n",
      "[164]\ttrain_set-rmse:11.2055\tvalidation_set-rmse:22.3844\n",
      "[165]\ttrain_set-rmse:11.2019\tvalidation_set-rmse:22.3809\n",
      "[166]\ttrain_set-rmse:11.1982\tvalidation_set-rmse:22.3792\n",
      "[167]\ttrain_set-rmse:11.1945\tvalidation_set-rmse:22.3757\n",
      "[168]\ttrain_set-rmse:11.1909\tvalidation_set-rmse:22.374\n",
      "[169]\ttrain_set-rmse:11.1872\tvalidation_set-rmse:22.3706\n",
      "[170]\ttrain_set-rmse:11.1836\tvalidation_set-rmse:22.3689\n",
      "[171]\ttrain_set-rmse:11.1799\tvalidation_set-rmse:22.3655\n",
      "[172]\ttrain_set-rmse:11.1763\tvalidation_set-rmse:22.3637\n",
      "[173]\ttrain_set-rmse:11.1727\tvalidation_set-rmse:22.3603\n",
      "[174]\ttrain_set-rmse:11.169\tvalidation_set-rmse:22.3586\n",
      "[175]\ttrain_set-rmse:11.1654\tvalidation_set-rmse:22.3552\n",
      "[176]\ttrain_set-rmse:11.1618\tvalidation_set-rmse:22.3535\n",
      "[177]\ttrain_set-rmse:11.1582\tvalidation_set-rmse:22.3501\n",
      "[178]\ttrain_set-rmse:11.1546\tvalidation_set-rmse:22.3484\n",
      "[179]\ttrain_set-rmse:11.151\tvalidation_set-rmse:22.345\n",
      "[180]\ttrain_set-rmse:11.1474\tvalidation_set-rmse:22.3433\n",
      "[181]\ttrain_set-rmse:11.1438\tvalidation_set-rmse:22.3399\n",
      "[182]\ttrain_set-rmse:11.1402\tvalidation_set-rmse:22.3382\n",
      "[183]\ttrain_set-rmse:11.1366\tvalidation_set-rmse:22.3348\n",
      "[184]\ttrain_set-rmse:11.133\tvalidation_set-rmse:22.3331\n",
      "[185]\ttrain_set-rmse:11.1295\tvalidation_set-rmse:22.3298\n",
      "[186]\ttrain_set-rmse:11.1259\tvalidation_set-rmse:22.3281\n",
      "[187]\ttrain_set-rmse:11.1223\tvalidation_set-rmse:22.3247\n",
      "[188]\ttrain_set-rmse:11.1188\tvalidation_set-rmse:22.323\n",
      "[189]\ttrain_set-rmse:11.1152\tvalidation_set-rmse:22.3197\n",
      "[190]\ttrain_set-rmse:11.1116\tvalidation_set-rmse:22.3178\n",
      "[191]\ttrain_set-rmse:11.1081\tvalidation_set-rmse:22.3145\n",
      "[192]\ttrain_set-rmse:11.1046\tvalidation_set-rmse:22.3126\n",
      "[193]\ttrain_set-rmse:11.101\tvalidation_set-rmse:22.3093\n",
      "[194]\ttrain_set-rmse:11.0975\tvalidation_set-rmse:22.3075\n",
      "[195]\ttrain_set-rmse:11.094\tvalidation_set-rmse:22.3058\n",
      "[196]\ttrain_set-rmse:11.0904\tvalidation_set-rmse:22.3025\n",
      "[197]\ttrain_set-rmse:11.0869\tvalidation_set-rmse:22.3007\n",
      "[198]\ttrain_set-rmse:11.0834\tvalidation_set-rmse:22.2973\n",
      "[199]\ttrain_set-rmse:11.0799\tvalidation_set-rmse:22.2955\n",
      "[200]\ttrain_set-rmse:11.0764\tvalidation_set-rmse:22.2922\n",
      "[201]\ttrain_set-rmse:11.0729\tvalidation_set-rmse:22.2906\n",
      "[202]\ttrain_set-rmse:11.0694\tvalidation_set-rmse:22.2873\n",
      "[203]\ttrain_set-rmse:11.0659\tvalidation_set-rmse:22.2855\n",
      "[204]\ttrain_set-rmse:11.0624\tvalidation_set-rmse:22.2822\n",
      "[205]\ttrain_set-rmse:11.0589\tvalidation_set-rmse:22.2804\n",
      "[206]\ttrain_set-rmse:11.0554\tvalidation_set-rmse:22.2771\n",
      "[207]\ttrain_set-rmse:11.0519\tvalidation_set-rmse:22.2753\n",
      "[208]\ttrain_set-rmse:11.0485\tvalidation_set-rmse:22.272\n",
      "[209]\ttrain_set-rmse:11.045\tvalidation_set-rmse:22.2702\n",
      "[210]\ttrain_set-rmse:11.0415\tvalidation_set-rmse:22.2669\n",
      "[211]\ttrain_set-rmse:11.0381\tvalidation_set-rmse:22.2651\n",
      "[212]\ttrain_set-rmse:11.0346\tvalidation_set-rmse:22.2618\n",
      "[213]\ttrain_set-rmse:11.0312\tvalidation_set-rmse:22.2602\n",
      "[214]\ttrain_set-rmse:11.0277\tvalidation_set-rmse:22.2584\n",
      "[215]\ttrain_set-rmse:11.0243\tvalidation_set-rmse:22.2552\n",
      "[216]\ttrain_set-rmse:11.0208\tvalidation_set-rmse:22.2534\n",
      "[217]\ttrain_set-rmse:11.0174\tvalidation_set-rmse:22.2502\n",
      "[218]\ttrain_set-rmse:11.014\tvalidation_set-rmse:22.2485\n",
      "[219]\ttrain_set-rmse:11.0106\tvalidation_set-rmse:22.2453\n",
      "[220]\ttrain_set-rmse:11.0071\tvalidation_set-rmse:22.2435\n",
      "[221]\ttrain_set-rmse:11.0037\tvalidation_set-rmse:22.2403\n",
      "[222]\ttrain_set-rmse:11.0003\tvalidation_set-rmse:22.2385\n",
      "[223]\ttrain_set-rmse:10.9969\tvalidation_set-rmse:22.2353\n",
      "[224]\ttrain_set-rmse:10.9935\tvalidation_set-rmse:22.2335\n",
      "[225]\ttrain_set-rmse:10.9901\tvalidation_set-rmse:22.2303\n",
      "[226]\ttrain_set-rmse:10.9867\tvalidation_set-rmse:22.2286\n",
      "[227]\ttrain_set-rmse:10.9833\tvalidation_set-rmse:22.2254\n",
      "[228]\ttrain_set-rmse:10.9799\tvalidation_set-rmse:22.2238\n",
      "[229]\ttrain_set-rmse:10.9765\tvalidation_set-rmse:22.2206\n",
      "[230]\ttrain_set-rmse:10.9732\tvalidation_set-rmse:22.2188\n",
      "[231]\ttrain_set-rmse:10.9698\tvalidation_set-rmse:22.2156\n",
      "[232]\ttrain_set-rmse:10.9664\tvalidation_set-rmse:22.2139\n",
      "[233]\ttrain_set-rmse:10.9631\tvalidation_set-rmse:22.2107\n",
      "[234]\ttrain_set-rmse:10.9597\tvalidation_set-rmse:22.209\n",
      "[235]\ttrain_set-rmse:10.9563\tvalidation_set-rmse:22.2074\n",
      "[236]\ttrain_set-rmse:10.953\tvalidation_set-rmse:22.2042\n",
      "[237]\ttrain_set-rmse:10.9496\tvalidation_set-rmse:22.2025\n",
      "[238]\ttrain_set-rmse:10.9463\tvalidation_set-rmse:22.1993\n",
      "[239]\ttrain_set-rmse:10.943\tvalidation_set-rmse:22.1976\n",
      "[240]\ttrain_set-rmse:10.9396\tvalidation_set-rmse:22.1944\n",
      "[241]\ttrain_set-rmse:10.9363\tvalidation_set-rmse:22.1927\n",
      "[242]\ttrain_set-rmse:10.933\tvalidation_set-rmse:22.1896\n",
      "[243]\ttrain_set-rmse:10.9296\tvalidation_set-rmse:22.1878\n",
      "[244]\ttrain_set-rmse:10.9263\tvalidation_set-rmse:22.1847\n",
      "[245]\ttrain_set-rmse:10.923\tvalidation_set-rmse:22.1832\n",
      "[246]\ttrain_set-rmse:10.9197\tvalidation_set-rmse:22.18\n",
      "[247]\ttrain_set-rmse:10.9164\tvalidation_set-rmse:22.1783\n",
      "[248]\ttrain_set-rmse:10.9131\tvalidation_set-rmse:22.1752\n",
      "[249]\ttrain_set-rmse:10.9098\tvalidation_set-rmse:22.1735\n",
      "[250]\ttrain_set-rmse:10.9065\tvalidation_set-rmse:22.1703\n",
      "[251]\ttrain_set-rmse:10.9032\tvalidation_set-rmse:22.1686\n",
      "[252]\ttrain_set-rmse:10.8999\tvalidation_set-rmse:22.1655\n",
      "[253]\ttrain_set-rmse:10.8967\tvalidation_set-rmse:22.1638\n",
      "[254]\ttrain_set-rmse:10.8934\tvalidation_set-rmse:22.1623\n",
      "[255]\ttrain_set-rmse:10.8901\tvalidation_set-rmse:22.1592\n",
      "[256]\ttrain_set-rmse:10.8868\tvalidation_set-rmse:22.1575\n",
      "[257]\ttrain_set-rmse:10.8836\tvalidation_set-rmse:22.1544\n",
      "[258]\ttrain_set-rmse:10.8803\tvalidation_set-rmse:22.1527\n",
      "[259]\ttrain_set-rmse:10.8771\tvalidation_set-rmse:22.1496\n",
      "[260]\ttrain_set-rmse:10.8738\tvalidation_set-rmse:22.148\n",
      "[261]\ttrain_set-rmse:10.8706\tvalidation_set-rmse:22.1449\n",
      "[262]\ttrain_set-rmse:10.8673\tvalidation_set-rmse:22.1433\n",
      "[263]\ttrain_set-rmse:10.8641\tvalidation_set-rmse:22.1402\n",
      "[264]\ttrain_set-rmse:10.8609\tvalidation_set-rmse:22.1386\n",
      "[265]\ttrain_set-rmse:10.8576\tvalidation_set-rmse:22.1355\n",
      "[266]\ttrain_set-rmse:10.8544\tvalidation_set-rmse:22.1339\n",
      "[267]\ttrain_set-rmse:10.8512\tvalidation_set-rmse:22.1308\n",
      "[268]\ttrain_set-rmse:10.848\tvalidation_set-rmse:22.1291\n",
      "[269]\ttrain_set-rmse:10.8448\tvalidation_set-rmse:22.1261\n",
      "[270]\ttrain_set-rmse:10.8415\tvalidation_set-rmse:22.1246\n",
      "[271]\ttrain_set-rmse:10.8383\tvalidation_set-rmse:22.1229\n",
      "[272]\ttrain_set-rmse:10.8351\tvalidation_set-rmse:22.1199\n",
      "[273]\ttrain_set-rmse:10.8319\tvalidation_set-rmse:22.1182\n",
      "[274]\ttrain_set-rmse:10.8287\tvalidation_set-rmse:22.1152\n",
      "[275]\ttrain_set-rmse:10.8256\tvalidation_set-rmse:22.1136\n",
      "[276]\ttrain_set-rmse:10.8224\tvalidation_set-rmse:22.1105\n",
      "[277]\ttrain_set-rmse:10.8192\tvalidation_set-rmse:22.1091\n",
      "[278]\ttrain_set-rmse:10.816\tvalidation_set-rmse:22.106\n",
      "[279]\ttrain_set-rmse:10.8128\tvalidation_set-rmse:22.1044\n",
      "[280]\ttrain_set-rmse:10.8097\tvalidation_set-rmse:22.1013\n",
      "[281]\ttrain_set-rmse:10.8065\tvalidation_set-rmse:22.0997\n",
      "[282]\ttrain_set-rmse:10.8034\tvalidation_set-rmse:22.0967\n",
      "[283]\ttrain_set-rmse:10.8002\tvalidation_set-rmse:22.0951\n",
      "[284]\ttrain_set-rmse:10.797\tvalidation_set-rmse:22.0921\n",
      "[285]\ttrain_set-rmse:10.7939\tvalidation_set-rmse:22.0905\n",
      "[286]\ttrain_set-rmse:10.7908\tvalidation_set-rmse:22.0874\n",
      "[287]\ttrain_set-rmse:10.7876\tvalidation_set-rmse:22.086\n",
      "[288]\ttrain_set-rmse:10.7845\tvalidation_set-rmse:22.083\n"
     ]
    },
    {
     "name": "stdout",
     "output_type": "stream",
     "text": [
      "[289]\ttrain_set-rmse:10.7813\tvalidation_set-rmse:22.0814\n",
      "[290]\ttrain_set-rmse:10.7782\tvalidation_set-rmse:22.0784\n",
      "[291]\ttrain_set-rmse:10.7751\tvalidation_set-rmse:22.0768\n",
      "[292]\ttrain_set-rmse:10.772\tvalidation_set-rmse:22.0738\n",
      "[293]\ttrain_set-rmse:10.7689\tvalidation_set-rmse:22.0722\n",
      "[294]\ttrain_set-rmse:10.7657\tvalidation_set-rmse:22.0708\n",
      "[295]\ttrain_set-rmse:10.7626\tvalidation_set-rmse:22.0678\n",
      "[296]\ttrain_set-rmse:10.7595\tvalidation_set-rmse:22.0662\n",
      "[297]\ttrain_set-rmse:10.7564\tvalidation_set-rmse:22.0632\n",
      "[298]\ttrain_set-rmse:10.7533\tvalidation_set-rmse:22.0617\n",
      "[299]\ttrain_set-rmse:10.7502\tvalidation_set-rmse:22.0587\n",
      "[300]\ttrain_set-rmse:10.7472\tvalidation_set-rmse:22.0571\n",
      "[301]\ttrain_set-rmse:10.7441\tvalidation_set-rmse:22.0541\n",
      "[302]\ttrain_set-rmse:10.741\tvalidation_set-rmse:22.0526\n",
      "[303]\ttrain_set-rmse:10.7379\tvalidation_set-rmse:22.0496\n",
      "[304]\ttrain_set-rmse:10.7348\tvalidation_set-rmse:22.0482\n",
      "[305]\ttrain_set-rmse:10.7318\tvalidation_set-rmse:22.0452\n",
      "[306]\ttrain_set-rmse:10.7287\tvalidation_set-rmse:22.0437\n",
      "[307]\ttrain_set-rmse:10.7257\tvalidation_set-rmse:22.0407\n",
      "[308]\ttrain_set-rmse:10.7226\tvalidation_set-rmse:22.0392\n",
      "[309]\ttrain_set-rmse:10.7195\tvalidation_set-rmse:22.0362\n",
      "[310]\ttrain_set-rmse:10.7165\tvalidation_set-rmse:22.0347\n",
      "[311]\ttrain_set-rmse:10.7135\tvalidation_set-rmse:22.0318\n",
      "[312]\ttrain_set-rmse:10.7104\tvalidation_set-rmse:22.0302\n",
      "[313]\ttrain_set-rmse:10.7074\tvalidation_set-rmse:22.0288\n",
      "[314]\ttrain_set-rmse:10.7043\tvalidation_set-rmse:22.0259\n",
      "[315]\ttrain_set-rmse:10.7013\tvalidation_set-rmse:22.0244\n",
      "[316]\ttrain_set-rmse:10.6983\tvalidation_set-rmse:22.0215\n",
      "[317]\ttrain_set-rmse:10.6953\tvalidation_set-rmse:22.0199\n",
      "[318]\ttrain_set-rmse:10.6923\tvalidation_set-rmse:22.017\n",
      "[319]\ttrain_set-rmse:10.6892\tvalidation_set-rmse:22.0155\n",
      "[320]\ttrain_set-rmse:10.6862\tvalidation_set-rmse:22.0126\n",
      "[321]\ttrain_set-rmse:10.6832\tvalidation_set-rmse:22.0112\n",
      "[322]\ttrain_set-rmse:10.6802\tvalidation_set-rmse:22.0083\n",
      "[323]\ttrain_set-rmse:10.6772\tvalidation_set-rmse:22.0068\n",
      "[324]\ttrain_set-rmse:10.6742\tvalidation_set-rmse:22.0039\n",
      "[325]\ttrain_set-rmse:10.6712\tvalidation_set-rmse:22.0024\n",
      "[326]\ttrain_set-rmse:10.6683\tvalidation_set-rmse:21.9995\n",
      "[327]\ttrain_set-rmse:10.6653\tvalidation_set-rmse:21.998\n",
      "[328]\ttrain_set-rmse:10.6623\tvalidation_set-rmse:21.9951\n",
      "[329]\ttrain_set-rmse:10.6593\tvalidation_set-rmse:21.9936\n",
      "[330]\ttrain_set-rmse:10.6564\tvalidation_set-rmse:21.9913\n",
      "[331]\ttrain_set-rmse:10.6534\tvalidation_set-rmse:21.99\n",
      "[332]\ttrain_set-rmse:10.6504\tvalidation_set-rmse:21.9871\n",
      "[333]\ttrain_set-rmse:10.6475\tvalidation_set-rmse:21.9856\n",
      "[334]\ttrain_set-rmse:10.6445\tvalidation_set-rmse:21.9833\n",
      "[335]\ttrain_set-rmse:10.6416\tvalidation_set-rmse:21.9818\n",
      "[336]\ttrain_set-rmse:10.6386\tvalidation_set-rmse:21.9796\n",
      "[337]\ttrain_set-rmse:10.6357\tvalidation_set-rmse:21.9781\n",
      "[338]\ttrain_set-rmse:10.6327\tvalidation_set-rmse:21.9758\n",
      "[339]\ttrain_set-rmse:10.6298\tvalidation_set-rmse:21.9745\n",
      "[340]\ttrain_set-rmse:10.6268\tvalidation_set-rmse:21.9716\n",
      "[341]\ttrain_set-rmse:10.6239\tvalidation_set-rmse:21.9694\n",
      "[342]\ttrain_set-rmse:10.621\tvalidation_set-rmse:21.9679\n",
      "[343]\ttrain_set-rmse:10.618\tvalidation_set-rmse:21.9656\n",
      "[344]\ttrain_set-rmse:10.6151\tvalidation_set-rmse:21.9642\n",
      "[345]\ttrain_set-rmse:10.6122\tvalidation_set-rmse:21.9619\n",
      "[346]\ttrain_set-rmse:10.6093\tvalidation_set-rmse:21.9604\n",
      "[347]\ttrain_set-rmse:10.6064\tvalidation_set-rmse:21.9576\n",
      "[348]\ttrain_set-rmse:10.6035\tvalidation_set-rmse:21.9561\n",
      "[349]\ttrain_set-rmse:10.6006\tvalidation_set-rmse:21.9539\n",
      "[350]\ttrain_set-rmse:10.5977\tvalidation_set-rmse:21.9526\n",
      "[351]\ttrain_set-rmse:10.5947\tvalidation_set-rmse:21.9504\n",
      "[352]\ttrain_set-rmse:10.5919\tvalidation_set-rmse:21.9489\n",
      "[353]\ttrain_set-rmse:10.589\tvalidation_set-rmse:21.9467\n",
      "[354]\ttrain_set-rmse:10.5861\tvalidation_set-rmse:21.9452\n",
      "[355]\ttrain_set-rmse:10.5832\tvalidation_set-rmse:21.9424\n",
      "[356]\ttrain_set-rmse:10.5803\tvalidation_set-rmse:21.9402\n",
      "[357]\ttrain_set-rmse:10.5774\tvalidation_set-rmse:21.9387\n",
      "[358]\ttrain_set-rmse:10.5745\tvalidation_set-rmse:21.9365\n",
      "[359]\ttrain_set-rmse:10.5717\tvalidation_set-rmse:21.9352\n",
      "[360]\ttrain_set-rmse:10.5688\tvalidation_set-rmse:21.9324\n",
      "[361]\ttrain_set-rmse:10.5659\tvalidation_set-rmse:21.931\n",
      "[362]\ttrain_set-rmse:10.5631\tvalidation_set-rmse:21.9288\n",
      "[363]\ttrain_set-rmse:10.5602\tvalidation_set-rmse:21.9273\n",
      "[364]\ttrain_set-rmse:10.5573\tvalidation_set-rmse:21.9251\n",
      "[365]\ttrain_set-rmse:10.5545\tvalidation_set-rmse:21.9237\n",
      "[366]\ttrain_set-rmse:10.5516\tvalidation_set-rmse:21.9215\n",
      "[367]\ttrain_set-rmse:10.5488\tvalidation_set-rmse:21.9202\n",
      "[368]\ttrain_set-rmse:10.546\tvalidation_set-rmse:21.918\n",
      "[369]\ttrain_set-rmse:10.5431\tvalidation_set-rmse:21.9166\n",
      "[370]\ttrain_set-rmse:10.5403\tvalidation_set-rmse:21.9138\n",
      "[371]\ttrain_set-rmse:10.5374\tvalidation_set-rmse:21.9116\n",
      "[372]\ttrain_set-rmse:10.5346\tvalidation_set-rmse:21.9102\n",
      "[373]\ttrain_set-rmse:10.5318\tvalidation_set-rmse:21.908\n",
      "[374]\ttrain_set-rmse:10.529\tvalidation_set-rmse:21.9066\n",
      "[375]\ttrain_set-rmse:10.5261\tvalidation_set-rmse:21.9038\n",
      "[376]\ttrain_set-rmse:10.5233\tvalidation_set-rmse:21.9024\n",
      "[377]\ttrain_set-rmse:10.5205\tvalidation_set-rmse:21.9003\n",
      "[378]\ttrain_set-rmse:10.5177\tvalidation_set-rmse:21.899\n",
      "[379]\ttrain_set-rmse:10.5149\tvalidation_set-rmse:21.8968\n",
      "[380]\ttrain_set-rmse:10.5121\tvalidation_set-rmse:21.8954\n",
      "[381]\ttrain_set-rmse:10.5093\tvalidation_set-rmse:21.8933\n",
      "[382]\ttrain_set-rmse:10.5065\tvalidation_set-rmse:21.8919\n",
      "[383]\ttrain_set-rmse:10.5037\tvalidation_set-rmse:21.8891\n",
      "[384]\ttrain_set-rmse:10.5009\tvalidation_set-rmse:21.8869\n",
      "[385]\ttrain_set-rmse:10.4981\tvalidation_set-rmse:21.8856\n",
      "[386]\ttrain_set-rmse:10.4953\tvalidation_set-rmse:21.8834\n",
      "[387]\ttrain_set-rmse:10.4925\tvalidation_set-rmse:21.8822\n",
      "[388]\ttrain_set-rmse:10.4897\tvalidation_set-rmse:21.88\n",
      "[389]\ttrain_set-rmse:10.487\tvalidation_set-rmse:21.8786\n",
      "[390]\ttrain_set-rmse:10.4842\tvalidation_set-rmse:21.8759\n",
      "[391]\ttrain_set-rmse:10.4814\tvalidation_set-rmse:21.8745\n",
      "[392]\ttrain_set-rmse:10.4787\tvalidation_set-rmse:21.8724\n",
      "[393]\ttrain_set-rmse:10.4759\tvalidation_set-rmse:21.871\n",
      "[394]\ttrain_set-rmse:10.4731\tvalidation_set-rmse:21.8689\n",
      "[395]\ttrain_set-rmse:10.4704\tvalidation_set-rmse:21.8676\n",
      "[396]\ttrain_set-rmse:10.4676\tvalidation_set-rmse:21.8655\n",
      "[397]\ttrain_set-rmse:10.4649\tvalidation_set-rmse:21.8641\n",
      "[398]\ttrain_set-rmse:10.4621\tvalidation_set-rmse:21.8614\n",
      "[399]\ttrain_set-rmse:10.4594\tvalidation_set-rmse:21.8593\n",
      "[400]\ttrain_set-rmse:10.4566\tvalidation_set-rmse:21.8579\n",
      "[401]\ttrain_set-rmse:10.4539\tvalidation_set-rmse:21.8558\n",
      "[402]\ttrain_set-rmse:10.4512\tvalidation_set-rmse:21.8544\n",
      "[403]\ttrain_set-rmse:10.4484\tvalidation_set-rmse:21.8517\n",
      "[404]\ttrain_set-rmse:10.4457\tvalidation_set-rmse:21.8504\n",
      "[405]\ttrain_set-rmse:10.443\tvalidation_set-rmse:21.8483\n",
      "[406]\ttrain_set-rmse:10.4403\tvalidation_set-rmse:21.847\n",
      "[407]\ttrain_set-rmse:10.4375\tvalidation_set-rmse:21.8449\n",
      "[408]\ttrain_set-rmse:10.4348\tvalidation_set-rmse:21.8436\n",
      "[409]\ttrain_set-rmse:10.4321\tvalidation_set-rmse:21.8415\n",
      "[410]\ttrain_set-rmse:10.4294\tvalidation_set-rmse:21.8401\n",
      "[411]\ttrain_set-rmse:10.4267\tvalidation_set-rmse:21.838\n",
      "[412]\ttrain_set-rmse:10.424\tvalidation_set-rmse:21.8353\n",
      "[413]\ttrain_set-rmse:10.4213\tvalidation_set-rmse:21.834\n",
      "[414]\ttrain_set-rmse:10.4186\tvalidation_set-rmse:21.832\n",
      "[415]\ttrain_set-rmse:10.4159\tvalidation_set-rmse:21.8306\n",
      "[416]\ttrain_set-rmse:10.4132\tvalidation_set-rmse:21.8285\n",
      "[417]\ttrain_set-rmse:10.4105\tvalidation_set-rmse:21.8273\n",
      "[418]\ttrain_set-rmse:10.4078\tvalidation_set-rmse:21.8247\n",
      "[419]\ttrain_set-rmse:10.4051\tvalidation_set-rmse:21.8234\n",
      "[420]\ttrain_set-rmse:10.4025\tvalidation_set-rmse:21.8213\n",
      "[421]\ttrain_set-rmse:10.3998\tvalidation_set-rmse:21.82\n",
      "[422]\ttrain_set-rmse:10.3971\tvalidation_set-rmse:21.818\n",
      "[423]\ttrain_set-rmse:10.3945\tvalidation_set-rmse:21.8168\n",
      "[424]\ttrain_set-rmse:10.3918\tvalidation_set-rmse:21.8147\n",
      "[425]\ttrain_set-rmse:10.3891\tvalidation_set-rmse:21.8134\n",
      "[426]\ttrain_set-rmse:10.3865\tvalidation_set-rmse:21.8114\n",
      "[427]\ttrain_set-rmse:10.3838\tvalidation_set-rmse:21.8088\n",
      "[428]\ttrain_set-rmse:10.3811\tvalidation_set-rmse:21.8075\n",
      "[429]\ttrain_set-rmse:10.3785\tvalidation_set-rmse:21.8054\n",
      "[430]\ttrain_set-rmse:10.3758\tvalidation_set-rmse:21.8041\n",
      "[431]\ttrain_set-rmse:10.3732\tvalidation_set-rmse:21.8021\n",
      "[432]\ttrain_set-rmse:10.3706\tvalidation_set-rmse:21.8008\n",
      "[433]\ttrain_set-rmse:10.3679\tvalidation_set-rmse:21.7982\n"
     ]
    },
    {
     "name": "stdout",
     "output_type": "stream",
     "text": [
      "[434]\ttrain_set-rmse:10.3653\tvalidation_set-rmse:21.7962\n",
      "[435]\ttrain_set-rmse:10.3627\tvalidation_set-rmse:21.7949\n",
      "[436]\ttrain_set-rmse:10.36\tvalidation_set-rmse:21.7937\n",
      "[437]\ttrain_set-rmse:10.3574\tvalidation_set-rmse:21.7917\n",
      "[438]\ttrain_set-rmse:10.3548\tvalidation_set-rmse:21.7904\n",
      "[439]\ttrain_set-rmse:10.3521\tvalidation_set-rmse:21.7884\n",
      "[440]\ttrain_set-rmse:10.3495\tvalidation_set-rmse:21.7858\n",
      "[441]\ttrain_set-rmse:10.3469\tvalidation_set-rmse:21.7845\n",
      "[442]\ttrain_set-rmse:10.3443\tvalidation_set-rmse:21.7825\n",
      "[443]\ttrain_set-rmse:10.3417\tvalidation_set-rmse:21.7812\n",
      "[444]\ttrain_set-rmse:10.3391\tvalidation_set-rmse:21.7792\n",
      "[445]\ttrain_set-rmse:10.3365\tvalidation_set-rmse:21.778\n",
      "[446]\ttrain_set-rmse:10.3339\tvalidation_set-rmse:21.7761\n",
      "[447]\ttrain_set-rmse:10.3313\tvalidation_set-rmse:21.7748\n",
      "[448]\ttrain_set-rmse:10.3287\tvalidation_set-rmse:21.7722\n",
      "[449]\ttrain_set-rmse:10.3261\tvalidation_set-rmse:21.7702\n",
      "[450]\ttrain_set-rmse:10.3235\tvalidation_set-rmse:21.7689\n",
      "[451]\ttrain_set-rmse:10.3209\tvalidation_set-rmse:21.7669\n",
      "[452]\ttrain_set-rmse:10.3183\tvalidation_set-rmse:21.7656\n",
      "[453]\ttrain_set-rmse:10.3158\tvalidation_set-rmse:21.7631\n",
      "[454]\ttrain_set-rmse:10.3132\tvalidation_set-rmse:21.7618\n",
      "[455]\ttrain_set-rmse:10.3106\tvalidation_set-rmse:21.7598\n",
      "[456]\ttrain_set-rmse:10.308\tvalidation_set-rmse:21.7587\n",
      "[457]\ttrain_set-rmse:10.3055\tvalidation_set-rmse:21.7567\n",
      "[458]\ttrain_set-rmse:10.3029\tvalidation_set-rmse:21.7555\n",
      "[459]\ttrain_set-rmse:10.3004\tvalidation_set-rmse:21.7535\n",
      "[460]\ttrain_set-rmse:10.2978\tvalidation_set-rmse:21.7522\n",
      "[461]\ttrain_set-rmse:10.2952\tvalidation_set-rmse:21.7503\n",
      "[462]\ttrain_set-rmse:10.2927\tvalidation_set-rmse:21.7492\n",
      "[463]\ttrain_set-rmse:10.2901\tvalidation_set-rmse:21.7466\n",
      "[464]\ttrain_set-rmse:10.2876\tvalidation_set-rmse:21.7465\n",
      "[465]\ttrain_set-rmse:10.285\tvalidation_set-rmse:21.7453\n",
      "[466]\ttrain_set-rmse:10.2825\tvalidation_set-rmse:21.7433\n",
      "[467]\ttrain_set-rmse:10.28\tvalidation_set-rmse:21.7432\n",
      "[468]\ttrain_set-rmse:10.2774\tvalidation_set-rmse:21.742\n",
      "[469]\ttrain_set-rmse:10.2749\tvalidation_set-rmse:21.7419\n",
      "[470]\ttrain_set-rmse:10.2724\tvalidation_set-rmse:21.7407\n",
      "[471]\ttrain_set-rmse:10.2698\tvalidation_set-rmse:21.7387\n",
      "[472]\ttrain_set-rmse:10.2673\tvalidation_set-rmse:21.7376\n",
      "[473]\ttrain_set-rmse:10.2648\tvalidation_set-rmse:21.7375\n",
      "[474]\ttrain_set-rmse:10.2623\tvalidation_set-rmse:21.735\n",
      "[475]\ttrain_set-rmse:10.2597\tvalidation_set-rmse:21.7337\n",
      "[476]\ttrain_set-rmse:10.2572\tvalidation_set-rmse:21.7336\n",
      "[477]\ttrain_set-rmse:10.2547\tvalidation_set-rmse:21.7317\n",
      "[478]\ttrain_set-rmse:10.2522\tvalidation_set-rmse:21.7305\n",
      "[479]\ttrain_set-rmse:10.2497\tvalidation_set-rmse:21.7304\n",
      "[480]\ttrain_set-rmse:10.2472\tvalidation_set-rmse:21.7292\n",
      "[481]\ttrain_set-rmse:10.2447\tvalidation_set-rmse:21.7272\n",
      "[482]\ttrain_set-rmse:10.2422\tvalidation_set-rmse:21.7272\n",
      "[483]\ttrain_set-rmse:10.2397\tvalidation_set-rmse:21.7259\n",
      "[484]\ttrain_set-rmse:10.2372\tvalidation_set-rmse:21.7234\n",
      "[485]\ttrain_set-rmse:10.2347\tvalidation_set-rmse:21.7233\n",
      "[486]\ttrain_set-rmse:10.2322\tvalidation_set-rmse:21.7221\n",
      "[487]\ttrain_set-rmse:10.2297\tvalidation_set-rmse:21.7202\n",
      "[488]\ttrain_set-rmse:10.2272\tvalidation_set-rmse:21.7191\n",
      "[489]\ttrain_set-rmse:10.2247\tvalidation_set-rmse:21.719\n",
      "[490]\ttrain_set-rmse:10.2223\tvalidation_set-rmse:21.7178\n",
      "[491]\ttrain_set-rmse:10.2198\tvalidation_set-rmse:21.7177\n",
      "[492]\ttrain_set-rmse:10.2173\tvalidation_set-rmse:21.7158\n",
      "[493]\ttrain_set-rmse:10.2148\tvalidation_set-rmse:21.7146\n",
      "[494]\ttrain_set-rmse:10.2124\tvalidation_set-rmse:21.7145\n",
      "[495]\ttrain_set-rmse:10.2099\tvalidation_set-rmse:21.7135\n",
      "[496]\ttrain_set-rmse:10.2074\tvalidation_set-rmse:21.7115\n",
      "[497]\ttrain_set-rmse:10.205\tvalidation_set-rmse:21.7103\n",
      "[498]\ttrain_set-rmse:10.2025\tvalidation_set-rmse:21.7102\n",
      "[499]\ttrain_set-rmse:10.2\tvalidation_set-rmse:21.7078\n",
      "[500]\ttrain_set-rmse:10.1976\tvalidation_set-rmse:21.7077\n",
      "[501]\ttrain_set-rmse:10.1951\tvalidation_set-rmse:21.7065\n",
      "[502]\ttrain_set-rmse:10.1927\tvalidation_set-rmse:21.7046\n",
      "[503]\ttrain_set-rmse:10.1902\tvalidation_set-rmse:21.7034\n",
      "[504]\ttrain_set-rmse:10.1878\tvalidation_set-rmse:21.7033\n",
      "[505]\ttrain_set-rmse:10.1853\tvalidation_set-rmse:21.7021\n",
      "[506]\ttrain_set-rmse:10.1829\tvalidation_set-rmse:21.7002\n",
      "[507]\ttrain_set-rmse:10.1805\tvalidation_set-rmse:21.7001\n",
      "[508]\ttrain_set-rmse:10.178\tvalidation_set-rmse:21.6991\n",
      "[509]\ttrain_set-rmse:10.1756\tvalidation_set-rmse:21.699\n",
      "[510]\ttrain_set-rmse:10.1732\tvalidation_set-rmse:21.6978\n",
      "[511]\ttrain_set-rmse:10.1707\tvalidation_set-rmse:21.6959\n",
      "[512]\ttrain_set-rmse:10.1683\tvalidation_set-rmse:21.6935\n",
      "[513]\ttrain_set-rmse:10.1659\tvalidation_set-rmse:21.6934\n",
      "[514]\ttrain_set-rmse:10.1635\tvalidation_set-rmse:21.6922\n",
      "[515]\ttrain_set-rmse:10.161\tvalidation_set-rmse:21.6922\n",
      "[516]\ttrain_set-rmse:10.1586\tvalidation_set-rmse:21.691\n",
      "[517]\ttrain_set-rmse:10.1562\tvalidation_set-rmse:21.6891\n",
      "[518]\ttrain_set-rmse:10.1538\tvalidation_set-rmse:21.6879\n",
      "[519]\ttrain_set-rmse:10.1514\tvalidation_set-rmse:21.6879\n",
      "[520]\ttrain_set-rmse:10.149\tvalidation_set-rmse:21.6854\n",
      "[521]\ttrain_set-rmse:10.1466\tvalidation_set-rmse:21.6844\n",
      "[522]\ttrain_set-rmse:10.1442\tvalidation_set-rmse:21.6843\n",
      "[523]\ttrain_set-rmse:10.1418\tvalidation_set-rmse:21.6831\n",
      "[524]\ttrain_set-rmse:10.1394\tvalidation_set-rmse:21.6812\n",
      "[525]\ttrain_set-rmse:10.137\tvalidation_set-rmse:21.6812\n",
      "[526]\ttrain_set-rmse:10.1346\tvalidation_set-rmse:21.68\n",
      "[527]\ttrain_set-rmse:10.1322\tvalidation_set-rmse:21.6781\n",
      "[528]\ttrain_set-rmse:10.1298\tvalidation_set-rmse:21.6781\n",
      "[529]\ttrain_set-rmse:10.1274\tvalidation_set-rmse:21.6769\n",
      "[530]\ttrain_set-rmse:10.1251\tvalidation_set-rmse:21.6759\n",
      "[531]\ttrain_set-rmse:10.1227\tvalidation_set-rmse:21.6758\n",
      "[532]\ttrain_set-rmse:10.1203\tvalidation_set-rmse:21.6739\n",
      "[533]\ttrain_set-rmse:10.1179\tvalidation_set-rmse:21.6728\n",
      "[534]\ttrain_set-rmse:10.1156\tvalidation_set-rmse:21.6727\n",
      "[535]\ttrain_set-rmse:10.1132\tvalidation_set-rmse:21.6703\n",
      "[536]\ttrain_set-rmse:10.1108\tvalidation_set-rmse:21.6691\n",
      "[537]\ttrain_set-rmse:10.1084\tvalidation_set-rmse:21.669\n",
      "[538]\ttrain_set-rmse:10.1061\tvalidation_set-rmse:21.6672\n",
      "[539]\ttrain_set-rmse:10.1037\tvalidation_set-rmse:21.6661\n",
      "[540]\ttrain_set-rmse:10.1014\tvalidation_set-rmse:21.666\n",
      "[541]\ttrain_set-rmse:10.099\tvalidation_set-rmse:21.665\n",
      "[542]\ttrain_set-rmse:10.0967\tvalidation_set-rmse:21.6631\n",
      "[543]\ttrain_set-rmse:10.0943\tvalidation_set-rmse:21.662\n",
      "[544]\ttrain_set-rmse:10.092\tvalidation_set-rmse:21.6619\n",
      "[545]\ttrain_set-rmse:10.0896\tvalidation_set-rmse:21.6595\n",
      "[546]\ttrain_set-rmse:10.0873\tvalidation_set-rmse:21.6594\n",
      "[547]\ttrain_set-rmse:10.0849\tvalidation_set-rmse:21.6583\n",
      "[548]\ttrain_set-rmse:10.0826\tvalidation_set-rmse:21.6565\n",
      "[549]\ttrain_set-rmse:10.0803\tvalidation_set-rmse:21.6554\n",
      "[550]\ttrain_set-rmse:10.0779\tvalidation_set-rmse:21.6553\n",
      "[551]\ttrain_set-rmse:10.0756\tvalidation_set-rmse:21.6542\n",
      "[552]\ttrain_set-rmse:10.0733\tvalidation_set-rmse:21.6541\n",
      "[553]\ttrain_set-rmse:10.0709\tvalidation_set-rmse:21.6522\n",
      "[554]\ttrain_set-rmse:10.0686\tvalidation_set-rmse:21.6512\n",
      "[555]\ttrain_set-rmse:10.0663\tvalidation_set-rmse:21.6511\n",
      "[556]\ttrain_set-rmse:10.064\tvalidation_set-rmse:21.65\n",
      "[557]\ttrain_set-rmse:10.0616\tvalidation_set-rmse:21.6482\n",
      "[558]\ttrain_set-rmse:10.0593\tvalidation_set-rmse:21.6471\n",
      "[559]\ttrain_set-rmse:10.057\tvalidation_set-rmse:21.647\n",
      "[560]\ttrain_set-rmse:10.0547\tvalidation_set-rmse:21.6446\n",
      "[561]\ttrain_set-rmse:10.0524\tvalidation_set-rmse:21.6446\n",
      "[562]\ttrain_set-rmse:10.0501\tvalidation_set-rmse:21.6435\n",
      "[563]\ttrain_set-rmse:10.0478\tvalidation_set-rmse:21.6417\n",
      "[564]\ttrain_set-rmse:10.0455\tvalidation_set-rmse:21.6405\n",
      "[565]\ttrain_set-rmse:10.0432\tvalidation_set-rmse:21.6405\n",
      "[566]\ttrain_set-rmse:10.0409\tvalidation_set-rmse:21.6395\n",
      "[567]\ttrain_set-rmse:10.0386\tvalidation_set-rmse:21.6394\n",
      "[568]\ttrain_set-rmse:10.0363\tvalidation_set-rmse:21.6371\n",
      "[569]\ttrain_set-rmse:10.034\tvalidation_set-rmse:21.636\n",
      "[570]\ttrain_set-rmse:10.0317\tvalidation_set-rmse:21.6342\n",
      "[571]\ttrain_set-rmse:10.0294\tvalidation_set-rmse:21.6341\n",
      "[572]\ttrain_set-rmse:10.0272\tvalidation_set-rmse:21.633\n",
      "[573]\ttrain_set-rmse:10.0249\tvalidation_set-rmse:21.6329\n",
      "[574]\ttrain_set-rmse:10.0226\tvalidation_set-rmse:21.6318\n",
      "[575]\ttrain_set-rmse:10.0203\tvalidation_set-rmse:21.63\n",
      "[576]\ttrain_set-rmse:10.0181\tvalidation_set-rmse:21.629\n",
      "[577]\ttrain_set-rmse:10.0158\tvalidation_set-rmse:21.629\n",
      "[578]\ttrain_set-rmse:10.0135\tvalidation_set-rmse:21.6272\n"
     ]
    },
    {
     "name": "stdout",
     "output_type": "stream",
     "text": [
      "[579]\ttrain_set-rmse:10.0113\tvalidation_set-rmse:21.6261\n",
      "[580]\ttrain_set-rmse:10.009\tvalidation_set-rmse:21.626\n",
      "[581]\ttrain_set-rmse:10.0067\tvalidation_set-rmse:21.6249\n",
      "[582]\ttrain_set-rmse:10.0045\tvalidation_set-rmse:21.6232\n",
      "[583]\ttrain_set-rmse:10.0022\tvalidation_set-rmse:21.6208\n",
      "[584]\ttrain_set-rmse:9.99996\tvalidation_set-rmse:21.6208\n",
      "[585]\ttrain_set-rmse:9.99771\tvalidation_set-rmse:21.6197\n",
      "[586]\ttrain_set-rmse:9.99546\tvalidation_set-rmse:21.6196\n",
      "[587]\ttrain_set-rmse:9.99321\tvalidation_set-rmse:21.6186\n",
      "[588]\ttrain_set-rmse:9.99097\tvalidation_set-rmse:21.6169\n",
      "[589]\ttrain_set-rmse:9.98872\tvalidation_set-rmse:21.6158\n",
      "[590]\ttrain_set-rmse:9.98648\tvalidation_set-rmse:21.6157\n",
      "[591]\ttrain_set-rmse:9.98424\tvalidation_set-rmse:21.6146\n",
      "[592]\ttrain_set-rmse:9.98201\tvalidation_set-rmse:21.6128\n",
      "[593]\ttrain_set-rmse:9.97977\tvalidation_set-rmse:21.6128\n",
      "[594]\ttrain_set-rmse:9.97754\tvalidation_set-rmse:21.6117\n",
      "[595]\ttrain_set-rmse:9.97531\tvalidation_set-rmse:21.6094\n",
      "[596]\ttrain_set-rmse:9.97308\tvalidation_set-rmse:21.6093\n",
      "[597]\ttrain_set-rmse:9.97086\tvalidation_set-rmse:21.6082\n",
      "[598]\ttrain_set-rmse:9.96864\tvalidation_set-rmse:21.6065\n",
      "[599]\ttrain_set-rmse:9.96642\tvalidation_set-rmse:21.6064\n",
      "[600]\ttrain_set-rmse:9.9642\tvalidation_set-rmse:21.6055\n",
      "[601]\ttrain_set-rmse:9.96198\tvalidation_set-rmse:21.6037\n",
      "[602]\ttrain_set-rmse:9.95977\tvalidation_set-rmse:21.6027\n",
      "[603]\ttrain_set-rmse:9.95756\tvalidation_set-rmse:21.6026\n",
      "[604]\ttrain_set-rmse:9.95535\tvalidation_set-rmse:21.6015\n",
      "[605]\ttrain_set-rmse:9.95314\tvalidation_set-rmse:21.5998\n",
      "[606]\ttrain_set-rmse:9.95094\tvalidation_set-rmse:21.5997\n",
      "[607]\ttrain_set-rmse:9.94874\tvalidation_set-rmse:21.5987\n",
      "[608]\ttrain_set-rmse:9.94654\tvalidation_set-rmse:21.5964\n",
      "[609]\ttrain_set-rmse:9.94434\tvalidation_set-rmse:21.5963\n",
      "[610]\ttrain_set-rmse:9.94214\tvalidation_set-rmse:21.5953\n",
      "[611]\ttrain_set-rmse:9.93995\tvalidation_set-rmse:21.5935\n",
      "[612]\ttrain_set-rmse:9.93776\tvalidation_set-rmse:21.5926\n",
      "[613]\ttrain_set-rmse:9.93557\tvalidation_set-rmse:21.5925\n",
      "[614]\ttrain_set-rmse:9.93338\tvalidation_set-rmse:21.5915\n",
      "[615]\ttrain_set-rmse:9.9312\tvalidation_set-rmse:21.5897\n",
      "[616]\ttrain_set-rmse:9.92901\tvalidation_set-rmse:21.5897\n",
      "[617]\ttrain_set-rmse:9.92684\tvalidation_set-rmse:21.5886\n",
      "[618]\ttrain_set-rmse:9.92466\tvalidation_set-rmse:21.5864\n",
      "[619]\ttrain_set-rmse:9.92248\tvalidation_set-rmse:21.5863\n",
      "[620]\ttrain_set-rmse:9.92031\tvalidation_set-rmse:21.5852\n",
      "[621]\ttrain_set-rmse:9.91814\tvalidation_set-rmse:21.5835\n",
      "[622]\ttrain_set-rmse:9.91597\tvalidation_set-rmse:21.5826\n",
      "[623]\ttrain_set-rmse:9.9138\tvalidation_set-rmse:21.5825\n",
      "[624]\ttrain_set-rmse:9.91164\tvalidation_set-rmse:21.5808\n",
      "[625]\ttrain_set-rmse:9.90948\tvalidation_set-rmse:21.5797\n",
      "[626]\ttrain_set-rmse:9.90732\tvalidation_set-rmse:21.5797\n",
      "[627]\ttrain_set-rmse:9.90516\tvalidation_set-rmse:21.5786\n",
      "[628]\ttrain_set-rmse:9.903\tvalidation_set-rmse:21.5769\n",
      "[629]\ttrain_set-rmse:9.90085\tvalidation_set-rmse:21.5769\n",
      "[630]\ttrain_set-rmse:9.8987\tvalidation_set-rmse:21.5758\n",
      "[631]\ttrain_set-rmse:9.89655\tvalidation_set-rmse:21.5736\n",
      "[632]\ttrain_set-rmse:9.8944\tvalidation_set-rmse:21.5735\n",
      "[633]\ttrain_set-rmse:9.89226\tvalidation_set-rmse:21.5726\n",
      "[634]\ttrain_set-rmse:9.89011\tvalidation_set-rmse:21.5709\n",
      "[635]\ttrain_set-rmse:9.88797\tvalidation_set-rmse:21.5699\n",
      "[636]\ttrain_set-rmse:9.88584\tvalidation_set-rmse:21.5698\n",
      "[637]\ttrain_set-rmse:9.8837\tvalidation_set-rmse:21.5688\n",
      "[638]\ttrain_set-rmse:9.88157\tvalidation_set-rmse:21.5671\n",
      "[639]\ttrain_set-rmse:9.87944\tvalidation_set-rmse:21.567\n",
      "[640]\ttrain_set-rmse:9.8773\tvalidation_set-rmse:21.566\n",
      "[641]\ttrain_set-rmse:9.87518\tvalidation_set-rmse:21.5638\n",
      "[642]\ttrain_set-rmse:9.87305\tvalidation_set-rmse:21.5637\n",
      "[643]\ttrain_set-rmse:9.87093\tvalidation_set-rmse:21.5627\n",
      "[644]\ttrain_set-rmse:9.86881\tvalidation_set-rmse:21.561\n",
      "[645]\ttrain_set-rmse:9.86669\tvalidation_set-rmse:21.5601\n",
      "[646]\ttrain_set-rmse:9.86457\tvalidation_set-rmse:21.56\n",
      "[647]\ttrain_set-rmse:9.86246\tvalidation_set-rmse:21.559\n",
      "[648]\ttrain_set-rmse:9.86035\tvalidation_set-rmse:21.5573\n",
      "[649]\ttrain_set-rmse:9.85824\tvalidation_set-rmse:21.5573\n",
      "[650]\ttrain_set-rmse:9.85613\tvalidation_set-rmse:21.5563\n",
      "[651]\ttrain_set-rmse:9.85403\tvalidation_set-rmse:21.5545\n",
      "[652]\ttrain_set-rmse:9.85192\tvalidation_set-rmse:21.5545\n",
      "[653]\ttrain_set-rmse:9.84982\tvalidation_set-rmse:21.5516\n",
      "[654]\ttrain_set-rmse:9.84772\tvalidation_set-rmse:21.5506\n",
      "[655]\ttrain_set-rmse:9.84562\tvalidation_set-rmse:21.5505\n",
      "[656]\ttrain_set-rmse:9.84353\tvalidation_set-rmse:21.5488\n",
      "[657]\ttrain_set-rmse:9.84144\tvalidation_set-rmse:21.5478\n",
      "[658]\ttrain_set-rmse:9.83935\tvalidation_set-rmse:21.5456\n",
      "[659]\ttrain_set-rmse:9.83726\tvalidation_set-rmse:21.5456\n",
      "[660]\ttrain_set-rmse:9.83517\tvalidation_set-rmse:21.5446\n",
      "[661]\ttrain_set-rmse:9.83309\tvalidation_set-rmse:21.5429\n",
      "[662]\ttrain_set-rmse:9.831\tvalidation_set-rmse:21.5428\n",
      "[663]\ttrain_set-rmse:9.82892\tvalidation_set-rmse:21.5418\n",
      "[664]\ttrain_set-rmse:9.82685\tvalidation_set-rmse:21.5418\n",
      "[665]\ttrain_set-rmse:9.82477\tvalidation_set-rmse:21.5389\n",
      "[666]\ttrain_set-rmse:9.8227\tvalidation_set-rmse:21.5372\n",
      "[667]\ttrain_set-rmse:9.82063\tvalidation_set-rmse:21.5362\n",
      "[668]\ttrain_set-rmse:9.81856\tvalidation_set-rmse:21.5362\n",
      "[669]\ttrain_set-rmse:9.81649\tvalidation_set-rmse:21.534\n",
      "[670]\ttrain_set-rmse:9.81442\tvalidation_set-rmse:21.533\n",
      "[671]\ttrain_set-rmse:9.81236\tvalidation_set-rmse:21.5314\n",
      "[672]\ttrain_set-rmse:9.8103\tvalidation_set-rmse:21.5313\n",
      "[673]\ttrain_set-rmse:9.80824\tvalidation_set-rmse:21.5303\n",
      "[674]\ttrain_set-rmse:9.80619\tvalidation_set-rmse:21.5303\n",
      "[675]\ttrain_set-rmse:9.80413\tvalidation_set-rmse:21.5294\n",
      "[676]\ttrain_set-rmse:9.80208\tvalidation_set-rmse:21.5277\n",
      "[677]\ttrain_set-rmse:9.80003\tvalidation_set-rmse:21.5268\n",
      "[678]\ttrain_set-rmse:9.79798\tvalidation_set-rmse:21.5267\n",
      "[679]\ttrain_set-rmse:9.79594\tvalidation_set-rmse:21.5245\n",
      "[680]\ttrain_set-rmse:9.79389\tvalidation_set-rmse:21.5236\n",
      "[681]\ttrain_set-rmse:9.79185\tvalidation_set-rmse:21.5235\n",
      "[682]\ttrain_set-rmse:9.78981\tvalidation_set-rmse:21.5219\n",
      "[683]\ttrain_set-rmse:9.78777\tvalidation_set-rmse:21.5209\n",
      "[684]\ttrain_set-rmse:9.78574\tvalidation_set-rmse:21.5208\n",
      "[685]\ttrain_set-rmse:9.7837\tvalidation_set-rmse:21.518\n",
      "[686]\ttrain_set-rmse:9.78167\tvalidation_set-rmse:21.5164\n",
      "[687]\ttrain_set-rmse:9.77964\tvalidation_set-rmse:21.516\n",
      "[688]\ttrain_set-rmse:9.77762\tvalidation_set-rmse:21.5159\n",
      "[689]\ttrain_set-rmse:9.77559\tvalidation_set-rmse:21.5155\n",
      "[690]\ttrain_set-rmse:9.77356\tvalidation_set-rmse:21.5139\n",
      "[691]\ttrain_set-rmse:9.77154\tvalidation_set-rmse:21.5131\n",
      "[692]\ttrain_set-rmse:9.76952\tvalidation_set-rmse:21.513\n",
      "[693]\ttrain_set-rmse:9.76751\tvalidation_set-rmse:21.5113\n",
      "[694]\ttrain_set-rmse:9.76549\tvalidation_set-rmse:21.511\n",
      "[695]\ttrain_set-rmse:9.76348\tvalidation_set-rmse:21.5109\n",
      "[696]\ttrain_set-rmse:9.76147\tvalidation_set-rmse:21.5105\n",
      "[697]\ttrain_set-rmse:9.75946\tvalidation_set-rmse:21.5089\n",
      "[698]\ttrain_set-rmse:9.75745\tvalidation_set-rmse:21.5068\n",
      "[699]\ttrain_set-rmse:9.75544\tvalidation_set-rmse:21.5064\n",
      "[700]\ttrain_set-rmse:9.75344\tvalidation_set-rmse:21.5064\n",
      "[701]\ttrain_set-rmse:9.75144\tvalidation_set-rmse:21.5035\n",
      "[702]\ttrain_set-rmse:9.74944\tvalidation_set-rmse:21.5019\n",
      "[703]\ttrain_set-rmse:9.74744\tvalidation_set-rmse:21.5019\n",
      "[704]\ttrain_set-rmse:9.74545\tvalidation_set-rmse:21.5015\n",
      "[705]\ttrain_set-rmse:9.74345\tvalidation_set-rmse:21.5006\n",
      "[706]\ttrain_set-rmse:9.74146\tvalidation_set-rmse:21.5005\n",
      "[707]\ttrain_set-rmse:9.73947\tvalidation_set-rmse:21.4989\n",
      "[708]\ttrain_set-rmse:9.73748\tvalidation_set-rmse:21.4985\n",
      "[709]\ttrain_set-rmse:9.7355\tvalidation_set-rmse:21.4985\n",
      "[710]\ttrain_set-rmse:9.73351\tvalidation_set-rmse:21.4964\n",
      "[711]\ttrain_set-rmse:9.73153\tvalidation_set-rmse:21.496\n",
      "[712]\ttrain_set-rmse:9.72955\tvalidation_set-rmse:21.4944\n",
      "[713]\ttrain_set-rmse:9.72757\tvalidation_set-rmse:21.4936\n",
      "[714]\ttrain_set-rmse:9.7256\tvalidation_set-rmse:21.4935\n",
      "[715]\ttrain_set-rmse:9.72362\tvalidation_set-rmse:21.4932\n",
      "[716]\ttrain_set-rmse:9.72165\tvalidation_set-rmse:21.4916\n",
      "[717]\ttrain_set-rmse:9.71968\tvalidation_set-rmse:21.4915\n",
      "[718]\ttrain_set-rmse:9.71771\tvalidation_set-rmse:21.4911\n",
      "[719]\ttrain_set-rmse:9.71575\tvalidation_set-rmse:21.4895\n",
      "[720]\ttrain_set-rmse:9.71378\tvalidation_set-rmse:21.4867\n",
      "[721]\ttrain_set-rmse:9.71182\tvalidation_set-rmse:21.4867\n",
      "[722]\ttrain_set-rmse:9.70986\tvalidation_set-rmse:21.4863\n",
      "[723]\ttrain_set-rmse:9.7079\tvalidation_set-rmse:21.4847\n"
     ]
    },
    {
     "name": "stdout",
     "output_type": "stream",
     "text": [
      "[724]\ttrain_set-rmse:9.70594\tvalidation_set-rmse:21.4844\n",
      "[725]\ttrain_set-rmse:9.70399\tvalidation_set-rmse:21.4843\n",
      "[726]\ttrain_set-rmse:9.70204\tvalidation_set-rmse:21.4822\n",
      "[727]\ttrain_set-rmse:9.70009\tvalidation_set-rmse:21.4807\n",
      "[728]\ttrain_set-rmse:9.69814\tvalidation_set-rmse:21.4803\n",
      "[729]\ttrain_set-rmse:9.69619\tvalidation_set-rmse:21.4802\n",
      "[730]\ttrain_set-rmse:9.69425\tvalidation_set-rmse:21.4793\n",
      "[731]\ttrain_set-rmse:9.6923\tvalidation_set-rmse:21.4793\n",
      "[732]\ttrain_set-rmse:9.69036\tvalidation_set-rmse:21.4789\n",
      "[733]\ttrain_set-rmse:9.68842\tvalidation_set-rmse:21.4773\n",
      "[734]\ttrain_set-rmse:9.68648\tvalidation_set-rmse:21.4746\n",
      "[735]\ttrain_set-rmse:9.68455\tvalidation_set-rmse:21.4745\n",
      "[736]\ttrain_set-rmse:9.68262\tvalidation_set-rmse:21.4742\n",
      "[737]\ttrain_set-rmse:9.68068\tvalidation_set-rmse:21.4726\n",
      "[738]\ttrain_set-rmse:9.67876\tvalidation_set-rmse:21.4706\n",
      "[739]\ttrain_set-rmse:9.67683\tvalidation_set-rmse:21.4705\n",
      "[740]\ttrain_set-rmse:9.6749\tvalidation_set-rmse:21.4701\n",
      "[741]\ttrain_set-rmse:9.67298\tvalidation_set-rmse:21.4686\n",
      "[742]\ttrain_set-rmse:9.67106\tvalidation_set-rmse:21.4682\n",
      "[743]\ttrain_set-rmse:9.66914\tvalidation_set-rmse:21.4682\n",
      "[744]\ttrain_set-rmse:9.66722\tvalidation_set-rmse:21.4674\n",
      "[745]\ttrain_set-rmse:9.6653\tvalidation_set-rmse:21.4658\n",
      "[746]\ttrain_set-rmse:9.66339\tvalidation_set-rmse:21.4655\n",
      "[747]\ttrain_set-rmse:9.66147\tvalidation_set-rmse:21.4654\n",
      "[748]\ttrain_set-rmse:9.65957\tvalidation_set-rmse:21.4627\n",
      "[749]\ttrain_set-rmse:9.65766\tvalidation_set-rmse:21.4626\n",
      "[750]\ttrain_set-rmse:9.65575\tvalidation_set-rmse:21.4623\n",
      "[751]\ttrain_set-rmse:9.65384\tvalidation_set-rmse:21.4607\n",
      "[752]\ttrain_set-rmse:9.65194\tvalidation_set-rmse:21.4587\n",
      "[753]\ttrain_set-rmse:9.65004\tvalidation_set-rmse:21.4583\n",
      "[754]\ttrain_set-rmse:9.64814\tvalidation_set-rmse:21.4583\n",
      "[755]\ttrain_set-rmse:9.64624\tvalidation_set-rmse:21.4568\n",
      "[756]\ttrain_set-rmse:9.64435\tvalidation_set-rmse:21.4558\n",
      "[757]\ttrain_set-rmse:9.64245\tvalidation_set-rmse:21.4558\n",
      "[758]\ttrain_set-rmse:9.64056\tvalidation_set-rmse:21.4554\n",
      "[759]\ttrain_set-rmse:9.63867\tvalidation_set-rmse:21.4539\n",
      "[760]\ttrain_set-rmse:9.63679\tvalidation_set-rmse:21.4536\n",
      "[761]\ttrain_set-rmse:9.6349\tvalidation_set-rmse:21.4535\n",
      "[762]\ttrain_set-rmse:9.63302\tvalidation_set-rmse:21.4515\n",
      "[763]\ttrain_set-rmse:9.63113\tvalidation_set-rmse:21.4511\n",
      "[764]\ttrain_set-rmse:9.62925\tvalidation_set-rmse:21.4511\n",
      "[765]\ttrain_set-rmse:9.62738\tvalidation_set-rmse:21.4496\n",
      "[766]\ttrain_set-rmse:9.6255\tvalidation_set-rmse:21.4488\n",
      "[767]\ttrain_set-rmse:9.62362\tvalidation_set-rmse:21.4472\n",
      "[768]\ttrain_set-rmse:9.62175\tvalidation_set-rmse:21.4468\n",
      "[769]\ttrain_set-rmse:9.61988\tvalidation_set-rmse:21.4468\n",
      "[770]\ttrain_set-rmse:9.61801\tvalidation_set-rmse:21.4465\n",
      "[771]\ttrain_set-rmse:9.61614\tvalidation_set-rmse:21.4449\n",
      "[772]\ttrain_set-rmse:9.61428\tvalidation_set-rmse:21.4449\n",
      "[773]\ttrain_set-rmse:9.61241\tvalidation_set-rmse:21.4422\n",
      "[774]\ttrain_set-rmse:9.61055\tvalidation_set-rmse:21.4419\n",
      "[775]\ttrain_set-rmse:9.60869\tvalidation_set-rmse:21.4418\n",
      "[776]\ttrain_set-rmse:9.60683\tvalidation_set-rmse:21.4403\n",
      "[777]\ttrain_set-rmse:9.60498\tvalidation_set-rmse:21.4394\n",
      "[778]\ttrain_set-rmse:9.60312\tvalidation_set-rmse:21.4394\n",
      "[779]\ttrain_set-rmse:9.60127\tvalidation_set-rmse:21.439\n",
      "[780]\ttrain_set-rmse:9.59942\tvalidation_set-rmse:21.4375\n",
      "[781]\ttrain_set-rmse:9.59757\tvalidation_set-rmse:21.4355\n",
      "[782]\ttrain_set-rmse:9.59572\tvalidation_set-rmse:21.4352\n",
      "[783]\ttrain_set-rmse:9.59388\tvalidation_set-rmse:21.4351\n",
      "[784]\ttrain_set-rmse:9.59204\tvalidation_set-rmse:21.4325\n",
      "[785]\ttrain_set-rmse:9.59019\tvalidation_set-rmse:21.431\n",
      "[786]\ttrain_set-rmse:9.58835\tvalidation_set-rmse:21.4306\n",
      "[787]\ttrain_set-rmse:9.58652\tvalidation_set-rmse:21.4306\n",
      "[788]\ttrain_set-rmse:9.58468\tvalidation_set-rmse:21.429\n",
      "[789]\ttrain_set-rmse:9.58285\tvalidation_set-rmse:21.4287\n",
      "[790]\ttrain_set-rmse:9.58102\tvalidation_set-rmse:21.4286\n",
      "[791]\ttrain_set-rmse:9.57919\tvalidation_set-rmse:21.4278\n",
      "[792]\ttrain_set-rmse:9.57736\tvalidation_set-rmse:21.4263\n",
      "[793]\ttrain_set-rmse:9.57553\tvalidation_set-rmse:21.4259\n",
      "[794]\ttrain_set-rmse:9.5737\tvalidation_set-rmse:21.4259\n",
      "[795]\ttrain_set-rmse:9.57188\tvalidation_set-rmse:21.4239\n",
      "[796]\ttrain_set-rmse:9.57006\tvalidation_set-rmse:21.4236\n",
      "[797]\ttrain_set-rmse:9.56824\tvalidation_set-rmse:21.4235\n",
      "[798]\ttrain_set-rmse:9.56642\tvalidation_set-rmse:21.422\n",
      "[799]\ttrain_set-rmse:9.56461\tvalidation_set-rmse:21.4213\n",
      "[800]\ttrain_set-rmse:9.56279\tvalidation_set-rmse:21.4212\n",
      "[801]\ttrain_set-rmse:9.56098\tvalidation_set-rmse:21.4209\n",
      "[802]\ttrain_set-rmse:9.55917\tvalidation_set-rmse:21.4194\n",
      "[803]\ttrain_set-rmse:9.55736\tvalidation_set-rmse:21.4168\n",
      "[804]\ttrain_set-rmse:9.55555\tvalidation_set-rmse:21.4167\n",
      "[805]\ttrain_set-rmse:9.55375\tvalidation_set-rmse:21.4164\n",
      "[806]\ttrain_set-rmse:9.55195\tvalidation_set-rmse:21.4149\n",
      "[807]\ttrain_set-rmse:9.55014\tvalidation_set-rmse:21.4146\n",
      "[808]\ttrain_set-rmse:9.54834\tvalidation_set-rmse:21.4145\n",
      "[809]\ttrain_set-rmse:9.54655\tvalidation_set-rmse:21.4126\n",
      "[810]\ttrain_set-rmse:9.54475\tvalidation_set-rmse:21.4123\n",
      "[811]\ttrain_set-rmse:9.54296\tvalidation_set-rmse:21.4108\n",
      "[812]\ttrain_set-rmse:9.54116\tvalidation_set-rmse:21.4107\n",
      "[813]\ttrain_set-rmse:9.53937\tvalidation_set-rmse:21.4104\n",
      "[814]\ttrain_set-rmse:9.53758\tvalidation_set-rmse:21.4089\n",
      "[815]\ttrain_set-rmse:9.5358\tvalidation_set-rmse:21.4063\n",
      "[816]\ttrain_set-rmse:9.53401\tvalidation_set-rmse:21.4063\n",
      "[817]\ttrain_set-rmse:9.53223\tvalidation_set-rmse:21.406\n",
      "[818]\ttrain_set-rmse:9.53045\tvalidation_set-rmse:21.4059\n",
      "[819]\ttrain_set-rmse:9.52867\tvalidation_set-rmse:21.4051\n",
      "[820]\ttrain_set-rmse:9.52689\tvalidation_set-rmse:21.4036\n",
      "[821]\ttrain_set-rmse:9.52511\tvalidation_set-rmse:21.4016\n",
      "[822]\ttrain_set-rmse:9.52334\tvalidation_set-rmse:21.4013\n",
      "[823]\ttrain_set-rmse:9.52156\tvalidation_set-rmse:21.4013\n",
      "[824]\ttrain_set-rmse:9.51979\tvalidation_set-rmse:21.3998\n",
      "[825]\ttrain_set-rmse:9.51802\tvalidation_set-rmse:21.3995\n",
      "[826]\ttrain_set-rmse:9.51626\tvalidation_set-rmse:21.3995\n",
      "[827]\ttrain_set-rmse:9.51449\tvalidation_set-rmse:21.3987\n",
      "[828]\ttrain_set-rmse:9.51273\tvalidation_set-rmse:21.3972\n",
      "[829]\ttrain_set-rmse:9.51097\tvalidation_set-rmse:21.3969\n",
      "[830]\ttrain_set-rmse:9.5092\tvalidation_set-rmse:21.3968\n",
      "[831]\ttrain_set-rmse:9.50745\tvalidation_set-rmse:21.3954\n",
      "[832]\ttrain_set-rmse:9.50569\tvalidation_set-rmse:21.3951\n",
      "[833]\ttrain_set-rmse:9.50393\tvalidation_set-rmse:21.395\n",
      "[834]\ttrain_set-rmse:9.50218\tvalidation_set-rmse:21.3924\n",
      "[835]\ttrain_set-rmse:9.50043\tvalidation_set-rmse:21.391\n",
      "[836]\ttrain_set-rmse:9.49868\tvalidation_set-rmse:21.3907\n",
      "[837]\ttrain_set-rmse:9.49693\tvalidation_set-rmse:21.3906\n",
      "[838]\ttrain_set-rmse:9.49518\tvalidation_set-rmse:21.3887\n",
      "[839]\ttrain_set-rmse:9.49344\tvalidation_set-rmse:21.3884\n",
      "[840]\ttrain_set-rmse:9.4917\tvalidation_set-rmse:21.3883\n",
      "[841]\ttrain_set-rmse:9.48996\tvalidation_set-rmse:21.3869\n",
      "[842]\ttrain_set-rmse:9.48822\tvalidation_set-rmse:21.3866\n",
      "[843]\ttrain_set-rmse:9.48648\tvalidation_set-rmse:21.3859\n",
      "[844]\ttrain_set-rmse:9.48474\tvalidation_set-rmse:21.3858\n",
      "[845]\ttrain_set-rmse:9.48301\tvalidation_set-rmse:21.3844\n",
      "[846]\ttrain_set-rmse:9.48128\tvalidation_set-rmse:21.3841\n",
      "[847]\ttrain_set-rmse:9.47955\tvalidation_set-rmse:21.384\n",
      "[848]\ttrain_set-rmse:9.47782\tvalidation_set-rmse:21.3832\n",
      "[849]\ttrain_set-rmse:9.47609\tvalidation_set-rmse:21.3818\n",
      "[850]\ttrain_set-rmse:9.47436\tvalidation_set-rmse:21.3798\n",
      "[851]\ttrain_set-rmse:9.47264\tvalidation_set-rmse:21.3795\n",
      "[852]\ttrain_set-rmse:9.47092\tvalidation_set-rmse:21.3795\n",
      "[853]\ttrain_set-rmse:9.4692\tvalidation_set-rmse:21.3792\n",
      "[854]\ttrain_set-rmse:9.46748\tvalidation_set-rmse:21.3778\n",
      "[855]\ttrain_set-rmse:9.46576\tvalidation_set-rmse:21.3777\n",
      "[856]\ttrain_set-rmse:9.46405\tvalidation_set-rmse:21.3752\n",
      "[857]\ttrain_set-rmse:9.46233\tvalidation_set-rmse:21.3749\n",
      "[858]\ttrain_set-rmse:9.46062\tvalidation_set-rmse:21.3734\n",
      "[859]\ttrain_set-rmse:9.45891\tvalidation_set-rmse:21.3734\n",
      "[860]\ttrain_set-rmse:9.4572\tvalidation_set-rmse:21.3731\n",
      "[861]\ttrain_set-rmse:9.4555\tvalidation_set-rmse:21.3716\n",
      "[862]\ttrain_set-rmse:9.45379\tvalidation_set-rmse:21.3694\n",
      "[863]\ttrain_set-rmse:9.45209\tvalidation_set-rmse:21.3694\n",
      "[864]\ttrain_set-rmse:9.45039\tvalidation_set-rmse:21.3691\n",
      "[865]\ttrain_set-rmse:9.44869\tvalidation_set-rmse:21.3677\n",
      "[866]\ttrain_set-rmse:9.44699\tvalidation_set-rmse:21.3674\n",
      "[867]\ttrain_set-rmse:9.44529\tvalidation_set-rmse:21.3673\n",
      "[868]\ttrain_set-rmse:9.4436\tvalidation_set-rmse:21.3666\n"
     ]
    },
    {
     "name": "stdout",
     "output_type": "stream",
     "text": [
      "[869]\ttrain_set-rmse:9.44191\tvalidation_set-rmse:21.3665\n",
      "[870]\ttrain_set-rmse:9.44022\tvalidation_set-rmse:21.3647\n",
      "[871]\ttrain_set-rmse:9.43853\tvalidation_set-rmse:21.3644\n",
      "[872]\ttrain_set-rmse:9.43684\tvalidation_set-rmse:21.3629\n",
      "[873]\ttrain_set-rmse:9.43515\tvalidation_set-rmse:21.3629\n",
      "[874]\ttrain_set-rmse:9.43347\tvalidation_set-rmse:21.3626\n",
      "[875]\ttrain_set-rmse:9.43178\tvalidation_set-rmse:21.3612\n",
      "[876]\ttrain_set-rmse:9.4301\tvalidation_set-rmse:21.3604\n",
      "[877]\ttrain_set-rmse:9.42842\tvalidation_set-rmse:21.3604\n",
      "[878]\ttrain_set-rmse:9.42675\tvalidation_set-rmse:21.3582\n",
      "[879]\ttrain_set-rmse:9.42507\tvalidation_set-rmse:21.3579\n",
      "[880]\ttrain_set-rmse:9.42339\tvalidation_set-rmse:21.3565\n",
      "[881]\ttrain_set-rmse:9.42172\tvalidation_set-rmse:21.3564\n",
      "[882]\ttrain_set-rmse:9.42005\tvalidation_set-rmse:21.3561\n",
      "[883]\ttrain_set-rmse:9.41838\tvalidation_set-rmse:21.3552\n",
      "[884]\ttrain_set-rmse:9.41671\tvalidation_set-rmse:21.3527\n",
      "[885]\ttrain_set-rmse:9.41505\tvalidation_set-rmse:21.3513\n",
      "[886]\ttrain_set-rmse:9.41338\tvalidation_set-rmse:21.351\n",
      "[887]\ttrain_set-rmse:9.41172\tvalidation_set-rmse:21.351\n",
      "[888]\ttrain_set-rmse:9.41006\tvalidation_set-rmse:21.3507\n",
      "[889]\ttrain_set-rmse:9.4084\tvalidation_set-rmse:21.3493\n",
      "[890]\ttrain_set-rmse:9.40674\tvalidation_set-rmse:21.3471\n",
      "[891]\ttrain_set-rmse:9.40509\tvalidation_set-rmse:21.3461\n",
      "[892]\ttrain_set-rmse:9.40343\tvalidation_set-rmse:21.3458\n",
      "[893]\ttrain_set-rmse:9.40178\tvalidation_set-rmse:21.3445\n",
      "[894]\ttrain_set-rmse:9.40013\tvalidation_set-rmse:21.3438\n",
      "[895]\ttrain_set-rmse:9.39848\tvalidation_set-rmse:21.3437\n",
      "[896]\ttrain_set-rmse:9.39683\tvalidation_set-rmse:21.3419\n",
      "[897]\ttrain_set-rmse:9.39519\tvalidation_set-rmse:21.3416\n",
      "[898]\ttrain_set-rmse:9.39354\tvalidation_set-rmse:21.3403\n",
      "[899]\ttrain_set-rmse:9.3919\tvalidation_set-rmse:21.3393\n",
      "[900]\ttrain_set-rmse:9.39026\tvalidation_set-rmse:21.339\n",
      "[901]\ttrain_set-rmse:9.38862\tvalidation_set-rmse:21.3377\n",
      "[902]\ttrain_set-rmse:9.38698\tvalidation_set-rmse:21.337\n",
      "[903]\ttrain_set-rmse:9.38534\tvalidation_set-rmse:21.337\n",
      "[904]\ttrain_set-rmse:9.38371\tvalidation_set-rmse:21.3367\n",
      "[905]\ttrain_set-rmse:9.38208\tvalidation_set-rmse:21.3353\n",
      "[906]\ttrain_set-rmse:9.38044\tvalidation_set-rmse:21.3343\n",
      "[907]\ttrain_set-rmse:9.37881\tvalidation_set-rmse:21.334\n",
      "[908]\ttrain_set-rmse:9.37719\tvalidation_set-rmse:21.3327\n",
      "[909]\ttrain_set-rmse:9.37556\tvalidation_set-rmse:21.3306\n",
      "[910]\ttrain_set-rmse:9.37393\tvalidation_set-rmse:21.3303\n",
      "[911]\ttrain_set-rmse:9.37231\tvalidation_set-rmse:21.3303\n",
      "[912]\ttrain_set-rmse:9.37069\tvalidation_set-rmse:21.329\n",
      "[913]\ttrain_set-rmse:9.36907\tvalidation_set-rmse:21.3287\n",
      "[914]\ttrain_set-rmse:9.36745\tvalidation_set-rmse:21.3278\n",
      "[915]\ttrain_set-rmse:9.36583\tvalidation_set-rmse:21.3253\n",
      "[916]\ttrain_set-rmse:9.36421\tvalidation_set-rmse:21.3241\n",
      "[917]\ttrain_set-rmse:9.3626\tvalidation_set-rmse:21.3238\n",
      "[918]\ttrain_set-rmse:9.36099\tvalidation_set-rmse:21.3237\n",
      "[919]\ttrain_set-rmse:9.35938\tvalidation_set-rmse:21.3219\n",
      "[920]\ttrain_set-rmse:9.35777\tvalidation_set-rmse:21.3216\n",
      "[921]\ttrain_set-rmse:9.35616\tvalidation_set-rmse:21.3204\n",
      "[922]\ttrain_set-rmse:9.35455\tvalidation_set-rmse:21.3194\n",
      "[923]\ttrain_set-rmse:9.35295\tvalidation_set-rmse:21.3186\n",
      "[924]\ttrain_set-rmse:9.35135\tvalidation_set-rmse:21.3174\n",
      "[925]\ttrain_set-rmse:9.34975\tvalidation_set-rmse:21.3171\n",
      "[926]\ttrain_set-rmse:9.34815\tvalidation_set-rmse:21.3171\n",
      "[927]\ttrain_set-rmse:9.34655\tvalidation_set-rmse:21.315\n",
      "[928]\ttrain_set-rmse:9.34495\tvalidation_set-rmse:21.3147\n",
      "[929]\ttrain_set-rmse:9.34336\tvalidation_set-rmse:21.3134\n",
      "[930]\ttrain_set-rmse:9.34176\tvalidation_set-rmse:21.3125\n",
      "[931]\ttrain_set-rmse:9.34017\tvalidation_set-rmse:21.3122\n",
      "[932]\ttrain_set-rmse:9.33858\tvalidation_set-rmse:21.3108\n",
      "[933]\ttrain_set-rmse:9.33699\tvalidation_set-rmse:21.3101\n",
      "[934]\ttrain_set-rmse:9.3354\tvalidation_set-rmse:21.3101\n",
      "[935]\ttrain_set-rmse:9.33382\tvalidation_set-rmse:21.3088\n",
      "[936]\ttrain_set-rmse:9.33224\tvalidation_set-rmse:21.3086\n",
      "[937]\ttrain_set-rmse:9.33065\tvalidation_set-rmse:21.3076\n",
      "[938]\ttrain_set-rmse:9.32907\tvalidation_set-rmse:21.3073\n",
      "[939]\ttrain_set-rmse:9.32749\tvalidation_set-rmse:21.3061\n",
      "[940]\ttrain_set-rmse:9.32591\tvalidation_set-rmse:21.304\n",
      "[941]\ttrain_set-rmse:9.32434\tvalidation_set-rmse:21.304\n",
      "[942]\ttrain_set-rmse:9.32276\tvalidation_set-rmse:21.3037\n",
      "[943]\ttrain_set-rmse:9.32119\tvalidation_set-rmse:21.3024\n",
      "[944]\ttrain_set-rmse:9.31962\tvalidation_set-rmse:21.3017\n",
      "[945]\ttrain_set-rmse:9.31805\tvalidation_set-rmse:21.3008\n",
      "[946]\ttrain_set-rmse:9.31648\tvalidation_set-rmse:21.2984\n",
      "[947]\ttrain_set-rmse:9.31492\tvalidation_set-rmse:21.297\n",
      "[948]\ttrain_set-rmse:9.31335\tvalidation_set-rmse:21.2968\n",
      "[949]\ttrain_set-rmse:9.31179\tvalidation_set-rmse:21.2967\n",
      "[950]\ttrain_set-rmse:9.31022\tvalidation_set-rmse:21.2949\n",
      "[951]\ttrain_set-rmse:9.30866\tvalidation_set-rmse:21.2947\n",
      "[952]\ttrain_set-rmse:9.3071\tvalidation_set-rmse:21.2934\n",
      "[953]\ttrain_set-rmse:9.30555\tvalidation_set-rmse:21.2925\n",
      "[954]\ttrain_set-rmse:9.30399\tvalidation_set-rmse:21.2922\n",
      "[955]\ttrain_set-rmse:9.30244\tvalidation_set-rmse:21.291\n",
      "[956]\ttrain_set-rmse:9.30088\tvalidation_set-rmse:21.2907\n",
      "[957]\ttrain_set-rmse:9.29933\tvalidation_set-rmse:21.2898\n",
      "[958]\ttrain_set-rmse:9.29778\tvalidation_set-rmse:21.2878\n",
      "[959]\ttrain_set-rmse:9.29623\tvalidation_set-rmse:21.2875\n",
      "[960]\ttrain_set-rmse:9.29469\tvalidation_set-rmse:21.2863\n",
      "[961]\ttrain_set-rmse:9.29314\tvalidation_set-rmse:21.2862\n",
      "[962]\ttrain_set-rmse:9.2916\tvalidation_set-rmse:21.2856\n",
      "[963]\ttrain_set-rmse:9.29006\tvalidation_set-rmse:21.2842\n",
      "[964]\ttrain_set-rmse:9.28852\tvalidation_set-rmse:21.2839\n",
      "[965]\ttrain_set-rmse:9.28698\tvalidation_set-rmse:21.283\n",
      "[966]\ttrain_set-rmse:9.28544\tvalidation_set-rmse:21.2818\n",
      "[967]\ttrain_set-rmse:9.2839\tvalidation_set-rmse:21.2815\n",
      "[968]\ttrain_set-rmse:9.28237\tvalidation_set-rmse:21.2815\n",
      "[969]\ttrain_set-rmse:9.28083\tvalidation_set-rmse:21.2794\n",
      "[970]\ttrain_set-rmse:9.27931\tvalidation_set-rmse:21.2792\n",
      "[971]\ttrain_set-rmse:9.27777\tvalidation_set-rmse:21.278\n",
      "[972]\ttrain_set-rmse:9.27625\tvalidation_set-rmse:21.2779\n",
      "[973]\ttrain_set-rmse:9.27472\tvalidation_set-rmse:21.2772\n",
      "[974]\ttrain_set-rmse:9.27319\tvalidation_set-rmse:21.276\n",
      "[975]\ttrain_set-rmse:9.27167\tvalidation_set-rmse:21.2757\n",
      "[976]\ttrain_set-rmse:9.27015\tvalidation_set-rmse:21.2748\n",
      "[977]\ttrain_set-rmse:9.26863\tvalidation_set-rmse:21.2731\n",
      "[978]\ttrain_set-rmse:9.26711\tvalidation_set-rmse:21.2728\n",
      "[979]\ttrain_set-rmse:9.26559\tvalidation_set-rmse:21.2716\n",
      "[980]\ttrain_set-rmse:9.26407\tvalidation_set-rmse:21.2692\n",
      "[981]\ttrain_set-rmse:9.26256\tvalidation_set-rmse:21.2683\n",
      "[982]\ttrain_set-rmse:9.26104\tvalidation_set-rmse:21.2681\n",
      "[983]\ttrain_set-rmse:9.25953\tvalidation_set-rmse:21.2669\n",
      "[984]\ttrain_set-rmse:9.25802\tvalidation_set-rmse:21.2668\n",
      "[985]\ttrain_set-rmse:9.25652\tvalidation_set-rmse:21.2666\n",
      "[986]\ttrain_set-rmse:9.25501\tvalidation_set-rmse:21.2652\n",
      "[987]\ttrain_set-rmse:9.2535\tvalidation_set-rmse:21.2646\n",
      "[988]\ttrain_set-rmse:9.252\tvalidation_set-rmse:21.2637\n",
      "[989]\ttrain_set-rmse:9.2505\tvalidation_set-rmse:21.2634\n",
      "[990]\ttrain_set-rmse:9.24899\tvalidation_set-rmse:21.2622\n",
      "[991]\ttrain_set-rmse:9.24749\tvalidation_set-rmse:21.2602\n",
      "[992]\ttrain_set-rmse:9.246\tvalidation_set-rmse:21.2602\n",
      "[993]\ttrain_set-rmse:9.2445\tvalidation_set-rmse:21.2599\n",
      "[994]\ttrain_set-rmse:9.243\tvalidation_set-rmse:21.2587\n",
      "[995]\ttrain_set-rmse:9.24151\tvalidation_set-rmse:21.2585\n",
      "[996]\ttrain_set-rmse:9.24002\tvalidation_set-rmse:21.2576\n",
      "[997]\ttrain_set-rmse:9.23853\tvalidation_set-rmse:21.2558\n",
      "[998]\ttrain_set-rmse:9.23704\tvalidation_set-rmse:21.2546\n",
      "[999]\ttrain_set-rmse:9.23555\tvalidation_set-rmse:21.2544\n",
      "[1000]\ttrain_set-rmse:9.23406\tvalidation_set-rmse:21.2544\n",
      "[1001]\ttrain_set-rmse:9.23258\tvalidation_set-rmse:21.2537\n",
      "[1002]\ttrain_set-rmse:9.23109\tvalidation_set-rmse:21.2525\n",
      "[1003]\ttrain_set-rmse:9.22961\tvalidation_set-rmse:21.2522\n",
      "[1004]\ttrain_set-rmse:9.22813\tvalidation_set-rmse:21.2513\n",
      "[1005]\ttrain_set-rmse:9.22665\tvalidation_set-rmse:21.2493\n",
      "[1006]\ttrain_set-rmse:9.22518\tvalidation_set-rmse:21.2493\n",
      "[1007]\ttrain_set-rmse:9.2237\tvalidation_set-rmse:21.249\n",
      "[1008]\ttrain_set-rmse:9.22222\tvalidation_set-rmse:21.2479\n",
      "[1009]\ttrain_set-rmse:9.22075\tvalidation_set-rmse:21.2456\n",
      "[1010]\ttrain_set-rmse:9.21928\tvalidation_set-rmse:21.2447\n",
      "[1011]\ttrain_set-rmse:9.21781\tvalidation_set-rmse:21.2444\n",
      "[1012]\ttrain_set-rmse:9.21634\tvalidation_set-rmse:21.2433\n",
      "[1013]\ttrain_set-rmse:9.21487\tvalidation_set-rmse:21.243\n"
     ]
    },
    {
     "name": "stdout",
     "output_type": "stream",
     "text": [
      "[1014]\ttrain_set-rmse:9.21341\tvalidation_set-rmse:21.2417\n",
      "[1015]\ttrain_set-rmse:9.21194\tvalidation_set-rmse:21.2417\n",
      "[1016]\ttrain_set-rmse:9.21048\tvalidation_set-rmse:21.241\n",
      "[1017]\ttrain_set-rmse:9.20902\tvalidation_set-rmse:21.2393\n",
      "[1018]\ttrain_set-rmse:9.20756\tvalidation_set-rmse:21.2384\n",
      "[1019]\ttrain_set-rmse:9.2061\tvalidation_set-rmse:21.2382\n",
      "[1020]\ttrain_set-rmse:9.20464\tvalidation_set-rmse:21.237\n",
      "[1021]\ttrain_set-rmse:9.20319\tvalidation_set-rmse:21.2368\n",
      "[1022]\ttrain_set-rmse:9.20173\tvalidation_set-rmse:21.2367\n",
      "[1023]\ttrain_set-rmse:9.20028\tvalidation_set-rmse:21.2348\n",
      "[1024]\ttrain_set-rmse:9.19883\tvalidation_set-rmse:21.2336\n",
      "[1025]\ttrain_set-rmse:9.19738\tvalidation_set-rmse:21.2333\n",
      "[1026]\ttrain_set-rmse:9.19593\tvalidation_set-rmse:21.2325\n",
      "[1027]\ttrain_set-rmse:9.19449\tvalidation_set-rmse:21.2318\n",
      "[1028]\ttrain_set-rmse:9.19304\tvalidation_set-rmse:21.2307\n",
      "[1029]\ttrain_set-rmse:9.1916\tvalidation_set-rmse:21.2304\n",
      "[1030]\ttrain_set-rmse:9.19015\tvalidation_set-rmse:21.2304\n",
      "[1031]\ttrain_set-rmse:9.18871\tvalidation_set-rmse:21.2291\n",
      "[1032]\ttrain_set-rmse:9.18727\tvalidation_set-rmse:21.2289\n",
      "[1033]\ttrain_set-rmse:9.18584\tvalidation_set-rmse:21.2277\n",
      "[1034]\ttrain_set-rmse:9.1844\tvalidation_set-rmse:21.2254\n",
      "[1035]\ttrain_set-rmse:9.18296\tvalidation_set-rmse:21.2246\n",
      "[1036]\ttrain_set-rmse:9.18153\tvalidation_set-rmse:21.2243\n",
      "[1037]\ttrain_set-rmse:9.1801\tvalidation_set-rmse:21.2232\n",
      "[1038]\ttrain_set-rmse:9.17867\tvalidation_set-rmse:21.2231\n",
      "[1039]\ttrain_set-rmse:9.17724\tvalidation_set-rmse:21.2229\n",
      "[1040]\ttrain_set-rmse:9.17581\tvalidation_set-rmse:21.2212\n",
      "[1041]\ttrain_set-rmse:9.17438\tvalidation_set-rmse:21.2204\n",
      "[1042]\ttrain_set-rmse:9.17296\tvalidation_set-rmse:21.2201\n",
      "[1043]\ttrain_set-rmse:9.17153\tvalidation_set-rmse:21.219\n",
      "[1044]\ttrain_set-rmse:9.17011\tvalidation_set-rmse:21.2183\n",
      "[1045]\ttrain_set-rmse:9.16869\tvalidation_set-rmse:21.2183\n",
      "[1046]\ttrain_set-rmse:9.16727\tvalidation_set-rmse:21.2163\n",
      "[1047]\ttrain_set-rmse:9.16585\tvalidation_set-rmse:21.2152\n",
      "[1048]\ttrain_set-rmse:9.16443\tvalidation_set-rmse:21.2149\n",
      "[1049]\ttrain_set-rmse:9.16302\tvalidation_set-rmse:21.2141\n",
      "[1050]\ttrain_set-rmse:9.1616\tvalidation_set-rmse:21.2138\n",
      "[1051]\ttrain_set-rmse:9.16019\tvalidation_set-rmse:21.2127\n",
      "[1052]\ttrain_set-rmse:9.15878\tvalidation_set-rmse:21.2121\n",
      "[1053]\ttrain_set-rmse:9.15737\tvalidation_set-rmse:21.2121\n",
      "[1054]\ttrain_set-rmse:9.15596\tvalidation_set-rmse:21.2118\n",
      "[1055]\ttrain_set-rmse:9.15455\tvalidation_set-rmse:21.2105\n",
      "[1056]\ttrain_set-rmse:9.15315\tvalidation_set-rmse:21.2094\n",
      "[1057]\ttrain_set-rmse:9.15175\tvalidation_set-rmse:21.2092\n",
      "[1058]\ttrain_set-rmse:9.15034\tvalidation_set-rmse:21.2083\n",
      "[1059]\ttrain_set-rmse:9.14894\tvalidation_set-rmse:21.2064\n",
      "[1060]\ttrain_set-rmse:9.14754\tvalidation_set-rmse:21.2064\n",
      "[1061]\ttrain_set-rmse:9.14614\tvalidation_set-rmse:21.2061\n",
      "[1062]\ttrain_set-rmse:9.14475\tvalidation_set-rmse:21.205\n",
      "[1063]\ttrain_set-rmse:9.14335\tvalidation_set-rmse:21.2048\n",
      "[1064]\ttrain_set-rmse:9.14195\tvalidation_set-rmse:21.2039\n",
      "[1065]\ttrain_set-rmse:9.14056\tvalidation_set-rmse:21.202\n",
      "[1066]\ttrain_set-rmse:9.13917\tvalidation_set-rmse:21.2009\n",
      "[1067]\ttrain_set-rmse:9.13778\tvalidation_set-rmse:21.2006\n",
      "[1068]\ttrain_set-rmse:9.13639\tvalidation_set-rmse:21.2006\n",
      "[1069]\ttrain_set-rmse:9.135\tvalidation_set-rmse:21.1999\n",
      "[1070]\ttrain_set-rmse:9.13362\tvalidation_set-rmse:21.1988\n",
      "[1071]\ttrain_set-rmse:9.13223\tvalidation_set-rmse:21.1972\n",
      "[1072]\ttrain_set-rmse:9.13085\tvalidation_set-rmse:21.1969\n",
      "[1073]\ttrain_set-rmse:9.12947\tvalidation_set-rmse:21.1961\n",
      "[1074]\ttrain_set-rmse:9.12809\tvalidation_set-rmse:21.1949\n",
      "[1075]\ttrain_set-rmse:9.12671\tvalidation_set-rmse:21.1947\n",
      "[1076]\ttrain_set-rmse:9.12533\tvalidation_set-rmse:21.1946\n",
      "[1077]\ttrain_set-rmse:9.12396\tvalidation_set-rmse:21.1924\n",
      "[1078]\ttrain_set-rmse:9.12258\tvalidation_set-rmse:21.1913\n",
      "[1079]\ttrain_set-rmse:9.12121\tvalidation_set-rmse:21.1911\n",
      "[1080]\ttrain_set-rmse:9.11984\tvalidation_set-rmse:21.1903\n",
      "[1081]\ttrain_set-rmse:9.11847\tvalidation_set-rmse:21.19\n",
      "[1082]\ttrain_set-rmse:9.1171\tvalidation_set-rmse:21.1889\n",
      "[1083]\ttrain_set-rmse:9.11573\tvalidation_set-rmse:21.187\n",
      "[1084]\ttrain_set-rmse:9.11436\tvalidation_set-rmse:21.187\n",
      "[1085]\ttrain_set-rmse:9.113\tvalidation_set-rmse:21.1867\n",
      "[1086]\ttrain_set-rmse:9.11163\tvalidation_set-rmse:21.1856\n",
      "[1087]\ttrain_set-rmse:9.11027\tvalidation_set-rmse:21.185\n",
      "[1088]\ttrain_set-rmse:9.10891\tvalidation_set-rmse:21.1842\n",
      "[1089]\ttrain_set-rmse:9.10755\tvalidation_set-rmse:21.184\n",
      "[1090]\ttrain_set-rmse:9.10619\tvalidation_set-rmse:21.1827\n",
      "[1091]\ttrain_set-rmse:9.10483\tvalidation_set-rmse:21.1816\n",
      "[1092]\ttrain_set-rmse:9.10348\tvalidation_set-rmse:21.1814\n",
      "[1093]\ttrain_set-rmse:9.10212\tvalidation_set-rmse:21.1814\n",
      "[1094]\ttrain_set-rmse:9.10077\tvalidation_set-rmse:21.1807\n",
      "[1095]\ttrain_set-rmse:9.09942\tvalidation_set-rmse:21.1799\n",
      "[1096]\ttrain_set-rmse:9.09807\tvalidation_set-rmse:21.1783\n",
      "[1097]\ttrain_set-rmse:9.09672\tvalidation_set-rmse:21.1772\n",
      "[1098]\ttrain_set-rmse:9.09537\tvalidation_set-rmse:21.177\n",
      "[1099]\ttrain_set-rmse:9.09403\tvalidation_set-rmse:21.1769\n",
      "[1100]\ttrain_set-rmse:9.09268\tvalidation_set-rmse:21.1767\n",
      "[1101]\ttrain_set-rmse:9.09134\tvalidation_set-rmse:21.1756\n",
      "[1102]\ttrain_set-rmse:9.09\tvalidation_set-rmse:21.1734\n",
      "[1103]\ttrain_set-rmse:9.08865\tvalidation_set-rmse:21.1726\n",
      "[1104]\ttrain_set-rmse:9.08732\tvalidation_set-rmse:21.1724\n",
      "[1105]\ttrain_set-rmse:9.08598\tvalidation_set-rmse:21.1713\n",
      "[1106]\ttrain_set-rmse:9.08464\tvalidation_set-rmse:21.1694\n",
      "[1107]\ttrain_set-rmse:9.0833\tvalidation_set-rmse:21.1692\n",
      "[1108]\ttrain_set-rmse:9.08197\tvalidation_set-rmse:21.1692\n",
      "[1109]\ttrain_set-rmse:9.08064\tvalidation_set-rmse:21.1681\n",
      "[1110]\ttrain_set-rmse:9.07931\tvalidation_set-rmse:21.1679\n",
      "[1111]\ttrain_set-rmse:9.07798\tvalidation_set-rmse:21.1671\n",
      "[1112]\ttrain_set-rmse:9.07665\tvalidation_set-rmse:21.1665\n",
      "[1113]\ttrain_set-rmse:9.07532\tvalidation_set-rmse:21.1653\n",
      "[1114]\ttrain_set-rmse:9.074\tvalidation_set-rmse:21.1651\n",
      "[1115]\ttrain_set-rmse:9.07267\tvalidation_set-rmse:21.164\n",
      "[1116]\ttrain_set-rmse:9.07135\tvalidation_set-rmse:21.1639\n",
      "[1117]\ttrain_set-rmse:9.07002\tvalidation_set-rmse:21.1637\n",
      "[1118]\ttrain_set-rmse:9.0687\tvalidation_set-rmse:21.1621\n",
      "[1119]\ttrain_set-rmse:9.06738\tvalidation_set-rmse:21.1613\n",
      "[1120]\ttrain_set-rmse:9.06607\tvalidation_set-rmse:21.1607\n",
      "[1121]\ttrain_set-rmse:9.06475\tvalidation_set-rmse:21.1596\n",
      "[1122]\ttrain_set-rmse:9.06344\tvalidation_set-rmse:21.1594\n",
      "[1123]\ttrain_set-rmse:9.06212\tvalidation_set-rmse:21.1594\n",
      "[1124]\ttrain_set-rmse:9.06081\tvalidation_set-rmse:21.1575\n",
      "[1125]\ttrain_set-rmse:9.0595\tvalidation_set-rmse:21.1564\n",
      "[1126]\ttrain_set-rmse:9.05819\tvalidation_set-rmse:21.1562\n",
      "[1127]\ttrain_set-rmse:9.05688\tvalidation_set-rmse:21.1562\n",
      "[1128]\ttrain_set-rmse:9.05557\tvalidation_set-rmse:21.1551\n",
      "[1129]\ttrain_set-rmse:9.05426\tvalidation_set-rmse:21.1549\n",
      "[1130]\ttrain_set-rmse:9.05296\tvalidation_set-rmse:21.1541\n",
      "[1131]\ttrain_set-rmse:9.05166\tvalidation_set-rmse:21.152\n",
      "[1132]\ttrain_set-rmse:9.05035\tvalidation_set-rmse:21.1508\n",
      "[1133]\ttrain_set-rmse:9.04905\tvalidation_set-rmse:21.1506\n",
      "[1134]\ttrain_set-rmse:9.04775\tvalidation_set-rmse:21.1506\n",
      "[1135]\ttrain_set-rmse:9.04645\tvalidation_set-rmse:21.1504\n",
      "[1136]\ttrain_set-rmse:9.04516\tvalidation_set-rmse:21.1493\n",
      "[1137]\ttrain_set-rmse:9.04386\tvalidation_set-rmse:21.1475\n",
      "[1138]\ttrain_set-rmse:9.04257\tvalidation_set-rmse:21.1467\n",
      "[1139]\ttrain_set-rmse:9.04127\tvalidation_set-rmse:21.1465\n",
      "[1140]\ttrain_set-rmse:9.03998\tvalidation_set-rmse:21.1454\n",
      "[1141]\ttrain_set-rmse:9.03869\tvalidation_set-rmse:21.1448\n",
      "[1142]\ttrain_set-rmse:9.0374\tvalidation_set-rmse:21.1447\n",
      "[1143]\ttrain_set-rmse:9.03611\tvalidation_set-rmse:21.1431\n",
      "[1144]\ttrain_set-rmse:9.03483\tvalidation_set-rmse:21.1424\n",
      "[1145]\ttrain_set-rmse:9.03354\tvalidation_set-rmse:21.1421\n",
      "[1146]\ttrain_set-rmse:9.03226\tvalidation_set-rmse:21.1411\n",
      "[1147]\ttrain_set-rmse:9.03097\tvalidation_set-rmse:21.1409\n",
      "[1148]\ttrain_set-rmse:9.02969\tvalidation_set-rmse:21.1408\n",
      "[1149]\ttrain_set-rmse:9.02841\tvalidation_set-rmse:21.1403\n",
      "[1150]\ttrain_set-rmse:9.02713\tvalidation_set-rmse:21.1392\n",
      "[1151]\ttrain_set-rmse:9.02586\tvalidation_set-rmse:21.139\n",
      "[1152]\ttrain_set-rmse:9.02458\tvalidation_set-rmse:21.1382\n",
      "[1153]\ttrain_set-rmse:9.02331\tvalidation_set-rmse:21.1364\n",
      "[1154]\ttrain_set-rmse:9.02203\tvalidation_set-rmse:21.1354\n",
      "[1155]\ttrain_set-rmse:9.02076\tvalidation_set-rmse:21.1352\n"
     ]
    },
    {
     "name": "stdout",
     "output_type": "stream",
     "text": [
      "[1156]\ttrain_set-rmse:9.01949\tvalidation_set-rmse:21.1351\n",
      "[1157]\ttrain_set-rmse:9.01822\tvalidation_set-rmse:21.1339\n",
      "[1158]\ttrain_set-rmse:9.01695\tvalidation_set-rmse:21.1337\n",
      "[1159]\ttrain_set-rmse:9.01568\tvalidation_set-rmse:21.133\n",
      "[1160]\ttrain_set-rmse:9.01441\tvalidation_set-rmse:21.1324\n",
      "[1161]\ttrain_set-rmse:9.01315\tvalidation_set-rmse:21.1314\n",
      "[1162]\ttrain_set-rmse:9.01189\tvalidation_set-rmse:21.1311\n",
      "[1163]\ttrain_set-rmse:9.01062\tvalidation_set-rmse:21.1311\n",
      "[1164]\ttrain_set-rmse:9.00936\tvalidation_set-rmse:21.1293\n",
      "[1165]\ttrain_set-rmse:9.0081\tvalidation_set-rmse:21.1283\n",
      "[1166]\ttrain_set-rmse:9.00684\tvalidation_set-rmse:21.1281\n",
      "[1167]\ttrain_set-rmse:9.00559\tvalidation_set-rmse:21.1273\n",
      "[1168]\ttrain_set-rmse:9.00433\tvalidation_set-rmse:21.1271\n",
      "[1169]\ttrain_set-rmse:9.00308\tvalidation_set-rmse:21.126\n",
      "[1170]\ttrain_set-rmse:9.00182\tvalidation_set-rmse:21.126\n",
      "[1171]\ttrain_set-rmse:9.00057\tvalidation_set-rmse:21.1254\n",
      "[1172]\ttrain_set-rmse:8.99932\tvalidation_set-rmse:21.1239\n",
      "[1173]\ttrain_set-rmse:8.99807\tvalidation_set-rmse:21.1231\n",
      "[1174]\ttrain_set-rmse:8.99682\tvalidation_set-rmse:21.1229\n",
      "[1175]\ttrain_set-rmse:8.99557\tvalidation_set-rmse:21.1219\n",
      "[1176]\ttrain_set-rmse:8.99433\tvalidation_set-rmse:21.1217\n",
      "[1177]\ttrain_set-rmse:8.99308\tvalidation_set-rmse:21.1216\n",
      "[1178]\ttrain_set-rmse:8.99184\tvalidation_set-rmse:21.1196\n",
      "[1179]\ttrain_set-rmse:8.9906\tvalidation_set-rmse:21.1185\n",
      "[1180]\ttrain_set-rmse:8.98935\tvalidation_set-rmse:21.1183\n",
      "[1181]\ttrain_set-rmse:8.98811\tvalidation_set-rmse:21.1176\n",
      "[1182]\ttrain_set-rmse:8.98688\tvalidation_set-rmse:21.1165\n",
      "[1183]\ttrain_set-rmse:8.98564\tvalidation_set-rmse:21.1163\n",
      "[1184]\ttrain_set-rmse:8.9844\tvalidation_set-rmse:21.1162\n",
      "[1185]\ttrain_set-rmse:8.98317\tvalidation_set-rmse:21.1145\n",
      "[1186]\ttrain_set-rmse:8.98193\tvalidation_set-rmse:21.1134\n",
      "[1187]\ttrain_set-rmse:8.9807\tvalidation_set-rmse:21.1132\n",
      "[1188]\ttrain_set-rmse:8.97947\tvalidation_set-rmse:21.1125\n",
      "[1189]\ttrain_set-rmse:8.97824\tvalidation_set-rmse:21.1119\n",
      "[1190]\ttrain_set-rmse:8.97701\tvalidation_set-rmse:21.1108\n",
      "[1191]\ttrain_set-rmse:8.97578\tvalidation_set-rmse:21.1106\n",
      "[1192]\ttrain_set-rmse:8.97456\tvalidation_set-rmse:21.1106\n",
      "[1193]\ttrain_set-rmse:8.97333\tvalidation_set-rmse:21.1091\n",
      "[1194]\ttrain_set-rmse:8.97211\tvalidation_set-rmse:21.1084\n",
      "[1195]\ttrain_set-rmse:8.97089\tvalidation_set-rmse:21.1082\n",
      "[1196]\ttrain_set-rmse:8.96967\tvalidation_set-rmse:21.1071\n",
      "[1197]\ttrain_set-rmse:8.96844\tvalidation_set-rmse:21.1051\n",
      "[1198]\ttrain_set-rmse:8.96723\tvalidation_set-rmse:21.1051\n",
      "[1199]\ttrain_set-rmse:8.96601\tvalidation_set-rmse:21.1049\n",
      "[1200]\ttrain_set-rmse:8.96479\tvalidation_set-rmse:21.1038\n",
      "[1201]\ttrain_set-rmse:8.96358\tvalidation_set-rmse:21.1037\n",
      "[1202]\ttrain_set-rmse:8.96236\tvalidation_set-rmse:21.1029\n",
      "[1203]\ttrain_set-rmse:8.96115\tvalidation_set-rmse:21.1012\n",
      "[1204]\ttrain_set-rmse:8.95994\tvalidation_set-rmse:21.1001\n",
      "[1205]\ttrain_set-rmse:8.95873\tvalidation_set-rmse:21.0999\n",
      "[1206]\ttrain_set-rmse:8.95752\tvalidation_set-rmse:21.0999\n",
      "[1207]\ttrain_set-rmse:8.95631\tvalidation_set-rmse:21.0994\n",
      "[1208]\ttrain_set-rmse:8.9551\tvalidation_set-rmse:21.0982\n",
      "[1209]\ttrain_set-rmse:8.9539\tvalidation_set-rmse:21.0975\n",
      "[1210]\ttrain_set-rmse:8.9527\tvalidation_set-rmse:21.0973\n",
      "[1211]\ttrain_set-rmse:8.95149\tvalidation_set-rmse:21.0963\n",
      "[1212]\ttrain_set-rmse:8.95029\tvalidation_set-rmse:21.0961\n",
      "[1213]\ttrain_set-rmse:8.94909\tvalidation_set-rmse:21.0961\n",
      "[1214]\ttrain_set-rmse:8.94789\tvalidation_set-rmse:21.0943\n",
      "[1215]\ttrain_set-rmse:8.94669\tvalidation_set-rmse:21.0933\n",
      "[1216]\ttrain_set-rmse:8.94549\tvalidation_set-rmse:21.0931\n",
      "[1217]\ttrain_set-rmse:8.9443\tvalidation_set-rmse:21.0924\n",
      "[1218]\ttrain_set-rmse:8.9431\tvalidation_set-rmse:21.0918\n",
      "[1219]\ttrain_set-rmse:8.94191\tvalidation_set-rmse:21.0908\n",
      "[1220]\ttrain_set-rmse:8.94072\tvalidation_set-rmse:21.0906\n",
      "[1221]\ttrain_set-rmse:8.93953\tvalidation_set-rmse:21.0906\n",
      "[1222]\ttrain_set-rmse:8.93834\tvalidation_set-rmse:21.0891\n",
      "[1223]\ttrain_set-rmse:8.93715\tvalidation_set-rmse:21.0881\n",
      "[1224]\ttrain_set-rmse:8.93596\tvalidation_set-rmse:21.0879\n",
      "[1225]\ttrain_set-rmse:8.93477\tvalidation_set-rmse:21.0872\n",
      "[1226]\ttrain_set-rmse:8.93359\tvalidation_set-rmse:21.0867\n",
      "[1227]\ttrain_set-rmse:8.93241\tvalidation_set-rmse:21.0866\n",
      "[1228]\ttrain_set-rmse:8.93122\tvalidation_set-rmse:21.0865\n",
      "[1229]\ttrain_set-rmse:8.93004\tvalidation_set-rmse:21.0854\n",
      "[1230]\ttrain_set-rmse:8.92886\tvalidation_set-rmse:21.0837\n",
      "[1231]\ttrain_set-rmse:8.92768\tvalidation_set-rmse:21.083\n",
      "[1232]\ttrain_set-rmse:8.92651\tvalidation_set-rmse:21.0828\n",
      "[1233]\ttrain_set-rmse:8.92533\tvalidation_set-rmse:21.0818\n",
      "[1234]\ttrain_set-rmse:8.92415\tvalidation_set-rmse:21.0816\n",
      "[1235]\ttrain_set-rmse:8.92298\tvalidation_set-rmse:21.0816\n",
      "[1236]\ttrain_set-rmse:8.92181\tvalidation_set-rmse:21.0805\n",
      "[1237]\ttrain_set-rmse:8.92063\tvalidation_set-rmse:21.0803\n",
      "[1238]\ttrain_set-rmse:8.91946\tvalidation_set-rmse:21.0796\n",
      "[1239]\ttrain_set-rmse:8.91829\tvalidation_set-rmse:21.0776\n",
      "[1240]\ttrain_set-rmse:8.91713\tvalidation_set-rmse:21.0766\n",
      "[1241]\ttrain_set-rmse:8.91596\tvalidation_set-rmse:21.0765\n",
      "[1242]\ttrain_set-rmse:8.91479\tvalidation_set-rmse:21.0764\n",
      "[1243]\ttrain_set-rmse:8.91363\tvalidation_set-rmse:21.0747\n",
      "[1244]\ttrain_set-rmse:8.91246\tvalidation_set-rmse:21.0737\n",
      "[1245]\ttrain_set-rmse:8.9113\tvalidation_set-rmse:21.0735\n",
      "[1246]\ttrain_set-rmse:8.91014\tvalidation_set-rmse:21.0728\n",
      "[1247]\ttrain_set-rmse:8.90898\tvalidation_set-rmse:21.0723\n",
      "[1248]\ttrain_set-rmse:8.90782\tvalidation_set-rmse:21.0711\n",
      "[1249]\ttrain_set-rmse:8.90666\tvalidation_set-rmse:21.0711\n",
      "[1250]\ttrain_set-rmse:8.9055\tvalidation_set-rmse:21.0709\n",
      "[1251]\ttrain_set-rmse:8.90435\tvalidation_set-rmse:21.0699\n",
      "[1252]\ttrain_set-rmse:8.90319\tvalidation_set-rmse:21.0698\n",
      "[1253]\ttrain_set-rmse:8.90204\tvalidation_set-rmse:21.0691\n",
      "[1254]\ttrain_set-rmse:8.90089\tvalidation_set-rmse:21.0676\n",
      "[1255]\ttrain_set-rmse:8.89974\tvalidation_set-rmse:21.0666\n",
      "[1256]\ttrain_set-rmse:8.89859\tvalidation_set-rmse:21.0664\n",
      "[1257]\ttrain_set-rmse:8.89744\tvalidation_set-rmse:21.0664\n",
      "[1258]\ttrain_set-rmse:8.89629\tvalidation_set-rmse:21.0659\n",
      "[1259]\ttrain_set-rmse:8.89514\tvalidation_set-rmse:21.0649\n",
      "[1260]\ttrain_set-rmse:8.894\tvalidation_set-rmse:21.0647\n",
      "[1261]\ttrain_set-rmse:8.89285\tvalidation_set-rmse:21.0638\n",
      "[1262]\ttrain_set-rmse:8.89171\tvalidation_set-rmse:21.0618\n",
      "[1263]\ttrain_set-rmse:8.89057\tvalidation_set-rmse:21.0618\n",
      "[1264]\ttrain_set-rmse:8.88943\tvalidation_set-rmse:21.0616\n",
      "[1265]\ttrain_set-rmse:8.88829\tvalidation_set-rmse:21.0606\n",
      "[1266]\ttrain_set-rmse:8.88715\tvalidation_set-rmse:21.0606\n",
      "[1267]\ttrain_set-rmse:8.88601\tvalidation_set-rmse:21.0604\n",
      "[1268]\ttrain_set-rmse:8.88487\tvalidation_set-rmse:21.0594\n",
      "[1269]\ttrain_set-rmse:8.88374\tvalidation_set-rmse:21.0578\n",
      "[1270]\ttrain_set-rmse:8.8826\tvalidation_set-rmse:21.0571\n",
      "[1271]\ttrain_set-rmse:8.88147\tvalidation_set-rmse:21.0569\n",
      "[1272]\ttrain_set-rmse:8.88034\tvalidation_set-rmse:21.0559\n",
      "[1273]\ttrain_set-rmse:8.87921\tvalidation_set-rmse:21.0554\n",
      "[1274]\ttrain_set-rmse:8.87808\tvalidation_set-rmse:21.0553\n",
      "[1275]\ttrain_set-rmse:8.87695\tvalidation_set-rmse:21.0539\n",
      "[1276]\ttrain_set-rmse:8.87582\tvalidation_set-rmse:21.0529\n",
      "[1277]\ttrain_set-rmse:8.87469\tvalidation_set-rmse:21.0527\n",
      "[1278]\ttrain_set-rmse:8.87357\tvalidation_set-rmse:21.0521\n",
      "[1279]\ttrain_set-rmse:8.87244\tvalidation_set-rmse:21.0519\n",
      "[1280]\ttrain_set-rmse:8.87132\tvalidation_set-rmse:21.0509\n",
      "[1281]\ttrain_set-rmse:8.8702\tvalidation_set-rmse:21.0492\n",
      "[1282]\ttrain_set-rmse:8.86908\tvalidation_set-rmse:21.0492\n",
      "[1283]\ttrain_set-rmse:8.86795\tvalidation_set-rmse:21.049\n",
      "[1284]\ttrain_set-rmse:8.86684\tvalidation_set-rmse:21.0481\n",
      "[1285]\ttrain_set-rmse:8.86572\tvalidation_set-rmse:21.0476\n",
      "[1286]\ttrain_set-rmse:8.8646\tvalidation_set-rmse:21.0465\n",
      "[1287]\ttrain_set-rmse:8.86348\tvalidation_set-rmse:21.0464\n",
      "[1288]\ttrain_set-rmse:8.86237\tvalidation_set-rmse:21.0464\n",
      "[1289]\ttrain_set-rmse:8.86125\tvalidation_set-rmse:21.0454\n",
      "[1290]\ttrain_set-rmse:8.86014\tvalidation_set-rmse:21.0452\n",
      "[1291]\ttrain_set-rmse:8.85903\tvalidation_set-rmse:21.0445\n",
      "[1292]\ttrain_set-rmse:8.85792\tvalidation_set-rmse:21.0426\n",
      "[1293]\ttrain_set-rmse:8.85681\tvalidation_set-rmse:21.0417\n",
      "[1294]\ttrain_set-rmse:8.8557\tvalidation_set-rmse:21.0415\n",
      "[1295]\ttrain_set-rmse:8.85459\tvalidation_set-rmse:21.0415\n",
      "[1296]\ttrain_set-rmse:8.85349\tvalidation_set-rmse:21.0404\n",
      "[1297]\ttrain_set-rmse:8.85238\tvalidation_set-rmse:21.0402\n"
     ]
    },
    {
     "name": "stdout",
     "output_type": "stream",
     "text": [
      "[1298]\ttrain_set-rmse:8.85128\tvalidation_set-rmse:21.0392\n",
      "[1299]\ttrain_set-rmse:8.85018\tvalidation_set-rmse:21.0376\n",
      "[1300]\ttrain_set-rmse:8.84907\tvalidation_set-rmse:21.0369\n",
      "[1301]\ttrain_set-rmse:8.84797\tvalidation_set-rmse:21.0367\n",
      "[1302]\ttrain_set-rmse:8.84687\tvalidation_set-rmse:21.0358\n",
      "[1303]\ttrain_set-rmse:8.84578\tvalidation_set-rmse:21.0352\n",
      "[1304]\ttrain_set-rmse:8.84468\tvalidation_set-rmse:21.0352\n",
      "[1305]\ttrain_set-rmse:8.84358\tvalidation_set-rmse:21.0343\n",
      "[1306]\ttrain_set-rmse:8.84249\tvalidation_set-rmse:21.0341\n",
      "[1307]\ttrain_set-rmse:8.84139\tvalidation_set-rmse:21.0327\n",
      "[1308]\ttrain_set-rmse:8.8403\tvalidation_set-rmse:21.032\n",
      "[1309]\ttrain_set-rmse:8.83921\tvalidation_set-rmse:21.0318\n",
      "[1310]\ttrain_set-rmse:8.83812\tvalidation_set-rmse:21.0309\n",
      "[1311]\ttrain_set-rmse:8.83703\tvalidation_set-rmse:21.0307\n",
      "[1312]\ttrain_set-rmse:8.83594\tvalidation_set-rmse:21.0307\n",
      "[1313]\ttrain_set-rmse:8.83485\tvalidation_set-rmse:21.0298\n",
      "[1314]\ttrain_set-rmse:8.83376\tvalidation_set-rmse:21.0279\n",
      "[1315]\ttrain_set-rmse:8.83268\tvalidation_set-rmse:21.0277\n",
      "[1316]\ttrain_set-rmse:8.83159\tvalidation_set-rmse:21.0268\n",
      "[1317]\ttrain_set-rmse:8.83051\tvalidation_set-rmse:21.0267\n",
      "[1318]\ttrain_set-rmse:8.82942\tvalidation_set-rmse:21.0251\n",
      "[1319]\ttrain_set-rmse:8.82834\tvalidation_set-rmse:21.0249\n",
      "[1320]\ttrain_set-rmse:8.82726\tvalidation_set-rmse:21.024\n",
      "[1321]\ttrain_set-rmse:8.82618\tvalidation_set-rmse:21.0233\n",
      "[1322]\ttrain_set-rmse:8.8251\tvalidation_set-rmse:21.0228\n",
      "[1323]\ttrain_set-rmse:8.82403\tvalidation_set-rmse:21.0217\n",
      "[1324]\ttrain_set-rmse:8.82295\tvalidation_set-rmse:21.0216\n",
      "[1325]\ttrain_set-rmse:8.82188\tvalidation_set-rmse:21.0206\n",
      "[1326]\ttrain_set-rmse:8.8208\tvalidation_set-rmse:21.0206\n",
      "[1327]\ttrain_set-rmse:8.81973\tvalidation_set-rmse:21.0204\n",
      "[1328]\ttrain_set-rmse:8.81865\tvalidation_set-rmse:21.0195\n",
      "[1329]\ttrain_set-rmse:8.81758\tvalidation_set-rmse:21.0179\n",
      "[1330]\ttrain_set-rmse:8.81651\tvalidation_set-rmse:21.0179\n",
      "[1331]\ttrain_set-rmse:8.81545\tvalidation_set-rmse:21.0177\n",
      "[1332]\ttrain_set-rmse:8.81438\tvalidation_set-rmse:21.0168\n",
      "[1333]\ttrain_set-rmse:8.81331\tvalidation_set-rmse:21.0163\n",
      "[1334]\ttrain_set-rmse:8.81224\tvalidation_set-rmse:21.0163\n",
      "[1335]\ttrain_set-rmse:8.81118\tvalidation_set-rmse:21.0161\n",
      "[1336]\ttrain_set-rmse:8.81011\tvalidation_set-rmse:21.0152\n",
      "[1337]\ttrain_set-rmse:8.80905\tvalidation_set-rmse:21.0145\n",
      "[1338]\ttrain_set-rmse:8.80799\tvalidation_set-rmse:21.0131\n",
      "[1339]\ttrain_set-rmse:8.80693\tvalidation_set-rmse:21.0129\n",
      "[1340]\ttrain_set-rmse:8.80587\tvalidation_set-rmse:21.012\n",
      "[1341]\ttrain_set-rmse:8.80481\tvalidation_set-rmse:21.0118\n",
      "[1342]\ttrain_set-rmse:8.80375\tvalidation_set-rmse:21.0118\n",
      "[1343]\ttrain_set-rmse:8.8027\tvalidation_set-rmse:21.0108\n",
      "[1344]\ttrain_set-rmse:8.80164\tvalidation_set-rmse:21.0104\n",
      "[1345]\ttrain_set-rmse:8.80059\tvalidation_set-rmse:21.0097\n",
      "[1346]\ttrain_set-rmse:8.79953\tvalidation_set-rmse:21.0096\n",
      "[1347]\ttrain_set-rmse:8.79848\tvalidation_set-rmse:21.0086\n",
      "[1348]\ttrain_set-rmse:8.79743\tvalidation_set-rmse:21.007\n",
      "[1349]\ttrain_set-rmse:8.79638\tvalidation_set-rmse:21.007\n",
      "[1350]\ttrain_set-rmse:8.79533\tvalidation_set-rmse:21.0068\n",
      "[1351]\ttrain_set-rmse:8.79428\tvalidation_set-rmse:21.0059\n",
      "[1352]\ttrain_set-rmse:8.79323\tvalidation_set-rmse:21.0054\n",
      "[1353]\ttrain_set-rmse:8.79219\tvalidation_set-rmse:21.0045\n",
      "[1354]\ttrain_set-rmse:8.79114\tvalidation_set-rmse:21.0045\n",
      "[1355]\ttrain_set-rmse:8.7901\tvalidation_set-rmse:21.0043\n",
      "[1356]\ttrain_set-rmse:8.78905\tvalidation_set-rmse:21.0029\n",
      "[1357]\ttrain_set-rmse:8.78801\tvalidation_set-rmse:21.002\n",
      "[1358]\ttrain_set-rmse:8.78697\tvalidation_set-rmse:21.0019\n",
      "[1359]\ttrain_set-rmse:8.78593\tvalidation_set-rmse:21.0012\n",
      "[1360]\ttrain_set-rmse:8.78489\tvalidation_set-rmse:20.9994\n",
      "[1361]\ttrain_set-rmse:8.78385\tvalidation_set-rmse:20.9985\n",
      "[1362]\ttrain_set-rmse:8.78282\tvalidation_set-rmse:20.9983\n",
      "[1363]\ttrain_set-rmse:8.78178\tvalidation_set-rmse:20.9983\n",
      "[1364]\ttrain_set-rmse:8.78075\tvalidation_set-rmse:20.9973\n",
      "[1365]\ttrain_set-rmse:8.77971\tvalidation_set-rmse:20.9971\n",
      "[1366]\ttrain_set-rmse:8.77868\tvalidation_set-rmse:20.9962\n",
      "[1367]\ttrain_set-rmse:8.77765\tvalidation_set-rmse:20.9955\n",
      "[1368]\ttrain_set-rmse:8.77661\tvalidation_set-rmse:20.9954\n",
      "[1369]\ttrain_set-rmse:8.77558\tvalidation_set-rmse:20.9938\n",
      "[1370]\ttrain_set-rmse:8.77456\tvalidation_set-rmse:20.9929\n",
      "[1371]\ttrain_set-rmse:8.77353\tvalidation_set-rmse:20.9929\n",
      "[1372]\ttrain_set-rmse:8.7725\tvalidation_set-rmse:20.9927\n",
      "[1373]\ttrain_set-rmse:8.77148\tvalidation_set-rmse:20.9918\n",
      "[1374]\ttrain_set-rmse:8.77045\tvalidation_set-rmse:20.9913\n",
      "[1375]\ttrain_set-rmse:8.76943\tvalidation_set-rmse:20.9907\n",
      "[1376]\ttrain_set-rmse:8.7684\tvalidation_set-rmse:20.9888\n",
      "[1377]\ttrain_set-rmse:8.76738\tvalidation_set-rmse:20.9879\n",
      "[1378]\ttrain_set-rmse:8.76636\tvalidation_set-rmse:20.9878\n",
      "[1379]\ttrain_set-rmse:8.76534\tvalidation_set-rmse:20.9878\n",
      "[1380]\ttrain_set-rmse:8.76432\tvalidation_set-rmse:20.9864\n",
      "[1381]\ttrain_set-rmse:8.7633\tvalidation_set-rmse:20.9863\n",
      "[1382]\ttrain_set-rmse:8.76229\tvalidation_set-rmse:20.9854\n",
      "[1383]\ttrain_set-rmse:8.76127\tvalidation_set-rmse:20.9853\n",
      "[1384]\ttrain_set-rmse:8.76026\tvalidation_set-rmse:20.9852\n",
      "[1385]\ttrain_set-rmse:8.75924\tvalidation_set-rmse:20.9843\n",
      "[1386]\ttrain_set-rmse:8.75823\tvalidation_set-rmse:20.9827\n",
      "[1387]\ttrain_set-rmse:8.75722\tvalidation_set-rmse:20.9827\n",
      "[1388]\ttrain_set-rmse:8.7562\tvalidation_set-rmse:20.9826\n",
      "[1389]\ttrain_set-rmse:8.7552\tvalidation_set-rmse:20.9817\n",
      "[1390]\ttrain_set-rmse:8.75419\tvalidation_set-rmse:20.9815\n",
      "[1391]\ttrain_set-rmse:8.75318\tvalidation_set-rmse:20.9809\n",
      "[1392]\ttrain_set-rmse:8.75217\tvalidation_set-rmse:20.9799\n",
      "[1393]\ttrain_set-rmse:8.75116\tvalidation_set-rmse:20.9795\n",
      "[1394]\ttrain_set-rmse:8.75016\tvalidation_set-rmse:20.9786\n",
      "[1395]\ttrain_set-rmse:8.74916\tvalidation_set-rmse:20.9784\n",
      "[1396]\ttrain_set-rmse:8.74815\tvalidation_set-rmse:20.9784\n",
      "[1397]\ttrain_set-rmse:8.74715\tvalidation_set-rmse:20.9769\n",
      "[1398]\ttrain_set-rmse:8.74615\tvalidation_set-rmse:20.976\n",
      "[1399]\ttrain_set-rmse:8.74515\tvalidation_set-rmse:20.9758\n",
      "[1400]\ttrain_set-rmse:8.74415\tvalidation_set-rmse:20.9752\n",
      "[1401]\ttrain_set-rmse:8.74315\tvalidation_set-rmse:20.9747\n",
      "[1402]\ttrain_set-rmse:8.74215\tvalidation_set-rmse:20.9738\n",
      "[1403]\ttrain_set-rmse:8.74116\tvalidation_set-rmse:20.9737\n",
      "[1404]\ttrain_set-rmse:8.74016\tvalidation_set-rmse:20.9736\n",
      "[1405]\ttrain_set-rmse:8.73917\tvalidation_set-rmse:20.9726\n",
      "[1406]\ttrain_set-rmse:8.73817\tvalidation_set-rmse:20.9725\n",
      "[1407]\ttrain_set-rmse:8.73718\tvalidation_set-rmse:20.9716\n",
      "[1408]\ttrain_set-rmse:8.73619\tvalidation_set-rmse:20.9716\n",
      "[1409]\ttrain_set-rmse:8.7352\tvalidation_set-rmse:20.9698\n",
      "[1410]\ttrain_set-rmse:8.73421\tvalidation_set-rmse:20.9689\n",
      "[1411]\ttrain_set-rmse:8.73322\tvalidation_set-rmse:20.9688\n",
      "[1412]\ttrain_set-rmse:8.73223\tvalidation_set-rmse:20.9681\n",
      "[1413]\ttrain_set-rmse:8.73125\tvalidation_set-rmse:20.9666\n",
      "[1414]\ttrain_set-rmse:8.73026\tvalidation_set-rmse:20.9664\n",
      "[1415]\ttrain_set-rmse:8.72928\tvalidation_set-rmse:20.9656\n",
      "[1416]\ttrain_set-rmse:8.72829\tvalidation_set-rmse:20.9656\n",
      "[1417]\ttrain_set-rmse:8.72731\tvalidation_set-rmse:20.9654\n",
      "[1418]\ttrain_set-rmse:8.72633\tvalidation_set-rmse:20.9645\n",
      "[1419]\ttrain_set-rmse:8.72535\tvalidation_set-rmse:20.9632\n",
      "[1420]\ttrain_set-rmse:8.72437\tvalidation_set-rmse:20.9631\n",
      "[1421]\ttrain_set-rmse:8.72339\tvalidation_set-rmse:20.9625\n",
      "[1422]\ttrain_set-rmse:8.72241\tvalidation_set-rmse:20.9616\n",
      "[1423]\ttrain_set-rmse:8.72143\tvalidation_set-rmse:20.9611\n",
      "[1424]\ttrain_set-rmse:8.72046\tvalidation_set-rmse:20.9611\n",
      "[1425]\ttrain_set-rmse:8.71948\tvalidation_set-rmse:20.9609\n",
      "[1426]\ttrain_set-rmse:8.71851\tvalidation_set-rmse:20.9601\n",
      "[1427]\ttrain_set-rmse:8.71754\tvalidation_set-rmse:20.9585\n",
      "[1428]\ttrain_set-rmse:8.71656\tvalidation_set-rmse:20.9579\n",
      "[1429]\ttrain_set-rmse:8.71559\tvalidation_set-rmse:20.9578\n",
      "[1430]\ttrain_set-rmse:8.71462\tvalidation_set-rmse:20.9569\n",
      "[1431]\ttrain_set-rmse:8.71365\tvalidation_set-rmse:20.9565\n",
      "[1432]\ttrain_set-rmse:8.71269\tvalidation_set-rmse:20.9565\n",
      "[1433]\ttrain_set-rmse:8.71172\tvalidation_set-rmse:20.9555\n",
      "[1434]\ttrain_set-rmse:8.71075\tvalidation_set-rmse:20.9554\n",
      "[1435]\ttrain_set-rmse:8.70979\tvalidation_set-rmse:20.9545\n",
      "[1436]\ttrain_set-rmse:8.70882\tvalidation_set-rmse:20.9544\n",
      "[1437]\ttrain_set-rmse:8.70786\tvalidation_set-rmse:20.9544\n",
      "[1438]\ttrain_set-rmse:8.7069\tvalidation_set-rmse:20.9531\n",
      "[1439]\ttrain_set-rmse:8.70594\tvalidation_set-rmse:20.9522\n"
     ]
    },
    {
     "name": "stdout",
     "output_type": "stream",
     "text": [
      "[1440]\ttrain_set-rmse:8.70497\tvalidation_set-rmse:20.952\n",
      "[1441]\ttrain_set-rmse:8.70401\tvalidation_set-rmse:20.9514\n",
      "[1442]\ttrain_set-rmse:8.70305\tvalidation_set-rmse:20.951\n",
      "[1443]\ttrain_set-rmse:8.7021\tvalidation_set-rmse:20.9502\n",
      "[1444]\ttrain_set-rmse:8.70114\tvalidation_set-rmse:20.95\n",
      "[1445]\ttrain_set-rmse:8.70018\tvalidation_set-rmse:20.95\n",
      "[1446]\ttrain_set-rmse:8.69923\tvalidation_set-rmse:20.9485\n",
      "[1447]\ttrain_set-rmse:8.69828\tvalidation_set-rmse:20.9476\n",
      "[1448]\ttrain_set-rmse:8.69732\tvalidation_set-rmse:20.9475\n",
      "[1449]\ttrain_set-rmse:8.69637\tvalidation_set-rmse:20.9469\n",
      "[1450]\ttrain_set-rmse:8.69542\tvalidation_set-rmse:20.9467\n",
      "[1451]\ttrain_set-rmse:8.69447\tvalidation_set-rmse:20.9459\n",
      "[1452]\ttrain_set-rmse:8.69352\tvalidation_set-rmse:20.9449\n",
      "[1453]\ttrain_set-rmse:8.69257\tvalidation_set-rmse:20.9444\n",
      "[1454]\ttrain_set-rmse:8.69162\tvalidation_set-rmse:20.9444\n",
      "[1455]\ttrain_set-rmse:8.69068\tvalidation_set-rmse:20.9427\n",
      "[1456]\ttrain_set-rmse:8.68973\tvalidation_set-rmse:20.9418\n",
      "[1457]\ttrain_set-rmse:8.68878\tvalidation_set-rmse:20.9417\n",
      "[1458]\ttrain_set-rmse:8.68784\tvalidation_set-rmse:20.9417\n",
      "[1459]\ttrain_set-rmse:8.6869\tvalidation_set-rmse:20.9408\n",
      "[1460]\ttrain_set-rmse:8.68595\tvalidation_set-rmse:20.9407\n",
      "[1461]\ttrain_set-rmse:8.68501\tvalidation_set-rmse:20.9394\n",
      "[1462]\ttrain_set-rmse:8.68407\tvalidation_set-rmse:20.9394\n",
      "[1463]\ttrain_set-rmse:8.68314\tvalidation_set-rmse:20.9393\n",
      "[1464]\ttrain_set-rmse:8.6822\tvalidation_set-rmse:20.9384\n",
      "[1465]\ttrain_set-rmse:8.68126\tvalidation_set-rmse:20.9369\n",
      "[1466]\ttrain_set-rmse:8.68032\tvalidation_set-rmse:20.9363\n",
      "[1467]\ttrain_set-rmse:8.67939\tvalidation_set-rmse:20.9362\n",
      "[1468]\ttrain_set-rmse:8.67845\tvalidation_set-rmse:20.9353\n",
      "[1469]\ttrain_set-rmse:8.67752\tvalidation_set-rmse:20.9352\n",
      "[1470]\ttrain_set-rmse:8.67659\tvalidation_set-rmse:20.9352\n",
      "[1471]\ttrain_set-rmse:8.67565\tvalidation_set-rmse:20.9343\n",
      "[1472]\ttrain_set-rmse:8.67472\tvalidation_set-rmse:20.9339\n",
      "[1473]\ttrain_set-rmse:8.67379\tvalidation_set-rmse:20.933\n",
      "[1474]\ttrain_set-rmse:8.67286\tvalidation_set-rmse:20.9329\n",
      "[1475]\ttrain_set-rmse:8.67194\tvalidation_set-rmse:20.9323\n",
      "[1476]\ttrain_set-rmse:8.67101\tvalidation_set-rmse:20.9314\n",
      "[1477]\ttrain_set-rmse:8.67008\tvalidation_set-rmse:20.9313\n",
      "[1478]\ttrain_set-rmse:8.66916\tvalidation_set-rmse:20.9298\n",
      "[1479]\ttrain_set-rmse:8.66823\tvalidation_set-rmse:20.9298\n",
      "[1480]\ttrain_set-rmse:8.66731\tvalidation_set-rmse:20.929\n",
      "[1481]\ttrain_set-rmse:8.66639\tvalidation_set-rmse:20.9288\n",
      "[1482]\ttrain_set-rmse:8.66546\tvalidation_set-rmse:20.9271\n",
      "[1483]\ttrain_set-rmse:8.66454\tvalidation_set-rmse:20.9271\n",
      "[1484]\ttrain_set-rmse:8.66362\tvalidation_set-rmse:20.9263\n",
      "[1485]\ttrain_set-rmse:8.6627\tvalidation_set-rmse:20.9261\n",
      "[1486]\ttrain_set-rmse:8.66179\tvalidation_set-rmse:20.9252\n",
      "[1487]\ttrain_set-rmse:8.66087\tvalidation_set-rmse:20.9244\n",
      "[1488]\ttrain_set-rmse:8.65995\tvalidation_set-rmse:20.9243\n",
      "[1489]\ttrain_set-rmse:8.65904\tvalidation_set-rmse:20.9237\n",
      "[1490]\ttrain_set-rmse:8.65812\tvalidation_set-rmse:20.9233\n",
      "[1491]\ttrain_set-rmse:8.65721\tvalidation_set-rmse:20.9225\n",
      "[1492]\ttrain_set-rmse:8.6563\tvalidation_set-rmse:20.9211\n",
      "[1493]\ttrain_set-rmse:8.65538\tvalidation_set-rmse:20.921\n",
      "[1494]\ttrain_set-rmse:8.65447\tvalidation_set-rmse:20.9209\n",
      "[1495]\ttrain_set-rmse:8.65356\tvalidation_set-rmse:20.9202\n",
      "[1496]\ttrain_set-rmse:8.65265\tvalidation_set-rmse:20.92\n",
      "[1497]\ttrain_set-rmse:8.65174\tvalidation_set-rmse:20.9195\n",
      "[1498]\ttrain_set-rmse:8.65083\tvalidation_set-rmse:20.9187\n",
      "[1499]\ttrain_set-rmse:8.64993\tvalidation_set-rmse:20.9183\n",
      "[1500]\ttrain_set-rmse:8.64902\tvalidation_set-rmse:20.9183\n",
      "[1501]\ttrain_set-rmse:8.64812\tvalidation_set-rmse:20.9182\n",
      "[1502]\ttrain_set-rmse:8.64721\tvalidation_set-rmse:20.9173\n",
      "[1503]\ttrain_set-rmse:8.64631\tvalidation_set-rmse:20.9161\n",
      "[1504]\ttrain_set-rmse:8.64541\tvalidation_set-rmse:20.9154\n",
      "[1505]\ttrain_set-rmse:8.6445\tvalidation_set-rmse:20.9152\n",
      "[1506]\ttrain_set-rmse:8.6436\tvalidation_set-rmse:20.9152\n",
      "[1507]\ttrain_set-rmse:8.6427\tvalidation_set-rmse:20.9151\n",
      "[1508]\ttrain_set-rmse:8.6418\tvalidation_set-rmse:20.9143\n",
      "[1509]\ttrain_set-rmse:8.6409\tvalidation_set-rmse:20.9129\n",
      "[1510]\ttrain_set-rmse:8.64001\tvalidation_set-rmse:20.9123\n",
      "[1511]\ttrain_set-rmse:8.63911\tvalidation_set-rmse:20.9122\n",
      "[1512]\ttrain_set-rmse:8.63821\tvalidation_set-rmse:20.9115\n",
      "[1513]\ttrain_set-rmse:8.63732\tvalidation_set-rmse:20.9105\n",
      "[1514]\ttrain_set-rmse:8.63642\tvalidation_set-rmse:20.9101\n",
      "[1515]\ttrain_set-rmse:8.63553\tvalidation_set-rmse:20.9093\n",
      "[1516]\ttrain_set-rmse:8.63464\tvalidation_set-rmse:20.9093\n",
      "[1517]\ttrain_set-rmse:8.63375\tvalidation_set-rmse:20.9092\n",
      "[1518]\ttrain_set-rmse:8.63286\tvalidation_set-rmse:20.9085\n",
      "[1519]\ttrain_set-rmse:8.63197\tvalidation_set-rmse:20.9068\n",
      "[1520]\ttrain_set-rmse:8.63108\tvalidation_set-rmse:20.9068\n",
      "[1521]\ttrain_set-rmse:8.63019\tvalidation_set-rmse:20.9067\n",
      "[1522]\ttrain_set-rmse:8.6293\tvalidation_set-rmse:20.9059\n",
      "[1523]\ttrain_set-rmse:8.62842\tvalidation_set-rmse:20.9047\n",
      "[1524]\ttrain_set-rmse:8.62753\tvalidation_set-rmse:20.9046\n",
      "[1525]\ttrain_set-rmse:8.62664\tvalidation_set-rmse:20.9046\n",
      "[1526]\ttrain_set-rmse:8.62576\tvalidation_set-rmse:20.9038\n",
      "[1527]\ttrain_set-rmse:8.62488\tvalidation_set-rmse:20.9037\n",
      "[1528]\ttrain_set-rmse:8.62399\tvalidation_set-rmse:20.9029\n",
      "[1529]\ttrain_set-rmse:8.62311\tvalidation_set-rmse:20.9012\n",
      "[1530]\ttrain_set-rmse:8.62223\tvalidation_set-rmse:20.9007\n",
      "[1531]\ttrain_set-rmse:8.62135\tvalidation_set-rmse:20.9005\n",
      "[1532]\ttrain_set-rmse:8.62047\tvalidation_set-rmse:20.8998\n",
      "[1533]\ttrain_set-rmse:8.61959\tvalidation_set-rmse:20.8998\n",
      "[1534]\ttrain_set-rmse:8.61872\tvalidation_set-rmse:20.8994\n",
      "[1535]\ttrain_set-rmse:8.61784\tvalidation_set-rmse:20.8988\n",
      "[1536]\ttrain_set-rmse:8.61696\tvalidation_set-rmse:20.8973\n",
      "[1537]\ttrain_set-rmse:8.61609\tvalidation_set-rmse:20.8964\n",
      "[1538]\ttrain_set-rmse:8.61521\tvalidation_set-rmse:20.8963\n",
      "[1539]\ttrain_set-rmse:8.61434\tvalidation_set-rmse:20.8957\n",
      "[1540]\ttrain_set-rmse:8.61347\tvalidation_set-rmse:20.8957\n",
      "[1541]\ttrain_set-rmse:8.6126\tvalidation_set-rmse:20.8956\n",
      "[1542]\ttrain_set-rmse:8.61172\tvalidation_set-rmse:20.895\n",
      "[1543]\ttrain_set-rmse:8.61085\tvalidation_set-rmse:20.8937\n",
      "[1544]\ttrain_set-rmse:8.60998\tvalidation_set-rmse:20.893\n",
      "[1545]\ttrain_set-rmse:8.60911\tvalidation_set-rmse:20.8929\n",
      "[1546]\ttrain_set-rmse:8.60825\tvalidation_set-rmse:20.8923\n",
      "[1547]\ttrain_set-rmse:8.60738\tvalidation_set-rmse:20.8917\n",
      "[1548]\ttrain_set-rmse:8.60651\tvalidation_set-rmse:20.8916\n",
      "[1549]\ttrain_set-rmse:8.60565\tvalidation_set-rmse:20.8916\n",
      "[1550]\ttrain_set-rmse:8.60478\tvalidation_set-rmse:20.891\n",
      "[1551]\ttrain_set-rmse:8.60392\tvalidation_set-rmse:20.8906\n",
      "[1552]\ttrain_set-rmse:8.60305\tvalidation_set-rmse:20.8891\n",
      "[1553]\ttrain_set-rmse:8.60219\tvalidation_set-rmse:20.8885\n",
      "[1554]\ttrain_set-rmse:8.60133\tvalidation_set-rmse:20.8884\n",
      "[1555]\ttrain_set-rmse:8.60046\tvalidation_set-rmse:20.8884\n",
      "[1556]\ttrain_set-rmse:8.59961\tvalidation_set-rmse:20.8877\n",
      "[1557]\ttrain_set-rmse:8.59874\tvalidation_set-rmse:20.8875\n",
      "[1558]\ttrain_set-rmse:8.59789\tvalidation_set-rmse:20.887\n",
      "[1559]\ttrain_set-rmse:8.59703\tvalidation_set-rmse:20.886\n",
      "[1560]\ttrain_set-rmse:8.59617\tvalidation_set-rmse:20.886\n",
      "[1561]\ttrain_set-rmse:8.59531\tvalidation_set-rmse:20.8855\n",
      "[1562]\ttrain_set-rmse:8.59446\tvalidation_set-rmse:20.8849\n",
      "[1563]\ttrain_set-rmse:8.5936\tvalidation_set-rmse:20.8849\n",
      "[1564]\ttrain_set-rmse:8.59275\tvalidation_set-rmse:20.8834\n",
      "[1565]\ttrain_set-rmse:8.59189\tvalidation_set-rmse:20.8828\n",
      "[1566]\ttrain_set-rmse:8.59104\tvalidation_set-rmse:20.8827\n",
      "[1567]\ttrain_set-rmse:8.59018\tvalidation_set-rmse:20.8827\n",
      "[1568]\ttrain_set-rmse:8.58933\tvalidation_set-rmse:20.8827\n",
      "[1569]\ttrain_set-rmse:8.58848\tvalidation_set-rmse:20.8819\n",
      "[1570]\ttrain_set-rmse:8.58763\tvalidation_set-rmse:20.8813\n",
      "[1571]\ttrain_set-rmse:8.58678\tvalidation_set-rmse:20.8809\n",
      "[1572]\ttrain_set-rmse:8.58593\tvalidation_set-rmse:20.8809\n",
      "[1573]\ttrain_set-rmse:8.58508\tvalidation_set-rmse:20.8809\n",
      "[1574]\ttrain_set-rmse:8.58424\tvalidation_set-rmse:20.8803\n",
      "[1575]\ttrain_set-rmse:8.58339\tvalidation_set-rmse:20.8791\n",
      "[1576]\ttrain_set-rmse:8.58254\tvalidation_set-rmse:20.8791\n",
      "[1577]\ttrain_set-rmse:8.5817\tvalidation_set-rmse:20.8785\n",
      "[1578]\ttrain_set-rmse:8.58085\tvalidation_set-rmse:20.8779\n",
      "[1579]\ttrain_set-rmse:8.58001\tvalidation_set-rmse:20.8779\n",
      "[1580]\ttrain_set-rmse:8.57916\tvalidation_set-rmse:20.8771\n",
      "[1581]\ttrain_set-rmse:8.57832\tvalidation_set-rmse:20.8765\n"
     ]
    },
    {
     "name": "stdout",
     "output_type": "stream",
     "text": [
      "[1582]\ttrain_set-rmse:8.57748\tvalidation_set-rmse:20.876\n",
      "[1583]\ttrain_set-rmse:8.57664\tvalidation_set-rmse:20.876\n",
      "[1584]\ttrain_set-rmse:8.57579\tvalidation_set-rmse:20.876\n",
      "[1585]\ttrain_set-rmse:8.57495\tvalidation_set-rmse:20.8754\n",
      "[1586]\ttrain_set-rmse:8.57412\tvalidation_set-rmse:20.874\n",
      "[1587]\ttrain_set-rmse:8.57328\tvalidation_set-rmse:20.874\n",
      "[1588]\ttrain_set-rmse:8.57244\tvalidation_set-rmse:20.8733\n",
      "[1589]\ttrain_set-rmse:8.5716\tvalidation_set-rmse:20.8728\n",
      "[1590]\ttrain_set-rmse:8.57076\tvalidation_set-rmse:20.8728\n",
      "[1591]\ttrain_set-rmse:8.56993\tvalidation_set-rmse:20.8722\n",
      "[1592]\ttrain_set-rmse:8.56909\tvalidation_set-rmse:20.8706\n",
      "[1593]\ttrain_set-rmse:8.56826\tvalidation_set-rmse:20.87\n",
      "[1594]\ttrain_set-rmse:8.56743\tvalidation_set-rmse:20.87\n",
      "[1595]\ttrain_set-rmse:8.56659\tvalidation_set-rmse:20.87\n",
      "[1596]\ttrain_set-rmse:8.56576\tvalidation_set-rmse:20.8691\n",
      "[1597]\ttrain_set-rmse:8.56493\tvalidation_set-rmse:20.8691\n",
      "[1598]\ttrain_set-rmse:8.5641\tvalidation_set-rmse:20.8685\n",
      "[1599]\ttrain_set-rmse:8.56326\tvalidation_set-rmse:20.8671\n",
      "[1600]\ttrain_set-rmse:8.56244\tvalidation_set-rmse:20.867\n",
      "[1601]\ttrain_set-rmse:8.56161\tvalidation_set-rmse:20.867\n",
      "[1602]\ttrain_set-rmse:8.56078\tvalidation_set-rmse:20.8665\n",
      "[1603]\ttrain_set-rmse:8.55995\tvalidation_set-rmse:20.8657\n",
      "[1604]\ttrain_set-rmse:8.55912\tvalidation_set-rmse:20.8657\n",
      "[1605]\ttrain_set-rmse:8.5583\tvalidation_set-rmse:20.8657\n",
      "[1606]\ttrain_set-rmse:8.55747\tvalidation_set-rmse:20.8652\n",
      "[1607]\ttrain_set-rmse:8.55664\tvalidation_set-rmse:20.8647\n",
      "[1608]\ttrain_set-rmse:8.55582\tvalidation_set-rmse:20.8647\n",
      "[1609]\ttrain_set-rmse:8.555\tvalidation_set-rmse:20.8641\n",
      "[1610]\ttrain_set-rmse:8.55417\tvalidation_set-rmse:20.8629\n",
      "[1611]\ttrain_set-rmse:8.55335\tvalidation_set-rmse:20.8624\n",
      "[1612]\ttrain_set-rmse:8.55253\tvalidation_set-rmse:20.8624\n",
      "[1613]\ttrain_set-rmse:8.55171\tvalidation_set-rmse:20.8618\n",
      "[1614]\ttrain_set-rmse:8.55089\tvalidation_set-rmse:20.8614\n",
      "[1615]\ttrain_set-rmse:8.55007\tvalidation_set-rmse:20.8607\n",
      "[1616]\ttrain_set-rmse:8.54925\tvalidation_set-rmse:20.8607\n",
      "[1617]\ttrain_set-rmse:8.54843\tvalidation_set-rmse:20.8607\n",
      "[1618]\ttrain_set-rmse:8.54761\tvalidation_set-rmse:20.8601\n",
      "[1619]\ttrain_set-rmse:8.5468\tvalidation_set-rmse:20.8601\n",
      "[1620]\ttrain_set-rmse:8.54598\tvalidation_set-rmse:20.8588\n",
      "[1621]\ttrain_set-rmse:8.54517\tvalidation_set-rmse:20.858\n",
      "[1622]\ttrain_set-rmse:8.54435\tvalidation_set-rmse:20.858\n",
      "[1623]\ttrain_set-rmse:8.54354\tvalidation_set-rmse:20.8574\n",
      "[1624]\ttrain_set-rmse:8.54272\tvalidation_set-rmse:20.8569\n",
      "[1625]\ttrain_set-rmse:8.54191\tvalidation_set-rmse:20.8569\n",
      "[1626]\ttrain_set-rmse:8.5411\tvalidation_set-rmse:20.8563\n",
      "[1627]\ttrain_set-rmse:8.54029\tvalidation_set-rmse:20.8551\n",
      "[1628]\ttrain_set-rmse:8.53948\tvalidation_set-rmse:20.8551\n",
      "[1629]\ttrain_set-rmse:8.53867\tvalidation_set-rmse:20.8551\n",
      "[1630]\ttrain_set-rmse:8.53786\tvalidation_set-rmse:20.8545\n",
      "[1631]\ttrain_set-rmse:8.53705\tvalidation_set-rmse:20.8541\n",
      "[1632]\ttrain_set-rmse:8.53624\tvalidation_set-rmse:20.8533\n",
      "[1633]\ttrain_set-rmse:8.53543\tvalidation_set-rmse:20.8533\n",
      "[1634]\ttrain_set-rmse:8.53463\tvalidation_set-rmse:20.8527\n",
      "[1635]\ttrain_set-rmse:8.53382\tvalidation_set-rmse:20.8527\n",
      "[1636]\ttrain_set-rmse:8.53301\tvalidation_set-rmse:20.8527\n",
      "[1637]\ttrain_set-rmse:8.53221\tvalidation_set-rmse:20.8513\n",
      "[1638]\ttrain_set-rmse:8.5314\tvalidation_set-rmse:20.8507\n",
      "[1639]\ttrain_set-rmse:8.5306\tvalidation_set-rmse:20.8502\n",
      "[1640]\ttrain_set-rmse:8.5298\tvalidation_set-rmse:20.8502\n",
      "[1641]\ttrain_set-rmse:8.529\tvalidation_set-rmse:20.8495\n",
      "[1642]\ttrain_set-rmse:8.52819\tvalidation_set-rmse:20.8494\n",
      "[1643]\ttrain_set-rmse:8.52739\tvalidation_set-rmse:20.8488\n",
      "[1644]\ttrain_set-rmse:8.52659\tvalidation_set-rmse:20.8473\n",
      "[1645]\ttrain_set-rmse:8.52579\tvalidation_set-rmse:20.8473\n",
      "[1646]\ttrain_set-rmse:8.525\tvalidation_set-rmse:20.8472\n",
      "[1647]\ttrain_set-rmse:8.5242\tvalidation_set-rmse:20.8467\n",
      "[1648]\ttrain_set-rmse:8.5234\tvalidation_set-rmse:20.8458\n",
      "[1649]\ttrain_set-rmse:8.5226\tvalidation_set-rmse:20.8458\n",
      "[1650]\ttrain_set-rmse:8.52181\tvalidation_set-rmse:20.8452\n",
      "[1651]\ttrain_set-rmse:8.52101\tvalidation_set-rmse:20.8447\n",
      "[1652]\ttrain_set-rmse:8.52022\tvalidation_set-rmse:20.8447\n",
      "[1653]\ttrain_set-rmse:8.51942\tvalidation_set-rmse:20.8433\n",
      "[1654]\ttrain_set-rmse:8.51863\tvalidation_set-rmse:20.8427\n",
      "[1655]\ttrain_set-rmse:8.51784\tvalidation_set-rmse:20.8427\n",
      "[1656]\ttrain_set-rmse:8.51704\tvalidation_set-rmse:20.8427\n",
      "[1657]\ttrain_set-rmse:8.51625\tvalidation_set-rmse:20.842\n",
      "[1658]\ttrain_set-rmse:8.51546\tvalidation_set-rmse:20.8416\n",
      "[1659]\ttrain_set-rmse:8.51467\tvalidation_set-rmse:20.8411\n",
      "[1660]\ttrain_set-rmse:8.51388\tvalidation_set-rmse:20.8411\n",
      "[1661]\ttrain_set-rmse:8.51309\tvalidation_set-rmse:20.841\n",
      "[1662]\ttrain_set-rmse:8.5123\tvalidation_set-rmse:20.841\n",
      "[1663]\ttrain_set-rmse:8.51152\tvalidation_set-rmse:20.8405\n",
      "[1664]\ttrain_set-rmse:8.51073\tvalidation_set-rmse:20.8393\n",
      "[1665]\ttrain_set-rmse:8.50994\tvalidation_set-rmse:20.8393\n",
      "[1666]\ttrain_set-rmse:8.50916\tvalidation_set-rmse:20.8387\n",
      "[1667]\ttrain_set-rmse:8.50837\tvalidation_set-rmse:20.8387\n",
      "[1668]\ttrain_set-rmse:8.50759\tvalidation_set-rmse:20.8383\n",
      "[1669]\ttrain_set-rmse:8.5068\tvalidation_set-rmse:20.8377\n",
      "[1670]\ttrain_set-rmse:8.50602\tvalidation_set-rmse:20.8377\n",
      "[1671]\ttrain_set-rmse:8.50524\tvalidation_set-rmse:20.8371\n",
      "[1672]\ttrain_set-rmse:8.50446\tvalidation_set-rmse:20.8358\n",
      "[1673]\ttrain_set-rmse:8.50367\tvalidation_set-rmse:20.8353\n",
      "[1674]\ttrain_set-rmse:8.50289\tvalidation_set-rmse:20.8353\n",
      "[1675]\ttrain_set-rmse:8.50211\tvalidation_set-rmse:20.8348\n",
      "[1676]\ttrain_set-rmse:8.50133\tvalidation_set-rmse:20.8339\n",
      "[1677]\ttrain_set-rmse:8.50056\tvalidation_set-rmse:20.8339\n",
      "[1678]\ttrain_set-rmse:8.49978\tvalidation_set-rmse:20.8334\n",
      "[1679]\ttrain_set-rmse:8.499\tvalidation_set-rmse:20.8334\n",
      "[1680]\ttrain_set-rmse:8.49822\tvalidation_set-rmse:20.8331\n",
      "[1681]\ttrain_set-rmse:8.49745\tvalidation_set-rmse:20.8325\n",
      "[1682]\ttrain_set-rmse:8.49667\tvalidation_set-rmse:20.8325\n",
      "[1683]\ttrain_set-rmse:8.4959\tvalidation_set-rmse:20.832\n",
      "[1684]\ttrain_set-rmse:8.49512\tvalidation_set-rmse:20.8307\n",
      "[1685]\ttrain_set-rmse:8.49435\tvalidation_set-rmse:20.8302\n",
      "[1686]\ttrain_set-rmse:8.49357\tvalidation_set-rmse:20.8301\n",
      "[1687]\ttrain_set-rmse:8.4928\tvalidation_set-rmse:20.8297\n",
      "[1688]\ttrain_set-rmse:8.49203\tvalidation_set-rmse:20.8289\n",
      "[1689]\ttrain_set-rmse:8.49126\tvalidation_set-rmse:20.8289\n",
      "[1690]\ttrain_set-rmse:8.49049\tvalidation_set-rmse:20.8289\n",
      "[1691]\ttrain_set-rmse:8.48972\tvalidation_set-rmse:20.8284\n",
      "[1692]\ttrain_set-rmse:8.48895\tvalidation_set-rmse:20.8283\n",
      "[1693]\ttrain_set-rmse:8.48818\tvalidation_set-rmse:20.8277\n",
      "[1694]\ttrain_set-rmse:8.48741\tvalidation_set-rmse:20.8277\n",
      "[1695]\ttrain_set-rmse:8.48664\tvalidation_set-rmse:20.8265\n",
      "[1696]\ttrain_set-rmse:8.48587\tvalidation_set-rmse:20.8261\n",
      "[1697]\ttrain_set-rmse:8.48511\tvalidation_set-rmse:20.8261\n",
      "[1698]\ttrain_set-rmse:8.48434\tvalidation_set-rmse:20.8261\n",
      "[1699]\ttrain_set-rmse:8.48358\tvalidation_set-rmse:20.8255\n",
      "[1700]\ttrain_set-rmse:8.48281\tvalidation_set-rmse:20.824\n",
      "[1701]\ttrain_set-rmse:8.48205\tvalidation_set-rmse:20.8235\n",
      "[1702]\ttrain_set-rmse:8.48128\tvalidation_set-rmse:20.8235\n",
      "[1703]\ttrain_set-rmse:8.48052\tvalidation_set-rmse:20.8227\n",
      "[1704]\ttrain_set-rmse:8.47976\tvalidation_set-rmse:20.8222\n",
      "[1705]\ttrain_set-rmse:8.47899\tvalidation_set-rmse:20.8222\n",
      "[1706]\ttrain_set-rmse:8.47823\tvalidation_set-rmse:20.8217\n",
      "[1707]\ttrain_set-rmse:8.47747\tvalidation_set-rmse:20.8213\n",
      "[1708]\ttrain_set-rmse:8.47671\tvalidation_set-rmse:20.8209\n",
      "[1709]\ttrain_set-rmse:8.47595\tvalidation_set-rmse:20.8209\n",
      "[1710]\ttrain_set-rmse:8.47519\tvalidation_set-rmse:20.8209\n",
      "[1711]\ttrain_set-rmse:8.47444\tvalidation_set-rmse:20.8203\n",
      "[1712]\ttrain_set-rmse:8.47368\tvalidation_set-rmse:20.8189\n",
      "[1713]\ttrain_set-rmse:8.47292\tvalidation_set-rmse:20.8189\n",
      "[1714]\ttrain_set-rmse:8.47216\tvalidation_set-rmse:20.8185\n",
      "[1715]\ttrain_set-rmse:8.47141\tvalidation_set-rmse:20.8185\n",
      "[1716]\ttrain_set-rmse:8.47065\tvalidation_set-rmse:20.8185\n",
      "[1717]\ttrain_set-rmse:8.4699\tvalidation_set-rmse:20.8177\n",
      "[1718]\ttrain_set-rmse:8.46914\tvalidation_set-rmse:20.8173\n",
      "[1719]\ttrain_set-rmse:8.46839\tvalidation_set-rmse:20.8161\n",
      "[1720]\ttrain_set-rmse:8.46764\tvalidation_set-rmse:20.8161\n",
      "[1721]\ttrain_set-rmse:8.46688\tvalidation_set-rmse:20.8157\n",
      "[1722]\ttrain_set-rmse:8.46613\tvalidation_set-rmse:20.8156\n",
      "[1723]\ttrain_set-rmse:8.46538\tvalidation_set-rmse:20.8153\n",
      "[1724]\ttrain_set-rmse:8.46463\tvalidation_set-rmse:20.8148\n"
     ]
    },
    {
     "name": "stdout",
     "output_type": "stream",
     "text": [
      "[1725]\ttrain_set-rmse:8.46388\tvalidation_set-rmse:20.8148\n",
      "[1726]\ttrain_set-rmse:8.46313\tvalidation_set-rmse:20.8139\n",
      "[1727]\ttrain_set-rmse:8.46238\tvalidation_set-rmse:20.8134\n",
      "[1728]\ttrain_set-rmse:8.46163\tvalidation_set-rmse:20.8134\n",
      "[1729]\ttrain_set-rmse:8.46088\tvalidation_set-rmse:20.813\n",
      "[1730]\ttrain_set-rmse:8.46014\tvalidation_set-rmse:20.8116\n",
      "[1731]\ttrain_set-rmse:8.45939\tvalidation_set-rmse:20.8111\n",
      "[1732]\ttrain_set-rmse:8.45865\tvalidation_set-rmse:20.8111\n",
      "[1733]\ttrain_set-rmse:8.4579\tvalidation_set-rmse:20.8105\n",
      "[1734]\ttrain_set-rmse:8.45716\tvalidation_set-rmse:20.8105\n",
      "[1735]\ttrain_set-rmse:8.45641\tvalidation_set-rmse:20.8105\n",
      "[1736]\ttrain_set-rmse:8.45567\tvalidation_set-rmse:20.81\n",
      "[1737]\ttrain_set-rmse:8.45492\tvalidation_set-rmse:20.8096\n",
      "[1738]\ttrain_set-rmse:8.45418\tvalidation_set-rmse:20.8092\n",
      "[1739]\ttrain_set-rmse:8.45344\tvalidation_set-rmse:20.8092\n",
      "[1740]\ttrain_set-rmse:8.4527\tvalidation_set-rmse:20.8092\n",
      "[1741]\ttrain_set-rmse:8.45196\tvalidation_set-rmse:20.8084\n",
      "[1742]\ttrain_set-rmse:8.45122\tvalidation_set-rmse:20.8079\n",
      "[1743]\ttrain_set-rmse:8.45048\tvalidation_set-rmse:20.8079\n",
      "[1744]\ttrain_set-rmse:8.44974\tvalidation_set-rmse:20.8066\n",
      "[1745]\ttrain_set-rmse:8.449\tvalidation_set-rmse:20.8061\n",
      "[1746]\ttrain_set-rmse:8.44826\tvalidation_set-rmse:20.8056\n",
      "[1747]\ttrain_set-rmse:8.44752\tvalidation_set-rmse:20.8056\n",
      "[1748]\ttrain_set-rmse:8.44679\tvalidation_set-rmse:20.8051\n",
      "[1749]\ttrain_set-rmse:8.44605\tvalidation_set-rmse:20.8036\n",
      "[1750]\ttrain_set-rmse:8.44532\tvalidation_set-rmse:20.8036\n",
      "[1751]\ttrain_set-rmse:8.44458\tvalidation_set-rmse:20.8036\n",
      "[1752]\ttrain_set-rmse:8.44385\tvalidation_set-rmse:20.8032\n",
      "[1753]\ttrain_set-rmse:8.44311\tvalidation_set-rmse:20.8025\n",
      "[1754]\ttrain_set-rmse:8.44238\tvalidation_set-rmse:20.8025\n",
      "[1755]\ttrain_set-rmse:8.44165\tvalidation_set-rmse:20.802\n",
      "[1756]\ttrain_set-rmse:8.44091\tvalidation_set-rmse:20.8009\n",
      "[1757]\ttrain_set-rmse:8.44018\tvalidation_set-rmse:20.8008\n",
      "[1758]\ttrain_set-rmse:8.43945\tvalidation_set-rmse:20.8003\n",
      "[1759]\ttrain_set-rmse:8.43872\tvalidation_set-rmse:20.8003\n",
      "[1760]\ttrain_set-rmse:8.43799\tvalidation_set-rmse:20.8003\n",
      "[1761]\ttrain_set-rmse:8.43726\tvalidation_set-rmse:20.7998\n",
      "[1762]\ttrain_set-rmse:8.43653\tvalidation_set-rmse:20.7995\n",
      "[1763]\ttrain_set-rmse:8.4358\tvalidation_set-rmse:20.799\n",
      "[1764]\ttrain_set-rmse:8.43508\tvalidation_set-rmse:20.799\n",
      "[1765]\ttrain_set-rmse:8.43435\tvalidation_set-rmse:20.7986\n",
      "[1766]\ttrain_set-rmse:8.43362\tvalidation_set-rmse:20.7977\n",
      "[1767]\ttrain_set-rmse:8.4329\tvalidation_set-rmse:20.7977\n",
      "[1768]\ttrain_set-rmse:8.43217\tvalidation_set-rmse:20.7971\n",
      "[1769]\ttrain_set-rmse:8.43145\tvalidation_set-rmse:20.7967\n",
      "[1770]\ttrain_set-rmse:8.43072\tvalidation_set-rmse:20.7953\n",
      "[1771]\ttrain_set-rmse:8.43\tvalidation_set-rmse:20.7953\n",
      "[1772]\ttrain_set-rmse:8.42927\tvalidation_set-rmse:20.7953\n",
      "[1773]\ttrain_set-rmse:8.42855\tvalidation_set-rmse:20.7949\n",
      "[1774]\ttrain_set-rmse:8.42783\tvalidation_set-rmse:20.7949\n",
      "[1775]\ttrain_set-rmse:8.42711\tvalidation_set-rmse:20.7944\n",
      "[1776]\ttrain_set-rmse:8.42639\tvalidation_set-rmse:20.7939\n",
      "[1777]\ttrain_set-rmse:8.42567\tvalidation_set-rmse:20.7939\n",
      "[1778]\ttrain_set-rmse:8.42495\tvalidation_set-rmse:20.7926\n",
      "[1779]\ttrain_set-rmse:8.42423\tvalidation_set-rmse:20.7921\n",
      "[1780]\ttrain_set-rmse:8.42351\tvalidation_set-rmse:20.7921\n",
      "[1781]\ttrain_set-rmse:8.42279\tvalidation_set-rmse:20.7921\n",
      "[1782]\ttrain_set-rmse:8.42207\tvalidation_set-rmse:20.7917\n",
      "[1783]\ttrain_set-rmse:8.42135\tvalidation_set-rmse:20.7913\n",
      "[1784]\ttrain_set-rmse:8.42064\tvalidation_set-rmse:20.7906\n",
      "[1785]\ttrain_set-rmse:8.41992\tvalidation_set-rmse:20.7906\n",
      "[1786]\ttrain_set-rmse:8.41921\tvalidation_set-rmse:20.7902\n",
      "[1787]\ttrain_set-rmse:8.41849\tvalidation_set-rmse:20.7891\n",
      "[1788]\ttrain_set-rmse:8.41778\tvalidation_set-rmse:20.7891\n",
      "[1789]\ttrain_set-rmse:8.41706\tvalidation_set-rmse:20.7891\n",
      "[1790]\ttrain_set-rmse:8.41635\tvalidation_set-rmse:20.7886\n",
      "[1791]\ttrain_set-rmse:8.41564\tvalidation_set-rmse:20.788\n",
      "[1792]\ttrain_set-rmse:8.41493\tvalidation_set-rmse:20.7877\n",
      "[1793]\ttrain_set-rmse:8.41421\tvalidation_set-rmse:20.7877\n",
      "[1794]\ttrain_set-rmse:8.4135\tvalidation_set-rmse:20.7872\n",
      "[1795]\ttrain_set-rmse:8.41279\tvalidation_set-rmse:20.7868\n",
      "[1796]\ttrain_set-rmse:8.41208\tvalidation_set-rmse:20.7868\n",
      "[1797]\ttrain_set-rmse:8.41137\tvalidation_set-rmse:20.7862\n",
      "[1798]\ttrain_set-rmse:8.41066\tvalidation_set-rmse:20.7849\n",
      "[1799]\ttrain_set-rmse:8.40996\tvalidation_set-rmse:20.7849\n",
      "[1800]\ttrain_set-rmse:8.40925\tvalidation_set-rmse:20.7845\n",
      "[1801]\ttrain_set-rmse:8.40854\tvalidation_set-rmse:20.7845\n",
      "[1802]\ttrain_set-rmse:8.40783\tvalidation_set-rmse:20.7836\n",
      "[1803]\ttrain_set-rmse:8.40713\tvalidation_set-rmse:20.7832\n",
      "[1804]\ttrain_set-rmse:8.40642\tvalidation_set-rmse:20.7832\n",
      "[1805]\ttrain_set-rmse:8.40572\tvalidation_set-rmse:20.7828\n",
      "[1806]\ttrain_set-rmse:8.40501\tvalidation_set-rmse:20.7823\n",
      "[1807]\ttrain_set-rmse:8.40431\tvalidation_set-rmse:20.7823\n",
      "[1808]\ttrain_set-rmse:8.40361\tvalidation_set-rmse:20.7823\n",
      "[1809]\ttrain_set-rmse:8.4029\tvalidation_set-rmse:20.7819\n",
      "[1810]\ttrain_set-rmse:8.4022\tvalidation_set-rmse:20.7804\n",
      "[1811]\ttrain_set-rmse:8.4015\tvalidation_set-rmse:20.7797\n",
      "[1812]\ttrain_set-rmse:8.4008\tvalidation_set-rmse:20.7797\n",
      "[1813]\ttrain_set-rmse:8.4001\tvalidation_set-rmse:20.7797\n",
      "[1814]\ttrain_set-rmse:8.3994\tvalidation_set-rmse:20.7793\n",
      "[1815]\ttrain_set-rmse:8.3987\tvalidation_set-rmse:20.7793\n",
      "[1816]\ttrain_set-rmse:8.398\tvalidation_set-rmse:20.7789\n",
      "[1817]\ttrain_set-rmse:8.3973\tvalidation_set-rmse:20.7778\n",
      "[1818]\ttrain_set-rmse:8.3966\tvalidation_set-rmse:20.7778\n",
      "[1819]\ttrain_set-rmse:8.3959\tvalidation_set-rmse:20.7773\n",
      "[1820]\ttrain_set-rmse:8.39521\tvalidation_set-rmse:20.7769\n",
      "[1821]\ttrain_set-rmse:8.39451\tvalidation_set-rmse:20.7769\n",
      "[1822]\ttrain_set-rmse:8.39381\tvalidation_set-rmse:20.7761\n",
      "[1823]\ttrain_set-rmse:8.39312\tvalidation_set-rmse:20.7756\n",
      "[1824]\ttrain_set-rmse:8.39242\tvalidation_set-rmse:20.7742\n",
      "[1825]\ttrain_set-rmse:8.39173\tvalidation_set-rmse:20.7742\n",
      "[1826]\ttrain_set-rmse:8.39104\tvalidation_set-rmse:20.7742\n",
      "[1827]\ttrain_set-rmse:8.39034\tvalidation_set-rmse:20.7737\n",
      "[1828]\ttrain_set-rmse:8.38965\tvalidation_set-rmse:20.7736\n",
      "[1829]\ttrain_set-rmse:8.38896\tvalidation_set-rmse:20.773\n",
      "[1830]\ttrain_set-rmse:8.38827\tvalidation_set-rmse:20.7726\n",
      "[1831]\ttrain_set-rmse:8.38758\tvalidation_set-rmse:20.7726\n",
      "[1832]\ttrain_set-rmse:8.38688\tvalidation_set-rmse:20.7726\n",
      "[1833]\ttrain_set-rmse:8.38619\tvalidation_set-rmse:20.7713\n",
      "[1834]\ttrain_set-rmse:8.38551\tvalidation_set-rmse:20.7709\n",
      "[1835]\ttrain_set-rmse:8.38482\tvalidation_set-rmse:20.7709\n",
      "[1836]\ttrain_set-rmse:8.38413\tvalidation_set-rmse:20.7704\n",
      "[1837]\ttrain_set-rmse:8.38344\tvalidation_set-rmse:20.77\n",
      "[1838]\ttrain_set-rmse:8.38275\tvalidation_set-rmse:20.77\n",
      "[1839]\ttrain_set-rmse:8.38207\tvalidation_set-rmse:20.7692\n",
      "[1840]\ttrain_set-rmse:8.38138\tvalidation_set-rmse:20.7688\n",
      "[1841]\ttrain_set-rmse:8.38069\tvalidation_set-rmse:20.7683\n",
      "[1842]\ttrain_set-rmse:8.38001\tvalidation_set-rmse:20.7683\n",
      "[1843]\ttrain_set-rmse:8.37932\tvalidation_set-rmse:20.7683\n",
      "[1844]\ttrain_set-rmse:8.37864\tvalidation_set-rmse:20.7679\n",
      "[1845]\ttrain_set-rmse:8.37796\tvalidation_set-rmse:20.7666\n",
      "[1846]\ttrain_set-rmse:8.37727\tvalidation_set-rmse:20.766\n",
      "[1847]\ttrain_set-rmse:8.37659\tvalidation_set-rmse:20.766\n",
      "[1848]\ttrain_set-rmse:8.37591\tvalidation_set-rmse:20.7656\n",
      "[1849]\ttrain_set-rmse:8.37523\tvalidation_set-rmse:20.7656\n",
      "[1850]\ttrain_set-rmse:8.37455\tvalidation_set-rmse:20.7656\n",
      "[1851]\ttrain_set-rmse:8.37387\tvalidation_set-rmse:20.7652\n",
      "[1852]\ttrain_set-rmse:8.37319\tvalidation_set-rmse:20.7648\n",
      "[1853]\ttrain_set-rmse:8.37251\tvalidation_set-rmse:20.7644\n",
      "[1854]\ttrain_set-rmse:8.37183\tvalidation_set-rmse:20.7644\n",
      "[1855]\ttrain_set-rmse:8.37115\tvalidation_set-rmse:20.764\n",
      "[1856]\ttrain_set-rmse:8.37047\tvalidation_set-rmse:20.7629\n",
      "[1857]\ttrain_set-rmse:8.36979\tvalidation_set-rmse:20.7629\n",
      "[1858]\ttrain_set-rmse:8.36912\tvalidation_set-rmse:20.7624\n",
      "[1859]\ttrain_set-rmse:8.36844\tvalidation_set-rmse:20.7617\n",
      "[1860]\ttrain_set-rmse:8.36777\tvalidation_set-rmse:20.7617\n",
      "[1861]\ttrain_set-rmse:8.36709\tvalidation_set-rmse:20.7613\n",
      "[1862]\ttrain_set-rmse:8.36642\tvalidation_set-rmse:20.7613\n",
      "[1863]\ttrain_set-rmse:8.36574\tvalidation_set-rmse:20.76\n",
      "[1864]\ttrain_set-rmse:8.36507\tvalidation_set-rmse:20.7596\n",
      "[1865]\ttrain_set-rmse:8.3644\tvalidation_set-rmse:20.7596\n",
      "[1866]\ttrain_set-rmse:8.36372\tvalidation_set-rmse:20.7591\n"
     ]
    },
    {
     "name": "stdout",
     "output_type": "stream",
     "text": [
      "[1867]\ttrain_set-rmse:8.36305\tvalidation_set-rmse:20.7591\n",
      "[1868]\ttrain_set-rmse:8.36238\tvalidation_set-rmse:20.7587\n",
      "[1869]\ttrain_set-rmse:8.36171\tvalidation_set-rmse:20.7584\n",
      "[1870]\ttrain_set-rmse:8.36104\tvalidation_set-rmse:20.7578\n",
      "[1871]\ttrain_set-rmse:8.36037\tvalidation_set-rmse:20.7578\n",
      "[1872]\ttrain_set-rmse:8.3597\tvalidation_set-rmse:20.7574\n",
      "[1873]\ttrain_set-rmse:8.35903\tvalidation_set-rmse:20.7574\n",
      "[1874]\ttrain_set-rmse:8.35836\tvalidation_set-rmse:20.7561\n",
      "[1875]\ttrain_set-rmse:8.35769\tvalidation_set-rmse:20.7556\n",
      "[1876]\ttrain_set-rmse:8.35703\tvalidation_set-rmse:20.7556\n",
      "[1877]\ttrain_set-rmse:8.35636\tvalidation_set-rmse:20.7549\n",
      "[1878]\ttrain_set-rmse:8.35569\tvalidation_set-rmse:20.7545\n",
      "[1879]\ttrain_set-rmse:8.35503\tvalidation_set-rmse:20.7544\n",
      "[1880]\ttrain_set-rmse:8.35436\tvalidation_set-rmse:20.7544\n",
      "[1881]\ttrain_set-rmse:8.3537\tvalidation_set-rmse:20.7544\n",
      "[1882]\ttrain_set-rmse:8.35303\tvalidation_set-rmse:20.754\n",
      "[1883]\ttrain_set-rmse:8.35237\tvalidation_set-rmse:20.7529\n",
      "[1884]\ttrain_set-rmse:8.35171\tvalidation_set-rmse:20.7529\n",
      "[1885]\ttrain_set-rmse:8.35104\tvalidation_set-rmse:20.7525\n",
      "[1886]\ttrain_set-rmse:8.35038\tvalidation_set-rmse:20.752\n",
      "[1887]\ttrain_set-rmse:8.34972\tvalidation_set-rmse:20.7517\n",
      "[1888]\ttrain_set-rmse:8.34906\tvalidation_set-rmse:20.7513\n",
      "[1889]\ttrain_set-rmse:8.3484\tvalidation_set-rmse:20.7513\n",
      "[1890]\ttrain_set-rmse:8.34774\tvalidation_set-rmse:20.7506\n",
      "[1891]\ttrain_set-rmse:8.34708\tvalidation_set-rmse:20.7503\n",
      "[1892]\ttrain_set-rmse:8.34642\tvalidation_set-rmse:20.7502\n",
      "[1893]\ttrain_set-rmse:8.34576\tvalidation_set-rmse:20.7499\n",
      "[1894]\ttrain_set-rmse:8.3451\tvalidation_set-rmse:20.7491\n",
      "[1895]\ttrain_set-rmse:8.34444\tvalidation_set-rmse:20.7486\n",
      "[1896]\ttrain_set-rmse:8.34379\tvalidation_set-rmse:20.7486\n",
      "[1897]\ttrain_set-rmse:8.34313\tvalidation_set-rmse:20.7482\n",
      "[1898]\ttrain_set-rmse:8.34247\tvalidation_set-rmse:20.7468\n",
      "[1899]\ttrain_set-rmse:8.34182\tvalidation_set-rmse:20.7464\n",
      "[1900]\ttrain_set-rmse:8.34116\tvalidation_set-rmse:20.7464\n",
      "[1901]\ttrain_set-rmse:8.34051\tvalidation_set-rmse:20.7461\n",
      "[1902]\ttrain_set-rmse:8.33985\tvalidation_set-rmse:20.7457\n",
      "[1903]\ttrain_set-rmse:8.3392\tvalidation_set-rmse:20.7457\n",
      "[1904]\ttrain_set-rmse:8.33854\tvalidation_set-rmse:20.7457\n",
      "[1905]\ttrain_set-rmse:8.33789\tvalidation_set-rmse:20.7453\n",
      "[1906]\ttrain_set-rmse:8.33724\tvalidation_set-rmse:20.7441\n",
      "[1907]\ttrain_set-rmse:8.33658\tvalidation_set-rmse:20.7441\n",
      "[1908]\ttrain_set-rmse:8.33593\tvalidation_set-rmse:20.7435\n",
      "[1909]\ttrain_set-rmse:8.33528\tvalidation_set-rmse:20.7431\n",
      "[1910]\ttrain_set-rmse:8.33463\tvalidation_set-rmse:20.7427\n",
      "[1911]\ttrain_set-rmse:8.33398\tvalidation_set-rmse:20.7427\n",
      "[1912]\ttrain_set-rmse:8.33333\tvalidation_set-rmse:20.7417\n",
      "[1913]\ttrain_set-rmse:8.33268\tvalidation_set-rmse:20.7413\n",
      "[1914]\ttrain_set-rmse:8.33203\tvalidation_set-rmse:20.741\n",
      "[1915]\ttrain_set-rmse:8.33138\tvalidation_set-rmse:20.7406\n",
      "[1916]\ttrain_set-rmse:8.33074\tvalidation_set-rmse:20.7401\n",
      "[1917]\ttrain_set-rmse:8.33009\tvalidation_set-rmse:20.7401\n",
      "[1918]\ttrain_set-rmse:8.32944\tvalidation_set-rmse:20.7397\n",
      "[1919]\ttrain_set-rmse:8.32879\tvalidation_set-rmse:20.7393\n",
      "[1920]\ttrain_set-rmse:8.32815\tvalidation_set-rmse:20.7393\n",
      "[1921]\ttrain_set-rmse:8.3275\tvalidation_set-rmse:20.7381\n",
      "[1922]\ttrain_set-rmse:8.32686\tvalidation_set-rmse:20.7377\n",
      "[1923]\ttrain_set-rmse:8.32621\tvalidation_set-rmse:20.7373\n",
      "[1924]\ttrain_set-rmse:8.32557\tvalidation_set-rmse:20.7373\n",
      "[1925]\ttrain_set-rmse:8.32492\tvalidation_set-rmse:20.7367\n",
      "[1926]\ttrain_set-rmse:8.32428\tvalidation_set-rmse:20.7363\n",
      "[1927]\ttrain_set-rmse:8.32364\tvalidation_set-rmse:20.7363\n",
      "[1928]\ttrain_set-rmse:8.32299\tvalidation_set-rmse:20.7363\n",
      "[1929]\ttrain_set-rmse:8.32235\tvalidation_set-rmse:20.7359\n",
      "[1930]\ttrain_set-rmse:8.32171\tvalidation_set-rmse:20.7356\n",
      "[1931]\ttrain_set-rmse:8.32107\tvalidation_set-rmse:20.7352\n",
      "[1932]\ttrain_set-rmse:8.32043\tvalidation_set-rmse:20.7352\n",
      "[1933]\ttrain_set-rmse:8.31979\tvalidation_set-rmse:20.7348\n",
      "[1934]\ttrain_set-rmse:8.31915\tvalidation_set-rmse:20.734\n",
      "[1935]\ttrain_set-rmse:8.31851\tvalidation_set-rmse:20.734\n",
      "[1936]\ttrain_set-rmse:8.31787\tvalidation_set-rmse:20.7336\n",
      "[1937]\ttrain_set-rmse:8.31723\tvalidation_set-rmse:20.7332\n",
      "[1938]\ttrain_set-rmse:8.31659\tvalidation_set-rmse:20.732\n",
      "[1939]\ttrain_set-rmse:8.31596\tvalidation_set-rmse:20.7316\n",
      "[1940]\ttrain_set-rmse:8.31532\tvalidation_set-rmse:20.7316\n",
      "[1941]\ttrain_set-rmse:8.31468\tvalidation_set-rmse:20.7311\n",
      "[1942]\ttrain_set-rmse:8.31405\tvalidation_set-rmse:20.7307\n",
      "[1943]\ttrain_set-rmse:8.31341\tvalidation_set-rmse:20.7307\n",
      "[1944]\ttrain_set-rmse:8.31278\tvalidation_set-rmse:20.7303\n",
      "[1945]\ttrain_set-rmse:8.31214\tvalidation_set-rmse:20.73\n",
      "[1946]\ttrain_set-rmse:8.31151\tvalidation_set-rmse:20.7296\n",
      "[1947]\ttrain_set-rmse:8.31087\tvalidation_set-rmse:20.7292\n",
      "[1948]\ttrain_set-rmse:8.31024\tvalidation_set-rmse:20.7292\n",
      "[1949]\ttrain_set-rmse:8.30961\tvalidation_set-rmse:20.7282\n",
      "[1950]\ttrain_set-rmse:8.30897\tvalidation_set-rmse:20.7277\n",
      "[1951]\ttrain_set-rmse:8.30834\tvalidation_set-rmse:20.7277\n",
      "[1952]\ttrain_set-rmse:8.30771\tvalidation_set-rmse:20.7274\n",
      "[1953]\ttrain_set-rmse:8.30708\tvalidation_set-rmse:20.727\n",
      "[1954]\ttrain_set-rmse:8.30645\tvalidation_set-rmse:20.7256\n",
      "[1955]\ttrain_set-rmse:8.30582\tvalidation_set-rmse:20.7253\n",
      "[1956]\ttrain_set-rmse:8.30519\tvalidation_set-rmse:20.7253\n",
      "[1957]\ttrain_set-rmse:8.30456\tvalidation_set-rmse:20.7246\n",
      "[1958]\ttrain_set-rmse:8.30393\tvalidation_set-rmse:20.7242\n",
      "[1959]\ttrain_set-rmse:8.3033\tvalidation_set-rmse:20.7238\n",
      "[1960]\ttrain_set-rmse:8.30268\tvalidation_set-rmse:20.7238\n",
      "[1961]\ttrain_set-rmse:8.30205\tvalidation_set-rmse:20.7232\n",
      "[1962]\ttrain_set-rmse:8.30142\tvalidation_set-rmse:20.7231\n",
      "[1963]\ttrain_set-rmse:8.30079\tvalidation_set-rmse:20.7228\n",
      "[1964]\ttrain_set-rmse:8.30017\tvalidation_set-rmse:20.7224\n",
      "[1965]\ttrain_set-rmse:8.29954\tvalidation_set-rmse:20.7212\n",
      "[1966]\ttrain_set-rmse:8.29892\tvalidation_set-rmse:20.7212\n",
      "[1967]\ttrain_set-rmse:8.29829\tvalidation_set-rmse:20.7208\n",
      "[1968]\ttrain_set-rmse:8.29767\tvalidation_set-rmse:20.7204\n",
      "[1969]\ttrain_set-rmse:8.29704\tvalidation_set-rmse:20.7204\n",
      "[1970]\ttrain_set-rmse:8.29642\tvalidation_set-rmse:20.72\n",
      "[1971]\ttrain_set-rmse:8.2958\tvalidation_set-rmse:20.72\n",
      "[1972]\ttrain_set-rmse:8.29518\tvalidation_set-rmse:20.72\n",
      "[1973]\ttrain_set-rmse:8.29455\tvalidation_set-rmse:20.7196\n",
      "[1974]\ttrain_set-rmse:8.29393\tvalidation_set-rmse:20.7186\n",
      "[1975]\ttrain_set-rmse:8.29331\tvalidation_set-rmse:20.7183\n",
      "[1976]\ttrain_set-rmse:8.29269\tvalidation_set-rmse:20.7183\n",
      "[1977]\ttrain_set-rmse:8.29207\tvalidation_set-rmse:20.7179\n",
      "[1978]\ttrain_set-rmse:8.29145\tvalidation_set-rmse:20.7167\n",
      "[1979]\ttrain_set-rmse:8.29083\tvalidation_set-rmse:20.7163\n",
      "[1980]\ttrain_set-rmse:8.29021\tvalidation_set-rmse:20.7163\n",
      "[1981]\ttrain_set-rmse:8.28959\tvalidation_set-rmse:20.716\n",
      "[1982]\ttrain_set-rmse:8.28897\tvalidation_set-rmse:20.7154\n",
      "[1983]\ttrain_set-rmse:8.28836\tvalidation_set-rmse:20.7154\n",
      "[1984]\ttrain_set-rmse:8.28774\tvalidation_set-rmse:20.7151\n",
      "[1985]\ttrain_set-rmse:8.28712\tvalidation_set-rmse:20.7148\n",
      "[1986]\ttrain_set-rmse:8.28651\tvalidation_set-rmse:20.7144\n",
      "[1987]\ttrain_set-rmse:8.28589\tvalidation_set-rmse:20.7139\n",
      "[1988]\ttrain_set-rmse:8.28528\tvalidation_set-rmse:20.7139\n",
      "[1989]\ttrain_set-rmse:8.28466\tvalidation_set-rmse:20.7132\n",
      "[1990]\ttrain_set-rmse:8.28404\tvalidation_set-rmse:20.7128\n",
      "[1991]\ttrain_set-rmse:8.28343\tvalidation_set-rmse:20.7125\n",
      "[1992]\ttrain_set-rmse:8.28282\tvalidation_set-rmse:20.7125\n",
      "[1993]\ttrain_set-rmse:8.2822\tvalidation_set-rmse:20.7121\n",
      "[1994]\ttrain_set-rmse:8.28159\tvalidation_set-rmse:20.7108\n",
      "[1995]\ttrain_set-rmse:8.28098\tvalidation_set-rmse:20.7108\n",
      "[1996]\ttrain_set-rmse:8.28037\tvalidation_set-rmse:20.7108\n",
      "[1997]\ttrain_set-rmse:8.27976\tvalidation_set-rmse:20.7104\n",
      "[1998]\ttrain_set-rmse:8.27914\tvalidation_set-rmse:20.71\n",
      "[1999]\ttrain_set-rmse:8.27853\tvalidation_set-rmse:20.7099\n"
     ]
    }
   ],
   "source": [
    "xg_model_1_001_subsample_1 = xgboost.train(param , xg_train,early_stopping_rounds=10,evals = [(xg_train , \"train_set\"),(xg_val,\"validation_set\")] ,num_boost_round=2000)"
   ]
  },
  {
   "cell_type": "code",
   "execution_count": 12,
   "metadata": {},
   "outputs": [],
   "source": [
    "prediction_train = xg_model_1_001_subsample_1.predict(xg_train)"
   ]
  },
  {
   "cell_type": "code",
   "execution_count": 13,
   "metadata": {},
   "outputs": [
    {
     "data": {
      "text/plain": [
       "2.7975025911119022"
      ]
     },
     "execution_count": 13,
     "metadata": {},
     "output_type": "execute_result"
    }
   ],
   "source": [
    "compute_trimmed_rmse(prediction_train,xg_train.get_label())"
   ]
  },
  {
   "cell_type": "code",
   "execution_count": 14,
   "metadata": {},
   "outputs": [],
   "source": [
    "prediction_xgb_best = xg_model_1_001_subsample_1.predict(xg_val)"
   ]
  },
  {
   "cell_type": "code",
   "execution_count": 15,
   "metadata": {},
   "outputs": [
    {
     "data": {
      "text/plain": [
       "2.4473890149739757"
      ]
     },
     "execution_count": 15,
     "metadata": {},
     "output_type": "execute_result"
    }
   ],
   "source": [
    "compute_trimmed_rmse(prediction_xgb_best,xg_val.get_label())"
   ]
  },
  {
   "cell_type": "code",
   "execution_count": 16,
   "metadata": {},
   "outputs": [],
   "source": [
    "#Linear Model\n",
    "lm_model = LinearRegression(fit_intercept = True ,n_jobs = -1)"
   ]
  },
  {
   "cell_type": "code",
   "execution_count": 17,
   "metadata": {},
   "outputs": [],
   "source": [
    "for_lin = train33.dropna()"
   ]
  },
  {
   "cell_type": "code",
   "execution_count": 18,
   "metadata": {},
   "outputs": [
    {
     "data": {
      "text/plain": [
       "LinearRegression(copy_X=True, fit_intercept=True, n_jobs=-1, normalize=False)"
      ]
     },
     "execution_count": 18,
     "metadata": {},
     "output_type": "execute_result"
    }
   ],
   "source": [
    "lm_model.fit(dropped_col_train33_no_na , train33.dropna()['item_cnt_month'])"
   ]
  },
  {
   "cell_type": "code",
   "execution_count": 19,
   "metadata": {},
   "outputs": [],
   "source": [
    "lin_prediction = lm_model.predict(dropped_col_val33_no_na)"
   ]
  },
  {
   "cell_type": "code",
   "execution_count": 20,
   "metadata": {},
   "outputs": [],
   "source": [
    "ensemble_lin_xgb = (lin_prediction + prediction_xgb_best)/2"
   ]
  },
  {
   "cell_type": "code",
   "execution_count": 21,
   "metadata": {},
   "outputs": [
    {
     "data": {
      "text/plain": [
       "20.782670540027688"
      ]
     },
     "execution_count": 21,
     "metadata": {},
     "output_type": "execute_result"
    }
   ],
   "source": [
    "rmse(ensemble_lin_xgb,val33.dropna()['item_cnt_month'])"
   ]
  },
  {
   "cell_type": "code",
   "execution_count": 22,
   "metadata": {},
   "outputs": [
    {
     "name": "stderr",
     "output_type": "stream",
     "text": [
      "/anaconda/lib/python3.6/site-packages/pandas/core/generic.py:5233: SettingWithCopyWarning: \n",
      "A value is trying to be set on a copy of a slice from a DataFrame\n",
      "\n",
      "See the caveats in the documentation: http://pandas.pydata.org/pandas-docs/stable/indexing.html#indexing-view-versus-copy\n",
      "  self._update_inplace(new_data)\n",
      "/anaconda/lib/python3.6/site-packages/ipykernel/__main__.py:1: SettingWithCopyWarning: \n",
      "A value is trying to be set on a copy of a slice from a DataFrame\n",
      "\n",
      "See the caveats in the documentation: http://pandas.pydata.org/pandas-docs/stable/indexing.html#indexing-view-versus-copy\n",
      "  if __name__ == '__main__':\n",
      "/anaconda/lib/python3.6/site-packages/ipykernel/__main__.py:22: SettingWithCopyWarning: \n",
      "A value is trying to be set on a copy of a slice from a DataFrame\n",
      "\n",
      "See the caveats in the documentation: http://pandas.pydata.org/pandas-docs/stable/indexing.html#indexing-view-versus-copy\n"
     ]
    },
    {
     "data": {
      "text/plain": [
       "2.1514849785860064"
      ]
     },
     "execution_count": 22,
     "metadata": {},
     "output_type": "execute_result"
    }
   ],
   "source": [
    "compute_trimmed_rmse(ensemble_lin_xgb,val33.dropna()['item_cnt_month'])"
   ]
  },
  {
   "cell_type": "code",
   "execution_count": 23,
   "metadata": {},
   "outputs": [
    {
     "data": {
      "text/html": [
       "<div>\n",
       "<style>\n",
       "    .dataframe thead tr:only-child th {\n",
       "        text-align: right;\n",
       "    }\n",
       "\n",
       "    .dataframe thead th {\n",
       "        text-align: left;\n",
       "    }\n",
       "\n",
       "    .dataframe tbody tr th {\n",
       "        vertical-align: top;\n",
       "    }\n",
       "</style>\n",
       "<table border=\"1\" class=\"dataframe\">\n",
       "  <thead>\n",
       "    <tr style=\"text-align: right;\">\n",
       "      <th></th>\n",
       "      <th>ID</th>\n",
       "      <th>shop_id</th>\n",
       "      <th>item_id</th>\n",
       "      <th>item_category_id</th>\n",
       "      <th>indicator</th>\n",
       "      <th>is_music</th>\n",
       "      <th>lag_shop_item_comb</th>\n",
       "      <th>lag_only_item</th>\n",
       "      <th>item_price</th>\n",
       "      <th>lag_only_item_cat</th>\n",
       "      <th>unique</th>\n",
       "    </tr>\n",
       "  </thead>\n",
       "  <tbody>\n",
       "    <tr>\n",
       "      <th>0</th>\n",
       "      <td>0</td>\n",
       "      <td>5</td>\n",
       "      <td>5037</td>\n",
       "      <td>19.0</td>\n",
       "      <td>1</td>\n",
       "      <td>False</td>\n",
       "      <td>NaN</td>\n",
       "      <td>25.0</td>\n",
       "      <td>1693.518519</td>\n",
       "      <td>2443.0</td>\n",
       "      <td>34</td>\n",
       "    </tr>\n",
       "    <tr>\n",
       "      <th>1</th>\n",
       "      <td>1</td>\n",
       "      <td>5</td>\n",
       "      <td>5320</td>\n",
       "      <td>NaN</td>\n",
       "      <td>0</td>\n",
       "      <td>NaN</td>\n",
       "      <td>NaN</td>\n",
       "      <td>NaN</td>\n",
       "      <td>NaN</td>\n",
       "      <td>NaN</td>\n",
       "      <td>34</td>\n",
       "    </tr>\n",
       "    <tr>\n",
       "      <th>2</th>\n",
       "      <td>2</td>\n",
       "      <td>5</td>\n",
       "      <td>5233</td>\n",
       "      <td>19.0</td>\n",
       "      <td>2</td>\n",
       "      <td>False</td>\n",
       "      <td>1.0</td>\n",
       "      <td>42.0</td>\n",
       "      <td>859.000000</td>\n",
       "      <td>2443.0</td>\n",
       "      <td>34</td>\n",
       "    </tr>\n",
       "    <tr>\n",
       "      <th>3</th>\n",
       "      <td>3</td>\n",
       "      <td>5</td>\n",
       "      <td>5232</td>\n",
       "      <td>23.0</td>\n",
       "      <td>1</td>\n",
       "      <td>False</td>\n",
       "      <td>NaN</td>\n",
       "      <td>28.0</td>\n",
       "      <td>599.000000</td>\n",
       "      <td>2203.0</td>\n",
       "      <td>34</td>\n",
       "    </tr>\n",
       "    <tr>\n",
       "      <th>4</th>\n",
       "      <td>4</td>\n",
       "      <td>5</td>\n",
       "      <td>5268</td>\n",
       "      <td>NaN</td>\n",
       "      <td>0</td>\n",
       "      <td>NaN</td>\n",
       "      <td>NaN</td>\n",
       "      <td>NaN</td>\n",
       "      <td>NaN</td>\n",
       "      <td>NaN</td>\n",
       "      <td>34</td>\n",
       "    </tr>\n",
       "  </tbody>\n",
       "</table>\n",
       "</div>"
      ],
      "text/plain": [
       "   ID  shop_id  item_id  item_category_id  indicator is_music  \\\n",
       "0   0        5     5037              19.0          1    False   \n",
       "1   1        5     5320               NaN          0      NaN   \n",
       "2   2        5     5233              19.0          2    False   \n",
       "3   3        5     5232              23.0          1    False   \n",
       "4   4        5     5268               NaN          0      NaN   \n",
       "\n",
       "   lag_shop_item_comb  lag_only_item   item_price  lag_only_item_cat  unique  \n",
       "0                 NaN           25.0  1693.518519             2443.0      34  \n",
       "1                 NaN            NaN          NaN                NaN      34  \n",
       "2                 1.0           42.0   859.000000             2443.0      34  \n",
       "3                 NaN           28.0   599.000000             2203.0      34  \n",
       "4                 NaN            NaN          NaN                NaN      34  "
      ]
     },
     "execution_count": 23,
     "metadata": {},
     "output_type": "execute_result"
    }
   ],
   "source": [
    "#Checking how good on leaderboard\n",
    "fake_test4.head()"
   ]
  },
  {
   "cell_type": "code",
   "execution_count": 24,
   "metadata": {},
   "outputs": [],
   "source": [
    "#Predicting only for Non Nan's\n",
    "subset_pred = fake_test4.dropna()"
   ]
  },
  {
   "cell_type": "code",
   "execution_count": 25,
   "metadata": {},
   "outputs": [
    {
     "name": "stderr",
     "output_type": "stream",
     "text": [
      "/anaconda/lib/python3.6/site-packages/ipykernel/__main__.py:1: SettingWithCopyWarning: \n",
      "A value is trying to be set on a copy of a slice from a DataFrame\n",
      "\n",
      "See the caveats in the documentation: http://pandas.pydata.org/pandas-docs/stable/indexing.html#indexing-view-versus-copy\n",
      "  if __name__ == '__main__':\n"
     ]
    }
   ],
   "source": [
    "subset_pred.drop(['ID','shop_id','item_id','item_category_id'], axis = 1 , inplace = True)"
   ]
  },
  {
   "cell_type": "code",
   "execution_count": 26,
   "metadata": {},
   "outputs": [
    {
     "name": "stderr",
     "output_type": "stream",
     "text": [
      "/anaconda/lib/python3.6/site-packages/ipykernel/__main__.py:1: SettingWithCopyWarning: \n",
      "A value is trying to be set on a copy of a slice from a DataFrame\n",
      "\n",
      "See the caveats in the documentation: http://pandas.pydata.org/pandas-docs/stable/indexing.html#indexing-view-versus-copy\n",
      "  if __name__ == '__main__':\n"
     ]
    }
   ],
   "source": [
    "subset_pred.drop(['indicator'], axis = 1 , inplace = True)"
   ]
  },
  {
   "cell_type": "code",
   "execution_count": 27,
   "metadata": {},
   "outputs": [
    {
     "name": "stderr",
     "output_type": "stream",
     "text": [
      "/anaconda/lib/python3.6/site-packages/ipykernel/__main__.py:1: SettingWithCopyWarning: \n",
      "A value is trying to be set on a copy of a slice from a DataFrame.\n",
      "Try using .loc[row_indexer,col_indexer] = value instead\n",
      "\n",
      "See the caveats in the documentation: http://pandas.pydata.org/pandas-docs/stable/indexing.html#indexing-view-versus-copy\n",
      "  if __name__ == '__main__':\n"
     ]
    }
   ],
   "source": [
    "subset_pred['is_music'] = pd.to_numeric(subset_pred['is_music'])"
   ]
  },
  {
   "cell_type": "code",
   "execution_count": 28,
   "metadata": {},
   "outputs": [],
   "source": [
    "subset_pred = subset_pred[list(dropped_col_train33_no_na.columns.values)]"
   ]
  },
  {
   "cell_type": "code",
   "execution_count": 29,
   "metadata": {},
   "outputs": [],
   "source": [
    "test_preditcion = xg_model_1_001_subsample_1.predict(xgboost.DMatrix(subset_pred))"
   ]
  },
  {
   "cell_type": "code",
   "execution_count": 30,
   "metadata": {},
   "outputs": [],
   "source": [
    "lin_test_preditcion = lm_model.predict(subset_pred)"
   ]
  },
  {
   "cell_type": "code",
   "execution_count": 31,
   "metadata": {},
   "outputs": [
    {
     "data": {
      "text/html": [
       "<div>\n",
       "<style>\n",
       "    .dataframe thead tr:only-child th {\n",
       "        text-align: right;\n",
       "    }\n",
       "\n",
       "    .dataframe thead th {\n",
       "        text-align: left;\n",
       "    }\n",
       "\n",
       "    .dataframe tbody tr th {\n",
       "        vertical-align: top;\n",
       "    }\n",
       "</style>\n",
       "<table border=\"1\" class=\"dataframe\">\n",
       "  <thead>\n",
       "    <tr style=\"text-align: right;\">\n",
       "      <th></th>\n",
       "      <th>unique</th>\n",
       "      <th>item_price</th>\n",
       "      <th>is_music</th>\n",
       "      <th>lag_shop_item_comb</th>\n",
       "      <th>lag_only_item</th>\n",
       "      <th>lag_only_item_cat</th>\n",
       "    </tr>\n",
       "  </thead>\n",
       "  <tbody>\n",
       "    <tr>\n",
       "      <th>2</th>\n",
       "      <td>34</td>\n",
       "      <td>859.000000</td>\n",
       "      <td>False</td>\n",
       "      <td>1.0</td>\n",
       "      <td>42.0</td>\n",
       "      <td>2443.0</td>\n",
       "    </tr>\n",
       "    <tr>\n",
       "      <th>5</th>\n",
       "      <td>34</td>\n",
       "      <td>1896.305556</td>\n",
       "      <td>False</td>\n",
       "      <td>1.0</td>\n",
       "      <td>29.0</td>\n",
       "      <td>2203.0</td>\n",
       "    </tr>\n",
       "    <tr>\n",
       "      <th>6</th>\n",
       "      <td>34</td>\n",
       "      <td>3915.666667</td>\n",
       "      <td>False</td>\n",
       "      <td>2.0</td>\n",
       "      <td>62.0</td>\n",
       "      <td>6596.0</td>\n",
       "    </tr>\n",
       "    <tr>\n",
       "      <th>10</th>\n",
       "      <td>34</td>\n",
       "      <td>164.429167</td>\n",
       "      <td>False</td>\n",
       "      <td>3.0</td>\n",
       "      <td>123.0</td>\n",
       "      <td>4150.0</td>\n",
       "    </tr>\n",
       "    <tr>\n",
       "      <th>14</th>\n",
       "      <td>34</td>\n",
       "      <td>988.882716</td>\n",
       "      <td>False</td>\n",
       "      <td>2.0</td>\n",
       "      <td>89.0</td>\n",
       "      <td>2203.0</td>\n",
       "    </tr>\n",
       "  </tbody>\n",
       "</table>\n",
       "</div>"
      ],
      "text/plain": [
       "    unique   item_price  is_music  lag_shop_item_comb  lag_only_item  \\\n",
       "2       34   859.000000     False                 1.0           42.0   \n",
       "5       34  1896.305556     False                 1.0           29.0   \n",
       "6       34  3915.666667     False                 2.0           62.0   \n",
       "10      34   164.429167     False                 3.0          123.0   \n",
       "14      34   988.882716     False                 2.0           89.0   \n",
       "\n",
       "    lag_only_item_cat  \n",
       "2              2443.0  \n",
       "5              2203.0  \n",
       "6              6596.0  \n",
       "10             4150.0  \n",
       "14             2203.0  "
      ]
     },
     "execution_count": 31,
     "metadata": {},
     "output_type": "execute_result"
    }
   ],
   "source": [
    "subset_pred.head()"
   ]
  },
  {
   "cell_type": "code",
   "execution_count": 33,
   "metadata": {},
   "outputs": [],
   "source": [
    "test_ensemble_lin_xgb = (test_preditcion + lin_test_preditcion)/2 #test_ensemble now test_ensemble_lin_xgb"
   ]
  },
  {
   "cell_type": "code",
   "execution_count": 34,
   "metadata": {},
   "outputs": [],
   "source": [
    "test_ensemble_lin_xgb[test_ensemble_lin_xgb > 20] = 20\n",
    "test_ensemble_lin_xgb[test_ensemble_lin_xgb < 0] = 0"
   ]
  },
  {
   "cell_type": "code",
   "execution_count": 35,
   "metadata": {},
   "outputs": [],
   "source": [
    "test_ensemble_lin_xgb = pd.DataFrame(test_ensemble_lin_xgb,index = subset_pred.index)"
   ]
  },
  {
   "cell_type": "code",
   "execution_count": 36,
   "metadata": {},
   "outputs": [],
   "source": [
    "test_ensemble_lin_xgb.columns = ['item_cnt_month']"
   ]
  },
  {
   "cell_type": "code",
   "execution_count": 37,
   "metadata": {},
   "outputs": [],
   "source": [
    "concat = pd.concat([subset_pred,pd.DataFrame(test_ensemble_lin_xgb)] , axis = 1)"
   ]
  },
  {
   "cell_type": "code",
   "execution_count": 38,
   "metadata": {},
   "outputs": [],
   "source": [
    "fake_test5 = fake_test4.merge(concat, left_index=True, right_index=True , how = 'left')"
   ]
  },
  {
   "cell_type": "code",
   "execution_count": 39,
   "metadata": {},
   "outputs": [],
   "source": [
    "fake_test5 = fake_test5[['ID','item_cnt_month']]"
   ]
  },
  {
   "cell_type": "code",
   "execution_count": 40,
   "metadata": {},
   "outputs": [],
   "source": [
    "fake_test5['item_cnt_month'].loc[pd.isnull(fake_test5['item_cnt_month'])] = 0"
   ]
  },
  {
   "cell_type": "code",
   "execution_count": 41,
   "metadata": {},
   "outputs": [],
   "source": [
    "fake_test5.to_csv('test_ensemble_lin_xgb.csv',index = False)"
   ]
  },
  {
   "cell_type": "code",
   "execution_count": 43,
   "metadata": {},
   "outputs": [],
   "source": [
    "#Okay Validation loss is higher than test loss.\n",
    "#Due to 0-20 prediction cap nothing is predictable.\n",
    "#Lets try random forests\n",
    "#Parameters that be tuned\n",
    "#1.Max_Depth\n",
    "#2.Max_Features\n",
    "#3.n_estimators"
   ]
  },
  {
   "cell_type": "code",
   "execution_count": 44,
   "metadata": {},
   "outputs": [],
   "source": [
    "rf_n_est_1000_depth_20_sqrt = RandomForestRegressor(n_estimators = 1000, criterion='mse' , max_depth= 20, n_jobs = -1, verbose = 1, max_features= \"sqrt\")"
   ]
  },
  {
   "cell_type": "code",
   "execution_count": 45,
   "metadata": {},
   "outputs": [
    {
     "name": "stderr",
     "output_type": "stream",
     "text": [
      "[Parallel(n_jobs=-1)]: Done  42 tasks      | elapsed:   19.1s\n",
      "[Parallel(n_jobs=-1)]: Done 192 tasks      | elapsed:  1.4min\n",
      "[Parallel(n_jobs=-1)]: Done 442 tasks      | elapsed:  3.4min\n",
      "[Parallel(n_jobs=-1)]: Done 792 tasks      | elapsed:  6.2min\n",
      "[Parallel(n_jobs=-1)]: Done 1000 out of 1000 | elapsed:  7.9min finished\n"
     ]
    },
    {
     "data": {
      "text/plain": [
       "RandomForestRegressor(bootstrap=True, criterion='mse', max_depth=20,\n",
       "           max_features='sqrt', max_leaf_nodes=None,\n",
       "           min_impurity_decrease=0.0, min_impurity_split=None,\n",
       "           min_samples_leaf=1, min_samples_split=2,\n",
       "           min_weight_fraction_leaf=0.0, n_estimators=1000, n_jobs=-1,\n",
       "           oob_score=False, random_state=None, verbose=1, warm_start=False)"
      ]
     },
     "execution_count": 45,
     "metadata": {},
     "output_type": "execute_result"
    }
   ],
   "source": [
    "rf_n_est_1000_depth_20_sqrt.fit(dropped_col_train33_no_na,train33.copy().dropna()['item_cnt_month'])"
   ]
  },
  {
   "cell_type": "code",
   "execution_count": 48,
   "metadata": {},
   "outputs": [],
   "source": [
    "rf_n_est_1000_depth_10_sqrt = RandomForestRegressor(n_estimators = 1000, criterion='mse' , max_depth= 10, n_jobs = 4, verbose = 1, max_features= \"sqrt\")"
   ]
  },
  {
   "cell_type": "code",
   "execution_count": 49,
   "metadata": {},
   "outputs": [
    {
     "name": "stderr",
     "output_type": "stream",
     "text": [
      "[Parallel(n_jobs=4)]: Done  42 tasks      | elapsed:   13.8s\n",
      "[Parallel(n_jobs=4)]: Done 192 tasks      | elapsed:  1.0min\n",
      "[Parallel(n_jobs=4)]: Done 442 tasks      | elapsed:  2.4min\n",
      "[Parallel(n_jobs=4)]: Done 792 tasks      | elapsed:  4.5min\n",
      "[Parallel(n_jobs=4)]: Done 1000 out of 1000 | elapsed:  5.7min finished\n"
     ]
    },
    {
     "data": {
      "text/plain": [
       "RandomForestRegressor(bootstrap=True, criterion='mse', max_depth=10,\n",
       "           max_features='sqrt', max_leaf_nodes=None,\n",
       "           min_impurity_decrease=0.0, min_impurity_split=None,\n",
       "           min_samples_leaf=1, min_samples_split=2,\n",
       "           min_weight_fraction_leaf=0.0, n_estimators=1000, n_jobs=4,\n",
       "           oob_score=False, random_state=None, verbose=1, warm_start=False)"
      ]
     },
     "execution_count": 49,
     "metadata": {},
     "output_type": "execute_result"
    }
   ],
   "source": [
    "rf_n_est_1000_depth_10_sqrt.fit(dropped_col_train33_no_na,train33.copy().dropna()['item_cnt_month'])"
   ]
  },
  {
   "cell_type": "code",
   "execution_count": 50,
   "metadata": {},
   "outputs": [],
   "source": [
    "rf_n_est_1000_depth_5_sqrt = RandomForestRegressor(n_estimators = 1000, criterion='mse' , max_depth= 5, n_jobs = -1, verbose = 1, max_features= \"sqrt\")"
   ]
  },
  {
   "cell_type": "code",
   "execution_count": 51,
   "metadata": {},
   "outputs": [
    {
     "name": "stderr",
     "output_type": "stream",
     "text": [
      "[Parallel(n_jobs=-1)]: Done  42 tasks      | elapsed:    9.1s\n",
      "[Parallel(n_jobs=-1)]: Done 192 tasks      | elapsed:   32.9s\n",
      "[Parallel(n_jobs=-1)]: Done 442 tasks      | elapsed:  1.2min\n",
      "[Parallel(n_jobs=-1)]: Done 792 tasks      | elapsed:  2.2min\n",
      "[Parallel(n_jobs=-1)]: Done 1000 out of 1000 | elapsed:  2.7min finished\n"
     ]
    },
    {
     "data": {
      "text/plain": [
       "RandomForestRegressor(bootstrap=True, criterion='mse', max_depth=5,\n",
       "           max_features='sqrt', max_leaf_nodes=None,\n",
       "           min_impurity_decrease=0.0, min_impurity_split=None,\n",
       "           min_samples_leaf=1, min_samples_split=2,\n",
       "           min_weight_fraction_leaf=0.0, n_estimators=1000, n_jobs=-1,\n",
       "           oob_score=False, random_state=None, verbose=1, warm_start=False)"
      ]
     },
     "execution_count": 51,
     "metadata": {},
     "output_type": "execute_result"
    }
   ],
   "source": [
    "rf_n_est_1000_depth_5_sqrt.fit(dropped_col_train33_no_na,train33.copy().dropna()['item_cnt_month'])"
   ]
  },
  {
   "cell_type": "code",
   "execution_count": 52,
   "metadata": {},
   "outputs": [],
   "source": [
    "rf_n_est_1000_depth_3_sqrt = RandomForestRegressor(n_estimators = 1000, criterion='mse' , max_depth= 3, n_jobs = -1, verbose = 1, max_features= \"sqrt\")"
   ]
  },
  {
   "cell_type": "code",
   "execution_count": 53,
   "metadata": {},
   "outputs": [
    {
     "name": "stderr",
     "output_type": "stream",
     "text": [
      "[Parallel(n_jobs=-1)]: Done  42 tasks      | elapsed:    4.4s\n",
      "[Parallel(n_jobs=-1)]: Done 192 tasks      | elapsed:   22.2s\n",
      "[Parallel(n_jobs=-1)]: Done 442 tasks      | elapsed:   46.4s\n",
      "[Parallel(n_jobs=-1)]: Done 792 tasks      | elapsed:  1.3min\n",
      "[Parallel(n_jobs=-1)]: Done 1000 out of 1000 | elapsed:  1.7min finished\n"
     ]
    },
    {
     "data": {
      "text/plain": [
       "RandomForestRegressor(bootstrap=True, criterion='mse', max_depth=3,\n",
       "           max_features='sqrt', max_leaf_nodes=None,\n",
       "           min_impurity_decrease=0.0, min_impurity_split=None,\n",
       "           min_samples_leaf=1, min_samples_split=2,\n",
       "           min_weight_fraction_leaf=0.0, n_estimators=1000, n_jobs=-1,\n",
       "           oob_score=False, random_state=None, verbose=1, warm_start=False)"
      ]
     },
     "execution_count": 53,
     "metadata": {},
     "output_type": "execute_result"
    }
   ],
   "source": [
    "rf_n_est_1000_depth_3_sqrt.fit(dropped_col_train33_no_na,train33.copy().dropna()['item_cnt_month'])"
   ]
  },
  {
   "cell_type": "code",
   "execution_count": 54,
   "metadata": {},
   "outputs": [],
   "source": [
    "rf_n_est_1000_depth_1_sqrt = RandomForestRegressor(n_estimators = 1000, criterion='mse' , max_depth= 1, n_jobs = -1, verbose = 1, max_features= \"sqrt\")"
   ]
  },
  {
   "cell_type": "code",
   "execution_count": 55,
   "metadata": {},
   "outputs": [
    {
     "name": "stderr",
     "output_type": "stream",
     "text": [
      "[Parallel(n_jobs=-1)]: Done  42 tasks      | elapsed:    1.7s\n",
      "[Parallel(n_jobs=-1)]: Done 192 tasks      | elapsed:    7.6s\n",
      "[Parallel(n_jobs=-1)]: Done 442 tasks      | elapsed:   17.2s\n",
      "[Parallel(n_jobs=-1)]: Done 792 tasks      | elapsed:   30.4s\n",
      "[Parallel(n_jobs=-1)]: Done 1000 out of 1000 | elapsed:   38.2s finished\n"
     ]
    },
    {
     "data": {
      "text/plain": [
       "RandomForestRegressor(bootstrap=True, criterion='mse', max_depth=1,\n",
       "           max_features='sqrt', max_leaf_nodes=None,\n",
       "           min_impurity_decrease=0.0, min_impurity_split=None,\n",
       "           min_samples_leaf=1, min_samples_split=2,\n",
       "           min_weight_fraction_leaf=0.0, n_estimators=1000, n_jobs=-1,\n",
       "           oob_score=False, random_state=None, verbose=1, warm_start=False)"
      ]
     },
     "execution_count": 55,
     "metadata": {},
     "output_type": "execute_result"
    }
   ],
   "source": [
    "rf_n_est_1000_depth_1_sqrt.fit(dropped_col_train33_no_na,train33.copy().dropna()['item_cnt_month'])"
   ]
  },
  {
   "cell_type": "code",
   "execution_count": 56,
   "metadata": {},
   "outputs": [
    {
     "name": "stderr",
     "output_type": "stream",
     "text": [
      "[Parallel(n_jobs=4)]: Done  42 tasks      | elapsed:    0.0s\n",
      "[Parallel(n_jobs=4)]: Done 192 tasks      | elapsed:    0.0s\n",
      "[Parallel(n_jobs=4)]: Done 442 tasks      | elapsed:    0.1s\n",
      "[Parallel(n_jobs=4)]: Done 792 tasks      | elapsed:    0.1s\n",
      "[Parallel(n_jobs=4)]: Done 1000 out of 1000 | elapsed:    0.1s finished\n",
      "[Parallel(n_jobs=4)]: Done  42 tasks      | elapsed:    0.0s\n",
      "[Parallel(n_jobs=4)]: Done 192 tasks      | elapsed:    0.0s\n",
      "[Parallel(n_jobs=4)]: Done 442 tasks      | elapsed:    0.1s\n",
      "[Parallel(n_jobs=4)]: Done 792 tasks      | elapsed:    0.1s\n",
      "[Parallel(n_jobs=4)]: Done 1000 out of 1000 | elapsed:    0.2s finished\n",
      "[Parallel(n_jobs=4)]: Done  42 tasks      | elapsed:    0.0s\n",
      "[Parallel(n_jobs=4)]: Done 192 tasks      | elapsed:    0.0s\n",
      "[Parallel(n_jobs=4)]: Done 442 tasks      | elapsed:    0.1s\n",
      "[Parallel(n_jobs=4)]: Done 792 tasks      | elapsed:    0.2s\n",
      "[Parallel(n_jobs=4)]: Done 1000 out of 1000 | elapsed:    0.2s finished\n",
      "[Parallel(n_jobs=4)]: Done  42 tasks      | elapsed:    0.0s\n",
      "[Parallel(n_jobs=4)]: Done 192 tasks      | elapsed:    0.1s\n",
      "[Parallel(n_jobs=4)]: Done 442 tasks      | elapsed:    0.1s\n",
      "[Parallel(n_jobs=4)]: Done 792 tasks      | elapsed:    0.2s\n",
      "[Parallel(n_jobs=4)]: Done 1000 out of 1000 | elapsed:    0.3s finished\n",
      "[Parallel(n_jobs=4)]: Done  42 tasks      | elapsed:    0.1s\n",
      "[Parallel(n_jobs=4)]: Done 192 tasks      | elapsed:    0.4s\n",
      "[Parallel(n_jobs=4)]: Done 442 tasks      | elapsed:    0.9s\n",
      "[Parallel(n_jobs=4)]: Done 792 tasks      | elapsed:    1.8s\n",
      "[Parallel(n_jobs=4)]: Done 1000 out of 1000 | elapsed:    2.4s finished\n"
     ]
    }
   ],
   "source": [
    "t1= (1,rmse(rf_n_est_1000_depth_1_sqrt.predict(dropped_col_val33_no_na), val33.copy().dropna()['item_cnt_month']))\n",
    "t2 = (3,compute_trimmed_rmse(rf_n_est_1000_depth_3_sqrt.predict(dropped_col_val33_no_na), val33.copy().dropna()['item_cnt_month']))\n",
    "t3 = (5,compute_trimmed_rmse(rf_n_est_1000_depth_5_sqrt.predict(dropped_col_val33_no_na), val33.copy().dropna()['item_cnt_month']))\n",
    "t4 = (10,compute_trimmed_rmse(rf_n_est_1000_depth_10_sqrt.predict(dropped_col_val33_no_na), val33.copy().dropna()['item_cnt_month']))\n",
    "t5 = (20,compute_trimmed_rmse(rf_n_est_1000_depth_20_sqrt.predict(dropped_col_val33_no_na), val33.copy().dropna()['item_cnt_month']))"
   ]
  },
  {
   "cell_type": "code",
   "execution_count": 57,
   "metadata": {},
   "outputs": [],
   "source": [
    "for_plot = pd.DataFrame([t1,t2,t3,t4,t5])"
   ]
  },
  {
   "cell_type": "code",
   "execution_count": 58,
   "metadata": {},
   "outputs": [],
   "source": [
    "for_plot.columns = ['tree_depth', 'val_error']"
   ]
  },
  {
   "cell_type": "code",
   "execution_count": 59,
   "metadata": {},
   "outputs": [
    {
     "data": {
      "text/html": [
       "<div>\n",
       "<style>\n",
       "    .dataframe thead tr:only-child th {\n",
       "        text-align: right;\n",
       "    }\n",
       "\n",
       "    .dataframe thead th {\n",
       "        text-align: left;\n",
       "    }\n",
       "\n",
       "    .dataframe tbody tr th {\n",
       "        vertical-align: top;\n",
       "    }\n",
       "</style>\n",
       "<table border=\"1\" class=\"dataframe\">\n",
       "  <thead>\n",
       "    <tr style=\"text-align: right;\">\n",
       "      <th></th>\n",
       "      <th>tree_depth</th>\n",
       "      <th>val_error</th>\n",
       "    </tr>\n",
       "  </thead>\n",
       "  <tbody>\n",
       "    <tr>\n",
       "      <th>0</th>\n",
       "      <td>1</td>\n",
       "      <td>21.700875</td>\n",
       "    </tr>\n",
       "    <tr>\n",
       "      <th>1</th>\n",
       "      <td>3</td>\n",
       "      <td>2.266358</td>\n",
       "    </tr>\n",
       "    <tr>\n",
       "      <th>2</th>\n",
       "      <td>5</td>\n",
       "      <td>2.283103</td>\n",
       "    </tr>\n",
       "    <tr>\n",
       "      <th>3</th>\n",
       "      <td>10</td>\n",
       "      <td>2.229947</td>\n",
       "    </tr>\n",
       "    <tr>\n",
       "      <th>4</th>\n",
       "      <td>20</td>\n",
       "      <td>2.196819</td>\n",
       "    </tr>\n",
       "  </tbody>\n",
       "</table>\n",
       "</div>"
      ],
      "text/plain": [
       "   tree_depth  val_error\n",
       "0           1  21.700875\n",
       "1           3   2.266358\n",
       "2           5   2.283103\n",
       "3          10   2.229947\n",
       "4          20   2.196819"
      ]
     },
     "execution_count": 59,
     "metadata": {},
     "output_type": "execute_result"
    }
   ],
   "source": [
    "for_plot"
   ]
  },
  {
   "cell_type": "code",
   "execution_count": 60,
   "metadata": {},
   "outputs": [
    {
     "name": "stderr",
     "output_type": "stream",
     "text": [
      "[Parallel(n_jobs=4)]: Done  42 tasks      | elapsed:    0.0s\n",
      "[Parallel(n_jobs=4)]: Done 192 tasks      | elapsed:    0.1s\n",
      "[Parallel(n_jobs=4)]: Done 442 tasks      | elapsed:    0.1s\n",
      "[Parallel(n_jobs=4)]: Done 792 tasks      | elapsed:    0.2s\n",
      "[Parallel(n_jobs=4)]: Done 1000 out of 1000 | elapsed:    0.2s finished\n"
     ]
    }
   ],
   "source": [
    "prediction_rf_best_depth = rf_n_est_1000_depth_3_sqrt.predict(dropped_col_val33_no_na)"
   ]
  },
  {
   "cell_type": "code",
   "execution_count": 61,
   "metadata": {},
   "outputs": [
    {
     "data": {
      "image/png": "[encoded data removed]",
      "text/plain": [
       "<Figure size 432x288 with 1 Axes>"
      ]
     },
     "metadata": {},
     "output_type": "display_data"
    }
   ],
   "source": [
    "#Lets do variable importance for both Xgboost\n",
    "xgboost.plot_importance(xg_model_1_001_subsample_1)\n",
    "plt.show()"
   ]
  },
  {
   "cell_type": "code",
   "execution_count": 62,
   "metadata": {},
   "outputs": [],
   "source": [
    "features = dropped_col_train33_no_na.columns.values"
   ]
  },
  {
   "cell_type": "code",
   "execution_count": 63,
   "metadata": {},
   "outputs": [],
   "source": [
    "importance = rf_n_est_1000_depth_3_sqrt.feature_importances_"
   ]
  },
  {
   "cell_type": "code",
   "execution_count": 64,
   "metadata": {},
   "outputs": [],
   "source": [
    "index = np.argsort(importance)"
   ]
  },
  {
   "cell_type": "code",
   "execution_count": 65,
   "metadata": {},
   "outputs": [
    {
     "data": {
      "image/png": "[encoded data removed]",
      "text/plain": [
       "<Figure size 432x288 with 1 Axes>"
      ]
     },
     "metadata": {},
     "output_type": "display_data"
    }
   ],
   "source": [
    "#For RF\n",
    "plt.figure(1)\n",
    "plt.barh(range(len(index)), importance[index])\n",
    "plt.yticks(range(len(index)), [features[i] for i in index])\n",
    "plt.show()"
   ]
  },
  {
   "cell_type": "code",
   "execution_count": 66,
   "metadata": {},
   "outputs": [],
   "source": [
    "#Looks like both RF and Xgboost have given more importance to same set of variables\n",
    "#Lets see Linear Model, lets fit it after standardizing so that can be compared\n",
    "lm_model_standardized = LinearRegression(normalize=False, n_jobs = -1)"
   ]
  },
  {
   "cell_type": "code",
   "execution_count": 67,
   "metadata": {},
   "outputs": [
    {
     "data": {
      "text/plain": [
       "LinearRegression(copy_X=True, fit_intercept=True, n_jobs=-1, normalize=False)"
      ]
     },
     "execution_count": 67,
     "metadata": {},
     "output_type": "execute_result"
    }
   ],
   "source": [
    "lm_model_standardized.fit(dropped_col_train33_no_na,train33.dropna()['item_cnt_month'])"
   ]
  },
  {
   "cell_type": "code",
   "execution_count": 68,
   "metadata": {},
   "outputs": [
    {
     "data": {
      "text/plain": [
       "[<matplotlib.lines.Line2D at 0x11e411470>]"
      ]
     },
     "execution_count": 68,
     "metadata": {},
     "output_type": "execute_result"
    },
    {
     "data": {
      "image/png": "[encoded data removed]",
      "text/plain": [
       "<Figure size 432x288 with 1 Axes>"
      ]
     },
     "metadata": {},
     "output_type": "display_data"
    }
   ],
   "source": [
    "plotting = zip(dropped_col_train33_no_na.columns.values,lm_model_standardized.coef_)\n",
    "for_plot = pd.DataFrame(list(plotting))\n",
    "plt.plot(for_plot[0], for_plot[1])"
   ]
  },
  {
   "cell_type": "code",
   "execution_count": 69,
   "metadata": {},
   "outputs": [
    {
     "data": {
      "image/png": "[encoded data removed]"
     },
     "metadata": {},
     "output_type": "display_data"
    }
   ],
   "source": [
    "%%R -i for_plot\n",
    "library(ggplot2)\n",
    "figure = ggplot(data = for_plot)+\n",
    "        geom_bar(mapping = aes(x = X0 , y = X1, fill = X0), stat = \"identity\")+\n",
    "        theme(axis.text.x = element_text(angle = 90))+\n",
    "        labs(x = \"Columns\" , y = \"Coeff\" ,fill = \"Columns\")\n",
    "figure  "
   ]
  },
  {
   "cell_type": "code",
   "execution_count": 70,
   "metadata": {},
   "outputs": [],
   "source": [
    "preditcion_lm_standardized = lm_model_standardized.predict(dropped_col_val33_no_na)"
   ]
  },
  {
   "cell_type": "code",
   "execution_count": 71,
   "metadata": {},
   "outputs": [],
   "source": [
    "#Trying a triple ensemble\n",
    "triple_ensemble = (prediction_xgb_best + preditcion_lm_standardized + prediction_rf_best_depth)/3"
   ]
  },
  {
   "cell_type": "code",
   "execution_count": 72,
   "metadata": {},
   "outputs": [
    {
     "name": "stderr",
     "output_type": "stream",
     "text": [
      "/anaconda/lib/python3.6/site-packages/pandas/core/generic.py:5233: SettingWithCopyWarning: \n",
      "A value is trying to be set on a copy of a slice from a DataFrame\n",
      "\n",
      "See the caveats in the documentation: http://pandas.pydata.org/pandas-docs/stable/indexing.html#indexing-view-versus-copy\n",
      "  self._update_inplace(new_data)\n",
      "/anaconda/lib/python3.6/site-packages/ipykernel/__main__.py:1: SettingWithCopyWarning: \n",
      "A value is trying to be set on a copy of a slice from a DataFrame\n",
      "\n",
      "See the caveats in the documentation: http://pandas.pydata.org/pandas-docs/stable/indexing.html#indexing-view-versus-copy\n",
      "  if __name__ == '__main__':\n",
      "/anaconda/lib/python3.6/site-packages/ipykernel/__main__.py:22: SettingWithCopyWarning: \n",
      "A value is trying to be set on a copy of a slice from a DataFrame\n",
      "\n",
      "See the caveats in the documentation: http://pandas.pydata.org/pandas-docs/stable/indexing.html#indexing-view-versus-copy\n"
     ]
    }
   ],
   "source": [
    "val_error_triple_ensemble = compute_trimmed_rmse(triple_ensemble, val33.dropna()['item_cnt_month'])"
   ]
  },
  {
   "cell_type": "code",
   "execution_count": 73,
   "metadata": {},
   "outputs": [
    {
     "data": {
      "text/plain": [
       "2.1558443660704252"
      ]
     },
     "execution_count": 73,
     "metadata": {},
     "output_type": "execute_result"
    }
   ],
   "source": [
    "val_error_triple_ensemble #hmm"
   ]
  },
  {
   "cell_type": "code",
   "execution_count": 74,
   "metadata": {},
   "outputs": [
    {
     "data": {
      "text/html": [
       "<div>\n",
       "<style>\n",
       "    .dataframe thead tr:only-child th {\n",
       "        text-align: right;\n",
       "    }\n",
       "\n",
       "    .dataframe thead th {\n",
       "        text-align: left;\n",
       "    }\n",
       "\n",
       "    .dataframe tbody tr th {\n",
       "        vertical-align: top;\n",
       "    }\n",
       "</style>\n",
       "<table border=\"1\" class=\"dataframe\">\n",
       "  <thead>\n",
       "    <tr style=\"text-align: right;\">\n",
       "      <th></th>\n",
       "      <th>unique</th>\n",
       "      <th>item_price</th>\n",
       "      <th>is_music</th>\n",
       "      <th>lag_shop_item_comb</th>\n",
       "      <th>lag_only_item</th>\n",
       "      <th>lag_only_item_cat</th>\n",
       "    </tr>\n",
       "  </thead>\n",
       "  <tbody>\n",
       "    <tr>\n",
       "      <th>2</th>\n",
       "      <td>34</td>\n",
       "      <td>859.000000</td>\n",
       "      <td>False</td>\n",
       "      <td>1.0</td>\n",
       "      <td>42.0</td>\n",
       "      <td>2443.0</td>\n",
       "    </tr>\n",
       "    <tr>\n",
       "      <th>5</th>\n",
       "      <td>34</td>\n",
       "      <td>1896.305556</td>\n",
       "      <td>False</td>\n",
       "      <td>1.0</td>\n",
       "      <td>29.0</td>\n",
       "      <td>2203.0</td>\n",
       "    </tr>\n",
       "    <tr>\n",
       "      <th>6</th>\n",
       "      <td>34</td>\n",
       "      <td>3915.666667</td>\n",
       "      <td>False</td>\n",
       "      <td>2.0</td>\n",
       "      <td>62.0</td>\n",
       "      <td>6596.0</td>\n",
       "    </tr>\n",
       "    <tr>\n",
       "      <th>10</th>\n",
       "      <td>34</td>\n",
       "      <td>164.429167</td>\n",
       "      <td>False</td>\n",
       "      <td>3.0</td>\n",
       "      <td>123.0</td>\n",
       "      <td>4150.0</td>\n",
       "    </tr>\n",
       "    <tr>\n",
       "      <th>14</th>\n",
       "      <td>34</td>\n",
       "      <td>988.882716</td>\n",
       "      <td>False</td>\n",
       "      <td>2.0</td>\n",
       "      <td>89.0</td>\n",
       "      <td>2203.0</td>\n",
       "    </tr>\n",
       "  </tbody>\n",
       "</table>\n",
       "</div>"
      ],
      "text/plain": [
       "    unique   item_price  is_music  lag_shop_item_comb  lag_only_item  \\\n",
       "2       34   859.000000     False                 1.0           42.0   \n",
       "5       34  1896.305556     False                 1.0           29.0   \n",
       "6       34  3915.666667     False                 2.0           62.0   \n",
       "10      34   164.429167     False                 3.0          123.0   \n",
       "14      34   988.882716     False                 2.0           89.0   \n",
       "\n",
       "    lag_only_item_cat  \n",
       "2              2443.0  \n",
       "5              2203.0  \n",
       "6              6596.0  \n",
       "10             4150.0  \n",
       "14             2203.0  "
      ]
     },
     "execution_count": 74,
     "metadata": {},
     "output_type": "execute_result"
    }
   ],
   "source": [
    "subset_pred.head()"
   ]
  },
  {
   "cell_type": "code",
   "execution_count": 75,
   "metadata": {},
   "outputs": [],
   "source": [
    "#Subset pred is ready\n",
    "test_xg_preditcion_trip_ens = xg_model_1_001_subsample_1.predict(xgboost.DMatrix(subset_pred))"
   ]
  },
  {
   "cell_type": "code",
   "execution_count": 76,
   "metadata": {},
   "outputs": [],
   "source": [
    "lin_test_prediction_trip_ens = lm_model_standardized.predict(subset_pred)"
   ]
  },
  {
   "cell_type": "code",
   "execution_count": 77,
   "metadata": {},
   "outputs": [
    {
     "name": "stderr",
     "output_type": "stream",
     "text": [
      "[Parallel(n_jobs=4)]: Done  42 tasks      | elapsed:    0.0s\n",
      "[Parallel(n_jobs=4)]: Done 192 tasks      | elapsed:    0.1s\n",
      "[Parallel(n_jobs=4)]: Done 442 tasks      | elapsed:    0.1s\n",
      "[Parallel(n_jobs=4)]: Done 792 tasks      | elapsed:    0.2s\n",
      "[Parallel(n_jobs=4)]: Done 1000 out of 1000 | elapsed:    0.3s finished\n"
     ]
    }
   ],
   "source": [
    "rf_test_prediction_trip_ens = rf_n_est_1000_depth_3_sqrt.predict(subset_pred)"
   ]
  },
  {
   "cell_type": "code",
   "execution_count": 78,
   "metadata": {},
   "outputs": [],
   "source": [
    "test_submission_no_na = (test_xg_preditcion_trip_ens + lin_test_prediction_trip_ens + rf_test_prediction_trip_ens)/3"
   ]
  },
  {
   "cell_type": "code",
   "execution_count": 79,
   "metadata": {},
   "outputs": [],
   "source": [
    "test_submission_no_na = pd.DataFrame(test_submission_no_na,index = subset_pred.index)"
   ]
  },
  {
   "cell_type": "code",
   "execution_count": 80,
   "metadata": {},
   "outputs": [],
   "source": [
    "concat = pd.concat([subset_pred,pd.DataFrame(test_submission_no_na)] , axis = 1)"
   ]
  },
  {
   "cell_type": "code",
   "execution_count": 81,
   "metadata": {},
   "outputs": [],
   "source": [
    "trip_ens_submission = fake_test4.merge(concat, left_index=True, right_index=True , how = 'left')"
   ]
  },
  {
   "cell_type": "code",
   "execution_count": 82,
   "metadata": {},
   "outputs": [],
   "source": [
    "trip_ens_submission.rename(columns = {0 : 'item_cnt_month'} , inplace = True)"
   ]
  },
  {
   "cell_type": "code",
   "execution_count": 83,
   "metadata": {},
   "outputs": [],
   "source": [
    "trip_ens_submission = trip_ens_submission[['ID','item_cnt_month']]"
   ]
  },
  {
   "cell_type": "code",
   "execution_count": 84,
   "metadata": {},
   "outputs": [],
   "source": [
    "trip_ens_submission.loc[pd.isnull(trip_ens_submission['item_cnt_month']) , \"item_cnt_month\"] = 0"
   ]
  },
  {
   "cell_type": "code",
   "execution_count": 85,
   "metadata": {},
   "outputs": [],
   "source": [
    "trip_ens_submission.loc[trip_ens_submission['item_cnt_month'] > 20 , 'item_cnt_month'] = 20\n",
    "trip_ens_submission.loc[trip_ens_submission['item_cnt_month'] < 0  , 'item_cnt_month'] = 0"
   ]
  },
  {
   "cell_type": "code",
   "execution_count": 86,
   "metadata": {},
   "outputs": [],
   "source": [
    "#Creating good validation strategy.\n",
    "strategy_monitor = ['Model1', 'Model2', 'Model3','Model4','Ensemble_Type' ,'Val_Prediction_Name','Test_Prediction_Name', 'Validation_Type', 'Validation Set','Validation_Score_before_clip', 'Validation_Score_after_clip', 'Public_LB_Score']"
   ]
  },
  {
   "cell_type": "code",
   "execution_count": 87,
   "metadata": {},
   "outputs": [],
   "source": [
    "val_error_triple_ensemble_no_clip = rmse(triple_ensemble, val33.dropna()['item_cnt_month'])"
   ]
  },
  {
   "cell_type": "code",
   "execution_count": 88,
   "metadata": {},
   "outputs": [
    {
     "data": {
      "text/plain": [
       "22.151945534076113"
      ]
     },
     "execution_count": 88,
     "metadata": {},
     "output_type": "execute_result"
    }
   ],
   "source": [
    "val_error_triple_ensemble_no_clip"
   ]
  },
  {
   "cell_type": "code",
   "execution_count": 89,
   "metadata": {},
   "outputs": [
    {
     "data": {
      "text/plain": [
       "2.1558443660704252"
      ]
     },
     "execution_count": 89,
     "metadata": {},
     "output_type": "execute_result"
    }
   ],
   "source": [
    "val_error_triple_ensemble #LB Score 1.17125"
   ]
  },
  {
   "cell_type": "code",
   "execution_count": 90,
   "metadata": {},
   "outputs": [],
   "source": [
    "trip_ens_submission.to_csv('triple_ens_submission.csv' , index=False)"
   ]
  },
  {
   "cell_type": "code",
   "execution_count": 91,
   "metadata": {},
   "outputs": [
    {
     "name": "stderr",
     "output_type": "stream",
     "text": [
      "mkdir: validation_sets: File exists\n"
     ]
    }
   ],
   "source": [
    "%%bash\n",
    "mkdir validation_sets"
   ]
  },
  {
   "cell_type": "code",
   "execution_count": 92,
   "metadata": {},
   "outputs": [],
   "source": [
    "subset_pred.to_csv('validation_sets/subset_pred_month_33.csv', index=False)"
   ]
  },
  {
   "cell_type": "code",
   "execution_count": 93,
   "metadata": {},
   "outputs": [],
   "source": [
    "strategy_monitor_1 = ['xg_model_1_001_subsample_1', 'lm_model_standardized', 'rf_n_est_1000_depth_3_sqrt', 'None', 'Average','triple_ensemble','trip_ens_submission','Time_based', 'subset_pred_33', '22.152128646601813', '2.1637059693554495', '1.17125']"
   ]
  },
  {
   "cell_type": "code",
   "execution_count": 94,
   "metadata": {},
   "outputs": [],
   "source": [
    "monitoring_data = pd.concat([pd.DataFrame(strategy_monitor), pd.DataFrame(strategy_monitor_1)] , axis = 1)"
   ]
  },
  {
   "cell_type": "code",
   "execution_count": 95,
   "metadata": {},
   "outputs": [],
   "source": [
    "monitoring_data = monitoring_data.T"
   ]
  },
  {
   "cell_type": "code",
   "execution_count": 96,
   "metadata": {},
   "outputs": [],
   "source": [
    "monitoring_data = monitoring_data.reset_index()"
   ]
  },
  {
   "cell_type": "code",
   "execution_count": 97,
   "metadata": {},
   "outputs": [],
   "source": [
    "monitoring_data.drop(['index'] , axis = 1 , inplace=True)"
   ]
  },
  {
   "cell_type": "code",
   "execution_count": 98,
   "metadata": {},
   "outputs": [],
   "source": [
    "monitoring_data.columns = monitoring_data.iloc[0,:]"
   ]
  },
  {
   "cell_type": "code",
   "execution_count": 99,
   "metadata": {},
   "outputs": [
    {
     "data": {
      "text/html": [
       "<div>\n",
       "<style>\n",
       "    .dataframe thead tr:only-child th {\n",
       "        text-align: right;\n",
       "    }\n",
       "\n",
       "    .dataframe thead th {\n",
       "        text-align: left;\n",
       "    }\n",
       "\n",
       "    .dataframe tbody tr th {\n",
       "        vertical-align: top;\n",
       "    }\n",
       "</style>\n",
       "<table border=\"1\" class=\"dataframe\">\n",
       "  <thead>\n",
       "    <tr style=\"text-align: right;\">\n",
       "      <th></th>\n",
       "      <th>Model1</th>\n",
       "      <th>Model2</th>\n",
       "      <th>Model3</th>\n",
       "      <th>Model4</th>\n",
       "      <th>Ensemble_Type</th>\n",
       "      <th>Val_Prediction_Name</th>\n",
       "      <th>Test_Prediction_Name</th>\n",
       "      <th>Validation_Type</th>\n",
       "      <th>Validation Set</th>\n",
       "      <th>Validation_Score_before_clip</th>\n",
       "      <th>Validation_Score_after_clip</th>\n",
       "      <th>Public_LB_Score</th>\n",
       "    </tr>\n",
       "  </thead>\n",
       "  <tbody>\n",
       "    <tr>\n",
       "      <th>0</th>\n",
       "      <td>Model1</td>\n",
       "      <td>Model2</td>\n",
       "      <td>Model3</td>\n",
       "      <td>Model4</td>\n",
       "      <td>Ensemble_Type</td>\n",
       "      <td>Val_Prediction_Name</td>\n",
       "      <td>Test_Prediction_Name</td>\n",
       "      <td>Validation_Type</td>\n",
       "      <td>Validation Set</td>\n",
       "      <td>Validation_Score_before_clip</td>\n",
       "      <td>Validation_Score_after_clip</td>\n",
       "      <td>Public_LB_Score</td>\n",
       "    </tr>\n",
       "    <tr>\n",
       "      <th>1</th>\n",
       "      <td>xg_model_1_001_subsample_1</td>\n",
       "      <td>lm_model_standardized</td>\n",
       "      <td>rf_n_est_1000_depth_3_sqrt</td>\n",
       "      <td>None</td>\n",
       "      <td>Average</td>\n",
       "      <td>triple_ensemble</td>\n",
       "      <td>trip_ens_submission</td>\n",
       "      <td>Time_based</td>\n",
       "      <td>subset_pred_33</td>\n",
       "      <td>22.152128646601813</td>\n",
       "      <td>2.1637059693554495</td>\n",
       "      <td>1.17125</td>\n",
       "    </tr>\n",
       "  </tbody>\n",
       "</table>\n",
       "</div>"
      ],
      "text/plain": [
       "0                      Model1                 Model2  \\\n",
       "0                      Model1                 Model2   \n",
       "1  xg_model_1_001_subsample_1  lm_model_standardized   \n",
       "\n",
       "0                      Model3  Model4  Ensemble_Type  Val_Prediction_Name  \\\n",
       "0                      Model3  Model4  Ensemble_Type  Val_Prediction_Name   \n",
       "1  rf_n_est_1000_depth_3_sqrt    None        Average      triple_ensemble   \n",
       "\n",
       "0  Test_Prediction_Name  Validation_Type  Validation Set  \\\n",
       "0  Test_Prediction_Name  Validation_Type  Validation Set   \n",
       "1   trip_ens_submission       Time_based  subset_pred_33   \n",
       "\n",
       "0  Validation_Score_before_clip  Validation_Score_after_clip  Public_LB_Score  \n",
       "0  Validation_Score_before_clip  Validation_Score_after_clip  Public_LB_Score  \n",
       "1            22.152128646601813           2.1637059693554495          1.17125  "
      ]
     },
     "execution_count": 99,
     "metadata": {},
     "output_type": "execute_result"
    }
   ],
   "source": [
    "monitoring_data.head()"
   ]
  },
  {
   "cell_type": "code",
   "execution_count": 100,
   "metadata": {},
   "outputs": [],
   "source": [
    "monitoring_data = monitoring_data.drop(0 , axis = 0).reset_index(drop = True)"
   ]
  },
  {
   "cell_type": "code",
   "execution_count": 101,
   "metadata": {},
   "outputs": [
    {
     "data": {
      "text/html": [
       "<div>\n",
       "<style>\n",
       "    .dataframe thead tr:only-child th {\n",
       "        text-align: right;\n",
       "    }\n",
       "\n",
       "    .dataframe thead th {\n",
       "        text-align: left;\n",
       "    }\n",
       "\n",
       "    .dataframe tbody tr th {\n",
       "        vertical-align: top;\n",
       "    }\n",
       "</style>\n",
       "<table border=\"1\" class=\"dataframe\">\n",
       "  <thead>\n",
       "    <tr style=\"text-align: right;\">\n",
       "      <th></th>\n",
       "      <th>Model1</th>\n",
       "      <th>Model2</th>\n",
       "      <th>Model3</th>\n",
       "      <th>Model4</th>\n",
       "      <th>Ensemble_Type</th>\n",
       "      <th>Val_Prediction_Name</th>\n",
       "      <th>Test_Prediction_Name</th>\n",
       "      <th>Validation_Type</th>\n",
       "      <th>Validation Set</th>\n",
       "      <th>Validation_Score_before_clip</th>\n",
       "      <th>Validation_Score_after_clip</th>\n",
       "      <th>Public_LB_Score</th>\n",
       "    </tr>\n",
       "  </thead>\n",
       "  <tbody>\n",
       "    <tr>\n",
       "      <th>0</th>\n",
       "      <td>xg_model_1_001_subsample_1</td>\n",
       "      <td>lm_model_standardized</td>\n",
       "      <td>rf_n_est_1000_depth_3_sqrt</td>\n",
       "      <td>None</td>\n",
       "      <td>Average</td>\n",
       "      <td>triple_ensemble</td>\n",
       "      <td>trip_ens_submission</td>\n",
       "      <td>Time_based</td>\n",
       "      <td>subset_pred_33</td>\n",
       "      <td>22.152128646601813</td>\n",
       "      <td>2.1637059693554495</td>\n",
       "      <td>1.17125</td>\n",
       "    </tr>\n",
       "  </tbody>\n",
       "</table>\n",
       "</div>"
      ],
      "text/plain": [
       "0                      Model1                 Model2  \\\n",
       "0  xg_model_1_001_subsample_1  lm_model_standardized   \n",
       "\n",
       "0                      Model3 Model4 Ensemble_Type Val_Prediction_Name  \\\n",
       "0  rf_n_est_1000_depth_3_sqrt   None       Average     triple_ensemble   \n",
       "\n",
       "0 Test_Prediction_Name Validation_Type  Validation Set  \\\n",
       "0  trip_ens_submission      Time_based  subset_pred_33   \n",
       "\n",
       "0 Validation_Score_before_clip Validation_Score_after_clip Public_LB_Score  \n",
       "0           22.152128646601813          2.1637059693554495         1.17125  "
      ]
     },
     "execution_count": 101,
     "metadata": {},
     "output_type": "execute_result"
    }
   ],
   "source": [
    "monitoring_data.head()"
   ]
  },
  {
   "cell_type": "code",
   "execution_count": 102,
   "metadata": {},
   "outputs": [],
   "source": [
    "#Probing with constants\n",
    "triple_ensemble_sub_025 = triple_ensemble - 0.025"
   ]
  },
  {
   "cell_type": "code",
   "execution_count": 103,
   "metadata": {},
   "outputs": [
    {
     "name": "stderr",
     "output_type": "stream",
     "text": [
      "/anaconda/lib/python3.6/site-packages/pandas/core/generic.py:5233: SettingWithCopyWarning: \n",
      "A value is trying to be set on a copy of a slice from a DataFrame\n",
      "\n",
      "See the caveats in the documentation: http://pandas.pydata.org/pandas-docs/stable/indexing.html#indexing-view-versus-copy\n",
      "  self._update_inplace(new_data)\n",
      "/anaconda/lib/python3.6/site-packages/ipykernel/__main__.py:1: SettingWithCopyWarning: \n",
      "A value is trying to be set on a copy of a slice from a DataFrame\n",
      "\n",
      "See the caveats in the documentation: http://pandas.pydata.org/pandas-docs/stable/indexing.html#indexing-view-versus-copy\n",
      "  if __name__ == '__main__':\n",
      "/anaconda/lib/python3.6/site-packages/ipykernel/__main__.py:22: SettingWithCopyWarning: \n",
      "A value is trying to be set on a copy of a slice from a DataFrame\n",
      "\n",
      "See the caveats in the documentation: http://pandas.pydata.org/pandas-docs/stable/indexing.html#indexing-view-versus-copy\n"
     ]
    }
   ],
   "source": [
    "val_error_triple_ensemble_sub_025 = compute_trimmed_rmse(triple_ensemble_sub_025, val33.dropna()['item_cnt_month'])"
   ]
  },
  {
   "cell_type": "code",
   "execution_count": 104,
   "metadata": {},
   "outputs": [
    {
     "data": {
      "text/plain": [
       "2.1525758675326285"
      ]
     },
     "execution_count": 104,
     "metadata": {},
     "output_type": "execute_result"
    }
   ],
   "source": [
    "val_error_triple_ensemble_sub_025 #Public LB 1.16766"
   ]
  },
  {
   "cell_type": "code",
   "execution_count": 105,
   "metadata": {},
   "outputs": [
    {
     "data": {
      "text/plain": [
       "22.152201326202153"
      ]
     },
     "execution_count": 105,
     "metadata": {},
     "output_type": "execute_result"
    }
   ],
   "source": [
    "val_error_triple_ensemble_sub_025_no_clip = rmse(triple_ensemble_sub_025, val33.dropna()['item_cnt_month'])\n",
    "val_error_triple_ensemble_sub_025_no_clip"
   ]
  },
  {
   "cell_type": "code",
   "execution_count": 106,
   "metadata": {},
   "outputs": [],
   "source": [
    "trip_ens_submission_sub_025 = trip_ens_submission"
   ]
  },
  {
   "cell_type": "code",
   "execution_count": 107,
   "metadata": {},
   "outputs": [],
   "source": [
    "trip_ens_submission_sub_025['item_cnt_month'] = trip_ens_submission_sub_025['item_cnt_month'] - 0.025 "
   ]
  },
  {
   "cell_type": "code",
   "execution_count": 108,
   "metadata": {},
   "outputs": [],
   "source": [
    "trip_ens_submission_sub_025.loc[trip_ens_submission_sub_025['item_cnt_month'] > 20 , 'item_cnt_month'] = 20\n",
    "trip_ens_submission_sub_025.loc[trip_ens_submission_sub_025['item_cnt_month'] < 0  , 'item_cnt_month'] = 0"
   ]
  },
  {
   "cell_type": "code",
   "execution_count": 109,
   "metadata": {},
   "outputs": [],
   "source": [
    "trip_ens_submission_sub_025.to_csv('trip_ens_submission_sub_025.csv', index = False) "
   ]
  },
  {
   "cell_type": "code",
   "execution_count": 110,
   "metadata": {},
   "outputs": [],
   "source": [
    "strategy_monitor_2 = ['xg_model_1_001_subsample_1', 'lm_model_standardized', 'rf_n_est_1000_depth_3_sqrt', 'None', 'Average','triple_ensemble_sub_025','trip_ens_submission_sub_025','Time_based', 'subset_pred_33', '22.152376903448658', '2.1603721210789528', '1.16766']"
   ]
  },
  {
   "cell_type": "code",
   "execution_count": 111,
   "metadata": {},
   "outputs": [],
   "source": [
    "monitoring_data = pd.concat([monitoring_data , pd.DataFrame(np.expand_dims(strategy_monitor_2,axis = 0) , columns = monitoring_data.columns)], axis = 0)"
   ]
  },
  {
   "cell_type": "code",
   "execution_count": 112,
   "metadata": {},
   "outputs": [],
   "source": [
    "monitoring_data.reset_index(inplace = True, drop= True)"
   ]
  },
  {
   "cell_type": "code",
   "execution_count": 113,
   "metadata": {},
   "outputs": [
    {
     "data": {
      "text/html": [
       "<div>\n",
       "<style>\n",
       "    .dataframe thead tr:only-child th {\n",
       "        text-align: right;\n",
       "    }\n",
       "\n",
       "    .dataframe thead th {\n",
       "        text-align: left;\n",
       "    }\n",
       "\n",
       "    .dataframe tbody tr th {\n",
       "        vertical-align: top;\n",
       "    }\n",
       "</style>\n",
       "<table border=\"1\" class=\"dataframe\">\n",
       "  <thead>\n",
       "    <tr style=\"text-align: right;\">\n",
       "      <th></th>\n",
       "      <th>Model1</th>\n",
       "      <th>Model2</th>\n",
       "      <th>Model3</th>\n",
       "      <th>Model4</th>\n",
       "      <th>Ensemble_Type</th>\n",
       "      <th>Val_Prediction_Name</th>\n",
       "      <th>Test_Prediction_Name</th>\n",
       "      <th>Validation_Type</th>\n",
       "      <th>Validation Set</th>\n",
       "      <th>Validation_Score_before_clip</th>\n",
       "      <th>Validation_Score_after_clip</th>\n",
       "      <th>Public_LB_Score</th>\n",
       "    </tr>\n",
       "  </thead>\n",
       "  <tbody>\n",
       "    <tr>\n",
       "      <th>0</th>\n",
       "      <td>xg_model_1_001_subsample_1</td>\n",
       "      <td>lm_model_standardized</td>\n",
       "      <td>rf_n_est_1000_depth_3_sqrt</td>\n",
       "      <td>None</td>\n",
       "      <td>Average</td>\n",
       "      <td>triple_ensemble</td>\n",
       "      <td>trip_ens_submission</td>\n",
       "      <td>Time_based</td>\n",
       "      <td>subset_pred_33</td>\n",
       "      <td>22.152128646601813</td>\n",
       "      <td>2.1637059693554495</td>\n",
       "      <td>1.17125</td>\n",
       "    </tr>\n",
       "    <tr>\n",
       "      <th>1</th>\n",
       "      <td>xg_model_1_001_subsample_1</td>\n",
       "      <td>lm_model_standardized</td>\n",
       "      <td>rf_n_est_1000_depth_3_sqrt</td>\n",
       "      <td>None</td>\n",
       "      <td>Average</td>\n",
       "      <td>triple_ensemble_sub_025</td>\n",
       "      <td>trip_ens_submission_sub_025</td>\n",
       "      <td>Time_based</td>\n",
       "      <td>subset_pred_33</td>\n",
       "      <td>22.152376903448658</td>\n",
       "      <td>2.1603721210789528</td>\n",
       "      <td>1.16766</td>\n",
       "    </tr>\n",
       "  </tbody>\n",
       "</table>\n",
       "</div>"
      ],
      "text/plain": [
       "0                      Model1                 Model2  \\\n",
       "0  xg_model_1_001_subsample_1  lm_model_standardized   \n",
       "1  xg_model_1_001_subsample_1  lm_model_standardized   \n",
       "\n",
       "0                      Model3 Model4 Ensemble_Type      Val_Prediction_Name  \\\n",
       "0  rf_n_est_1000_depth_3_sqrt   None       Average          triple_ensemble   \n",
       "1  rf_n_est_1000_depth_3_sqrt   None       Average  triple_ensemble_sub_025   \n",
       "\n",
       "0         Test_Prediction_Name Validation_Type  Validation Set  \\\n",
       "0          trip_ens_submission      Time_based  subset_pred_33   \n",
       "1  trip_ens_submission_sub_025      Time_based  subset_pred_33   \n",
       "\n",
       "0 Validation_Score_before_clip Validation_Score_after_clip Public_LB_Score  \n",
       "0           22.152128646601813          2.1637059693554495         1.17125  \n",
       "1           22.152376903448658          2.1603721210789528         1.16766  "
      ]
     },
     "execution_count": 113,
     "metadata": {},
     "output_type": "execute_result"
    }
   ],
   "source": [
    "monitoring_data"
   ]
  },
  {
   "cell_type": "code",
   "execution_count": 114,
   "metadata": {},
   "outputs": [],
   "source": [
    "strategy_monitor_3 = ['xg_model_1_001_subsample_1', 'lm_model', 'None', 'None', 'Average','ensemble_lin_xgb','test_ensemble_lin_xgb','Time_based', 'subset_pred_33', '20.782376903448658', '2.1514849785860064', '1.4767']"
   ]
  },
  {
   "cell_type": "code",
   "execution_count": 115,
   "metadata": {},
   "outputs": [],
   "source": [
    "monitoring_data = pd.concat([monitoring_data , pd.DataFrame(np.expand_dims(strategy_monitor_3,axis = 0) , columns = monitoring_data.columns)], axis = 0)"
   ]
  },
  {
   "cell_type": "code",
   "execution_count": 116,
   "metadata": {},
   "outputs": [],
   "source": [
    "monitoring_data.reset_index(inplace = True, drop= True)"
   ]
  },
  {
   "cell_type": "code",
   "execution_count": 117,
   "metadata": {},
   "outputs": [],
   "source": [
    "monitoring_data['Public_LB_Score'].replace('1.4767',value = '1.14767', inplace = True)"
   ]
  },
  {
   "cell_type": "code",
   "execution_count": 118,
   "metadata": {},
   "outputs": [
    {
     "data": {
      "text/html": [
       "<div>\n",
       "<style>\n",
       "    .dataframe thead tr:only-child th {\n",
       "        text-align: right;\n",
       "    }\n",
       "\n",
       "    .dataframe thead th {\n",
       "        text-align: left;\n",
       "    }\n",
       "\n",
       "    .dataframe tbody tr th {\n",
       "        vertical-align: top;\n",
       "    }\n",
       "</style>\n",
       "<table border=\"1\" class=\"dataframe\">\n",
       "  <thead>\n",
       "    <tr style=\"text-align: right;\">\n",
       "      <th></th>\n",
       "      <th>Model1</th>\n",
       "      <th>Model2</th>\n",
       "      <th>Model3</th>\n",
       "      <th>Model4</th>\n",
       "      <th>Ensemble_Type</th>\n",
       "      <th>Val_Prediction_Name</th>\n",
       "      <th>Test_Prediction_Name</th>\n",
       "      <th>Validation_Type</th>\n",
       "      <th>Validation Set</th>\n",
       "      <th>Validation_Score_before_clip</th>\n",
       "      <th>Validation_Score_after_clip</th>\n",
       "      <th>Public_LB_Score</th>\n",
       "    </tr>\n",
       "  </thead>\n",
       "  <tbody>\n",
       "    <tr>\n",
       "      <th>0</th>\n",
       "      <td>xg_model_1_001_subsample_1</td>\n",
       "      <td>lm_model_standardized</td>\n",
       "      <td>rf_n_est_1000_depth_3_sqrt</td>\n",
       "      <td>None</td>\n",
       "      <td>Average</td>\n",
       "      <td>triple_ensemble</td>\n",
       "      <td>trip_ens_submission</td>\n",
       "      <td>Time_based</td>\n",
       "      <td>subset_pred_33</td>\n",
       "      <td>22.152128646601813</td>\n",
       "      <td>2.1637059693554495</td>\n",
       "      <td>1.17125</td>\n",
       "    </tr>\n",
       "    <tr>\n",
       "      <th>1</th>\n",
       "      <td>xg_model_1_001_subsample_1</td>\n",
       "      <td>lm_model_standardized</td>\n",
       "      <td>rf_n_est_1000_depth_3_sqrt</td>\n",
       "      <td>None</td>\n",
       "      <td>Average</td>\n",
       "      <td>triple_ensemble_sub_025</td>\n",
       "      <td>trip_ens_submission_sub_025</td>\n",
       "      <td>Time_based</td>\n",
       "      <td>subset_pred_33</td>\n",
       "      <td>22.152376903448658</td>\n",
       "      <td>2.1603721210789528</td>\n",
       "      <td>1.16766</td>\n",
       "    </tr>\n",
       "    <tr>\n",
       "      <th>2</th>\n",
       "      <td>xg_model_1_001_subsample_1</td>\n",
       "      <td>lm_model</td>\n",
       "      <td>None</td>\n",
       "      <td>None</td>\n",
       "      <td>Average</td>\n",
       "      <td>ensemble_lin_xgb</td>\n",
       "      <td>test_ensemble_lin_xgb</td>\n",
       "      <td>Time_based</td>\n",
       "      <td>subset_pred_33</td>\n",
       "      <td>20.782376903448658</td>\n",
       "      <td>2.1514849785860064</td>\n",
       "      <td>1.14767</td>\n",
       "    </tr>\n",
       "  </tbody>\n",
       "</table>\n",
       "</div>"
      ],
      "text/plain": [
       "0                      Model1                 Model2  \\\n",
       "0  xg_model_1_001_subsample_1  lm_model_standardized   \n",
       "1  xg_model_1_001_subsample_1  lm_model_standardized   \n",
       "2  xg_model_1_001_subsample_1               lm_model   \n",
       "\n",
       "0                      Model3 Model4 Ensemble_Type      Val_Prediction_Name  \\\n",
       "0  rf_n_est_1000_depth_3_sqrt   None       Average          triple_ensemble   \n",
       "1  rf_n_est_1000_depth_3_sqrt   None       Average  triple_ensemble_sub_025   \n",
       "2                        None   None       Average         ensemble_lin_xgb   \n",
       "\n",
       "0         Test_Prediction_Name Validation_Type  Validation Set  \\\n",
       "0          trip_ens_submission      Time_based  subset_pred_33   \n",
       "1  trip_ens_submission_sub_025      Time_based  subset_pred_33   \n",
       "2        test_ensemble_lin_xgb      Time_based  subset_pred_33   \n",
       "\n",
       "0 Validation_Score_before_clip Validation_Score_after_clip Public_LB_Score  \n",
       "0           22.152128646601813          2.1637059693554495         1.17125  \n",
       "1           22.152376903448658          2.1603721210789528         1.16766  \n",
       "2           20.782376903448658          2.1514849785860064         1.14767  "
      ]
     },
     "execution_count": 118,
     "metadata": {},
     "output_type": "execute_result"
    }
   ],
   "source": [
    "monitoring_data"
   ]
  },
  {
   "cell_type": "code",
   "execution_count": 119,
   "metadata": {},
   "outputs": [],
   "source": [
    "#Sending Single predictions with no ensembling"
   ]
  },
  {
   "cell_type": "code",
   "execution_count": 120,
   "metadata": {},
   "outputs": [
    {
     "name": "stderr",
     "output_type": "stream",
     "text": [
      "/anaconda/lib/python3.6/site-packages/pandas/core/generic.py:5233: SettingWithCopyWarning: \n",
      "A value is trying to be set on a copy of a slice from a DataFrame\n",
      "\n",
      "See the caveats in the documentation: http://pandas.pydata.org/pandas-docs/stable/indexing.html#indexing-view-versus-copy\n",
      "  self._update_inplace(new_data)\n",
      "/anaconda/lib/python3.6/site-packages/ipykernel/__main__.py:1: SettingWithCopyWarning: \n",
      "A value is trying to be set on a copy of a slice from a DataFrame\n",
      "\n",
      "See the caveats in the documentation: http://pandas.pydata.org/pandas-docs/stable/indexing.html#indexing-view-versus-copy\n",
      "  if __name__ == '__main__':\n",
      "/anaconda/lib/python3.6/site-packages/ipykernel/__main__.py:22: SettingWithCopyWarning: \n",
      "A value is trying to be set on a copy of a slice from a DataFrame\n",
      "\n",
      "See the caveats in the documentation: http://pandas.pydata.org/pandas-docs/stable/indexing.html#indexing-view-versus-copy\n"
     ]
    },
    {
     "data": {
      "text/plain": [
       "2.4473890116412647"
      ]
     },
     "execution_count": 120,
     "metadata": {},
     "output_type": "execute_result"
    }
   ],
   "source": [
    "val_xg_model_1_001_subsample_1 = compute_trimmed_rmse(prediction_xgb_best, val33.dropna()['item_cnt_month'])\n",
    "val_xg_model_1_001_subsample_1"
   ]
  },
  {
   "cell_type": "code",
   "execution_count": 121,
   "metadata": {},
   "outputs": [
    {
     "data": {
      "text/plain": [
       "22.210023612056762"
      ]
     },
     "execution_count": 121,
     "metadata": {},
     "output_type": "execute_result"
    }
   ],
   "source": [
    "val_xg_model_1_001_subsample_1_no_clip = rmse(prediction_xgb_best, val33.dropna()['item_cnt_month'])\n",
    "val_xg_model_1_001_subsample_1_no_clip"
   ]
  },
  {
   "cell_type": "code",
   "execution_count": 122,
   "metadata": {},
   "outputs": [
    {
     "name": "stderr",
     "output_type": "stream",
     "text": [
      "/anaconda/lib/python3.6/site-packages/pandas/core/generic.py:5233: SettingWithCopyWarning: \n",
      "A value is trying to be set on a copy of a slice from a DataFrame\n",
      "\n",
      "See the caveats in the documentation: http://pandas.pydata.org/pandas-docs/stable/indexing.html#indexing-view-versus-copy\n",
      "  self._update_inplace(new_data)\n",
      "/anaconda/lib/python3.6/site-packages/ipykernel/__main__.py:1: SettingWithCopyWarning: \n",
      "A value is trying to be set on a copy of a slice from a DataFrame\n",
      "\n",
      "See the caveats in the documentation: http://pandas.pydata.org/pandas-docs/stable/indexing.html#indexing-view-versus-copy\n",
      "  if __name__ == '__main__':\n",
      "/anaconda/lib/python3.6/site-packages/ipykernel/__main__.py:22: SettingWithCopyWarning: \n",
      "A value is trying to be set on a copy of a slice from a DataFrame\n",
      "\n",
      "See the caveats in the documentation: http://pandas.pydata.org/pandas-docs/stable/indexing.html#indexing-view-versus-copy\n"
     ]
    },
    {
     "data": {
      "text/plain": [
       "2.4193532474565846"
      ]
     },
     "execution_count": 122,
     "metadata": {},
     "output_type": "execute_result"
    }
   ],
   "source": [
    "val_lin_prediction = compute_trimmed_rmse(lin_prediction, val33.dropna()['item_cnt_month'])\n",
    "val_lin_prediction"
   ]
  },
  {
   "cell_type": "code",
   "execution_count": 123,
   "metadata": {},
   "outputs": [
    {
     "data": {
      "text/plain": [
       "22.171447672242579"
      ]
     },
     "execution_count": 123,
     "metadata": {},
     "output_type": "execute_result"
    }
   ],
   "source": [
    "val_lin_prediction_no_clip = rmse(lin_prediction, val33.dropna()['item_cnt_month'])\n",
    "val_lin_prediction_no_clip"
   ]
  },
  {
   "cell_type": "code",
   "execution_count": 124,
   "metadata": {},
   "outputs": [
    {
     "name": "stderr",
     "output_type": "stream",
     "text": [
      "/anaconda/lib/python3.6/site-packages/pandas/core/generic.py:5233: SettingWithCopyWarning: \n",
      "A value is trying to be set on a copy of a slice from a DataFrame\n",
      "\n",
      "See the caveats in the documentation: http://pandas.pydata.org/pandas-docs/stable/indexing.html#indexing-view-versus-copy\n",
      "  self._update_inplace(new_data)\n",
      "/anaconda/lib/python3.6/site-packages/ipykernel/__main__.py:1: SettingWithCopyWarning: \n",
      "A value is trying to be set on a copy of a slice from a DataFrame\n",
      "\n",
      "See the caveats in the documentation: http://pandas.pydata.org/pandas-docs/stable/indexing.html#indexing-view-versus-copy\n",
      "  if __name__ == '__main__':\n",
      "/anaconda/lib/python3.6/site-packages/ipykernel/__main__.py:22: SettingWithCopyWarning: \n",
      "A value is trying to be set on a copy of a slice from a DataFrame\n",
      "\n",
      "See the caveats in the documentation: http://pandas.pydata.org/pandas-docs/stable/indexing.html#indexing-view-versus-copy\n"
     ]
    },
    {
     "data": {
      "text/plain": [
       "2.266358262216623"
      ]
     },
     "execution_count": 124,
     "metadata": {},
     "output_type": "execute_result"
    }
   ],
   "source": [
    "val_rf_n_est_1000_depth_3_sqrt = compute_trimmed_rmse(prediction_rf_best_depth, val33.dropna()['item_cnt_month'])\n",
    "val_rf_n_est_1000_depth_3_sqrt"
   ]
  },
  {
   "cell_type": "code",
   "execution_count": 125,
   "metadata": {},
   "outputs": [
    {
     "data": {
      "text/plain": [
       "22.171388405999824"
      ]
     },
     "execution_count": 125,
     "metadata": {},
     "output_type": "execute_result"
    }
   ],
   "source": [
    "val_rf_n_est_1000_depth_3_sqrt_no_clip = rmse(prediction_rf_best_depth, val33.dropna()['item_cnt_month'])\n",
    "val_rf_n_est_1000_depth_3_sqrt_no_clip"
   ]
  },
  {
   "cell_type": "code",
   "execution_count": 126,
   "metadata": {},
   "outputs": [],
   "source": [
    "monitoring_data[\"Validation Set\"].replace('subset_pred_33','dropped_col_val33_no_na',inplace = True)"
   ]
  },
  {
   "cell_type": "code",
   "execution_count": 142,
   "metadata": {},
   "outputs": [],
   "source": [
    "monitoring_data['Public_LB_Score'] = monitoring_data['Public_LB_Score'].astype(float, inplace = True)"
   ]
  },
  {
   "cell_type": "code",
   "execution_count": 143,
   "metadata": {},
   "outputs": [],
   "source": [
    "monitoring_data['Validation_Score_after_clip'] = monitoring_data['Validation_Score_after_clip'].astype(float)\n",
    "monitoring_data['Validation_Score_before_clip'] = monitoring_data['Validation_Score_before_clip'].astype(float)"
   ]
  },
  {
   "cell_type": "code",
   "execution_count": 144,
   "metadata": {},
   "outputs": [],
   "source": [
    "monitoring_data.to_csv('monitoring_data.csv', index=False)"
   ]
  },
  {
   "cell_type": "code",
   "execution_count": 174,
   "metadata": {},
   "outputs": [],
   "source": [
    "??fig.add_subplot"
   ]
  },
  {
   "cell_type": "code",
   "execution_count": 9,
   "metadata": {},
   "outputs": [],
   "source": [
    "import matplotlib.pyplot as plt"
   ]
  },
  {
   "cell_type": "code",
   "execution_count": 20,
   "metadata": {},
   "outputs": [],
   "source": [
    "fig = plt.figure(figsize=(10,5))\n",
    "ax1 = fig.add_subplot(1,2,1)\n",
    "ax2 = fig.add_subplot(1,2,2)"
   ]
  },
  {
   "cell_type": "code",
   "execution_count": 11,
   "metadata": {},
   "outputs": [],
   "source": [
    "import seaborn as sns"
   ]
  },
  {
   "cell_type": "code",
   "execution_count": 12,
   "metadata": {},
   "outputs": [],
   "source": [
    "import pandas as pd"
   ]
  },
  {
   "cell_type": "code",
   "execution_count": 13,
   "metadata": {},
   "outputs": [],
   "source": [
    "monitoring_data = pd.read_csv('monitoring_data.csv')"
   ]
  },
  {
   "cell_type": "code",
   "execution_count": 21,
   "metadata": {},
   "outputs": [
    {
     "data": {
      "image/png": "[encoded data removed]",
      "text/plain": [
       "<Figure size 720x360 with 2 Axes>"
      ]
     },
     "metadata": {},
     "output_type": "display_data"
    }
   ],
   "source": [
    "ax1.plot(monitoring_data['Validation_Score_before_clip'], monitoring_data['Public_LB_Score'])\n",
    "ax2.plot(monitoring_data['Validation_Score_after_clip'], monitoring_data['Public_LB_Score'])\n",
    "plt.show()"
   ]
  },
  {
   "cell_type": "code",
   "execution_count": null,
   "metadata": {},
   "outputs": [],
   "source": [
    "??np.lo"
   ]
  }
 ],
 "metadata": {
  "kernelspec": {
   "display_name": "Python [conda root]",
   "language": "python",
   "name": "conda-root-py"
  },
  "language_info": {
   "codemirror_mode": {
    "name": "ipython",
    "version": 3
   },
   "file_extension": ".py",
   "mimetype": "text/x-python",
   "name": "python",
   "nbconvert_exporter": "python",
   "pygments_lexer": "ipython3",
   "version": "3.6.5"
  }
 },
 "nbformat": 4,
 "nbformat_minor": 2
}
