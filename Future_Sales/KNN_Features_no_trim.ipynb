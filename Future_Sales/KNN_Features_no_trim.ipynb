{
 "cells": [
  {
   "cell_type": "code",
   "execution_count": 1,
   "metadata": {},
   "outputs": [],
   "source": [
    "%store -r __toolboxforsalesdata"
   ]
  },
  {
   "cell_type": "code",
   "execution_count": 2,
   "metadata": {},
   "outputs": [
    {
     "name": "stderr",
     "output_type": "stream",
     "text": [
      "/anaconda/lib/python3.6/site-packages/sklearn/cross_validation.py:41: DeprecationWarning: This module was deprecated in version 0.18 in favor of the model_selection module into which all the refactored classes and functions are moved. Also note that the interface of the new CV iterators are different from that of this module. This module will be removed in 0.20.\n",
      "  \"This module will be removed in 0.20.\", DeprecationWarning)\n",
      "/anaconda/lib/python3.6/site-packages/sklearn/ensemble/weight_boosting.py:29: DeprecationWarning: numpy.core.umath_tests is an internal NumPy module and should not be imported. It will be removed in a future NumPy release.\n",
      "  from numpy.core.umath_tests import inner1d\n"
     ]
    }
   ],
   "source": [
    "__toolboxforsalesdata"
   ]
  },
  {
   "cell_type": "code",
   "execution_count": 153,
   "metadata": {},
   "outputs": [],
   "source": [
    "train_full = pd.read_csv('train_full_lag1_lag2_season.csv')"
   ]
  },
  {
   "cell_type": "code",
   "execution_count": 365,
   "metadata": {},
   "outputs": [],
   "source": [
    "test_full = pd.read_csv('test_full_lag1_lag2_seasonal.csv')"
   ]
  },
  {
   "cell_type": "code",
   "execution_count": null,
   "metadata": {},
   "outputs": [],
   "source": []
  },
  {
   "cell_type": "code",
   "execution_count": 155,
   "metadata": {},
   "outputs": [],
   "source": [
    "#Adding prev month category mean to train set.\n",
    "category_encoding_monthly = train_full.groupby(['unique','item_category_id'])['item_cnt_month'].mean().reset_index()"
   ]
  },
  {
   "cell_type": "code",
   "execution_count": 156,
   "metadata": {},
   "outputs": [],
   "source": [
    "category_encoding_monthly['unique'] = category_encoding_monthly['unique'] + 1"
   ]
  },
  {
   "cell_type": "code",
   "execution_count": 157,
   "metadata": {},
   "outputs": [
    {
     "data": {
      "text/html": [
       "<div>\n",
       "<style>\n",
       "    .dataframe thead tr:only-child th {\n",
       "        text-align: right;\n",
       "    }\n",
       "\n",
       "    .dataframe thead th {\n",
       "        text-align: left;\n",
       "    }\n",
       "\n",
       "    .dataframe tbody tr th {\n",
       "        vertical-align: top;\n",
       "    }\n",
       "</style>\n",
       "<table border=\"1\" class=\"dataframe\">\n",
       "  <thead>\n",
       "    <tr style=\"text-align: right;\">\n",
       "      <th></th>\n",
       "      <th>unique</th>\n",
       "      <th>item_category_id</th>\n",
       "      <th>item_cnt_month</th>\n",
       "    </tr>\n",
       "  </thead>\n",
       "  <tbody>\n",
       "    <tr>\n",
       "      <th>0</th>\n",
       "      <td>1</td>\n",
       "      <td>0</td>\n",
       "      <td>1.000000</td>\n",
       "    </tr>\n",
       "    <tr>\n",
       "      <th>1</th>\n",
       "      <td>1</td>\n",
       "      <td>1</td>\n",
       "      <td>1.000000</td>\n",
       "    </tr>\n",
       "    <tr>\n",
       "      <th>2</th>\n",
       "      <td>1</td>\n",
       "      <td>2</td>\n",
       "      <td>2.522686</td>\n",
       "    </tr>\n",
       "    <tr>\n",
       "      <th>3</th>\n",
       "      <td>1</td>\n",
       "      <td>3</td>\n",
       "      <td>10.000000</td>\n",
       "    </tr>\n",
       "    <tr>\n",
       "      <th>4</th>\n",
       "      <td>1</td>\n",
       "      <td>4</td>\n",
       "      <td>1.930769</td>\n",
       "    </tr>\n",
       "  </tbody>\n",
       "</table>\n",
       "</div>"
      ],
      "text/plain": [
       "   unique  item_category_id  item_cnt_month\n",
       "0       1                 0        1.000000\n",
       "1       1                 1        1.000000\n",
       "2       1                 2        2.522686\n",
       "3       1                 3       10.000000\n",
       "4       1                 4        1.930769"
      ]
     },
     "execution_count": 157,
     "metadata": {},
     "output_type": "execute_result"
    }
   ],
   "source": [
    "category_encoding_monthly.head()"
   ]
  },
  {
   "cell_type": "code",
   "execution_count": 158,
   "metadata": {},
   "outputs": [],
   "source": [
    "category_encoding_monthly.rename(columns={'item_cnt_month': 'prev_month_category_mean'}, inplace=True)"
   ]
  },
  {
   "cell_type": "code",
   "execution_count": 159,
   "metadata": {},
   "outputs": [],
   "source": [
    "train_full = train_full.merge(category_encoding_monthly, how='left', on = ['unique','item_category_id'])"
   ]
  },
  {
   "cell_type": "code",
   "execution_count": 160,
   "metadata": {},
   "outputs": [],
   "source": [
    "train_full.drop('Unnamed: 0', axis = 1, inplace = True)"
   ]
  },
  {
   "cell_type": "code",
   "execution_count": 161,
   "metadata": {},
   "outputs": [
    {
     "data": {
      "text/html": [
       "<div>\n",
       "<style>\n",
       "    .dataframe thead tr:only-child th {\n",
       "        text-align: right;\n",
       "    }\n",
       "\n",
       "    .dataframe thead th {\n",
       "        text-align: left;\n",
       "    }\n",
       "\n",
       "    .dataframe tbody tr th {\n",
       "        vertical-align: top;\n",
       "    }\n",
       "</style>\n",
       "<table border=\"1\" class=\"dataframe\">\n",
       "  <thead>\n",
       "    <tr style=\"text-align: right;\">\n",
       "      <th></th>\n",
       "      <th>shop_id</th>\n",
       "      <th>item_id</th>\n",
       "      <th>unique</th>\n",
       "      <th>item_price</th>\n",
       "      <th>item_cnt_month</th>\n",
       "      <th>item_category_id</th>\n",
       "      <th>is_music</th>\n",
       "      <th>lag_shop_item_comb</th>\n",
       "      <th>lag_only_item</th>\n",
       "      <th>lag_only_item_cat</th>\n",
       "      <th>lag2_only_item_cat</th>\n",
       "      <th>lag2_shop_item_comb</th>\n",
       "      <th>lag2_only_item</th>\n",
       "      <th>seasonal_freq_3_feature</th>\n",
       "      <th>prev_month_category_mean</th>\n",
       "    </tr>\n",
       "  </thead>\n",
       "  <tbody>\n",
       "    <tr>\n",
       "      <th>0</th>\n",
       "      <td>0</td>\n",
       "      <td>32</td>\n",
       "      <td>0</td>\n",
       "      <td>221.0</td>\n",
       "      <td>6.0</td>\n",
       "      <td>40</td>\n",
       "      <td>False</td>\n",
       "      <td>NaN</td>\n",
       "      <td>NaN</td>\n",
       "      <td>NaN</td>\n",
       "      <td>NaN</td>\n",
       "      <td>NaN</td>\n",
       "      <td>NaN</td>\n",
       "      <td>-0.063765</td>\n",
       "      <td>NaN</td>\n",
       "    </tr>\n",
       "    <tr>\n",
       "      <th>1</th>\n",
       "      <td>0</td>\n",
       "      <td>33</td>\n",
       "      <td>0</td>\n",
       "      <td>347.0</td>\n",
       "      <td>3.0</td>\n",
       "      <td>37</td>\n",
       "      <td>False</td>\n",
       "      <td>NaN</td>\n",
       "      <td>NaN</td>\n",
       "      <td>NaN</td>\n",
       "      <td>NaN</td>\n",
       "      <td>NaN</td>\n",
       "      <td>NaN</td>\n",
       "      <td>-0.063765</td>\n",
       "      <td>NaN</td>\n",
       "    </tr>\n",
       "    <tr>\n",
       "      <th>2</th>\n",
       "      <td>0</td>\n",
       "      <td>35</td>\n",
       "      <td>0</td>\n",
       "      <td>247.0</td>\n",
       "      <td>1.0</td>\n",
       "      <td>40</td>\n",
       "      <td>False</td>\n",
       "      <td>NaN</td>\n",
       "      <td>NaN</td>\n",
       "      <td>NaN</td>\n",
       "      <td>NaN</td>\n",
       "      <td>NaN</td>\n",
       "      <td>NaN</td>\n",
       "      <td>-0.063765</td>\n",
       "      <td>NaN</td>\n",
       "    </tr>\n",
       "    <tr>\n",
       "      <th>3</th>\n",
       "      <td>0</td>\n",
       "      <td>43</td>\n",
       "      <td>0</td>\n",
       "      <td>221.0</td>\n",
       "      <td>1.0</td>\n",
       "      <td>40</td>\n",
       "      <td>False</td>\n",
       "      <td>NaN</td>\n",
       "      <td>NaN</td>\n",
       "      <td>NaN</td>\n",
       "      <td>NaN</td>\n",
       "      <td>NaN</td>\n",
       "      <td>NaN</td>\n",
       "      <td>-0.063765</td>\n",
       "      <td>NaN</td>\n",
       "    </tr>\n",
       "    <tr>\n",
       "      <th>4</th>\n",
       "      <td>0</td>\n",
       "      <td>51</td>\n",
       "      <td>0</td>\n",
       "      <td>128.5</td>\n",
       "      <td>2.0</td>\n",
       "      <td>57</td>\n",
       "      <td>True</td>\n",
       "      <td>NaN</td>\n",
       "      <td>NaN</td>\n",
       "      <td>NaN</td>\n",
       "      <td>NaN</td>\n",
       "      <td>NaN</td>\n",
       "      <td>NaN</td>\n",
       "      <td>-0.063765</td>\n",
       "      <td>NaN</td>\n",
       "    </tr>\n",
       "  </tbody>\n",
       "</table>\n",
       "</div>"
      ],
      "text/plain": [
       "   shop_id  item_id  unique  item_price  item_cnt_month  item_category_id  \\\n",
       "0        0       32       0       221.0             6.0                40   \n",
       "1        0       33       0       347.0             3.0                37   \n",
       "2        0       35       0       247.0             1.0                40   \n",
       "3        0       43       0       221.0             1.0                40   \n",
       "4        0       51       0       128.5             2.0                57   \n",
       "\n",
       "   is_music  lag_shop_item_comb  lag_only_item  lag_only_item_cat  \\\n",
       "0     False                 NaN            NaN                NaN   \n",
       "1     False                 NaN            NaN                NaN   \n",
       "2     False                 NaN            NaN                NaN   \n",
       "3     False                 NaN            NaN                NaN   \n",
       "4      True                 NaN            NaN                NaN   \n",
       "\n",
       "   lag2_only_item_cat  lag2_shop_item_comb  lag2_only_item  \\\n",
       "0                 NaN                  NaN             NaN   \n",
       "1                 NaN                  NaN             NaN   \n",
       "2                 NaN                  NaN             NaN   \n",
       "3                 NaN                  NaN             NaN   \n",
       "4                 NaN                  NaN             NaN   \n",
       "\n",
       "   seasonal_freq_3_feature  prev_month_category_mean  \n",
       "0                -0.063765                       NaN  \n",
       "1                -0.063765                       NaN  \n",
       "2                -0.063765                       NaN  \n",
       "3                -0.063765                       NaN  \n",
       "4                -0.063765                       NaN  "
      ]
     },
     "execution_count": 161,
     "metadata": {},
     "output_type": "execute_result"
    }
   ],
   "source": [
    "train_full.head()"
   ]
  },
  {
   "cell_type": "code",
   "execution_count": 162,
   "metadata": {},
   "outputs": [],
   "source": [
    "#Same for test.\n",
    "test_full = test_full.merge(category_encoding_monthly, how='left', on = ['unique','item_category_id'])"
   ]
  },
  {
   "cell_type": "code",
   "execution_count": 163,
   "metadata": {},
   "outputs": [],
   "source": [
    "test_full.drop('Unnamed: 0', axis = 1, inplace = True)"
   ]
  },
  {
   "cell_type": "code",
   "execution_count": 164,
   "metadata": {},
   "outputs": [
    {
     "data": {
      "text/html": [
       "<div>\n",
       "<style>\n",
       "    .dataframe thead tr:only-child th {\n",
       "        text-align: right;\n",
       "    }\n",
       "\n",
       "    .dataframe thead th {\n",
       "        text-align: left;\n",
       "    }\n",
       "\n",
       "    .dataframe tbody tr th {\n",
       "        vertical-align: top;\n",
       "    }\n",
       "</style>\n",
       "<table border=\"1\" class=\"dataframe\">\n",
       "  <thead>\n",
       "    <tr style=\"text-align: right;\">\n",
       "      <th></th>\n",
       "      <th>ID</th>\n",
       "      <th>shop_id</th>\n",
       "      <th>item_id</th>\n",
       "      <th>item_category_id</th>\n",
       "      <th>indicator</th>\n",
       "      <th>is_music</th>\n",
       "      <th>lag_shop_item_comb</th>\n",
       "      <th>lag_only_item</th>\n",
       "      <th>item_price</th>\n",
       "      <th>lag_only_item_cat</th>\n",
       "      <th>unique</th>\n",
       "      <th>lag2_only_item_cat</th>\n",
       "      <th>lag2_only_item</th>\n",
       "      <th>lag2_shop_item_comb</th>\n",
       "      <th>seasonal_freq_3_feature</th>\n",
       "      <th>prev_month_category_mean</th>\n",
       "    </tr>\n",
       "  </thead>\n",
       "  <tbody>\n",
       "    <tr>\n",
       "      <th>0</th>\n",
       "      <td>0</td>\n",
       "      <td>5</td>\n",
       "      <td>5037</td>\n",
       "      <td>19</td>\n",
       "      <td>1</td>\n",
       "      <td>False</td>\n",
       "      <td>NaN</td>\n",
       "      <td>25.0</td>\n",
       "      <td>1693.518519</td>\n",
       "      <td>2443.0</td>\n",
       "      <td>34</td>\n",
       "      <td>2.312028</td>\n",
       "      <td>3.793103</td>\n",
       "      <td>1.0</td>\n",
       "      <td>-0.047512</td>\n",
       "      <td>1.652909</td>\n",
       "    </tr>\n",
       "    <tr>\n",
       "      <th>1</th>\n",
       "      <td>1</td>\n",
       "      <td>5</td>\n",
       "      <td>5320</td>\n",
       "      <td>NaN</td>\n",
       "      <td>0</td>\n",
       "      <td>NaN</td>\n",
       "      <td>NaN</td>\n",
       "      <td>NaN</td>\n",
       "      <td>NaN</td>\n",
       "      <td>NaN</td>\n",
       "      <td>34</td>\n",
       "      <td>NaN</td>\n",
       "      <td>NaN</td>\n",
       "      <td>NaN</td>\n",
       "      <td>-0.047512</td>\n",
       "      <td>NaN</td>\n",
       "    </tr>\n",
       "    <tr>\n",
       "      <th>2</th>\n",
       "      <td>2</td>\n",
       "      <td>5</td>\n",
       "      <td>5233</td>\n",
       "      <td>19</td>\n",
       "      <td>2</td>\n",
       "      <td>False</td>\n",
       "      <td>1.0</td>\n",
       "      <td>42.0</td>\n",
       "      <td>859.000000</td>\n",
       "      <td>2443.0</td>\n",
       "      <td>34</td>\n",
       "      <td>2.312028</td>\n",
       "      <td>2.666667</td>\n",
       "      <td>3.0</td>\n",
       "      <td>-0.047512</td>\n",
       "      <td>1.652909</td>\n",
       "    </tr>\n",
       "    <tr>\n",
       "      <th>3</th>\n",
       "      <td>3</td>\n",
       "      <td>5</td>\n",
       "      <td>5232</td>\n",
       "      <td>23</td>\n",
       "      <td>1</td>\n",
       "      <td>False</td>\n",
       "      <td>NaN</td>\n",
       "      <td>28.0</td>\n",
       "      <td>599.000000</td>\n",
       "      <td>2203.0</td>\n",
       "      <td>34</td>\n",
       "      <td>2.201104</td>\n",
       "      <td>1.846154</td>\n",
       "      <td>NaN</td>\n",
       "      <td>-0.047512</td>\n",
       "      <td>1.651424</td>\n",
       "    </tr>\n",
       "    <tr>\n",
       "      <th>4</th>\n",
       "      <td>4</td>\n",
       "      <td>5</td>\n",
       "      <td>5268</td>\n",
       "      <td>NaN</td>\n",
       "      <td>0</td>\n",
       "      <td>NaN</td>\n",
       "      <td>NaN</td>\n",
       "      <td>NaN</td>\n",
       "      <td>NaN</td>\n",
       "      <td>NaN</td>\n",
       "      <td>34</td>\n",
       "      <td>NaN</td>\n",
       "      <td>NaN</td>\n",
       "      <td>NaN</td>\n",
       "      <td>-0.047512</td>\n",
       "      <td>NaN</td>\n",
       "    </tr>\n",
       "  </tbody>\n",
       "</table>\n",
       "</div>"
      ],
      "text/plain": [
       "   ID  shop_id  item_id item_category_id  indicator is_music  \\\n",
       "0   0        5     5037               19          1    False   \n",
       "1   1        5     5320              NaN          0      NaN   \n",
       "2   2        5     5233               19          2    False   \n",
       "3   3        5     5232               23          1    False   \n",
       "4   4        5     5268              NaN          0      NaN   \n",
       "\n",
       "   lag_shop_item_comb  lag_only_item   item_price  lag_only_item_cat  unique  \\\n",
       "0                 NaN           25.0  1693.518519             2443.0      34   \n",
       "1                 NaN            NaN          NaN                NaN      34   \n",
       "2                 1.0           42.0   859.000000             2443.0      34   \n",
       "3                 NaN           28.0   599.000000             2203.0      34   \n",
       "4                 NaN            NaN          NaN                NaN      34   \n",
       "\n",
       "   lag2_only_item_cat  lag2_only_item  lag2_shop_item_comb  \\\n",
       "0            2.312028        3.793103                  1.0   \n",
       "1                 NaN             NaN                  NaN   \n",
       "2            2.312028        2.666667                  3.0   \n",
       "3            2.201104        1.846154                  NaN   \n",
       "4                 NaN             NaN                  NaN   \n",
       "\n",
       "   seasonal_freq_3_feature  prev_month_category_mean  \n",
       "0                -0.047512                  1.652909  \n",
       "1                -0.047512                       NaN  \n",
       "2                -0.047512                  1.652909  \n",
       "3                -0.047512                  1.651424  \n",
       "4                -0.047512                       NaN  "
      ]
     },
     "execution_count": 164,
     "metadata": {},
     "output_type": "execute_result"
    }
   ],
   "source": [
    "test_full.head()"
   ]
  },
  {
   "cell_type": "code",
   "execution_count": 166,
   "metadata": {},
   "outputs": [],
   "source": [
    "train_full = train_full[train_full['unique']!=0]"
   ]
  },
  {
   "cell_type": "code",
   "execution_count": 167,
   "metadata": {},
   "outputs": [],
   "source": [
    "train_full.fillna(0, inplace = True)"
   ]
  },
  {
   "cell_type": "code",
   "execution_count": 366,
   "metadata": {},
   "outputs": [
    {
     "data": {
      "text/plain": [
       "Unnamed: 0                      0\n",
       "ID                              0\n",
       "shop_id                         0\n",
       "item_id                         0\n",
       "item_category_id            15246\n",
       "indicator                       0\n",
       "is_music                    15246\n",
       "lag_shop_item_comb         185520\n",
       "lag_only_item               46578\n",
       "item_price                 102796\n",
       "lag_only_item_cat           15246\n",
       "unique                          0\n",
       "lag2_only_item_cat          15246\n",
       "lag2_only_item              61614\n",
       "lag2_shop_item_comb        187713\n",
       "seasonal_freq_3_feature         0\n",
       "dtype: int64"
      ]
     },
     "execution_count": 366,
     "metadata": {},
     "output_type": "execute_result"
    }
   ],
   "source": [
    "np.sum(pd.isnull(test_full),axis = 0)"
   ]
  },
  {
   "cell_type": "code",
   "execution_count": 170,
   "metadata": {},
   "outputs": [],
   "source": [
    "#Do you realise?? That the feature you are making. prev_category_mean is same as lag_item_only_cat? sum and mean."
   ]
  },
  {
   "cell_type": "code",
   "execution_count": 171,
   "metadata": {},
   "outputs": [],
   "source": [
    "#Careful imputation in test. only jisme item_category_id nan hai dont impute."
   ]
  },
  {
   "cell_type": "code",
   "execution_count": 172,
   "metadata": {},
   "outputs": [],
   "source": [
    "#Some locha with item_price in test, I had filled it with shop item combo. Now filling it only baed on item_id.\n",
    "price_of_item_id = train_full.groupby('item_id')['item_price'].mean().reset_index()\n",
    "price_of_item_id.rename(columns = {'item_price':'item_priceyy'}, inplace=True)"
   ]
  },
  {
   "cell_type": "code",
   "execution_count": 173,
   "metadata": {},
   "outputs": [],
   "source": [
    "test_full = test_full.merge(price_of_item_id, on = 'item_id', how = 'left')"
   ]
  },
  {
   "cell_type": "code",
   "execution_count": 174,
   "metadata": {},
   "outputs": [
    {
     "data": {
      "text/html": [
       "<div>\n",
       "<style>\n",
       "    .dataframe thead tr:only-child th {\n",
       "        text-align: right;\n",
       "    }\n",
       "\n",
       "    .dataframe thead th {\n",
       "        text-align: left;\n",
       "    }\n",
       "\n",
       "    .dataframe tbody tr th {\n",
       "        vertical-align: top;\n",
       "    }\n",
       "</style>\n",
       "<table border=\"1\" class=\"dataframe\">\n",
       "  <thead>\n",
       "    <tr style=\"text-align: right;\">\n",
       "      <th></th>\n",
       "      <th>ID</th>\n",
       "      <th>shop_id</th>\n",
       "      <th>item_id</th>\n",
       "      <th>item_category_id</th>\n",
       "      <th>indicator</th>\n",
       "      <th>is_music</th>\n",
       "      <th>lag_shop_item_comb</th>\n",
       "      <th>lag_only_item</th>\n",
       "      <th>item_price</th>\n",
       "      <th>lag_only_item_cat</th>\n",
       "      <th>unique</th>\n",
       "      <th>lag2_only_item_cat</th>\n",
       "      <th>lag2_only_item</th>\n",
       "      <th>lag2_shop_item_comb</th>\n",
       "      <th>seasonal_freq_3_feature</th>\n",
       "      <th>prev_month_category_mean</th>\n",
       "      <th>item_priceyy</th>\n",
       "    </tr>\n",
       "  </thead>\n",
       "  <tbody>\n",
       "    <tr>\n",
       "      <th>0</th>\n",
       "      <td>0</td>\n",
       "      <td>5</td>\n",
       "      <td>5037</td>\n",
       "      <td>19</td>\n",
       "      <td>1</td>\n",
       "      <td>False</td>\n",
       "      <td>NaN</td>\n",
       "      <td>25.0</td>\n",
       "      <td>1693.518519</td>\n",
       "      <td>2443.0</td>\n",
       "      <td>34</td>\n",
       "      <td>2.312028</td>\n",
       "      <td>3.793103</td>\n",
       "      <td>1.0</td>\n",
       "      <td>-0.047512</td>\n",
       "      <td>1.652909</td>\n",
       "      <td>1960.580473</td>\n",
       "    </tr>\n",
       "    <tr>\n",
       "      <th>1</th>\n",
       "      <td>1</td>\n",
       "      <td>5</td>\n",
       "      <td>5320</td>\n",
       "      <td>NaN</td>\n",
       "      <td>0</td>\n",
       "      <td>NaN</td>\n",
       "      <td>NaN</td>\n",
       "      <td>NaN</td>\n",
       "      <td>NaN</td>\n",
       "      <td>NaN</td>\n",
       "      <td>34</td>\n",
       "      <td>NaN</td>\n",
       "      <td>NaN</td>\n",
       "      <td>NaN</td>\n",
       "      <td>-0.047512</td>\n",
       "      <td>NaN</td>\n",
       "      <td>NaN</td>\n",
       "    </tr>\n",
       "    <tr>\n",
       "      <th>2</th>\n",
       "      <td>2</td>\n",
       "      <td>5</td>\n",
       "      <td>5233</td>\n",
       "      <td>19</td>\n",
       "      <td>2</td>\n",
       "      <td>False</td>\n",
       "      <td>1.0</td>\n",
       "      <td>42.0</td>\n",
       "      <td>859.000000</td>\n",
       "      <td>2443.0</td>\n",
       "      <td>34</td>\n",
       "      <td>2.312028</td>\n",
       "      <td>2.666667</td>\n",
       "      <td>3.0</td>\n",
       "      <td>-0.047512</td>\n",
       "      <td>1.652909</td>\n",
       "      <td>844.516003</td>\n",
       "    </tr>\n",
       "    <tr>\n",
       "      <th>3</th>\n",
       "      <td>3</td>\n",
       "      <td>5</td>\n",
       "      <td>5232</td>\n",
       "      <td>23</td>\n",
       "      <td>1</td>\n",
       "      <td>False</td>\n",
       "      <td>NaN</td>\n",
       "      <td>28.0</td>\n",
       "      <td>599.000000</td>\n",
       "      <td>2203.0</td>\n",
       "      <td>34</td>\n",
       "      <td>2.201104</td>\n",
       "      <td>1.846154</td>\n",
       "      <td>NaN</td>\n",
       "      <td>-0.047512</td>\n",
       "      <td>1.651424</td>\n",
       "      <td>792.527697</td>\n",
       "    </tr>\n",
       "    <tr>\n",
       "      <th>4</th>\n",
       "      <td>4</td>\n",
       "      <td>5</td>\n",
       "      <td>5268</td>\n",
       "      <td>NaN</td>\n",
       "      <td>0</td>\n",
       "      <td>NaN</td>\n",
       "      <td>NaN</td>\n",
       "      <td>NaN</td>\n",
       "      <td>NaN</td>\n",
       "      <td>NaN</td>\n",
       "      <td>34</td>\n",
       "      <td>NaN</td>\n",
       "      <td>NaN</td>\n",
       "      <td>NaN</td>\n",
       "      <td>-0.047512</td>\n",
       "      <td>NaN</td>\n",
       "      <td>NaN</td>\n",
       "    </tr>\n",
       "  </tbody>\n",
       "</table>\n",
       "</div>"
      ],
      "text/plain": [
       "   ID  shop_id  item_id item_category_id  indicator is_music  \\\n",
       "0   0        5     5037               19          1    False   \n",
       "1   1        5     5320              NaN          0      NaN   \n",
       "2   2        5     5233               19          2    False   \n",
       "3   3        5     5232               23          1    False   \n",
       "4   4        5     5268              NaN          0      NaN   \n",
       "\n",
       "   lag_shop_item_comb  lag_only_item   item_price  lag_only_item_cat  unique  \\\n",
       "0                 NaN           25.0  1693.518519             2443.0      34   \n",
       "1                 NaN            NaN          NaN                NaN      34   \n",
       "2                 1.0           42.0   859.000000             2443.0      34   \n",
       "3                 NaN           28.0   599.000000             2203.0      34   \n",
       "4                 NaN            NaN          NaN                NaN      34   \n",
       "\n",
       "   lag2_only_item_cat  lag2_only_item  lag2_shop_item_comb  \\\n",
       "0            2.312028        3.793103                  1.0   \n",
       "1                 NaN             NaN                  NaN   \n",
       "2            2.312028        2.666667                  3.0   \n",
       "3            2.201104        1.846154                  NaN   \n",
       "4                 NaN             NaN                  NaN   \n",
       "\n",
       "   seasonal_freq_3_feature  prev_month_category_mean  item_priceyy  \n",
       "0                -0.047512                  1.652909   1960.580473  \n",
       "1                -0.047512                       NaN           NaN  \n",
       "2                -0.047512                  1.652909    844.516003  \n",
       "3                -0.047512                  1.651424    792.527697  \n",
       "4                -0.047512                       NaN           NaN  "
      ]
     },
     "execution_count": 174,
     "metadata": {},
     "output_type": "execute_result"
    }
   ],
   "source": [
    "test_full.head()"
   ]
  },
  {
   "cell_type": "code",
   "execution_count": null,
   "metadata": {},
   "outputs": [],
   "source": [
    "test_full.drop('item_price',axis = 1 , inplace = True)"
   ]
  },
  {
   "cell_type": "code",
   "execution_count": 176,
   "metadata": {},
   "outputs": [],
   "source": [
    "test_full.rename(columns={'item_priceyy':'item_price'},inplace=True)"
   ]
  },
  {
   "cell_type": "code",
   "execution_count": 177,
   "metadata": {},
   "outputs": [
    {
     "data": {
      "text/plain": [
       "ID                               0\n",
       "shop_id                          0\n",
       "item_id                          0\n",
       "item_category_id             15246\n",
       "indicator                        0\n",
       "is_music                     15246\n",
       "lag_shop_item_comb          185520\n",
       "lag_only_item                46578\n",
       "lag_only_item_cat            15246\n",
       "unique                           0\n",
       "lag2_only_item_cat           15246\n",
       "lag2_only_item               61614\n",
       "lag2_shop_item_comb         187713\n",
       "seasonal_freq_3_feature          0\n",
       "prev_month_category_mean     15246\n",
       "item_price                   15246\n",
       "dtype: int64"
      ]
     },
     "execution_count": 177,
     "metadata": {},
     "output_type": "execute_result"
    }
   ],
   "source": [
    "np.sum(pd.isnull(test_full),axis = 0)"
   ]
  },
  {
   "cell_type": "code",
   "execution_count": 178,
   "metadata": {},
   "outputs": [],
   "source": [
    "test_full[-pd.isnull(test_full['item_category_id'])] = test_full[-pd.isnull(test_full['item_category_id'])].fillna(0)"
   ]
  },
  {
   "cell_type": "code",
   "execution_count": 179,
   "metadata": {},
   "outputs": [
    {
     "data": {
      "text/plain": [
       "ID                              0\n",
       "shop_id                         0\n",
       "item_id                         0\n",
       "item_category_id            15246\n",
       "indicator                       0\n",
       "is_music                    15246\n",
       "lag_shop_item_comb          15246\n",
       "lag_only_item               15246\n",
       "lag_only_item_cat           15246\n",
       "unique                          0\n",
       "lag2_only_item_cat          15246\n",
       "lag2_only_item              15246\n",
       "lag2_shop_item_comb         15246\n",
       "seasonal_freq_3_feature         0\n",
       "prev_month_category_mean    15246\n",
       "item_price                  15246\n",
       "dtype: int64"
      ]
     },
     "execution_count": 179,
     "metadata": {},
     "output_type": "execute_result"
    }
   ],
   "source": [
    "np.sum(pd.isnull(test_full),axis = 0)"
   ]
  },
  {
   "cell_type": "code",
   "execution_count": 180,
   "metadata": {},
   "outputs": [],
   "source": [
    "#Now the knn of imputing these 15426 items.\n",
    "#Mean of 15 nearest neighbours in terms of item ids.\n",
    "from sklearn.neighbors import NearestNeighbors"
   ]
  },
  {
   "cell_type": "code",
   "execution_count": 182,
   "metadata": {},
   "outputs": [],
   "source": [
    "for_nn = test_full['item_id'].drop_duplicates()"
   ]
  },
  {
   "cell_type": "code",
   "execution_count": 183,
   "metadata": {},
   "outputs": [],
   "source": [
    "neigh = NearestNeighbors(n_neighbors=15)"
   ]
  },
  {
   "cell_type": "code",
   "execution_count": 184,
   "metadata": {},
   "outputs": [
    {
     "data": {
      "text/plain": [
       "NearestNeighbors(algorithm='auto', leaf_size=30, metric='minkowski',\n",
       "         metric_params=None, n_jobs=1, n_neighbors=15, p=2, radius=1.0)"
      ]
     },
     "execution_count": 184,
     "metadata": {},
     "output_type": "execute_result"
    }
   ],
   "source": [
    "neigh.fit(np.expand_dims(for_nn,-1))"
   ]
  },
  {
   "cell_type": "code",
   "execution_count": 185,
   "metadata": {},
   "outputs": [],
   "source": [
    "vio = neigh.kneighbors(np.expand_dims(for_nn,-1))"
   ]
  },
  {
   "cell_type": "code",
   "execution_count": 186,
   "metadata": {},
   "outputs": [],
   "source": [
    "nn15 = pd.DataFrame({'neigbor1':vio[1][:,0],\n",
    "                          'neigbor2':vio[1][:,1],\n",
    "                          'neigbor3':vio[1][:,2],\n",
    "                          'neigbor4':vio[1][:,3],\n",
    "                          'neigbor5':vio[1][:,4],\n",
    "                          'neigbor6':vio[1][:,5],\n",
    "                          'neigbor7':vio[1][:,6],\n",
    "                          'neigbor8':vio[1][:,7],\n",
    "                          'neigbor9':vio[1][:,8],\n",
    "                          'neigbor10':vio[1][:,9],\n",
    "                          'neigbor11':vio[1][:,10],\n",
    "                          'neigbor12':vio[1][:,11],\n",
    "                          'neigbor13':vio[1][:,12],\n",
    "                          'neigbor14':vio[1][:,13],\n",
    "                          'neigbor15':vio[1][:,14],\n",
    "                          'item_id':for_nn.values})"
   ]
  },
  {
   "cell_type": "code",
   "execution_count": 187,
   "metadata": {},
   "outputs": [],
   "source": [
    "submit = test_full.copy()"
   ]
  },
  {
   "cell_type": "code",
   "execution_count": 188,
   "metadata": {},
   "outputs": [],
   "source": [
    "submit = submit.merge(nn15, on='item_id', how = 'left')"
   ]
  },
  {
   "cell_type": "code",
   "execution_count": 361,
   "metadata": {},
   "outputs": [],
   "source": [
    "test_full.to_csv('test_prev_cat_imputed_no_knn.csv')"
   ]
  },
  {
   "cell_type": "code",
   "execution_count": 189,
   "metadata": {},
   "outputs": [],
   "source": [
    "submit.loc[pd.isnull(submit['item_category_id']),'lag2_only_item'] = np.nansum(\n",
    "            [submit[pd.isnull(submit['item_category_id'])]['neigbor2'].apply(lambda x : submit['lag2_only_item'][x])/14 , \\\n",
    "            submit[pd.isnull(submit['item_category_id'])]['neigbor3'].apply(lambda x : submit['lag2_only_item'][x])/14 , \\\n",
    "            submit[pd.isnull(submit['item_category_id'])]['neigbor4'].apply(lambda x : submit['lag2_only_item'][x])/14 , \\\n",
    "            submit[pd.isnull(submit['item_category_id'])]['neigbor5'].apply(lambda x : submit['lag2_only_item'][x])/14 , \\\n",
    "            submit[pd.isnull(submit['item_category_id'])]['neigbor6'].apply(lambda x : submit['lag2_only_item'][x])/14 , \\\n",
    "            submit[pd.isnull(submit['item_category_id'])]['neigbor7'].apply(lambda x : submit['lag2_only_item'][x])/14 , \\\n",
    "            submit[pd.isnull(submit['item_category_id'])]['neigbor8'].apply(lambda x : submit['lag2_only_item'][x])/14 , \\\n",
    "            submit[pd.isnull(submit['item_category_id'])]['neigbor9'].apply(lambda x : submit['lag2_only_item'][x])/14 , \\\n",
    "            submit[pd.isnull(submit['item_category_id'])]['neigbor10'].apply(lambda x : submit['lag2_only_item'][x])/14 , \\\n",
    "            submit[pd.isnull(submit['item_category_id'])]['neigbor11'].apply(lambda x : submit['lag2_only_item'][x])/14 , \\\n",
    "            submit[pd.isnull(submit['item_category_id'])]['neigbor12'].apply(lambda x : submit['lag2_only_item'][x])/14 , \\\n",
    "            submit[pd.isnull(submit['item_category_id'])]['neigbor13'].apply(lambda x : submit['lag2_only_item'][x])/14 , \\\n",
    "            submit[pd.isnull(submit['item_category_id'])]['neigbor14'].apply(lambda x : submit['lag2_only_item'][x])/14 , \\\n",
    "            submit[pd.isnull(submit['item_category_id'])]['neigbor15'].apply(lambda x : submit['lag2_only_item'][x])/14], axis = 0)        "
   ]
  },
  {
   "cell_type": "code",
   "execution_count": 190,
   "metadata": {},
   "outputs": [],
   "source": [
    "submit.loc[pd.isnull(submit['item_category_id']),'lag2_only_item_cat'] = np.nansum(\n",
    "            [submit[pd.isnull(submit['item_category_id'])]['neigbor2'].apply(lambda x : submit['lag2_only_item_cat'][x])/14 , \\\n",
    "            submit[pd.isnull(submit['item_category_id'])]['neigbor3'].apply(lambda x : submit['lag2_only_item_cat'][x])/14 , \\\n",
    "            submit[pd.isnull(submit['item_category_id'])]['neigbor4'].apply(lambda x : submit['lag2_only_item_cat'][x])/14 , \\\n",
    "            submit[pd.isnull(submit['item_category_id'])]['neigbor5'].apply(lambda x : submit['lag2_only_item_cat'][x])/14 , \\\n",
    "            submit[pd.isnull(submit['item_category_id'])]['neigbor6'].apply(lambda x : submit['lag2_only_item_cat'][x])/14 , \\\n",
    "            submit[pd.isnull(submit['item_category_id'])]['neigbor7'].apply(lambda x : submit['lag2_only_item_cat'][x])/14 , \\\n",
    "            submit[pd.isnull(submit['item_category_id'])]['neigbor8'].apply(lambda x : submit['lag2_only_item_cat'][x])/14 , \\\n",
    "            submit[pd.isnull(submit['item_category_id'])]['neigbor9'].apply(lambda x : submit['lag2_only_item_cat'][x])/14 , \\\n",
    "            submit[pd.isnull(submit['item_category_id'])]['neigbor10'].apply(lambda x : submit['lag2_only_item_cat'][x])/14 , \\\n",
    "            submit[pd.isnull(submit['item_category_id'])]['neigbor11'].apply(lambda x : submit['lag2_only_item_cat'][x])/14 , \\\n",
    "            submit[pd.isnull(submit['item_category_id'])]['neigbor12'].apply(lambda x : submit['lag2_only_item_cat'][x])/14 , \\\n",
    "            submit[pd.isnull(submit['item_category_id'])]['neigbor13'].apply(lambda x : submit['lag2_only_item_cat'][x])/14 , \\\n",
    "            submit[pd.isnull(submit['item_category_id'])]['neigbor14'].apply(lambda x : submit['lag2_only_item_cat'][x])/14 , \\\n",
    "            submit[pd.isnull(submit['item_category_id'])]['neigbor15'].apply(lambda x : submit['lag2_only_item_cat'][x])/14 ], axis = 0)      "
   ]
  },
  {
   "cell_type": "code",
   "execution_count": 191,
   "metadata": {},
   "outputs": [],
   "source": [
    "submit.loc[pd.isnull(submit['item_category_id']),'lag2_shop_item_comb'] = np.nansum(\n",
    "            [submit[pd.isnull(submit['item_category_id'])]['neigbor2'].apply(lambda x : submit['lag2_shop_item_comb'][x])/14 , \\\n",
    "            submit[pd.isnull(submit['item_category_id'])]['neigbor3'].apply(lambda x : submit['lag2_shop_item_comb'][x])/14 , \\\n",
    "            submit[pd.isnull(submit['item_category_id'])]['neigbor4'].apply(lambda x : submit['lag2_shop_item_comb'][x])/14 , \\\n",
    "            submit[pd.isnull(submit['item_category_id'])]['neigbor5'].apply(lambda x : submit['lag2_shop_item_comb'][x])/14 , \\\n",
    "            submit[pd.isnull(submit['item_category_id'])]['neigbor6'].apply(lambda x : submit['lag2_shop_item_comb'][x])/14 , \\\n",
    "            submit[pd.isnull(submit['item_category_id'])]['neigbor7'].apply(lambda x : submit['lag2_shop_item_comb'][x])/14 , \\\n",
    "            submit[pd.isnull(submit['item_category_id'])]['neigbor8'].apply(lambda x : submit['lag2_shop_item_comb'][x])/14 , \\\n",
    "            submit[pd.isnull(submit['item_category_id'])]['neigbor9'].apply(lambda x : submit['lag2_shop_item_comb'][x])/14 , \\\n",
    "            submit[pd.isnull(submit['item_category_id'])]['neigbor10'].apply(lambda x : submit['lag2_shop_item_comb'][x])/14 , \\\n",
    "            submit[pd.isnull(submit['item_category_id'])]['neigbor11'].apply(lambda x : submit['lag2_shop_item_comb'][x])/14 , \\\n",
    "            submit[pd.isnull(submit['item_category_id'])]['neigbor12'].apply(lambda x : submit['lag2_shop_item_comb'][x])/14 , \\\n",
    "            submit[pd.isnull(submit['item_category_id'])]['neigbor13'].apply(lambda x : submit['lag2_shop_item_comb'][x])/14 , \\\n",
    "            submit[pd.isnull(submit['item_category_id'])]['neigbor14'].apply(lambda x : submit['lag2_shop_item_comb'][x])/14 , \\\n",
    "            submit[pd.isnull(submit['item_category_id'])]['neigbor15'].apply(lambda x : submit['lag2_shop_item_comb'][x])/14],axis = 0)        "
   ]
  },
  {
   "cell_type": "code",
   "execution_count": 192,
   "metadata": {},
   "outputs": [],
   "source": [
    "submit.loc[pd.isnull(submit['item_category_id']),'lag_only_item'] = np.nansum(\n",
    "            [submit[pd.isnull(submit['item_category_id'])]['neigbor2'].apply(lambda x : submit['lag_only_item'][x])/14 , \\\n",
    "            submit[pd.isnull(submit['item_category_id'])]['neigbor3'].apply(lambda x : submit['lag_only_item'][x])/14 , \\\n",
    "            submit[pd.isnull(submit['item_category_id'])]['neigbor4'].apply(lambda x : submit['lag_only_item'][x])/14 , \\\n",
    "            submit[pd.isnull(submit['item_category_id'])]['neigbor5'].apply(lambda x : submit['lag_only_item'][x])/14 , \\\n",
    "            submit[pd.isnull(submit['item_category_id'])]['neigbor6'].apply(lambda x : submit['lag_only_item'][x])/14 , \\\n",
    "            submit[pd.isnull(submit['item_category_id'])]['neigbor7'].apply(lambda x : submit['lag_only_item'][x])/14 , \\\n",
    "            submit[pd.isnull(submit['item_category_id'])]['neigbor8'].apply(lambda x : submit['lag_only_item'][x])/14 , \\\n",
    "            submit[pd.isnull(submit['item_category_id'])]['neigbor9'].apply(lambda x : submit['lag_only_item'][x])/14 , \\\n",
    "            submit[pd.isnull(submit['item_category_id'])]['neigbor10'].apply(lambda x : submit['lag_only_item'][x])/14 , \\\n",
    "            submit[pd.isnull(submit['item_category_id'])]['neigbor11'].apply(lambda x : submit['lag_only_item'][x])/14 , \\\n",
    "            submit[pd.isnull(submit['item_category_id'])]['neigbor12'].apply(lambda x : submit['lag_only_item'][x])/14 , \\\n",
    "            submit[pd.isnull(submit['item_category_id'])]['neigbor13'].apply(lambda x : submit['lag_only_item'][x])/14 , \\\n",
    "            submit[pd.isnull(submit['item_category_id'])]['neigbor14'].apply(lambda x : submit['lag_only_item'][x])/14 , \\\n",
    "            submit[pd.isnull(submit['item_category_id'])]['neigbor15'].apply(lambda x : submit['lag_only_item'][x])/14], axis = 0)       "
   ]
  },
  {
   "cell_type": "code",
   "execution_count": 193,
   "metadata": {},
   "outputs": [],
   "source": [
    "submit.loc[pd.isnull(submit['item_category_id']),'lag_only_item_cat'] = np.nansum(  \n",
    "            [submit[pd.isnull(submit['item_category_id'])]['neigbor2'].apply(lambda x : submit['lag_only_item_cat'][x])/14 , \\\n",
    "            submit[pd.isnull(submit['item_category_id'])]['neigbor3'].apply(lambda x : submit['lag_only_item_cat'][x])/14 , \\\n",
    "            submit[pd.isnull(submit['item_category_id'])]['neigbor4'].apply(lambda x : submit['lag_only_item_cat'][x])/14 , \\\n",
    "            submit[pd.isnull(submit['item_category_id'])]['neigbor5'].apply(lambda x : submit['lag_only_item_cat'][x])/14 , \\\n",
    "            submit[pd.isnull(submit['item_category_id'])]['neigbor6'].apply(lambda x : submit['lag_only_item_cat'][x])/14 , \\\n",
    "            submit[pd.isnull(submit['item_category_id'])]['neigbor7'].apply(lambda x : submit['lag_only_item_cat'][x])/14 , \\\n",
    "            submit[pd.isnull(submit['item_category_id'])]['neigbor8'].apply(lambda x : submit['lag_only_item_cat'][x])/14 , \\\n",
    "            submit[pd.isnull(submit['item_category_id'])]['neigbor9'].apply(lambda x : submit['lag_only_item_cat'][x])/14 , \\\n",
    "            submit[pd.isnull(submit['item_category_id'])]['neigbor10'].apply(lambda x : submit['lag_only_item_cat'][x])/14 , \\\n",
    "            submit[pd.isnull(submit['item_category_id'])]['neigbor11'].apply(lambda x : submit['lag_only_item_cat'][x])/14 , \\\n",
    "            submit[pd.isnull(submit['item_category_id'])]['neigbor12'].apply(lambda x : submit['lag_only_item_cat'][x])/14 , \\\n",
    "            submit[pd.isnull(submit['item_category_id'])]['neigbor13'].apply(lambda x : submit['lag_only_item_cat'][x])/14 , \\\n",
    "            submit[pd.isnull(submit['item_category_id'])]['neigbor14'].apply(lambda x : submit['lag_only_item_cat'][x])/14 , \\\n",
    "            submit[pd.isnull(submit['item_category_id'])]['neigbor15'].apply(lambda x : submit['lag_only_item_cat'][x])/14 ], axis = 0)      "
   ]
  },
  {
   "cell_type": "code",
   "execution_count": 194,
   "metadata": {},
   "outputs": [],
   "source": [
    "submit.loc[pd.isnull(submit['item_category_id']),'lag_shop_item_comb'] = np.nansum(  \n",
    "            [submit[pd.isnull(submit['item_category_id'])]['neigbor2'].apply(lambda x : submit['lag_shop_item_comb'][x])/14 , \\\n",
    "            submit[pd.isnull(submit['item_category_id'])]['neigbor3'].apply(lambda x : submit['lag_shop_item_comb'][x])/14 , \\\n",
    "            submit[pd.isnull(submit['item_category_id'])]['neigbor4'].apply(lambda x : submit['lag_shop_item_comb'][x])/14 , \\\n",
    "            submit[pd.isnull(submit['item_category_id'])]['neigbor5'].apply(lambda x : submit['lag_shop_item_comb'][x])/14 , \\\n",
    "            submit[pd.isnull(submit['item_category_id'])]['neigbor6'].apply(lambda x : submit['lag_shop_item_comb'][x])/14 , \\\n",
    "            submit[pd.isnull(submit['item_category_id'])]['neigbor7'].apply(lambda x : submit['lag_shop_item_comb'][x])/14 , \\\n",
    "            submit[pd.isnull(submit['item_category_id'])]['neigbor8'].apply(lambda x : submit['lag_shop_item_comb'][x])/14 , \\\n",
    "            submit[pd.isnull(submit['item_category_id'])]['neigbor9'].apply(lambda x : submit['lag_shop_item_comb'][x])/14 , \\\n",
    "            submit[pd.isnull(submit['item_category_id'])]['neigbor10'].apply(lambda x : submit['lag_shop_item_comb'][x])/14 , \\\n",
    "            submit[pd.isnull(submit['item_category_id'])]['neigbor11'].apply(lambda x : submit['lag_shop_item_comb'][x])/14 , \\\n",
    "            submit[pd.isnull(submit['item_category_id'])]['neigbor12'].apply(lambda x : submit['lag_shop_item_comb'][x])/14 , \\\n",
    "            submit[pd.isnull(submit['item_category_id'])]['neigbor13'].apply(lambda x : submit['lag_shop_item_comb'][x])/14 , \\\n",
    "            submit[pd.isnull(submit['item_category_id'])]['neigbor14'].apply(lambda x : submit['lag_shop_item_comb'][x])/14 , \\\n",
    "            submit[pd.isnull(submit['item_category_id'])]['neigbor15'].apply(lambda x : submit['lag_shop_item_comb'][x])/14 ], axis = 0)   "
   ]
  },
  {
   "cell_type": "code",
   "execution_count": 195,
   "metadata": {},
   "outputs": [],
   "source": [
    "submit.loc[pd.isnull(submit['item_category_id']),'prev_month_category_mean'] = np.nansum(  \n",
    "            [submit[pd.isnull(submit['item_category_id'])]['neigbor2'].apply(lambda x : submit['prev_month_category_mean'][x])/14 , \\\n",
    "            submit[pd.isnull(submit['item_category_id'])]['neigbor3'].apply(lambda x : submit['prev_month_category_mean'][x])/14 , \\\n",
    "            submit[pd.isnull(submit['item_category_id'])]['neigbor4'].apply(lambda x : submit['prev_month_category_mean'][x])/14 , \\\n",
    "            submit[pd.isnull(submit['item_category_id'])]['neigbor5'].apply(lambda x : submit['prev_month_category_mean'][x])/14 , \\\n",
    "            submit[pd.isnull(submit['item_category_id'])]['neigbor6'].apply(lambda x : submit['prev_month_category_mean'][x])/14 , \\\n",
    "            submit[pd.isnull(submit['item_category_id'])]['neigbor7'].apply(lambda x : submit['prev_month_category_mean'][x])/14 , \\\n",
    "            submit[pd.isnull(submit['item_category_id'])]['neigbor8'].apply(lambda x : submit['prev_month_category_mean'][x])/14 , \\\n",
    "            submit[pd.isnull(submit['item_category_id'])]['neigbor9'].apply(lambda x : submit['prev_month_category_mean'][x])/14 , \\\n",
    "            submit[pd.isnull(submit['item_category_id'])]['neigbor10'].apply(lambda x : submit['prev_month_category_mean'][x])/14 , \\\n",
    "            submit[pd.isnull(submit['item_category_id'])]['neigbor11'].apply(lambda x : submit['prev_month_category_mean'][x])/14 , \\\n",
    "            submit[pd.isnull(submit['item_category_id'])]['neigbor12'].apply(lambda x : submit['prev_month_category_mean'][x])/14 , \\\n",
    "            submit[pd.isnull(submit['item_category_id'])]['neigbor13'].apply(lambda x : submit['prev_month_category_mean'][x])/14 , \\\n",
    "            submit[pd.isnull(submit['item_category_id'])]['neigbor14'].apply(lambda x : submit['prev_month_category_mean'][x])/14 , \\\n",
    "            submit[pd.isnull(submit['item_category_id'])]['neigbor15'].apply(lambda x : submit['prev_month_category_mean'][x])/14 ], axis = 0)   "
   ]
  },
  {
   "cell_type": "code",
   "execution_count": 196,
   "metadata": {},
   "outputs": [],
   "source": [
    "submit.loc[pd.isnull(submit['item_category_id']),'item_price'] = np.nansum(  \n",
    "            [submit[pd.isnull(submit['item_category_id'])]['neigbor2'].apply(lambda x : submit['item_price'][x])/14 , \\\n",
    "            submit[pd.isnull(submit['item_category_id'])]['neigbor3'].apply(lambda x : submit['item_price'][x])/14 , \\\n",
    "            submit[pd.isnull(submit['item_category_id'])]['neigbor4'].apply(lambda x : submit['item_price'][x])/14 , \\\n",
    "            submit[pd.isnull(submit['item_category_id'])]['neigbor5'].apply(lambda x : submit['item_price'][x])/14 , \\\n",
    "            submit[pd.isnull(submit['item_category_id'])]['neigbor6'].apply(lambda x : submit['item_price'][x])/14 , \\\n",
    "            submit[pd.isnull(submit['item_category_id'])]['neigbor7'].apply(lambda x : submit['item_price'][x])/14 , \\\n",
    "            submit[pd.isnull(submit['item_category_id'])]['neigbor8'].apply(lambda x : submit['item_price'][x])/14 , \\\n",
    "            submit[pd.isnull(submit['item_category_id'])]['neigbor9'].apply(lambda x : submit['item_price'][x])/14 , \\\n",
    "            submit[pd.isnull(submit['item_category_id'])]['neigbor10'].apply(lambda x : submit['item_price'][x])/14 , \\\n",
    "            submit[pd.isnull(submit['item_category_id'])]['neigbor11'].apply(lambda x : submit['item_price'][x])/14 , \\\n",
    "            submit[pd.isnull(submit['item_category_id'])]['neigbor12'].apply(lambda x : submit['item_price'][x])/14 , \\\n",
    "            submit[pd.isnull(submit['item_category_id'])]['neigbor13'].apply(lambda x : submit['item_price'][x])/14 , \\\n",
    "            submit[pd.isnull(submit['item_category_id'])]['neigbor14'].apply(lambda x : submit['item_price'][x])/14 , \\\n",
    "            submit[pd.isnull(submit['item_category_id'])]['neigbor15'].apply(lambda x : submit['item_price'][x])/14 ], axis = 0)"
   ]
  },
  {
   "cell_type": "code",
   "execution_count": 197,
   "metadata": {},
   "outputs": [],
   "source": [
    "submit.loc[pd.isnull(submit['item_category_id']),'is_music'] = np.nansum(  \n",
    "            [submit[pd.isnull(submit['item_category_id'])]['neigbor2'].apply(lambda x : submit['is_music'][x])/14 , \\\n",
    "            submit[pd.isnull(submit['item_category_id'])]['neigbor3'].apply(lambda x : submit['is_music'][x])/14 , \\\n",
    "            submit[pd.isnull(submit['item_category_id'])]['neigbor4'].apply(lambda x : submit['is_music'][x])/14 , \\\n",
    "            submit[pd.isnull(submit['item_category_id'])]['neigbor5'].apply(lambda x : submit['is_music'][x])/14 , \\\n",
    "            submit[pd.isnull(submit['item_category_id'])]['neigbor6'].apply(lambda x : submit['is_music'][x])/14 , \\\n",
    "            submit[pd.isnull(submit['item_category_id'])]['neigbor7'].apply(lambda x : submit['is_music'][x])/14 , \\\n",
    "            submit[pd.isnull(submit['item_category_id'])]['neigbor8'].apply(lambda x : submit['is_music'][x])/14 , \\\n",
    "            submit[pd.isnull(submit['item_category_id'])]['neigbor9'].apply(lambda x : submit['is_music'][x])/14 , \\\n",
    "            submit[pd.isnull(submit['item_category_id'])]['neigbor10'].apply(lambda x : submit['is_music'][x])/14 , \\\n",
    "            submit[pd.isnull(submit['item_category_id'])]['neigbor11'].apply(lambda x : submit['is_music'][x])/14 , \\\n",
    "            submit[pd.isnull(submit['item_category_id'])]['neigbor12'].apply(lambda x : submit['is_music'][x])/14 , \\\n",
    "            submit[pd.isnull(submit['item_category_id'])]['neigbor13'].apply(lambda x : submit['is_music'][x])/14 , \\\n",
    "            submit[pd.isnull(submit['item_category_id'])]['neigbor14'].apply(lambda x : submit['is_music'][x])/14 , \\\n",
    "            submit[pd.isnull(submit['item_category_id'])]['neigbor15'].apply(lambda x : submit['is_music'][x])/14 ], axis = 0)"
   ]
  },
  {
   "cell_type": "code",
   "execution_count": 198,
   "metadata": {},
   "outputs": [
    {
     "data": {
      "text/plain": [
       "0        False\n",
       "1     0.714286\n",
       "2        False\n",
       "3        False\n",
       "4    0.0714286\n",
       "Name: is_music, dtype: object"
      ]
     },
     "execution_count": 198,
     "metadata": {},
     "output_type": "execute_result"
    }
   ],
   "source": [
    "submit['is_music'].head()"
   ]
  },
  {
   "cell_type": "code",
   "execution_count": 199,
   "metadata": {},
   "outputs": [],
   "source": [
    "submit.loc[submit['is_music']>0.5, 'is_music'] = 1\n",
    "submit.loc[submit['is_music']<=0.5, 'is_music'] = 0"
   ]
  },
  {
   "cell_type": "code",
   "execution_count": 201,
   "metadata": {},
   "outputs": [],
   "source": [
    "test_full_knn = submit[test_full.columns]"
   ]
  },
  {
   "cell_type": "code",
   "execution_count": 234,
   "metadata": {},
   "outputs": [
    {
     "data": {
      "text/plain": [
       "Index(['ID', 'shop_id', 'item_id', 'item_category_id', 'indicator', 'is_music',\n",
       "       'lag_shop_item_comb', 'lag_only_item', 'lag_only_item_cat', 'unique',\n",
       "       'lag2_only_item_cat', 'lag2_only_item', 'lag2_shop_item_comb',\n",
       "       'seasonal_freq_3_feature', 'prev_month_category_mean', 'item_price'],\n",
       "      dtype='object')"
      ]
     },
     "execution_count": 234,
     "metadata": {},
     "output_type": "execute_result"
    }
   ],
   "source": [
    "test_full.columns"
   ]
  },
  {
   "cell_type": "code",
   "execution_count": 367,
   "metadata": {},
   "outputs": [
    {
     "data": {
      "text/plain": [
       "shop_id                     0\n",
       "item_id                     0\n",
       "unique                      0\n",
       "item_price                  0\n",
       "item_cnt_month              0\n",
       "item_category_id            0\n",
       "is_music                    0\n",
       "lag_shop_item_comb          0\n",
       "lag_only_item               0\n",
       "lag_only_item_cat           0\n",
       "lag2_only_item_cat          0\n",
       "lag2_shop_item_comb         0\n",
       "lag2_only_item              0\n",
       "seasonal_freq_3_feature     0\n",
       "prev_month_category_mean    0\n",
       "dtype: int64"
      ]
     },
     "execution_count": 367,
     "metadata": {},
     "output_type": "execute_result"
    }
   ],
   "source": [
    "np.sum(pd.isnull(train_full),axis = 0)"
   ]
  },
  {
   "cell_type": "code",
   "execution_count": 208,
   "metadata": {},
   "outputs": [],
   "source": [
    "#Now train.\n",
    "train33, val33 = month_split(train_full,33)"
   ]
  },
  {
   "cell_type": "code",
   "execution_count": 209,
   "metadata": {},
   "outputs": [],
   "source": [
    "xg_train_full = xgboost.DMatrix(train_full.drop(['shop_id','item_id','item_category_id','item_cnt_month','unique'], axis = 1), label=train_full['item_cnt_month'])"
   ]
  },
  {
   "cell_type": "code",
   "execution_count": 210,
   "metadata": {},
   "outputs": [],
   "source": [
    "xg_train_33 = xgboost.DMatrix(train33.drop(['shop_id','item_id','item_category_id','item_cnt_month','unique'], axis = 1), label=train33['item_cnt_month'])"
   ]
  },
  {
   "cell_type": "code",
   "execution_count": 211,
   "metadata": {},
   "outputs": [],
   "source": [
    "xg_val_33 = xgboost.DMatrix(val33.drop(['shop_id','item_id','item_category_id','item_cnt_month','unique'], axis = 1), label=val33['item_cnt_month'])"
   ]
  },
  {
   "cell_type": "code",
   "execution_count": 214,
   "metadata": {},
   "outputs": [],
   "source": [
    "#Tuning for a while.\n",
    "params1 = {'max_depth': 1, 'eta': 0.5, 'silent': 1, 'objective': 'reg:linear', 'subsample' : 0.5,'eval_metric': 'rmse'}"
   ]
  },
  {
   "cell_type": "code",
   "execution_count": 215,
   "metadata": {},
   "outputs": [
    {
     "name": "stdout",
     "output_type": "stream",
     "text": [
      "[0]\ttrain_set-rmse:7.65212\tvalidation_set-rmse:14.0307\n",
      "Multiple eval metrics have been passed: 'validation_set-rmse' will be used for early stopping.\n",
      "\n",
      "Will train until validation_set-rmse hasn't improved in 30 rounds.\n",
      "[1]\ttrain_set-rmse:6.92011\tvalidation_set-rmse:13.4007\n",
      "[2]\ttrain_set-rmse:6.6074\tvalidation_set-rmse:12.9753\n",
      "[3]\ttrain_set-rmse:6.45533\tvalidation_set-rmse:12.9086\n",
      "[4]\ttrain_set-rmse:6.32319\tvalidation_set-rmse:12.9083\n",
      "[5]\ttrain_set-rmse:6.26734\tvalidation_set-rmse:12.8984\n",
      "[6]\ttrain_set-rmse:6.20142\tvalidation_set-rmse:12.8794\n",
      "[7]\ttrain_set-rmse:6.16535\tvalidation_set-rmse:12.8794\n",
      "[8]\ttrain_set-rmse:6.13943\tvalidation_set-rmse:12.8326\n",
      "[9]\ttrain_set-rmse:6.11655\tvalidation_set-rmse:12.827\n",
      "[10]\ttrain_set-rmse:6.09644\tvalidation_set-rmse:12.8197\n",
      "[11]\ttrain_set-rmse:6.08155\tvalidation_set-rmse:12.8197\n",
      "[12]\ttrain_set-rmse:6.07312\tvalidation_set-rmse:12.8197\n",
      "[13]\ttrain_set-rmse:6.05492\tvalidation_set-rmse:12.8124\n",
      "[14]\ttrain_set-rmse:6.04265\tvalidation_set-rmse:12.7998\n",
      "[15]\ttrain_set-rmse:6.03753\tvalidation_set-rmse:12.7998\n",
      "[16]\ttrain_set-rmse:6.03942\tvalidation_set-rmse:12.7998\n",
      "[17]\ttrain_set-rmse:6.03475\tvalidation_set-rmse:12.7952\n",
      "[18]\ttrain_set-rmse:6.01616\tvalidation_set-rmse:12.7952\n",
      "[19]\ttrain_set-rmse:6.00525\tvalidation_set-rmse:12.7952\n",
      "[20]\ttrain_set-rmse:5.99838\tvalidation_set-rmse:12.7952\n",
      "[21]\ttrain_set-rmse:5.99457\tvalidation_set-rmse:12.7952\n",
      "[22]\ttrain_set-rmse:5.99451\tvalidation_set-rmse:12.7952\n",
      "[23]\ttrain_set-rmse:5.98475\tvalidation_set-rmse:12.7951\n",
      "[24]\ttrain_set-rmse:5.98073\tvalidation_set-rmse:12.7951\n",
      "[25]\ttrain_set-rmse:5.97708\tvalidation_set-rmse:12.7951\n",
      "[26]\ttrain_set-rmse:5.973\tvalidation_set-rmse:12.7951\n",
      "[27]\ttrain_set-rmse:5.96286\tvalidation_set-rmse:12.7959\n",
      "[28]\ttrain_set-rmse:5.96157\tvalidation_set-rmse:12.7959\n",
      "[29]\ttrain_set-rmse:5.95391\tvalidation_set-rmse:12.7922\n",
      "[30]\ttrain_set-rmse:5.95034\tvalidation_set-rmse:12.7967\n",
      "[31]\ttrain_set-rmse:5.9455\tvalidation_set-rmse:12.7967\n",
      "[32]\ttrain_set-rmse:5.94057\tvalidation_set-rmse:12.7763\n",
      "[33]\ttrain_set-rmse:5.94538\tvalidation_set-rmse:12.7764\n",
      "[34]\ttrain_set-rmse:5.93971\tvalidation_set-rmse:12.7763\n",
      "[35]\ttrain_set-rmse:5.9331\tvalidation_set-rmse:12.7763\n",
      "[36]\ttrain_set-rmse:5.92955\tvalidation_set-rmse:12.7763\n",
      "[37]\ttrain_set-rmse:5.92192\tvalidation_set-rmse:12.7755\n",
      "[38]\ttrain_set-rmse:5.93553\tvalidation_set-rmse:12.7755\n",
      "[39]\ttrain_set-rmse:5.92966\tvalidation_set-rmse:12.7755\n",
      "[40]\ttrain_set-rmse:5.92333\tvalidation_set-rmse:12.7755\n",
      "[41]\ttrain_set-rmse:5.91627\tvalidation_set-rmse:12.7724\n",
      "[42]\ttrain_set-rmse:5.92086\tvalidation_set-rmse:12.7724\n",
      "[43]\ttrain_set-rmse:5.91786\tvalidation_set-rmse:12.77\n",
      "[44]\ttrain_set-rmse:5.91576\tvalidation_set-rmse:12.7678\n",
      "[45]\ttrain_set-rmse:5.90973\tvalidation_set-rmse:12.7678\n",
      "[46]\ttrain_set-rmse:5.91094\tvalidation_set-rmse:12.7678\n",
      "[47]\ttrain_set-rmse:5.91223\tvalidation_set-rmse:12.7075\n",
      "[48]\ttrain_set-rmse:5.9036\tvalidation_set-rmse:12.7066\n",
      "[49]\ttrain_set-rmse:5.90411\tvalidation_set-rmse:12.7072\n",
      "[50]\ttrain_set-rmse:5.90178\tvalidation_set-rmse:12.7072\n",
      "[51]\ttrain_set-rmse:5.89219\tvalidation_set-rmse:12.7078\n",
      "[52]\ttrain_set-rmse:5.89309\tvalidation_set-rmse:12.7078\n",
      "[53]\ttrain_set-rmse:5.88883\tvalidation_set-rmse:12.7078\n",
      "[54]\ttrain_set-rmse:5.88609\tvalidation_set-rmse:12.7078\n",
      "[55]\ttrain_set-rmse:5.87741\tvalidation_set-rmse:12.6945\n",
      "[56]\ttrain_set-rmse:5.88164\tvalidation_set-rmse:12.6945\n",
      "[57]\ttrain_set-rmse:5.87354\tvalidation_set-rmse:12.6945\n",
      "[58]\ttrain_set-rmse:5.87194\tvalidation_set-rmse:12.6945\n",
      "[59]\ttrain_set-rmse:5.86991\tvalidation_set-rmse:12.6945\n",
      "[60]\ttrain_set-rmse:5.86686\tvalidation_set-rmse:12.6945\n",
      "[61]\ttrain_set-rmse:5.86201\tvalidation_set-rmse:12.6945\n",
      "[62]\ttrain_set-rmse:5.86161\tvalidation_set-rmse:12.6945\n",
      "[63]\ttrain_set-rmse:5.85743\tvalidation_set-rmse:12.6945\n",
      "[64]\ttrain_set-rmse:5.85574\tvalidation_set-rmse:12.6945\n",
      "[65]\ttrain_set-rmse:5.8569\tvalidation_set-rmse:12.6922\n",
      "[66]\ttrain_set-rmse:5.85169\tvalidation_set-rmse:12.7632\n",
      "[67]\ttrain_set-rmse:5.84821\tvalidation_set-rmse:12.7632\n",
      "[68]\ttrain_set-rmse:5.84672\tvalidation_set-rmse:12.7679\n",
      "[69]\ttrain_set-rmse:5.84432\tvalidation_set-rmse:12.7637\n",
      "[70]\ttrain_set-rmse:5.84052\tvalidation_set-rmse:12.7357\n",
      "[71]\ttrain_set-rmse:5.84242\tvalidation_set-rmse:12.7357\n",
      "[72]\ttrain_set-rmse:5.83692\tvalidation_set-rmse:12.7357\n",
      "[73]\ttrain_set-rmse:5.83549\tvalidation_set-rmse:12.7357\n",
      "[74]\ttrain_set-rmse:5.83852\tvalidation_set-rmse:12.7357\n",
      "[75]\ttrain_set-rmse:5.83554\tvalidation_set-rmse:12.7357\n",
      "[76]\ttrain_set-rmse:5.83783\tvalidation_set-rmse:12.7357\n",
      "[77]\ttrain_set-rmse:5.83353\tvalidation_set-rmse:12.7348\n",
      "[78]\ttrain_set-rmse:5.83291\tvalidation_set-rmse:12.7348\n",
      "[79]\ttrain_set-rmse:5.82785\tvalidation_set-rmse:12.728\n",
      "[80]\ttrain_set-rmse:5.82451\tvalidation_set-rmse:12.728\n",
      "[81]\ttrain_set-rmse:5.823\tvalidation_set-rmse:12.728\n",
      "[82]\ttrain_set-rmse:5.82338\tvalidation_set-rmse:12.728\n",
      "[83]\ttrain_set-rmse:5.81799\tvalidation_set-rmse:12.7249\n",
      "[84]\ttrain_set-rmse:5.81983\tvalidation_set-rmse:12.7249\n",
      "[85]\ttrain_set-rmse:5.8201\tvalidation_set-rmse:12.7249\n",
      "[86]\ttrain_set-rmse:5.8186\tvalidation_set-rmse:12.7899\n",
      "[87]\ttrain_set-rmse:5.81609\tvalidation_set-rmse:12.7828\n",
      "[88]\ttrain_set-rmse:5.81126\tvalidation_set-rmse:12.7743\n",
      "[89]\ttrain_set-rmse:5.81115\tvalidation_set-rmse:12.7743\n",
      "[90]\ttrain_set-rmse:5.80809\tvalidation_set-rmse:12.7743\n",
      "[91]\ttrain_set-rmse:5.80702\tvalidation_set-rmse:12.7616\n",
      "[92]\ttrain_set-rmse:5.8072\tvalidation_set-rmse:12.7616\n",
      "[93]\ttrain_set-rmse:5.80399\tvalidation_set-rmse:12.7616\n",
      "[94]\ttrain_set-rmse:5.80185\tvalidation_set-rmse:12.7606\n",
      "[95]\ttrain_set-rmse:5.80228\tvalidation_set-rmse:12.7648\n",
      "Stopping. Best iteration:\n",
      "[65]\ttrain_set-rmse:5.8569\tvalidation_set-rmse:12.6922\n",
      "\n"
     ]
    }
   ],
   "source": [
    "progress1 = {}\n",
    "xgb_model_1_05_05 = xgboost.train(params1, xg_train_33,early_stopping_rounds=30,evals = [(xg_train_33 , \"train_set\"),(xg_val_33,\"validation_set\")], evals_result=progress1\n",
    "                                         ,num_boost_round=1000)"
   ]
  },
  {
   "cell_type": "code",
   "execution_count": 217,
   "metadata": {},
   "outputs": [
    {
     "data": {
      "image/png": "[encoded data removed]",
      "text/plain": [
       "<Figure size 432x288 with 1 Axes>"
      ]
     },
     "metadata": {},
     "output_type": "display_data"
    }
   ],
   "source": [
    "plt.plot(progress1['train_set']['rmse'])\n",
    "plt.plot(progress1['validation_set']['rmse'])\n",
    "plt.show()"
   ]
  },
  {
   "cell_type": "code",
   "execution_count": 218,
   "metadata": {},
   "outputs": [
    {
     "data": {
      "image/png": "[encoded data removed]",
      "text/plain": [
       "<Figure size 432x288 with 1 Axes>"
      ]
     },
     "metadata": {},
     "output_type": "display_data"
    }
   ],
   "source": [
    "for_plot = pd.DataFrame([(v, k) for k, v in xgb_model_1_05_05.get_fscore().items()])\n",
    "plt.figure()\n",
    "for_plot.sort_values(0,inplace=True)\n",
    "sns.barplot(x = for_plot[1], y =for_plot[0])\n",
    "plt.xticks(rotation = 90)\n",
    "plt.show()"
   ]
  },
  {
   "cell_type": "code",
   "execution_count": 219,
   "metadata": {},
   "outputs": [],
   "source": [
    "params2 = {'max_depth': 2, 'eta': 0.01, 'silent': 1, 'objective': 'reg:linear', 'subsample' : 0.5,'eval_metric': 'rmse'}"
   ]
  },
  {
   "cell_type": "code",
   "execution_count": 220,
   "metadata": {},
   "outputs": [
    {
     "name": "stdout",
     "output_type": "stream",
     "text": [
      "[0]\ttrain_set-rmse:8.77605\tvalidation_set-rmse:14.6074\n",
      "Multiple eval metrics have been passed: 'validation_set-rmse' will be used for early stopping.\n",
      "\n",
      "Will train until validation_set-rmse hasn't improved in 30 rounds.\n",
      "[1]\ttrain_set-rmse:8.73519\tvalidation_set-rmse:14.5793\n",
      "[2]\ttrain_set-rmse:8.69394\tvalidation_set-rmse:14.5497\n",
      "[3]\ttrain_set-rmse:8.65564\tvalidation_set-rmse:14.523\n",
      "[4]\ttrain_set-rmse:8.61623\tvalidation_set-rmse:14.4968\n",
      "[5]\ttrain_set-rmse:8.57776\tvalidation_set-rmse:14.4702\n",
      "[6]\ttrain_set-rmse:8.5413\tvalidation_set-rmse:14.4465\n",
      "[7]\ttrain_set-rmse:8.5064\tvalidation_set-rmse:14.4185\n",
      "[8]\ttrain_set-rmse:8.47041\tvalidation_set-rmse:14.3946\n",
      "[9]\ttrain_set-rmse:8.43327\tvalidation_set-rmse:14.3703\n",
      "[10]\ttrain_set-rmse:8.39981\tvalidation_set-rmse:14.3515\n",
      "[11]\ttrain_set-rmse:8.36711\tvalidation_set-rmse:14.3328\n",
      "[12]\ttrain_set-rmse:8.33293\tvalidation_set-rmse:14.3089\n",
      "[13]\ttrain_set-rmse:8.2981\tvalidation_set-rmse:14.2852\n",
      "[14]\ttrain_set-rmse:8.26543\tvalidation_set-rmse:14.2639\n",
      "[15]\ttrain_set-rmse:8.23265\tvalidation_set-rmse:14.2411\n",
      "[16]\ttrain_set-rmse:8.20304\tvalidation_set-rmse:14.2227\n",
      "[17]\ttrain_set-rmse:8.17156\tvalidation_set-rmse:14.2026\n",
      "[18]\ttrain_set-rmse:8.14136\tvalidation_set-rmse:14.1838\n",
      "[19]\ttrain_set-rmse:8.11054\tvalidation_set-rmse:14.1678\n",
      "[20]\ttrain_set-rmse:8.08057\tvalidation_set-rmse:14.1475\n",
      "[21]\ttrain_set-rmse:8.05158\tvalidation_set-rmse:14.1283\n",
      "[22]\ttrain_set-rmse:8.02136\tvalidation_set-rmse:14.1084\n",
      "[23]\ttrain_set-rmse:7.99456\tvalidation_set-rmse:14.0927\n",
      "[24]\ttrain_set-rmse:7.965\tvalidation_set-rmse:14.0734\n",
      "[25]\ttrain_set-rmse:7.93683\tvalidation_set-rmse:14.0534\n",
      "[26]\ttrain_set-rmse:7.90876\tvalidation_set-rmse:14.0362\n",
      "[27]\ttrain_set-rmse:7.88108\tvalidation_set-rmse:14.0176\n",
      "[28]\ttrain_set-rmse:7.85456\tvalidation_set-rmse:14.0012\n",
      "[29]\ttrain_set-rmse:7.82735\tvalidation_set-rmse:13.9846\n",
      "[30]\ttrain_set-rmse:7.80292\tvalidation_set-rmse:13.9713\n",
      "[31]\ttrain_set-rmse:7.77677\tvalidation_set-rmse:13.954\n",
      "[32]\ttrain_set-rmse:7.75052\tvalidation_set-rmse:13.9381\n",
      "[33]\ttrain_set-rmse:7.72509\tvalidation_set-rmse:13.9235\n",
      "[34]\ttrain_set-rmse:7.70049\tvalidation_set-rmse:13.9125\n",
      "[35]\ttrain_set-rmse:7.67575\tvalidation_set-rmse:13.8972\n",
      "[36]\ttrain_set-rmse:7.6519\tvalidation_set-rmse:13.8816\n",
      "[37]\ttrain_set-rmse:7.6287\tvalidation_set-rmse:13.857\n",
      "[38]\ttrain_set-rmse:7.60485\tvalidation_set-rmse:13.8459\n",
      "[39]\ttrain_set-rmse:7.58178\tvalidation_set-rmse:13.8327\n",
      "[40]\ttrain_set-rmse:7.55858\tvalidation_set-rmse:13.8187\n",
      "[41]\ttrain_set-rmse:7.53744\tvalidation_set-rmse:13.8055\n",
      "[42]\ttrain_set-rmse:7.51662\tvalidation_set-rmse:13.7908\n",
      "[43]\ttrain_set-rmse:7.49343\tvalidation_set-rmse:13.7758\n",
      "[44]\ttrain_set-rmse:7.47171\tvalidation_set-rmse:13.7649\n",
      "[45]\ttrain_set-rmse:7.45074\tvalidation_set-rmse:13.7526\n",
      "[46]\ttrain_set-rmse:7.42982\tvalidation_set-rmse:13.7405\n",
      "[47]\ttrain_set-rmse:7.40813\tvalidation_set-rmse:13.7275\n",
      "[48]\ttrain_set-rmse:7.38771\tvalidation_set-rmse:13.7153\n",
      "[49]\ttrain_set-rmse:7.36651\tvalidation_set-rmse:13.7046\n",
      "[50]\ttrain_set-rmse:7.34513\tvalidation_set-rmse:13.6917\n",
      "[51]\ttrain_set-rmse:7.32686\tvalidation_set-rmse:13.6807\n",
      "[52]\ttrain_set-rmse:7.30795\tvalidation_set-rmse:13.6693\n",
      "[53]\ttrain_set-rmse:7.28868\tvalidation_set-rmse:13.6488\n",
      "[54]\ttrain_set-rmse:7.26933\tvalidation_set-rmse:13.638\n",
      "[55]\ttrain_set-rmse:7.25232\tvalidation_set-rmse:13.6185\n",
      "[56]\ttrain_set-rmse:7.23418\tvalidation_set-rmse:13.611\n",
      "[57]\ttrain_set-rmse:7.21689\tvalidation_set-rmse:13.6026\n",
      "[58]\ttrain_set-rmse:7.19981\tvalidation_set-rmse:13.5927\n",
      "[59]\ttrain_set-rmse:7.18119\tvalidation_set-rmse:13.5806\n",
      "[60]\ttrain_set-rmse:7.1636\tvalidation_set-rmse:13.5699\n",
      "[61]\ttrain_set-rmse:7.14697\tvalidation_set-rmse:13.5585\n",
      "[62]\ttrain_set-rmse:7.13069\tvalidation_set-rmse:13.5499\n",
      "[63]\ttrain_set-rmse:7.11408\tvalidation_set-rmse:13.5397\n",
      "[64]\ttrain_set-rmse:7.09768\tvalidation_set-rmse:13.5287\n",
      "[65]\ttrain_set-rmse:7.08143\tvalidation_set-rmse:13.5194\n",
      "[66]\ttrain_set-rmse:7.06546\tvalidation_set-rmse:13.5127\n",
      "[67]\ttrain_set-rmse:7.05013\tvalidation_set-rmse:13.5051\n",
      "[68]\ttrain_set-rmse:7.03529\tvalidation_set-rmse:13.4964\n",
      "[69]\ttrain_set-rmse:7.02022\tvalidation_set-rmse:13.4905\n",
      "[70]\ttrain_set-rmse:7.00425\tvalidation_set-rmse:13.4807\n",
      "[71]\ttrain_set-rmse:6.98944\tvalidation_set-rmse:13.4743\n",
      "[72]\ttrain_set-rmse:6.97474\tvalidation_set-rmse:13.462\n",
      "[73]\ttrain_set-rmse:6.96133\tvalidation_set-rmse:13.4551\n",
      "[74]\ttrain_set-rmse:6.94728\tvalidation_set-rmse:13.4484\n",
      "[75]\ttrain_set-rmse:6.93319\tvalidation_set-rmse:13.4413\n",
      "[76]\ttrain_set-rmse:6.91894\tvalidation_set-rmse:13.4325\n",
      "[77]\ttrain_set-rmse:6.90486\tvalidation_set-rmse:13.4234\n",
      "[78]\ttrain_set-rmse:6.8902\tvalidation_set-rmse:13.4158\n",
      "[79]\ttrain_set-rmse:6.87621\tvalidation_set-rmse:13.4081\n",
      "[80]\ttrain_set-rmse:6.86311\tvalidation_set-rmse:13.4014\n",
      "[81]\ttrain_set-rmse:6.85004\tvalidation_set-rmse:13.3936\n",
      "[82]\ttrain_set-rmse:6.83692\tvalidation_set-rmse:13.3805\n",
      "[83]\ttrain_set-rmse:6.82381\tvalidation_set-rmse:13.3743\n",
      "[84]\ttrain_set-rmse:6.81057\tvalidation_set-rmse:13.3681\n",
      "[85]\ttrain_set-rmse:6.79882\tvalidation_set-rmse:13.3617\n",
      "[86]\ttrain_set-rmse:6.78537\tvalidation_set-rmse:13.3554\n",
      "[87]\ttrain_set-rmse:6.77338\tvalidation_set-rmse:13.3431\n",
      "[88]\ttrain_set-rmse:6.7614\tvalidation_set-rmse:13.3376\n",
      "[89]\ttrain_set-rmse:6.7487\tvalidation_set-rmse:13.331\n",
      "[90]\ttrain_set-rmse:6.73673\tvalidation_set-rmse:13.3235\n",
      "[91]\ttrain_set-rmse:6.72497\tvalidation_set-rmse:13.3165\n",
      "[92]\ttrain_set-rmse:6.7144\tvalidation_set-rmse:13.3116\n",
      "[93]\ttrain_set-rmse:6.70237\tvalidation_set-rmse:13.3048\n",
      "[94]\ttrain_set-rmse:6.69135\tvalidation_set-rmse:13.2994\n",
      "[95]\ttrain_set-rmse:6.68074\tvalidation_set-rmse:13.294\n",
      "[96]\ttrain_set-rmse:6.67032\tvalidation_set-rmse:13.2882\n",
      "[97]\ttrain_set-rmse:6.65939\tvalidation_set-rmse:13.2834\n",
      "[98]\ttrain_set-rmse:6.64809\tvalidation_set-rmse:13.2763\n",
      "[99]\ttrain_set-rmse:6.63763\tvalidation_set-rmse:13.273\n",
      "[100]\ttrain_set-rmse:6.62768\tvalidation_set-rmse:13.2654\n",
      "[101]\ttrain_set-rmse:6.61742\tvalidation_set-rmse:13.2604\n",
      "[102]\ttrain_set-rmse:6.60794\tvalidation_set-rmse:13.2547\n",
      "[103]\ttrain_set-rmse:6.59813\tvalidation_set-rmse:13.2469\n",
      "[104]\ttrain_set-rmse:6.58749\tvalidation_set-rmse:13.242\n",
      "[105]\ttrain_set-rmse:6.57792\tvalidation_set-rmse:13.238\n",
      "[106]\ttrain_set-rmse:6.56817\tvalidation_set-rmse:13.2344\n",
      "[107]\ttrain_set-rmse:6.55893\tvalidation_set-rmse:13.2244\n",
      "[108]\ttrain_set-rmse:6.55034\tvalidation_set-rmse:13.2195\n",
      "[109]\ttrain_set-rmse:6.54121\tvalidation_set-rmse:13.2133\n",
      "[110]\ttrain_set-rmse:6.53172\tvalidation_set-rmse:13.2086\n",
      "[111]\ttrain_set-rmse:6.52282\tvalidation_set-rmse:13.203\n",
      "[112]\ttrain_set-rmse:6.51417\tvalidation_set-rmse:13.1981\n",
      "[113]\ttrain_set-rmse:6.50538\tvalidation_set-rmse:13.1889\n",
      "[114]\ttrain_set-rmse:6.49581\tvalidation_set-rmse:13.183\n",
      "[115]\ttrain_set-rmse:6.48824\tvalidation_set-rmse:13.1812\n",
      "[116]\ttrain_set-rmse:6.4805\tvalidation_set-rmse:13.1769\n",
      "[117]\ttrain_set-rmse:6.47248\tvalidation_set-rmse:13.1697\n",
      "[118]\ttrain_set-rmse:6.46471\tvalidation_set-rmse:13.1658\n",
      "[119]\ttrain_set-rmse:6.45667\tvalidation_set-rmse:13.1568\n",
      "[120]\ttrain_set-rmse:6.44927\tvalidation_set-rmse:13.1542\n",
      "[121]\ttrain_set-rmse:6.44122\tvalidation_set-rmse:13.1531\n",
      "[122]\ttrain_set-rmse:6.43276\tvalidation_set-rmse:13.1431\n",
      "[123]\ttrain_set-rmse:6.42503\tvalidation_set-rmse:13.1402\n",
      "[124]\ttrain_set-rmse:6.41717\tvalidation_set-rmse:13.1357\n",
      "[125]\ttrain_set-rmse:6.4104\tvalidation_set-rmse:13.124\n",
      "[126]\ttrain_set-rmse:6.40266\tvalidation_set-rmse:13.1198\n",
      "[127]\ttrain_set-rmse:6.39592\tvalidation_set-rmse:13.1167\n",
      "[128]\ttrain_set-rmse:6.38879\tvalidation_set-rmse:13.1134\n",
      "[129]\ttrain_set-rmse:6.38162\tvalidation_set-rmse:13.1107\n",
      "[130]\ttrain_set-rmse:6.37473\tvalidation_set-rmse:13.1025\n",
      "[131]\ttrain_set-rmse:6.36825\tvalidation_set-rmse:13.0982\n",
      "[132]\ttrain_set-rmse:6.36183\tvalidation_set-rmse:13.0959\n",
      "[133]\ttrain_set-rmse:6.35553\tvalidation_set-rmse:13.0924\n",
      "[134]\ttrain_set-rmse:6.34923\tvalidation_set-rmse:13.09\n",
      "[135]\ttrain_set-rmse:6.34266\tvalidation_set-rmse:13.082\n",
      "[136]\ttrain_set-rmse:6.33633\tvalidation_set-rmse:13.0744\n",
      "[137]\ttrain_set-rmse:6.33002\tvalidation_set-rmse:13.0689\n",
      "[138]\ttrain_set-rmse:6.32385\tvalidation_set-rmse:13.0671\n",
      "[139]\ttrain_set-rmse:6.3174\tvalidation_set-rmse:13.0591\n",
      "[140]\ttrain_set-rmse:6.31159\tvalidation_set-rmse:13.052\n",
      "[141]\ttrain_set-rmse:6.3052\tvalidation_set-rmse:13.0434\n",
      "[142]\ttrain_set-rmse:6.29838\tvalidation_set-rmse:13.0401\n",
      "[143]\ttrain_set-rmse:6.29292\tvalidation_set-rmse:13.0348\n"
     ]
    },
    {
     "name": "stdout",
     "output_type": "stream",
     "text": [
      "[144]\ttrain_set-rmse:6.28709\tvalidation_set-rmse:13.03\n",
      "[145]\ttrain_set-rmse:6.28119\tvalidation_set-rmse:13.0273\n",
      "[146]\ttrain_set-rmse:6.27542\tvalidation_set-rmse:13.0223\n",
      "[147]\ttrain_set-rmse:6.27026\tvalidation_set-rmse:13.0171\n",
      "[148]\ttrain_set-rmse:6.26441\tvalidation_set-rmse:13.0145\n",
      "[149]\ttrain_set-rmse:6.2594\tvalidation_set-rmse:13.005\n",
      "[150]\ttrain_set-rmse:6.25444\tvalidation_set-rmse:13.0034\n",
      "[151]\ttrain_set-rmse:6.24889\tvalidation_set-rmse:13.0018\n",
      "[152]\ttrain_set-rmse:6.24369\tvalidation_set-rmse:13.0007\n",
      "[153]\ttrain_set-rmse:6.23803\tvalidation_set-rmse:12.998\n",
      "[154]\ttrain_set-rmse:6.23338\tvalidation_set-rmse:12.9944\n",
      "[155]\ttrain_set-rmse:6.22822\tvalidation_set-rmse:12.9915\n",
      "[156]\ttrain_set-rmse:6.2226\tvalidation_set-rmse:12.9891\n",
      "[157]\ttrain_set-rmse:6.21759\tvalidation_set-rmse:12.9867\n",
      "[158]\ttrain_set-rmse:6.21301\tvalidation_set-rmse:12.9845\n",
      "[159]\ttrain_set-rmse:6.20854\tvalidation_set-rmse:12.9822\n",
      "[160]\ttrain_set-rmse:6.20394\tvalidation_set-rmse:12.9733\n",
      "[161]\ttrain_set-rmse:6.1996\tvalidation_set-rmse:12.9708\n",
      "[162]\ttrain_set-rmse:6.19522\tvalidation_set-rmse:12.9657\n",
      "[163]\ttrain_set-rmse:6.1901\tvalidation_set-rmse:12.9639\n",
      "[164]\ttrain_set-rmse:6.18607\tvalidation_set-rmse:12.9608\n",
      "[165]\ttrain_set-rmse:6.18176\tvalidation_set-rmse:12.9599\n",
      "[166]\ttrain_set-rmse:6.17801\tvalidation_set-rmse:12.9567\n",
      "[167]\ttrain_set-rmse:6.17386\tvalidation_set-rmse:12.9559\n",
      "[168]\ttrain_set-rmse:6.16954\tvalidation_set-rmse:12.9546\n",
      "[169]\ttrain_set-rmse:6.16506\tvalidation_set-rmse:12.9526\n",
      "[170]\ttrain_set-rmse:6.16098\tvalidation_set-rmse:12.9512\n",
      "[171]\ttrain_set-rmse:6.15705\tvalidation_set-rmse:12.9471\n",
      "[172]\ttrain_set-rmse:6.15308\tvalidation_set-rmse:12.9456\n",
      "[173]\ttrain_set-rmse:6.14936\tvalidation_set-rmse:12.9427\n",
      "[174]\ttrain_set-rmse:6.14536\tvalidation_set-rmse:12.9409\n",
      "[175]\ttrain_set-rmse:6.14159\tvalidation_set-rmse:12.9391\n",
      "[176]\ttrain_set-rmse:6.13761\tvalidation_set-rmse:12.9372\n",
      "[177]\ttrain_set-rmse:6.13431\tvalidation_set-rmse:12.936\n",
      "[178]\ttrain_set-rmse:6.12946\tvalidation_set-rmse:12.9338\n",
      "[179]\ttrain_set-rmse:6.12557\tvalidation_set-rmse:12.9325\n",
      "[180]\ttrain_set-rmse:6.122\tvalidation_set-rmse:12.9298\n",
      "[181]\ttrain_set-rmse:6.1187\tvalidation_set-rmse:12.929\n",
      "[182]\ttrain_set-rmse:6.11522\tvalidation_set-rmse:12.9271\n",
      "[183]\ttrain_set-rmse:6.11194\tvalidation_set-rmse:12.9258\n",
      "[184]\ttrain_set-rmse:6.10808\tvalidation_set-rmse:12.916\n",
      "[185]\ttrain_set-rmse:6.10483\tvalidation_set-rmse:12.9151\n",
      "[186]\ttrain_set-rmse:6.10106\tvalidation_set-rmse:12.9143\n",
      "[187]\ttrain_set-rmse:6.0974\tvalidation_set-rmse:12.9126\n",
      "[188]\ttrain_set-rmse:6.09457\tvalidation_set-rmse:12.9118\n",
      "[189]\ttrain_set-rmse:6.09113\tvalidation_set-rmse:12.9112\n",
      "[190]\ttrain_set-rmse:6.08853\tvalidation_set-rmse:12.9105\n",
      "[191]\ttrain_set-rmse:6.08605\tvalidation_set-rmse:12.9097\n",
      "[192]\ttrain_set-rmse:6.08283\tvalidation_set-rmse:12.906\n",
      "[193]\ttrain_set-rmse:6.07949\tvalidation_set-rmse:12.9053\n",
      "[194]\ttrain_set-rmse:6.07618\tvalidation_set-rmse:12.9044\n",
      "[195]\ttrain_set-rmse:6.07274\tvalidation_set-rmse:12.9029\n",
      "[196]\ttrain_set-rmse:6.06885\tvalidation_set-rmse:12.8935\n",
      "[197]\ttrain_set-rmse:6.06563\tvalidation_set-rmse:12.887\n",
      "[198]\ttrain_set-rmse:6.06254\tvalidation_set-rmse:12.8848\n",
      "[199]\ttrain_set-rmse:6.05926\tvalidation_set-rmse:12.884\n",
      "[200]\ttrain_set-rmse:6.05666\tvalidation_set-rmse:12.8831\n",
      "[201]\ttrain_set-rmse:6.05381\tvalidation_set-rmse:12.8792\n",
      "[202]\ttrain_set-rmse:6.05072\tvalidation_set-rmse:12.8779\n",
      "[203]\ttrain_set-rmse:6.04822\tvalidation_set-rmse:12.876\n",
      "[204]\ttrain_set-rmse:6.04552\tvalidation_set-rmse:12.8748\n",
      "[205]\ttrain_set-rmse:6.04261\tvalidation_set-rmse:12.8736\n",
      "[206]\ttrain_set-rmse:6.04071\tvalidation_set-rmse:12.873\n",
      "[207]\ttrain_set-rmse:6.03801\tvalidation_set-rmse:12.8719\n",
      "[208]\ttrain_set-rmse:6.03554\tvalidation_set-rmse:12.8714\n",
      "[209]\ttrain_set-rmse:6.03285\tvalidation_set-rmse:12.8676\n",
      "[210]\ttrain_set-rmse:6.03039\tvalidation_set-rmse:12.8667\n",
      "[211]\ttrain_set-rmse:6.02779\tvalidation_set-rmse:12.8639\n",
      "[212]\ttrain_set-rmse:6.02464\tvalidation_set-rmse:12.8624\n",
      "[213]\ttrain_set-rmse:6.02198\tvalidation_set-rmse:12.858\n",
      "[214]\ttrain_set-rmse:6.01957\tvalidation_set-rmse:12.8571\n",
      "[215]\ttrain_set-rmse:6.01699\tvalidation_set-rmse:12.8561\n",
      "[216]\ttrain_set-rmse:6.01491\tvalidation_set-rmse:12.8543\n",
      "[217]\ttrain_set-rmse:6.01256\tvalidation_set-rmse:12.854\n",
      "[218]\ttrain_set-rmse:6.01081\tvalidation_set-rmse:12.8531\n",
      "[219]\ttrain_set-rmse:6.00804\tvalidation_set-rmse:12.8516\n",
      "[220]\ttrain_set-rmse:6.0052\tvalidation_set-rmse:12.8443\n",
      "[221]\ttrain_set-rmse:6.00302\tvalidation_set-rmse:12.8439\n",
      "[222]\ttrain_set-rmse:6.00053\tvalidation_set-rmse:12.8384\n",
      "[223]\ttrain_set-rmse:5.9969\tvalidation_set-rmse:12.8369\n",
      "[224]\ttrain_set-rmse:5.99449\tvalidation_set-rmse:12.835\n",
      "[225]\ttrain_set-rmse:5.99239\tvalidation_set-rmse:12.8345\n",
      "[226]\ttrain_set-rmse:5.99057\tvalidation_set-rmse:12.8336\n",
      "[227]\ttrain_set-rmse:5.98834\tvalidation_set-rmse:12.8333\n",
      "[228]\ttrain_set-rmse:5.98619\tvalidation_set-rmse:12.8296\n",
      "[229]\ttrain_set-rmse:5.98378\tvalidation_set-rmse:12.8287\n",
      "[230]\ttrain_set-rmse:5.98157\tvalidation_set-rmse:12.8284\n",
      "[231]\ttrain_set-rmse:5.97927\tvalidation_set-rmse:12.8274\n",
      "[232]\ttrain_set-rmse:5.97727\tvalidation_set-rmse:12.8244\n",
      "[233]\ttrain_set-rmse:5.9752\tvalidation_set-rmse:12.8241\n",
      "[234]\ttrain_set-rmse:5.97327\tvalidation_set-rmse:12.823\n",
      "[235]\ttrain_set-rmse:5.97146\tvalidation_set-rmse:12.8227\n",
      "[236]\ttrain_set-rmse:5.9693\tvalidation_set-rmse:12.8223\n",
      "[237]\ttrain_set-rmse:5.96732\tvalidation_set-rmse:12.8218\n",
      "[238]\ttrain_set-rmse:5.96573\tvalidation_set-rmse:12.8208\n",
      "[239]\ttrain_set-rmse:5.96383\tvalidation_set-rmse:12.8201\n",
      "[240]\ttrain_set-rmse:5.96201\tvalidation_set-rmse:12.8179\n",
      "[241]\ttrain_set-rmse:5.96027\tvalidation_set-rmse:12.8167\n",
      "[242]\ttrain_set-rmse:5.95824\tvalidation_set-rmse:12.816\n",
      "[243]\ttrain_set-rmse:5.95661\tvalidation_set-rmse:12.8158\n",
      "[244]\ttrain_set-rmse:5.95461\tvalidation_set-rmse:12.8148\n",
      "[245]\ttrain_set-rmse:5.95277\tvalidation_set-rmse:12.8141\n",
      "[246]\ttrain_set-rmse:5.95119\tvalidation_set-rmse:12.8129\n",
      "[247]\ttrain_set-rmse:5.94966\tvalidation_set-rmse:12.8116\n",
      "[248]\ttrain_set-rmse:5.94789\tvalidation_set-rmse:12.811\n",
      "[249]\ttrain_set-rmse:5.94632\tvalidation_set-rmse:12.8106\n",
      "[250]\ttrain_set-rmse:5.94437\tvalidation_set-rmse:12.8105\n",
      "[251]\ttrain_set-rmse:5.94274\tvalidation_set-rmse:12.8096\n",
      "[252]\ttrain_set-rmse:5.94094\tvalidation_set-rmse:12.809\n",
      "[253]\ttrain_set-rmse:5.93907\tvalidation_set-rmse:12.8089\n",
      "[254]\ttrain_set-rmse:5.93756\tvalidation_set-rmse:12.8079\n",
      "[255]\ttrain_set-rmse:5.93604\tvalidation_set-rmse:12.8074\n",
      "[256]\ttrain_set-rmse:5.93457\tvalidation_set-rmse:12.807\n",
      "[257]\ttrain_set-rmse:5.93271\tvalidation_set-rmse:12.804\n",
      "[258]\ttrain_set-rmse:5.93092\tvalidation_set-rmse:12.8029\n",
      "[259]\ttrain_set-rmse:5.92912\tvalidation_set-rmse:12.8028\n",
      "[260]\ttrain_set-rmse:5.92745\tvalidation_set-rmse:12.8025\n",
      "[261]\ttrain_set-rmse:5.92593\tvalidation_set-rmse:12.8023\n",
      "[262]\ttrain_set-rmse:5.92435\tvalidation_set-rmse:12.802\n",
      "[263]\ttrain_set-rmse:5.92279\tvalidation_set-rmse:12.8016\n",
      "[264]\ttrain_set-rmse:5.92126\tvalidation_set-rmse:12.8012\n",
      "[265]\ttrain_set-rmse:5.91971\tvalidation_set-rmse:12.801\n",
      "[266]\ttrain_set-rmse:5.91861\tvalidation_set-rmse:12.8008\n",
      "[267]\ttrain_set-rmse:5.91706\tvalidation_set-rmse:12.8007\n",
      "[268]\ttrain_set-rmse:5.91535\tvalidation_set-rmse:12.8003\n",
      "[269]\ttrain_set-rmse:5.914\tvalidation_set-rmse:12.8\n",
      "[270]\ttrain_set-rmse:5.91257\tvalidation_set-rmse:12.7996\n",
      "[271]\ttrain_set-rmse:5.91123\tvalidation_set-rmse:12.7994\n",
      "[272]\ttrain_set-rmse:5.90994\tvalidation_set-rmse:12.7992\n",
      "[273]\ttrain_set-rmse:5.90837\tvalidation_set-rmse:12.7987\n",
      "[274]\ttrain_set-rmse:5.90703\tvalidation_set-rmse:12.7982\n",
      "[275]\ttrain_set-rmse:5.90554\tvalidation_set-rmse:12.7974\n",
      "[276]\ttrain_set-rmse:5.90382\tvalidation_set-rmse:12.7964\n",
      "[277]\ttrain_set-rmse:5.90175\tvalidation_set-rmse:12.7903\n",
      "[278]\ttrain_set-rmse:5.90062\tvalidation_set-rmse:12.7898\n",
      "[279]\ttrain_set-rmse:5.89932\tvalidation_set-rmse:12.7896\n",
      "[280]\ttrain_set-rmse:5.89822\tvalidation_set-rmse:12.788\n",
      "[281]\ttrain_set-rmse:5.89673\tvalidation_set-rmse:12.7878\n",
      "[282]\ttrain_set-rmse:5.89522\tvalidation_set-rmse:12.7873\n",
      "[283]\ttrain_set-rmse:5.89371\tvalidation_set-rmse:12.7851\n",
      "[284]\ttrain_set-rmse:5.89253\tvalidation_set-rmse:12.7846\n",
      "[285]\ttrain_set-rmse:5.8913\tvalidation_set-rmse:12.7845\n",
      "[286]\ttrain_set-rmse:5.89054\tvalidation_set-rmse:12.7844\n",
      "[287]\ttrain_set-rmse:5.88883\tvalidation_set-rmse:12.7839\n",
      "[288]\ttrain_set-rmse:5.88712\tvalidation_set-rmse:12.7838\n"
     ]
    },
    {
     "name": "stdout",
     "output_type": "stream",
     "text": [
      "[289]\ttrain_set-rmse:5.88656\tvalidation_set-rmse:12.7838\n",
      "[290]\ttrain_set-rmse:5.88568\tvalidation_set-rmse:12.7832\n",
      "[291]\ttrain_set-rmse:5.88432\tvalidation_set-rmse:12.7831\n",
      "[292]\ttrain_set-rmse:5.88352\tvalidation_set-rmse:12.7828\n",
      "[293]\ttrain_set-rmse:5.88174\tvalidation_set-rmse:12.7826\n",
      "[294]\ttrain_set-rmse:5.88042\tvalidation_set-rmse:12.7821\n",
      "[295]\ttrain_set-rmse:5.87935\tvalidation_set-rmse:12.7817\n",
      "[296]\ttrain_set-rmse:5.87831\tvalidation_set-rmse:12.7811\n",
      "[297]\ttrain_set-rmse:5.87718\tvalidation_set-rmse:12.7809\n",
      "[298]\ttrain_set-rmse:5.87564\tvalidation_set-rmse:12.7803\n",
      "[299]\ttrain_set-rmse:5.87431\tvalidation_set-rmse:12.7801\n",
      "[300]\ttrain_set-rmse:5.87335\tvalidation_set-rmse:12.7802\n",
      "[301]\ttrain_set-rmse:5.87201\tvalidation_set-rmse:12.7796\n",
      "[302]\ttrain_set-rmse:5.87076\tvalidation_set-rmse:12.7779\n",
      "[303]\ttrain_set-rmse:5.86945\tvalidation_set-rmse:12.7772\n",
      "[304]\ttrain_set-rmse:5.86855\tvalidation_set-rmse:12.7773\n",
      "[305]\ttrain_set-rmse:5.86745\tvalidation_set-rmse:12.777\n",
      "[306]\ttrain_set-rmse:5.86671\tvalidation_set-rmse:12.7769\n",
      "[307]\ttrain_set-rmse:5.86564\tvalidation_set-rmse:12.7767\n",
      "[308]\ttrain_set-rmse:5.86441\tvalidation_set-rmse:12.775\n",
      "[309]\ttrain_set-rmse:5.8632\tvalidation_set-rmse:12.7748\n",
      "[310]\ttrain_set-rmse:5.86188\tvalidation_set-rmse:12.7739\n",
      "[311]\ttrain_set-rmse:5.86099\tvalidation_set-rmse:12.7738\n",
      "[312]\ttrain_set-rmse:5.85975\tvalidation_set-rmse:12.7738\n",
      "[313]\ttrain_set-rmse:5.8586\tvalidation_set-rmse:12.7737\n",
      "[314]\ttrain_set-rmse:5.85764\tvalidation_set-rmse:12.7735\n",
      "[315]\ttrain_set-rmse:5.85638\tvalidation_set-rmse:12.7734\n",
      "[316]\ttrain_set-rmse:5.8553\tvalidation_set-rmse:12.7727\n",
      "[317]\ttrain_set-rmse:5.85375\tvalidation_set-rmse:12.7728\n",
      "[318]\ttrain_set-rmse:5.85257\tvalidation_set-rmse:12.7724\n",
      "[319]\ttrain_set-rmse:5.85151\tvalidation_set-rmse:12.7718\n",
      "[320]\ttrain_set-rmse:5.85063\tvalidation_set-rmse:12.7716\n",
      "[321]\ttrain_set-rmse:5.84957\tvalidation_set-rmse:12.7713\n",
      "[322]\ttrain_set-rmse:5.84808\tvalidation_set-rmse:12.7713\n",
      "[323]\ttrain_set-rmse:5.84696\tvalidation_set-rmse:12.7701\n",
      "[324]\ttrain_set-rmse:5.84575\tvalidation_set-rmse:12.7661\n",
      "[325]\ttrain_set-rmse:5.84468\tvalidation_set-rmse:12.7651\n",
      "[326]\ttrain_set-rmse:5.84369\tvalidation_set-rmse:12.7644\n",
      "[327]\ttrain_set-rmse:5.8422\tvalidation_set-rmse:12.764\n",
      "[328]\ttrain_set-rmse:5.84118\tvalidation_set-rmse:12.7615\n",
      "[329]\ttrain_set-rmse:5.84065\tvalidation_set-rmse:12.7614\n",
      "[330]\ttrain_set-rmse:5.83964\tvalidation_set-rmse:12.7613\n",
      "[331]\ttrain_set-rmse:5.83851\tvalidation_set-rmse:12.7607\n",
      "[332]\ttrain_set-rmse:5.83766\tvalidation_set-rmse:12.7606\n",
      "[333]\ttrain_set-rmse:5.83704\tvalidation_set-rmse:12.7604\n",
      "[334]\ttrain_set-rmse:5.83621\tvalidation_set-rmse:12.7604\n",
      "[335]\ttrain_set-rmse:5.83569\tvalidation_set-rmse:12.7603\n",
      "[336]\ttrain_set-rmse:5.83467\tvalidation_set-rmse:12.76\n",
      "[337]\ttrain_set-rmse:5.83358\tvalidation_set-rmse:12.7594\n",
      "[338]\ttrain_set-rmse:5.83219\tvalidation_set-rmse:12.7592\n",
      "[339]\ttrain_set-rmse:5.83128\tvalidation_set-rmse:12.7591\n",
      "[340]\ttrain_set-rmse:5.82929\tvalidation_set-rmse:12.7584\n",
      "[341]\ttrain_set-rmse:5.82833\tvalidation_set-rmse:12.7578\n",
      "[342]\ttrain_set-rmse:5.8275\tvalidation_set-rmse:12.7578\n",
      "[343]\ttrain_set-rmse:5.82648\tvalidation_set-rmse:12.757\n",
      "[344]\ttrain_set-rmse:5.82559\tvalidation_set-rmse:12.757\n",
      "[345]\ttrain_set-rmse:5.82457\tvalidation_set-rmse:12.7569\n",
      "[346]\ttrain_set-rmse:5.82372\tvalidation_set-rmse:12.7567\n",
      "[347]\ttrain_set-rmse:5.82334\tvalidation_set-rmse:12.7567\n",
      "[348]\ttrain_set-rmse:5.82238\tvalidation_set-rmse:12.7565\n",
      "[349]\ttrain_set-rmse:5.82141\tvalidation_set-rmse:12.7563\n",
      "[350]\ttrain_set-rmse:5.82033\tvalidation_set-rmse:12.7561\n",
      "[351]\ttrain_set-rmse:5.81991\tvalidation_set-rmse:12.7559\n",
      "[352]\ttrain_set-rmse:5.8188\tvalidation_set-rmse:12.7557\n",
      "[353]\ttrain_set-rmse:5.8179\tvalidation_set-rmse:12.7556\n",
      "[354]\ttrain_set-rmse:5.81733\tvalidation_set-rmse:12.7556\n",
      "[355]\ttrain_set-rmse:5.81702\tvalidation_set-rmse:12.7556\n",
      "[356]\ttrain_set-rmse:5.81645\tvalidation_set-rmse:12.7556\n",
      "[357]\ttrain_set-rmse:5.81575\tvalidation_set-rmse:12.755\n",
      "[358]\ttrain_set-rmse:5.81471\tvalidation_set-rmse:12.7552\n",
      "[359]\ttrain_set-rmse:5.81365\tvalidation_set-rmse:12.7551\n",
      "[360]\ttrain_set-rmse:5.81287\tvalidation_set-rmse:12.755\n",
      "[361]\ttrain_set-rmse:5.812\tvalidation_set-rmse:12.7549\n",
      "[362]\ttrain_set-rmse:5.81126\tvalidation_set-rmse:12.7549\n",
      "[363]\ttrain_set-rmse:5.81041\tvalidation_set-rmse:12.7547\n",
      "[364]\ttrain_set-rmse:5.8099\tvalidation_set-rmse:12.7546\n",
      "[365]\ttrain_set-rmse:5.80905\tvalidation_set-rmse:12.7543\n",
      "[366]\ttrain_set-rmse:5.80822\tvalidation_set-rmse:12.7543\n",
      "[367]\ttrain_set-rmse:5.80759\tvalidation_set-rmse:12.7541\n",
      "[368]\ttrain_set-rmse:5.80678\tvalidation_set-rmse:12.7539\n",
      "[369]\ttrain_set-rmse:5.80623\tvalidation_set-rmse:12.7539\n",
      "[370]\ttrain_set-rmse:5.80558\tvalidation_set-rmse:12.7537\n",
      "[371]\ttrain_set-rmse:5.80474\tvalidation_set-rmse:12.7536\n",
      "[372]\ttrain_set-rmse:5.80421\tvalidation_set-rmse:12.7536\n",
      "[373]\ttrain_set-rmse:5.80333\tvalidation_set-rmse:12.7535\n",
      "[374]\ttrain_set-rmse:5.80233\tvalidation_set-rmse:12.7531\n",
      "[375]\ttrain_set-rmse:5.80171\tvalidation_set-rmse:12.7527\n",
      "[376]\ttrain_set-rmse:5.80056\tvalidation_set-rmse:12.7518\n",
      "[377]\ttrain_set-rmse:5.79981\tvalidation_set-rmse:12.7517\n",
      "[378]\ttrain_set-rmse:5.79683\tvalidation_set-rmse:12.7513\n",
      "[379]\ttrain_set-rmse:5.79664\tvalidation_set-rmse:12.7513\n",
      "[380]\ttrain_set-rmse:5.79617\tvalidation_set-rmse:12.7511\n",
      "[381]\ttrain_set-rmse:5.79535\tvalidation_set-rmse:12.7511\n",
      "[382]\ttrain_set-rmse:5.79446\tvalidation_set-rmse:12.7512\n",
      "[383]\ttrain_set-rmse:5.79361\tvalidation_set-rmse:12.751\n",
      "[384]\ttrain_set-rmse:5.79268\tvalidation_set-rmse:12.7509\n",
      "[385]\ttrain_set-rmse:5.79186\tvalidation_set-rmse:12.7508\n",
      "[386]\ttrain_set-rmse:5.7909\tvalidation_set-rmse:12.7505\n",
      "[387]\ttrain_set-rmse:5.78998\tvalidation_set-rmse:12.7497\n",
      "[388]\ttrain_set-rmse:5.78911\tvalidation_set-rmse:12.7496\n",
      "[389]\ttrain_set-rmse:5.78876\tvalidation_set-rmse:12.7496\n",
      "[390]\ttrain_set-rmse:5.78832\tvalidation_set-rmse:12.7495\n",
      "[391]\ttrain_set-rmse:5.78787\tvalidation_set-rmse:12.7495\n",
      "[392]\ttrain_set-rmse:5.78696\tvalidation_set-rmse:12.7493\n",
      "[393]\ttrain_set-rmse:5.7861\tvalidation_set-rmse:12.749\n",
      "[394]\ttrain_set-rmse:5.78515\tvalidation_set-rmse:12.749\n",
      "[395]\ttrain_set-rmse:5.78492\tvalidation_set-rmse:12.749\n",
      "[396]\ttrain_set-rmse:5.78428\tvalidation_set-rmse:12.7488\n",
      "[397]\ttrain_set-rmse:5.78344\tvalidation_set-rmse:12.7488\n",
      "[398]\ttrain_set-rmse:5.78263\tvalidation_set-rmse:12.7488\n",
      "[399]\ttrain_set-rmse:5.78203\tvalidation_set-rmse:12.7454\n",
      "[400]\ttrain_set-rmse:5.78142\tvalidation_set-rmse:12.7449\n",
      "[401]\ttrain_set-rmse:5.78044\tvalidation_set-rmse:12.7415\n",
      "[402]\ttrain_set-rmse:5.78008\tvalidation_set-rmse:12.7413\n",
      "[403]\ttrain_set-rmse:5.77958\tvalidation_set-rmse:12.7413\n",
      "[404]\ttrain_set-rmse:5.77886\tvalidation_set-rmse:12.7411\n",
      "[405]\ttrain_set-rmse:5.77807\tvalidation_set-rmse:12.7411\n",
      "[406]\ttrain_set-rmse:5.7776\tvalidation_set-rmse:12.7406\n",
      "[407]\ttrain_set-rmse:5.77691\tvalidation_set-rmse:12.7406\n",
      "[408]\ttrain_set-rmse:5.77588\tvalidation_set-rmse:12.7393\n",
      "[409]\ttrain_set-rmse:5.77496\tvalidation_set-rmse:12.7391\n",
      "[410]\ttrain_set-rmse:5.77188\tvalidation_set-rmse:12.7388\n",
      "[411]\ttrain_set-rmse:5.77096\tvalidation_set-rmse:12.7387\n",
      "[412]\ttrain_set-rmse:5.77025\tvalidation_set-rmse:12.7386\n",
      "[413]\ttrain_set-rmse:5.76962\tvalidation_set-rmse:12.7385\n",
      "[414]\ttrain_set-rmse:5.76859\tvalidation_set-rmse:12.7384\n",
      "[415]\ttrain_set-rmse:5.76786\tvalidation_set-rmse:12.7383\n",
      "[416]\ttrain_set-rmse:5.76723\tvalidation_set-rmse:12.7383\n",
      "[417]\ttrain_set-rmse:5.76687\tvalidation_set-rmse:12.7382\n",
      "[418]\ttrain_set-rmse:5.76612\tvalidation_set-rmse:12.7372\n",
      "[419]\ttrain_set-rmse:5.76538\tvalidation_set-rmse:12.7372\n",
      "[420]\ttrain_set-rmse:5.76497\tvalidation_set-rmse:12.737\n",
      "[421]\ttrain_set-rmse:5.76448\tvalidation_set-rmse:12.737\n",
      "[422]\ttrain_set-rmse:5.76384\tvalidation_set-rmse:12.7368\n",
      "[423]\ttrain_set-rmse:5.76327\tvalidation_set-rmse:12.7368\n",
      "[424]\ttrain_set-rmse:5.7629\tvalidation_set-rmse:12.7368\n",
      "[425]\ttrain_set-rmse:5.76259\tvalidation_set-rmse:12.7368\n",
      "[426]\ttrain_set-rmse:5.76178\tvalidation_set-rmse:12.7365\n",
      "[427]\ttrain_set-rmse:5.76121\tvalidation_set-rmse:12.7364\n",
      "[428]\ttrain_set-rmse:5.76038\tvalidation_set-rmse:12.7364\n",
      "[429]\ttrain_set-rmse:5.75974\tvalidation_set-rmse:12.7352\n",
      "[430]\ttrain_set-rmse:5.75921\tvalidation_set-rmse:12.735\n",
      "[431]\ttrain_set-rmse:5.75699\tvalidation_set-rmse:12.7344\n",
      "[432]\ttrain_set-rmse:5.75655\tvalidation_set-rmse:12.7342\n",
      "[433]\ttrain_set-rmse:5.756\tvalidation_set-rmse:12.7341\n"
     ]
    },
    {
     "name": "stdout",
     "output_type": "stream",
     "text": [
      "[434]\ttrain_set-rmse:5.75547\tvalidation_set-rmse:12.7341\n",
      "[435]\ttrain_set-rmse:5.75465\tvalidation_set-rmse:12.7338\n",
      "[436]\ttrain_set-rmse:5.75396\tvalidation_set-rmse:12.7338\n",
      "[437]\ttrain_set-rmse:5.75329\tvalidation_set-rmse:12.7335\n",
      "[438]\ttrain_set-rmse:5.75264\tvalidation_set-rmse:12.7334\n",
      "[439]\ttrain_set-rmse:5.75204\tvalidation_set-rmse:12.7334\n",
      "[440]\ttrain_set-rmse:5.75085\tvalidation_set-rmse:12.7334\n",
      "[441]\ttrain_set-rmse:5.74994\tvalidation_set-rmse:12.7331\n",
      "[442]\ttrain_set-rmse:5.74932\tvalidation_set-rmse:12.7328\n",
      "[443]\ttrain_set-rmse:5.74851\tvalidation_set-rmse:12.7327\n",
      "[444]\ttrain_set-rmse:5.74804\tvalidation_set-rmse:12.7327\n",
      "[445]\ttrain_set-rmse:5.7474\tvalidation_set-rmse:12.7325\n",
      "[446]\ttrain_set-rmse:5.7467\tvalidation_set-rmse:12.7325\n",
      "[447]\ttrain_set-rmse:5.74644\tvalidation_set-rmse:12.7325\n",
      "[448]\ttrain_set-rmse:5.74617\tvalidation_set-rmse:12.7324\n",
      "[449]\ttrain_set-rmse:5.74565\tvalidation_set-rmse:12.7323\n",
      "[450]\ttrain_set-rmse:5.745\tvalidation_set-rmse:12.7322\n",
      "[451]\ttrain_set-rmse:5.74452\tvalidation_set-rmse:12.7318\n",
      "[452]\ttrain_set-rmse:5.74395\tvalidation_set-rmse:12.7299\n",
      "[453]\ttrain_set-rmse:5.74365\tvalidation_set-rmse:12.7299\n",
      "[454]\ttrain_set-rmse:5.74291\tvalidation_set-rmse:12.7299\n",
      "[455]\ttrain_set-rmse:5.74224\tvalidation_set-rmse:12.7299\n",
      "[456]\ttrain_set-rmse:5.7417\tvalidation_set-rmse:12.7299\n",
      "[457]\ttrain_set-rmse:5.74098\tvalidation_set-rmse:12.7298\n",
      "[458]\ttrain_set-rmse:5.74049\tvalidation_set-rmse:12.7298\n",
      "[459]\ttrain_set-rmse:5.73975\tvalidation_set-rmse:12.7298\n",
      "[460]\ttrain_set-rmse:5.73913\tvalidation_set-rmse:12.7297\n",
      "[461]\ttrain_set-rmse:5.73874\tvalidation_set-rmse:12.7292\n",
      "[462]\ttrain_set-rmse:5.73808\tvalidation_set-rmse:12.7292\n",
      "[463]\ttrain_set-rmse:5.73749\tvalidation_set-rmse:12.7292\n",
      "[464]\ttrain_set-rmse:5.73681\tvalidation_set-rmse:12.7292\n",
      "[465]\ttrain_set-rmse:5.73647\tvalidation_set-rmse:12.729\n",
      "[466]\ttrain_set-rmse:5.73613\tvalidation_set-rmse:12.729\n",
      "[467]\ttrain_set-rmse:5.73592\tvalidation_set-rmse:12.729\n",
      "[468]\ttrain_set-rmse:5.73542\tvalidation_set-rmse:12.7274\n",
      "[469]\ttrain_set-rmse:5.7351\tvalidation_set-rmse:12.7274\n",
      "[470]\ttrain_set-rmse:5.73443\tvalidation_set-rmse:12.7273\n",
      "[471]\ttrain_set-rmse:5.734\tvalidation_set-rmse:12.7271\n",
      "[472]\ttrain_set-rmse:5.73355\tvalidation_set-rmse:12.727\n",
      "[473]\ttrain_set-rmse:5.73325\tvalidation_set-rmse:12.727\n",
      "[474]\ttrain_set-rmse:5.73267\tvalidation_set-rmse:12.7266\n",
      "[475]\ttrain_set-rmse:5.73238\tvalidation_set-rmse:12.7266\n",
      "[476]\ttrain_set-rmse:5.73168\tvalidation_set-rmse:12.7265\n",
      "[477]\ttrain_set-rmse:5.7314\tvalidation_set-rmse:12.7265\n",
      "[478]\ttrain_set-rmse:5.73046\tvalidation_set-rmse:12.7265\n",
      "[479]\ttrain_set-rmse:5.7301\tvalidation_set-rmse:12.7265\n",
      "[480]\ttrain_set-rmse:5.72932\tvalidation_set-rmse:12.7265\n",
      "[481]\ttrain_set-rmse:5.72858\tvalidation_set-rmse:12.7263\n",
      "[482]\ttrain_set-rmse:5.72821\tvalidation_set-rmse:12.7262\n",
      "[483]\ttrain_set-rmse:5.72754\tvalidation_set-rmse:12.7261\n",
      "[484]\ttrain_set-rmse:5.72713\tvalidation_set-rmse:12.7261\n",
      "[485]\ttrain_set-rmse:5.72656\tvalidation_set-rmse:12.7261\n",
      "[486]\ttrain_set-rmse:5.72584\tvalidation_set-rmse:12.7259\n",
      "[487]\ttrain_set-rmse:5.72505\tvalidation_set-rmse:12.7255\n",
      "[488]\ttrain_set-rmse:5.72479\tvalidation_set-rmse:12.7255\n",
      "[489]\ttrain_set-rmse:5.72392\tvalidation_set-rmse:12.7249\n",
      "[490]\ttrain_set-rmse:5.72311\tvalidation_set-rmse:12.7245\n",
      "[491]\ttrain_set-rmse:5.72248\tvalidation_set-rmse:12.7245\n",
      "[492]\ttrain_set-rmse:5.72217\tvalidation_set-rmse:12.7245\n",
      "[493]\ttrain_set-rmse:5.72173\tvalidation_set-rmse:12.7244\n",
      "[494]\ttrain_set-rmse:5.72117\tvalidation_set-rmse:12.7244\n",
      "[495]\ttrain_set-rmse:5.72092\tvalidation_set-rmse:12.7243\n",
      "[496]\ttrain_set-rmse:5.72047\tvalidation_set-rmse:12.7243\n",
      "[497]\ttrain_set-rmse:5.71987\tvalidation_set-rmse:12.7243\n",
      "[498]\ttrain_set-rmse:5.71931\tvalidation_set-rmse:12.7236\n",
      "[499]\ttrain_set-rmse:5.71846\tvalidation_set-rmse:12.7235\n",
      "[500]\ttrain_set-rmse:5.71797\tvalidation_set-rmse:12.7234\n",
      "[501]\ttrain_set-rmse:5.7177\tvalidation_set-rmse:12.7234\n",
      "[502]\ttrain_set-rmse:5.7171\tvalidation_set-rmse:12.7225\n",
      "[503]\ttrain_set-rmse:5.71645\tvalidation_set-rmse:12.7224\n",
      "[504]\ttrain_set-rmse:5.71598\tvalidation_set-rmse:12.7217\n",
      "[505]\ttrain_set-rmse:5.71525\tvalidation_set-rmse:12.7217\n",
      "[506]\ttrain_set-rmse:5.71462\tvalidation_set-rmse:12.7217\n",
      "[507]\ttrain_set-rmse:5.71408\tvalidation_set-rmse:12.7217\n",
      "[508]\ttrain_set-rmse:5.71376\tvalidation_set-rmse:12.7207\n",
      "[509]\ttrain_set-rmse:5.71336\tvalidation_set-rmse:12.7207\n",
      "[510]\ttrain_set-rmse:5.71269\tvalidation_set-rmse:12.7196\n",
      "[511]\ttrain_set-rmse:5.7122\tvalidation_set-rmse:12.7178\n",
      "[512]\ttrain_set-rmse:5.71192\tvalidation_set-rmse:12.7178\n",
      "[513]\ttrain_set-rmse:5.71183\tvalidation_set-rmse:12.7178\n",
      "[514]\ttrain_set-rmse:5.71111\tvalidation_set-rmse:12.7172\n",
      "[515]\ttrain_set-rmse:5.71084\tvalidation_set-rmse:12.7172\n",
      "[516]\ttrain_set-rmse:5.71024\tvalidation_set-rmse:12.7172\n",
      "[517]\ttrain_set-rmse:5.71002\tvalidation_set-rmse:12.7172\n",
      "[518]\ttrain_set-rmse:5.70979\tvalidation_set-rmse:12.7172\n",
      "[519]\ttrain_set-rmse:5.70917\tvalidation_set-rmse:12.7158\n",
      "[520]\ttrain_set-rmse:5.70891\tvalidation_set-rmse:12.7158\n",
      "[521]\ttrain_set-rmse:5.70836\tvalidation_set-rmse:12.7157\n",
      "[522]\ttrain_set-rmse:5.70814\tvalidation_set-rmse:12.7156\n",
      "[523]\ttrain_set-rmse:5.70768\tvalidation_set-rmse:12.7156\n",
      "[524]\ttrain_set-rmse:5.70741\tvalidation_set-rmse:12.7156\n",
      "[525]\ttrain_set-rmse:5.70685\tvalidation_set-rmse:12.7146\n",
      "[526]\ttrain_set-rmse:5.70661\tvalidation_set-rmse:12.7146\n",
      "[527]\ttrain_set-rmse:5.70598\tvalidation_set-rmse:12.7143\n",
      "[528]\ttrain_set-rmse:5.70558\tvalidation_set-rmse:12.7142\n",
      "[529]\ttrain_set-rmse:5.7054\tvalidation_set-rmse:12.7142\n",
      "[530]\ttrain_set-rmse:5.70476\tvalidation_set-rmse:12.7138\n",
      "[531]\ttrain_set-rmse:5.70463\tvalidation_set-rmse:12.7137\n",
      "[532]\ttrain_set-rmse:5.70435\tvalidation_set-rmse:12.7138\n",
      "[533]\ttrain_set-rmse:5.70376\tvalidation_set-rmse:12.7137\n",
      "[534]\ttrain_set-rmse:5.70344\tvalidation_set-rmse:12.7138\n",
      "[535]\ttrain_set-rmse:5.70296\tvalidation_set-rmse:12.7138\n",
      "[536]\ttrain_set-rmse:5.70271\tvalidation_set-rmse:12.7133\n",
      "[537]\ttrain_set-rmse:5.70209\tvalidation_set-rmse:12.7133\n",
      "[538]\ttrain_set-rmse:5.70183\tvalidation_set-rmse:12.7133\n",
      "[539]\ttrain_set-rmse:5.70155\tvalidation_set-rmse:12.7133\n",
      "[540]\ttrain_set-rmse:5.70143\tvalidation_set-rmse:12.7132\n",
      "[541]\ttrain_set-rmse:5.70129\tvalidation_set-rmse:12.7132\n",
      "[542]\ttrain_set-rmse:5.70072\tvalidation_set-rmse:12.7129\n",
      "[543]\ttrain_set-rmse:5.70039\tvalidation_set-rmse:12.7129\n",
      "[544]\ttrain_set-rmse:5.69984\tvalidation_set-rmse:12.7129\n",
      "[545]\ttrain_set-rmse:5.69963\tvalidation_set-rmse:12.7129\n",
      "[546]\ttrain_set-rmse:5.69885\tvalidation_set-rmse:12.7121\n",
      "[547]\ttrain_set-rmse:5.6986\tvalidation_set-rmse:12.712\n",
      "[548]\ttrain_set-rmse:5.6982\tvalidation_set-rmse:12.712\n",
      "[549]\ttrain_set-rmse:5.69809\tvalidation_set-rmse:12.712\n",
      "[550]\ttrain_set-rmse:5.69765\tvalidation_set-rmse:12.7119\n",
      "[551]\ttrain_set-rmse:5.69709\tvalidation_set-rmse:12.7119\n",
      "[552]\ttrain_set-rmse:5.69665\tvalidation_set-rmse:12.7119\n",
      "[553]\ttrain_set-rmse:5.69637\tvalidation_set-rmse:12.7119\n",
      "[554]\ttrain_set-rmse:5.69605\tvalidation_set-rmse:12.7115\n",
      "[555]\ttrain_set-rmse:5.69564\tvalidation_set-rmse:12.7114\n",
      "[556]\ttrain_set-rmse:5.69517\tvalidation_set-rmse:12.7113\n",
      "[557]\ttrain_set-rmse:5.69452\tvalidation_set-rmse:12.7112\n",
      "[558]\ttrain_set-rmse:5.69435\tvalidation_set-rmse:12.7112\n",
      "[559]\ttrain_set-rmse:5.69369\tvalidation_set-rmse:12.7114\n",
      "[560]\ttrain_set-rmse:5.69314\tvalidation_set-rmse:12.7114\n",
      "[561]\ttrain_set-rmse:5.69292\tvalidation_set-rmse:12.7114\n",
      "[562]\ttrain_set-rmse:5.69274\tvalidation_set-rmse:12.7114\n",
      "[563]\ttrain_set-rmse:5.69219\tvalidation_set-rmse:12.7115\n",
      "[564]\ttrain_set-rmse:5.69193\tvalidation_set-rmse:12.7115\n",
      "[565]\ttrain_set-rmse:5.69151\tvalidation_set-rmse:12.7115\n",
      "[566]\ttrain_set-rmse:5.69133\tvalidation_set-rmse:12.7115\n",
      "[567]\ttrain_set-rmse:5.69068\tvalidation_set-rmse:12.7113\n",
      "[568]\ttrain_set-rmse:5.68999\tvalidation_set-rmse:12.7112\n",
      "[569]\ttrain_set-rmse:5.6898\tvalidation_set-rmse:12.7111\n",
      "[570]\ttrain_set-rmse:5.68937\tvalidation_set-rmse:12.7098\n",
      "[571]\ttrain_set-rmse:5.68901\tvalidation_set-rmse:12.7098\n",
      "[572]\ttrain_set-rmse:5.68869\tvalidation_set-rmse:12.7097\n",
      "[573]\ttrain_set-rmse:5.68819\tvalidation_set-rmse:12.7097\n",
      "[574]\ttrain_set-rmse:5.68799\tvalidation_set-rmse:12.7097\n",
      "[575]\ttrain_set-rmse:5.68565\tvalidation_set-rmse:12.7096\n",
      "[576]\ttrain_set-rmse:5.68541\tvalidation_set-rmse:12.7095\n",
      "[577]\ttrain_set-rmse:5.68503\tvalidation_set-rmse:12.7095\n",
      "[578]\ttrain_set-rmse:5.68453\tvalidation_set-rmse:12.7095\n"
     ]
    },
    {
     "name": "stdout",
     "output_type": "stream",
     "text": [
      "[579]\ttrain_set-rmse:5.68369\tvalidation_set-rmse:12.7094\n",
      "[580]\ttrain_set-rmse:5.6831\tvalidation_set-rmse:12.7093\n",
      "[581]\ttrain_set-rmse:5.68268\tvalidation_set-rmse:12.7092\n",
      "[582]\ttrain_set-rmse:5.68247\tvalidation_set-rmse:12.7092\n",
      "[583]\ttrain_set-rmse:5.68227\tvalidation_set-rmse:12.7092\n",
      "[584]\ttrain_set-rmse:5.68184\tvalidation_set-rmse:12.7091\n",
      "[585]\ttrain_set-rmse:5.68159\tvalidation_set-rmse:12.7089\n",
      "[586]\ttrain_set-rmse:5.68127\tvalidation_set-rmse:12.7089\n",
      "[587]\ttrain_set-rmse:5.68068\tvalidation_set-rmse:12.7089\n",
      "[588]\ttrain_set-rmse:5.68051\tvalidation_set-rmse:12.709\n",
      "[589]\ttrain_set-rmse:5.6802\tvalidation_set-rmse:12.7089\n",
      "[590]\ttrain_set-rmse:5.68006\tvalidation_set-rmse:12.7089\n",
      "[591]\ttrain_set-rmse:5.67975\tvalidation_set-rmse:12.7089\n",
      "[592]\ttrain_set-rmse:5.67922\tvalidation_set-rmse:12.7089\n",
      "[593]\ttrain_set-rmse:5.67878\tvalidation_set-rmse:12.7089\n",
      "[594]\ttrain_set-rmse:5.67854\tvalidation_set-rmse:12.7088\n",
      "[595]\ttrain_set-rmse:5.67804\tvalidation_set-rmse:12.7088\n",
      "[596]\ttrain_set-rmse:5.67732\tvalidation_set-rmse:12.7087\n",
      "[597]\ttrain_set-rmse:5.67697\tvalidation_set-rmse:12.7087\n",
      "[598]\ttrain_set-rmse:5.67682\tvalidation_set-rmse:12.7087\n",
      "[599]\ttrain_set-rmse:5.67668\tvalidation_set-rmse:12.7079\n",
      "[600]\ttrain_set-rmse:5.67604\tvalidation_set-rmse:12.7082\n",
      "[601]\ttrain_set-rmse:5.67581\tvalidation_set-rmse:12.7081\n",
      "[602]\ttrain_set-rmse:5.67532\tvalidation_set-rmse:12.7081\n",
      "[603]\ttrain_set-rmse:5.67496\tvalidation_set-rmse:12.7081\n",
      "[604]\ttrain_set-rmse:5.67457\tvalidation_set-rmse:12.7081\n",
      "[605]\ttrain_set-rmse:5.67424\tvalidation_set-rmse:12.708\n",
      "[606]\ttrain_set-rmse:5.67373\tvalidation_set-rmse:12.708\n",
      "[607]\ttrain_set-rmse:5.67303\tvalidation_set-rmse:12.7079\n",
      "[608]\ttrain_set-rmse:5.67283\tvalidation_set-rmse:12.7076\n",
      "[609]\ttrain_set-rmse:5.67249\tvalidation_set-rmse:12.7076\n",
      "[610]\ttrain_set-rmse:5.67214\tvalidation_set-rmse:12.7076\n",
      "[611]\ttrain_set-rmse:5.67199\tvalidation_set-rmse:12.7076\n",
      "[612]\ttrain_set-rmse:5.67158\tvalidation_set-rmse:12.7076\n",
      "[613]\ttrain_set-rmse:5.67105\tvalidation_set-rmse:12.7075\n",
      "[614]\ttrain_set-rmse:5.67082\tvalidation_set-rmse:12.7073\n",
      "[615]\ttrain_set-rmse:5.6704\tvalidation_set-rmse:12.7073\n",
      "[616]\ttrain_set-rmse:5.67028\tvalidation_set-rmse:12.7073\n",
      "[617]\ttrain_set-rmse:5.66998\tvalidation_set-rmse:12.7073\n",
      "[618]\ttrain_set-rmse:5.6694\tvalidation_set-rmse:12.7073\n",
      "[619]\ttrain_set-rmse:5.66904\tvalidation_set-rmse:12.7073\n",
      "[620]\ttrain_set-rmse:5.66861\tvalidation_set-rmse:12.7072\n",
      "[621]\ttrain_set-rmse:5.6684\tvalidation_set-rmse:12.7072\n",
      "[622]\ttrain_set-rmse:5.66817\tvalidation_set-rmse:12.7072\n",
      "[623]\ttrain_set-rmse:5.6676\tvalidation_set-rmse:12.7071\n",
      "[624]\ttrain_set-rmse:5.66715\tvalidation_set-rmse:12.7071\n",
      "[625]\ttrain_set-rmse:5.66668\tvalidation_set-rmse:12.707\n",
      "[626]\ttrain_set-rmse:5.66617\tvalidation_set-rmse:12.707\n",
      "[627]\ttrain_set-rmse:5.66571\tvalidation_set-rmse:12.7069\n",
      "[628]\ttrain_set-rmse:5.66559\tvalidation_set-rmse:12.7069\n",
      "[629]\ttrain_set-rmse:5.66543\tvalidation_set-rmse:12.7067\n",
      "[630]\ttrain_set-rmse:5.66486\tvalidation_set-rmse:12.7068\n",
      "[631]\ttrain_set-rmse:5.66472\tvalidation_set-rmse:12.7068\n",
      "[632]\ttrain_set-rmse:5.66452\tvalidation_set-rmse:12.7067\n",
      "[633]\ttrain_set-rmse:5.66446\tvalidation_set-rmse:12.7067\n",
      "[634]\ttrain_set-rmse:5.66425\tvalidation_set-rmse:12.7067\n",
      "[635]\ttrain_set-rmse:5.66405\tvalidation_set-rmse:12.7067\n",
      "[636]\ttrain_set-rmse:5.66392\tvalidation_set-rmse:12.7067\n",
      "[637]\ttrain_set-rmse:5.66328\tvalidation_set-rmse:12.7044\n",
      "[638]\ttrain_set-rmse:5.66317\tvalidation_set-rmse:12.7044\n",
      "[639]\ttrain_set-rmse:5.66305\tvalidation_set-rmse:12.7044\n",
      "[640]\ttrain_set-rmse:5.66275\tvalidation_set-rmse:12.7044\n",
      "[641]\ttrain_set-rmse:5.66266\tvalidation_set-rmse:12.7044\n",
      "[642]\ttrain_set-rmse:5.66234\tvalidation_set-rmse:12.7044\n",
      "[643]\ttrain_set-rmse:5.66223\tvalidation_set-rmse:12.7044\n",
      "[644]\ttrain_set-rmse:5.66146\tvalidation_set-rmse:12.7038\n",
      "[645]\ttrain_set-rmse:5.66139\tvalidation_set-rmse:12.7038\n",
      "[646]\ttrain_set-rmse:5.66102\tvalidation_set-rmse:12.7037\n",
      "[647]\ttrain_set-rmse:5.66055\tvalidation_set-rmse:12.7037\n",
      "[648]\ttrain_set-rmse:5.66041\tvalidation_set-rmse:12.7037\n",
      "[649]\ttrain_set-rmse:5.66022\tvalidation_set-rmse:12.7037\n",
      "[650]\ttrain_set-rmse:5.65986\tvalidation_set-rmse:12.7037\n",
      "[651]\ttrain_set-rmse:5.6597\tvalidation_set-rmse:12.7037\n",
      "[652]\ttrain_set-rmse:5.65953\tvalidation_set-rmse:12.7037\n",
      "[653]\ttrain_set-rmse:5.65918\tvalidation_set-rmse:12.7037\n",
      "[654]\ttrain_set-rmse:5.65901\tvalidation_set-rmse:12.7021\n",
      "[655]\ttrain_set-rmse:5.65849\tvalidation_set-rmse:12.7014\n",
      "[656]\ttrain_set-rmse:5.65799\tvalidation_set-rmse:12.7014\n",
      "[657]\ttrain_set-rmse:5.65772\tvalidation_set-rmse:12.7014\n",
      "[658]\ttrain_set-rmse:5.65755\tvalidation_set-rmse:12.7014\n",
      "[659]\ttrain_set-rmse:5.65738\tvalidation_set-rmse:12.7013\n",
      "[660]\ttrain_set-rmse:5.65728\tvalidation_set-rmse:12.7013\n",
      "[661]\ttrain_set-rmse:5.65712\tvalidation_set-rmse:12.7013\n",
      "[662]\ttrain_set-rmse:5.65697\tvalidation_set-rmse:12.7013\n",
      "[663]\ttrain_set-rmse:5.65686\tvalidation_set-rmse:12.7013\n",
      "[664]\ttrain_set-rmse:5.65637\tvalidation_set-rmse:12.7013\n",
      "[665]\ttrain_set-rmse:5.65614\tvalidation_set-rmse:12.7012\n",
      "[666]\ttrain_set-rmse:5.65576\tvalidation_set-rmse:12.7004\n",
      "[667]\ttrain_set-rmse:5.65554\tvalidation_set-rmse:12.7004\n",
      "[668]\ttrain_set-rmse:5.65519\tvalidation_set-rmse:12.7004\n",
      "[669]\ttrain_set-rmse:5.65485\tvalidation_set-rmse:12.7003\n",
      "[670]\ttrain_set-rmse:5.65457\tvalidation_set-rmse:12.7002\n",
      "[671]\ttrain_set-rmse:5.65427\tvalidation_set-rmse:12.7002\n",
      "[672]\ttrain_set-rmse:5.65409\tvalidation_set-rmse:12.7002\n",
      "[673]\ttrain_set-rmse:5.65387\tvalidation_set-rmse:12.7002\n",
      "[674]\ttrain_set-rmse:5.65348\tvalidation_set-rmse:12.7004\n",
      "[675]\ttrain_set-rmse:5.65339\tvalidation_set-rmse:12.7004\n",
      "[676]\ttrain_set-rmse:5.6533\tvalidation_set-rmse:12.7004\n",
      "[677]\ttrain_set-rmse:5.65136\tvalidation_set-rmse:12.7003\n",
      "[678]\ttrain_set-rmse:5.65078\tvalidation_set-rmse:12.6999\n",
      "[679]\ttrain_set-rmse:5.65057\tvalidation_set-rmse:12.6999\n",
      "[680]\ttrain_set-rmse:5.65032\tvalidation_set-rmse:12.6998\n",
      "[681]\ttrain_set-rmse:5.6499\tvalidation_set-rmse:12.6998\n",
      "[682]\ttrain_set-rmse:5.64919\tvalidation_set-rmse:12.6999\n",
      "[683]\ttrain_set-rmse:5.64887\tvalidation_set-rmse:12.6998\n",
      "[684]\ttrain_set-rmse:5.64876\tvalidation_set-rmse:12.6998\n",
      "[685]\ttrain_set-rmse:5.64862\tvalidation_set-rmse:12.6998\n",
      "[686]\ttrain_set-rmse:5.64841\tvalidation_set-rmse:12.6998\n",
      "[687]\ttrain_set-rmse:5.64807\tvalidation_set-rmse:12.6998\n",
      "[688]\ttrain_set-rmse:5.64745\tvalidation_set-rmse:12.6989\n",
      "[689]\ttrain_set-rmse:5.64732\tvalidation_set-rmse:12.6989\n",
      "[690]\ttrain_set-rmse:5.64727\tvalidation_set-rmse:12.6978\n",
      "[691]\ttrain_set-rmse:5.64709\tvalidation_set-rmse:12.6978\n",
      "[692]\ttrain_set-rmse:5.64557\tvalidation_set-rmse:12.6976\n",
      "[693]\ttrain_set-rmse:5.64531\tvalidation_set-rmse:12.6976\n",
      "[694]\ttrain_set-rmse:5.64516\tvalidation_set-rmse:12.6975\n",
      "[695]\ttrain_set-rmse:5.64499\tvalidation_set-rmse:12.6975\n",
      "[696]\ttrain_set-rmse:5.64456\tvalidation_set-rmse:12.6975\n",
      "[697]\ttrain_set-rmse:5.64451\tvalidation_set-rmse:12.6975\n",
      "[698]\ttrain_set-rmse:5.64435\tvalidation_set-rmse:12.6973\n",
      "[699]\ttrain_set-rmse:5.64397\tvalidation_set-rmse:12.6973\n",
      "[700]\ttrain_set-rmse:5.64368\tvalidation_set-rmse:12.6973\n",
      "[701]\ttrain_set-rmse:5.64312\tvalidation_set-rmse:12.6965\n",
      "[702]\ttrain_set-rmse:5.64299\tvalidation_set-rmse:12.6965\n",
      "[703]\ttrain_set-rmse:5.64227\tvalidation_set-rmse:12.6962\n",
      "[704]\ttrain_set-rmse:5.64213\tvalidation_set-rmse:12.6962\n",
      "[705]\ttrain_set-rmse:5.64184\tvalidation_set-rmse:12.6962\n",
      "[706]\ttrain_set-rmse:5.64123\tvalidation_set-rmse:12.6961\n",
      "[707]\ttrain_set-rmse:5.64119\tvalidation_set-rmse:12.6961\n",
      "[708]\ttrain_set-rmse:5.64103\tvalidation_set-rmse:12.6961\n",
      "[709]\ttrain_set-rmse:5.64046\tvalidation_set-rmse:12.6958\n",
      "[710]\ttrain_set-rmse:5.64003\tvalidation_set-rmse:12.6958\n",
      "[711]\ttrain_set-rmse:5.63982\tvalidation_set-rmse:12.6957\n",
      "[712]\ttrain_set-rmse:5.63976\tvalidation_set-rmse:12.6957\n",
      "[713]\ttrain_set-rmse:5.63923\tvalidation_set-rmse:12.6955\n",
      "[714]\ttrain_set-rmse:5.63901\tvalidation_set-rmse:12.6954\n",
      "[715]\ttrain_set-rmse:5.6388\tvalidation_set-rmse:12.6953\n",
      "[716]\ttrain_set-rmse:5.63845\tvalidation_set-rmse:12.6953\n",
      "[717]\ttrain_set-rmse:5.63802\tvalidation_set-rmse:12.6948\n",
      "[718]\ttrain_set-rmse:5.63732\tvalidation_set-rmse:12.6945\n",
      "[719]\ttrain_set-rmse:5.63721\tvalidation_set-rmse:12.6944\n",
      "[720]\ttrain_set-rmse:5.63691\tvalidation_set-rmse:12.6943\n",
      "[721]\ttrain_set-rmse:5.63654\tvalidation_set-rmse:12.6941\n",
      "[722]\ttrain_set-rmse:5.63599\tvalidation_set-rmse:12.6935\n"
     ]
    },
    {
     "name": "stdout",
     "output_type": "stream",
     "text": [
      "[723]\ttrain_set-rmse:5.63575\tvalidation_set-rmse:12.6936\n",
      "[724]\ttrain_set-rmse:5.63514\tvalidation_set-rmse:12.6936\n",
      "[725]\ttrain_set-rmse:5.63506\tvalidation_set-rmse:12.6928\n",
      "[726]\ttrain_set-rmse:5.63489\tvalidation_set-rmse:12.6928\n",
      "[727]\ttrain_set-rmse:5.63465\tvalidation_set-rmse:12.6927\n",
      "[728]\ttrain_set-rmse:5.63443\tvalidation_set-rmse:12.6918\n",
      "[729]\ttrain_set-rmse:5.63427\tvalidation_set-rmse:12.6918\n",
      "[730]\ttrain_set-rmse:5.63381\tvalidation_set-rmse:12.6917\n",
      "[731]\ttrain_set-rmse:5.63138\tvalidation_set-rmse:12.6915\n",
      "[732]\ttrain_set-rmse:5.63084\tvalidation_set-rmse:12.6915\n",
      "[733]\ttrain_set-rmse:5.63072\tvalidation_set-rmse:12.6915\n",
      "[734]\ttrain_set-rmse:5.63058\tvalidation_set-rmse:12.6915\n",
      "[735]\ttrain_set-rmse:5.63051\tvalidation_set-rmse:12.6915\n",
      "[736]\ttrain_set-rmse:5.63036\tvalidation_set-rmse:12.6915\n",
      "[737]\ttrain_set-rmse:5.62998\tvalidation_set-rmse:12.6899\n",
      "[738]\ttrain_set-rmse:5.62985\tvalidation_set-rmse:12.6899\n",
      "[739]\ttrain_set-rmse:5.62973\tvalidation_set-rmse:12.6897\n",
      "[740]\ttrain_set-rmse:5.62945\tvalidation_set-rmse:12.6897\n",
      "[741]\ttrain_set-rmse:5.6293\tvalidation_set-rmse:12.6897\n",
      "[742]\ttrain_set-rmse:5.62903\tvalidation_set-rmse:12.6897\n",
      "[743]\ttrain_set-rmse:5.6289\tvalidation_set-rmse:12.6897\n",
      "[744]\ttrain_set-rmse:5.62841\tvalidation_set-rmse:12.6897\n",
      "[745]\ttrain_set-rmse:5.62804\tvalidation_set-rmse:12.6897\n",
      "[746]\ttrain_set-rmse:5.62757\tvalidation_set-rmse:12.6897\n",
      "[747]\ttrain_set-rmse:5.62748\tvalidation_set-rmse:12.6897\n",
      "[748]\ttrain_set-rmse:5.62726\tvalidation_set-rmse:12.6896\n",
      "[749]\ttrain_set-rmse:5.62695\tvalidation_set-rmse:12.6893\n",
      "[750]\ttrain_set-rmse:5.62675\tvalidation_set-rmse:12.6893\n",
      "[751]\ttrain_set-rmse:5.62641\tvalidation_set-rmse:12.6871\n",
      "[752]\ttrain_set-rmse:5.62615\tvalidation_set-rmse:12.6871\n",
      "[753]\ttrain_set-rmse:5.62574\tvalidation_set-rmse:12.6866\n",
      "[754]\ttrain_set-rmse:5.62564\tvalidation_set-rmse:12.6866\n",
      "[755]\ttrain_set-rmse:5.62552\tvalidation_set-rmse:12.6866\n",
      "[756]\ttrain_set-rmse:5.62509\tvalidation_set-rmse:12.686\n",
      "[757]\ttrain_set-rmse:5.62466\tvalidation_set-rmse:12.6859\n",
      "[758]\ttrain_set-rmse:5.62441\tvalidation_set-rmse:12.6859\n",
      "[759]\ttrain_set-rmse:5.62432\tvalidation_set-rmse:12.6853\n",
      "[760]\ttrain_set-rmse:5.62416\tvalidation_set-rmse:12.6853\n",
      "[761]\ttrain_set-rmse:5.62385\tvalidation_set-rmse:12.6853\n",
      "[762]\ttrain_set-rmse:5.62376\tvalidation_set-rmse:12.6853\n",
      "[763]\ttrain_set-rmse:5.62364\tvalidation_set-rmse:12.6853\n",
      "[764]\ttrain_set-rmse:5.62353\tvalidation_set-rmse:12.6853\n",
      "[765]\ttrain_set-rmse:5.62344\tvalidation_set-rmse:12.6853\n",
      "[766]\ttrain_set-rmse:5.62331\tvalidation_set-rmse:12.6853\n",
      "[767]\ttrain_set-rmse:5.62316\tvalidation_set-rmse:12.6853\n",
      "[768]\ttrain_set-rmse:5.62301\tvalidation_set-rmse:12.6853\n",
      "[769]\ttrain_set-rmse:5.62281\tvalidation_set-rmse:12.6853\n",
      "[770]\ttrain_set-rmse:5.62268\tvalidation_set-rmse:12.6854\n",
      "[771]\ttrain_set-rmse:5.62232\tvalidation_set-rmse:12.6853\n",
      "[772]\ttrain_set-rmse:5.62207\tvalidation_set-rmse:12.6856\n",
      "[773]\ttrain_set-rmse:5.62173\tvalidation_set-rmse:12.6856\n",
      "[774]\ttrain_set-rmse:5.62159\tvalidation_set-rmse:12.6856\n",
      "[775]\ttrain_set-rmse:5.62158\tvalidation_set-rmse:12.6856\n",
      "[776]\ttrain_set-rmse:5.62107\tvalidation_set-rmse:12.6855\n",
      "[777]\ttrain_set-rmse:5.62071\tvalidation_set-rmse:12.6855\n",
      "[778]\ttrain_set-rmse:5.62056\tvalidation_set-rmse:12.6855\n",
      "[779]\ttrain_set-rmse:5.6201\tvalidation_set-rmse:12.6855\n",
      "[780]\ttrain_set-rmse:5.61967\tvalidation_set-rmse:12.6853\n",
      "[781]\ttrain_set-rmse:5.6195\tvalidation_set-rmse:12.6852\n",
      "[782]\ttrain_set-rmse:5.61884\tvalidation_set-rmse:12.6849\n",
      "[783]\ttrain_set-rmse:5.61881\tvalidation_set-rmse:12.6849\n",
      "[784]\ttrain_set-rmse:5.6186\tvalidation_set-rmse:12.6849\n",
      "[785]\ttrain_set-rmse:5.61811\tvalidation_set-rmse:12.6847\n",
      "[786]\ttrain_set-rmse:5.61791\tvalidation_set-rmse:12.6846\n",
      "[787]\ttrain_set-rmse:5.61777\tvalidation_set-rmse:12.6846\n",
      "[788]\ttrain_set-rmse:5.61762\tvalidation_set-rmse:12.6836\n",
      "[789]\ttrain_set-rmse:5.61746\tvalidation_set-rmse:12.6835\n",
      "[790]\ttrain_set-rmse:5.61732\tvalidation_set-rmse:12.6835\n",
      "[791]\ttrain_set-rmse:5.61708\tvalidation_set-rmse:12.6835\n",
      "[792]\ttrain_set-rmse:5.61692\tvalidation_set-rmse:12.6835\n",
      "[793]\ttrain_set-rmse:5.61682\tvalidation_set-rmse:12.6835\n",
      "[794]\ttrain_set-rmse:5.61633\tvalidation_set-rmse:12.6832\n",
      "[795]\ttrain_set-rmse:5.61607\tvalidation_set-rmse:12.6832\n",
      "[796]\ttrain_set-rmse:5.61608\tvalidation_set-rmse:12.6832\n",
      "[797]\ttrain_set-rmse:5.61583\tvalidation_set-rmse:12.6832\n",
      "[798]\ttrain_set-rmse:5.61536\tvalidation_set-rmse:12.683\n",
      "[799]\ttrain_set-rmse:5.61503\tvalidation_set-rmse:12.6825\n",
      "[800]\ttrain_set-rmse:5.61457\tvalidation_set-rmse:12.6817\n",
      "[801]\ttrain_set-rmse:5.61333\tvalidation_set-rmse:12.6815\n",
      "[802]\ttrain_set-rmse:5.613\tvalidation_set-rmse:12.6815\n",
      "[803]\ttrain_set-rmse:5.61283\tvalidation_set-rmse:12.6815\n",
      "[804]\ttrain_set-rmse:5.61259\tvalidation_set-rmse:12.6815\n",
      "[805]\ttrain_set-rmse:5.61249\tvalidation_set-rmse:12.6815\n",
      "[806]\ttrain_set-rmse:5.61219\tvalidation_set-rmse:12.6815\n",
      "[807]\ttrain_set-rmse:5.61198\tvalidation_set-rmse:12.6814\n",
      "[808]\ttrain_set-rmse:5.6118\tvalidation_set-rmse:12.6814\n",
      "[809]\ttrain_set-rmse:5.61168\tvalidation_set-rmse:12.6814\n",
      "[810]\ttrain_set-rmse:5.6116\tvalidation_set-rmse:12.6814\n",
      "[811]\ttrain_set-rmse:5.61139\tvalidation_set-rmse:12.6813\n",
      "[812]\ttrain_set-rmse:5.61112\tvalidation_set-rmse:12.6813\n",
      "[813]\ttrain_set-rmse:5.61065\tvalidation_set-rmse:12.6811\n",
      "[814]\ttrain_set-rmse:5.60927\tvalidation_set-rmse:12.681\n",
      "[815]\ttrain_set-rmse:5.60901\tvalidation_set-rmse:12.681\n",
      "[816]\ttrain_set-rmse:5.60888\tvalidation_set-rmse:12.681\n",
      "[817]\ttrain_set-rmse:5.60863\tvalidation_set-rmse:12.681\n",
      "[818]\ttrain_set-rmse:5.60862\tvalidation_set-rmse:12.681\n",
      "[819]\ttrain_set-rmse:5.60834\tvalidation_set-rmse:12.681\n",
      "[820]\ttrain_set-rmse:5.6082\tvalidation_set-rmse:12.6807\n",
      "[821]\ttrain_set-rmse:5.60786\tvalidation_set-rmse:12.6805\n",
      "[822]\ttrain_set-rmse:5.60762\tvalidation_set-rmse:12.6805\n",
      "[823]\ttrain_set-rmse:5.60734\tvalidation_set-rmse:12.6805\n",
      "[824]\ttrain_set-rmse:5.60705\tvalidation_set-rmse:12.6805\n",
      "[825]\ttrain_set-rmse:5.60685\tvalidation_set-rmse:12.6805\n",
      "[826]\ttrain_set-rmse:5.60658\tvalidation_set-rmse:12.6804\n",
      "[827]\ttrain_set-rmse:5.60631\tvalidation_set-rmse:12.6804\n",
      "[828]\ttrain_set-rmse:5.6062\tvalidation_set-rmse:12.6804\n",
      "[829]\ttrain_set-rmse:5.60597\tvalidation_set-rmse:12.6802\n",
      "[830]\ttrain_set-rmse:5.60585\tvalidation_set-rmse:12.679\n",
      "[831]\ttrain_set-rmse:5.60571\tvalidation_set-rmse:12.6789\n",
      "[832]\ttrain_set-rmse:5.60556\tvalidation_set-rmse:12.6783\n",
      "[833]\ttrain_set-rmse:5.60544\tvalidation_set-rmse:12.6783\n",
      "[834]\ttrain_set-rmse:5.60537\tvalidation_set-rmse:12.6783\n",
      "[835]\ttrain_set-rmse:5.60485\tvalidation_set-rmse:12.679\n",
      "[836]\ttrain_set-rmse:5.6045\tvalidation_set-rmse:12.679\n",
      "[837]\ttrain_set-rmse:5.60426\tvalidation_set-rmse:12.679\n",
      "[838]\ttrain_set-rmse:5.60411\tvalidation_set-rmse:12.6789\n",
      "[839]\ttrain_set-rmse:5.60335\tvalidation_set-rmse:12.6764\n",
      "[840]\ttrain_set-rmse:5.60311\tvalidation_set-rmse:12.6764\n",
      "[841]\ttrain_set-rmse:5.60279\tvalidation_set-rmse:12.6764\n",
      "[842]\ttrain_set-rmse:5.60272\tvalidation_set-rmse:12.6753\n",
      "[843]\ttrain_set-rmse:5.60259\tvalidation_set-rmse:12.6753\n",
      "[844]\ttrain_set-rmse:5.60239\tvalidation_set-rmse:12.6753\n",
      "[845]\ttrain_set-rmse:5.60216\tvalidation_set-rmse:12.6753\n",
      "[846]\ttrain_set-rmse:5.60207\tvalidation_set-rmse:12.6753\n",
      "[847]\ttrain_set-rmse:5.60182\tvalidation_set-rmse:12.6752\n",
      "[848]\ttrain_set-rmse:5.60172\tvalidation_set-rmse:12.6752\n",
      "[849]\ttrain_set-rmse:5.60134\tvalidation_set-rmse:12.6751\n",
      "[850]\ttrain_set-rmse:5.60131\tvalidation_set-rmse:12.6751\n",
      "[851]\ttrain_set-rmse:5.60126\tvalidation_set-rmse:12.675\n",
      "[852]\ttrain_set-rmse:5.60064\tvalidation_set-rmse:12.6748\n",
      "[853]\ttrain_set-rmse:5.60036\tvalidation_set-rmse:12.6747\n",
      "[854]\ttrain_set-rmse:5.60028\tvalidation_set-rmse:12.6747\n",
      "[855]\ttrain_set-rmse:5.59998\tvalidation_set-rmse:12.6747\n",
      "[856]\ttrain_set-rmse:5.59985\tvalidation_set-rmse:12.6747\n",
      "[857]\ttrain_set-rmse:5.59973\tvalidation_set-rmse:12.6747\n",
      "[858]\ttrain_set-rmse:5.59942\tvalidation_set-rmse:12.6746\n",
      "[859]\ttrain_set-rmse:5.59933\tvalidation_set-rmse:12.6746\n",
      "[860]\ttrain_set-rmse:5.59902\tvalidation_set-rmse:12.6755\n",
      "[861]\ttrain_set-rmse:5.59892\tvalidation_set-rmse:12.6755\n",
      "[862]\ttrain_set-rmse:5.59869\tvalidation_set-rmse:12.6755\n",
      "[863]\ttrain_set-rmse:5.59864\tvalidation_set-rmse:12.6755\n",
      "[864]\ttrain_set-rmse:5.59861\tvalidation_set-rmse:12.6755\n",
      "[865]\ttrain_set-rmse:5.59823\tvalidation_set-rmse:12.6755\n",
      "[866]\ttrain_set-rmse:5.59813\tvalidation_set-rmse:12.6755\n",
      "[867]\ttrain_set-rmse:5.59788\tvalidation_set-rmse:12.6755\n"
     ]
    },
    {
     "name": "stdout",
     "output_type": "stream",
     "text": [
      "[868]\ttrain_set-rmse:5.59771\tvalidation_set-rmse:12.6755\n",
      "[869]\ttrain_set-rmse:5.59762\tvalidation_set-rmse:12.6755\n",
      "[870]\ttrain_set-rmse:5.59744\tvalidation_set-rmse:12.6755\n",
      "[871]\ttrain_set-rmse:5.59739\tvalidation_set-rmse:12.6755\n",
      "[872]\ttrain_set-rmse:5.59699\tvalidation_set-rmse:12.6754\n",
      "[873]\ttrain_set-rmse:5.59678\tvalidation_set-rmse:12.6754\n",
      "[874]\ttrain_set-rmse:5.59659\tvalidation_set-rmse:12.6754\n",
      "[875]\ttrain_set-rmse:5.59658\tvalidation_set-rmse:12.6754\n",
      "[876]\ttrain_set-rmse:5.59647\tvalidation_set-rmse:12.6754\n",
      "[877]\ttrain_set-rmse:5.59636\tvalidation_set-rmse:12.6755\n",
      "[878]\ttrain_set-rmse:5.59613\tvalidation_set-rmse:12.6755\n",
      "[879]\ttrain_set-rmse:5.59582\tvalidation_set-rmse:12.6755\n",
      "[880]\ttrain_set-rmse:5.59555\tvalidation_set-rmse:12.6747\n",
      "[881]\ttrain_set-rmse:5.59538\tvalidation_set-rmse:12.6747\n",
      "[882]\ttrain_set-rmse:5.59467\tvalidation_set-rmse:12.6747\n",
      "[883]\ttrain_set-rmse:5.59449\tvalidation_set-rmse:12.6744\n",
      "[884]\ttrain_set-rmse:5.59419\tvalidation_set-rmse:12.6744\n",
      "[885]\ttrain_set-rmse:5.59401\tvalidation_set-rmse:12.6744\n",
      "[886]\ttrain_set-rmse:5.59389\tvalidation_set-rmse:12.6744\n",
      "[887]\ttrain_set-rmse:5.59369\tvalidation_set-rmse:12.6744\n",
      "[888]\ttrain_set-rmse:5.59361\tvalidation_set-rmse:12.6743\n",
      "[889]\ttrain_set-rmse:5.59358\tvalidation_set-rmse:12.6744\n",
      "[890]\ttrain_set-rmse:5.59345\tvalidation_set-rmse:12.6743\n",
      "[891]\ttrain_set-rmse:5.59336\tvalidation_set-rmse:12.6743\n",
      "[892]\ttrain_set-rmse:5.59313\tvalidation_set-rmse:12.6744\n",
      "[893]\ttrain_set-rmse:5.59294\tvalidation_set-rmse:12.6744\n",
      "[894]\ttrain_set-rmse:5.59285\tvalidation_set-rmse:12.6744\n",
      "[895]\ttrain_set-rmse:5.59246\tvalidation_set-rmse:12.6745\n",
      "[896]\ttrain_set-rmse:5.59218\tvalidation_set-rmse:12.6745\n",
      "[897]\ttrain_set-rmse:5.59212\tvalidation_set-rmse:12.6745\n",
      "[898]\ttrain_set-rmse:5.59172\tvalidation_set-rmse:12.675\n",
      "[899]\ttrain_set-rmse:5.59137\tvalidation_set-rmse:12.6748\n",
      "[900]\ttrain_set-rmse:5.59122\tvalidation_set-rmse:12.6749\n",
      "[901]\ttrain_set-rmse:5.59107\tvalidation_set-rmse:12.6748\n",
      "[902]\ttrain_set-rmse:5.5909\tvalidation_set-rmse:12.6748\n",
      "[903]\ttrain_set-rmse:5.59063\tvalidation_set-rmse:12.6748\n",
      "[904]\ttrain_set-rmse:5.59057\tvalidation_set-rmse:12.6748\n",
      "[905]\ttrain_set-rmse:5.59046\tvalidation_set-rmse:12.6748\n",
      "[906]\ttrain_set-rmse:5.5902\tvalidation_set-rmse:12.6748\n",
      "[907]\ttrain_set-rmse:5.58999\tvalidation_set-rmse:12.6748\n",
      "[908]\ttrain_set-rmse:5.58991\tvalidation_set-rmse:12.6748\n",
      "[909]\ttrain_set-rmse:5.58973\tvalidation_set-rmse:12.6748\n",
      "[910]\ttrain_set-rmse:5.58964\tvalidation_set-rmse:12.6748\n",
      "[911]\ttrain_set-rmse:5.5895\tvalidation_set-rmse:12.6748\n",
      "[912]\ttrain_set-rmse:5.58942\tvalidation_set-rmse:12.6748\n",
      "[913]\ttrain_set-rmse:5.58929\tvalidation_set-rmse:12.6747\n",
      "[914]\ttrain_set-rmse:5.58899\tvalidation_set-rmse:12.6747\n",
      "[915]\ttrain_set-rmse:5.58883\tvalidation_set-rmse:12.6745\n",
      "[916]\ttrain_set-rmse:5.58868\tvalidation_set-rmse:12.6745\n",
      "[917]\ttrain_set-rmse:5.58845\tvalidation_set-rmse:12.6745\n",
      "[918]\ttrain_set-rmse:5.58824\tvalidation_set-rmse:12.6745\n",
      "Stopping. Best iteration:\n",
      "[888]\ttrain_set-rmse:5.59361\tvalidation_set-rmse:12.6743\n",
      "\n"
     ]
    }
   ],
   "source": [
    "progress2 = {}\n",
    "xgb_model_2_001_05 = xgboost.train(params2, xg_train_33,early_stopping_rounds=30,evals = [(xg_train_33 , \"train_set\"),(xg_val_33,\"validation_set\")], evals_result=progress2\n",
    "                                         ,num_boost_round=1000)"
   ]
  },
  {
   "cell_type": "code",
   "execution_count": 225,
   "metadata": {},
   "outputs": [
    {
     "data": {
      "image/png": "[encoded data removed]",
      "text/plain": [
       "<Figure size 432x288 with 1 Axes>"
      ]
     },
     "metadata": {},
     "output_type": "display_data"
    }
   ],
   "source": [
    "plt.plot(progress2['train_set']['rmse'])\n",
    "plt.plot(progress2['validation_set']['rmse'])\n",
    "plt.show()"
   ]
  },
  {
   "cell_type": "code",
   "execution_count": 224,
   "metadata": {},
   "outputs": [
    {
     "data": {
      "image/png": "[encoded data removed]",
      "text/plain": [
       "<Figure size 432x288 with 1 Axes>"
      ]
     },
     "metadata": {},
     "output_type": "display_data"
    }
   ],
   "source": [
    "for_plot = pd.DataFrame([(v, k) for k, v in xgb_model_2_001_05.get_fscore().items()])\n",
    "plt.figure()\n",
    "for_plot.sort_values(0,inplace=True)\n",
    "sns.barplot(x = for_plot[1], y =for_plot[0])\n",
    "plt.xticks(rotation = 90)\n",
    "plt.show()"
   ]
  },
  {
   "cell_type": "code",
   "execution_count": 226,
   "metadata": {},
   "outputs": [],
   "source": [
    "params3 = {'max_depth': 3, 'eta': 0.01, 'silent': 1, 'objective': 'reg:linear', 'subsample' : 1,'eval_metric': 'rmse'}"
   ]
  },
  {
   "cell_type": "code",
   "execution_count": 227,
   "metadata": {},
   "outputs": [
    {
     "name": "stdout",
     "output_type": "stream",
     "text": [
      "[0]\ttrain_set-rmse:8.77307\tvalidation_set-rmse:14.6103\n",
      "Multiple eval metrics have been passed: 'validation_set-rmse' will be used for early stopping.\n",
      "\n",
      "Will train until validation_set-rmse hasn't improved in 30 rounds.\n",
      "[1]\ttrain_set-rmse:8.72818\tvalidation_set-rmse:14.5826\n",
      "[2]\ttrain_set-rmse:8.68394\tvalidation_set-rmse:14.5549\n",
      "[3]\ttrain_set-rmse:8.64033\tvalidation_set-rmse:14.5265\n",
      "[4]\ttrain_set-rmse:8.59734\tvalidation_set-rmse:14.4997\n",
      "[5]\ttrain_set-rmse:8.55484\tvalidation_set-rmse:14.4721\n",
      "[6]\ttrain_set-rmse:8.51296\tvalidation_set-rmse:14.4466\n",
      "[7]\ttrain_set-rmse:8.47188\tvalidation_set-rmse:14.4197\n",
      "[8]\ttrain_set-rmse:8.4312\tvalidation_set-rmse:14.395\n",
      "[9]\ttrain_set-rmse:8.3913\tvalidation_set-rmse:14.369\n",
      "[10]\ttrain_set-rmse:8.35182\tvalidation_set-rmse:14.345\n",
      "[11]\ttrain_set-rmse:8.31296\tvalidation_set-rmse:14.3194\n",
      "[12]\ttrain_set-rmse:8.27462\tvalidation_set-rmse:14.2964\n",
      "[13]\ttrain_set-rmse:8.237\tvalidation_set-rmse:14.2719\n",
      "[14]\ttrain_set-rmse:8.19974\tvalidation_set-rmse:14.2494\n",
      "[15]\ttrain_set-rmse:8.16288\tvalidation_set-rmse:14.2279\n",
      "[16]\ttrain_set-rmse:8.12688\tvalidation_set-rmse:14.2046\n",
      "[17]\ttrain_set-rmse:8.09124\tvalidation_set-rmse:14.1819\n",
      "[18]\ttrain_set-rmse:8.05597\tvalidation_set-rmse:14.1613\n",
      "[19]\ttrain_set-rmse:8.02155\tvalidation_set-rmse:14.1392\n",
      "[20]\ttrain_set-rmse:7.98731\tvalidation_set-rmse:14.1193\n",
      "[21]\ttrain_set-rmse:7.95372\tvalidation_set-rmse:14.0978\n",
      "[22]\ttrain_set-rmse:7.92081\tvalidation_set-rmse:14.0781\n",
      "[23]\ttrain_set-rmse:7.88807\tvalidation_set-rmse:14.0591\n",
      "[24]\ttrain_set-rmse:7.85595\tvalidation_set-rmse:14.0386\n",
      "[25]\ttrain_set-rmse:7.82418\tvalidation_set-rmse:14.0202\n",
      "[26]\ttrain_set-rmse:7.79319\tvalidation_set-rmse:14.0004\n",
      "[27]\ttrain_set-rmse:7.76267\tvalidation_set-rmse:13.981\n",
      "[28]\ttrain_set-rmse:7.73229\tvalidation_set-rmse:13.9635\n",
      "[29]\ttrain_set-rmse:7.70252\tvalidation_set-rmse:13.9445\n",
      "[30]\ttrain_set-rmse:7.67338\tvalidation_set-rmse:13.9272\n",
      "[31]\ttrain_set-rmse:7.64433\tvalidation_set-rmse:13.9111\n",
      "[32]\ttrain_set-rmse:7.6159\tvalidation_set-rmse:13.893\n",
      "[33]\ttrain_set-rmse:7.58774\tvalidation_set-rmse:13.8773\n",
      "[34]\ttrain_set-rmse:7.56032\tvalidation_set-rmse:13.8598\n",
      "[35]\ttrain_set-rmse:7.53301\tvalidation_set-rmse:13.8447\n",
      "[36]\ttrain_set-rmse:7.50643\tvalidation_set-rmse:13.8278\n",
      "[37]\ttrain_set-rmse:7.48011\tvalidation_set-rmse:13.8113\n",
      "[38]\ttrain_set-rmse:7.45401\tvalidation_set-rmse:13.7968\n",
      "[39]\ttrain_set-rmse:7.42864\tvalidation_set-rmse:13.7818\n",
      "[40]\ttrain_set-rmse:7.40335\tvalidation_set-rmse:13.7679\n",
      "[41]\ttrain_set-rmse:7.3786\tvalidation_set-rmse:13.7521\n",
      "[42]\ttrain_set-rmse:7.35407\tvalidation_set-rmse:13.7367\n",
      "[43]\ttrain_set-rmse:7.32993\tvalidation_set-rmse:13.7234\n",
      "[44]\ttrain_set-rmse:7.30631\tvalidation_set-rmse:13.711\n",
      "[45]\ttrain_set-rmse:7.28288\tvalidation_set-rmse:13.6941\n",
      "[46]\ttrain_set-rmse:7.25998\tvalidation_set-rmse:13.682\n",
      "[47]\ttrain_set-rmse:7.23715\tvalidation_set-rmse:13.6704\n",
      "[48]\ttrain_set-rmse:7.21505\tvalidation_set-rmse:13.6562\n",
      "[49]\ttrain_set-rmse:7.19291\tvalidation_set-rmse:13.6449\n",
      "[50]\ttrain_set-rmse:7.17116\tvalidation_set-rmse:13.6289\n",
      "[51]\ttrain_set-rmse:7.14956\tvalidation_set-rmse:13.6138\n",
      "[52]\ttrain_set-rmse:7.12841\tvalidation_set-rmse:13.6029\n",
      "[53]\ttrain_set-rmse:7.10746\tvalidation_set-rmse:13.5884\n",
      "[54]\ttrain_set-rmse:7.08688\tvalidation_set-rmse:13.5764\n",
      "[55]\ttrain_set-rmse:7.06673\tvalidation_set-rmse:13.5662\n",
      "[56]\ttrain_set-rmse:7.04673\tvalidation_set-rmse:13.5521\n",
      "[57]\ttrain_set-rmse:7.0272\tvalidation_set-rmse:13.5421\n",
      "[58]\ttrain_set-rmse:7.00783\tvalidation_set-rmse:13.5284\n",
      "[59]\ttrain_set-rmse:6.98882\tvalidation_set-rmse:13.5175\n",
      "[60]\ttrain_set-rmse:6.97021\tvalidation_set-rmse:13.508\n",
      "[61]\ttrain_set-rmse:6.95182\tvalidation_set-rmse:13.4986\n",
      "[62]\ttrain_set-rmse:6.93358\tvalidation_set-rmse:13.4858\n",
      "[63]\ttrain_set-rmse:6.91575\tvalidation_set-rmse:13.4754\n",
      "[64]\ttrain_set-rmse:6.89806\tvalidation_set-rmse:13.4614\n",
      "[65]\ttrain_set-rmse:6.88066\tvalidation_set-rmse:13.4493\n",
      "[66]\ttrain_set-rmse:6.86352\tvalidation_set-rmse:13.4357\n",
      "[67]\ttrain_set-rmse:6.84677\tvalidation_set-rmse:13.4259\n",
      "[68]\ttrain_set-rmse:6.83017\tvalidation_set-rmse:13.4127\n",
      "[69]\ttrain_set-rmse:6.81378\tvalidation_set-rmse:13.3986\n",
      "[70]\ttrain_set-rmse:6.79768\tvalidation_set-rmse:13.3855\n",
      "[71]\ttrain_set-rmse:6.78189\tvalidation_set-rmse:13.3777\n",
      "[72]\ttrain_set-rmse:6.76634\tvalidation_set-rmse:13.3652\n",
      "[73]\ttrain_set-rmse:6.75106\tvalidation_set-rmse:13.3552\n",
      "[74]\ttrain_set-rmse:6.73586\tvalidation_set-rmse:13.3422\n",
      "[75]\ttrain_set-rmse:6.72106\tvalidation_set-rmse:13.3335\n",
      "[76]\ttrain_set-rmse:6.70639\tvalidation_set-rmse:13.3209\n",
      "[77]\ttrain_set-rmse:6.69177\tvalidation_set-rmse:13.307\n",
      "[78]\ttrain_set-rmse:6.67744\tvalidation_set-rmse:13.296\n",
      "[79]\ttrain_set-rmse:6.66343\tvalidation_set-rmse:13.2851\n",
      "[80]\ttrain_set-rmse:6.64971\tvalidation_set-rmse:13.2762\n",
      "[81]\ttrain_set-rmse:6.63606\tvalidation_set-rmse:13.2656\n",
      "[82]\ttrain_set-rmse:6.62272\tvalidation_set-rmse:13.2547\n",
      "[83]\ttrain_set-rmse:6.60964\tvalidation_set-rmse:13.247\n",
      "[84]\ttrain_set-rmse:6.59654\tvalidation_set-rmse:13.2374\n",
      "[85]\ttrain_set-rmse:6.58368\tvalidation_set-rmse:13.2279\n",
      "[86]\ttrain_set-rmse:6.57116\tvalidation_set-rmse:13.218\n",
      "[87]\ttrain_set-rmse:6.55861\tvalidation_set-rmse:13.2095\n",
      "[88]\ttrain_set-rmse:6.5465\tvalidation_set-rmse:13.2016\n",
      "[89]\ttrain_set-rmse:6.53444\tvalidation_set-rmse:13.1927\n",
      "[90]\ttrain_set-rmse:6.52246\tvalidation_set-rmse:13.1855\n",
      "[91]\ttrain_set-rmse:6.5109\tvalidation_set-rmse:13.1787\n",
      "[92]\ttrain_set-rmse:6.49944\tvalidation_set-rmse:13.1687\n",
      "[93]\ttrain_set-rmse:6.48794\tvalidation_set-rmse:13.1626\n",
      "[94]\ttrain_set-rmse:6.47682\tvalidation_set-rmse:13.1537\n",
      "[95]\ttrain_set-rmse:6.46597\tvalidation_set-rmse:13.1465\n",
      "[96]\ttrain_set-rmse:6.455\tvalidation_set-rmse:13.1407\n",
      "[97]\ttrain_set-rmse:6.44441\tvalidation_set-rmse:13.1313\n",
      "[98]\ttrain_set-rmse:6.43379\tvalidation_set-rmse:13.1256\n",
      "[99]\ttrain_set-rmse:6.42353\tvalidation_set-rmse:13.1196\n",
      "[100]\ttrain_set-rmse:6.41344\tvalidation_set-rmse:13.1105\n",
      "[101]\ttrain_set-rmse:6.4033\tvalidation_set-rmse:13.1036\n",
      "[102]\ttrain_set-rmse:6.39351\tvalidation_set-rmse:13.0975\n",
      "[103]\ttrain_set-rmse:6.38371\tvalidation_set-rmse:13.0922\n",
      "[104]\ttrain_set-rmse:6.3743\tvalidation_set-rmse:13.0835\n",
      "[105]\ttrain_set-rmse:6.36481\tvalidation_set-rmse:13.0783\n",
      "[106]\ttrain_set-rmse:6.35561\tvalidation_set-rmse:13.0729\n",
      "[107]\ttrain_set-rmse:6.34637\tvalidation_set-rmse:13.0665\n",
      "[108]\ttrain_set-rmse:6.33745\tvalidation_set-rmse:13.0607\n",
      "[109]\ttrain_set-rmse:6.32849\tvalidation_set-rmse:13.0544\n",
      "[110]\ttrain_set-rmse:6.31967\tvalidation_set-rmse:13.0477\n",
      "[111]\ttrain_set-rmse:6.31054\tvalidation_set-rmse:13.0378\n",
      "[112]\ttrain_set-rmse:6.30201\tvalidation_set-rmse:13.0304\n",
      "[113]\ttrain_set-rmse:6.29361\tvalidation_set-rmse:13.0257\n",
      "[114]\ttrain_set-rmse:6.28547\tvalidation_set-rmse:13.0204\n",
      "[115]\ttrain_set-rmse:6.27731\tvalidation_set-rmse:13.016\n",
      "[116]\ttrain_set-rmse:6.26929\tvalidation_set-rmse:13.0086\n",
      "[117]\ttrain_set-rmse:6.26136\tvalidation_set-rmse:13.0024\n",
      "[118]\ttrain_set-rmse:6.25375\tvalidation_set-rmse:12.9911\n",
      "[119]\ttrain_set-rmse:6.24615\tvalidation_set-rmse:12.9876\n",
      "[120]\ttrain_set-rmse:6.23856\tvalidation_set-rmse:12.9836\n",
      "[121]\ttrain_set-rmse:6.23105\tvalidation_set-rmse:12.9784\n",
      "[122]\ttrain_set-rmse:6.22367\tvalidation_set-rmse:12.9717\n",
      "[123]\ttrain_set-rmse:6.21639\tvalidation_set-rmse:12.9667\n",
      "[124]\ttrain_set-rmse:6.20929\tvalidation_set-rmse:12.9599\n",
      "[125]\ttrain_set-rmse:6.2016\tvalidation_set-rmse:12.9546\n",
      "[126]\ttrain_set-rmse:6.19463\tvalidation_set-rmse:12.9498\n",
      "[127]\ttrain_set-rmse:6.18787\tvalidation_set-rmse:12.9467\n",
      "[128]\ttrain_set-rmse:6.18106\tvalidation_set-rmse:12.9432\n",
      "[129]\ttrain_set-rmse:6.17439\tvalidation_set-rmse:12.937\n",
      "[130]\ttrain_set-rmse:6.16781\tvalidation_set-rmse:12.9324\n",
      "[131]\ttrain_set-rmse:6.16079\tvalidation_set-rmse:12.9283\n",
      "[132]\ttrain_set-rmse:6.1544\tvalidation_set-rmse:12.9239\n",
      "[133]\ttrain_set-rmse:6.14814\tvalidation_set-rmse:12.9178\n",
      "[134]\ttrain_set-rmse:6.14194\tvalidation_set-rmse:12.9137\n",
      "[135]\ttrain_set-rmse:6.13527\tvalidation_set-rmse:12.9104\n",
      "[136]\ttrain_set-rmse:6.1294\tvalidation_set-rmse:12.9042\n",
      "[137]\ttrain_set-rmse:6.12347\tvalidation_set-rmse:12.9015\n",
      "[138]\ttrain_set-rmse:6.11753\tvalidation_set-rmse:12.8979\n",
      "[139]\ttrain_set-rmse:6.11179\tvalidation_set-rmse:12.8953\n",
      "[140]\ttrain_set-rmse:6.10537\tvalidation_set-rmse:12.8911\n",
      "[141]\ttrain_set-rmse:6.0994\tvalidation_set-rmse:12.8886\n",
      "[142]\ttrain_set-rmse:6.09382\tvalidation_set-rmse:12.8831\n",
      "[143]\ttrain_set-rmse:6.0877\tvalidation_set-rmse:12.8798\n"
     ]
    },
    {
     "name": "stdout",
     "output_type": "stream",
     "text": [
      "[144]\ttrain_set-rmse:6.0819\tvalidation_set-rmse:12.8763\n",
      "[145]\ttrain_set-rmse:6.07621\tvalidation_set-rmse:12.8742\n",
      "[146]\ttrain_set-rmse:6.07031\tvalidation_set-rmse:12.871\n",
      "[147]\ttrain_set-rmse:6.06481\tvalidation_set-rmse:12.8686\n",
      "[148]\ttrain_set-rmse:6.05966\tvalidation_set-rmse:12.8664\n",
      "[149]\ttrain_set-rmse:6.05428\tvalidation_set-rmse:12.8645\n",
      "[150]\ttrain_set-rmse:6.04863\tvalidation_set-rmse:12.8608\n",
      "[151]\ttrain_set-rmse:6.04368\tvalidation_set-rmse:12.8592\n",
      "[152]\ttrain_set-rmse:6.03813\tvalidation_set-rmse:12.8516\n",
      "[153]\ttrain_set-rmse:6.03304\tvalidation_set-rmse:12.8493\n",
      "[154]\ttrain_set-rmse:6.02803\tvalidation_set-rmse:12.8471\n",
      "[155]\ttrain_set-rmse:6.02278\tvalidation_set-rmse:12.8457\n",
      "[156]\ttrain_set-rmse:6.01783\tvalidation_set-rmse:12.8439\n",
      "[157]\ttrain_set-rmse:6.01304\tvalidation_set-rmse:12.8418\n",
      "[158]\ttrain_set-rmse:6.00823\tvalidation_set-rmse:12.84\n",
      "[159]\ttrain_set-rmse:6.00353\tvalidation_set-rmse:12.8379\n",
      "[160]\ttrain_set-rmse:5.99906\tvalidation_set-rmse:12.8366\n",
      "[161]\ttrain_set-rmse:5.99443\tvalidation_set-rmse:12.835\n",
      "[162]\ttrain_set-rmse:5.98996\tvalidation_set-rmse:12.8329\n",
      "[163]\ttrain_set-rmse:5.98548\tvalidation_set-rmse:12.831\n",
      "[164]\ttrain_set-rmse:5.98113\tvalidation_set-rmse:12.829\n",
      "[165]\ttrain_set-rmse:5.9769\tvalidation_set-rmse:12.8279\n",
      "[166]\ttrain_set-rmse:5.97257\tvalidation_set-rmse:12.8263\n",
      "[167]\ttrain_set-rmse:5.9683\tvalidation_set-rmse:12.8244\n",
      "[168]\ttrain_set-rmse:5.96408\tvalidation_set-rmse:12.8229\n",
      "[169]\ttrain_set-rmse:5.95993\tvalidation_set-rmse:12.821\n",
      "[170]\ttrain_set-rmse:5.95606\tvalidation_set-rmse:12.8187\n",
      "[171]\ttrain_set-rmse:5.95203\tvalidation_set-rmse:12.8163\n",
      "[172]\ttrain_set-rmse:5.94805\tvalidation_set-rmse:12.8146\n",
      "[173]\ttrain_set-rmse:5.94377\tvalidation_set-rmse:12.8137\n",
      "[174]\ttrain_set-rmse:5.93986\tvalidation_set-rmse:12.8123\n",
      "[175]\ttrain_set-rmse:5.93601\tvalidation_set-rmse:12.8106\n",
      "[176]\ttrain_set-rmse:5.93224\tvalidation_set-rmse:12.809\n",
      "[177]\ttrain_set-rmse:5.92852\tvalidation_set-rmse:12.8068\n",
      "[178]\ttrain_set-rmse:5.92501\tvalidation_set-rmse:12.8048\n",
      "[179]\ttrain_set-rmse:5.92135\tvalidation_set-rmse:12.8036\n",
      "[180]\ttrain_set-rmse:5.91772\tvalidation_set-rmse:12.8013\n",
      "[181]\ttrain_set-rmse:5.91413\tvalidation_set-rmse:12.7994\n",
      "[182]\ttrain_set-rmse:5.90815\tvalidation_set-rmse:12.7751\n",
      "[183]\ttrain_set-rmse:5.90465\tvalidation_set-rmse:12.7739\n",
      "[184]\ttrain_set-rmse:5.90123\tvalidation_set-rmse:12.7718\n",
      "[185]\ttrain_set-rmse:5.89543\tvalidation_set-rmse:12.7485\n",
      "[186]\ttrain_set-rmse:5.89209\tvalidation_set-rmse:12.7471\n",
      "[187]\ttrain_set-rmse:5.88852\tvalidation_set-rmse:12.7459\n",
      "[188]\ttrain_set-rmse:5.88293\tvalidation_set-rmse:12.7235\n",
      "[189]\ttrain_set-rmse:5.8796\tvalidation_set-rmse:12.7217\n",
      "[190]\ttrain_set-rmse:5.87637\tvalidation_set-rmse:12.7196\n",
      "[191]\ttrain_set-rmse:5.8709\tvalidation_set-rmse:12.6982\n",
      "[192]\ttrain_set-rmse:5.86776\tvalidation_set-rmse:12.6961\n",
      "[193]\ttrain_set-rmse:5.86469\tvalidation_set-rmse:12.695\n",
      "[194]\ttrain_set-rmse:5.86151\tvalidation_set-rmse:12.693\n",
      "[195]\ttrain_set-rmse:5.85851\tvalidation_set-rmse:12.691\n",
      "[196]\ttrain_set-rmse:5.85556\tvalidation_set-rmse:12.69\n",
      "[197]\ttrain_set-rmse:5.85036\tvalidation_set-rmse:12.6695\n",
      "[198]\ttrain_set-rmse:5.84731\tvalidation_set-rmse:12.6692\n",
      "[199]\ttrain_set-rmse:5.8445\tvalidation_set-rmse:12.6674\n",
      "[200]\ttrain_set-rmse:5.84154\tvalidation_set-rmse:12.6669\n",
      "[201]\ttrain_set-rmse:5.83854\tvalidation_set-rmse:12.6653\n",
      "[202]\ttrain_set-rmse:5.83354\tvalidation_set-rmse:12.6458\n",
      "[203]\ttrain_set-rmse:5.83068\tvalidation_set-rmse:12.6442\n",
      "[204]\ttrain_set-rmse:5.82789\tvalidation_set-rmse:12.6438\n",
      "[205]\ttrain_set-rmse:5.823\tvalidation_set-rmse:12.6252\n",
      "[206]\ttrain_set-rmse:5.82036\tvalidation_set-rmse:12.6244\n",
      "[207]\ttrain_set-rmse:5.81744\tvalidation_set-rmse:12.6231\n",
      "[208]\ttrain_set-rmse:5.8148\tvalidation_set-rmse:12.6224\n",
      "[209]\ttrain_set-rmse:5.81226\tvalidation_set-rmse:12.6207\n",
      "[210]\ttrain_set-rmse:5.8095\tvalidation_set-rmse:12.6192\n",
      "[211]\ttrain_set-rmse:5.80483\tvalidation_set-rmse:12.6015\n",
      "[212]\ttrain_set-rmse:5.80228\tvalidation_set-rmse:12.6009\n",
      "[213]\ttrain_set-rmse:5.79964\tvalidation_set-rmse:12.5995\n",
      "[214]\ttrain_set-rmse:5.79725\tvalidation_set-rmse:12.5986\n",
      "[215]\ttrain_set-rmse:5.79273\tvalidation_set-rmse:12.5818\n",
      "[216]\ttrain_set-rmse:5.79028\tvalidation_set-rmse:12.5814\n",
      "[217]\ttrain_set-rmse:5.78796\tvalidation_set-rmse:12.5808\n",
      "[218]\ttrain_set-rmse:5.78551\tvalidation_set-rmse:12.5793\n",
      "[219]\ttrain_set-rmse:5.78111\tvalidation_set-rmse:12.5629\n",
      "[220]\ttrain_set-rmse:5.77872\tvalidation_set-rmse:12.5626\n",
      "[221]\ttrain_set-rmse:5.77612\tvalidation_set-rmse:12.5613\n",
      "[222]\ttrain_set-rmse:5.77184\tvalidation_set-rmse:12.5461\n",
      "[223]\ttrain_set-rmse:5.76957\tvalidation_set-rmse:12.5455\n",
      "[224]\ttrain_set-rmse:5.76726\tvalidation_set-rmse:12.5442\n",
      "[225]\ttrain_set-rmse:5.76307\tvalidation_set-rmse:12.5294\n",
      "[226]\ttrain_set-rmse:5.76062\tvalidation_set-rmse:12.5288\n",
      "[227]\ttrain_set-rmse:5.75654\tvalidation_set-rmse:12.5147\n",
      "[228]\ttrain_set-rmse:5.75427\tvalidation_set-rmse:12.5135\n",
      "[229]\ttrain_set-rmse:5.75215\tvalidation_set-rmse:12.5131\n",
      "[230]\ttrain_set-rmse:5.74786\tvalidation_set-rmse:12.4995\n",
      "[231]\ttrain_set-rmse:5.74527\tvalidation_set-rmse:12.4973\n",
      "[232]\ttrain_set-rmse:5.74322\tvalidation_set-rmse:12.4968\n",
      "[233]\ttrain_set-rmse:5.73932\tvalidation_set-rmse:12.4846\n",
      "[234]\ttrain_set-rmse:5.73682\tvalidation_set-rmse:12.4839\n",
      "[235]\ttrain_set-rmse:5.73486\tvalidation_set-rmse:12.4836\n",
      "[236]\ttrain_set-rmse:5.73295\tvalidation_set-rmse:12.4831\n",
      "[237]\ttrain_set-rmse:5.73065\tvalidation_set-rmse:12.4826\n",
      "[238]\ttrain_set-rmse:5.72689\tvalidation_set-rmse:12.4709\n",
      "[239]\ttrain_set-rmse:5.72491\tvalidation_set-rmse:12.4687\n",
      "[240]\ttrain_set-rmse:5.72308\tvalidation_set-rmse:12.468\n",
      "[241]\ttrain_set-rmse:5.721\tvalidation_set-rmse:12.4675\n",
      "[242]\ttrain_set-rmse:5.71921\tvalidation_set-rmse:12.467\n",
      "[243]\ttrain_set-rmse:5.71724\tvalidation_set-rmse:12.465\n",
      "[244]\ttrain_set-rmse:5.71362\tvalidation_set-rmse:12.454\n",
      "[245]\ttrain_set-rmse:5.71184\tvalidation_set-rmse:12.4536\n",
      "[246]\ttrain_set-rmse:5.70969\tvalidation_set-rmse:12.4532\n",
      "[247]\ttrain_set-rmse:5.70614\tvalidation_set-rmse:12.4429\n",
      "[248]\ttrain_set-rmse:5.70442\tvalidation_set-rmse:12.4425\n",
      "[249]\ttrain_set-rmse:5.70261\tvalidation_set-rmse:12.4405\n",
      "[250]\ttrain_set-rmse:5.70044\tvalidation_set-rmse:12.4399\n",
      "[251]\ttrain_set-rmse:5.69883\tvalidation_set-rmse:12.4394\n",
      "[252]\ttrain_set-rmse:5.69721\tvalidation_set-rmse:12.4391\n",
      "[253]\ttrain_set-rmse:5.69548\tvalidation_set-rmse:12.4374\n",
      "[254]\ttrain_set-rmse:5.69334\tvalidation_set-rmse:12.4368\n",
      "[255]\ttrain_set-rmse:5.6918\tvalidation_set-rmse:12.4363\n",
      "[256]\ttrain_set-rmse:5.68841\tvalidation_set-rmse:12.4267\n",
      "[257]\ttrain_set-rmse:5.68688\tvalidation_set-rmse:12.4265\n",
      "[258]\ttrain_set-rmse:5.68486\tvalidation_set-rmse:12.4259\n",
      "[259]\ttrain_set-rmse:5.68315\tvalidation_set-rmse:12.4241\n",
      "[260]\ttrain_set-rmse:5.6815\tvalidation_set-rmse:12.424\n",
      "[261]\ttrain_set-rmse:5.67999\tvalidation_set-rmse:12.4236\n",
      "[262]\ttrain_set-rmse:5.67674\tvalidation_set-rmse:12.4148\n",
      "[263]\ttrain_set-rmse:5.67489\tvalidation_set-rmse:12.4142\n",
      "[264]\ttrain_set-rmse:5.6733\tvalidation_set-rmse:12.4141\n",
      "[265]\ttrain_set-rmse:5.67187\tvalidation_set-rmse:12.4139\n",
      "[266]\ttrain_set-rmse:5.67031\tvalidation_set-rmse:12.4131\n",
      "[267]\ttrain_set-rmse:5.66867\tvalidation_set-rmse:12.4112\n",
      "[268]\ttrain_set-rmse:5.66714\tvalidation_set-rmse:12.4112\n",
      "[269]\ttrain_set-rmse:5.66574\tvalidation_set-rmse:12.4109\n",
      "[270]\ttrain_set-rmse:5.66412\tvalidation_set-rmse:12.4104\n",
      "[271]\ttrain_set-rmse:5.66268\tvalidation_set-rmse:12.4101\n",
      "[272]\ttrain_set-rmse:5.65957\tvalidation_set-rmse:12.4019\n",
      "[273]\ttrain_set-rmse:5.65791\tvalidation_set-rmse:12.4014\n",
      "[274]\ttrain_set-rmse:5.6566\tvalidation_set-rmse:12.4013\n",
      "[275]\ttrain_set-rmse:5.65519\tvalidation_set-rmse:12.4\n",
      "[276]\ttrain_set-rmse:5.65389\tvalidation_set-rmse:12.3997\n",
      "[277]\ttrain_set-rmse:5.65086\tvalidation_set-rmse:12.3922\n",
      "[278]\ttrain_set-rmse:5.64922\tvalidation_set-rmse:12.3917\n",
      "[279]\ttrain_set-rmse:5.64783\tvalidation_set-rmse:12.3917\n",
      "[280]\ttrain_set-rmse:5.64638\tvalidation_set-rmse:12.3912\n",
      "[281]\ttrain_set-rmse:5.64501\tvalidation_set-rmse:12.3908\n",
      "[282]\ttrain_set-rmse:5.64366\tvalidation_set-rmse:12.3907\n",
      "[283]\ttrain_set-rmse:5.64202\tvalidation_set-rmse:12.3899\n",
      "[284]\ttrain_set-rmse:5.6407\tvalidation_set-rmse:12.3899\n",
      "[285]\ttrain_set-rmse:5.63952\tvalidation_set-rmse:12.39\n",
      "[286]\ttrain_set-rmse:5.63822\tvalidation_set-rmse:12.3884\n",
      "[287]\ttrain_set-rmse:5.63692\tvalidation_set-rmse:12.3883\n",
      "[288]\ttrain_set-rmse:5.63524\tvalidation_set-rmse:12.3877\n"
     ]
    },
    {
     "name": "stdout",
     "output_type": "stream",
     "text": [
      "[289]\ttrain_set-rmse:5.63402\tvalidation_set-rmse:12.3874\n",
      "[290]\ttrain_set-rmse:5.63114\tvalidation_set-rmse:12.3806\n",
      "[291]\ttrain_set-rmse:5.62978\tvalidation_set-rmse:12.3804\n",
      "[292]\ttrain_set-rmse:5.62856\tvalidation_set-rmse:12.3803\n",
      "[293]\ttrain_set-rmse:5.62744\tvalidation_set-rmse:12.3801\n",
      "[294]\ttrain_set-rmse:5.6262\tvalidation_set-rmse:12.3796\n",
      "[295]\ttrain_set-rmse:5.62511\tvalidation_set-rmse:12.3797\n",
      "[296]\ttrain_set-rmse:5.62361\tvalidation_set-rmse:12.379\n",
      "[297]\ttrain_set-rmse:5.62244\tvalidation_set-rmse:12.3789\n",
      "[298]\ttrain_set-rmse:5.62125\tvalidation_set-rmse:12.3773\n",
      "[299]\ttrain_set-rmse:5.62011\tvalidation_set-rmse:12.3771\n",
      "[300]\ttrain_set-rmse:5.61886\tvalidation_set-rmse:12.3767\n",
      "[301]\ttrain_set-rmse:5.61757\tvalidation_set-rmse:12.3767\n",
      "[302]\ttrain_set-rmse:5.61643\tvalidation_set-rmse:12.3767\n",
      "[303]\ttrain_set-rmse:5.61533\tvalidation_set-rmse:12.3764\n",
      "[304]\ttrain_set-rmse:5.614\tvalidation_set-rmse:12.3758\n",
      "[305]\ttrain_set-rmse:5.61117\tvalidation_set-rmse:12.3739\n",
      "[306]\ttrain_set-rmse:5.6101\tvalidation_set-rmse:12.3737\n",
      "[307]\ttrain_set-rmse:5.60867\tvalidation_set-rmse:12.373\n",
      "[308]\ttrain_set-rmse:5.60761\tvalidation_set-rmse:12.3729\n",
      "[309]\ttrain_set-rmse:5.60635\tvalidation_set-rmse:12.3728\n",
      "[310]\ttrain_set-rmse:5.60532\tvalidation_set-rmse:12.3726\n",
      "[311]\ttrain_set-rmse:5.60421\tvalidation_set-rmse:12.3712\n",
      "[312]\ttrain_set-rmse:5.60321\tvalidation_set-rmse:12.3711\n",
      "[313]\ttrain_set-rmse:5.60219\tvalidation_set-rmse:12.371\n",
      "[314]\ttrain_set-rmse:5.59945\tvalidation_set-rmse:12.3692\n",
      "[315]\ttrain_set-rmse:5.59854\tvalidation_set-rmse:12.369\n",
      "[316]\ttrain_set-rmse:5.59734\tvalidation_set-rmse:12.3689\n",
      "[317]\ttrain_set-rmse:5.59636\tvalidation_set-rmse:12.3688\n",
      "[318]\ttrain_set-rmse:5.59499\tvalidation_set-rmse:12.3679\n",
      "[319]\ttrain_set-rmse:5.5941\tvalidation_set-rmse:12.3678\n",
      "[320]\ttrain_set-rmse:5.59289\tvalidation_set-rmse:12.368\n",
      "[321]\ttrain_set-rmse:5.59184\tvalidation_set-rmse:12.3667\n",
      "[322]\ttrain_set-rmse:5.5909\tvalidation_set-rmse:12.3666\n",
      "[323]\ttrain_set-rmse:5.58824\tvalidation_set-rmse:12.3666\n",
      "[324]\ttrain_set-rmse:5.58732\tvalidation_set-rmse:12.3665\n",
      "[325]\ttrain_set-rmse:5.58612\tvalidation_set-rmse:12.365\n",
      "[326]\ttrain_set-rmse:5.58498\tvalidation_set-rmse:12.3652\n",
      "[327]\ttrain_set-rmse:5.58415\tvalidation_set-rmse:12.3651\n",
      "[328]\ttrain_set-rmse:5.58325\tvalidation_set-rmse:12.365\n",
      "[329]\ttrain_set-rmse:5.58239\tvalidation_set-rmse:12.3649\n",
      "[330]\ttrain_set-rmse:5.58109\tvalidation_set-rmse:12.3641\n",
      "[331]\ttrain_set-rmse:5.58016\tvalidation_set-rmse:12.3639\n",
      "[332]\ttrain_set-rmse:5.57907\tvalidation_set-rmse:12.3639\n",
      "[333]\ttrain_set-rmse:5.57827\tvalidation_set-rmse:12.3637\n",
      "[334]\ttrain_set-rmse:5.57727\tvalidation_set-rmse:12.3626\n",
      "[335]\ttrain_set-rmse:5.57643\tvalidation_set-rmse:12.3625\n",
      "[336]\ttrain_set-rmse:5.57531\tvalidation_set-rmse:12.3611\n",
      "[337]\ttrain_set-rmse:5.5742\tvalidation_set-rmse:12.3613\n",
      "[338]\ttrain_set-rmse:5.57336\tvalidation_set-rmse:12.3612\n",
      "[339]\ttrain_set-rmse:5.57219\tvalidation_set-rmse:12.3606\n",
      "[340]\ttrain_set-rmse:5.57144\tvalidation_set-rmse:12.3605\n",
      "[341]\ttrain_set-rmse:5.5706\tvalidation_set-rmse:12.3604\n",
      "[342]\ttrain_set-rmse:5.56979\tvalidation_set-rmse:12.3602\n",
      "[343]\ttrain_set-rmse:5.56862\tvalidation_set-rmse:12.3603\n",
      "[344]\ttrain_set-rmse:5.5677\tvalidation_set-rmse:12.3592\n",
      "[345]\ttrain_set-rmse:5.56692\tvalidation_set-rmse:12.3591\n",
      "[346]\ttrain_set-rmse:5.56599\tvalidation_set-rmse:12.3594\n",
      "[347]\ttrain_set-rmse:5.56489\tvalidation_set-rmse:12.3589\n",
      "[348]\ttrain_set-rmse:5.56411\tvalidation_set-rmse:12.3589\n",
      "[349]\ttrain_set-rmse:5.56308\tvalidation_set-rmse:12.3591\n",
      "[350]\ttrain_set-rmse:5.56232\tvalidation_set-rmse:12.359\n",
      "[351]\ttrain_set-rmse:5.56143\tvalidation_set-rmse:12.3582\n",
      "[352]\ttrain_set-rmse:5.56033\tvalidation_set-rmse:12.3582\n",
      "[353]\ttrain_set-rmse:5.55959\tvalidation_set-rmse:12.3582\n",
      "[354]\ttrain_set-rmse:5.55873\tvalidation_set-rmse:12.3583\n",
      "[355]\ttrain_set-rmse:5.55803\tvalidation_set-rmse:12.3582\n",
      "[356]\ttrain_set-rmse:5.55739\tvalidation_set-rmse:12.3581\n",
      "[357]\ttrain_set-rmse:5.5563\tvalidation_set-rmse:12.3577\n",
      "[358]\ttrain_set-rmse:5.55478\tvalidation_set-rmse:12.3576\n",
      "[359]\ttrain_set-rmse:5.5541\tvalidation_set-rmse:12.3575\n",
      "[360]\ttrain_set-rmse:5.55196\tvalidation_set-rmse:12.3574\n",
      "[361]\ttrain_set-rmse:5.55103\tvalidation_set-rmse:12.3576\n",
      "[362]\ttrain_set-rmse:5.55037\tvalidation_set-rmse:12.3576\n",
      "[363]\ttrain_set-rmse:5.54977\tvalidation_set-rmse:12.3571\n",
      "[364]\ttrain_set-rmse:5.54894\tvalidation_set-rmse:12.3561\n",
      "[365]\ttrain_set-rmse:5.54685\tvalidation_set-rmse:12.356\n",
      "[366]\ttrain_set-rmse:5.54626\tvalidation_set-rmse:12.3555\n",
      "[367]\ttrain_set-rmse:5.54562\tvalidation_set-rmse:12.3554\n",
      "[368]\ttrain_set-rmse:5.54472\tvalidation_set-rmse:12.3554\n",
      "[369]\ttrain_set-rmse:5.54267\tvalidation_set-rmse:12.3553\n",
      "[370]\ttrain_set-rmse:5.54195\tvalidation_set-rmse:12.3553\n",
      "[371]\ttrain_set-rmse:5.54139\tvalidation_set-rmse:12.3549\n",
      "[372]\ttrain_set-rmse:5.54084\tvalidation_set-rmse:12.3548\n",
      "[373]\ttrain_set-rmse:5.54024\tvalidation_set-rmse:12.355\n",
      "[374]\ttrain_set-rmse:5.53928\tvalidation_set-rmse:12.3539\n",
      "[375]\ttrain_set-rmse:5.53874\tvalidation_set-rmse:12.3536\n",
      "[376]\ttrain_set-rmse:5.5381\tvalidation_set-rmse:12.3536\n",
      "[377]\ttrain_set-rmse:5.5361\tvalidation_set-rmse:12.3535\n",
      "[378]\ttrain_set-rmse:5.5351\tvalidation_set-rmse:12.3535\n",
      "[379]\ttrain_set-rmse:5.53457\tvalidation_set-rmse:12.3534\n",
      "[380]\ttrain_set-rmse:5.53377\tvalidation_set-rmse:12.3536\n",
      "[381]\ttrain_set-rmse:5.53325\tvalidation_set-rmse:12.3531\n",
      "[382]\ttrain_set-rmse:5.53129\tvalidation_set-rmse:12.353\n",
      "[383]\ttrain_set-rmse:5.53062\tvalidation_set-rmse:12.353\n",
      "[384]\ttrain_set-rmse:5.53005\tvalidation_set-rmse:12.3532\n",
      "[385]\ttrain_set-rmse:5.52952\tvalidation_set-rmse:12.3531\n",
      "[386]\ttrain_set-rmse:5.52905\tvalidation_set-rmse:12.3531\n",
      "[387]\ttrain_set-rmse:5.52822\tvalidation_set-rmse:12.3531\n",
      "[388]\ttrain_set-rmse:5.52764\tvalidation_set-rmse:12.3531\n",
      "[389]\ttrain_set-rmse:5.52672\tvalidation_set-rmse:12.352\n",
      "[390]\ttrain_set-rmse:5.52623\tvalidation_set-rmse:12.3519\n",
      "[391]\ttrain_set-rmse:5.52529\tvalidation_set-rmse:12.3518\n",
      "[392]\ttrain_set-rmse:5.52464\tvalidation_set-rmse:12.3518\n",
      "[393]\ttrain_set-rmse:5.52419\tvalidation_set-rmse:12.3518\n",
      "[394]\ttrain_set-rmse:5.52325\tvalidation_set-rmse:12.3517\n",
      "[395]\ttrain_set-rmse:5.52279\tvalidation_set-rmse:12.3516\n",
      "[396]\ttrain_set-rmse:5.52183\tvalidation_set-rmse:12.3513\n",
      "[397]\ttrain_set-rmse:5.52139\tvalidation_set-rmse:12.3513\n",
      "[398]\ttrain_set-rmse:5.52067\tvalidation_set-rmse:12.3504\n",
      "[399]\ttrain_set-rmse:5.52023\tvalidation_set-rmse:12.3504\n",
      "[400]\ttrain_set-rmse:5.51934\tvalidation_set-rmse:12.3504\n",
      "[401]\ttrain_set-rmse:5.51882\tvalidation_set-rmse:12.3504\n",
      "[402]\ttrain_set-rmse:5.51821\tvalidation_set-rmse:12.3503\n",
      "[403]\ttrain_set-rmse:5.51779\tvalidation_set-rmse:12.3503\n",
      "[404]\ttrain_set-rmse:5.51699\tvalidation_set-rmse:12.3506\n",
      "[405]\ttrain_set-rmse:5.51646\tvalidation_set-rmse:12.3505\n",
      "[406]\ttrain_set-rmse:5.51555\tvalidation_set-rmse:12.3505\n",
      "[407]\ttrain_set-rmse:5.51505\tvalidation_set-rmse:12.3505\n",
      "[408]\ttrain_set-rmse:5.51446\tvalidation_set-rmse:12.3505\n",
      "[409]\ttrain_set-rmse:5.51382\tvalidation_set-rmse:12.3505\n",
      "[410]\ttrain_set-rmse:5.51331\tvalidation_set-rmse:12.3505\n",
      "[411]\ttrain_set-rmse:5.51247\tvalidation_set-rmse:12.3504\n",
      "[412]\ttrain_set-rmse:5.51198\tvalidation_set-rmse:12.3504\n",
      "[413]\ttrain_set-rmse:5.51147\tvalidation_set-rmse:12.3506\n",
      "[414]\ttrain_set-rmse:5.51098\tvalidation_set-rmse:12.3506\n",
      "[415]\ttrain_set-rmse:5.51029\tvalidation_set-rmse:12.3498\n",
      "[416]\ttrain_set-rmse:5.50977\tvalidation_set-rmse:12.3498\n",
      "[417]\ttrain_set-rmse:5.50938\tvalidation_set-rmse:12.3498\n",
      "[418]\ttrain_set-rmse:5.50868\tvalidation_set-rmse:12.3498\n",
      "[419]\ttrain_set-rmse:5.50822\tvalidation_set-rmse:12.3498\n",
      "[420]\ttrain_set-rmse:5.50741\tvalidation_set-rmse:12.349\n",
      "[421]\ttrain_set-rmse:5.50683\tvalidation_set-rmse:12.349\n",
      "[422]\ttrain_set-rmse:5.50616\tvalidation_set-rmse:12.349\n",
      "[423]\ttrain_set-rmse:5.50578\tvalidation_set-rmse:12.349\n",
      "[424]\ttrain_set-rmse:5.50531\tvalidation_set-rmse:12.3489\n",
      "[425]\ttrain_set-rmse:5.50442\tvalidation_set-rmse:12.3487\n",
      "[426]\ttrain_set-rmse:5.50393\tvalidation_set-rmse:12.349\n",
      "[427]\ttrain_set-rmse:5.50348\tvalidation_set-rmse:12.349\n",
      "[428]\ttrain_set-rmse:5.50294\tvalidation_set-rmse:12.3489\n",
      "[429]\ttrain_set-rmse:5.50216\tvalidation_set-rmse:12.3489\n",
      "[430]\ttrain_set-rmse:5.5018\tvalidation_set-rmse:12.3489\n",
      "[431]\ttrain_set-rmse:5.50115\tvalidation_set-rmse:12.3482\n",
      "[432]\ttrain_set-rmse:5.50079\tvalidation_set-rmse:12.3482\n",
      "[433]\ttrain_set-rmse:5.49955\tvalidation_set-rmse:12.3481\n"
     ]
    },
    {
     "name": "stdout",
     "output_type": "stream",
     "text": [
      "[434]\ttrain_set-rmse:5.49901\tvalidation_set-rmse:12.3481\n",
      "[435]\ttrain_set-rmse:5.49859\tvalidation_set-rmse:12.3481\n",
      "[436]\ttrain_set-rmse:5.49783\tvalidation_set-rmse:12.3476\n",
      "[437]\ttrain_set-rmse:5.49747\tvalidation_set-rmse:12.3476\n",
      "[438]\ttrain_set-rmse:5.49684\tvalidation_set-rmse:12.3471\n",
      "[439]\ttrain_set-rmse:5.49638\tvalidation_set-rmse:12.3472\n",
      "[440]\ttrain_set-rmse:5.49594\tvalidation_set-rmse:12.3472\n",
      "[441]\ttrain_set-rmse:5.49472\tvalidation_set-rmse:12.3472\n",
      "[442]\ttrain_set-rmse:5.49395\tvalidation_set-rmse:12.3457\n",
      "[443]\ttrain_set-rmse:5.49343\tvalidation_set-rmse:12.3457\n",
      "[444]\ttrain_set-rmse:5.49269\tvalidation_set-rmse:12.3455\n",
      "[445]\ttrain_set-rmse:5.49231\tvalidation_set-rmse:12.3455\n",
      "[446]\ttrain_set-rmse:5.49156\tvalidation_set-rmse:12.3454\n",
      "[447]\ttrain_set-rmse:5.49116\tvalidation_set-rmse:12.3454\n",
      "[448]\ttrain_set-rmse:5.49057\tvalidation_set-rmse:12.3454\n",
      "[449]\ttrain_set-rmse:5.49024\tvalidation_set-rmse:12.3454\n",
      "[450]\ttrain_set-rmse:5.48925\tvalidation_set-rmse:12.3453\n",
      "[451]\ttrain_set-rmse:5.48885\tvalidation_set-rmse:12.3453\n",
      "[452]\ttrain_set-rmse:5.48832\tvalidation_set-rmse:12.3455\n",
      "[453]\ttrain_set-rmse:5.48759\tvalidation_set-rmse:12.3465\n",
      "[454]\ttrain_set-rmse:5.48662\tvalidation_set-rmse:12.3464\n",
      "[455]\ttrain_set-rmse:5.48626\tvalidation_set-rmse:12.3464\n",
      "[456]\ttrain_set-rmse:5.4859\tvalidation_set-rmse:12.3464\n",
      "[457]\ttrain_set-rmse:5.48513\tvalidation_set-rmse:12.3463\n",
      "[458]\ttrain_set-rmse:5.48449\tvalidation_set-rmse:12.346\n",
      "[459]\ttrain_set-rmse:5.48411\tvalidation_set-rmse:12.346\n",
      "[460]\ttrain_set-rmse:5.48357\tvalidation_set-rmse:12.3459\n",
      "[461]\ttrain_set-rmse:5.48269\tvalidation_set-rmse:12.3471\n",
      "[462]\ttrain_set-rmse:5.48229\tvalidation_set-rmse:12.3471\n",
      "[463]\ttrain_set-rmse:5.48183\tvalidation_set-rmse:12.3467\n",
      "[464]\ttrain_set-rmse:5.48108\tvalidation_set-rmse:12.3466\n",
      "[465]\ttrain_set-rmse:5.48072\tvalidation_set-rmse:12.3466\n",
      "[466]\ttrain_set-rmse:5.47998\tvalidation_set-rmse:12.3467\n",
      "[467]\ttrain_set-rmse:5.47966\tvalidation_set-rmse:12.3467\n",
      "[468]\ttrain_set-rmse:5.47895\tvalidation_set-rmse:12.3468\n",
      "[469]\ttrain_set-rmse:5.47823\tvalidation_set-rmse:12.3462\n",
      "[470]\ttrain_set-rmse:5.47783\tvalidation_set-rmse:12.3464\n",
      "[471]\ttrain_set-rmse:5.47749\tvalidation_set-rmse:12.3464\n",
      "[472]\ttrain_set-rmse:5.47676\tvalidation_set-rmse:12.3464\n",
      "[473]\ttrain_set-rmse:5.47619\tvalidation_set-rmse:12.3464\n",
      "[474]\ttrain_set-rmse:5.47585\tvalidation_set-rmse:12.3464\n",
      "[475]\ttrain_set-rmse:5.47516\tvalidation_set-rmse:12.3465\n",
      "[476]\ttrain_set-rmse:5.47411\tvalidation_set-rmse:12.3464\n",
      "[477]\ttrain_set-rmse:5.47356\tvalidation_set-rmse:12.3464\n",
      "[478]\ttrain_set-rmse:5.47302\tvalidation_set-rmse:12.3464\n",
      "[479]\ttrain_set-rmse:5.47247\tvalidation_set-rmse:12.3464\n",
      "[480]\ttrain_set-rmse:5.47203\tvalidation_set-rmse:12.3464\n",
      "Stopping. Best iteration:\n",
      "[450]\ttrain_set-rmse:5.48925\tvalidation_set-rmse:12.3453\n",
      "\n"
     ]
    }
   ],
   "source": [
    "progress3 = {}\n",
    "xgb_model_3_001_1 = xgboost.train(params3, xg_train_33,early_stopping_rounds=30,evals = [(xg_train_33 , \"train_set\"),(xg_val_33,\"validation_set\")], evals_result=progress3\n",
    "                                         ,num_boost_round=1000)"
   ]
  },
  {
   "cell_type": "code",
   "execution_count": 228,
   "metadata": {},
   "outputs": [
    {
     "name": "stdout",
     "output_type": "stream",
     "text": [
      "[0]\ttrain_set-rmse:8.92987\n",
      "[1]\ttrain_set-rmse:8.88528\n",
      "[2]\ttrain_set-rmse:8.84135\n",
      "[3]\ttrain_set-rmse:8.79806\n",
      "[4]\ttrain_set-rmse:8.7554\n",
      "[5]\ttrain_set-rmse:8.71338\n",
      "[6]\ttrain_set-rmse:8.67202\n",
      "[7]\ttrain_set-rmse:8.63119\n",
      "[8]\ttrain_set-rmse:8.59111\n",
      "[9]\ttrain_set-rmse:8.55146\n",
      "[10]\ttrain_set-rmse:8.51244\n",
      "[11]\ttrain_set-rmse:8.47393\n",
      "[12]\ttrain_set-rmse:8.43614\n",
      "[13]\ttrain_set-rmse:8.39874\n",
      "[14]\ttrain_set-rmse:8.36205\n",
      "[15]\ttrain_set-rmse:8.32574\n",
      "[16]\ttrain_set-rmse:8.29012\n",
      "[17]\ttrain_set-rmse:8.25487\n",
      "[18]\ttrain_set-rmse:8.22018\n",
      "[19]\ttrain_set-rmse:8.18596\n",
      "[20]\ttrain_set-rmse:8.15229\n",
      "[21]\ttrain_set-rmse:8.11909\n",
      "[22]\ttrain_set-rmse:8.0863\n",
      "[23]\ttrain_set-rmse:8.05408\n",
      "[24]\ttrain_set-rmse:8.02246\n",
      "[25]\ttrain_set-rmse:7.99114\n",
      "[26]\ttrain_set-rmse:7.96033\n",
      "[27]\ttrain_set-rmse:7.93002\n",
      "[28]\ttrain_set-rmse:7.90013\n",
      "[29]\ttrain_set-rmse:7.87072\n",
      "[30]\ttrain_set-rmse:7.84173\n",
      "[31]\ttrain_set-rmse:7.81314\n",
      "[32]\ttrain_set-rmse:7.78502\n",
      "[33]\ttrain_set-rmse:7.75735\n",
      "[34]\ttrain_set-rmse:7.73009\n",
      "[35]\ttrain_set-rmse:7.70336\n",
      "[36]\ttrain_set-rmse:7.67692\n",
      "[37]\ttrain_set-rmse:7.65084\n",
      "[38]\ttrain_set-rmse:7.62519\n",
      "[39]\ttrain_set-rmse:7.59996\n",
      "[40]\ttrain_set-rmse:7.57508\n",
      "[41]\ttrain_set-rmse:7.55072\n",
      "[42]\ttrain_set-rmse:7.52659\n",
      "[43]\ttrain_set-rmse:7.50286\n",
      "[44]\ttrain_set-rmse:7.4793\n",
      "[45]\ttrain_set-rmse:7.45622\n",
      "[46]\ttrain_set-rmse:7.43334\n",
      "[47]\ttrain_set-rmse:7.41085\n",
      "[48]\ttrain_set-rmse:7.38879\n",
      "[49]\ttrain_set-rmse:7.36697\n",
      "[50]\ttrain_set-rmse:7.34552\n",
      "[51]\ttrain_set-rmse:7.32431\n",
      "[52]\ttrain_set-rmse:7.30348\n",
      "[53]\ttrain_set-rmse:7.2829\n",
      "[54]\ttrain_set-rmse:7.26244\n",
      "[55]\ttrain_set-rmse:7.24232\n",
      "[56]\ttrain_set-rmse:7.22268\n",
      "[57]\ttrain_set-rmse:7.20315\n",
      "[58]\ttrain_set-rmse:7.18409\n",
      "[59]\ttrain_set-rmse:7.16545\n",
      "[60]\ttrain_set-rmse:7.14679\n",
      "[61]\ttrain_set-rmse:7.12831\n",
      "[62]\ttrain_set-rmse:7.11023\n",
      "[63]\ttrain_set-rmse:7.09259\n",
      "[64]\ttrain_set-rmse:7.07496\n",
      "[65]\ttrain_set-rmse:7.05767\n",
      "[66]\ttrain_set-rmse:7.04055\n",
      "[67]\ttrain_set-rmse:7.02392\n",
      "[68]\ttrain_set-rmse:7.00757\n",
      "[69]\ttrain_set-rmse:6.99113\n",
      "[70]\ttrain_set-rmse:6.97504\n",
      "[71]\ttrain_set-rmse:6.9591\n",
      "[72]\ttrain_set-rmse:6.9437\n",
      "[73]\ttrain_set-rmse:6.9282\n",
      "[74]\ttrain_set-rmse:6.91297\n",
      "[75]\ttrain_set-rmse:6.89827\n",
      "[76]\ttrain_set-rmse:6.88342\n",
      "[77]\ttrain_set-rmse:6.86886\n",
      "[78]\ttrain_set-rmse:6.85445\n",
      "[79]\ttrain_set-rmse:6.84062\n",
      "[80]\ttrain_set-rmse:6.82674\n",
      "[81]\ttrain_set-rmse:6.81288\n",
      "[82]\ttrain_set-rmse:6.79918\n",
      "[83]\ttrain_set-rmse:6.78617\n",
      "[84]\ttrain_set-rmse:6.77299\n",
      "[85]\ttrain_set-rmse:6.75991\n",
      "[86]\ttrain_set-rmse:6.74707\n",
      "[87]\ttrain_set-rmse:6.73436\n",
      "[88]\ttrain_set-rmse:6.72236\n",
      "[89]\ttrain_set-rmse:6.71008\n",
      "[90]\ttrain_set-rmse:6.69812\n",
      "[91]\ttrain_set-rmse:6.6862\n",
      "[92]\ttrain_set-rmse:6.67416\n",
      "[93]\ttrain_set-rmse:6.66296\n",
      "[94]\ttrain_set-rmse:6.65178\n",
      "[95]\ttrain_set-rmse:6.64058\n",
      "[96]\ttrain_set-rmse:6.62992\n",
      "[97]\ttrain_set-rmse:6.61916\n",
      "[98]\ttrain_set-rmse:6.60843\n",
      "[99]\ttrain_set-rmse:6.5983\n",
      "[100]\ttrain_set-rmse:6.58792\n",
      "[101]\ttrain_set-rmse:6.57728\n",
      "[102]\ttrain_set-rmse:6.56754\n",
      "[103]\ttrain_set-rmse:6.55775\n",
      "[104]\ttrain_set-rmse:6.54816\n",
      "[105]\ttrain_set-rmse:6.53855\n",
      "[106]\ttrain_set-rmse:6.52941\n",
      "[107]\ttrain_set-rmse:6.52023\n",
      "[108]\ttrain_set-rmse:6.51098\n",
      "[109]\ttrain_set-rmse:6.5021\n",
      "[110]\ttrain_set-rmse:6.49353\n",
      "[111]\ttrain_set-rmse:6.48485\n",
      "[112]\ttrain_set-rmse:6.47565\n",
      "[113]\ttrain_set-rmse:6.46716\n",
      "[114]\ttrain_set-rmse:6.45872\n",
      "[115]\ttrain_set-rmse:6.45049\n",
      "[116]\ttrain_set-rmse:6.44247\n",
      "[117]\ttrain_set-rmse:6.4343\n",
      "[118]\ttrain_set-rmse:6.42644\n",
      "[119]\ttrain_set-rmse:6.41873\n",
      "[120]\ttrain_set-rmse:6.41112\n",
      "[121]\ttrain_set-rmse:6.40383\n",
      "[122]\ttrain_set-rmse:6.39631\n",
      "[123]\ttrain_set-rmse:6.38904\n",
      "[124]\ttrain_set-rmse:6.38174\n",
      "[125]\ttrain_set-rmse:6.37466\n",
      "[126]\ttrain_set-rmse:6.36745\n",
      "[127]\ttrain_set-rmse:6.35982\n",
      "[128]\ttrain_set-rmse:6.35305\n",
      "[129]\ttrain_set-rmse:6.3464\n",
      "[130]\ttrain_set-rmse:6.33982\n",
      "[131]\ttrain_set-rmse:6.33337\n",
      "[132]\ttrain_set-rmse:6.32644\n",
      "[133]\ttrain_set-rmse:6.32025\n",
      "[134]\ttrain_set-rmse:6.31403\n",
      "[135]\ttrain_set-rmse:6.30796\n",
      "[136]\ttrain_set-rmse:6.30139\n",
      "[137]\ttrain_set-rmse:6.29545\n",
      "[138]\ttrain_set-rmse:6.28871\n",
      "[139]\ttrain_set-rmse:6.28294\n",
      "[140]\ttrain_set-rmse:6.2772\n",
      "[141]\ttrain_set-rmse:6.2716\n",
      "[142]\ttrain_set-rmse:6.26551\n",
      "[143]\ttrain_set-rmse:6.26006\n",
      "[144]\ttrain_set-rmse:6.25476\n",
      "[145]\ttrain_set-rmse:6.2487\n",
      "[146]\ttrain_set-rmse:6.24348\n",
      "[147]\ttrain_set-rmse:6.23789\n",
      "[148]\ttrain_set-rmse:6.23282\n",
      "[149]\ttrain_set-rmse:6.2278\n",
      "[150]\ttrain_set-rmse:6.22227\n",
      "[151]\ttrain_set-rmse:6.21744\n",
      "[152]\ttrain_set-rmse:6.21242\n",
      "[153]\ttrain_set-rmse:6.20725\n",
      "[154]\ttrain_set-rmse:6.20259\n",
      "[155]\ttrain_set-rmse:6.19761\n",
      "[156]\ttrain_set-rmse:6.19243\n",
      "[157]\ttrain_set-rmse:6.18755\n",
      "[158]\ttrain_set-rmse:6.18238\n",
      "[159]\ttrain_set-rmse:6.17738\n",
      "[160]\ttrain_set-rmse:6.17273\n",
      "[161]\ttrain_set-rmse:6.16803\n",
      "[162]\ttrain_set-rmse:6.16324\n",
      "[163]\ttrain_set-rmse:6.15876\n",
      "[164]\ttrain_set-rmse:6.15431\n",
      "[165]\ttrain_set-rmse:6.14986\n",
      "[166]\ttrain_set-rmse:6.14553\n",
      "[167]\ttrain_set-rmse:6.14124\n",
      "[168]\ttrain_set-rmse:6.13664\n",
      "[169]\ttrain_set-rmse:6.1325\n",
      "[170]\ttrain_set-rmse:6.12837\n",
      "[171]\ttrain_set-rmse:6.12433\n",
      "[172]\ttrain_set-rmse:6.12036\n",
      "[173]\ttrain_set-rmse:6.1165\n",
      "[174]\ttrain_set-rmse:6.11259\n",
      "[175]\ttrain_set-rmse:6.10882\n",
      "[176]\ttrain_set-rmse:6.10463\n",
      "[177]\ttrain_set-rmse:6.10086\n",
      "[178]\ttrain_set-rmse:6.09716\n",
      "[179]\ttrain_set-rmse:6.09349\n",
      "[180]\ttrain_set-rmse:6.08974\n",
      "[181]\ttrain_set-rmse:6.08615\n",
      "[182]\ttrain_set-rmse:6.08256\n",
      "[183]\ttrain_set-rmse:6.07914\n",
      "[184]\ttrain_set-rmse:6.07566\n",
      "[185]\ttrain_set-rmse:6.0723\n",
      "[186]\ttrain_set-rmse:6.06892\n",
      "[187]\ttrain_set-rmse:6.06556\n",
      "[188]\ttrain_set-rmse:6.06226\n",
      "[189]\ttrain_set-rmse:6.05897\n",
      "[190]\ttrain_set-rmse:6.05528\n",
      "[191]\ttrain_set-rmse:6.05214\n",
      "[192]\ttrain_set-rmse:6.04903\n",
      "[193]\ttrain_set-rmse:6.04593\n",
      "[194]\ttrain_set-rmse:6.04286\n",
      "[195]\ttrain_set-rmse:6.03804\n",
      "[196]\ttrain_set-rmse:6.03505\n",
      "[197]\ttrain_set-rmse:6.03206\n",
      "[198]\ttrain_set-rmse:6.02905\n",
      "[199]\ttrain_set-rmse:6.02443\n",
      "[200]\ttrain_set-rmse:6.02159\n",
      "[201]\ttrain_set-rmse:6.01882\n",
      "[202]\ttrain_set-rmse:6.01608\n",
      "[203]\ttrain_set-rmse:6.01164\n",
      "[204]\ttrain_set-rmse:6.00885\n",
      "[205]\ttrain_set-rmse:6.00619\n",
      "[206]\ttrain_set-rmse:6.00184\n",
      "[207]\ttrain_set-rmse:5.99925\n",
      "[208]\ttrain_set-rmse:5.9967\n",
      "[209]\ttrain_set-rmse:5.99421\n",
      "[210]\ttrain_set-rmse:5.99171\n",
      "[211]\ttrain_set-rmse:5.98758\n",
      "[212]\ttrain_set-rmse:5.98515\n",
      "[213]\ttrain_set-rmse:5.98264\n",
      "[214]\ttrain_set-rmse:5.9786\n",
      "[215]\ttrain_set-rmse:5.97624\n",
      "[216]\ttrain_set-rmse:5.97231\n",
      "[217]\ttrain_set-rmse:5.96988\n",
      "[218]\ttrain_set-rmse:5.96748\n",
      "[219]\ttrain_set-rmse:5.96503\n",
      "[220]\ttrain_set-rmse:5.96125\n",
      "[221]\ttrain_set-rmse:5.95904\n",
      "[222]\ttrain_set-rmse:5.95676\n",
      "[223]\ttrain_set-rmse:5.95443\n",
      "[224]\ttrain_set-rmse:5.95075\n",
      "[225]\ttrain_set-rmse:5.94851\n",
      "[226]\ttrain_set-rmse:5.94641\n",
      "[227]\ttrain_set-rmse:5.94386\n",
      "[228]\ttrain_set-rmse:5.94184\n",
      "[229]\ttrain_set-rmse:5.93829\n",
      "[230]\ttrain_set-rmse:5.93619\n",
      "[231]\ttrain_set-rmse:5.93404\n",
      "[232]\ttrain_set-rmse:5.93209\n",
      "[233]\ttrain_set-rmse:5.93001\n",
      "[234]\ttrain_set-rmse:5.92658\n",
      "[235]\ttrain_set-rmse:5.92453\n",
      "[236]\ttrain_set-rmse:5.92255\n",
      "[237]\ttrain_set-rmse:5.91922\n",
      "[238]\ttrain_set-rmse:5.91735\n",
      "[239]\ttrain_set-rmse:5.91544\n",
      "[240]\ttrain_set-rmse:5.91316\n",
      "[241]\ttrain_set-rmse:5.91136\n",
      "[242]\ttrain_set-rmse:5.90914\n",
      "[243]\ttrain_set-rmse:5.90662\n",
      "[244]\ttrain_set-rmse:5.90488\n",
      "[245]\ttrain_set-rmse:5.90311\n",
      "[246]\ttrain_set-rmse:5.90143\n",
      "[247]\ttrain_set-rmse:5.89775\n",
      "[248]\ttrain_set-rmse:5.89544\n",
      "[249]\ttrain_set-rmse:5.89379\n",
      "[250]\ttrain_set-rmse:5.89207\n",
      "[251]\ttrain_set-rmse:5.88848\n",
      "[252]\ttrain_set-rmse:5.88661\n",
      "[253]\ttrain_set-rmse:5.88503\n",
      "[254]\ttrain_set-rmse:5.88338\n",
      "[255]\ttrain_set-rmse:5.88185\n",
      "[256]\ttrain_set-rmse:5.87954\n",
      "[257]\ttrain_set-rmse:5.87739\n",
      "[258]\ttrain_set-rmse:5.87586\n",
      "[259]\ttrain_set-rmse:5.87429\n",
      "[260]\ttrain_set-rmse:5.87085\n",
      "[261]\ttrain_set-rmse:5.86942\n",
      "[262]\ttrain_set-rmse:5.86771\n",
      "[263]\ttrain_set-rmse:5.8662\n",
      "[264]\ttrain_set-rmse:5.86336\n",
      "[265]\ttrain_set-rmse:5.86198\n",
      "[266]\ttrain_set-rmse:5.85954\n",
      "[267]\ttrain_set-rmse:5.85816\n",
      "[268]\ttrain_set-rmse:5.85484\n",
      "[269]\ttrain_set-rmse:5.85157\n",
      "[270]\ttrain_set-rmse:5.85001\n",
      "[271]\ttrain_set-rmse:5.84683\n",
      "[272]\ttrain_set-rmse:5.8453\n",
      "[273]\ttrain_set-rmse:5.84392\n",
      "[274]\ttrain_set-rmse:5.84035\n",
      "[275]\ttrain_set-rmse:5.83908\n",
      "[276]\ttrain_set-rmse:5.83751\n",
      "[277]\ttrain_set-rmse:5.83582\n",
      "[278]\ttrain_set-rmse:5.83233\n",
      "[279]\ttrain_set-rmse:5.8311\n",
      "[280]\ttrain_set-rmse:5.82964\n",
      "[281]\ttrain_set-rmse:5.82843\n",
      "[282]\ttrain_set-rmse:5.82715\n",
      "[283]\ttrain_set-rmse:5.82376\n",
      "[284]\ttrain_set-rmse:5.82042\n",
      "[285]\ttrain_set-rmse:5.81896\n",
      "[286]\ttrain_set-rmse:5.81757\n",
      "[287]\ttrain_set-rmse:5.81431\n"
     ]
    },
    {
     "name": "stdout",
     "output_type": "stream",
     "text": [
      "[288]\ttrain_set-rmse:5.81311\n",
      "[289]\ttrain_set-rmse:5.8099\n",
      "[290]\ttrain_set-rmse:5.80827\n",
      "[291]\ttrain_set-rmse:5.80716\n",
      "[292]\ttrain_set-rmse:5.80561\n",
      "[293]\ttrain_set-rmse:5.80442\n",
      "[294]\ttrain_set-rmse:5.80327\n",
      "[295]\ttrain_set-rmse:5.80015\n",
      "[296]\ttrain_set-rmse:5.79902\n",
      "[297]\ttrain_set-rmse:5.79788\n",
      "[298]\ttrain_set-rmse:5.79655\n",
      "[299]\ttrain_set-rmse:5.79542\n",
      "[300]\ttrain_set-rmse:5.79234\n",
      "[301]\ttrain_set-rmse:5.79121\n",
      "[302]\ttrain_set-rmse:5.79007\n",
      "[303]\ttrain_set-rmse:5.78864\n",
      "[304]\ttrain_set-rmse:5.78753\n",
      "[305]\ttrain_set-rmse:5.78644\n",
      "[306]\ttrain_set-rmse:5.78539\n",
      "[307]\ttrain_set-rmse:5.7843\n",
      "[308]\ttrain_set-rmse:5.78132\n",
      "[309]\ttrain_set-rmse:5.77981\n",
      "[310]\ttrain_set-rmse:5.77886\n",
      "[311]\ttrain_set-rmse:5.77656\n",
      "[312]\ttrain_set-rmse:5.77555\n",
      "[313]\ttrain_set-rmse:5.77452\n",
      "[314]\ttrain_set-rmse:5.77328\n",
      "[315]\ttrain_set-rmse:5.77203\n",
      "[316]\ttrain_set-rmse:5.77098\n",
      "[317]\ttrain_set-rmse:5.77001\n",
      "[318]\ttrain_set-rmse:5.76901\n",
      "[319]\ttrain_set-rmse:5.76696\n",
      "[320]\ttrain_set-rmse:5.76405\n",
      "[321]\ttrain_set-rmse:5.76316\n",
      "[322]\ttrain_set-rmse:5.76223\n",
      "[323]\ttrain_set-rmse:5.76128\n",
      "[324]\ttrain_set-rmse:5.76011\n",
      "[325]\ttrain_set-rmse:5.75919\n",
      "[326]\ttrain_set-rmse:5.75826\n",
      "[327]\ttrain_set-rmse:5.75707\n",
      "[328]\ttrain_set-rmse:5.75438\n",
      "[329]\ttrain_set-rmse:5.75356\n",
      "[330]\ttrain_set-rmse:5.75279\n",
      "[331]\ttrain_set-rmse:5.75199\n",
      "[332]\ttrain_set-rmse:5.7508\n",
      "[333]\ttrain_set-rmse:5.75003\n",
      "[334]\ttrain_set-rmse:5.74925\n",
      "[335]\ttrain_set-rmse:5.74731\n",
      "[336]\ttrain_set-rmse:5.74496\n",
      "[337]\ttrain_set-rmse:5.74408\n",
      "[338]\ttrain_set-rmse:5.74336\n",
      "[339]\ttrain_set-rmse:5.7426\n",
      "[340]\ttrain_set-rmse:5.74145\n",
      "[341]\ttrain_set-rmse:5.74074\n",
      "[342]\ttrain_set-rmse:5.73991\n",
      "[343]\ttrain_set-rmse:5.7375\n",
      "[344]\ttrain_set-rmse:5.73642\n",
      "[345]\ttrain_set-rmse:5.73414\n",
      "[346]\ttrain_set-rmse:5.73338\n",
      "[347]\ttrain_set-rmse:5.7327\n",
      "[348]\ttrain_set-rmse:5.73193\n",
      "[349]\ttrain_set-rmse:5.72938\n",
      "[350]\ttrain_set-rmse:5.72714\n",
      "[351]\ttrain_set-rmse:5.72636\n",
      "[352]\ttrain_set-rmse:5.72572\n",
      "[353]\ttrain_set-rmse:5.72464\n",
      "[354]\ttrain_set-rmse:5.7239\n",
      "[355]\ttrain_set-rmse:5.72327\n",
      "[356]\ttrain_set-rmse:5.72109\n",
      "[357]\ttrain_set-rmse:5.72029\n",
      "[358]\ttrain_set-rmse:5.71968\n",
      "[359]\ttrain_set-rmse:5.71868\n",
      "[360]\ttrain_set-rmse:5.71806\n",
      "[361]\ttrain_set-rmse:5.71556\n",
      "[362]\ttrain_set-rmse:5.71497\n",
      "[363]\ttrain_set-rmse:5.7142\n",
      "[364]\ttrain_set-rmse:5.71318\n",
      "[365]\ttrain_set-rmse:5.7126\n",
      "[366]\ttrain_set-rmse:5.71015\n",
      "[367]\ttrain_set-rmse:5.70947\n",
      "[368]\ttrain_set-rmse:5.7089\n",
      "[369]\ttrain_set-rmse:5.70833\n",
      "[370]\ttrain_set-rmse:5.7076\n",
      "[371]\ttrain_set-rmse:5.70705\n",
      "[372]\ttrain_set-rmse:5.70482\n",
      "[373]\ttrain_set-rmse:5.70409\n",
      "[374]\ttrain_set-rmse:5.703\n",
      "[375]\ttrain_set-rmse:5.70092\n",
      "[376]\ttrain_set-rmse:5.7002\n",
      "[377]\ttrain_set-rmse:5.69963\n",
      "[378]\ttrain_set-rmse:5.69907\n",
      "[379]\ttrain_set-rmse:5.69844\n",
      "[380]\ttrain_set-rmse:5.69791\n",
      "[381]\ttrain_set-rmse:5.69558\n",
      "[382]\ttrain_set-rmse:5.69509\n",
      "[383]\ttrain_set-rmse:5.69417\n",
      "[384]\ttrain_set-rmse:5.69348\n",
      "[385]\ttrain_set-rmse:5.69138\n",
      "[386]\ttrain_set-rmse:5.69092\n",
      "[387]\ttrain_set-rmse:5.69031\n",
      "[388]\ttrain_set-rmse:5.68846\n",
      "[389]\ttrain_set-rmse:5.68736\n",
      "[390]\ttrain_set-rmse:5.68691\n",
      "[391]\ttrain_set-rmse:5.68636\n",
      "[392]\ttrain_set-rmse:5.6843\n",
      "[393]\ttrain_set-rmse:5.68365\n",
      "[394]\ttrain_set-rmse:5.68261\n",
      "[395]\ttrain_set-rmse:5.68202\n",
      "[396]\ttrain_set-rmse:5.67998\n",
      "[397]\ttrain_set-rmse:5.67934\n",
      "[398]\ttrain_set-rmse:5.67891\n",
      "[399]\ttrain_set-rmse:5.67786\n",
      "[400]\ttrain_set-rmse:5.6773\n",
      "[401]\ttrain_set-rmse:5.67507\n",
      "[402]\ttrain_set-rmse:5.67455\n",
      "[403]\ttrain_set-rmse:5.67255\n",
      "[404]\ttrain_set-rmse:5.67156\n",
      "[405]\ttrain_set-rmse:5.67095\n",
      "[406]\ttrain_set-rmse:5.67054\n",
      "[407]\ttrain_set-rmse:5.67\n",
      "[408]\ttrain_set-rmse:5.669\n",
      "[409]\ttrain_set-rmse:5.66685\n",
      "[410]\ttrain_set-rmse:5.66646\n",
      "[411]\ttrain_set-rmse:5.66587\n",
      "[412]\ttrain_set-rmse:5.66507\n",
      "[413]\ttrain_set-rmse:5.66458\n",
      "[414]\ttrain_set-rmse:5.66302\n",
      "[415]\ttrain_set-rmse:5.6625\n",
      "[416]\ttrain_set-rmse:5.66057\n",
      "[417]\ttrain_set-rmse:5.66002\n",
      "[418]\ttrain_set-rmse:5.65964\n",
      "[419]\ttrain_set-rmse:5.65869\n",
      "[420]\ttrain_set-rmse:5.65818\n",
      "[421]\ttrain_set-rmse:5.65611\n",
      "[422]\ttrain_set-rmse:5.65565\n",
      "[423]\ttrain_set-rmse:5.65376\n",
      "[424]\ttrain_set-rmse:5.65327\n",
      "[425]\ttrain_set-rmse:5.65234\n",
      "[426]\ttrain_set-rmse:5.65186\n",
      "[427]\ttrain_set-rmse:5.65129\n",
      "[428]\ttrain_set-rmse:5.6509\n",
      "[429]\ttrain_set-rmse:5.65031\n",
      "[430]\ttrain_set-rmse:5.64996\n",
      "[431]\ttrain_set-rmse:5.64905\n",
      "[432]\ttrain_set-rmse:5.64861\n",
      "[433]\ttrain_set-rmse:5.64803\n",
      "[434]\ttrain_set-rmse:5.64601\n",
      "[435]\ttrain_set-rmse:5.64489\n",
      "[436]\ttrain_set-rmse:5.64401\n",
      "[437]\ttrain_set-rmse:5.64347\n",
      "[438]\ttrain_set-rmse:5.64309\n",
      "[439]\ttrain_set-rmse:5.64163\n",
      "[440]\ttrain_set-rmse:5.64126\n",
      "[441]\ttrain_set-rmse:5.64068\n",
      "[442]\ttrain_set-rmse:5.63937\n",
      "[443]\ttrain_set-rmse:5.63903\n",
      "[444]\ttrain_set-rmse:5.63817\n",
      "[445]\ttrain_set-rmse:5.63678\n",
      "[446]\ttrain_set-rmse:5.63636\n",
      "[447]\ttrain_set-rmse:5.63582\n",
      "[448]\ttrain_set-rmse:5.63492\n",
      "[449]\ttrain_set-rmse:5.63456\n"
     ]
    }
   ],
   "source": [
    "#Training with best params3 and 450 ntree.\n",
    "xgb_model_final = xgboost.train(params3, xg_train_full,evals = [(xg_train_full , \"train_set\")], evals_result=progress3\n",
    "                                         ,num_boost_round=450)"
   ]
  },
  {
   "cell_type": "code",
   "execution_count": 235,
   "metadata": {},
   "outputs": [],
   "source": [
    "lm_model_for_cv = LinearRegression().fit(train33.drop(['shop_id','item_id','item_category_id','item_cnt_month','unique'], axis = 1),train33['item_cnt_month'])"
   ]
  },
  {
   "cell_type": "code",
   "execution_count": 229,
   "metadata": {},
   "outputs": [],
   "source": [
    "lm_model_final = LinearRegression().fit(train_full.drop(['shop_id','item_id','item_category_id','item_cnt_month','unique'], axis = 1),train_full['item_cnt_month'])"
   ]
  },
  {
   "cell_type": "code",
   "execution_count": 230,
   "metadata": {},
   "outputs": [
    {
     "data": {
      "text/plain": [
       "16"
      ]
     },
     "execution_count": 230,
     "metadata": {},
     "output_type": "execute_result"
    }
   ],
   "source": []
  },
  {
   "cell_type": "code",
   "execution_count": 231,
   "metadata": {},
   "outputs": [],
   "source": [
    "test_full_knn = test_full_knn[train_full.drop('item_cnt_month',axis = 1).columns]"
   ]
  },
  {
   "cell_type": "code",
   "execution_count": 241,
   "metadata": {},
   "outputs": [],
   "source": [
    "from tqdm import tqdm"
   ]
  },
  {
   "cell_type": "code",
   "execution_count": 322,
   "metadata": {},
   "outputs": [
    {
     "name": "stderr",
     "output_type": "stream",
     "text": [
      "100%|██████████| 1000/1000 [00:13<00:00, 71.62it/s]\n"
     ]
    }
   ],
   "source": [
    "#First finding best alpha for ensembling on val set. alpha*lin + (1-alpha)*xgb\n",
    "alphas = np.arange(0,1,0.001)\n",
    "best_alpha = 0\n",
    "for_xg = xgb_model_3_001_1.predict(xg_val_33,ntree_limit=450)\n",
    "for_lm = lm_model_for_cv.predict(val33.drop(['shop_id','item_id','item_category_id','item_cnt_month','unique'], axis = 1))\n",
    "best_error = compute_trimmed_rmse(for_xg.copy(),val33['item_cnt_month'].copy())\n",
    "for alpha in tqdm(alphas):\n",
    "    temp_pred = alpha*for_lm + (1-alpha)*for_xg\n",
    "    temp_error = compute_trimmed_rmse(temp_pred.copy() , val33['item_cnt_month'].copy())\n",
    "    if (temp_error < best_error):\n",
    "        best_alpha= alpha\n",
    "        best_error = temp_error"
   ]
  },
  {
   "cell_type": "code",
   "execution_count": 323,
   "metadata": {},
   "outputs": [
    {
     "data": {
      "text/plain": [
       "0.083"
      ]
     },
     "execution_count": 323,
     "metadata": {},
     "output_type": "execute_result"
    }
   ],
   "source": [
    "best_alpha"
   ]
  },
  {
   "cell_type": "code",
   "execution_count": 324,
   "metadata": {},
   "outputs": [
    {
     "data": {
      "text/plain": [
       "2.180176956943488"
      ]
     },
     "execution_count": 324,
     "metadata": {},
     "output_type": "execute_result"
    }
   ],
   "source": [
    "best_error"
   ]
  },
  {
   "cell_type": "code",
   "execution_count": 255,
   "metadata": {},
   "outputs": [],
   "source": [
    "#This looks good.\n",
    "test_full_knn['is_music'] = test_full_knn['is_music'].astype(np.float)\n",
    "test_xg_set = xgboost.DMatrix(test_full_knn.drop(['shop_id','item_id','item_category_id','unique'], axis = 1))\n",
    "test_pred_xg = xgb_model_final.predict(test_xg_set,ntree_limit=450)\n",
    "test_pred_lm = lm_model_final.predict(test_full_knn.drop(['shop_id','item_id','item_category_id','unique'], axis = 1))"
   ]
  },
  {
   "cell_type": "code",
   "execution_count": 256,
   "metadata": {},
   "outputs": [],
   "source": [
    "final_prediction = (1-0.083)*test_pred_xg + 0.083*test_pred_lm"
   ]
  },
  {
   "cell_type": "code",
   "execution_count": 257,
   "metadata": {},
   "outputs": [
    {
     "data": {
      "text/plain": [
       "23838"
      ]
     },
     "execution_count": 257,
     "metadata": {},
     "output_type": "execute_result"
    }
   ],
   "source": [
    "len(np.unique(final_prediction))"
   ]
  },
  {
   "cell_type": "code",
   "execution_count": 258,
   "metadata": {},
   "outputs": [],
   "source": [
    "for_fun = pd.read_csv('sep5_less_005.csv')"
   ]
  },
  {
   "cell_type": "code",
   "execution_count": 259,
   "metadata": {},
   "outputs": [
    {
     "data": {
      "text/plain": [
       "518.5732617479164"
      ]
     },
     "execution_count": 259,
     "metadata": {},
     "output_type": "execute_result"
    }
   ],
   "source": [
    "max(final_prediction)"
   ]
  },
  {
   "cell_type": "code",
   "execution_count": 260,
   "metadata": {},
   "outputs": [],
   "source": [
    "#Submission\n",
    "submission = pd.DataFrame({'ID':test_full['ID'],'item_cnt_month':final_prediction})"
   ]
  },
  {
   "cell_type": "code",
   "execution_count": 261,
   "metadata": {},
   "outputs": [],
   "source": [
    "submission.loc[submission['item_cnt_month']>20,'item_cnt_month'] = 20\n",
    "submission.loc[submission['item_cnt_month']<0,'item_cnt_month'] = 0"
   ]
  },
  {
   "cell_type": "code",
   "execution_count": 263,
   "metadata": {},
   "outputs": [
    {
     "data": {
      "text/plain": [
       "0.6014871043721057"
      ]
     },
     "execution_count": 263,
     "metadata": {},
     "output_type": "execute_result"
    }
   ],
   "source": [
    "min(submission['item_cnt_month'])"
   ]
  },
  {
   "cell_type": "code",
   "execution_count": 264,
   "metadata": {},
   "outputs": [
    {
     "data": {
      "text/plain": [
       "2.135574940211865"
      ]
     },
     "execution_count": 264,
     "metadata": {},
     "output_type": "execute_result"
    }
   ],
   "source": [
    "compute_trimmed_rmse(for_fun['item_cnt_month'].copy(),submission['item_cnt_month'].copy())"
   ]
  },
  {
   "cell_type": "code",
   "execution_count": 266,
   "metadata": {},
   "outputs": [],
   "source": [
    "submission2 = submission.copy()"
   ]
  },
  {
   "cell_type": "code",
   "execution_count": 267,
   "metadata": {},
   "outputs": [],
   "source": [
    "submission2['item_cnt_month'] = submission2['item_cnt_month'] - 0.1"
   ]
  },
  {
   "cell_type": "code",
   "execution_count": null,
   "metadata": {},
   "outputs": [],
   "source": [
    "submission2.loc[submission2['item_cnt_month']>20,'item_cnt_month'] = 20\n",
    "submission2.loc[submission2['item_cnt_month']<0,'item_cnt_month'] = 0"
   ]
  },
  {
   "cell_type": "code",
   "execution_count": 268,
   "metadata": {},
   "outputs": [],
   "source": [
    "submission2.to_csv('submit_imputed_knn-0.1.csv',index= False)"
   ]
  },
  {
   "cell_type": "code",
   "execution_count": 265,
   "metadata": {},
   "outputs": [],
   "source": [
    "submission.to_csv('submit_imputed_knn.csv',index=False)"
   ]
  },
  {
   "cell_type": "code",
   "execution_count": 269,
   "metadata": {},
   "outputs": [
    {
     "data": {
      "text/plain": [
       "ID                              0\n",
       "shop_id                         0\n",
       "item_id                         0\n",
       "item_category_id            15246\n",
       "indicator                       0\n",
       "is_music                    15246\n",
       "lag_shop_item_comb          15246\n",
       "lag_only_item               15246\n",
       "lag_only_item_cat           15246\n",
       "unique                          0\n",
       "lag2_only_item_cat          15246\n",
       "lag2_only_item              15246\n",
       "lag2_shop_item_comb         15246\n",
       "seasonal_freq_3_feature         0\n",
       "prev_month_category_mean    15246\n",
       "item_price                  15246\n",
       "dtype: int64"
      ]
     },
     "execution_count": 269,
     "metadata": {},
     "output_type": "execute_result"
    }
   ],
   "source": [
    "np.sum(pd.isnull(test_full),axis = 0)"
   ]
  },
  {
   "cell_type": "code",
   "execution_count": 270,
   "metadata": {},
   "outputs": [],
   "source": [
    "get_index = test_full[pd.isnull(test_full['item_category_id'])].index"
   ]
  },
  {
   "cell_type": "code",
   "execution_count": 272,
   "metadata": {},
   "outputs": [],
   "source": [
    "get_index = get_index.values"
   ]
  },
  {
   "cell_type": "code",
   "execution_count": 273,
   "metadata": {},
   "outputs": [
    {
     "data": {
      "text/plain": [
       "array([     1,      4,     45, ..., 214154, 214161, 214173])"
      ]
     },
     "execution_count": 273,
     "metadata": {},
     "output_type": "execute_result"
    }
   ],
   "source": [
    "get_index"
   ]
  },
  {
   "cell_type": "code",
   "execution_count": 233,
   "metadata": {},
   "outputs": [
    {
     "data": {
      "text/plain": [
       "Index(['shop_id', 'item_id', 'unique', 'item_price', 'item_category_id',\n",
       "       'is_music', 'lag_shop_item_comb', 'lag_only_item', 'lag_only_item_cat',\n",
       "       'lag2_only_item_cat', 'lag2_shop_item_comb', 'lag2_only_item',\n",
       "       'seasonal_freq_3_feature', 'prev_month_category_mean'],\n",
       "      dtype='object')"
      ]
     },
     "execution_count": 233,
     "metadata": {},
     "output_type": "execute_result"
    }
   ],
   "source": [
    "test_full_knn.columns"
   ]
  },
  {
   "cell_type": "code",
   "execution_count": 276,
   "metadata": {},
   "outputs": [],
   "source": [
    "submission.iloc[get_index,1] = 0"
   ]
  },
  {
   "cell_type": "code",
   "execution_count": 279,
   "metadata": {},
   "outputs": [],
   "source": [
    "submission.to_csv('submit_no_knn.csv',index=False)"
   ]
  },
  {
   "cell_type": "code",
   "execution_count": 280,
   "metadata": {},
   "outputs": [
    {
     "data": {
      "text/plain": [
       "20.0"
      ]
     },
     "execution_count": 280,
     "metadata": {},
     "output_type": "execute_result"
    }
   ],
   "source": [
    "max(submission['item_cnt_month'])"
   ]
  },
  {
   "cell_type": "code",
   "execution_count": 281,
   "metadata": {},
   "outputs": [
    {
     "data": {
      "text/plain": [
       "0.0"
      ]
     },
     "execution_count": 281,
     "metadata": {},
     "output_type": "execute_result"
    }
   ],
   "source": [
    "min(submission['item_cnt_month'])"
   ]
  },
  {
   "cell_type": "code",
   "execution_count": 282,
   "metadata": {},
   "outputs": [
    {
     "name": "stderr",
     "output_type": "stream",
     "text": [
      "/anaconda/lib/python3.6/site-packages/scipy/stats/stats.py:1713: FutureWarning: Using a non-tuple sequence for multidimensional indexing is deprecated; use `arr[tuple(seq)]` instead of `arr[seq]`. In the future this will be interpreted as an array index, `arr[np.array(seq)]`, which will result either in an error or a different result.\n",
      "  return np.add.reduce(sorted[indexer] * weights, axis=axis) / sumval\n",
      "/anaconda/lib/python3.6/site-packages/matplotlib/axes/_axes.py:6462: UserWarning: The 'normed' kwarg is deprecated, and has been replaced by the 'density' kwarg.\n",
      "  warnings.warn(\"The 'normed' kwarg is deprecated, and has been \"\n"
     ]
    },
    {
     "data": {
      "image/png": "[encoded data removed]",
      "text/plain": [
       "<Figure size 432x288 with 1 Axes>"
      ]
     },
     "metadata": {},
     "output_type": "display_data"
    }
   ],
   "source": [
    "sns.distplot(submission['item_cnt_month'])\n",
    "plt.show()"
   ]
  },
  {
   "cell_type": "code",
   "execution_count": 294,
   "metadata": {},
   "outputs": [
    {
     "data": {
      "image/png": "[encoded data removed]",
      "text/plain": [
       "<Figure size 432x288 with 1 Axes>"
      ]
     },
     "metadata": {},
     "output_type": "display_data"
    }
   ],
   "source": [
    "plt.scatter((1-0.082)*for_xg+0.082*for_lm,val33['item_cnt_month'])\n",
    "plt.xlim((0,200))\n",
    "plt.ylim((0,300))\n",
    "plt.xlabel('predicted_val')\n",
    "plt.ylabel('actual_val')\n",
    "plt.show()"
   ]
  },
  {
   "cell_type": "code",
   "execution_count": 290,
   "metadata": {
    "scrolled": true
   },
   "outputs": [
    {
     "data": {
      "text/plain": [
       "518.9113"
      ]
     },
     "execution_count": 290,
     "metadata": {},
     "output_type": "execute_result"
    }
   ],
   "source": [
    "max(for_xg)"
   ]
  },
  {
   "cell_type": "code",
   "execution_count": 296,
   "metadata": {},
   "outputs": [
    {
     "data": {
      "text/html": [
       "<div>\n",
       "<style>\n",
       "    .dataframe thead tr:only-child th {\n",
       "        text-align: right;\n",
       "    }\n",
       "\n",
       "    .dataframe thead th {\n",
       "        text-align: left;\n",
       "    }\n",
       "\n",
       "    .dataframe tbody tr th {\n",
       "        vertical-align: top;\n",
       "    }\n",
       "</style>\n",
       "<table border=\"1\" class=\"dataframe\">\n",
       "  <thead>\n",
       "    <tr style=\"text-align: right;\">\n",
       "      <th></th>\n",
       "      <th>Unnamed: 0</th>\n",
       "      <th>Model1</th>\n",
       "      <th>Model2</th>\n",
       "      <th>Model3</th>\n",
       "      <th>Model4</th>\n",
       "      <th>Ensemble_Type</th>\n",
       "      <th>Val_Prediction_Name</th>\n",
       "      <th>Test_Prediction_Name</th>\n",
       "      <th>Validation_Type</th>\n",
       "      <th>Validation Set</th>\n",
       "      <th>Validation_Score_before_clip</th>\n",
       "      <th>Validation_Score_after_clip</th>\n",
       "      <th>Public_LB_Score</th>\n",
       "      <th>Features</th>\n",
       "    </tr>\n",
       "  </thead>\n",
       "  <tbody>\n",
       "    <tr>\n",
       "      <th>0</th>\n",
       "      <td>0</td>\n",
       "      <td>xg_model_1_001_subsample_1</td>\n",
       "      <td>lm_model_standardized</td>\n",
       "      <td>rf_n_est_1000_depth_3_sqrt</td>\n",
       "      <td>None</td>\n",
       "      <td>Average</td>\n",
       "      <td>triple_ensemble</td>\n",
       "      <td>trip_ens_submission</td>\n",
       "      <td>Time_based</td>\n",
       "      <td>dropped_col_val33_no_na</td>\n",
       "      <td>22.152129</td>\n",
       "      <td>2.163706</td>\n",
       "      <td>1.17125</td>\n",
       "      <td>Lag1</td>\n",
       "    </tr>\n",
       "    <tr>\n",
       "      <th>1</th>\n",
       "      <td>1</td>\n",
       "      <td>xg_model_1_001_subsample_1</td>\n",
       "      <td>lm_model_standardized</td>\n",
       "      <td>rf_n_est_1000_depth_3_sqrt</td>\n",
       "      <td>None</td>\n",
       "      <td>Average</td>\n",
       "      <td>triple_ensemble_sub_025</td>\n",
       "      <td>trip_ens_submission_sub_025</td>\n",
       "      <td>Time_based</td>\n",
       "      <td>dropped_col_val33_no_na</td>\n",
       "      <td>22.152377</td>\n",
       "      <td>2.160372</td>\n",
       "      <td>1.16766</td>\n",
       "      <td>Lag1</td>\n",
       "    </tr>\n",
       "    <tr>\n",
       "      <th>2</th>\n",
       "      <td>2</td>\n",
       "      <td>xg_model_1_001_subsample_1</td>\n",
       "      <td>lm_model</td>\n",
       "      <td>None</td>\n",
       "      <td>None</td>\n",
       "      <td>Average</td>\n",
       "      <td>ensemble_lin_xgb</td>\n",
       "      <td>test_ensemble_lin_xgb</td>\n",
       "      <td>Time_based</td>\n",
       "      <td>dropped_col_val33_no_na</td>\n",
       "      <td>20.782377</td>\n",
       "      <td>2.151485</td>\n",
       "      <td>1.14767</td>\n",
       "      <td>Lag1</td>\n",
       "    </tr>\n",
       "    <tr>\n",
       "      <th>3</th>\n",
       "      <td>0</td>\n",
       "      <td>xg_model_6_01_subsample_1</td>\n",
       "      <td>lm_model</td>\n",
       "      <td>None</td>\n",
       "      <td>None</td>\n",
       "      <td>alpha(0.092*lm+0.908*xg)</td>\n",
       "      <td>ensemble_lin_xgb_0092</td>\n",
       "      <td>ensemble_lin_xgb_0092_lag1_lag2_season</td>\n",
       "      <td>Time_based</td>\n",
       "      <td>subset_of_train_full_lag1_lag2_seasonal</td>\n",
       "      <td>24.935000</td>\n",
       "      <td>2.047780</td>\n",
       "      <td>1.09124</td>\n",
       "      <td>Lag1_Lag2_Seasonal</td>\n",
       "    </tr>\n",
       "    <tr>\n",
       "      <th>4</th>\n",
       "      <td>0</td>\n",
       "      <td>xg_model_6_01_subsample_1</td>\n",
       "      <td>lm_model</td>\n",
       "      <td>None</td>\n",
       "      <td>None</td>\n",
       "      <td>alpha(0.092*lm+0.908*xg)</td>\n",
       "      <td>ensemble_lin_xgb_0092_less_0025</td>\n",
       "      <td>ensemble_lin_xgb_0092_lag1_lag2_season_less_0025</td>\n",
       "      <td>Time_based</td>\n",
       "      <td>subset_of_train_full_lag1_lag2_seasonal</td>\n",
       "      <td>24.936000</td>\n",
       "      <td>2.050922</td>\n",
       "      <td>1.09067</td>\n",
       "      <td>Lag1_Lag2_Seasonal</td>\n",
       "    </tr>\n",
       "  </tbody>\n",
       "</table>\n",
       "</div>"
      ],
      "text/plain": [
       "   Unnamed: 0                      Model1                 Model2  \\\n",
       "0           0  xg_model_1_001_subsample_1  lm_model_standardized   \n",
       "1           1  xg_model_1_001_subsample_1  lm_model_standardized   \n",
       "2           2  xg_model_1_001_subsample_1               lm_model   \n",
       "3           0   xg_model_6_01_subsample_1               lm_model   \n",
       "4           0   xg_model_6_01_subsample_1               lm_model   \n",
       "\n",
       "                       Model3 Model4             Ensemble_Type  \\\n",
       "0  rf_n_est_1000_depth_3_sqrt   None                   Average   \n",
       "1  rf_n_est_1000_depth_3_sqrt   None                   Average   \n",
       "2                        None   None                   Average   \n",
       "3                        None   None  alpha(0.092*lm+0.908*xg)   \n",
       "4                        None   None  alpha(0.092*lm+0.908*xg)   \n",
       "\n",
       "               Val_Prediction_Name  \\\n",
       "0                  triple_ensemble   \n",
       "1          triple_ensemble_sub_025   \n",
       "2                 ensemble_lin_xgb   \n",
       "3            ensemble_lin_xgb_0092   \n",
       "4  ensemble_lin_xgb_0092_less_0025   \n",
       "\n",
       "                               Test_Prediction_Name Validation_Type  \\\n",
       "0                               trip_ens_submission      Time_based   \n",
       "1                       trip_ens_submission_sub_025      Time_based   \n",
       "2                             test_ensemble_lin_xgb      Time_based   \n",
       "3            ensemble_lin_xgb_0092_lag1_lag2_season      Time_based   \n",
       "4  ensemble_lin_xgb_0092_lag1_lag2_season_less_0025      Time_based   \n",
       "\n",
       "                            Validation Set  Validation_Score_before_clip  \\\n",
       "0                  dropped_col_val33_no_na                     22.152129   \n",
       "1                  dropped_col_val33_no_na                     22.152377   \n",
       "2                  dropped_col_val33_no_na                     20.782377   \n",
       "3  subset_of_train_full_lag1_lag2_seasonal                     24.935000   \n",
       "4  subset_of_train_full_lag1_lag2_seasonal                     24.936000   \n",
       "\n",
       "   Validation_Score_after_clip  Public_LB_Score            Features  \n",
       "0                     2.163706          1.17125                Lag1  \n",
       "1                     2.160372          1.16766                Lag1  \n",
       "2                     2.151485          1.14767                Lag1  \n",
       "3                     2.047780          1.09124  Lag1_Lag2_Seasonal  \n",
       "4                     2.050922          1.09067  Lag1_Lag2_Seasonal  "
      ]
     },
     "execution_count": 296,
     "metadata": {},
     "output_type": "execute_result"
    }
   ],
   "source": [
    "#Lets try luck with randomforest, I'm overfitting.\n",
    "#Forget Linear_regression it aint no good.\n",
    "monitoring_data"
   ]
  },
  {
   "cell_type": "code",
   "execution_count": 313,
   "metadata": {},
   "outputs": [],
   "source": [
    "rf_n_est_1000_depth_5_sqrt_cv = RandomForestRegressor(n_estimators = 1000, criterion='mse' , max_depth= 5, n_jobs = -1, verbose = 1, max_features= \"sqrt\")"
   ]
  },
  {
   "cell_type": "code",
   "execution_count": 314,
   "metadata": {},
   "outputs": [
    {
     "name": "stderr",
     "output_type": "stream",
     "text": [
      "[Parallel(n_jobs=-1)]: Done  42 tasks      | elapsed:   22.6s\n",
      "[Parallel(n_jobs=-1)]: Done 192 tasks      | elapsed:  1.7min\n",
      "[Parallel(n_jobs=-1)]: Done 442 tasks      | elapsed:  3.9min\n",
      "[Parallel(n_jobs=-1)]: Done 792 tasks      | elapsed:  6.9min\n",
      "[Parallel(n_jobs=-1)]: Done 1000 out of 1000 | elapsed:  8.7min finished\n"
     ]
    },
    {
     "data": {
      "text/plain": [
       "RandomForestRegressor(bootstrap=True, criterion='mse', max_depth=5,\n",
       "           max_features='sqrt', max_leaf_nodes=None,\n",
       "           min_impurity_decrease=0.0, min_impurity_split=None,\n",
       "           min_samples_leaf=1, min_samples_split=2,\n",
       "           min_weight_fraction_leaf=0.0, n_estimators=1000, n_jobs=-1,\n",
       "           oob_score=False, random_state=None, verbose=1, warm_start=False)"
      ]
     },
     "execution_count": 314,
     "metadata": {},
     "output_type": "execute_result"
    }
   ],
   "source": [
    "rf_n_est_1000_depth_5_sqrt_cv.fit(train33.drop(['shop_id','item_id','item_category_id','item_cnt_month','unique'], axis = 1),train33['item_cnt_month'])"
   ]
  },
  {
   "cell_type": "code",
   "execution_count": 316,
   "metadata": {},
   "outputs": [
    {
     "name": "stderr",
     "output_type": "stream",
     "text": [
      "[Parallel(n_jobs=4)]: Done  42 tasks      | elapsed:    0.7s\n",
      "[Parallel(n_jobs=4)]: Done 192 tasks      | elapsed:    2.9s\n",
      "[Parallel(n_jobs=4)]: Done 442 tasks      | elapsed:    6.5s\n",
      "[Parallel(n_jobs=4)]: Done 792 tasks      | elapsed:   11.3s\n",
      "[Parallel(n_jobs=4)]: Done 1000 out of 1000 | elapsed:   14.3s finished\n"
     ]
    },
    {
     "data": {
      "text/plain": [
       "0.5884115210453525"
      ]
     },
     "execution_count": 316,
     "metadata": {},
     "output_type": "execute_result"
    }
   ],
   "source": [
    "rf_n_est_1000_depth_5_sqrt_cv.score(train33.drop(['shop_id','item_id','item_category_id','item_cnt_month','unique'], axis = 1),train33['item_cnt_month'])"
   ]
  },
  {
   "cell_type": "code",
   "execution_count": 299,
   "metadata": {},
   "outputs": [],
   "source": [
    "rf_n_est_1000_depth_5_sqrt = RandomForestRegressor(n_estimators = 1000, criterion='mse' , max_depth= 5, n_jobs = -1, verbose = 1, max_features= \"sqrt\")"
   ]
  },
  {
   "cell_type": "code",
   "execution_count": 302,
   "metadata": {},
   "outputs": [
    {
     "name": "stderr",
     "output_type": "stream",
     "text": [
      "[Parallel(n_jobs=-1)]: Done  42 tasks      | elapsed:   27.8s\n",
      "[Parallel(n_jobs=-1)]: Done 192 tasks      | elapsed:  2.0min\n",
      "[Parallel(n_jobs=-1)]: Done 442 tasks      | elapsed:  4.8min\n",
      "[Parallel(n_jobs=-1)]: Done 792 tasks      | elapsed:  9.3min\n",
      "[Parallel(n_jobs=-1)]: Done 1000 out of 1000 | elapsed: 11.9min finished\n"
     ]
    },
    {
     "data": {
      "text/plain": [
       "RandomForestRegressor(bootstrap=True, criterion='mse', max_depth=5,\n",
       "           max_features='sqrt', max_leaf_nodes=None,\n",
       "           min_impurity_decrease=0.0, min_impurity_split=None,\n",
       "           min_samples_leaf=1, min_samples_split=2,\n",
       "           min_weight_fraction_leaf=0.0, n_estimators=1000, n_jobs=-1,\n",
       "           oob_score=False, random_state=None, verbose=1, warm_start=False)"
      ]
     },
     "execution_count": 302,
     "metadata": {},
     "output_type": "execute_result"
    }
   ],
   "source": [
    "rf_n_est_1000_depth_5_sqrt.fit(train_full.drop(['shop_id','item_id','item_category_id','item_cnt_month','unique'], axis = 1),train_full['item_cnt_month'])"
   ]
  },
  {
   "cell_type": "code",
   "execution_count": 312,
   "metadata": {},
   "outputs": [],
   "source": [
    "??rf_n_est_1000_depth_5_sqrt.score"
   ]
  },
  {
   "cell_type": "code",
   "execution_count": 311,
   "metadata": {},
   "outputs": [
    {
     "name": "stderr",
     "output_type": "stream",
     "text": [
      "[Parallel(n_jobs=4)]: Done  42 tasks      | elapsed:    0.7s\n",
      "[Parallel(n_jobs=4)]: Done 192 tasks      | elapsed:    2.9s\n",
      "[Parallel(n_jobs=4)]: Done 442 tasks      | elapsed:    6.5s\n",
      "[Parallel(n_jobs=4)]: Done 792 tasks      | elapsed:   11.3s\n",
      "[Parallel(n_jobs=4)]: Done 1000 out of 1000 | elapsed:   14.2s finished\n"
     ]
    },
    {
     "data": {
      "text/plain": [
       "0.5878080035429719"
      ]
     },
     "execution_count": 311,
     "metadata": {},
     "output_type": "execute_result"
    }
   ],
   "source": [
    "rf_n_est_1000_depth_5_sqrt.score(train_full.drop(['shop_id','item_id','item_category_id','item_cnt_month','unique'], axis = 1),train_full['item_cnt_month'])"
   ]
  },
  {
   "cell_type": "code",
   "execution_count": 308,
   "metadata": {},
   "outputs": [
    {
     "data": {
      "image/png": "[encoded data removed]",
      "text/plain": [
       "<Figure size 432x288 with 1 Axes>"
      ]
     },
     "metadata": {},
     "output_type": "display_data"
    }
   ],
   "source": [
    "plt.bar(x = train_full.drop(['shop_id','item_id','item_category_id','item_cnt_month','unique'], axis = 1).columns.values, height = rf_n_est_1000_depth_5_sqrt.feature_importances_)\n",
    "plt.xticks(rotation= 90)\n",
    "plt.show()       "
   ]
  },
  {
   "cell_type": "code",
   "execution_count": 317,
   "metadata": {},
   "outputs": [
    {
     "name": "stderr",
     "output_type": "stream",
     "text": [
      "[Parallel(n_jobs=4)]: Done  42 tasks      | elapsed:    0.0s\n",
      "[Parallel(n_jobs=4)]: Done 192 tasks      | elapsed:    0.1s\n",
      "[Parallel(n_jobs=4)]: Done 442 tasks      | elapsed:    0.3s\n",
      "[Parallel(n_jobs=4)]: Done 792 tasks      | elapsed:    0.5s\n",
      "[Parallel(n_jobs=4)]: Done 1000 out of 1000 | elapsed:    0.7s finished\n"
     ]
    }
   ],
   "source": [
    "for_rf = rf_n_est_1000_depth_5_sqrt_cv.predict(val33.drop(['shop_id','item_id','item_category_id','item_cnt_month','unique'], axis = 1))"
   ]
  },
  {
   "cell_type": "code",
   "execution_count": 318,
   "metadata": {},
   "outputs": [
    {
     "name": "stderr",
     "output_type": "stream",
     "text": [
      "100%|██████████| 1000/1000 [00:12<00:00, 77.61it/s]\n"
     ]
    }
   ],
   "source": [
    "#Finding best alpha.\n",
    "#First finding best alpha for ensembling on val set. alpha*lin + (1-alpha)*xgb\n",
    "alphas = np.arange(0,1,0.001)\n",
    "best_alpha = 0\n",
    "for_xg = xgb_model_3_001_1.predict(xg_val_33,ntree_limit=450)\n",
    "#for_rf = lm_model_for_cv.predict(val33.drop(['shop_id','item_id','item_category_id','item_cnt_month','unique'], axis = 1))\n",
    "best_error = compute_trimmed_rmse(for_xg.copy(),val33['item_cnt_month'].copy())\n",
    "for alpha in tqdm(alphas):\n",
    "    temp_pred = alpha*for_rf + (1-alpha)*for_xg\n",
    "    temp_error = compute_trimmed_rmse(temp_pred.copy() , val33['item_cnt_month'].copy())\n",
    "    if (temp_error < best_error):\n",
    "        best_alpha= alpha\n",
    "        best_error = temp_error"
   ]
  },
  {
   "cell_type": "code",
   "execution_count": 320,
   "metadata": {},
   "outputs": [
    {
     "data": {
      "text/plain": [
       "0.639"
      ]
     },
     "execution_count": 320,
     "metadata": {},
     "output_type": "execute_result"
    }
   ],
   "source": [
    "best_alpha"
   ]
  },
  {
   "cell_type": "code",
   "execution_count": 321,
   "metadata": {},
   "outputs": [
    {
     "data": {
      "text/plain": [
       "2.1675130615556597"
      ]
     },
     "execution_count": 321,
     "metadata": {},
     "output_type": "execute_result"
    }
   ],
   "source": [
    "best_error"
   ]
  },
  {
   "cell_type": "code",
   "execution_count": 325,
   "metadata": {},
   "outputs": [],
   "source": [
    "test_xg_set = xgboost.DMatrix(test_full_knn.drop(['shop_id','item_id','item_category_id','unique'], axis = 1))"
   ]
  },
  {
   "cell_type": "code",
   "execution_count": 326,
   "metadata": {},
   "outputs": [],
   "source": [
    "test_pred_xg = xgb_model_final.predict(test_xg_set,ntree_limit=450)"
   ]
  },
  {
   "cell_type": "code",
   "execution_count": 327,
   "metadata": {},
   "outputs": [
    {
     "name": "stderr",
     "output_type": "stream",
     "text": [
      "[Parallel(n_jobs=4)]: Done  42 tasks      | elapsed:    0.1s\n",
      "[Parallel(n_jobs=4)]: Done 192 tasks      | elapsed:    0.4s\n",
      "[Parallel(n_jobs=4)]: Done 442 tasks      | elapsed:    1.2s\n",
      "[Parallel(n_jobs=4)]: Done 792 tasks      | elapsed:    2.2s\n",
      "[Parallel(n_jobs=4)]: Done 1000 out of 1000 | elapsed:    2.7s finished\n"
     ]
    }
   ],
   "source": [
    "test_pred_rf = rf_n_est_1000_depth_5_sqrt.predict(test_full_knn.drop(['shop_id','item_id','item_category_id','unique'], axis = 1))"
   ]
  },
  {
   "cell_type": "code",
   "execution_count": 329,
   "metadata": {},
   "outputs": [],
   "source": [
    "submit_xg_rf = (1-0.639)*test_pred_xg + 0.639*test_pred_rf"
   ]
  },
  {
   "cell_type": "code",
   "execution_count": 330,
   "metadata": {},
   "outputs": [
    {
     "data": {
      "text/plain": [
       "497.5874200084348"
      ]
     },
     "execution_count": 330,
     "metadata": {},
     "output_type": "execute_result"
    }
   ],
   "source": [
    "max(submit_xg_rf)"
   ]
  },
  {
   "cell_type": "code",
   "execution_count": 331,
   "metadata": {},
   "outputs": [],
   "source": [
    "#Submission\n",
    "submission = pd.DataFrame({'ID':test_full['ID'],'item_cnt_month':submit_xg_rf})"
   ]
  },
  {
   "cell_type": "code",
   "execution_count": 332,
   "metadata": {},
   "outputs": [
    {
     "data": {
      "text/plain": [
       "(214200, 2)"
      ]
     },
     "execution_count": 332,
     "metadata": {},
     "output_type": "execute_result"
    }
   ],
   "source": [
    "submission.shape"
   ]
  },
  {
   "cell_type": "code",
   "execution_count": 333,
   "metadata": {},
   "outputs": [],
   "source": [
    "submission.loc[submission['item_cnt_month']>20,'item_cnt_month'] = 20\n",
    "submission.loc[submission['item_cnt_month']<0,'item_cnt_month'] = 0"
   ]
  },
  {
   "cell_type": "code",
   "execution_count": 334,
   "metadata": {},
   "outputs": [],
   "source": [
    "check = pd.read_csv('sep5_less_005.csv')"
   ]
  },
  {
   "cell_type": "code",
   "execution_count": 336,
   "metadata": {},
   "outputs": [
    {
     "data": {
      "text/plain": [
       "0.28336729973413016"
      ]
     },
     "execution_count": 336,
     "metadata": {},
     "output_type": "execute_result"
    }
   ],
   "source": [
    "rmse(submission2['item_cnt_month'],submission['item_cnt_month'])"
   ]
  },
  {
   "cell_type": "code",
   "execution_count": 338,
   "metadata": {},
   "outputs": [],
   "source": [
    "submission.to_csv('submit_xg_rf.csv',index=False)"
   ]
  },
  {
   "cell_type": "code",
   "execution_count": null,
   "metadata": {},
   "outputs": [],
   "source": [
    "#Time_to_shift_notebook."
   ]
  },
  {
   "cell_type": "code",
   "execution_count": 339,
   "metadata": {},
   "outputs": [
    {
     "data": {
      "text/plain": [
       "shop_id                     0\n",
       "item_id                     0\n",
       "unique                      0\n",
       "item_price                  0\n",
       "item_cnt_month              0\n",
       "item_category_id            0\n",
       "is_music                    0\n",
       "lag_shop_item_comb          0\n",
       "lag_only_item               0\n",
       "lag_only_item_cat           0\n",
       "lag2_only_item_cat          0\n",
       "lag2_shop_item_comb         0\n",
       "lag2_only_item              0\n",
       "seasonal_freq_3_feature     0\n",
       "prev_month_category_mean    0\n",
       "dtype: int64"
      ]
     },
     "execution_count": 339,
     "metadata": {},
     "output_type": "execute_result"
    }
   ],
   "source": [
    "np.sum(pd.isnull(train_full),axis = 0)"
   ]
  },
  {
   "cell_type": "code",
   "execution_count": 340,
   "metadata": {},
   "outputs": [
    {
     "data": {
      "text/plain": [
       "(1545898, 15)"
      ]
     },
     "execution_count": 340,
     "metadata": {},
     "output_type": "execute_result"
    }
   ],
   "source": [
    "train_full.shape"
   ]
  },
  {
   "cell_type": "code",
   "execution_count": 341,
   "metadata": {},
   "outputs": [],
   "source": [
    "checking_target = pd.read_csv('train_full_lag1_lag2_season.csv')"
   ]
  },
  {
   "cell_type": "code",
   "execution_count": 350,
   "metadata": {},
   "outputs": [],
   "source": [
    "simple_check = pd.read_csv('train_imputed_pre_category_mean_no_trim.csv')"
   ]
  },
  {
   "cell_type": "code",
   "execution_count": 349,
   "metadata": {},
   "outputs": [
    {
     "data": {
      "text/plain": [
       "0"
      ]
     },
     "execution_count": 349,
     "metadata": {},
     "output_type": "execute_result"
    }
   ],
   "source": [
    "sum(train_full['item_cnt_month']!=checking_target['item_cnt_month'])"
   ]
  },
  {
   "cell_type": "code",
   "execution_count": 347,
   "metadata": {},
   "outputs": [],
   "source": [
    "checking_target = checking_target[checking_target['unique']!=0]"
   ]
  },
  {
   "cell_type": "code",
   "execution_count": 352,
   "metadata": {},
   "outputs": [
    {
     "data": {
      "text/plain": [
       "(1609122, 15)"
      ]
     },
     "execution_count": 352,
     "metadata": {},
     "output_type": "execute_result"
    }
   ],
   "source": [
    "simple_check.shape"
   ]
  },
  {
   "cell_type": "code",
   "execution_count": 351,
   "metadata": {},
   "outputs": [
    {
     "data": {
      "text/plain": [
       "shop_id                         0\n",
       "item_id                         0\n",
       "unique                          0\n",
       "item_price                      0\n",
       "item_cnt_month                  0\n",
       "item_category_id                0\n",
       "is_music                        0\n",
       "lag_shop_item_comb              0\n",
       "lag_only_item                   0\n",
       "lag_only_item_cat               0\n",
       "lag2_only_item_cat              0\n",
       "lag2_shop_item_comb             0\n",
       "lag2_only_item                  0\n",
       "seasonal_freq_3_feature         0\n",
       "prev_month_category_mean    64373\n",
       "dtype: int64"
      ]
     },
     "execution_count": 351,
     "metadata": {},
     "output_type": "execute_result"
    }
   ],
   "source": [
    "np.sum(pd.isnull(simple_check),axis = 0)"
   ]
  },
  {
   "cell_type": "code",
   "execution_count": null,
   "metadata": {},
   "outputs": [],
   "source": [
    "##Lag2 values imputing are going to have trouble with unique 1. so removing_it too.\n"
   ]
  },
  {
   "cell_type": "code",
   "execution_count": 357,
   "metadata": {},
   "outputs": [],
   "source": [
    "train_full_no_uni_one_two = train_full[train_full['unique']!=1]"
   ]
  },
  {
   "cell_type": "code",
   "execution_count": 358,
   "metadata": {},
   "outputs": [
    {
     "data": {
      "text/plain": [
       "(1485963, 15)"
      ]
     },
     "execution_count": 358,
     "metadata": {},
     "output_type": "execute_result"
    }
   ],
   "source": [
    "train_full_no_uni_one_two.shape"
   ]
  },
  {
   "cell_type": "code",
   "execution_count": 353,
   "metadata": {},
   "outputs": [],
   "source": [
    "train_full.to_csv('train_imputed_unique_0_rem_pre_category_mean_no_trim.csv')"
   ]
  },
  {
   "cell_type": "code",
   "execution_count": 359,
   "metadata": {},
   "outputs": [],
   "source": [
    "train_full_no_uni_one_two.to_csv('train_imputed_unique_0,1_rem_pre_category_mean_no_trim.csv')"
   ]
  },
  {
   "cell_type": "code",
   "execution_count": 362,
   "metadata": {},
   "outputs": [
    {
     "data": {
      "text/plain": [
       "ID                              0\n",
       "shop_id                         0\n",
       "item_id                         0\n",
       "item_category_id            15246\n",
       "indicator                       0\n",
       "is_music                    15246\n",
       "lag_shop_item_comb          15246\n",
       "lag_only_item               15246\n",
       "lag_only_item_cat           15246\n",
       "unique                          0\n",
       "lag2_only_item_cat          15246\n",
       "lag2_only_item              15246\n",
       "lag2_shop_item_comb         15246\n",
       "seasonal_freq_3_feature         0\n",
       "prev_month_category_mean    15246\n",
       "item_price                  15246\n",
       "dtype: int64"
      ]
     },
     "execution_count": 362,
     "metadata": {},
     "output_type": "execute_result"
    }
   ],
   "source": [
    "np.sum(pd.isnull(test_full),axis = 0)"
   ]
  },
  {
   "cell_type": "code",
   "execution_count": 363,
   "metadata": {},
   "outputs": [
    {
     "data": {
      "text/plain": [
       "ID                              0\n",
       "shop_id                         0\n",
       "item_id                         0\n",
       "item_category_id            15246\n",
       "indicator                       0\n",
       "is_music                        0\n",
       "lag_shop_item_comb              0\n",
       "lag_only_item                   0\n",
       "lag_only_item_cat               0\n",
       "unique                          0\n",
       "lag2_only_item_cat              0\n",
       "lag2_only_item                  0\n",
       "lag2_shop_item_comb             0\n",
       "seasonal_freq_3_feature         0\n",
       "prev_month_category_mean        0\n",
       "item_price                      0\n",
       "neigbor1                        0\n",
       "neigbor10                       0\n",
       "neigbor11                       0\n",
       "neigbor12                       0\n",
       "neigbor13                       0\n",
       "neigbor14                       0\n",
       "neigbor15                       0\n",
       "neigbor2                        0\n",
       "neigbor3                        0\n",
       "neigbor4                        0\n",
       "neigbor5                        0\n",
       "neigbor6                        0\n",
       "neigbor7                        0\n",
       "neigbor8                        0\n",
       "neigbor9                        0\n",
       "dtype: int64"
      ]
     },
     "execution_count": 363,
     "metadata": {},
     "output_type": "execute_result"
    }
   ],
   "source": [
    "np.sum(pd.isnull(submit),axis = 0)"
   ]
  },
  {
   "cell_type": "code",
   "execution_count": 364,
   "metadata": {},
   "outputs": [],
   "source": [
    "submit.to_csv('test_prev_cat_imputed_with_knn.csv')"
   ]
  },
  {
   "cell_type": "code",
   "execution_count": 368,
   "metadata": {},
   "outputs": [],
   "source": [
    "c_more = pd.read_csv('previous_bench3.csv')"
   ]
  },
  {
   "cell_type": "code",
   "execution_count": 369,
   "metadata": {},
   "outputs": [
    {
     "name": "stderr",
     "output_type": "stream",
     "text": [
      "/anaconda/lib/python3.6/site-packages/scipy/stats/stats.py:1713: FutureWarning: Using a non-tuple sequence for multidimensional indexing is deprecated; use `arr[tuple(seq)]` instead of `arr[seq]`. In the future this will be interpreted as an array index, `arr[np.array(seq)]`, which will result either in an error or a different result.\n",
      "  return np.add.reduce(sorted[indexer] * weights, axis=axis) / sumval\n",
      "/anaconda/lib/python3.6/site-packages/matplotlib/axes/_axes.py:6462: UserWarning: The 'normed' kwarg is deprecated, and has been replaced by the 'density' kwarg.\n",
      "  warnings.warn(\"The 'normed' kwarg is deprecated, and has been \"\n"
     ]
    },
    {
     "data": {
      "image/png": "[encoded data removed]",
      "text/plain": [
       "<Figure size 432x288 with 1 Axes>"
      ]
     },
     "metadata": {},
     "output_type": "display_data"
    }
   ],
   "source": [
    "sns.distplot(c_more['item_cnt_month'])\n",
    "plt.show()"
   ]
  },
  {
   "cell_type": "code",
   "execution_count": 370,
   "metadata": {},
   "outputs": [],
   "source": [
    "need_to_learn = pd.read_csv('xg_boost4_cats.csv')"
   ]
  },
  {
   "cell_type": "code",
   "execution_count": 371,
   "metadata": {},
   "outputs": [
    {
     "data": {
      "text/html": [
       "<div>\n",
       "<style>\n",
       "    .dataframe thead tr:only-child th {\n",
       "        text-align: right;\n",
       "    }\n",
       "\n",
       "    .dataframe thead th {\n",
       "        text-align: left;\n",
       "    }\n",
       "\n",
       "    .dataframe tbody tr th {\n",
       "        vertical-align: top;\n",
       "    }\n",
       "</style>\n",
       "<table border=\"1\" class=\"dataframe\">\n",
       "  <thead>\n",
       "    <tr style=\"text-align: right;\">\n",
       "      <th></th>\n",
       "      <th>ID</th>\n",
       "      <th>item_cnt_month</th>\n",
       "    </tr>\n",
       "  </thead>\n",
       "  <tbody>\n",
       "    <tr>\n",
       "      <th>0</th>\n",
       "      <td>0</td>\n",
       "      <td>0.370826</td>\n",
       "    </tr>\n",
       "    <tr>\n",
       "      <th>1</th>\n",
       "      <td>1</td>\n",
       "      <td>0.177906</td>\n",
       "    </tr>\n",
       "    <tr>\n",
       "      <th>2</th>\n",
       "      <td>2</td>\n",
       "      <td>0.601869</td>\n",
       "    </tr>\n",
       "    <tr>\n",
       "      <th>3</th>\n",
       "      <td>3</td>\n",
       "      <td>0.195983</td>\n",
       "    </tr>\n",
       "    <tr>\n",
       "      <th>4</th>\n",
       "      <td>4</td>\n",
       "      <td>0.177906</td>\n",
       "    </tr>\n",
       "  </tbody>\n",
       "</table>\n",
       "</div>"
      ],
      "text/plain": [
       "   ID  item_cnt_month\n",
       "0   0        0.370826\n",
       "1   1        0.177906\n",
       "2   2        0.601869\n",
       "3   3        0.195983\n",
       "4   4        0.177906"
      ]
     },
     "execution_count": 371,
     "metadata": {},
     "output_type": "execute_result"
    }
   ],
   "source": [
    "test_full_"
   ]
  },
  {
   "cell_type": "code",
   "execution_count": 392,
   "metadata": {},
   "outputs": [],
   "source": [
    "temp = train_full[train_full['unique']==30]['item_cnt_month'].copy()\n",
    "temp[temp > 20] = 20\n",
    "temp[temp < 0] = 0"
   ]
  },
  {
   "cell_type": "code",
   "execution_count": 393,
   "metadata": {},
   "outputs": [
    {
     "name": "stderr",
     "output_type": "stream",
     "text": [
      "/anaconda/lib/python3.6/site-packages/scipy/stats/stats.py:1713: FutureWarning: Using a non-tuple sequence for multidimensional indexing is deprecated; use `arr[tuple(seq)]` instead of `arr[seq]`. In the future this will be interpreted as an array index, `arr[np.array(seq)]`, which will result either in an error or a different result.\n",
      "  return np.add.reduce(sorted[indexer] * weights, axis=axis) / sumval\n",
      "/anaconda/lib/python3.6/site-packages/matplotlib/axes/_axes.py:6462: UserWarning: The 'normed' kwarg is deprecated, and has been replaced by the 'density' kwarg.\n",
      "  warnings.warn(\"The 'normed' kwarg is deprecated, and has been \"\n"
     ]
    },
    {
     "data": {
      "image/png": "[encoded data removed]",
      "text/plain": [
       "<Figure size 432x288 with 1 Axes>"
      ]
     },
     "metadata": {},
     "output_type": "display_data"
    }
   ],
   "source": [
    "sns.distplot(temp)\n",
    "plt.show()"
   ]
  },
  {
   "cell_type": "code",
   "execution_count": null,
   "metadata": {},
   "outputs": [],
   "source": []
  }
 ],
 "metadata": {
  "kernelspec": {
   "display_name": "Python [conda root]",
   "language": "python",
   "name": "conda-root-py"
  },
  "language_info": {
   "codemirror_mode": {
    "name": "ipython",
    "version": 3
   },
   "file_extension": ".py",
   "mimetype": "text/x-python",
   "name": "python",
   "nbconvert_exporter": "python",
   "pygments_lexer": "ipython3",
   "version": "3.6.5"
  }
 },
 "nbformat": 4,
 "nbformat_minor": 2
}
