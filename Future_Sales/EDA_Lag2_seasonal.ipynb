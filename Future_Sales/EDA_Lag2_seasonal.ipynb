{
 "cells": [
  {
   "cell_type": "code",
   "execution_count": 4,
   "metadata": {},
   "outputs": [],
   "source": [
    "%store -r __toolboxforsalesdata"
   ]
  },
  {
   "cell_type": "code",
   "execution_count": 5,
   "metadata": {},
   "outputs": [
    {
     "name": "stderr",
     "output_type": "stream",
     "text": [
      "/anaconda/lib/python3.6/site-packages/sklearn/cross_validation.py:41: DeprecationWarning: This module was deprecated in version 0.18 in favor of the model_selection module into which all the refactored classes and functions are moved. Also note that the interface of the new CV iterators are different from that of this module. This module will be removed in 0.20.\n",
      "  \"This module will be removed in 0.20.\", DeprecationWarning)\n",
      "/anaconda/lib/python3.6/site-packages/sklearn/ensemble/weight_boosting.py:29: DeprecationWarning: numpy.core.umath_tests is an internal NumPy module and should not be imported. It will be removed in a future NumPy release.\n",
      "  from numpy.core.umath_tests import inner1d\n"
     ]
    }
   ],
   "source": [
    "__toolboxforsalesdata"
   ]
  },
  {
   "cell_type": "code",
   "execution_count": 6,
   "metadata": {},
   "outputs": [],
   "source": [
    "monitoring_data = pd.read_csv('monitoring_data.csv')"
   ]
  },
  {
   "cell_type": "code",
   "execution_count": 7,
   "metadata": {},
   "outputs": [
    {
     "data": {
      "text/html": [
       "<div>\n",
       "<style>\n",
       "    .dataframe thead tr:only-child th {\n",
       "        text-align: right;\n",
       "    }\n",
       "\n",
       "    .dataframe thead th {\n",
       "        text-align: left;\n",
       "    }\n",
       "\n",
       "    .dataframe tbody tr th {\n",
       "        vertical-align: top;\n",
       "    }\n",
       "</style>\n",
       "<table border=\"1\" class=\"dataframe\">\n",
       "  <thead>\n",
       "    <tr style=\"text-align: right;\">\n",
       "      <th></th>\n",
       "      <th>Unnamed: 0</th>\n",
       "      <th>Model1</th>\n",
       "      <th>Model2</th>\n",
       "      <th>Model3</th>\n",
       "      <th>Model4</th>\n",
       "      <th>Ensemble_Type</th>\n",
       "      <th>Val_Prediction_Name</th>\n",
       "      <th>Test_Prediction_Name</th>\n",
       "      <th>Validation_Type</th>\n",
       "      <th>Validation Set</th>\n",
       "      <th>Validation_Score_before_clip</th>\n",
       "      <th>Validation_Score_after_clip</th>\n",
       "      <th>Public_LB_Score</th>\n",
       "      <th>Features</th>\n",
       "    </tr>\n",
       "  </thead>\n",
       "  <tbody>\n",
       "    <tr>\n",
       "      <th>0</th>\n",
       "      <td>0</td>\n",
       "      <td>xg_model_1_001_subsample_1</td>\n",
       "      <td>lm_model_standardized</td>\n",
       "      <td>rf_n_est_1000_depth_3_sqrt</td>\n",
       "      <td>None</td>\n",
       "      <td>Average</td>\n",
       "      <td>triple_ensemble</td>\n",
       "      <td>trip_ens_submission</td>\n",
       "      <td>Time_based</td>\n",
       "      <td>dropped_col_val33_no_na</td>\n",
       "      <td>22.152129</td>\n",
       "      <td>2.163706</td>\n",
       "      <td>1.17125</td>\n",
       "      <td>Lag1</td>\n",
       "    </tr>\n",
       "    <tr>\n",
       "      <th>1</th>\n",
       "      <td>1</td>\n",
       "      <td>xg_model_1_001_subsample_1</td>\n",
       "      <td>lm_model_standardized</td>\n",
       "      <td>rf_n_est_1000_depth_3_sqrt</td>\n",
       "      <td>None</td>\n",
       "      <td>Average</td>\n",
       "      <td>triple_ensemble_sub_025</td>\n",
       "      <td>trip_ens_submission_sub_025</td>\n",
       "      <td>Time_based</td>\n",
       "      <td>dropped_col_val33_no_na</td>\n",
       "      <td>22.152377</td>\n",
       "      <td>2.160372</td>\n",
       "      <td>1.16766</td>\n",
       "      <td>Lag1</td>\n",
       "    </tr>\n",
       "    <tr>\n",
       "      <th>2</th>\n",
       "      <td>2</td>\n",
       "      <td>xg_model_1_001_subsample_1</td>\n",
       "      <td>lm_model</td>\n",
       "      <td>None</td>\n",
       "      <td>None</td>\n",
       "      <td>Average</td>\n",
       "      <td>ensemble_lin_xgb</td>\n",
       "      <td>test_ensemble_lin_xgb</td>\n",
       "      <td>Time_based</td>\n",
       "      <td>dropped_col_val33_no_na</td>\n",
       "      <td>20.782377</td>\n",
       "      <td>2.151485</td>\n",
       "      <td>1.14767</td>\n",
       "      <td>Lag1</td>\n",
       "    </tr>\n",
       "    <tr>\n",
       "      <th>3</th>\n",
       "      <td>0</td>\n",
       "      <td>xg_model_6_01_subsample_1</td>\n",
       "      <td>lm_model</td>\n",
       "      <td>None</td>\n",
       "      <td>None</td>\n",
       "      <td>alpha(0.092*lm+0.908*xg)</td>\n",
       "      <td>ensemble_lin_xgb_0092</td>\n",
       "      <td>ensemble_lin_xgb_0092_lag1_lag2_season</td>\n",
       "      <td>Time_based</td>\n",
       "      <td>subset_of_train_full_lag1_lag2_seasonal</td>\n",
       "      <td>24.935000</td>\n",
       "      <td>2.047780</td>\n",
       "      <td>1.09124</td>\n",
       "      <td>Lag1_Lag2_Seasonal</td>\n",
       "    </tr>\n",
       "    <tr>\n",
       "      <th>4</th>\n",
       "      <td>0</td>\n",
       "      <td>xg_model_6_01_subsample_1</td>\n",
       "      <td>lm_model</td>\n",
       "      <td>None</td>\n",
       "      <td>None</td>\n",
       "      <td>alpha(0.092*lm+0.908*xg)</td>\n",
       "      <td>ensemble_lin_xgb_0092_less_0025</td>\n",
       "      <td>ensemble_lin_xgb_0092_lag1_lag2_season_less_0025</td>\n",
       "      <td>Time_based</td>\n",
       "      <td>subset_of_train_full_lag1_lag2_seasonal</td>\n",
       "      <td>24.936000</td>\n",
       "      <td>2.050922</td>\n",
       "      <td>1.09067</td>\n",
       "      <td>Lag1_Lag2_Seasonal</td>\n",
       "    </tr>\n",
       "  </tbody>\n",
       "</table>\n",
       "</div>"
      ],
      "text/plain": [
       "   Unnamed: 0                      Model1                 Model2  \\\n",
       "0           0  xg_model_1_001_subsample_1  lm_model_standardized   \n",
       "1           1  xg_model_1_001_subsample_1  lm_model_standardized   \n",
       "2           2  xg_model_1_001_subsample_1               lm_model   \n",
       "3           0   xg_model_6_01_subsample_1               lm_model   \n",
       "4           0   xg_model_6_01_subsample_1               lm_model   \n",
       "\n",
       "                       Model3 Model4             Ensemble_Type  \\\n",
       "0  rf_n_est_1000_depth_3_sqrt   None                   Average   \n",
       "1  rf_n_est_1000_depth_3_sqrt   None                   Average   \n",
       "2                        None   None                   Average   \n",
       "3                        None   None  alpha(0.092*lm+0.908*xg)   \n",
       "4                        None   None  alpha(0.092*lm+0.908*xg)   \n",
       "\n",
       "               Val_Prediction_Name  \\\n",
       "0                  triple_ensemble   \n",
       "1          triple_ensemble_sub_025   \n",
       "2                 ensemble_lin_xgb   \n",
       "3            ensemble_lin_xgb_0092   \n",
       "4  ensemble_lin_xgb_0092_less_0025   \n",
       "\n",
       "                               Test_Prediction_Name Validation_Type  \\\n",
       "0                               trip_ens_submission      Time_based   \n",
       "1                       trip_ens_submission_sub_025      Time_based   \n",
       "2                             test_ensemble_lin_xgb      Time_based   \n",
       "3            ensemble_lin_xgb_0092_lag1_lag2_season      Time_based   \n",
       "4  ensemble_lin_xgb_0092_lag1_lag2_season_less_0025      Time_based   \n",
       "\n",
       "                            Validation Set  Validation_Score_before_clip  \\\n",
       "0                  dropped_col_val33_no_na                     22.152129   \n",
       "1                  dropped_col_val33_no_na                     22.152377   \n",
       "2                  dropped_col_val33_no_na                     20.782377   \n",
       "3  subset_of_train_full_lag1_lag2_seasonal                     24.935000   \n",
       "4  subset_of_train_full_lag1_lag2_seasonal                     24.936000   \n",
       "\n",
       "   Validation_Score_after_clip  Public_LB_Score            Features  \n",
       "0                     2.163706          1.17125                Lag1  \n",
       "1                     2.160372          1.16766                Lag1  \n",
       "2                     2.151485          1.14767                Lag1  \n",
       "3                     2.047780          1.09124  Lag1_Lag2_Seasonal  \n",
       "4                     2.050922          1.09067  Lag1_Lag2_Seasonal  "
      ]
     },
     "execution_count": 7,
     "metadata": {},
     "output_type": "execute_result"
    }
   ],
   "source": [
    "monitoring_data.head()"
   ]
  },
  {
   "cell_type": "code",
   "execution_count": 8,
   "metadata": {},
   "outputs": [],
   "source": [
    "??plt.plot"
   ]
  },
  {
   "cell_type": "code",
   "execution_count": 9,
   "metadata": {},
   "outputs": [
    {
     "data": {
      "image/png": "[encoded data removed]",
      "text/plain": [
       "<Figure size 432x288 with 1 Axes>"
      ]
     },
     "metadata": {},
     "output_type": "display_data"
    }
   ],
   "source": [
    "fig , ax = plt.subplots()\n",
    "ax.plot(monitoring_data['Validation_Score_after_clip'], monitoring_data['Public_LB_Score'])\n",
    "plt.show()"
   ]
  },
  {
   "cell_type": "code",
   "execution_count": 254,
   "metadata": {},
   "outputs": [
    {
     "data": {
      "image/png": "[encoded data removed]",
      "text/plain": [
       "<Figure size 432x288 with 1 Axes>"
      ]
     },
     "metadata": {},
     "output_type": "display_data"
    }
   ],
   "source": [
    "fig , ax = plt.subplots()\n",
    "ax.plot(monitoring_data['Validation_Score_before_clip'], monitoring_data['Public_LB_Score'])\n",
    "plt.show()"
   ]
  },
  {
   "cell_type": "code",
   "execution_count": 10,
   "metadata": {},
   "outputs": [],
   "source": [
    "train_full = pd.read_csv('month_agg4.csv')"
   ]
  },
  {
   "cell_type": "code",
   "execution_count": 11,
   "metadata": {},
   "outputs": [],
   "source": [
    "test_full = pd.read_csv('fake_test4.csv')"
   ]
  },
  {
   "cell_type": "code",
   "execution_count": 12,
   "metadata": {},
   "outputs": [
    {
     "data": {
      "text/html": [
       "<div>\n",
       "<style>\n",
       "    .dataframe thead tr:only-child th {\n",
       "        text-align: right;\n",
       "    }\n",
       "\n",
       "    .dataframe thead th {\n",
       "        text-align: left;\n",
       "    }\n",
       "\n",
       "    .dataframe tbody tr th {\n",
       "        vertical-align: top;\n",
       "    }\n",
       "</style>\n",
       "<table border=\"1\" class=\"dataframe\">\n",
       "  <thead>\n",
       "    <tr style=\"text-align: right;\">\n",
       "      <th></th>\n",
       "      <th>shop_id</th>\n",
       "      <th>item_id</th>\n",
       "      <th>unique</th>\n",
       "      <th>item_price</th>\n",
       "      <th>item_cnt_month</th>\n",
       "      <th>item_category_id</th>\n",
       "      <th>is_music</th>\n",
       "      <th>lag_shop_item_comb</th>\n",
       "      <th>lag_only_item</th>\n",
       "      <th>lag_only_item_cat</th>\n",
       "    </tr>\n",
       "  </thead>\n",
       "  <tbody>\n",
       "    <tr>\n",
       "      <th>0</th>\n",
       "      <td>0</td>\n",
       "      <td>32</td>\n",
       "      <td>0</td>\n",
       "      <td>221.0</td>\n",
       "      <td>6.0</td>\n",
       "      <td>40</td>\n",
       "      <td>False</td>\n",
       "      <td>NaN</td>\n",
       "      <td>NaN</td>\n",
       "      <td>NaN</td>\n",
       "    </tr>\n",
       "    <tr>\n",
       "      <th>1</th>\n",
       "      <td>0</td>\n",
       "      <td>33</td>\n",
       "      <td>0</td>\n",
       "      <td>347.0</td>\n",
       "      <td>3.0</td>\n",
       "      <td>37</td>\n",
       "      <td>False</td>\n",
       "      <td>NaN</td>\n",
       "      <td>NaN</td>\n",
       "      <td>NaN</td>\n",
       "    </tr>\n",
       "    <tr>\n",
       "      <th>2</th>\n",
       "      <td>0</td>\n",
       "      <td>35</td>\n",
       "      <td>0</td>\n",
       "      <td>247.0</td>\n",
       "      <td>1.0</td>\n",
       "      <td>40</td>\n",
       "      <td>False</td>\n",
       "      <td>NaN</td>\n",
       "      <td>NaN</td>\n",
       "      <td>NaN</td>\n",
       "    </tr>\n",
       "    <tr>\n",
       "      <th>3</th>\n",
       "      <td>0</td>\n",
       "      <td>43</td>\n",
       "      <td>0</td>\n",
       "      <td>221.0</td>\n",
       "      <td>1.0</td>\n",
       "      <td>40</td>\n",
       "      <td>False</td>\n",
       "      <td>NaN</td>\n",
       "      <td>NaN</td>\n",
       "      <td>NaN</td>\n",
       "    </tr>\n",
       "    <tr>\n",
       "      <th>4</th>\n",
       "      <td>0</td>\n",
       "      <td>51</td>\n",
       "      <td>0</td>\n",
       "      <td>128.5</td>\n",
       "      <td>2.0</td>\n",
       "      <td>57</td>\n",
       "      <td>True</td>\n",
       "      <td>NaN</td>\n",
       "      <td>NaN</td>\n",
       "      <td>NaN</td>\n",
       "    </tr>\n",
       "  </tbody>\n",
       "</table>\n",
       "</div>"
      ],
      "text/plain": [
       "   shop_id  item_id  unique  item_price  item_cnt_month  item_category_id  \\\n",
       "0        0       32       0       221.0             6.0                40   \n",
       "1        0       33       0       347.0             3.0                37   \n",
       "2        0       35       0       247.0             1.0                40   \n",
       "3        0       43       0       221.0             1.0                40   \n",
       "4        0       51       0       128.5             2.0                57   \n",
       "\n",
       "   is_music  lag_shop_item_comb  lag_only_item  lag_only_item_cat  \n",
       "0     False                 NaN            NaN                NaN  \n",
       "1     False                 NaN            NaN                NaN  \n",
       "2     False                 NaN            NaN                NaN  \n",
       "3     False                 NaN            NaN                NaN  \n",
       "4      True                 NaN            NaN                NaN  "
      ]
     },
     "execution_count": 12,
     "metadata": {},
     "output_type": "execute_result"
    }
   ],
   "source": [
    "train_full.head()"
   ]
  },
  {
   "cell_type": "code",
   "execution_count": 13,
   "metadata": {},
   "outputs": [
    {
     "data": {
      "text/html": [
       "<div>\n",
       "<style>\n",
       "    .dataframe thead tr:only-child th {\n",
       "        text-align: right;\n",
       "    }\n",
       "\n",
       "    .dataframe thead th {\n",
       "        text-align: left;\n",
       "    }\n",
       "\n",
       "    .dataframe tbody tr th {\n",
       "        vertical-align: top;\n",
       "    }\n",
       "</style>\n",
       "<table border=\"1\" class=\"dataframe\">\n",
       "  <thead>\n",
       "    <tr style=\"text-align: right;\">\n",
       "      <th></th>\n",
       "      <th>ID</th>\n",
       "      <th>shop_id</th>\n",
       "      <th>item_id</th>\n",
       "      <th>item_category_id</th>\n",
       "      <th>indicator</th>\n",
       "      <th>is_music</th>\n",
       "      <th>lag_shop_item_comb</th>\n",
       "      <th>lag_only_item</th>\n",
       "      <th>item_price</th>\n",
       "      <th>lag_only_item_cat</th>\n",
       "      <th>unique</th>\n",
       "    </tr>\n",
       "  </thead>\n",
       "  <tbody>\n",
       "    <tr>\n",
       "      <th>0</th>\n",
       "      <td>0</td>\n",
       "      <td>5</td>\n",
       "      <td>5037</td>\n",
       "      <td>19.0</td>\n",
       "      <td>1</td>\n",
       "      <td>False</td>\n",
       "      <td>NaN</td>\n",
       "      <td>25.0</td>\n",
       "      <td>1693.518519</td>\n",
       "      <td>2443.0</td>\n",
       "      <td>34</td>\n",
       "    </tr>\n",
       "    <tr>\n",
       "      <th>1</th>\n",
       "      <td>1</td>\n",
       "      <td>5</td>\n",
       "      <td>5320</td>\n",
       "      <td>NaN</td>\n",
       "      <td>0</td>\n",
       "      <td>NaN</td>\n",
       "      <td>NaN</td>\n",
       "      <td>NaN</td>\n",
       "      <td>NaN</td>\n",
       "      <td>NaN</td>\n",
       "      <td>34</td>\n",
       "    </tr>\n",
       "    <tr>\n",
       "      <th>2</th>\n",
       "      <td>2</td>\n",
       "      <td>5</td>\n",
       "      <td>5233</td>\n",
       "      <td>19.0</td>\n",
       "      <td>2</td>\n",
       "      <td>False</td>\n",
       "      <td>1.0</td>\n",
       "      <td>42.0</td>\n",
       "      <td>859.000000</td>\n",
       "      <td>2443.0</td>\n",
       "      <td>34</td>\n",
       "    </tr>\n",
       "    <tr>\n",
       "      <th>3</th>\n",
       "      <td>3</td>\n",
       "      <td>5</td>\n",
       "      <td>5232</td>\n",
       "      <td>23.0</td>\n",
       "      <td>1</td>\n",
       "      <td>False</td>\n",
       "      <td>NaN</td>\n",
       "      <td>28.0</td>\n",
       "      <td>599.000000</td>\n",
       "      <td>2203.0</td>\n",
       "      <td>34</td>\n",
       "    </tr>\n",
       "    <tr>\n",
       "      <th>4</th>\n",
       "      <td>4</td>\n",
       "      <td>5</td>\n",
       "      <td>5268</td>\n",
       "      <td>NaN</td>\n",
       "      <td>0</td>\n",
       "      <td>NaN</td>\n",
       "      <td>NaN</td>\n",
       "      <td>NaN</td>\n",
       "      <td>NaN</td>\n",
       "      <td>NaN</td>\n",
       "      <td>34</td>\n",
       "    </tr>\n",
       "  </tbody>\n",
       "</table>\n",
       "</div>"
      ],
      "text/plain": [
       "   ID  shop_id  item_id  item_category_id  indicator is_music  \\\n",
       "0   0        5     5037              19.0          1    False   \n",
       "1   1        5     5320               NaN          0      NaN   \n",
       "2   2        5     5233              19.0          2    False   \n",
       "3   3        5     5232              23.0          1    False   \n",
       "4   4        5     5268               NaN          0      NaN   \n",
       "\n",
       "   lag_shop_item_comb  lag_only_item   item_price  lag_only_item_cat  unique  \n",
       "0                 NaN           25.0  1693.518519             2443.0      34  \n",
       "1                 NaN            NaN          NaN                NaN      34  \n",
       "2                 1.0           42.0   859.000000             2443.0      34  \n",
       "3                 NaN           28.0   599.000000             2203.0      34  \n",
       "4                 NaN            NaN          NaN                NaN      34  "
      ]
     },
     "execution_count": 13,
     "metadata": {},
     "output_type": "execute_result"
    }
   ],
   "source": [
    "test_full.head()"
   ]
  },
  {
   "cell_type": "code",
   "execution_count": 14,
   "metadata": {},
   "outputs": [],
   "source": [
    "#Another round for feature engineering, with KNN etc."
   ]
  },
  {
   "cell_type": "markdown",
   "metadata": {},
   "source": [
    "Taking a lag of two months. For only item, item_cat, item_shop_combo"
   ]
  },
  {
   "cell_type": "code",
   "execution_count": 15,
   "metadata": {},
   "outputs": [
    {
     "data": {
      "text/html": [
       "<div>\n",
       "<style>\n",
       "    .dataframe thead tr:only-child th {\n",
       "        text-align: right;\n",
       "    }\n",
       "\n",
       "    .dataframe thead th {\n",
       "        text-align: left;\n",
       "    }\n",
       "\n",
       "    .dataframe tbody tr th {\n",
       "        vertical-align: top;\n",
       "    }\n",
       "</style>\n",
       "<table border=\"1\" class=\"dataframe\">\n",
       "  <thead>\n",
       "    <tr style=\"text-align: right;\">\n",
       "      <th></th>\n",
       "      <th>shop_id</th>\n",
       "      <th>item_id</th>\n",
       "      <th>unique</th>\n",
       "      <th>item_price</th>\n",
       "      <th>item_cnt_month</th>\n",
       "      <th>item_category_id</th>\n",
       "      <th>is_music</th>\n",
       "      <th>lag_shop_item_comb</th>\n",
       "      <th>lag_only_item</th>\n",
       "      <th>lag_only_item_cat</th>\n",
       "    </tr>\n",
       "  </thead>\n",
       "  <tbody>\n",
       "    <tr>\n",
       "      <th>0</th>\n",
       "      <td>0</td>\n",
       "      <td>32</td>\n",
       "      <td>0</td>\n",
       "      <td>221.0</td>\n",
       "      <td>6.0</td>\n",
       "      <td>40</td>\n",
       "      <td>False</td>\n",
       "      <td>NaN</td>\n",
       "      <td>NaN</td>\n",
       "      <td>NaN</td>\n",
       "    </tr>\n",
       "    <tr>\n",
       "      <th>1</th>\n",
       "      <td>0</td>\n",
       "      <td>33</td>\n",
       "      <td>0</td>\n",
       "      <td>347.0</td>\n",
       "      <td>3.0</td>\n",
       "      <td>37</td>\n",
       "      <td>False</td>\n",
       "      <td>NaN</td>\n",
       "      <td>NaN</td>\n",
       "      <td>NaN</td>\n",
       "    </tr>\n",
       "    <tr>\n",
       "      <th>2</th>\n",
       "      <td>0</td>\n",
       "      <td>35</td>\n",
       "      <td>0</td>\n",
       "      <td>247.0</td>\n",
       "      <td>1.0</td>\n",
       "      <td>40</td>\n",
       "      <td>False</td>\n",
       "      <td>NaN</td>\n",
       "      <td>NaN</td>\n",
       "      <td>NaN</td>\n",
       "    </tr>\n",
       "    <tr>\n",
       "      <th>3</th>\n",
       "      <td>0</td>\n",
       "      <td>43</td>\n",
       "      <td>0</td>\n",
       "      <td>221.0</td>\n",
       "      <td>1.0</td>\n",
       "      <td>40</td>\n",
       "      <td>False</td>\n",
       "      <td>NaN</td>\n",
       "      <td>NaN</td>\n",
       "      <td>NaN</td>\n",
       "    </tr>\n",
       "    <tr>\n",
       "      <th>4</th>\n",
       "      <td>0</td>\n",
       "      <td>51</td>\n",
       "      <td>0</td>\n",
       "      <td>128.5</td>\n",
       "      <td>2.0</td>\n",
       "      <td>57</td>\n",
       "      <td>True</td>\n",
       "      <td>NaN</td>\n",
       "      <td>NaN</td>\n",
       "      <td>NaN</td>\n",
       "    </tr>\n",
       "  </tbody>\n",
       "</table>\n",
       "</div>"
      ],
      "text/plain": [
       "   shop_id  item_id  unique  item_price  item_cnt_month  item_category_id  \\\n",
       "0        0       32       0       221.0             6.0                40   \n",
       "1        0       33       0       347.0             3.0                37   \n",
       "2        0       35       0       247.0             1.0                40   \n",
       "3        0       43       0       221.0             1.0                40   \n",
       "4        0       51       0       128.5             2.0                57   \n",
       "\n",
       "   is_music  lag_shop_item_comb  lag_only_item  lag_only_item_cat  \n",
       "0     False                 NaN            NaN                NaN  \n",
       "1     False                 NaN            NaN                NaN  \n",
       "2     False                 NaN            NaN                NaN  \n",
       "3     False                 NaN            NaN                NaN  \n",
       "4      True                 NaN            NaN                NaN  "
      ]
     },
     "execution_count": 15,
     "metadata": {},
     "output_type": "execute_result"
    }
   ],
   "source": [
    "train_full.head()"
   ]
  },
  {
   "cell_type": "code",
   "execution_count": 16,
   "metadata": {},
   "outputs": [],
   "source": [
    "temp_df = train_full.copy()"
   ]
  },
  {
   "cell_type": "code",
   "execution_count": 17,
   "metadata": {},
   "outputs": [],
   "source": [
    "temp_df['unique'] = temp_df['unique'] + 2"
   ]
  },
  {
   "cell_type": "code",
   "execution_count": 18,
   "metadata": {},
   "outputs": [
    {
     "data": {
      "text/html": [
       "<div>\n",
       "<style>\n",
       "    .dataframe thead tr:only-child th {\n",
       "        text-align: right;\n",
       "    }\n",
       "\n",
       "    .dataframe thead th {\n",
       "        text-align: left;\n",
       "    }\n",
       "\n",
       "    .dataframe tbody tr th {\n",
       "        vertical-align: top;\n",
       "    }\n",
       "</style>\n",
       "<table border=\"1\" class=\"dataframe\">\n",
       "  <thead>\n",
       "    <tr style=\"text-align: right;\">\n",
       "      <th></th>\n",
       "      <th>shop_id</th>\n",
       "      <th>item_id</th>\n",
       "      <th>unique</th>\n",
       "      <th>item_price</th>\n",
       "      <th>item_cnt_month</th>\n",
       "      <th>item_category_id</th>\n",
       "      <th>is_music</th>\n",
       "      <th>lag_shop_item_comb</th>\n",
       "      <th>lag_only_item</th>\n",
       "      <th>lag_only_item_cat</th>\n",
       "    </tr>\n",
       "  </thead>\n",
       "  <tbody>\n",
       "    <tr>\n",
       "      <th>0</th>\n",
       "      <td>0</td>\n",
       "      <td>32</td>\n",
       "      <td>2</td>\n",
       "      <td>221.0</td>\n",
       "      <td>6.0</td>\n",
       "      <td>40</td>\n",
       "      <td>False</td>\n",
       "      <td>NaN</td>\n",
       "      <td>NaN</td>\n",
       "      <td>NaN</td>\n",
       "    </tr>\n",
       "    <tr>\n",
       "      <th>1</th>\n",
       "      <td>0</td>\n",
       "      <td>33</td>\n",
       "      <td>2</td>\n",
       "      <td>347.0</td>\n",
       "      <td>3.0</td>\n",
       "      <td>37</td>\n",
       "      <td>False</td>\n",
       "      <td>NaN</td>\n",
       "      <td>NaN</td>\n",
       "      <td>NaN</td>\n",
       "    </tr>\n",
       "    <tr>\n",
       "      <th>2</th>\n",
       "      <td>0</td>\n",
       "      <td>35</td>\n",
       "      <td>2</td>\n",
       "      <td>247.0</td>\n",
       "      <td>1.0</td>\n",
       "      <td>40</td>\n",
       "      <td>False</td>\n",
       "      <td>NaN</td>\n",
       "      <td>NaN</td>\n",
       "      <td>NaN</td>\n",
       "    </tr>\n",
       "    <tr>\n",
       "      <th>3</th>\n",
       "      <td>0</td>\n",
       "      <td>43</td>\n",
       "      <td>2</td>\n",
       "      <td>221.0</td>\n",
       "      <td>1.0</td>\n",
       "      <td>40</td>\n",
       "      <td>False</td>\n",
       "      <td>NaN</td>\n",
       "      <td>NaN</td>\n",
       "      <td>NaN</td>\n",
       "    </tr>\n",
       "    <tr>\n",
       "      <th>4</th>\n",
       "      <td>0</td>\n",
       "      <td>51</td>\n",
       "      <td>2</td>\n",
       "      <td>128.5</td>\n",
       "      <td>2.0</td>\n",
       "      <td>57</td>\n",
       "      <td>True</td>\n",
       "      <td>NaN</td>\n",
       "      <td>NaN</td>\n",
       "      <td>NaN</td>\n",
       "    </tr>\n",
       "  </tbody>\n",
       "</table>\n",
       "</div>"
      ],
      "text/plain": [
       "   shop_id  item_id  unique  item_price  item_cnt_month  item_category_id  \\\n",
       "0        0       32       2       221.0             6.0                40   \n",
       "1        0       33       2       347.0             3.0                37   \n",
       "2        0       35       2       247.0             1.0                40   \n",
       "3        0       43       2       221.0             1.0                40   \n",
       "4        0       51       2       128.5             2.0                57   \n",
       "\n",
       "   is_music  lag_shop_item_comb  lag_only_item  lag_only_item_cat  \n",
       "0     False                 NaN            NaN                NaN  \n",
       "1     False                 NaN            NaN                NaN  \n",
       "2     False                 NaN            NaN                NaN  \n",
       "3     False                 NaN            NaN                NaN  \n",
       "4      True                 NaN            NaN                NaN  "
      ]
     },
     "execution_count": 18,
     "metadata": {},
     "output_type": "execute_result"
    }
   ],
   "source": [
    "temp_df.head()"
   ]
  },
  {
   "cell_type": "code",
   "execution_count": 19,
   "metadata": {},
   "outputs": [],
   "source": [
    "lag2_item_category = temp_df.groupby(['unique','item_category_id'])['item_cnt_month'].mean().reset_index()"
   ]
  },
  {
   "cell_type": "code",
   "execution_count": 20,
   "metadata": {},
   "outputs": [],
   "source": [
    "lag2_item_shop_combo = temp_df.groupby(['unique','item_id','shop_id'])['item_cnt_month'].mean().reset_index()"
   ]
  },
  {
   "cell_type": "code",
   "execution_count": 21,
   "metadata": {},
   "outputs": [],
   "source": [
    "lag2_item_only = temp_df.groupby(['unique','item_id'])['item_cnt_month'].mean().reset_index()"
   ]
  },
  {
   "cell_type": "code",
   "execution_count": 22,
   "metadata": {},
   "outputs": [],
   "source": [
    "#Merging with train_full."
   ]
  },
  {
   "cell_type": "code",
   "execution_count": 23,
   "metadata": {},
   "outputs": [],
   "source": [
    "train_full2 = train_full.merge(lag2_item_category, on = ['unique','item_category_id'], how = 'left')"
   ]
  },
  {
   "cell_type": "code",
   "execution_count": 24,
   "metadata": {},
   "outputs": [],
   "source": [
    "??train_full2.replace"
   ]
  },
  {
   "cell_type": "code",
   "execution_count": 25,
   "metadata": {},
   "outputs": [],
   "source": [
    "train_full2.rename(columns={'item_cnt_month_x':'item_cnt_month', 'item_cnt_month_y':'lag2_only_item_cat'}, inplace = True)"
   ]
  },
  {
   "cell_type": "code",
   "execution_count": 26,
   "metadata": {},
   "outputs": [
    {
     "data": {
      "text/html": [
       "<div>\n",
       "<style>\n",
       "    .dataframe thead tr:only-child th {\n",
       "        text-align: right;\n",
       "    }\n",
       "\n",
       "    .dataframe thead th {\n",
       "        text-align: left;\n",
       "    }\n",
       "\n",
       "    .dataframe tbody tr th {\n",
       "        vertical-align: top;\n",
       "    }\n",
       "</style>\n",
       "<table border=\"1\" class=\"dataframe\">\n",
       "  <thead>\n",
       "    <tr style=\"text-align: right;\">\n",
       "      <th></th>\n",
       "      <th>shop_id</th>\n",
       "      <th>item_id</th>\n",
       "      <th>unique</th>\n",
       "      <th>item_price</th>\n",
       "      <th>item_cnt_month</th>\n",
       "      <th>item_category_id</th>\n",
       "      <th>is_music</th>\n",
       "      <th>lag_shop_item_comb</th>\n",
       "      <th>lag_only_item</th>\n",
       "      <th>lag_only_item_cat</th>\n",
       "      <th>lag2_only_item_cat</th>\n",
       "    </tr>\n",
       "  </thead>\n",
       "  <tbody>\n",
       "    <tr>\n",
       "      <th>0</th>\n",
       "      <td>0</td>\n",
       "      <td>32</td>\n",
       "      <td>0</td>\n",
       "      <td>221.0</td>\n",
       "      <td>6.0</td>\n",
       "      <td>40</td>\n",
       "      <td>False</td>\n",
       "      <td>NaN</td>\n",
       "      <td>NaN</td>\n",
       "      <td>NaN</td>\n",
       "      <td>NaN</td>\n",
       "    </tr>\n",
       "    <tr>\n",
       "      <th>1</th>\n",
       "      <td>0</td>\n",
       "      <td>33</td>\n",
       "      <td>0</td>\n",
       "      <td>347.0</td>\n",
       "      <td>3.0</td>\n",
       "      <td>37</td>\n",
       "      <td>False</td>\n",
       "      <td>NaN</td>\n",
       "      <td>NaN</td>\n",
       "      <td>NaN</td>\n",
       "      <td>NaN</td>\n",
       "    </tr>\n",
       "    <tr>\n",
       "      <th>2</th>\n",
       "      <td>0</td>\n",
       "      <td>35</td>\n",
       "      <td>0</td>\n",
       "      <td>247.0</td>\n",
       "      <td>1.0</td>\n",
       "      <td>40</td>\n",
       "      <td>False</td>\n",
       "      <td>NaN</td>\n",
       "      <td>NaN</td>\n",
       "      <td>NaN</td>\n",
       "      <td>NaN</td>\n",
       "    </tr>\n",
       "    <tr>\n",
       "      <th>3</th>\n",
       "      <td>0</td>\n",
       "      <td>43</td>\n",
       "      <td>0</td>\n",
       "      <td>221.0</td>\n",
       "      <td>1.0</td>\n",
       "      <td>40</td>\n",
       "      <td>False</td>\n",
       "      <td>NaN</td>\n",
       "      <td>NaN</td>\n",
       "      <td>NaN</td>\n",
       "      <td>NaN</td>\n",
       "    </tr>\n",
       "    <tr>\n",
       "      <th>4</th>\n",
       "      <td>0</td>\n",
       "      <td>51</td>\n",
       "      <td>0</td>\n",
       "      <td>128.5</td>\n",
       "      <td>2.0</td>\n",
       "      <td>57</td>\n",
       "      <td>True</td>\n",
       "      <td>NaN</td>\n",
       "      <td>NaN</td>\n",
       "      <td>NaN</td>\n",
       "      <td>NaN</td>\n",
       "    </tr>\n",
       "  </tbody>\n",
       "</table>\n",
       "</div>"
      ],
      "text/plain": [
       "   shop_id  item_id  unique  item_price  item_cnt_month  item_category_id  \\\n",
       "0        0       32       0       221.0             6.0                40   \n",
       "1        0       33       0       347.0             3.0                37   \n",
       "2        0       35       0       247.0             1.0                40   \n",
       "3        0       43       0       221.0             1.0                40   \n",
       "4        0       51       0       128.5             2.0                57   \n",
       "\n",
       "   is_music  lag_shop_item_comb  lag_only_item  lag_only_item_cat  \\\n",
       "0     False                 NaN            NaN                NaN   \n",
       "1     False                 NaN            NaN                NaN   \n",
       "2     False                 NaN            NaN                NaN   \n",
       "3     False                 NaN            NaN                NaN   \n",
       "4      True                 NaN            NaN                NaN   \n",
       "\n",
       "   lag2_only_item_cat  \n",
       "0                 NaN  \n",
       "1                 NaN  \n",
       "2                 NaN  \n",
       "3                 NaN  \n",
       "4                 NaN  "
      ]
     },
     "execution_count": 26,
     "metadata": {},
     "output_type": "execute_result"
    }
   ],
   "source": [
    "train_full2.head()"
   ]
  },
  {
   "cell_type": "code",
   "execution_count": 27,
   "metadata": {},
   "outputs": [],
   "source": [
    "train_full3 = train_full2.merge(lag2_item_shop_combo, on = ['unique','shop_id','item_id'], how = 'left')"
   ]
  },
  {
   "cell_type": "code",
   "execution_count": 28,
   "metadata": {},
   "outputs": [
    {
     "data": {
      "text/html": [
       "<div>\n",
       "<style>\n",
       "    .dataframe thead tr:only-child th {\n",
       "        text-align: right;\n",
       "    }\n",
       "\n",
       "    .dataframe thead th {\n",
       "        text-align: left;\n",
       "    }\n",
       "\n",
       "    .dataframe tbody tr th {\n",
       "        vertical-align: top;\n",
       "    }\n",
       "</style>\n",
       "<table border=\"1\" class=\"dataframe\">\n",
       "  <thead>\n",
       "    <tr style=\"text-align: right;\">\n",
       "      <th></th>\n",
       "      <th>shop_id</th>\n",
       "      <th>item_id</th>\n",
       "      <th>unique</th>\n",
       "      <th>item_price</th>\n",
       "      <th>item_cnt_month_x</th>\n",
       "      <th>item_category_id</th>\n",
       "      <th>is_music</th>\n",
       "      <th>lag_shop_item_comb</th>\n",
       "      <th>lag_only_item</th>\n",
       "      <th>lag_only_item_cat</th>\n",
       "      <th>lag2_only_item_cat</th>\n",
       "      <th>item_cnt_month_y</th>\n",
       "    </tr>\n",
       "  </thead>\n",
       "  <tbody>\n",
       "    <tr>\n",
       "      <th>0</th>\n",
       "      <td>0</td>\n",
       "      <td>32</td>\n",
       "      <td>0</td>\n",
       "      <td>221.0</td>\n",
       "      <td>6.0</td>\n",
       "      <td>40</td>\n",
       "      <td>False</td>\n",
       "      <td>NaN</td>\n",
       "      <td>NaN</td>\n",
       "      <td>NaN</td>\n",
       "      <td>NaN</td>\n",
       "      <td>NaN</td>\n",
       "    </tr>\n",
       "    <tr>\n",
       "      <th>1</th>\n",
       "      <td>0</td>\n",
       "      <td>33</td>\n",
       "      <td>0</td>\n",
       "      <td>347.0</td>\n",
       "      <td>3.0</td>\n",
       "      <td>37</td>\n",
       "      <td>False</td>\n",
       "      <td>NaN</td>\n",
       "      <td>NaN</td>\n",
       "      <td>NaN</td>\n",
       "      <td>NaN</td>\n",
       "      <td>NaN</td>\n",
       "    </tr>\n",
       "    <tr>\n",
       "      <th>2</th>\n",
       "      <td>0</td>\n",
       "      <td>35</td>\n",
       "      <td>0</td>\n",
       "      <td>247.0</td>\n",
       "      <td>1.0</td>\n",
       "      <td>40</td>\n",
       "      <td>False</td>\n",
       "      <td>NaN</td>\n",
       "      <td>NaN</td>\n",
       "      <td>NaN</td>\n",
       "      <td>NaN</td>\n",
       "      <td>NaN</td>\n",
       "    </tr>\n",
       "    <tr>\n",
       "      <th>3</th>\n",
       "      <td>0</td>\n",
       "      <td>43</td>\n",
       "      <td>0</td>\n",
       "      <td>221.0</td>\n",
       "      <td>1.0</td>\n",
       "      <td>40</td>\n",
       "      <td>False</td>\n",
       "      <td>NaN</td>\n",
       "      <td>NaN</td>\n",
       "      <td>NaN</td>\n",
       "      <td>NaN</td>\n",
       "      <td>NaN</td>\n",
       "    </tr>\n",
       "    <tr>\n",
       "      <th>4</th>\n",
       "      <td>0</td>\n",
       "      <td>51</td>\n",
       "      <td>0</td>\n",
       "      <td>128.5</td>\n",
       "      <td>2.0</td>\n",
       "      <td>57</td>\n",
       "      <td>True</td>\n",
       "      <td>NaN</td>\n",
       "      <td>NaN</td>\n",
       "      <td>NaN</td>\n",
       "      <td>NaN</td>\n",
       "      <td>NaN</td>\n",
       "    </tr>\n",
       "  </tbody>\n",
       "</table>\n",
       "</div>"
      ],
      "text/plain": [
       "   shop_id  item_id  unique  item_price  item_cnt_month_x  item_category_id  \\\n",
       "0        0       32       0       221.0               6.0                40   \n",
       "1        0       33       0       347.0               3.0                37   \n",
       "2        0       35       0       247.0               1.0                40   \n",
       "3        0       43       0       221.0               1.0                40   \n",
       "4        0       51       0       128.5               2.0                57   \n",
       "\n",
       "   is_music  lag_shop_item_comb  lag_only_item  lag_only_item_cat  \\\n",
       "0     False                 NaN            NaN                NaN   \n",
       "1     False                 NaN            NaN                NaN   \n",
       "2     False                 NaN            NaN                NaN   \n",
       "3     False                 NaN            NaN                NaN   \n",
       "4      True                 NaN            NaN                NaN   \n",
       "\n",
       "   lag2_only_item_cat  item_cnt_month_y  \n",
       "0                 NaN               NaN  \n",
       "1                 NaN               NaN  \n",
       "2                 NaN               NaN  \n",
       "3                 NaN               NaN  \n",
       "4                 NaN               NaN  "
      ]
     },
     "execution_count": 28,
     "metadata": {},
     "output_type": "execute_result"
    }
   ],
   "source": [
    "train_full3.head()"
   ]
  },
  {
   "cell_type": "code",
   "execution_count": 29,
   "metadata": {},
   "outputs": [],
   "source": [
    "train_full3.rename(columns={'item_cnt_month_x':'item_cnt_month', 'item_cnt_month_y':'lag2_shop_item_comb'}, inplace = True)"
   ]
  },
  {
   "cell_type": "code",
   "execution_count": 30,
   "metadata": {},
   "outputs": [],
   "source": [
    "train_full4 = train_full3.merge(lag2_item_only, on = ['unique','item_id'], how = 'left')"
   ]
  },
  {
   "cell_type": "code",
   "execution_count": 31,
   "metadata": {},
   "outputs": [
    {
     "data": {
      "text/html": [
       "<div>\n",
       "<style>\n",
       "    .dataframe thead tr:only-child th {\n",
       "        text-align: right;\n",
       "    }\n",
       "\n",
       "    .dataframe thead th {\n",
       "        text-align: left;\n",
       "    }\n",
       "\n",
       "    .dataframe tbody tr th {\n",
       "        vertical-align: top;\n",
       "    }\n",
       "</style>\n",
       "<table border=\"1\" class=\"dataframe\">\n",
       "  <thead>\n",
       "    <tr style=\"text-align: right;\">\n",
       "      <th></th>\n",
       "      <th>shop_id</th>\n",
       "      <th>item_id</th>\n",
       "      <th>unique</th>\n",
       "      <th>item_price</th>\n",
       "      <th>item_cnt_month_x</th>\n",
       "      <th>item_category_id</th>\n",
       "      <th>is_music</th>\n",
       "      <th>lag_shop_item_comb</th>\n",
       "      <th>lag_only_item</th>\n",
       "      <th>lag_only_item_cat</th>\n",
       "      <th>lag2_only_item_cat</th>\n",
       "      <th>lag2_shop_item_comb</th>\n",
       "      <th>item_cnt_month_y</th>\n",
       "    </tr>\n",
       "  </thead>\n",
       "  <tbody>\n",
       "    <tr>\n",
       "      <th>0</th>\n",
       "      <td>0</td>\n",
       "      <td>32</td>\n",
       "      <td>0</td>\n",
       "      <td>221.0</td>\n",
       "      <td>6.0</td>\n",
       "      <td>40</td>\n",
       "      <td>False</td>\n",
       "      <td>NaN</td>\n",
       "      <td>NaN</td>\n",
       "      <td>NaN</td>\n",
       "      <td>NaN</td>\n",
       "      <td>NaN</td>\n",
       "      <td>NaN</td>\n",
       "    </tr>\n",
       "    <tr>\n",
       "      <th>1</th>\n",
       "      <td>0</td>\n",
       "      <td>33</td>\n",
       "      <td>0</td>\n",
       "      <td>347.0</td>\n",
       "      <td>3.0</td>\n",
       "      <td>37</td>\n",
       "      <td>False</td>\n",
       "      <td>NaN</td>\n",
       "      <td>NaN</td>\n",
       "      <td>NaN</td>\n",
       "      <td>NaN</td>\n",
       "      <td>NaN</td>\n",
       "      <td>NaN</td>\n",
       "    </tr>\n",
       "    <tr>\n",
       "      <th>2</th>\n",
       "      <td>0</td>\n",
       "      <td>35</td>\n",
       "      <td>0</td>\n",
       "      <td>247.0</td>\n",
       "      <td>1.0</td>\n",
       "      <td>40</td>\n",
       "      <td>False</td>\n",
       "      <td>NaN</td>\n",
       "      <td>NaN</td>\n",
       "      <td>NaN</td>\n",
       "      <td>NaN</td>\n",
       "      <td>NaN</td>\n",
       "      <td>NaN</td>\n",
       "    </tr>\n",
       "    <tr>\n",
       "      <th>3</th>\n",
       "      <td>0</td>\n",
       "      <td>43</td>\n",
       "      <td>0</td>\n",
       "      <td>221.0</td>\n",
       "      <td>1.0</td>\n",
       "      <td>40</td>\n",
       "      <td>False</td>\n",
       "      <td>NaN</td>\n",
       "      <td>NaN</td>\n",
       "      <td>NaN</td>\n",
       "      <td>NaN</td>\n",
       "      <td>NaN</td>\n",
       "      <td>NaN</td>\n",
       "    </tr>\n",
       "    <tr>\n",
       "      <th>4</th>\n",
       "      <td>0</td>\n",
       "      <td>51</td>\n",
       "      <td>0</td>\n",
       "      <td>128.5</td>\n",
       "      <td>2.0</td>\n",
       "      <td>57</td>\n",
       "      <td>True</td>\n",
       "      <td>NaN</td>\n",
       "      <td>NaN</td>\n",
       "      <td>NaN</td>\n",
       "      <td>NaN</td>\n",
       "      <td>NaN</td>\n",
       "      <td>NaN</td>\n",
       "    </tr>\n",
       "  </tbody>\n",
       "</table>\n",
       "</div>"
      ],
      "text/plain": [
       "   shop_id  item_id  unique  item_price  item_cnt_month_x  item_category_id  \\\n",
       "0        0       32       0       221.0               6.0                40   \n",
       "1        0       33       0       347.0               3.0                37   \n",
       "2        0       35       0       247.0               1.0                40   \n",
       "3        0       43       0       221.0               1.0                40   \n",
       "4        0       51       0       128.5               2.0                57   \n",
       "\n",
       "   is_music  lag_shop_item_comb  lag_only_item  lag_only_item_cat  \\\n",
       "0     False                 NaN            NaN                NaN   \n",
       "1     False                 NaN            NaN                NaN   \n",
       "2     False                 NaN            NaN                NaN   \n",
       "3     False                 NaN            NaN                NaN   \n",
       "4      True                 NaN            NaN                NaN   \n",
       "\n",
       "   lag2_only_item_cat  lag2_shop_item_comb  item_cnt_month_y  \n",
       "0                 NaN                  NaN               NaN  \n",
       "1                 NaN                  NaN               NaN  \n",
       "2                 NaN                  NaN               NaN  \n",
       "3                 NaN                  NaN               NaN  \n",
       "4                 NaN                  NaN               NaN  "
      ]
     },
     "execution_count": 31,
     "metadata": {},
     "output_type": "execute_result"
    }
   ],
   "source": [
    "train_full4.head()"
   ]
  },
  {
   "cell_type": "code",
   "execution_count": 32,
   "metadata": {},
   "outputs": [],
   "source": [
    "train_full4.rename(columns={'item_cnt_month_x':'item_cnt_month', 'item_cnt_month_y':'lag2_only_item'}, inplace = True)"
   ]
  },
  {
   "cell_type": "code",
   "execution_count": 33,
   "metadata": {},
   "outputs": [
    {
     "data": {
      "text/html": [
       "<div>\n",
       "<style>\n",
       "    .dataframe thead tr:only-child th {\n",
       "        text-align: right;\n",
       "    }\n",
       "\n",
       "    .dataframe thead th {\n",
       "        text-align: left;\n",
       "    }\n",
       "\n",
       "    .dataframe tbody tr th {\n",
       "        vertical-align: top;\n",
       "    }\n",
       "</style>\n",
       "<table border=\"1\" class=\"dataframe\">\n",
       "  <thead>\n",
       "    <tr style=\"text-align: right;\">\n",
       "      <th></th>\n",
       "      <th>shop_id</th>\n",
       "      <th>item_id</th>\n",
       "      <th>unique</th>\n",
       "      <th>item_price</th>\n",
       "      <th>item_cnt_month</th>\n",
       "      <th>item_category_id</th>\n",
       "      <th>is_music</th>\n",
       "      <th>lag_shop_item_comb</th>\n",
       "      <th>lag_only_item</th>\n",
       "      <th>lag_only_item_cat</th>\n",
       "      <th>lag2_only_item_cat</th>\n",
       "      <th>lag2_shop_item_comb</th>\n",
       "      <th>lag2_only_item</th>\n",
       "    </tr>\n",
       "  </thead>\n",
       "  <tbody>\n",
       "    <tr>\n",
       "      <th>0</th>\n",
       "      <td>0</td>\n",
       "      <td>32</td>\n",
       "      <td>0</td>\n",
       "      <td>221.0</td>\n",
       "      <td>6.0</td>\n",
       "      <td>40</td>\n",
       "      <td>False</td>\n",
       "      <td>NaN</td>\n",
       "      <td>NaN</td>\n",
       "      <td>NaN</td>\n",
       "      <td>NaN</td>\n",
       "      <td>NaN</td>\n",
       "      <td>NaN</td>\n",
       "    </tr>\n",
       "    <tr>\n",
       "      <th>1</th>\n",
       "      <td>0</td>\n",
       "      <td>33</td>\n",
       "      <td>0</td>\n",
       "      <td>347.0</td>\n",
       "      <td>3.0</td>\n",
       "      <td>37</td>\n",
       "      <td>False</td>\n",
       "      <td>NaN</td>\n",
       "      <td>NaN</td>\n",
       "      <td>NaN</td>\n",
       "      <td>NaN</td>\n",
       "      <td>NaN</td>\n",
       "      <td>NaN</td>\n",
       "    </tr>\n",
       "    <tr>\n",
       "      <th>2</th>\n",
       "      <td>0</td>\n",
       "      <td>35</td>\n",
       "      <td>0</td>\n",
       "      <td>247.0</td>\n",
       "      <td>1.0</td>\n",
       "      <td>40</td>\n",
       "      <td>False</td>\n",
       "      <td>NaN</td>\n",
       "      <td>NaN</td>\n",
       "      <td>NaN</td>\n",
       "      <td>NaN</td>\n",
       "      <td>NaN</td>\n",
       "      <td>NaN</td>\n",
       "    </tr>\n",
       "    <tr>\n",
       "      <th>3</th>\n",
       "      <td>0</td>\n",
       "      <td>43</td>\n",
       "      <td>0</td>\n",
       "      <td>221.0</td>\n",
       "      <td>1.0</td>\n",
       "      <td>40</td>\n",
       "      <td>False</td>\n",
       "      <td>NaN</td>\n",
       "      <td>NaN</td>\n",
       "      <td>NaN</td>\n",
       "      <td>NaN</td>\n",
       "      <td>NaN</td>\n",
       "      <td>NaN</td>\n",
       "    </tr>\n",
       "    <tr>\n",
       "      <th>4</th>\n",
       "      <td>0</td>\n",
       "      <td>51</td>\n",
       "      <td>0</td>\n",
       "      <td>128.5</td>\n",
       "      <td>2.0</td>\n",
       "      <td>57</td>\n",
       "      <td>True</td>\n",
       "      <td>NaN</td>\n",
       "      <td>NaN</td>\n",
       "      <td>NaN</td>\n",
       "      <td>NaN</td>\n",
       "      <td>NaN</td>\n",
       "      <td>NaN</td>\n",
       "    </tr>\n",
       "  </tbody>\n",
       "</table>\n",
       "</div>"
      ],
      "text/plain": [
       "   shop_id  item_id  unique  item_price  item_cnt_month  item_category_id  \\\n",
       "0        0       32       0       221.0             6.0                40   \n",
       "1        0       33       0       347.0             3.0                37   \n",
       "2        0       35       0       247.0             1.0                40   \n",
       "3        0       43       0       221.0             1.0                40   \n",
       "4        0       51       0       128.5             2.0                57   \n",
       "\n",
       "   is_music  lag_shop_item_comb  lag_only_item  lag_only_item_cat  \\\n",
       "0     False                 NaN            NaN                NaN   \n",
       "1     False                 NaN            NaN                NaN   \n",
       "2     False                 NaN            NaN                NaN   \n",
       "3     False                 NaN            NaN                NaN   \n",
       "4      True                 NaN            NaN                NaN   \n",
       "\n",
       "   lag2_only_item_cat  lag2_shop_item_comb  lag2_only_item  \n",
       "0                 NaN                  NaN             NaN  \n",
       "1                 NaN                  NaN             NaN  \n",
       "2                 NaN                  NaN             NaN  \n",
       "3                 NaN                  NaN             NaN  \n",
       "4                 NaN                  NaN             NaN  "
      ]
     },
     "execution_count": 33,
     "metadata": {},
     "output_type": "execute_result"
    }
   ],
   "source": [
    "train_full4.head()"
   ]
  },
  {
   "cell_type": "code",
   "execution_count": 34,
   "metadata": {},
   "outputs": [],
   "source": [
    "#Okay same needs to be done for test. ie. 32nd month. Done in next cell."
   ]
  },
  {
   "cell_type": "code",
   "execution_count": 35,
   "metadata": {},
   "outputs": [
    {
     "data": {
      "text/html": [
       "<div>\n",
       "<style>\n",
       "    .dataframe thead tr:only-child th {\n",
       "        text-align: right;\n",
       "    }\n",
       "\n",
       "    .dataframe thead th {\n",
       "        text-align: left;\n",
       "    }\n",
       "\n",
       "    .dataframe tbody tr th {\n",
       "        vertical-align: top;\n",
       "    }\n",
       "</style>\n",
       "<table border=\"1\" class=\"dataframe\">\n",
       "  <thead>\n",
       "    <tr style=\"text-align: right;\">\n",
       "      <th></th>\n",
       "      <th>ID</th>\n",
       "      <th>shop_id</th>\n",
       "      <th>item_id</th>\n",
       "      <th>item_category_id</th>\n",
       "      <th>indicator</th>\n",
       "      <th>is_music</th>\n",
       "      <th>lag_shop_item_comb</th>\n",
       "      <th>lag_only_item</th>\n",
       "      <th>item_price</th>\n",
       "      <th>lag_only_item_cat</th>\n",
       "      <th>unique</th>\n",
       "    </tr>\n",
       "  </thead>\n",
       "  <tbody>\n",
       "    <tr>\n",
       "      <th>0</th>\n",
       "      <td>0</td>\n",
       "      <td>5</td>\n",
       "      <td>5037</td>\n",
       "      <td>19.0</td>\n",
       "      <td>1</td>\n",
       "      <td>False</td>\n",
       "      <td>NaN</td>\n",
       "      <td>25.0</td>\n",
       "      <td>1693.518519</td>\n",
       "      <td>2443.0</td>\n",
       "      <td>34</td>\n",
       "    </tr>\n",
       "    <tr>\n",
       "      <th>1</th>\n",
       "      <td>1</td>\n",
       "      <td>5</td>\n",
       "      <td>5320</td>\n",
       "      <td>NaN</td>\n",
       "      <td>0</td>\n",
       "      <td>NaN</td>\n",
       "      <td>NaN</td>\n",
       "      <td>NaN</td>\n",
       "      <td>NaN</td>\n",
       "      <td>NaN</td>\n",
       "      <td>34</td>\n",
       "    </tr>\n",
       "    <tr>\n",
       "      <th>2</th>\n",
       "      <td>2</td>\n",
       "      <td>5</td>\n",
       "      <td>5233</td>\n",
       "      <td>19.0</td>\n",
       "      <td>2</td>\n",
       "      <td>False</td>\n",
       "      <td>1.0</td>\n",
       "      <td>42.0</td>\n",
       "      <td>859.000000</td>\n",
       "      <td>2443.0</td>\n",
       "      <td>34</td>\n",
       "    </tr>\n",
       "    <tr>\n",
       "      <th>3</th>\n",
       "      <td>3</td>\n",
       "      <td>5</td>\n",
       "      <td>5232</td>\n",
       "      <td>23.0</td>\n",
       "      <td>1</td>\n",
       "      <td>False</td>\n",
       "      <td>NaN</td>\n",
       "      <td>28.0</td>\n",
       "      <td>599.000000</td>\n",
       "      <td>2203.0</td>\n",
       "      <td>34</td>\n",
       "    </tr>\n",
       "    <tr>\n",
       "      <th>4</th>\n",
       "      <td>4</td>\n",
       "      <td>5</td>\n",
       "      <td>5268</td>\n",
       "      <td>NaN</td>\n",
       "      <td>0</td>\n",
       "      <td>NaN</td>\n",
       "      <td>NaN</td>\n",
       "      <td>NaN</td>\n",
       "      <td>NaN</td>\n",
       "      <td>NaN</td>\n",
       "      <td>34</td>\n",
       "    </tr>\n",
       "  </tbody>\n",
       "</table>\n",
       "</div>"
      ],
      "text/plain": [
       "   ID  shop_id  item_id  item_category_id  indicator is_music  \\\n",
       "0   0        5     5037              19.0          1    False   \n",
       "1   1        5     5320               NaN          0      NaN   \n",
       "2   2        5     5233              19.0          2    False   \n",
       "3   3        5     5232              23.0          1    False   \n",
       "4   4        5     5268               NaN          0      NaN   \n",
       "\n",
       "   lag_shop_item_comb  lag_only_item   item_price  lag_only_item_cat  unique  \n",
       "0                 NaN           25.0  1693.518519             2443.0      34  \n",
       "1                 NaN            NaN          NaN                NaN      34  \n",
       "2                 1.0           42.0   859.000000             2443.0      34  \n",
       "3                 NaN           28.0   599.000000             2203.0      34  \n",
       "4                 NaN            NaN          NaN                NaN      34  "
      ]
     },
     "execution_count": 35,
     "metadata": {},
     "output_type": "execute_result"
    }
   ],
   "source": [
    "test_full.head()"
   ]
  },
  {
   "cell_type": "code",
   "execution_count": 36,
   "metadata": {},
   "outputs": [],
   "source": [
    "for_test_lag2_item_cat = train_full[train_full['unique'] == 32].groupby('item_category_id')['item_cnt_month'].mean()"
   ]
  },
  {
   "cell_type": "code",
   "execution_count": 37,
   "metadata": {},
   "outputs": [
    {
     "data": {
      "text/plain": [
       "2"
      ]
     },
     "execution_count": 37,
     "metadata": {},
     "output_type": "execute_result"
    }
   ],
   "source": [
    "sum(for_test_lag2_item_cat>100)"
   ]
  },
  {
   "cell_type": "code",
   "execution_count": 38,
   "metadata": {},
   "outputs": [
    {
     "data": {
      "image/png": "[encoded data removed]",
      "text/plain": [
       "<Figure size 432x288 with 1 Axes>"
      ]
     },
     "metadata": {},
     "output_type": "display_data"
    }
   ],
   "source": [
    "plt.figure()\n",
    "for_plot = train_full[train_full['item_category_id'] == 8 ].groupby('unique')['item_cnt_month'].mean().reset_index()\n",
    "plt.plot(for_plot['unique'], for_plot['item_cnt_month'])\n",
    "for_plot2 = train_full[train_full['item_category_id'] == 9 ].groupby('unique')['item_cnt_month'].mean().reset_index()\n",
    "plt.plot(for_plot2['unique'], for_plot2['item_cnt_month'])\n",
    "plt.show()"
   ]
  },
  {
   "cell_type": "code",
   "execution_count": 39,
   "metadata": {},
   "outputs": [
    {
     "data": {
      "text/html": [
       "<div>\n",
       "<style>\n",
       "    .dataframe thead tr:only-child th {\n",
       "        text-align: right;\n",
       "    }\n",
       "\n",
       "    .dataframe thead th {\n",
       "        text-align: left;\n",
       "    }\n",
       "\n",
       "    .dataframe tbody tr th {\n",
       "        vertical-align: top;\n",
       "    }\n",
       "</style>\n",
       "<table border=\"1\" class=\"dataframe\">\n",
       "  <thead>\n",
       "    <tr style=\"text-align: right;\">\n",
       "      <th></th>\n",
       "      <th>shop_id</th>\n",
       "      <th>item_id</th>\n",
       "      <th>unique</th>\n",
       "      <th>item_price</th>\n",
       "      <th>item_cnt_month</th>\n",
       "      <th>item_category_id</th>\n",
       "      <th>is_music</th>\n",
       "      <th>lag_shop_item_comb</th>\n",
       "      <th>lag_only_item</th>\n",
       "      <th>lag_only_item_cat</th>\n",
       "    </tr>\n",
       "  </thead>\n",
       "  <tbody>\n",
       "    <tr>\n",
       "      <th>975699</th>\n",
       "      <td>3</td>\n",
       "      <td>9242</td>\n",
       "      <td>18</td>\n",
       "      <td>900.000000</td>\n",
       "      <td>1.0</td>\n",
       "      <td>8</td>\n",
       "      <td>False</td>\n",
       "      <td>NaN</td>\n",
       "      <td>NaN</td>\n",
       "      <td>NaN</td>\n",
       "    </tr>\n",
       "    <tr>\n",
       "      <th>977943</th>\n",
       "      <td>6</td>\n",
       "      <td>9243</td>\n",
       "      <td>18</td>\n",
       "      <td>2000.000000</td>\n",
       "      <td>1.0</td>\n",
       "      <td>8</td>\n",
       "      <td>False</td>\n",
       "      <td>NaN</td>\n",
       "      <td>NaN</td>\n",
       "      <td>NaN</td>\n",
       "    </tr>\n",
       "    <tr>\n",
       "      <th>980223</th>\n",
       "      <td>12</td>\n",
       "      <td>9241</td>\n",
       "      <td>18</td>\n",
       "      <td>600.000000</td>\n",
       "      <td>4.0</td>\n",
       "      <td>8</td>\n",
       "      <td>False</td>\n",
       "      <td>NaN</td>\n",
       "      <td>NaN</td>\n",
       "      <td>NaN</td>\n",
       "    </tr>\n",
       "    <tr>\n",
       "      <th>980224</th>\n",
       "      <td>12</td>\n",
       "      <td>9242</td>\n",
       "      <td>18</td>\n",
       "      <td>900.000000</td>\n",
       "      <td>8.0</td>\n",
       "      <td>8</td>\n",
       "      <td>False</td>\n",
       "      <td>NaN</td>\n",
       "      <td>NaN</td>\n",
       "      <td>NaN</td>\n",
       "    </tr>\n",
       "    <tr>\n",
       "      <th>980225</th>\n",
       "      <td>12</td>\n",
       "      <td>9243</td>\n",
       "      <td>18</td>\n",
       "      <td>2000.000000</td>\n",
       "      <td>1.0</td>\n",
       "      <td>8</td>\n",
       "      <td>False</td>\n",
       "      <td>NaN</td>\n",
       "      <td>NaN</td>\n",
       "      <td>NaN</td>\n",
       "    </tr>\n",
       "    <tr>\n",
       "      <th>981936</th>\n",
       "      <td>15</td>\n",
       "      <td>9241</td>\n",
       "      <td>18</td>\n",
       "      <td>600.000000</td>\n",
       "      <td>2.0</td>\n",
       "      <td>8</td>\n",
       "      <td>False</td>\n",
       "      <td>NaN</td>\n",
       "      <td>NaN</td>\n",
       "      <td>NaN</td>\n",
       "    </tr>\n",
       "    <tr>\n",
       "      <th>982748</th>\n",
       "      <td>16</td>\n",
       "      <td>9241</td>\n",
       "      <td>18</td>\n",
       "      <td>600.000000</td>\n",
       "      <td>5.0</td>\n",
       "      <td>8</td>\n",
       "      <td>False</td>\n",
       "      <td>NaN</td>\n",
       "      <td>NaN</td>\n",
       "      <td>NaN</td>\n",
       "    </tr>\n",
       "    <tr>\n",
       "      <th>983525</th>\n",
       "      <td>17</td>\n",
       "      <td>9242</td>\n",
       "      <td>18</td>\n",
       "      <td>900.000000</td>\n",
       "      <td>2.0</td>\n",
       "      <td>8</td>\n",
       "      <td>False</td>\n",
       "      <td>NaN</td>\n",
       "      <td>NaN</td>\n",
       "      <td>NaN</td>\n",
       "    </tr>\n",
       "    <tr>\n",
       "      <th>985111</th>\n",
       "      <td>19</td>\n",
       "      <td>9242</td>\n",
       "      <td>18</td>\n",
       "      <td>900.000000</td>\n",
       "      <td>1.0</td>\n",
       "      <td>8</td>\n",
       "      <td>False</td>\n",
       "      <td>NaN</td>\n",
       "      <td>NaN</td>\n",
       "      <td>NaN</td>\n",
       "    </tr>\n",
       "    <tr>\n",
       "      <th>985953</th>\n",
       "      <td>21</td>\n",
       "      <td>9242</td>\n",
       "      <td>18</td>\n",
       "      <td>900.000000</td>\n",
       "      <td>1.0</td>\n",
       "      <td>8</td>\n",
       "      <td>False</td>\n",
       "      <td>NaN</td>\n",
       "      <td>NaN</td>\n",
       "      <td>NaN</td>\n",
       "    </tr>\n",
       "    <tr>\n",
       "      <th>985954</th>\n",
       "      <td>21</td>\n",
       "      <td>9243</td>\n",
       "      <td>18</td>\n",
       "      <td>2000.000000</td>\n",
       "      <td>1.0</td>\n",
       "      <td>8</td>\n",
       "      <td>False</td>\n",
       "      <td>NaN</td>\n",
       "      <td>NaN</td>\n",
       "      <td>NaN</td>\n",
       "    </tr>\n",
       "    <tr>\n",
       "      <th>986761</th>\n",
       "      <td>22</td>\n",
       "      <td>9242</td>\n",
       "      <td>18</td>\n",
       "      <td>900.000000</td>\n",
       "      <td>1.0</td>\n",
       "      <td>8</td>\n",
       "      <td>False</td>\n",
       "      <td>NaN</td>\n",
       "      <td>NaN</td>\n",
       "      <td>NaN</td>\n",
       "    </tr>\n",
       "    <tr>\n",
       "      <th>988838</th>\n",
       "      <td>25</td>\n",
       "      <td>9241</td>\n",
       "      <td>18</td>\n",
       "      <td>600.000000</td>\n",
       "      <td>3.0</td>\n",
       "      <td>8</td>\n",
       "      <td>False</td>\n",
       "      <td>NaN</td>\n",
       "      <td>NaN</td>\n",
       "      <td>NaN</td>\n",
       "    </tr>\n",
       "    <tr>\n",
       "      <th>988839</th>\n",
       "      <td>25</td>\n",
       "      <td>9242</td>\n",
       "      <td>18</td>\n",
       "      <td>900.000000</td>\n",
       "      <td>5.0</td>\n",
       "      <td>8</td>\n",
       "      <td>False</td>\n",
       "      <td>NaN</td>\n",
       "      <td>NaN</td>\n",
       "      <td>NaN</td>\n",
       "    </tr>\n",
       "    <tr>\n",
       "      <th>990707</th>\n",
       "      <td>26</td>\n",
       "      <td>9241</td>\n",
       "      <td>18</td>\n",
       "      <td>600.000000</td>\n",
       "      <td>4.0</td>\n",
       "      <td>8</td>\n",
       "      <td>False</td>\n",
       "      <td>NaN</td>\n",
       "      <td>NaN</td>\n",
       "      <td>NaN</td>\n",
       "    </tr>\n",
       "    <tr>\n",
       "      <th>990708</th>\n",
       "      <td>26</td>\n",
       "      <td>9242</td>\n",
       "      <td>18</td>\n",
       "      <td>900.000000</td>\n",
       "      <td>3.0</td>\n",
       "      <td>8</td>\n",
       "      <td>False</td>\n",
       "      <td>NaN</td>\n",
       "      <td>NaN</td>\n",
       "      <td>NaN</td>\n",
       "    </tr>\n",
       "    <tr>\n",
       "      <th>991868</th>\n",
       "      <td>27</td>\n",
       "      <td>9241</td>\n",
       "      <td>18</td>\n",
       "      <td>600.000000</td>\n",
       "      <td>1.0</td>\n",
       "      <td>8</td>\n",
       "      <td>False</td>\n",
       "      <td>NaN</td>\n",
       "      <td>NaN</td>\n",
       "      <td>NaN</td>\n",
       "    </tr>\n",
       "    <tr>\n",
       "      <th>991869</th>\n",
       "      <td>27</td>\n",
       "      <td>9242</td>\n",
       "      <td>18</td>\n",
       "      <td>900.000000</td>\n",
       "      <td>6.0</td>\n",
       "      <td>8</td>\n",
       "      <td>False</td>\n",
       "      <td>NaN</td>\n",
       "      <td>NaN</td>\n",
       "      <td>NaN</td>\n",
       "    </tr>\n",
       "    <tr>\n",
       "      <th>993471</th>\n",
       "      <td>28</td>\n",
       "      <td>9241</td>\n",
       "      <td>18</td>\n",
       "      <td>600.000000</td>\n",
       "      <td>2.0</td>\n",
       "      <td>8</td>\n",
       "      <td>False</td>\n",
       "      <td>NaN</td>\n",
       "      <td>NaN</td>\n",
       "      <td>NaN</td>\n",
       "    </tr>\n",
       "    <tr>\n",
       "      <th>993472</th>\n",
       "      <td>28</td>\n",
       "      <td>9243</td>\n",
       "      <td>18</td>\n",
       "      <td>2000.000000</td>\n",
       "      <td>1.0</td>\n",
       "      <td>8</td>\n",
       "      <td>False</td>\n",
       "      <td>NaN</td>\n",
       "      <td>NaN</td>\n",
       "      <td>NaN</td>\n",
       "    </tr>\n",
       "    <tr>\n",
       "      <th>994860</th>\n",
       "      <td>29</td>\n",
       "      <td>9242</td>\n",
       "      <td>18</td>\n",
       "      <td>900.000000</td>\n",
       "      <td>2.0</td>\n",
       "      <td>8</td>\n",
       "      <td>False</td>\n",
       "      <td>NaN</td>\n",
       "      <td>NaN</td>\n",
       "      <td>NaN</td>\n",
       "    </tr>\n",
       "    <tr>\n",
       "      <th>995670</th>\n",
       "      <td>30</td>\n",
       "      <td>9241</td>\n",
       "      <td>18</td>\n",
       "      <td>600.000000</td>\n",
       "      <td>6.0</td>\n",
       "      <td>8</td>\n",
       "      <td>False</td>\n",
       "      <td>NaN</td>\n",
       "      <td>NaN</td>\n",
       "      <td>NaN</td>\n",
       "    </tr>\n",
       "    <tr>\n",
       "      <th>997200</th>\n",
       "      <td>31</td>\n",
       "      <td>9241</td>\n",
       "      <td>18</td>\n",
       "      <td>600.000000</td>\n",
       "      <td>8.0</td>\n",
       "      <td>8</td>\n",
       "      <td>False</td>\n",
       "      <td>NaN</td>\n",
       "      <td>NaN</td>\n",
       "      <td>NaN</td>\n",
       "    </tr>\n",
       "    <tr>\n",
       "      <th>997201</th>\n",
       "      <td>31</td>\n",
       "      <td>9242</td>\n",
       "      <td>18</td>\n",
       "      <td>900.000000</td>\n",
       "      <td>15.0</td>\n",
       "      <td>8</td>\n",
       "      <td>False</td>\n",
       "      <td>NaN</td>\n",
       "      <td>NaN</td>\n",
       "      <td>NaN</td>\n",
       "    </tr>\n",
       "    <tr>\n",
       "      <th>997202</th>\n",
       "      <td>31</td>\n",
       "      <td>9243</td>\n",
       "      <td>18</td>\n",
       "      <td>2000.000000</td>\n",
       "      <td>7.0</td>\n",
       "      <td>8</td>\n",
       "      <td>False</td>\n",
       "      <td>NaN</td>\n",
       "      <td>NaN</td>\n",
       "      <td>NaN</td>\n",
       "    </tr>\n",
       "    <tr>\n",
       "      <th>999520</th>\n",
       "      <td>35</td>\n",
       "      <td>9241</td>\n",
       "      <td>18</td>\n",
       "      <td>600.000000</td>\n",
       "      <td>4.0</td>\n",
       "      <td>8</td>\n",
       "      <td>False</td>\n",
       "      <td>NaN</td>\n",
       "      <td>NaN</td>\n",
       "      <td>NaN</td>\n",
       "    </tr>\n",
       "    <tr>\n",
       "      <th>999521</th>\n",
       "      <td>35</td>\n",
       "      <td>9242</td>\n",
       "      <td>18</td>\n",
       "      <td>900.000000</td>\n",
       "      <td>8.0</td>\n",
       "      <td>8</td>\n",
       "      <td>False</td>\n",
       "      <td>NaN</td>\n",
       "      <td>NaN</td>\n",
       "      <td>NaN</td>\n",
       "    </tr>\n",
       "    <tr>\n",
       "      <th>1001611</th>\n",
       "      <td>39</td>\n",
       "      <td>9242</td>\n",
       "      <td>18</td>\n",
       "      <td>900.000000</td>\n",
       "      <td>2.0</td>\n",
       "      <td>8</td>\n",
       "      <td>False</td>\n",
       "      <td>NaN</td>\n",
       "      <td>NaN</td>\n",
       "      <td>NaN</td>\n",
       "    </tr>\n",
       "    <tr>\n",
       "      <th>1002307</th>\n",
       "      <td>41</td>\n",
       "      <td>9243</td>\n",
       "      <td>18</td>\n",
       "      <td>2000.000000</td>\n",
       "      <td>1.0</td>\n",
       "      <td>8</td>\n",
       "      <td>False</td>\n",
       "      <td>NaN</td>\n",
       "      <td>NaN</td>\n",
       "      <td>NaN</td>\n",
       "    </tr>\n",
       "    <tr>\n",
       "      <th>1004623</th>\n",
       "      <td>43</td>\n",
       "      <td>9243</td>\n",
       "      <td>18</td>\n",
       "      <td>2000.000000</td>\n",
       "      <td>1.0</td>\n",
       "      <td>8</td>\n",
       "      <td>False</td>\n",
       "      <td>NaN</td>\n",
       "      <td>NaN</td>\n",
       "      <td>NaN</td>\n",
       "    </tr>\n",
       "    <tr>\n",
       "      <th>...</th>\n",
       "      <td>...</td>\n",
       "      <td>...</td>\n",
       "      <td>...</td>\n",
       "      <td>...</td>\n",
       "      <td>...</td>\n",
       "      <td>...</td>\n",
       "      <td>...</td>\n",
       "      <td>...</td>\n",
       "      <td>...</td>\n",
       "      <td>...</td>\n",
       "    </tr>\n",
       "    <tr>\n",
       "      <th>1445470</th>\n",
       "      <td>55</td>\n",
       "      <td>9249</td>\n",
       "      <td>28</td>\n",
       "      <td>1300.000000</td>\n",
       "      <td>13.0</td>\n",
       "      <td>8</td>\n",
       "      <td>False</td>\n",
       "      <td>13.0</td>\n",
       "      <td>13.0</td>\n",
       "      <td>45.0</td>\n",
       "    </tr>\n",
       "    <tr>\n",
       "      <th>1445471</th>\n",
       "      <td>55</td>\n",
       "      <td>9251</td>\n",
       "      <td>28</td>\n",
       "      <td>1300.000000</td>\n",
       "      <td>47.0</td>\n",
       "      <td>8</td>\n",
       "      <td>False</td>\n",
       "      <td>11.0</td>\n",
       "      <td>11.0</td>\n",
       "      <td>45.0</td>\n",
       "    </tr>\n",
       "    <tr>\n",
       "      <th>1445473</th>\n",
       "      <td>55</td>\n",
       "      <td>9253</td>\n",
       "      <td>28</td>\n",
       "      <td>1100.000000</td>\n",
       "      <td>18.0</td>\n",
       "      <td>8</td>\n",
       "      <td>False</td>\n",
       "      <td>1.0</td>\n",
       "      <td>1.0</td>\n",
       "      <td>45.0</td>\n",
       "    </tr>\n",
       "    <tr>\n",
       "      <th>1445474</th>\n",
       "      <td>55</td>\n",
       "      <td>9255</td>\n",
       "      <td>28</td>\n",
       "      <td>1100.000000</td>\n",
       "      <td>16.0</td>\n",
       "      <td>8</td>\n",
       "      <td>False</td>\n",
       "      <td>9.0</td>\n",
       "      <td>9.0</td>\n",
       "      <td>45.0</td>\n",
       "    </tr>\n",
       "    <tr>\n",
       "      <th>1477098</th>\n",
       "      <td>55</td>\n",
       "      <td>9245</td>\n",
       "      <td>29</td>\n",
       "      <td>900.000000</td>\n",
       "      <td>6.0</td>\n",
       "      <td>8</td>\n",
       "      <td>False</td>\n",
       "      <td>6.0</td>\n",
       "      <td>6.0</td>\n",
       "      <td>147.0</td>\n",
       "    </tr>\n",
       "    <tr>\n",
       "      <th>1477099</th>\n",
       "      <td>55</td>\n",
       "      <td>9247</td>\n",
       "      <td>29</td>\n",
       "      <td>900.000000</td>\n",
       "      <td>40.0</td>\n",
       "      <td>8</td>\n",
       "      <td>False</td>\n",
       "      <td>47.0</td>\n",
       "      <td>47.0</td>\n",
       "      <td>147.0</td>\n",
       "    </tr>\n",
       "    <tr>\n",
       "      <th>1477100</th>\n",
       "      <td>55</td>\n",
       "      <td>9249</td>\n",
       "      <td>29</td>\n",
       "      <td>1300.000000</td>\n",
       "      <td>3.0</td>\n",
       "      <td>8</td>\n",
       "      <td>False</td>\n",
       "      <td>13.0</td>\n",
       "      <td>13.0</td>\n",
       "      <td>147.0</td>\n",
       "    </tr>\n",
       "    <tr>\n",
       "      <th>1477101</th>\n",
       "      <td>55</td>\n",
       "      <td>9251</td>\n",
       "      <td>29</td>\n",
       "      <td>1300.000000</td>\n",
       "      <td>50.0</td>\n",
       "      <td>8</td>\n",
       "      <td>False</td>\n",
       "      <td>47.0</td>\n",
       "      <td>47.0</td>\n",
       "      <td>147.0</td>\n",
       "    </tr>\n",
       "    <tr>\n",
       "      <th>1477102</th>\n",
       "      <td>55</td>\n",
       "      <td>9253</td>\n",
       "      <td>29</td>\n",
       "      <td>1100.000000</td>\n",
       "      <td>3.0</td>\n",
       "      <td>8</td>\n",
       "      <td>False</td>\n",
       "      <td>18.0</td>\n",
       "      <td>18.0</td>\n",
       "      <td>147.0</td>\n",
       "    </tr>\n",
       "    <tr>\n",
       "      <th>1477103</th>\n",
       "      <td>55</td>\n",
       "      <td>9255</td>\n",
       "      <td>29</td>\n",
       "      <td>1100.000000</td>\n",
       "      <td>15.0</td>\n",
       "      <td>8</td>\n",
       "      <td>False</td>\n",
       "      <td>16.0</td>\n",
       "      <td>16.0</td>\n",
       "      <td>147.0</td>\n",
       "    </tr>\n",
       "    <tr>\n",
       "      <th>1510581</th>\n",
       "      <td>55</td>\n",
       "      <td>9245</td>\n",
       "      <td>30</td>\n",
       "      <td>900.000000</td>\n",
       "      <td>9.0</td>\n",
       "      <td>8</td>\n",
       "      <td>False</td>\n",
       "      <td>6.0</td>\n",
       "      <td>6.0</td>\n",
       "      <td>117.0</td>\n",
       "    </tr>\n",
       "    <tr>\n",
       "      <th>1510582</th>\n",
       "      <td>55</td>\n",
       "      <td>9247</td>\n",
       "      <td>30</td>\n",
       "      <td>900.000000</td>\n",
       "      <td>60.0</td>\n",
       "      <td>8</td>\n",
       "      <td>False</td>\n",
       "      <td>40.0</td>\n",
       "      <td>40.0</td>\n",
       "      <td>117.0</td>\n",
       "    </tr>\n",
       "    <tr>\n",
       "      <th>1510583</th>\n",
       "      <td>55</td>\n",
       "      <td>9249</td>\n",
       "      <td>30</td>\n",
       "      <td>1300.000000</td>\n",
       "      <td>12.0</td>\n",
       "      <td>8</td>\n",
       "      <td>False</td>\n",
       "      <td>3.0</td>\n",
       "      <td>3.0</td>\n",
       "      <td>117.0</td>\n",
       "    </tr>\n",
       "    <tr>\n",
       "      <th>1510584</th>\n",
       "      <td>55</td>\n",
       "      <td>9251</td>\n",
       "      <td>30</td>\n",
       "      <td>1300.000000</td>\n",
       "      <td>87.0</td>\n",
       "      <td>8</td>\n",
       "      <td>False</td>\n",
       "      <td>50.0</td>\n",
       "      <td>50.0</td>\n",
       "      <td>117.0</td>\n",
       "    </tr>\n",
       "    <tr>\n",
       "      <th>1510585</th>\n",
       "      <td>55</td>\n",
       "      <td>9253</td>\n",
       "      <td>30</td>\n",
       "      <td>1100.000000</td>\n",
       "      <td>1.0</td>\n",
       "      <td>8</td>\n",
       "      <td>False</td>\n",
       "      <td>3.0</td>\n",
       "      <td>3.0</td>\n",
       "      <td>117.0</td>\n",
       "    </tr>\n",
       "    <tr>\n",
       "      <th>1510586</th>\n",
       "      <td>55</td>\n",
       "      <td>9255</td>\n",
       "      <td>30</td>\n",
       "      <td>1100.000000</td>\n",
       "      <td>24.0</td>\n",
       "      <td>8</td>\n",
       "      <td>False</td>\n",
       "      <td>15.0</td>\n",
       "      <td>15.0</td>\n",
       "      <td>117.0</td>\n",
       "    </tr>\n",
       "    <tr>\n",
       "      <th>1543912</th>\n",
       "      <td>55</td>\n",
       "      <td>9245</td>\n",
       "      <td>31</td>\n",
       "      <td>940.000000</td>\n",
       "      <td>29.0</td>\n",
       "      <td>8</td>\n",
       "      <td>False</td>\n",
       "      <td>9.0</td>\n",
       "      <td>9.0</td>\n",
       "      <td>193.0</td>\n",
       "    </tr>\n",
       "    <tr>\n",
       "      <th>1543913</th>\n",
       "      <td>55</td>\n",
       "      <td>9247</td>\n",
       "      <td>31</td>\n",
       "      <td>934.482759</td>\n",
       "      <td>157.0</td>\n",
       "      <td>8</td>\n",
       "      <td>False</td>\n",
       "      <td>60.0</td>\n",
       "      <td>60.0</td>\n",
       "      <td>193.0</td>\n",
       "    </tr>\n",
       "    <tr>\n",
       "      <th>1543914</th>\n",
       "      <td>55</td>\n",
       "      <td>9249</td>\n",
       "      <td>31</td>\n",
       "      <td>1342.857143</td>\n",
       "      <td>19.0</td>\n",
       "      <td>8</td>\n",
       "      <td>False</td>\n",
       "      <td>12.0</td>\n",
       "      <td>12.0</td>\n",
       "      <td>193.0</td>\n",
       "    </tr>\n",
       "    <tr>\n",
       "      <th>1543915</th>\n",
       "      <td>55</td>\n",
       "      <td>9251</td>\n",
       "      <td>31</td>\n",
       "      <td>1335.714286</td>\n",
       "      <td>193.0</td>\n",
       "      <td>8</td>\n",
       "      <td>False</td>\n",
       "      <td>87.0</td>\n",
       "      <td>87.0</td>\n",
       "      <td>193.0</td>\n",
       "    </tr>\n",
       "    <tr>\n",
       "      <th>1543916</th>\n",
       "      <td>55</td>\n",
       "      <td>9253</td>\n",
       "      <td>31</td>\n",
       "      <td>1185.714286</td>\n",
       "      <td>14.0</td>\n",
       "      <td>8</td>\n",
       "      <td>False</td>\n",
       "      <td>1.0</td>\n",
       "      <td>1.0</td>\n",
       "      <td>193.0</td>\n",
       "    </tr>\n",
       "    <tr>\n",
       "      <th>1543917</th>\n",
       "      <td>55</td>\n",
       "      <td>9255</td>\n",
       "      <td>31</td>\n",
       "      <td>1133.333333</td>\n",
       "      <td>71.0</td>\n",
       "      <td>8</td>\n",
       "      <td>False</td>\n",
       "      <td>24.0</td>\n",
       "      <td>24.0</td>\n",
       "      <td>193.0</td>\n",
       "    </tr>\n",
       "    <tr>\n",
       "      <th>1556680</th>\n",
       "      <td>22</td>\n",
       "      <td>9255</td>\n",
       "      <td>32</td>\n",
       "      <td>1300.000000</td>\n",
       "      <td>-1.0</td>\n",
       "      <td>8</td>\n",
       "      <td>False</td>\n",
       "      <td>NaN</td>\n",
       "      <td>71.0</td>\n",
       "      <td>483.0</td>\n",
       "    </tr>\n",
       "    <tr>\n",
       "      <th>1574406</th>\n",
       "      <td>55</td>\n",
       "      <td>9245</td>\n",
       "      <td>32</td>\n",
       "      <td>1106.883117</td>\n",
       "      <td>597.0</td>\n",
       "      <td>8</td>\n",
       "      <td>False</td>\n",
       "      <td>29.0</td>\n",
       "      <td>29.0</td>\n",
       "      <td>483.0</td>\n",
       "    </tr>\n",
       "    <tr>\n",
       "      <th>1574407</th>\n",
       "      <td>55</td>\n",
       "      <td>9247</td>\n",
       "      <td>32</td>\n",
       "      <td>1107.465361</td>\n",
       "      <td>716.0</td>\n",
       "      <td>8</td>\n",
       "      <td>False</td>\n",
       "      <td>157.0</td>\n",
       "      <td>157.0</td>\n",
       "      <td>483.0</td>\n",
       "    </tr>\n",
       "    <tr>\n",
       "      <th>1574408</th>\n",
       "      <td>55</td>\n",
       "      <td>9249</td>\n",
       "      <td>32</td>\n",
       "      <td>1506.993991</td>\n",
       "      <td>1644.0</td>\n",
       "      <td>8</td>\n",
       "      <td>False</td>\n",
       "      <td>19.0</td>\n",
       "      <td>19.0</td>\n",
       "      <td>483.0</td>\n",
       "    </tr>\n",
       "    <tr>\n",
       "      <th>1574409</th>\n",
       "      <td>55</td>\n",
       "      <td>9251</td>\n",
       "      <td>32</td>\n",
       "      <td>1507.310345</td>\n",
       "      <td>1117.0</td>\n",
       "      <td>8</td>\n",
       "      <td>False</td>\n",
       "      <td>193.0</td>\n",
       "      <td>193.0</td>\n",
       "      <td>483.0</td>\n",
       "    </tr>\n",
       "    <tr>\n",
       "      <th>1574410</th>\n",
       "      <td>55</td>\n",
       "      <td>9253</td>\n",
       "      <td>32</td>\n",
       "      <td>1308.611111</td>\n",
       "      <td>516.0</td>\n",
       "      <td>8</td>\n",
       "      <td>False</td>\n",
       "      <td>14.0</td>\n",
       "      <td>14.0</td>\n",
       "      <td>483.0</td>\n",
       "    </tr>\n",
       "    <tr>\n",
       "      <th>1574411</th>\n",
       "      <td>55</td>\n",
       "      <td>9255</td>\n",
       "      <td>32</td>\n",
       "      <td>1307.279693</td>\n",
       "      <td>539.0</td>\n",
       "      <td>8</td>\n",
       "      <td>False</td>\n",
       "      <td>71.0</td>\n",
       "      <td>71.0</td>\n",
       "      <td>483.0</td>\n",
       "    </tr>\n",
       "    <tr>\n",
       "      <th>1582069</th>\n",
       "      <td>12</td>\n",
       "      <td>9242</td>\n",
       "      <td>33</td>\n",
       "      <td>1500.000000</td>\n",
       "      <td>-1.0</td>\n",
       "      <td>8</td>\n",
       "      <td>False</td>\n",
       "      <td>NaN</td>\n",
       "      <td>NaN</td>\n",
       "      <td>5128.0</td>\n",
       "    </tr>\n",
       "  </tbody>\n",
       "</table>\n",
       "<p>315 rows × 10 columns</p>\n",
       "</div>"
      ],
      "text/plain": [
       "         shop_id  item_id  unique   item_price  item_cnt_month  \\\n",
       "975699         3     9242      18   900.000000             1.0   \n",
       "977943         6     9243      18  2000.000000             1.0   \n",
       "980223        12     9241      18   600.000000             4.0   \n",
       "980224        12     9242      18   900.000000             8.0   \n",
       "980225        12     9243      18  2000.000000             1.0   \n",
       "981936        15     9241      18   600.000000             2.0   \n",
       "982748        16     9241      18   600.000000             5.0   \n",
       "983525        17     9242      18   900.000000             2.0   \n",
       "985111        19     9242      18   900.000000             1.0   \n",
       "985953        21     9242      18   900.000000             1.0   \n",
       "985954        21     9243      18  2000.000000             1.0   \n",
       "986761        22     9242      18   900.000000             1.0   \n",
       "988838        25     9241      18   600.000000             3.0   \n",
       "988839        25     9242      18   900.000000             5.0   \n",
       "990707        26     9241      18   600.000000             4.0   \n",
       "990708        26     9242      18   900.000000             3.0   \n",
       "991868        27     9241      18   600.000000             1.0   \n",
       "991869        27     9242      18   900.000000             6.0   \n",
       "993471        28     9241      18   600.000000             2.0   \n",
       "993472        28     9243      18  2000.000000             1.0   \n",
       "994860        29     9242      18   900.000000             2.0   \n",
       "995670        30     9241      18   600.000000             6.0   \n",
       "997200        31     9241      18   600.000000             8.0   \n",
       "997201        31     9242      18   900.000000            15.0   \n",
       "997202        31     9243      18  2000.000000             7.0   \n",
       "999520        35     9241      18   600.000000             4.0   \n",
       "999521        35     9242      18   900.000000             8.0   \n",
       "1001611       39     9242      18   900.000000             2.0   \n",
       "1002307       41     9243      18  2000.000000             1.0   \n",
       "1004623       43     9243      18  2000.000000             1.0   \n",
       "...          ...      ...     ...          ...             ...   \n",
       "1445470       55     9249      28  1300.000000            13.0   \n",
       "1445471       55     9251      28  1300.000000            47.0   \n",
       "1445473       55     9253      28  1100.000000            18.0   \n",
       "1445474       55     9255      28  1100.000000            16.0   \n",
       "1477098       55     9245      29   900.000000             6.0   \n",
       "1477099       55     9247      29   900.000000            40.0   \n",
       "1477100       55     9249      29  1300.000000             3.0   \n",
       "1477101       55     9251      29  1300.000000            50.0   \n",
       "1477102       55     9253      29  1100.000000             3.0   \n",
       "1477103       55     9255      29  1100.000000            15.0   \n",
       "1510581       55     9245      30   900.000000             9.0   \n",
       "1510582       55     9247      30   900.000000            60.0   \n",
       "1510583       55     9249      30  1300.000000            12.0   \n",
       "1510584       55     9251      30  1300.000000            87.0   \n",
       "1510585       55     9253      30  1100.000000             1.0   \n",
       "1510586       55     9255      30  1100.000000            24.0   \n",
       "1543912       55     9245      31   940.000000            29.0   \n",
       "1543913       55     9247      31   934.482759           157.0   \n",
       "1543914       55     9249      31  1342.857143            19.0   \n",
       "1543915       55     9251      31  1335.714286           193.0   \n",
       "1543916       55     9253      31  1185.714286            14.0   \n",
       "1543917       55     9255      31  1133.333333            71.0   \n",
       "1556680       22     9255      32  1300.000000            -1.0   \n",
       "1574406       55     9245      32  1106.883117           597.0   \n",
       "1574407       55     9247      32  1107.465361           716.0   \n",
       "1574408       55     9249      32  1506.993991          1644.0   \n",
       "1574409       55     9251      32  1507.310345          1117.0   \n",
       "1574410       55     9253      32  1308.611111           516.0   \n",
       "1574411       55     9255      32  1307.279693           539.0   \n",
       "1582069       12     9242      33  1500.000000            -1.0   \n",
       "\n",
       "         item_category_id  is_music  lag_shop_item_comb  lag_only_item  \\\n",
       "975699                  8     False                 NaN            NaN   \n",
       "977943                  8     False                 NaN            NaN   \n",
       "980223                  8     False                 NaN            NaN   \n",
       "980224                  8     False                 NaN            NaN   \n",
       "980225                  8     False                 NaN            NaN   \n",
       "981936                  8     False                 NaN            NaN   \n",
       "982748                  8     False                 NaN            NaN   \n",
       "983525                  8     False                 NaN            NaN   \n",
       "985111                  8     False                 NaN            NaN   \n",
       "985953                  8     False                 NaN            NaN   \n",
       "985954                  8     False                 NaN            NaN   \n",
       "986761                  8     False                 NaN            NaN   \n",
       "988838                  8     False                 NaN            NaN   \n",
       "988839                  8     False                 NaN            NaN   \n",
       "990707                  8     False                 NaN            NaN   \n",
       "990708                  8     False                 NaN            NaN   \n",
       "991868                  8     False                 NaN            NaN   \n",
       "991869                  8     False                 NaN            NaN   \n",
       "993471                  8     False                 NaN            NaN   \n",
       "993472                  8     False                 NaN            NaN   \n",
       "994860                  8     False                 NaN            NaN   \n",
       "995670                  8     False                 NaN            NaN   \n",
       "997200                  8     False                 NaN            NaN   \n",
       "997201                  8     False                 NaN            NaN   \n",
       "997202                  8     False                 NaN            NaN   \n",
       "999520                  8     False                 NaN            NaN   \n",
       "999521                  8     False                 NaN            NaN   \n",
       "1001611                 8     False                 NaN            NaN   \n",
       "1002307                 8     False                 NaN            NaN   \n",
       "1004623                 8     False                 NaN            NaN   \n",
       "...                   ...       ...                 ...            ...   \n",
       "1445470                 8     False                13.0           13.0   \n",
       "1445471                 8     False                11.0           11.0   \n",
       "1445473                 8     False                 1.0            1.0   \n",
       "1445474                 8     False                 9.0            9.0   \n",
       "1477098                 8     False                 6.0            6.0   \n",
       "1477099                 8     False                47.0           47.0   \n",
       "1477100                 8     False                13.0           13.0   \n",
       "1477101                 8     False                47.0           47.0   \n",
       "1477102                 8     False                18.0           18.0   \n",
       "1477103                 8     False                16.0           16.0   \n",
       "1510581                 8     False                 6.0            6.0   \n",
       "1510582                 8     False                40.0           40.0   \n",
       "1510583                 8     False                 3.0            3.0   \n",
       "1510584                 8     False                50.0           50.0   \n",
       "1510585                 8     False                 3.0            3.0   \n",
       "1510586                 8     False                15.0           15.0   \n",
       "1543912                 8     False                 9.0            9.0   \n",
       "1543913                 8     False                60.0           60.0   \n",
       "1543914                 8     False                12.0           12.0   \n",
       "1543915                 8     False                87.0           87.0   \n",
       "1543916                 8     False                 1.0            1.0   \n",
       "1543917                 8     False                24.0           24.0   \n",
       "1556680                 8     False                 NaN           71.0   \n",
       "1574406                 8     False                29.0           29.0   \n",
       "1574407                 8     False               157.0          157.0   \n",
       "1574408                 8     False                19.0           19.0   \n",
       "1574409                 8     False               193.0          193.0   \n",
       "1574410                 8     False                14.0           14.0   \n",
       "1574411                 8     False                71.0           71.0   \n",
       "1582069                 8     False                 NaN            NaN   \n",
       "\n",
       "         lag_only_item_cat  \n",
       "975699                 NaN  \n",
       "977943                 NaN  \n",
       "980223                 NaN  \n",
       "980224                 NaN  \n",
       "980225                 NaN  \n",
       "981936                 NaN  \n",
       "982748                 NaN  \n",
       "983525                 NaN  \n",
       "985111                 NaN  \n",
       "985953                 NaN  \n",
       "985954                 NaN  \n",
       "986761                 NaN  \n",
       "988838                 NaN  \n",
       "988839                 NaN  \n",
       "990707                 NaN  \n",
       "990708                 NaN  \n",
       "991868                 NaN  \n",
       "991869                 NaN  \n",
       "993471                 NaN  \n",
       "993472                 NaN  \n",
       "994860                 NaN  \n",
       "995670                 NaN  \n",
       "997200                 NaN  \n",
       "997201                 NaN  \n",
       "997202                 NaN  \n",
       "999520                 NaN  \n",
       "999521                 NaN  \n",
       "1001611                NaN  \n",
       "1002307                NaN  \n",
       "1004623                NaN  \n",
       "...                    ...  \n",
       "1445470               45.0  \n",
       "1445471               45.0  \n",
       "1445473               45.0  \n",
       "1445474               45.0  \n",
       "1477098              147.0  \n",
       "1477099              147.0  \n",
       "1477100              147.0  \n",
       "1477101              147.0  \n",
       "1477102              147.0  \n",
       "1477103              147.0  \n",
       "1510581              117.0  \n",
       "1510582              117.0  \n",
       "1510583              117.0  \n",
       "1510584              117.0  \n",
       "1510585              117.0  \n",
       "1510586              117.0  \n",
       "1543912              193.0  \n",
       "1543913              193.0  \n",
       "1543914              193.0  \n",
       "1543915              193.0  \n",
       "1543916              193.0  \n",
       "1543917              193.0  \n",
       "1556680              483.0  \n",
       "1574406              483.0  \n",
       "1574407              483.0  \n",
       "1574408              483.0  \n",
       "1574409              483.0  \n",
       "1574410              483.0  \n",
       "1574411              483.0  \n",
       "1582069             5128.0  \n",
       "\n",
       "[315 rows x 10 columns]"
      ]
     },
     "execution_count": 39,
     "metadata": {},
     "output_type": "execute_result"
    }
   ],
   "source": [
    "#train_full[train_full['item_category_id']==1].groupby(['unique'])['item_cnt_month'].sum().reset_index()\n",
    "train_full[train_full['item_category_id']==8]"
   ]
  },
  {
   "cell_type": "code",
   "execution_count": 40,
   "metadata": {},
   "outputs": [
    {
     "data": {
      "text/plain": [
       "1609122"
      ]
     },
     "execution_count": 40,
     "metadata": {},
     "output_type": "execute_result"
    }
   ],
   "source": [
    "len(train_full4)"
   ]
  },
  {
   "cell_type": "code",
   "execution_count": 41,
   "metadata": {},
   "outputs": [
    {
     "data": {
      "text/plain": [
       "<Figure size 432x288 with 0 Axes>"
      ]
     },
     "metadata": {},
     "output_type": "display_data"
    },
    {
     "data": {
      "image/png": "[encoded data removed]",
      "text/plain": [
       "<Figure size 216x18144 with 84 Axes>"
      ]
     },
     "metadata": {},
     "output_type": "display_data"
    }
   ],
   "source": [
    "plt.figure()\n",
    "for_plot = train_full.groupby(['item_category_id','unique'])['item_cnt_month'].mean().reset_index()\n",
    "g = sns.FacetGrid(for_plot,row=\"item_category_id\")\n",
    "g = g.map(plt.scatter, \"unique\", \"item_cnt_month\", edgecolor=\"w\")\n",
    "plt.show()"
   ]
  },
  {
   "cell_type": "code",
   "execution_count": 42,
   "metadata": {},
   "outputs": [
    {
     "data": {
      "text/html": [
       "<div>\n",
       "<style>\n",
       "    .dataframe thead tr:only-child th {\n",
       "        text-align: right;\n",
       "    }\n",
       "\n",
       "    .dataframe thead th {\n",
       "        text-align: left;\n",
       "    }\n",
       "\n",
       "    .dataframe tbody tr th {\n",
       "        vertical-align: top;\n",
       "    }\n",
       "</style>\n",
       "<table border=\"1\" class=\"dataframe\">\n",
       "  <thead>\n",
       "    <tr style=\"text-align: right;\">\n",
       "      <th></th>\n",
       "      <th>ID</th>\n",
       "      <th>shop_id</th>\n",
       "      <th>item_id</th>\n",
       "      <th>item_category_id</th>\n",
       "      <th>indicator</th>\n",
       "      <th>is_music</th>\n",
       "      <th>lag_shop_item_comb</th>\n",
       "      <th>lag_only_item</th>\n",
       "      <th>item_price</th>\n",
       "      <th>lag_only_item_cat</th>\n",
       "      <th>unique</th>\n",
       "    </tr>\n",
       "  </thead>\n",
       "  <tbody>\n",
       "    <tr>\n",
       "      <th>0</th>\n",
       "      <td>0</td>\n",
       "      <td>5</td>\n",
       "      <td>5037</td>\n",
       "      <td>19.0</td>\n",
       "      <td>1</td>\n",
       "      <td>False</td>\n",
       "      <td>NaN</td>\n",
       "      <td>25.0</td>\n",
       "      <td>1693.518519</td>\n",
       "      <td>2443.0</td>\n",
       "      <td>34</td>\n",
       "    </tr>\n",
       "    <tr>\n",
       "      <th>1</th>\n",
       "      <td>1</td>\n",
       "      <td>5</td>\n",
       "      <td>5320</td>\n",
       "      <td>NaN</td>\n",
       "      <td>0</td>\n",
       "      <td>NaN</td>\n",
       "      <td>NaN</td>\n",
       "      <td>NaN</td>\n",
       "      <td>NaN</td>\n",
       "      <td>NaN</td>\n",
       "      <td>34</td>\n",
       "    </tr>\n",
       "    <tr>\n",
       "      <th>2</th>\n",
       "      <td>2</td>\n",
       "      <td>5</td>\n",
       "      <td>5233</td>\n",
       "      <td>19.0</td>\n",
       "      <td>2</td>\n",
       "      <td>False</td>\n",
       "      <td>1.0</td>\n",
       "      <td>42.0</td>\n",
       "      <td>859.000000</td>\n",
       "      <td>2443.0</td>\n",
       "      <td>34</td>\n",
       "    </tr>\n",
       "    <tr>\n",
       "      <th>3</th>\n",
       "      <td>3</td>\n",
       "      <td>5</td>\n",
       "      <td>5232</td>\n",
       "      <td>23.0</td>\n",
       "      <td>1</td>\n",
       "      <td>False</td>\n",
       "      <td>NaN</td>\n",
       "      <td>28.0</td>\n",
       "      <td>599.000000</td>\n",
       "      <td>2203.0</td>\n",
       "      <td>34</td>\n",
       "    </tr>\n",
       "    <tr>\n",
       "      <th>4</th>\n",
       "      <td>4</td>\n",
       "      <td>5</td>\n",
       "      <td>5268</td>\n",
       "      <td>NaN</td>\n",
       "      <td>0</td>\n",
       "      <td>NaN</td>\n",
       "      <td>NaN</td>\n",
       "      <td>NaN</td>\n",
       "      <td>NaN</td>\n",
       "      <td>NaN</td>\n",
       "      <td>34</td>\n",
       "    </tr>\n",
       "  </tbody>\n",
       "</table>\n",
       "</div>"
      ],
      "text/plain": [
       "   ID  shop_id  item_id  item_category_id  indicator is_music  \\\n",
       "0   0        5     5037              19.0          1    False   \n",
       "1   1        5     5320               NaN          0      NaN   \n",
       "2   2        5     5233              19.0          2    False   \n",
       "3   3        5     5232              23.0          1    False   \n",
       "4   4        5     5268               NaN          0      NaN   \n",
       "\n",
       "   lag_shop_item_comb  lag_only_item   item_price  lag_only_item_cat  unique  \n",
       "0                 NaN           25.0  1693.518519             2443.0      34  \n",
       "1                 NaN            NaN          NaN                NaN      34  \n",
       "2                 1.0           42.0   859.000000             2443.0      34  \n",
       "3                 NaN           28.0   599.000000             2203.0      34  \n",
       "4                 NaN            NaN          NaN                NaN      34  "
      ]
     },
     "execution_count": 42,
     "metadata": {},
     "output_type": "execute_result"
    }
   ],
   "source": [
    "test_full.head()"
   ]
  },
  {
   "cell_type": "code",
   "execution_count": 43,
   "metadata": {},
   "outputs": [
    {
     "data": {
      "text/html": [
       "<div>\n",
       "<style>\n",
       "    .dataframe thead tr:only-child th {\n",
       "        text-align: right;\n",
       "    }\n",
       "\n",
       "    .dataframe thead th {\n",
       "        text-align: left;\n",
       "    }\n",
       "\n",
       "    .dataframe tbody tr th {\n",
       "        vertical-align: top;\n",
       "    }\n",
       "</style>\n",
       "<table border=\"1\" class=\"dataframe\">\n",
       "  <thead>\n",
       "    <tr style=\"text-align: right;\">\n",
       "      <th></th>\n",
       "      <th>shop_id</th>\n",
       "      <th>item_id</th>\n",
       "      <th>unique</th>\n",
       "      <th>item_price</th>\n",
       "      <th>item_cnt_month</th>\n",
       "      <th>item_category_id</th>\n",
       "      <th>is_music</th>\n",
       "      <th>lag_shop_item_comb</th>\n",
       "      <th>lag_only_item</th>\n",
       "      <th>lag_only_item_cat</th>\n",
       "      <th>lag2_only_item_cat</th>\n",
       "      <th>lag2_shop_item_comb</th>\n",
       "      <th>lag2_only_item</th>\n",
       "    </tr>\n",
       "  </thead>\n",
       "  <tbody>\n",
       "    <tr>\n",
       "      <th>0</th>\n",
       "      <td>0</td>\n",
       "      <td>32</td>\n",
       "      <td>0</td>\n",
       "      <td>221.0</td>\n",
       "      <td>6.0</td>\n",
       "      <td>40</td>\n",
       "      <td>False</td>\n",
       "      <td>NaN</td>\n",
       "      <td>NaN</td>\n",
       "      <td>NaN</td>\n",
       "      <td>NaN</td>\n",
       "      <td>NaN</td>\n",
       "      <td>NaN</td>\n",
       "    </tr>\n",
       "    <tr>\n",
       "      <th>1</th>\n",
       "      <td>0</td>\n",
       "      <td>33</td>\n",
       "      <td>0</td>\n",
       "      <td>347.0</td>\n",
       "      <td>3.0</td>\n",
       "      <td>37</td>\n",
       "      <td>False</td>\n",
       "      <td>NaN</td>\n",
       "      <td>NaN</td>\n",
       "      <td>NaN</td>\n",
       "      <td>NaN</td>\n",
       "      <td>NaN</td>\n",
       "      <td>NaN</td>\n",
       "    </tr>\n",
       "    <tr>\n",
       "      <th>2</th>\n",
       "      <td>0</td>\n",
       "      <td>35</td>\n",
       "      <td>0</td>\n",
       "      <td>247.0</td>\n",
       "      <td>1.0</td>\n",
       "      <td>40</td>\n",
       "      <td>False</td>\n",
       "      <td>NaN</td>\n",
       "      <td>NaN</td>\n",
       "      <td>NaN</td>\n",
       "      <td>NaN</td>\n",
       "      <td>NaN</td>\n",
       "      <td>NaN</td>\n",
       "    </tr>\n",
       "    <tr>\n",
       "      <th>3</th>\n",
       "      <td>0</td>\n",
       "      <td>43</td>\n",
       "      <td>0</td>\n",
       "      <td>221.0</td>\n",
       "      <td>1.0</td>\n",
       "      <td>40</td>\n",
       "      <td>False</td>\n",
       "      <td>NaN</td>\n",
       "      <td>NaN</td>\n",
       "      <td>NaN</td>\n",
       "      <td>NaN</td>\n",
       "      <td>NaN</td>\n",
       "      <td>NaN</td>\n",
       "    </tr>\n",
       "    <tr>\n",
       "      <th>4</th>\n",
       "      <td>0</td>\n",
       "      <td>51</td>\n",
       "      <td>0</td>\n",
       "      <td>128.5</td>\n",
       "      <td>2.0</td>\n",
       "      <td>57</td>\n",
       "      <td>True</td>\n",
       "      <td>NaN</td>\n",
       "      <td>NaN</td>\n",
       "      <td>NaN</td>\n",
       "      <td>NaN</td>\n",
       "      <td>NaN</td>\n",
       "      <td>NaN</td>\n",
       "    </tr>\n",
       "  </tbody>\n",
       "</table>\n",
       "</div>"
      ],
      "text/plain": [
       "   shop_id  item_id  unique  item_price  item_cnt_month  item_category_id  \\\n",
       "0        0       32       0       221.0             6.0                40   \n",
       "1        0       33       0       347.0             3.0                37   \n",
       "2        0       35       0       247.0             1.0                40   \n",
       "3        0       43       0       221.0             1.0                40   \n",
       "4        0       51       0       128.5             2.0                57   \n",
       "\n",
       "   is_music  lag_shop_item_comb  lag_only_item  lag_only_item_cat  \\\n",
       "0     False                 NaN            NaN                NaN   \n",
       "1     False                 NaN            NaN                NaN   \n",
       "2     False                 NaN            NaN                NaN   \n",
       "3     False                 NaN            NaN                NaN   \n",
       "4      True                 NaN            NaN                NaN   \n",
       "\n",
       "   lag2_only_item_cat  lag2_shop_item_comb  lag2_only_item  \n",
       "0                 NaN                  NaN             NaN  \n",
       "1                 NaN                  NaN             NaN  \n",
       "2                 NaN                  NaN             NaN  \n",
       "3                 NaN                  NaN             NaN  \n",
       "4                 NaN                  NaN             NaN  "
      ]
     },
     "execution_count": 43,
     "metadata": {},
     "output_type": "execute_result"
    }
   ],
   "source": [
    "train_full4.head()"
   ]
  },
  {
   "cell_type": "code",
   "execution_count": 44,
   "metadata": {},
   "outputs": [
    {
     "data": {
      "text/plain": [
       "Index(['shop_id', 'item_id', 'unique', 'item_price', 'item_cnt_month',\n",
       "       'item_category_id', 'is_music', 'lag_shop_item_comb', 'lag_only_item',\n",
       "       'lag_only_item_cat', 'lag2_only_item_cat', 'lag2_shop_item_comb',\n",
       "       'lag2_only_item'],\n",
       "      dtype='object')"
      ]
     },
     "execution_count": 44,
     "metadata": {},
     "output_type": "execute_result"
    }
   ],
   "source": [
    "train_full4.columns"
   ]
  },
  {
   "cell_type": "code",
   "execution_count": 45,
   "metadata": {},
   "outputs": [
    {
     "data": {
      "image/png": "[encoded data removed]",
      "text/plain": [
       "<Figure size 792x648 with 2 Axes>"
      ]
     },
     "metadata": {},
     "output_type": "display_data"
    }
   ],
   "source": [
    "#Correlation matrix between y and lag2\n",
    "sns.set(style=\"white\")\n",
    "\n",
    "# Generate a large random dataset\n",
    "\n",
    "# Compute the correlation matrix\n",
    "corr = train_full4.drop(['shop_id','item_id','unique','item_price','item_category_id','is_music'], axis = 1).dropna().corr()\n",
    "\n",
    "# Generate a mask for the upper triangle\n",
    "mask = np.zeros_like(corr, dtype=np.bool)\n",
    "mask[np.triu_indices_from(mask)] = True\n",
    "\n",
    "# Set up the matplotlib figure\n",
    "f, ax = plt.subplots(figsize=(11, 9))\n",
    "\n",
    "# Generate a custom diverging colormap\n",
    "cmap = sns.diverging_palette(220, 10, as_cmap=True)\n",
    "\n",
    "# Draw the heatmap with the mask and correct aspect ratio\n",
    "sns.heatmap(corr,vmin= 0, vmax=1, center=0.5,\n",
    "            square=True, linewidths=.5, cbar_kws={\"shrink\": .5})\n",
    "plt.show()"
   ]
  },
  {
   "cell_type": "code",
   "execution_count": 46,
   "metadata": {},
   "outputs": [
    {
     "data": {
      "text/plain": [
       "[<matplotlib.lines.Line2D at 0x14784ae10>]"
      ]
     },
     "execution_count": 46,
     "metadata": {},
     "output_type": "execute_result"
    },
    {
     "data": {
      "image/png": "[encoded data removed]",
      "text/plain": [
       "<Figure size 432x288 with 1 Axes>"
      ]
     },
     "metadata": {},
     "output_type": "display_data"
    }
   ],
   "source": [
    "#Monthly trend doesnt show much though ,but some seasonality\n",
    "for_plot = train_full4.groupby(['unique'])['item_cnt_month'].mean()\n",
    "for_plot = for_plot.reset_index()\n",
    "plt.figure(1)\n",
    "plt.plot(for_plot['unique'],for_plot['item_cnt_month'])"
   ]
  },
  {
   "cell_type": "code",
   "execution_count": 47,
   "metadata": {},
   "outputs": [
    {
     "name": "stdout",
     "output_type": "stream",
     "text": [
      "Object `seasonal_decompose` not found.\n"
     ]
    }
   ],
   "source": [
    "??seasonal_decompose"
   ]
  },
  {
   "cell_type": "code",
   "execution_count": 48,
   "metadata": {},
   "outputs": [
    {
     "name": "stderr",
     "output_type": "stream",
     "text": [
      "/anaconda/lib/python3.6/site-packages/statsmodels/compat/pandas.py:56: FutureWarning: The pandas.core.datetools module is deprecated and will be removed in a future version. Please use the pandas.tseries module instead.\n",
      "  from pandas.core import datetools\n"
     ]
    },
    {
     "data": {
      "image/png": "[encoded data removed]",
      "text/plain": [
       "<Figure size 432x288 with 4 Axes>"
      ]
     },
     "metadata": {},
     "output_type": "display_data"
    }
   ],
   "source": [
    "from statsmodels.tsa.seasonal import seasonal_decompose\n",
    "from statsmodels.tsa.seasonal import seasonal_mean\n",
    "series = for_plot['item_cnt_month']\n",
    "result = seasonal_decompose(series.values, model='additive', freq = 3)\n",
    "result.plot()\n",
    "plt.show()\n",
    "#Concatenating seasonal component with frequency 3.\n",
    "make_dict = {}\n",
    "for i in range(0,34):\n",
    "    make_dict[i] = result.seasonal[i]\n",
    "train_full4['seasonal_freq_3_feature'] = train_full4['unique'].map(make_dict)"
   ]
  },
  {
   "cell_type": "markdown",
   "metadata": {},
   "source": [
    "## Prediction zone continued"
   ]
  },
  {
   "cell_type": "code",
   "execution_count": 49,
   "metadata": {},
   "outputs": [],
   "source": [
    "#Training for an estimate with new features, lag1,lag2, season3.\n",
    "train_lag1_lag2_season,val_lag1_lag2_season = month_split(train_full4,33)"
   ]
  },
  {
   "cell_type": "code",
   "execution_count": 50,
   "metadata": {},
   "outputs": [],
   "source": [
    "dropped_train_lag1_lag2_season = train_lag1_lag2_season.drop(['shop_id','item_id','item_category_id','item_cnt_month','unique'], axis = 1)"
   ]
  },
  {
   "cell_type": "code",
   "execution_count": 51,
   "metadata": {},
   "outputs": [],
   "source": [
    "dropped_val_lag1_lag2_season = val_lag1_lag2_season.drop(['shop_id','item_id','item_category_id','item_cnt_month','unique'], axis = 1)"
   ]
  },
  {
   "cell_type": "code",
   "execution_count": 52,
   "metadata": {},
   "outputs": [],
   "source": [
    "#Training with xgboost with default parameters\n",
    "xg_train = xgboost.DMatrix(dropped_train_lag1_lag2_season,label = train_lag1_lag2_season.copy()['item_cnt_month'])\n",
    "xg_val = xgboost.DMatrix(dropped_val_lag1_lag2_season,label = val_lag1_lag2_season.copy()['item_cnt_month'])"
   ]
  },
  {
   "cell_type": "code",
   "execution_count": 53,
   "metadata": {},
   "outputs": [],
   "source": [
    "param_set_1_lag_2_seasonal = {'max_depth': 6, 'eta': 0.01, 'silent': 1, 'objective': 'reg:linear', 'subsample' : 1,'eval_metric': 'rmse'}"
   ]
  },
  {
   "cell_type": "code",
   "execution_count": 54,
   "metadata": {},
   "outputs": [
    {
     "name": "stdout",
     "output_type": "stream",
     "text": [
      "[0]\ttrain_set-rmse:8.62183\tvalidation_set-rmse:14.6085\n",
      "Multiple eval metrics have been passed: 'validation_set-rmse' will be used for early stopping.\n",
      "\n",
      "Will train until validation_set-rmse hasn't improved in 10 rounds.\n",
      "[1]\ttrain_set-rmse:8.57149\tvalidation_set-rmse:14.579\n",
      "[2]\ttrain_set-rmse:8.52182\tvalidation_set-rmse:14.5502\n",
      "[3]\ttrain_set-rmse:8.47282\tvalidation_set-rmse:14.5217\n",
      "[4]\ttrain_set-rmse:8.42448\tvalidation_set-rmse:14.4937\n",
      "[5]\ttrain_set-rmse:8.37679\tvalidation_set-rmse:14.4662\n",
      "[6]\ttrain_set-rmse:8.32971\tvalidation_set-rmse:14.4391\n",
      "[7]\ttrain_set-rmse:8.28329\tvalidation_set-rmse:14.4124\n"
     ]
    },
    {
     "ename": "KeyboardInterrupt",
     "evalue": "",
     "output_type": "error",
     "traceback": [
      "\u001b[0;31m---------------------------------------------------------------------------\u001b[0m",
      "\u001b[0;31mKeyboardInterrupt\u001b[0m                         Traceback (most recent call last)",
      "\u001b[0;32m<ipython-input-54-6c1b76e4a4be>\u001b[0m in \u001b[0;36m<module>\u001b[0;34m()\u001b[0m\n\u001b[0;32m----> 1\u001b[0;31m \u001b[0mxgb_model1_set_1_lag_2_seasonal\u001b[0m \u001b[0;34m=\u001b[0m \u001b[0mxgboost\u001b[0m\u001b[0;34m.\u001b[0m\u001b[0mtrain\u001b[0m\u001b[0;34m(\u001b[0m\u001b[0mparam_set_1_lag_2_seasonal\u001b[0m \u001b[0;34m,\u001b[0m \u001b[0mxg_train\u001b[0m\u001b[0;34m,\u001b[0m\u001b[0mearly_stopping_rounds\u001b[0m\u001b[0;34m=\u001b[0m\u001b[0;36m10\u001b[0m\u001b[0;34m,\u001b[0m\u001b[0mevals\u001b[0m \u001b[0;34m=\u001b[0m \u001b[0;34m[\u001b[0m\u001b[0;34m(\u001b[0m\u001b[0mxg_train\u001b[0m \u001b[0;34m,\u001b[0m \u001b[0;34m\"train_set\"\u001b[0m\u001b[0;34m)\u001b[0m\u001b[0;34m,\u001b[0m\u001b[0;34m(\u001b[0m\u001b[0mxg_val\u001b[0m\u001b[0;34m,\u001b[0m\u001b[0;34m\"validation_set\"\u001b[0m\u001b[0;34m)\u001b[0m\u001b[0;34m]\u001b[0m \u001b[0;34m,\u001b[0m\u001b[0mnum_boost_round\u001b[0m\u001b[0;34m=\u001b[0m\u001b[0;36m1000\u001b[0m\u001b[0;34m)\u001b[0m\u001b[0;34m\u001b[0m\u001b[0m\n\u001b[0m",
      "\u001b[0;32m/anaconda/lib/python3.6/site-packages/xgboost/training.py\u001b[0m in \u001b[0;36mtrain\u001b[0;34m(params, dtrain, num_boost_round, evals, obj, feval, maximize, early_stopping_rounds, evals_result, verbose_eval, learning_rates, xgb_model, callbacks)\u001b[0m\n\u001b[1;32m    203\u001b[0m                            \u001b[0mevals\u001b[0m\u001b[0;34m=\u001b[0m\u001b[0mevals\u001b[0m\u001b[0;34m,\u001b[0m\u001b[0;34m\u001b[0m\u001b[0m\n\u001b[1;32m    204\u001b[0m                            \u001b[0mobj\u001b[0m\u001b[0;34m=\u001b[0m\u001b[0mobj\u001b[0m\u001b[0;34m,\u001b[0m \u001b[0mfeval\u001b[0m\u001b[0;34m=\u001b[0m\u001b[0mfeval\u001b[0m\u001b[0;34m,\u001b[0m\u001b[0;34m\u001b[0m\u001b[0m\n\u001b[0;32m--> 205\u001b[0;31m                            xgb_model=xgb_model, callbacks=callbacks)\n\u001b[0m\u001b[1;32m    206\u001b[0m \u001b[0;34m\u001b[0m\u001b[0m\n\u001b[1;32m    207\u001b[0m \u001b[0;34m\u001b[0m\u001b[0m\n",
      "\u001b[0;32m/anaconda/lib/python3.6/site-packages/xgboost/training.py\u001b[0m in \u001b[0;36m_train_internal\u001b[0;34m(params, dtrain, num_boost_round, evals, obj, feval, xgb_model, callbacks)\u001b[0m\n\u001b[1;32m     74\u001b[0m         \u001b[0;31m# Skip the first update if it is a recovery step.\u001b[0m\u001b[0;34m\u001b[0m\u001b[0;34m\u001b[0m\u001b[0m\n\u001b[1;32m     75\u001b[0m         \u001b[0;32mif\u001b[0m \u001b[0mversion\u001b[0m \u001b[0;34m%\u001b[0m \u001b[0;36m2\u001b[0m \u001b[0;34m==\u001b[0m \u001b[0;36m0\u001b[0m\u001b[0;34m:\u001b[0m\u001b[0;34m\u001b[0m\u001b[0m\n\u001b[0;32m---> 76\u001b[0;31m             \u001b[0mbst\u001b[0m\u001b[0;34m.\u001b[0m\u001b[0mupdate\u001b[0m\u001b[0;34m(\u001b[0m\u001b[0mdtrain\u001b[0m\u001b[0;34m,\u001b[0m \u001b[0mi\u001b[0m\u001b[0;34m,\u001b[0m \u001b[0mobj\u001b[0m\u001b[0;34m)\u001b[0m\u001b[0;34m\u001b[0m\u001b[0m\n\u001b[0m\u001b[1;32m     77\u001b[0m             \u001b[0mbst\u001b[0m\u001b[0;34m.\u001b[0m\u001b[0msave_rabit_checkpoint\u001b[0m\u001b[0;34m(\u001b[0m\u001b[0;34m)\u001b[0m\u001b[0;34m\u001b[0m\u001b[0m\n\u001b[1;32m     78\u001b[0m             \u001b[0mversion\u001b[0m \u001b[0;34m+=\u001b[0m \u001b[0;36m1\u001b[0m\u001b[0;34m\u001b[0m\u001b[0m\n",
      "\u001b[0;32m/anaconda/lib/python3.6/site-packages/xgboost/core.py\u001b[0m in \u001b[0;36mupdate\u001b[0;34m(self, dtrain, iteration, fobj)\u001b[0m\n\u001b[1;32m    804\u001b[0m \u001b[0;34m\u001b[0m\u001b[0m\n\u001b[1;32m    805\u001b[0m         \u001b[0;32mif\u001b[0m \u001b[0mfobj\u001b[0m \u001b[0;32mis\u001b[0m \u001b[0;32mNone\u001b[0m\u001b[0;34m:\u001b[0m\u001b[0;34m\u001b[0m\u001b[0m\n\u001b[0;32m--> 806\u001b[0;31m             \u001b[0m_check_call\u001b[0m\u001b[0;34m(\u001b[0m\u001b[0m_LIB\u001b[0m\u001b[0;34m.\u001b[0m\u001b[0mXGBoosterUpdateOneIter\u001b[0m\u001b[0;34m(\u001b[0m\u001b[0mself\u001b[0m\u001b[0;34m.\u001b[0m\u001b[0mhandle\u001b[0m\u001b[0;34m,\u001b[0m \u001b[0miteration\u001b[0m\u001b[0;34m,\u001b[0m \u001b[0mdtrain\u001b[0m\u001b[0;34m.\u001b[0m\u001b[0mhandle\u001b[0m\u001b[0;34m)\u001b[0m\u001b[0;34m)\u001b[0m\u001b[0;34m\u001b[0m\u001b[0m\n\u001b[0m\u001b[1;32m    807\u001b[0m         \u001b[0;32melse\u001b[0m\u001b[0;34m:\u001b[0m\u001b[0;34m\u001b[0m\u001b[0m\n\u001b[1;32m    808\u001b[0m             \u001b[0mpred\u001b[0m \u001b[0;34m=\u001b[0m \u001b[0mself\u001b[0m\u001b[0;34m.\u001b[0m\u001b[0mpredict\u001b[0m\u001b[0;34m(\u001b[0m\u001b[0mdtrain\u001b[0m\u001b[0;34m)\u001b[0m\u001b[0;34m\u001b[0m\u001b[0m\n",
      "\u001b[0;31mKeyboardInterrupt\u001b[0m: "
     ]
    }
   ],
   "source": [
    "xgb_model1_set_1_lag_2_seasonal = xgboost.train(param_set_1_lag_2_seasonal , xg_train,early_stopping_rounds=10,evals = [(xg_train , \"train_set\"),(xg_val,\"validation_set\")] ,num_boost_round=1000)"
   ]
  },
  {
   "cell_type": "code",
   "execution_count": 60,
   "metadata": {},
   "outputs": [],
   "source": [
    "import pickle"
   ]
  },
  {
   "cell_type": "code",
   "execution_count": 61,
   "metadata": {},
   "outputs": [
    {
     "ename": "NameError",
     "evalue": "name 'xgb_model1_set_1_lag_2_seasonal' is not defined",
     "output_type": "error",
     "traceback": [
      "\u001b[0;31m---------------------------------------------------------------------------\u001b[0m",
      "\u001b[0;31mNameError\u001b[0m                                 Traceback (most recent call last)",
      "\u001b[0;32m<ipython-input-61-e4d195b96bf4>\u001b[0m in \u001b[0;36m<module>\u001b[0;34m()\u001b[0m\n\u001b[0;32m----> 1\u001b[0;31m \u001b[0mpickle\u001b[0m\u001b[0;34m.\u001b[0m\u001b[0mdump\u001b[0m\u001b[0;34m(\u001b[0m\u001b[0mxgb_model1_set_1_lag_2_seasonal\u001b[0m\u001b[0;34m,\u001b[0m\u001b[0mopen\u001b[0m\u001b[0;34m(\u001b[0m\u001b[0;34m\"xgb_model1_set_1_lag_2_seasonal.pickle.dat\"\u001b[0m\u001b[0;34m,\u001b[0m \u001b[0;34m\"wb\"\u001b[0m\u001b[0;34m)\u001b[0m\u001b[0;34m)\u001b[0m\u001b[0;34m\u001b[0m\u001b[0m\n\u001b[0m",
      "\u001b[0;31mNameError\u001b[0m: name 'xgb_model1_set_1_lag_2_seasonal' is not defined"
     ]
    }
   ],
   "source": [
    "pickle.dump(xgb_model1_set_1_lag_2_seasonal,open(\"xgb_model1_set_1_lag_2_seasonal.pickle.dat\", \"wb\"))"
   ]
  },
  {
   "cell_type": "code",
   "execution_count": 62,
   "metadata": {},
   "outputs": [],
   "source": [
    "xgb_model1_set_1_lag_2_seasonal = pickle.load(open(\"xgb_model1_set_1_lag_2_seasonal.pickle.dat\", \"rb\"))"
   ]
  },
  {
   "cell_type": "code",
   "execution_count": 3,
   "metadata": {},
   "outputs": [
    {
     "ename": "NameError",
     "evalue": "name 'xgb_model1_set_1_lag_2_seasonal' is not defined",
     "output_type": "error",
     "traceback": [
      "\u001b[0;31m---------------------------------------------------------------------------\u001b[0m",
      "\u001b[0;31mNameError\u001b[0m                                 Traceback (most recent call last)",
      "\u001b[0;32m<ipython-input-3-e78bc904c981>\u001b[0m in \u001b[0;36m<module>\u001b[0;34m()\u001b[0m\n\u001b[0;32m----> 1\u001b[0;31m \u001b[0mpred_xgb_val_1_lag_2_seasonal\u001b[0m \u001b[0;34m=\u001b[0m \u001b[0mxgb_model1_set_1_lag_2_seasonal\u001b[0m\u001b[0;34m.\u001b[0m\u001b[0mpredict\u001b[0m\u001b[0;34m(\u001b[0m\u001b[0mxgboost\u001b[0m\u001b[0;34m.\u001b[0m\u001b[0mDMatrix\u001b[0m\u001b[0;34m(\u001b[0m\u001b[0mdropped_val_lag1_lag2_season\u001b[0m\u001b[0;34m)\u001b[0m\u001b[0;34m,\u001b[0m \u001b[0mntree_limit\u001b[0m\u001b[0;34m=\u001b[0m\u001b[0mxgb_model1_set_1_lag_2_seasonal\u001b[0m\u001b[0;34m.\u001b[0m\u001b[0mbest_ntree_limit\u001b[0m\u001b[0;34m)\u001b[0m\u001b[0;34m\u001b[0m\u001b[0m\n\u001b[0m",
      "\u001b[0;31mNameError\u001b[0m: name 'xgb_model1_set_1_lag_2_seasonal' is not defined"
     ]
    }
   ],
   "source": [
    "pred_xgb_val_1_lag_2_seasonal = xgb_model1_set_1_lag_2_seasonal.predict(xgboost.DMatrix(dropped_val_lag1_lag2_season), ntree_limit=xgb_model1_set_1_lag_2_seasonal.best_ntree_limit)"
   ]
  },
  {
   "cell_type": "code",
   "execution_count": null,
   "metadata": {},
   "outputs": [],
   "source": [
    "rmse(pred_xgb_val_1_lag_2_seasonal, val_lag1_lag2_season['item_cnt_month'])"
   ]
  },
  {
   "cell_type": "code",
   "execution_count": null,
   "metadata": {},
   "outputs": [],
   "source": [
    "monitoring_data"
   ]
  },
  {
   "cell_type": "code",
   "execution_count": null,
   "metadata": {},
   "outputs": [],
   "source": [
    "compute_trimmed_rmse(pred_val.copy(), val_lag1_lag2_season['item_cnt_month'].copy())"
   ]
  },
  {
   "cell_type": "code",
   "execution_count": null,
   "metadata": {},
   "outputs": [],
   "source": [
    "train_full.head()"
   ]
  },
  {
   "cell_type": "code",
   "execution_count": null,
   "metadata": {},
   "outputs": [],
   "source": [
    "#Saving train data.\n",
    "train_full4.to_csv('train_full_lag1_lag2_season.csv')"
   ]
  },
  {
   "cell_type": "code",
   "execution_count": null,
   "metadata": {},
   "outputs": [],
   "source": [
    "#Not tuning xgb_1_season_lag_2 but ensembling with linear model.\n",
    "for_lr = train_lag1_lag2_season.dropna()\n",
    "X = for_lr.drop(['shop_id','item_id','item_category_id','item_cnt_month','unique'], axis = 1)\n",
    "y = for_lr['item_cnt_month']\n",
    "lm_model_set_1_lag_2_seasonal = LinearRegression()\n",
    "lm_model_set_1_lag_2_seasonal.fit(X,y)"
   ]
  },
  {
   "cell_type": "code",
   "execution_count": null,
   "metadata": {},
   "outputs": [],
   "source": [
    "pred_lm_val_1_lag_2_seasonal = lm_model_set_1_lag_2_seasonal.predict(dropped_val_lag1_lag2_season.dropna())"
   ]
  },
  {
   "cell_type": "code",
   "execution_count": null,
   "metadata": {},
   "outputs": [],
   "source": [
    "rmse(pred_lm_val_1_lag_2_seasonal, val_lag1_lag2_season.dropna()['item_cnt_month'])"
   ]
  },
  {
   "cell_type": "code",
   "execution_count": null,
   "metadata": {},
   "outputs": [],
   "source": [
    "compute_trimmed_rmse(pred_lm_val_1_lag_2_seasonal.copy(), val_lag1_lag2_season.dropna()['item_cnt_month'].copy())"
   ]
  },
  {
   "cell_type": "code",
   "execution_count": null,
   "metadata": {},
   "outputs": [],
   "source": [
    "#Ensemble validation error /2\n",
    "print(rmse((pred_lm_val_1_lag_2_seasonal+xgb_model1_set_1_lag_2_seasonal.predict(xgboost.DMatrix(dropped_val_lag1_lag2_season.dropna())))/2, val_lag1_lag2_season.dropna()['item_cnt_month']))\n",
    "print(compute_trimmed_rmse((pred_lm_val_1_lag_2_seasonal+xgb_model1_set_1_lag_2_seasonal.predict(xgboost.DMatrix(dropped_val_lag1_lag2_season.dropna())))/2, val_lag1_lag2_season.dropna()['item_cnt_month'].copy()))"
   ]
  },
  {
   "cell_type": "markdown",
   "metadata": {},
   "source": [
    "### Making test set ready"
   ]
  },
  {
   "cell_type": "code",
   "execution_count": null,
   "metadata": {},
   "outputs": [],
   "source": [
    "#OK, its a bomb. Making same features for test\n",
    "for_test_lag2_item_cat = train_full[train_full['unique'] == 32].groupby('item_category_id')['item_cnt_month'].mean()"
   ]
  },
  {
   "cell_type": "code",
   "execution_count": null,
   "metadata": {},
   "outputs": [],
   "source": [
    "for_test_lag2_item_shop = train_full[train_full['unique'] == 32].groupby(['item_id','shop_id'])['item_cnt_month'].mean()"
   ]
  },
  {
   "cell_type": "code",
   "execution_count": null,
   "metadata": {},
   "outputs": [],
   "source": [
    "for_test_lag2_item_only = train_full[train_full['unique'] == 32].groupby(['item_id'])['item_cnt_month'].mean()"
   ]
  },
  {
   "cell_type": "code",
   "execution_count": null,
   "metadata": {},
   "outputs": [],
   "source": [
    "for_test_lag2_item_cat = for_test_lag2_item_cat.reset_index()"
   ]
  },
  {
   "cell_type": "code",
   "execution_count": null,
   "metadata": {},
   "outputs": [],
   "source": [
    "for_test_lag2_item_shop = for_test_lag2_item_shop.reset_index()"
   ]
  },
  {
   "cell_type": "code",
   "execution_count": null,
   "metadata": {},
   "outputs": [],
   "source": [
    "for_test_lag2_item_only = for_test_lag2_item_only.reset_index()"
   ]
  },
  {
   "cell_type": "code",
   "execution_count": null,
   "metadata": {},
   "outputs": [],
   "source": [
    "test_full2 = test_full.merge(for_test_lag2_item_cat, how = 'left', on = ['item_category_id'])"
   ]
  },
  {
   "cell_type": "code",
   "execution_count": null,
   "metadata": {},
   "outputs": [],
   "source": [
    "test_full2.rename(columns = {'item_cnt_month':'lag2_only_item_cat'}, inplace=True)"
   ]
  },
  {
   "cell_type": "code",
   "execution_count": null,
   "metadata": {},
   "outputs": [],
   "source": [
    "test_full3 = test_full2.merge(for_test_lag2_item_only , how = 'left', on = ['item_id'])"
   ]
  },
  {
   "cell_type": "code",
   "execution_count": null,
   "metadata": {},
   "outputs": [],
   "source": [
    "test_full3.rename(columns = {'item_cnt_month':'lag2_only_item'}, inplace=True)"
   ]
  },
  {
   "cell_type": "code",
   "execution_count": null,
   "metadata": {},
   "outputs": [],
   "source": [
    "test_full4 = test_full3.merge(for_test_lag2_item_shop, how = 'left', on = ['item_id','shop_id'])\n",
    "#Hey you can make, item_cat, shop_id also. Try that"
   ]
  },
  {
   "cell_type": "code",
   "execution_count": null,
   "metadata": {},
   "outputs": [],
   "source": [
    "test_full4.rename(columns = {'item_cnt_month':'lag2_shop_item_comb'}, inplace=True)"
   ]
  },
  {
   "cell_type": "code",
   "execution_count": null,
   "metadata": {},
   "outputs": [],
   "source": [
    "test_full4['seasonal_freq_3_feature'] = -0.04751237 #What a waste. Is it so??"
   ]
  },
  {
   "cell_type": "code",
   "execution_count": null,
   "metadata": {},
   "outputs": [],
   "source": [
    "#Saving test set for future prediction\n",
    "test_full4.to_csv('test_full_lag1_lag2_seasonal.csv')"
   ]
  },
  {
   "cell_type": "code",
   "execution_count": 56,
   "metadata": {},
   "outputs": [],
   "source": [
    "test_full4 = pd.read_csv('test_full_lag1_lag2_seasonal.csv')"
   ]
  },
  {
   "cell_type": "code",
   "execution_count": 57,
   "metadata": {},
   "outputs": [],
   "source": [
    "test_set_for_prediction = test_full4.drop(['ID','shop_id','item_category_id','indicator','item_id'], axis = 1)"
   ]
  },
  {
   "cell_type": "code",
   "execution_count": 58,
   "metadata": {},
   "outputs": [],
   "source": [
    "test_set_for_prediction['is_music'] = test_set_for_prediction['is_music'].astype(float)"
   ]
  },
  {
   "cell_type": "code",
   "execution_count": 64,
   "metadata": {},
   "outputs": [],
   "source": [
    "features = xgb_model1_set_1_lag_2_seasonal.feature_names\n",
    "test_set_for_prediction = test_set_for_prediction[features]"
   ]
  },
  {
   "cell_type": "markdown",
   "metadata": {},
   "source": [
    "### Predicting on test"
   ]
  },
  {
   "cell_type": "code",
   "execution_count": 65,
   "metadata": {},
   "outputs": [],
   "source": [
    "predo = xgb_model1_set_1_lag_2_seasonal.predict(xgboost.DMatrix(test_set_for_prediction))"
   ]
  },
  {
   "cell_type": "code",
   "execution_count": 66,
   "metadata": {},
   "outputs": [],
   "source": [
    "submit = pd.DataFrame([test_full['ID'], predo]).T"
   ]
  },
  {
   "cell_type": "code",
   "execution_count": 67,
   "metadata": {},
   "outputs": [],
   "source": [
    "submit['ID'] = submit['ID'].astype(int)\n",
    "submit.rename(columns={'Unnamed 0': 'item_cnt_month'}, inplace=True)"
   ]
  },
  {
   "cell_type": "code",
   "execution_count": 68,
   "metadata": {},
   "outputs": [],
   "source": [
    "submit.loc[submit['item_cnt_month'] >= 20, 'item_cnt_month'] = 20\n",
    "submit.loc[submit['item_cnt_month'] <= 0, 'item_cnt_month'] = 0"
   ]
  },
  {
   "cell_type": "code",
   "execution_count": null,
   "metadata": {},
   "outputs": [],
   "source": [
    "submit.to_csv('sep_4.csv',index=False)"
   ]
  },
  {
   "cell_type": "code",
   "execution_count": 69,
   "metadata": {},
   "outputs": [],
   "source": [
    "test_set_for_prediction_no_na = test_set_for_prediction.dropna()"
   ]
  },
  {
   "cell_type": "code",
   "execution_count": 70,
   "metadata": {},
   "outputs": [],
   "source": [
    "test_set_for_prediction_only_na = test_set_for_prediction[test_set_for_prediction.isnull().any(axis = 1)]"
   ]
  },
  {
   "cell_type": "code",
   "execution_count": 71,
   "metadata": {},
   "outputs": [
    {
     "ename": "NameError",
     "evalue": "name 'pred_xgb_val_1_lag_2_seasonal' is not defined",
     "output_type": "error",
     "traceback": [
      "\u001b[0;31m---------------------------------------------------------------------------\u001b[0m",
      "\u001b[0;31mNameError\u001b[0m                                 Traceback (most recent call last)",
      "\u001b[0;32m<ipython-input-71-ff84169a4493>\u001b[0m in \u001b[0;36m<module>\u001b[0;34m()\u001b[0m\n\u001b[1;32m      2\u001b[0m \u001b[0malphas\u001b[0m \u001b[0;34m=\u001b[0m \u001b[0mnp\u001b[0m\u001b[0;34m.\u001b[0m\u001b[0marange\u001b[0m\u001b[0;34m(\u001b[0m\u001b[0;36m0\u001b[0m\u001b[0;34m,\u001b[0m\u001b[0;36m1\u001b[0m\u001b[0;34m,\u001b[0m\u001b[0;36m0.001\u001b[0m\u001b[0;34m)\u001b[0m\u001b[0;34m\u001b[0m\u001b[0m\n\u001b[1;32m      3\u001b[0m \u001b[0mbest_alpha\u001b[0m \u001b[0;34m=\u001b[0m \u001b[0;36m0\u001b[0m\u001b[0;34m\u001b[0m\u001b[0m\n\u001b[0;32m----> 4\u001b[0;31m \u001b[0mbest_error\u001b[0m \u001b[0;34m=\u001b[0m \u001b[0mcompute_trimmed_rmse\u001b[0m\u001b[0;34m(\u001b[0m\u001b[0mpred_xgb_val_1_lag_2_seasonal\u001b[0m\u001b[0;34m.\u001b[0m\u001b[0mcopy\u001b[0m\u001b[0;34m(\u001b[0m\u001b[0;34m)\u001b[0m\u001b[0;34m,\u001b[0m\u001b[0mval_lag1_lag2_season\u001b[0m\u001b[0;34m[\u001b[0m\u001b[0;34m'item_cnt_month'\u001b[0m\u001b[0;34m]\u001b[0m\u001b[0;34m.\u001b[0m\u001b[0mcopy\u001b[0m\u001b[0;34m(\u001b[0m\u001b[0;34m)\u001b[0m\u001b[0;34m)\u001b[0m\u001b[0;34m\u001b[0m\u001b[0m\n\u001b[0m\u001b[1;32m      5\u001b[0m \u001b[0;32mfor\u001b[0m \u001b[0malpha\u001b[0m \u001b[0;32min\u001b[0m \u001b[0malphas\u001b[0m\u001b[0;34m:\u001b[0m\u001b[0;34m\u001b[0m\u001b[0m\n\u001b[1;32m      6\u001b[0m     \u001b[0mtemp_pred\u001b[0m \u001b[0;34m=\u001b[0m \u001b[0malpha\u001b[0m\u001b[0;34m*\u001b[0m\u001b[0mpred_lm_val_1_lag_2_seasonal\u001b[0m \u001b[0;34m+\u001b[0m \u001b[0;34m(\u001b[0m\u001b[0;36m1\u001b[0m\u001b[0;34m-\u001b[0m\u001b[0malpha\u001b[0m\u001b[0;34m)\u001b[0m\u001b[0;34m*\u001b[0m\u001b[0mxgb_model1_set_1_lag_2_seasonal\u001b[0m\u001b[0;34m.\u001b[0m\u001b[0mpredict\u001b[0m\u001b[0;34m(\u001b[0m\u001b[0mxgboost\u001b[0m\u001b[0;34m.\u001b[0m\u001b[0mDMatrix\u001b[0m\u001b[0;34m(\u001b[0m\u001b[0mdropped_val_lag1_lag2_season\u001b[0m\u001b[0;34m.\u001b[0m\u001b[0mdropna\u001b[0m\u001b[0;34m(\u001b[0m\u001b[0;34m)\u001b[0m\u001b[0;34m)\u001b[0m\u001b[0;34m)\u001b[0m\u001b[0;34m\u001b[0m\u001b[0m\n",
      "\u001b[0;31mNameError\u001b[0m: name 'pred_xgb_val_1_lag_2_seasonal' is not defined"
     ]
    }
   ],
   "source": [
    "#First finding best alpha for ensembling on val set. alpha*lin + (1-alpha)*xgb\n",
    "alphas = np.arange(0,1,0.001)\n",
    "best_alpha = 0\n",
    "best_error = compute_trimmed_rmse(pred_xgb_val_1_lag_2_seasonal.copy(),val_lag1_lag2_season['item_cnt_month'].copy())\n",
    "for alpha in alphas:\n",
    "    temp_pred = alpha*pred_lm_val_1_lag_2_seasonal + (1-alpha)*xgb_model1_set_1_lag_2_seasonal.predict(xgboost.DMatrix(dropped_val_lag1_lag2_season.dropna()))\n",
    "    temp_error = compute_trimmed_rmse(val_lag1_lag2_season.dropna()['item_cnt_month'].copy(), temp_pred.copy())\n",
    "    if (temp_error < best_error):\n",
    "        best_alpha= alpha\n",
    "        best_error = temp_error"
   ]
  },
  {
   "cell_type": "code",
   "execution_count": 73,
   "metadata": {},
   "outputs": [],
   "source": [
    "train_temp = pd.read_csv('train_full_lag1_lag2_season.csv')"
   ]
  },
  {
   "cell_type": "code",
   "execution_count": 83,
   "metadata": {},
   "outputs": [],
   "source": [
    "train_temp.drop('Unnamed: 0', axis = 1, inplace = True)"
   ]
  },
  {
   "cell_type": "code",
   "execution_count": 84,
   "metadata": {},
   "outputs": [
    {
     "data": {
      "text/plain": [
       "LinearRegression(copy_X=True, fit_intercept=True, n_jobs=1, normalize=False)"
      ]
     },
     "execution_count": 84,
     "metadata": {},
     "output_type": "execute_result"
    }
   ],
   "source": [
    "#Not tuning xgb_1_season_lag_2 but ensembling with linear model.\n",
    "for_lr = train_lag1_lag2_season.dropna()\n",
    "X = for_lr.drop(['shop_id','item_id','item_category_id','item_cnt_month','unique'], axis = 1)\n",
    "y = for_lr['item_cnt_month']\n",
    "lm_model_set_1_lag_2_seasonal = LinearRegression()\n",
    "lm_model_set_1_lag_2_seasonal.fit(X,y)"
   ]
  },
  {
   "cell_type": "code",
   "execution_count": 85,
   "metadata": {},
   "outputs": [
    {
     "data": {
      "text/plain": [
       "Index(['item_price', 'is_music', 'lag_shop_item_comb', 'lag_only_item',\n",
       "       'lag_only_item_cat', 'lag2_only_item_cat', 'lag2_shop_item_comb',\n",
       "       'lag2_only_item', 'seasonal_freq_3_feature'],\n",
       "      dtype='object')"
      ]
     },
     "execution_count": 85,
     "metadata": {},
     "output_type": "execute_result"
    }
   ],
   "source": [
    "X.columns"
   ]
  },
  {
   "cell_type": "code",
   "execution_count": 86,
   "metadata": {},
   "outputs": [
    {
     "data": {
      "text/plain": [
       "9"
      ]
     },
     "execution_count": 86,
     "metadata": {},
     "output_type": "execute_result"
    }
   ],
   "source": [
    "len(test_set_for_prediction_no_na.columns)"
   ]
  },
  {
   "cell_type": "code",
   "execution_count": 87,
   "metadata": {},
   "outputs": [],
   "source": [
    "#Predicting for no NA features(ensembles)\n",
    "features = dropped_train_lag1_lag2_season.columns.values\n",
    "test_set_for_prediction_no_na = test_set_for_prediction_no_na[features]\n",
    "test_set_for_prediction_only_na = test_set_for_prediction_only_na[features]\n",
    "xgb_predict_test = xgb_model1_set_1_lag_2_seasonal.predict(xgboost.DMatrix(test_set_for_prediction_no_na))\n",
    "lm_predict_test = lm_model_set_1_lag_2_seasonal.predict(test_set_for_prediction_no_na)\n",
    "pred_test_xgb_lin_0092_lag2_season = 0.092*lm_predict_test + (1-0.092)*xgb_predict_test"
   ]
  },
  {
   "cell_type": "code",
   "execution_count": 88,
   "metadata": {},
   "outputs": [
    {
     "data": {
      "text/plain": [
       "0"
      ]
     },
     "execution_count": 88,
     "metadata": {},
     "output_type": "execute_result"
    }
   ],
   "source": [
    "sum(test_full.index.values != test_full['ID'])"
   ]
  },
  {
   "cell_type": "code",
   "execution_count": 89,
   "metadata": {},
   "outputs": [],
   "source": [
    "#Predicting for only NA features xgb.\n",
    "pred_test_xgb_lin_0092_lag2_season_2 = xgb_model1_set_1_lag_2_seasonal.predict(xgboost.DMatrix(test_set_for_prediction_only_na))"
   ]
  },
  {
   "cell_type": "code",
   "execution_count": 90,
   "metadata": {},
   "outputs": [],
   "source": [
    "index_no_na = pd.concat([pd.DataFrame(test_set_for_prediction_no_na.index.values),pd.DataFrame(pred_test_xgb_lin_0092_lag2_season)], axis = 1)"
   ]
  },
  {
   "cell_type": "code",
   "execution_count": 91,
   "metadata": {},
   "outputs": [],
   "source": [
    "index_no_na.columns = ['index','item_cnt_month']"
   ]
  },
  {
   "cell_type": "code",
   "execution_count": 92,
   "metadata": {},
   "outputs": [],
   "source": [
    "index_only_na = pd.concat([pd.DataFrame(test_set_for_prediction_only_na.index.values),pd.DataFrame(pred_test_xgb_lin_0092_lag2_season_2)], axis = 1)"
   ]
  },
  {
   "cell_type": "code",
   "execution_count": 93,
   "metadata": {},
   "outputs": [],
   "source": [
    "index_only_na.columns = ['index','item_cnt_month']"
   ]
  },
  {
   "cell_type": "code",
   "execution_count": 96,
   "metadata": {},
   "outputs": [
    {
     "data": {
      "text/plain": [
       "item_price                 102796\n",
       "is_music                    15246\n",
       "lag_shop_item_comb         185520\n",
       "lag_only_item               46578\n",
       "lag_only_item_cat           15246\n",
       "lag2_only_item_cat          15246\n",
       "lag2_shop_item_comb        187713\n",
       "lag2_only_item              61614\n",
       "seasonal_freq_3_feature         0\n",
       "dtype: int64"
      ]
     },
     "execution_count": 96,
     "metadata": {},
     "output_type": "execute_result"
    }
   ],
   "source": [
    "np.sum(pd.isnull(test_set_for_prediction),axis = 0)"
   ]
  },
  {
   "cell_type": "markdown",
   "metadata": {},
   "source": [
    "## index_no_na.shape"
   ]
  },
  {
   "cell_type": "code",
   "execution_count": 95,
   "metadata": {},
   "outputs": [
    {
     "data": {
      "text/plain": [
       "(202791, 2)"
      ]
     },
     "execution_count": 95,
     "metadata": {},
     "output_type": "execute_result"
    }
   ],
   "source": [
    "index_only_na.shape"
   ]
  },
  {
   "cell_type": "code",
   "execution_count": 274,
   "metadata": {},
   "outputs": [],
   "source": [
    "index_only_na['item_cnt_month'] = 0"
   ]
  },
  {
   "cell_type": "code",
   "execution_count": 55,
   "metadata": {},
   "outputs": [
    {
     "ename": "NameError",
     "evalue": "name 'index_only_na' is not defined",
     "output_type": "error",
     "traceback": [
      "\u001b[0;31m---------------------------------------------------------------------------\u001b[0m",
      "\u001b[0;31mNameError\u001b[0m                                 Traceback (most recent call last)",
      "\u001b[0;32m<ipython-input-55-341b6e10cdb3>\u001b[0m in \u001b[0;36m<module>\u001b[0;34m()\u001b[0m\n\u001b[0;32m----> 1\u001b[0;31m \u001b[0mindex_only_na\u001b[0m\u001b[0;34m.\u001b[0m\u001b[0mhead\u001b[0m\u001b[0;34m(\u001b[0m\u001b[0;36m10\u001b[0m\u001b[0;34m)\u001b[0m\u001b[0;34m\u001b[0m\u001b[0m\n\u001b[0m",
      "\u001b[0;31mNameError\u001b[0m: name 'index_only_na' is not defined"
     ]
    }
   ],
   "source": [
    "index_only_na.head(10)"
   ]
  },
  {
   "cell_type": "code",
   "execution_count": 276,
   "metadata": {},
   "outputs": [],
   "source": [
    "index_only_na.columns = ['index','item_cnt_month']"
   ]
  },
  {
   "cell_type": "code",
   "execution_count": 277,
   "metadata": {},
   "outputs": [],
   "source": [
    "final_pred = pd.concat([index_no_na,index_only_na], axis = 0)"
   ]
  },
  {
   "cell_type": "code",
   "execution_count": 278,
   "metadata": {},
   "outputs": [
    {
     "data": {
      "text/html": [
       "<div>\n",
       "<style>\n",
       "    .dataframe thead tr:only-child th {\n",
       "        text-align: right;\n",
       "    }\n",
       "\n",
       "    .dataframe thead th {\n",
       "        text-align: left;\n",
       "    }\n",
       "\n",
       "    .dataframe tbody tr th {\n",
       "        vertical-align: top;\n",
       "    }\n",
       "</style>\n",
       "<table border=\"1\" class=\"dataframe\">\n",
       "  <thead>\n",
       "    <tr style=\"text-align: right;\">\n",
       "      <th></th>\n",
       "      <th>index</th>\n",
       "      <th>item_cnt_month</th>\n",
       "    </tr>\n",
       "  </thead>\n",
       "  <tbody>\n",
       "    <tr>\n",
       "      <th>0</th>\n",
       "      <td>0</td>\n",
       "      <td>0</td>\n",
       "    </tr>\n",
       "    <tr>\n",
       "      <th>1</th>\n",
       "      <td>1</td>\n",
       "      <td>0</td>\n",
       "    </tr>\n",
       "    <tr>\n",
       "      <th>2</th>\n",
       "      <td>3</td>\n",
       "      <td>0</td>\n",
       "    </tr>\n",
       "    <tr>\n",
       "      <th>3</th>\n",
       "      <td>4</td>\n",
       "      <td>0</td>\n",
       "    </tr>\n",
       "    <tr>\n",
       "      <th>4</th>\n",
       "      <td>7</td>\n",
       "      <td>0</td>\n",
       "    </tr>\n",
       "    <tr>\n",
       "      <th>5</th>\n",
       "      <td>8</td>\n",
       "      <td>0</td>\n",
       "    </tr>\n",
       "    <tr>\n",
       "      <th>6</th>\n",
       "      <td>9</td>\n",
       "      <td>0</td>\n",
       "    </tr>\n",
       "    <tr>\n",
       "      <th>7</th>\n",
       "      <td>11</td>\n",
       "      <td>0</td>\n",
       "    </tr>\n",
       "    <tr>\n",
       "      <th>8</th>\n",
       "      <td>12</td>\n",
       "      <td>0</td>\n",
       "    </tr>\n",
       "    <tr>\n",
       "      <th>9</th>\n",
       "      <td>13</td>\n",
       "      <td>0</td>\n",
       "    </tr>\n",
       "  </tbody>\n",
       "</table>\n",
       "</div>"
      ],
      "text/plain": [
       "   index  item_cnt_month\n",
       "0      0               0\n",
       "1      1               0\n",
       "2      3               0\n",
       "3      4               0\n",
       "4      7               0\n",
       "5      8               0\n",
       "6      9               0\n",
       "7     11               0\n",
       "8     12               0\n",
       "9     13               0"
      ]
     },
     "execution_count": 278,
     "metadata": {},
     "output_type": "execute_result"
    }
   ],
   "source": [
    "index_only_na.head(10)"
   ]
  },
  {
   "cell_type": "code",
   "execution_count": 279,
   "metadata": {},
   "outputs": [
    {
     "data": {
      "text/html": [
       "<div>\n",
       "<style>\n",
       "    .dataframe thead tr:only-child th {\n",
       "        text-align: right;\n",
       "    }\n",
       "\n",
       "    .dataframe thead th {\n",
       "        text-align: left;\n",
       "    }\n",
       "\n",
       "    .dataframe tbody tr th {\n",
       "        vertical-align: top;\n",
       "    }\n",
       "</style>\n",
       "<table border=\"1\" class=\"dataframe\">\n",
       "  <thead>\n",
       "    <tr style=\"text-align: right;\">\n",
       "      <th></th>\n",
       "      <th>index</th>\n",
       "      <th>item_cnt_month</th>\n",
       "    </tr>\n",
       "  </thead>\n",
       "  <tbody>\n",
       "    <tr>\n",
       "      <th>191628</th>\n",
       "      <td>202791</td>\n",
       "      <td>0.0</td>\n",
       "    </tr>\n",
       "  </tbody>\n",
       "</table>\n",
       "</div>"
      ],
      "text/plain": [
       "         index  item_cnt_month\n",
       "191628  202791             0.0"
      ]
     },
     "execution_count": 279,
     "metadata": {},
     "output_type": "execute_result"
    }
   ],
   "source": [
    "final_pred[final_pred['index'] == 202791]"
   ]
  },
  {
   "cell_type": "code",
   "execution_count": 280,
   "metadata": {},
   "outputs": [],
   "source": [
    "final_pred_sorted = final_pred.sort_values(\"index\").copy()"
   ]
  },
  {
   "cell_type": "code",
   "execution_count": 281,
   "metadata": {},
   "outputs": [],
   "source": [
    "final_pred_sorted.index = final_pred_sorted['index']"
   ]
  },
  {
   "cell_type": "code",
   "execution_count": 282,
   "metadata": {},
   "outputs": [],
   "source": [
    "count = 0\n",
    "for i in test_full['ID']:\n",
    "    if i not in final_pred_sorted.index.values:\n",
    "        print(final_pred[final_pred['index'] == i])"
   ]
  },
  {
   "cell_type": "code",
   "execution_count": 283,
   "metadata": {},
   "outputs": [
    {
     "data": {
      "text/plain": [
       "0"
      ]
     },
     "execution_count": 283,
     "metadata": {},
     "output_type": "execute_result"
    }
   ],
   "source": [
    "sum(test_full['ID'].values != final_pred_sorted.index.values)"
   ]
  },
  {
   "cell_type": "code",
   "execution_count": 284,
   "metadata": {},
   "outputs": [],
   "source": [
    "final_pred_sorted.drop('index',axis = 1, inplace = True)"
   ]
  },
  {
   "cell_type": "code",
   "execution_count": 285,
   "metadata": {},
   "outputs": [],
   "source": [
    "for_submit = pd.concat([test_full['ID'],final_pred_sorted], axis = 1)"
   ]
  },
  {
   "cell_type": "code",
   "execution_count": 286,
   "metadata": {},
   "outputs": [
    {
     "data": {
      "text/plain": [
       "0"
      ]
     },
     "execution_count": 286,
     "metadata": {},
     "output_type": "execute_result"
    }
   ],
   "source": [
    "sum(for_submit['ID'].values != for_submit.index.values)"
   ]
  },
  {
   "cell_type": "code",
   "execution_count": 287,
   "metadata": {},
   "outputs": [
    {
     "data": {
      "text/plain": [
       "(214200, 2)"
      ]
     },
     "execution_count": 287,
     "metadata": {},
     "output_type": "execute_result"
    }
   ],
   "source": [
    "for_submit.shape"
   ]
  },
  {
   "cell_type": "code",
   "execution_count": 288,
   "metadata": {},
   "outputs": [],
   "source": [
    "for_submit.loc[for_submit['item_cnt_month']> 20, 'item_cnt_month'] = 20\n",
    "for_submit.loc[for_submit['item_cnt_month']< 0, 'item_cnt_month'] = 0"
   ]
  },
  {
   "cell_type": "code",
   "execution_count": null,
   "metadata": {},
   "outputs": [],
   "source": [
    "for_submit.to_csv('sep5.csv',index = False)"
   ]
  },
  {
   "cell_type": "code",
   "execution_count": null,
   "metadata": {},
   "outputs": [],
   "source": [
    "min(for_submit['item_cnt_month'])"
   ]
  },
  {
   "cell_type": "code",
   "execution_count": null,
   "metadata": {},
   "outputs": [],
   "source": [
    "max(for_submit['item_cnt_month'])"
   ]
  },
  {
   "cell_type": "code",
   "execution_count": null,
   "metadata": {},
   "outputs": [],
   "source": [
    "for_submit_0025 = for_submit.copy()"
   ]
  },
  {
   "cell_type": "code",
   "execution_count": null,
   "metadata": {},
   "outputs": [],
   "source": [
    "for_submit_0025['item_cnt_month'] = for_submit['item_cnt_month'] - 0.025"
   ]
  },
  {
   "cell_type": "code",
   "execution_count": null,
   "metadata": {},
   "outputs": [],
   "source": [
    "for_submit_0025.loc[for_submit_0025['item_cnt_month']<0,'item_cnt_month'] = 0"
   ]
  },
  {
   "cell_type": "code",
   "execution_count": null,
   "metadata": {},
   "outputs": [],
   "source": [
    "min(for_submit_0025['item_cnt_month'])"
   ]
  },
  {
   "cell_type": "code",
   "execution_count": null,
   "metadata": {},
   "outputs": [],
   "source": [
    "max(for_submit_0025['item_cnt_month'])"
   ]
  },
  {
   "cell_type": "code",
   "execution_count": null,
   "metadata": {},
   "outputs": [],
   "source": [
    "for_submit_0025.to_csv('sep5_less_0025.csv',index = False)"
   ]
  },
  {
   "cell_type": "code",
   "execution_count": null,
   "metadata": {},
   "outputs": [],
   "source": [
    "for_submit_0025.shape"
   ]
  },
  {
   "cell_type": "code",
   "execution_count": null,
   "metadata": {},
   "outputs": [],
   "source": [
    "for_submit_005 = for_submit.copy()"
   ]
  },
  {
   "cell_type": "code",
   "execution_count": null,
   "metadata": {},
   "outputs": [],
   "source": [
    "for_submit_005['item_cnt_month'] = for_submit_0025['item_cnt_month'] - 0.025"
   ]
  },
  {
   "cell_type": "code",
   "execution_count": null,
   "metadata": {},
   "outputs": [],
   "source": [
    "for_submit_005.loc[for_submit_005['item_cnt_month']<0,'item_cnt_month'] = 0"
   ]
  },
  {
   "cell_type": "code",
   "execution_count": null,
   "metadata": {},
   "outputs": [],
   "source": [
    "for_submit_005.to_csv('sep5_less_005.csv', index=False)"
   ]
  },
  {
   "cell_type": "code",
   "execution_count": null,
   "metadata": {},
   "outputs": [],
   "source": [
    "for_submit_0075 = for_submit.copy()\n",
    "for_submit_0075['item_cnt_month'] = for_submit_005['item_cnt_month'] - 0.025\n",
    "for_submit_0075.loc[for_submit_0075['item_cnt_month']<0,'item_cnt_month'] = 0"
   ]
  },
  {
   "cell_type": "code",
   "execution_count": null,
   "metadata": {},
   "outputs": [],
   "source": [
    "for_submit_0075.to_csv('sep5_less_0075.csv', index=False)"
   ]
  },
  {
   "cell_type": "code",
   "execution_count": null,
   "metadata": {},
   "outputs": [],
   "source": [
    "for_submit = pd.read_csv('sep5.csv')\n",
    "for_submit_0075 = pd.read_csv('sep5_less_0075.csv')"
   ]
  },
  {
   "cell_type": "code",
   "execution_count": null,
   "metadata": {},
   "outputs": [],
   "source": [
    "for_submit_01 = for_submit.copy()\n",
    "for_submit_01['item_cnt_month'] = for_submit_0075['item_cnt_month'] - 0.025\n",
    "for_submit_01.loc[for_submit_01['item_cnt_month']<0,'item_cnt_month'] = 0"
   ]
  },
  {
   "cell_type": "code",
   "execution_count": null,
   "metadata": {},
   "outputs": [],
   "source": [
    "for_submit_01.to_csv('sep5_less_01.csv', index=False)"
   ]
  },
  {
   "cell_type": "code",
   "execution_count": null,
   "metadata": {},
   "outputs": [],
   "source": [
    "for_submit_02 = for_submit.copy()\n",
    "for_submit_02['item_cnt_month'] = for_submit_01['item_cnt_month'] - 0.1\n",
    "for_submit_02.loc[for_submit_02['item_cnt_month']<0,'item_cnt_month'] = 0"
   ]
  },
  {
   "cell_type": "code",
   "execution_count": null,
   "metadata": {},
   "outputs": [],
   "source": [
    "for_submit_02.to_csv('sep5_less_02.csv', index=False)"
   ]
  },
  {
   "cell_type": "code",
   "execution_count": 290,
   "metadata": {},
   "outputs": [],
   "source": [
    "for_submit = pd.read_csv('sep5.csv')"
   ]
  },
  {
   "cell_type": "code",
   "execution_count": 291,
   "metadata": {},
   "outputs": [],
   "source": [
    "for_submit_0025 = pd.read_csv('sep5_less_0025.csv')"
   ]
  },
  {
   "cell_type": "code",
   "execution_count": 292,
   "metadata": {},
   "outputs": [],
   "source": [
    "for_submit_005 = pd.read_csv('sep5_less_005.csv')"
   ]
  },
  {
   "cell_type": "code",
   "execution_count": 293,
   "metadata": {},
   "outputs": [],
   "source": [
    "for_submit_0075 = pd.read_csv('sep5_less_0075.csv')"
   ]
  },
  {
   "cell_type": "code",
   "execution_count": 294,
   "metadata": {},
   "outputs": [],
   "source": [
    "for_submit_01 = pd.read_csv('sep5_less_01.csv')"
   ]
  },
  {
   "cell_type": "code",
   "execution_count": 295,
   "metadata": {},
   "outputs": [
    {
     "data": {
      "text/html": [
       "<div>\n",
       "<style>\n",
       "    .dataframe thead tr:only-child th {\n",
       "        text-align: right;\n",
       "    }\n",
       "\n",
       "    .dataframe thead th {\n",
       "        text-align: left;\n",
       "    }\n",
       "\n",
       "    .dataframe tbody tr th {\n",
       "        vertical-align: top;\n",
       "    }\n",
       "</style>\n",
       "<table border=\"1\" class=\"dataframe\">\n",
       "  <thead>\n",
       "    <tr style=\"text-align: right;\">\n",
       "      <th></th>\n",
       "      <th>ID</th>\n",
       "      <th>item_cnt_month</th>\n",
       "    </tr>\n",
       "  </thead>\n",
       "  <tbody>\n",
       "    <tr>\n",
       "      <th>0</th>\n",
       "      <td>0</td>\n",
       "      <td>0.000000</td>\n",
       "    </tr>\n",
       "    <tr>\n",
       "      <th>1</th>\n",
       "      <td>1</td>\n",
       "      <td>0.000000</td>\n",
       "    </tr>\n",
       "    <tr>\n",
       "      <th>2</th>\n",
       "      <td>2</td>\n",
       "      <td>1.571729</td>\n",
       "    </tr>\n",
       "    <tr>\n",
       "      <th>3</th>\n",
       "      <td>3</td>\n",
       "      <td>0.000000</td>\n",
       "    </tr>\n",
       "    <tr>\n",
       "      <th>4</th>\n",
       "      <td>4</td>\n",
       "      <td>0.000000</td>\n",
       "    </tr>\n",
       "  </tbody>\n",
       "</table>\n",
       "</div>"
      ],
      "text/plain": [
       "   ID  item_cnt_month\n",
       "0   0        0.000000\n",
       "1   1        0.000000\n",
       "2   2        1.571729\n",
       "3   3        0.000000\n",
       "4   4        0.000000"
      ]
     },
     "execution_count": 295,
     "metadata": {},
     "output_type": "execute_result"
    }
   ],
   "source": [
    "#Submissions made with lag2 and season.\n",
    "for_submit.head()"
   ]
  },
  {
   "cell_type": "code",
   "execution_count": 296,
   "metadata": {},
   "outputs": [
    {
     "data": {
      "text/html": [
       "<div>\n",
       "<style>\n",
       "    .dataframe thead tr:only-child th {\n",
       "        text-align: right;\n",
       "    }\n",
       "\n",
       "    .dataframe thead th {\n",
       "        text-align: left;\n",
       "    }\n",
       "\n",
       "    .dataframe tbody tr th {\n",
       "        vertical-align: top;\n",
       "    }\n",
       "</style>\n",
       "<table border=\"1\" class=\"dataframe\">\n",
       "  <thead>\n",
       "    <tr style=\"text-align: right;\">\n",
       "      <th></th>\n",
       "      <th>ID</th>\n",
       "      <th>item_cnt_month</th>\n",
       "    </tr>\n",
       "  </thead>\n",
       "  <tbody>\n",
       "    <tr>\n",
       "      <th>0</th>\n",
       "      <td>0</td>\n",
       "      <td>0.000000</td>\n",
       "    </tr>\n",
       "    <tr>\n",
       "      <th>1</th>\n",
       "      <td>1</td>\n",
       "      <td>0.000000</td>\n",
       "    </tr>\n",
       "    <tr>\n",
       "      <th>2</th>\n",
       "      <td>2</td>\n",
       "      <td>1.546729</td>\n",
       "    </tr>\n",
       "    <tr>\n",
       "      <th>3</th>\n",
       "      <td>3</td>\n",
       "      <td>0.000000</td>\n",
       "    </tr>\n",
       "    <tr>\n",
       "      <th>4</th>\n",
       "      <td>4</td>\n",
       "      <td>0.000000</td>\n",
       "    </tr>\n",
       "  </tbody>\n",
       "</table>\n",
       "</div>"
      ],
      "text/plain": [
       "   ID  item_cnt_month\n",
       "0   0        0.000000\n",
       "1   1        0.000000\n",
       "2   2        1.546729\n",
       "3   3        0.000000\n",
       "4   4        0.000000"
      ]
     },
     "execution_count": 296,
     "metadata": {},
     "output_type": "execute_result"
    }
   ],
   "source": [
    "for_submit_0025.head()"
   ]
  },
  {
   "cell_type": "code",
   "execution_count": 297,
   "metadata": {},
   "outputs": [
    {
     "data": {
      "text/html": [
       "<div>\n",
       "<style>\n",
       "    .dataframe thead tr:only-child th {\n",
       "        text-align: right;\n",
       "    }\n",
       "\n",
       "    .dataframe thead th {\n",
       "        text-align: left;\n",
       "    }\n",
       "\n",
       "    .dataframe tbody tr th {\n",
       "        vertical-align: top;\n",
       "    }\n",
       "</style>\n",
       "<table border=\"1\" class=\"dataframe\">\n",
       "  <thead>\n",
       "    <tr style=\"text-align: right;\">\n",
       "      <th></th>\n",
       "      <th>ID</th>\n",
       "      <th>item_cnt_month</th>\n",
       "    </tr>\n",
       "  </thead>\n",
       "  <tbody>\n",
       "    <tr>\n",
       "      <th>0</th>\n",
       "      <td>0</td>\n",
       "      <td>0.000000</td>\n",
       "    </tr>\n",
       "    <tr>\n",
       "      <th>1</th>\n",
       "      <td>1</td>\n",
       "      <td>0.000000</td>\n",
       "    </tr>\n",
       "    <tr>\n",
       "      <th>2</th>\n",
       "      <td>2</td>\n",
       "      <td>1.521729</td>\n",
       "    </tr>\n",
       "    <tr>\n",
       "      <th>3</th>\n",
       "      <td>3</td>\n",
       "      <td>0.000000</td>\n",
       "    </tr>\n",
       "    <tr>\n",
       "      <th>4</th>\n",
       "      <td>4</td>\n",
       "      <td>0.000000</td>\n",
       "    </tr>\n",
       "  </tbody>\n",
       "</table>\n",
       "</div>"
      ],
      "text/plain": [
       "   ID  item_cnt_month\n",
       "0   0        0.000000\n",
       "1   1        0.000000\n",
       "2   2        1.521729\n",
       "3   3        0.000000\n",
       "4   4        0.000000"
      ]
     },
     "execution_count": 297,
     "metadata": {},
     "output_type": "execute_result"
    }
   ],
   "source": [
    "for_submit_005.head()"
   ]
  },
  {
   "cell_type": "code",
   "execution_count": 298,
   "metadata": {},
   "outputs": [
    {
     "data": {
      "text/html": [
       "<div>\n",
       "<style>\n",
       "    .dataframe thead tr:only-child th {\n",
       "        text-align: right;\n",
       "    }\n",
       "\n",
       "    .dataframe thead th {\n",
       "        text-align: left;\n",
       "    }\n",
       "\n",
       "    .dataframe tbody tr th {\n",
       "        vertical-align: top;\n",
       "    }\n",
       "</style>\n",
       "<table border=\"1\" class=\"dataframe\">\n",
       "  <thead>\n",
       "    <tr style=\"text-align: right;\">\n",
       "      <th></th>\n",
       "      <th>ID</th>\n",
       "      <th>item_cnt_month</th>\n",
       "    </tr>\n",
       "  </thead>\n",
       "  <tbody>\n",
       "    <tr>\n",
       "      <th>0</th>\n",
       "      <td>0</td>\n",
       "      <td>0.000000</td>\n",
       "    </tr>\n",
       "    <tr>\n",
       "      <th>1</th>\n",
       "      <td>1</td>\n",
       "      <td>0.000000</td>\n",
       "    </tr>\n",
       "    <tr>\n",
       "      <th>2</th>\n",
       "      <td>2</td>\n",
       "      <td>1.496729</td>\n",
       "    </tr>\n",
       "    <tr>\n",
       "      <th>3</th>\n",
       "      <td>3</td>\n",
       "      <td>0.000000</td>\n",
       "    </tr>\n",
       "    <tr>\n",
       "      <th>4</th>\n",
       "      <td>4</td>\n",
       "      <td>0.000000</td>\n",
       "    </tr>\n",
       "  </tbody>\n",
       "</table>\n",
       "</div>"
      ],
      "text/plain": [
       "   ID  item_cnt_month\n",
       "0   0        0.000000\n",
       "1   1        0.000000\n",
       "2   2        1.496729\n",
       "3   3        0.000000\n",
       "4   4        0.000000"
      ]
     },
     "execution_count": 298,
     "metadata": {},
     "output_type": "execute_result"
    }
   ],
   "source": [
    "for_submit_0075.head()"
   ]
  },
  {
   "cell_type": "code",
   "execution_count": 299,
   "metadata": {},
   "outputs": [
    {
     "data": {
      "text/html": [
       "<div>\n",
       "<style>\n",
       "    .dataframe thead tr:only-child th {\n",
       "        text-align: right;\n",
       "    }\n",
       "\n",
       "    .dataframe thead th {\n",
       "        text-align: left;\n",
       "    }\n",
       "\n",
       "    .dataframe tbody tr th {\n",
       "        vertical-align: top;\n",
       "    }\n",
       "</style>\n",
       "<table border=\"1\" class=\"dataframe\">\n",
       "  <thead>\n",
       "    <tr style=\"text-align: right;\">\n",
       "      <th></th>\n",
       "      <th>ID</th>\n",
       "      <th>item_cnt_month</th>\n",
       "    </tr>\n",
       "  </thead>\n",
       "  <tbody>\n",
       "    <tr>\n",
       "      <th>0</th>\n",
       "      <td>0</td>\n",
       "      <td>0.000000</td>\n",
       "    </tr>\n",
       "    <tr>\n",
       "      <th>1</th>\n",
       "      <td>1</td>\n",
       "      <td>0.000000</td>\n",
       "    </tr>\n",
       "    <tr>\n",
       "      <th>2</th>\n",
       "      <td>2</td>\n",
       "      <td>1.471729</td>\n",
       "    </tr>\n",
       "    <tr>\n",
       "      <th>3</th>\n",
       "      <td>3</td>\n",
       "      <td>0.000000</td>\n",
       "    </tr>\n",
       "    <tr>\n",
       "      <th>4</th>\n",
       "      <td>4</td>\n",
       "      <td>0.000000</td>\n",
       "    </tr>\n",
       "  </tbody>\n",
       "</table>\n",
       "</div>"
      ],
      "text/plain": [
       "   ID  item_cnt_month\n",
       "0   0        0.000000\n",
       "1   1        0.000000\n",
       "2   2        1.471729\n",
       "3   3        0.000000\n",
       "4   4        0.000000"
      ]
     },
     "execution_count": 299,
     "metadata": {},
     "output_type": "execute_result"
    }
   ],
   "source": [
    "for_submit_01.head()"
   ]
  }
 ],
 "metadata": {
  "kernelspec": {
   "display_name": "Python [conda root]",
   "language": "python",
   "name": "conda-root-py"
  },
  "language_info": {
   "codemirror_mode": {
    "name": "ipython",
    "version": 3
   },
   "file_extension": ".py",
   "mimetype": "text/x-python",
   "name": "python",
   "nbconvert_exporter": "python",
   "pygments_lexer": "ipython3",
   "version": "3.6.5"
  }
 },
 "nbformat": 4,
 "nbformat_minor": 2
}
