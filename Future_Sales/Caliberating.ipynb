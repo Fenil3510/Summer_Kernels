{
 "cells": [
  {
   "cell_type": "markdown",
   "metadata": {},
   "source": [
    "Caliberating validation set with test accuracy\n",
    "Season_1 , Season_2 lag and Seasonal 3 component are the features"
   ]
  },
  {
   "cell_type": "code",
   "execution_count": 1,
   "metadata": {},
   "outputs": [],
   "source": [
    "%store -r __toolboxforsalesdata"
   ]
  },
  {
   "cell_type": "code",
   "execution_count": 2,
   "metadata": {},
   "outputs": [
    {
     "name": "stderr",
     "output_type": "stream",
     "text": [
      "/anaconda/lib/python3.6/site-packages/sklearn/cross_validation.py:41: DeprecationWarning: This module was deprecated in version 0.18 in favor of the model_selection module into which all the refactored classes and functions are moved. Also note that the interface of the new CV iterators are different from that of this module. This module will be removed in 0.20.\n",
      "  \"This module will be removed in 0.20.\", DeprecationWarning)\n",
      "/anaconda/lib/python3.6/site-packages/sklearn/ensemble/weight_boosting.py:29: DeprecationWarning: numpy.core.umath_tests is an internal NumPy module and should not be imported. It will be removed in a future NumPy release.\n",
      "  from numpy.core.umath_tests import inner1d\n"
     ]
    }
   ],
   "source": [
    "__toolboxforsalesdata"
   ]
  },
  {
   "cell_type": "code",
   "execution_count": 3,
   "metadata": {},
   "outputs": [],
   "source": [
    "import pickle"
   ]
  },
  {
   "cell_type": "code",
   "execution_count": 4,
   "metadata": {},
   "outputs": [],
   "source": [
    "monitoring_data = pd.read_csv('monitoring_data.csv')"
   ]
  },
  {
   "cell_type": "code",
   "execution_count": 5,
   "metadata": {},
   "outputs": [],
   "source": [
    "#xgboost model for this calliberation, linear model yet to be obtained.\n",
    "#Note I am unable to get parameters I set. Must try a diff format.\n",
    "xgboost_caliberation = pickle.load(open(\"xgb_model1_set_1_lag_2_seasonal.pickle.dat\",\"rb\"))"
   ]
  },
  {
   "cell_type": "code",
   "execution_count": 6,
   "metadata": {},
   "outputs": [
    {
     "ename": "NameError",
     "evalue": "name 'train_calib' is not defined",
     "output_type": "error",
     "traceback": [
      "\u001b[0;31m---------------------------------------------------------------------------\u001b[0m",
      "\u001b[0;31mNameError\u001b[0m                                 Traceback (most recent call last)",
      "\u001b[0;32m<ipython-input-6-d298a473f741>\u001b[0m in \u001b[0;36m<module>\u001b[0;34m()\u001b[0m\n\u001b[0;32m----> 1\u001b[0;31m \u001b[0mfor_lr\u001b[0m \u001b[0;34m=\u001b[0m \u001b[0mtrain_calib\u001b[0m\u001b[0;34m.\u001b[0m\u001b[0mdropna\u001b[0m\u001b[0;34m(\u001b[0m\u001b[0;34m)\u001b[0m\u001b[0;34m\u001b[0m\u001b[0m\n\u001b[0m\u001b[1;32m      2\u001b[0m \u001b[0mX\u001b[0m \u001b[0;34m=\u001b[0m \u001b[0mfor_lr\u001b[0m\u001b[0;34m.\u001b[0m\u001b[0mdrop\u001b[0m\u001b[0;34m(\u001b[0m\u001b[0;34m[\u001b[0m\u001b[0;34m'shop_id'\u001b[0m\u001b[0;34m,\u001b[0m\u001b[0;34m'item_id'\u001b[0m\u001b[0;34m,\u001b[0m\u001b[0;34m'item_category_id'\u001b[0m\u001b[0;34m,\u001b[0m\u001b[0;34m'item_cnt_month'\u001b[0m\u001b[0;34m,\u001b[0m\u001b[0;34m'unique'\u001b[0m\u001b[0;34m]\u001b[0m\u001b[0;34m,\u001b[0m \u001b[0maxis\u001b[0m \u001b[0;34m=\u001b[0m \u001b[0;36m1\u001b[0m\u001b[0;34m)\u001b[0m\u001b[0;34m\u001b[0m\u001b[0m\n\u001b[1;32m      3\u001b[0m \u001b[0my\u001b[0m \u001b[0;34m=\u001b[0m \u001b[0mfor_lr\u001b[0m\u001b[0;34m[\u001b[0m\u001b[0;34m'item_cnt_month'\u001b[0m\u001b[0;34m]\u001b[0m\u001b[0;34m\u001b[0m\u001b[0m\n\u001b[1;32m      4\u001b[0m \u001b[0mlm_calliberation\u001b[0m \u001b[0;34m=\u001b[0m \u001b[0mLinearRegression\u001b[0m\u001b[0;34m(\u001b[0m\u001b[0;34m)\u001b[0m\u001b[0;34m\u001b[0m\u001b[0m\n\u001b[1;32m      5\u001b[0m \u001b[0mlm_calliberation\u001b[0m\u001b[0;34m.\u001b[0m\u001b[0mfit\u001b[0m\u001b[0;34m(\u001b[0m\u001b[0mX\u001b[0m\u001b[0;34m,\u001b[0m\u001b[0my\u001b[0m\u001b[0;34m)\u001b[0m\u001b[0;34m\u001b[0m\u001b[0m\n",
      "\u001b[0;31mNameError\u001b[0m: name 'train_calib' is not defined"
     ]
    }
   ],
   "source": [
    "for_lr = train_calib.dropna()\n",
    "X = for_lr.drop(['shop_id','item_id','item_category_id','item_cnt_month','unique'], axis = 1)\n",
    "y = for_lr['item_cnt_month']\n",
    "lm_calliberation = LinearRegression()\n",
    "lm_calliberation.fit(X,y)"
   ]
  },
  {
   "cell_type": "code",
   "execution_count": null,
   "metadata": {},
   "outputs": [],
   "source": [
    "lm_calliberation_prediction = lm_calliberation.predict(final_val_for_calib.drop('item_cnt_month', axis = 1))"
   ]
  },
  {
   "cell_type": "code",
   "execution_count": null,
   "metadata": {},
   "outputs": [],
   "source": [
    "#Best alpha for ensemble being 0.092,- alpha*lin + (1-alpha)*xgb\n",
    "final_val_for_calib = valid_calib.dropna()\n",
    "final_val_for_calib.drop(['shop_id','item_id','item_category_id','unique'], axis = 1, inplace=True)"
   ]
  },
  {
   "cell_type": "code",
   "execution_count": null,
   "metadata": {},
   "outputs": [],
   "source": [
    "xgboost_caliberation_prediction = xgboost_caliberation.predict(xgboost.DMatrix(final_val_for_calib.drop('item_cnt_month', axis = 1)), ntree_limit=211)"
   ]
  },
  {
   "cell_type": "code",
   "execution_count": null,
   "metadata": {},
   "outputs": [],
   "source": [
    "temp = xgboost_caliberation.predict(xg_val, ntree_limit=211)"
   ]
  },
  {
   "cell_type": "code",
   "execution_count": null,
   "metadata": {},
   "outputs": [],
   "source": [
    "pred_call1 = 0.092*lm_calliberation_prediction+(1-0.092)*xgboost_caliberation_prediction\n",
    "rmse_1 = rmse(final_val_for_calib['item_cnt_month'], pred_call1)\n",
    "trim_rmse1 = compute_trimmed_rmse(pred_call1.copy(), final_val_for_calib['item_cnt_month'].copy())"
   ]
  },
  {
   "cell_type": "code",
   "execution_count": null,
   "metadata": {},
   "outputs": [],
   "source": [
    "monitoring_data``"
   ]
  },
  {
   "cell_type": "code",
   "execution_count": null,
   "metadata": {},
   "outputs": [],
   "source": [
    "dropped_val_lag1_lag2_season.dropna().shape"
   ]
  },
  {
   "cell_type": "code",
   "execution_count": null,
   "metadata": {},
   "outputs": [],
   "source": [
    "final_val_for_calib.shape"
   ]
  },
  {
   "cell_type": "code",
   "execution_count": null,
   "metadata": {},
   "outputs": [],
   "source": [
    "len(pd.isnull(dropped_val_lag1_lag2_season))/len(val_lag1_2_season)"
   ]
  },
  {
   "cell_type": "code",
   "execution_count": null,
   "metadata": {},
   "outputs": [],
   "source": [
    "rmse(val_lag1_2_season['item_cnt_month'], temp)"
   ]
  },
  {
   "cell_type": "code",
   "execution_count": null,
   "metadata": {},
   "outputs": [],
   "source": [
    "rmse(final_val_for_calib['item_cnt_month'],xgboost_caliberation_prediction)"
   ]
  },
  {
   "cell_type": "code",
   "execution_count": null,
   "metadata": {},
   "outputs": [],
   "source": [
    "trim_rmse1"
   ]
  },
  {
   "cell_type": "code",
   "execution_count": null,
   "metadata": {},
   "outputs": [],
   "source": [
    "monitoring_data"
   ]
  },
  {
   "cell_type": "code",
   "execution_count": null,
   "metadata": {},
   "outputs": [],
   "source": [
    "monitoring_data['Features'] = 'Lag1'"
   ]
  },
  {
   "cell_type": "code",
   "execution_count": null,
   "metadata": {},
   "outputs": [],
   "source": [
    "to_be_added = ['xg_model_6_01_subsample_1', 'lm_model', 'None', 'None', 'alpha(0.092*lm+0.908*xg)', 'ensemble_lin_xgb_0092', 'ensemble_lin_xgb_0092_lag1_lag2_season','Time_based','subset_of_train_full_lag1_lag2_seasonal', '24.935','2.04778','1.09124','Lag1_Lag2_Seasonal']"
   ]
  },
  {
   "cell_type": "code",
   "execution_count": null,
   "metadata": {},
   "outputs": [],
   "source": [
    "monitoring_data = pd.concat([monitoring_data , pd.DataFrame(np.expand_dims(to_be_added,axis = 0) , columns = monitoring_data.columns)], axis = 0)"
   ]
  },
  {
   "cell_type": "code",
   "execution_count": null,
   "metadata": {},
   "outputs": [],
   "source": [
    "pred_call2 = (0.092*lm_calliberation_prediction+(1-0.092)*xgboost_caliberation_prediction)-0.025\n",
    "pred_call2[pred_call2<0] = 0\n",
    "rmse_2 = rmse(final_val_for_calib['item_cnt_month'], pred_call2)\n",
    "trim_rmse2 = compute_trimmed_rmse(pred_call2.copy(), final_val_for_calib['item_cnt_month'].copy())"
   ]
  },
  {
   "cell_type": "code",
   "execution_count": null,
   "metadata": {},
   "outputs": [],
   "source": []
  },
  {
   "cell_type": "code",
   "execution_count": null,
   "metadata": {},
   "outputs": [],
   "source": [
    "rmse(final_val_for_calib['item_cnt_month'], xgboost_caliberation_prediction)"
   ]
  },
  {
   "cell_type": "code",
   "execution_count": null,
   "metadata": {},
   "outputs": [],
   "source": [
    "trim_rmse2"
   ]
  },
  {
   "cell_type": "code",
   "execution_count": null,
   "metadata": {},
   "outputs": [],
   "source": [
    "to_be_added = ['xg_model_6_01_subsample_1', 'lm_model', 'None', 'None', 'alpha(0.092*lm+0.908*xg)', 'ensemble_lin_xgb_0092_less_0025', 'ensemble_lin_xgb_0092_lag1_lag2_season_less_0025','Time_based','subset_of_train_full_lag1_lag2_seasonal', '24.936','2.050922','1.09067','Lag1_Lag2_Seasonal']"
   ]
  },
  {
   "cell_type": "code",
   "execution_count": null,
   "metadata": {},
   "outputs": [],
   "source": [
    "monitoring_data = pd.concat([monitoring_data , pd.DataFrame(np.expand_dims(to_be_added,axis = 0) , columns = monitoring_data.columns)], axis = 0)"
   ]
  },
  {
   "cell_type": "code",
   "execution_count": null,
   "metadata": {},
   "outputs": [],
   "source": [
    "monitoring_data.to_csv('monitoring_data.csv')"
   ]
  },
  {
   "cell_type": "code",
   "execution_count": null,
   "metadata": {},
   "outputs": [],
   "source": [
    "train_full = pd.read_csv('train_full_lag1_lag2_season.csv')"
   ]
  },
  {
   "cell_type": "code",
   "execution_count": null,
   "metadata": {},
   "outputs": [],
   "source": [
    "initial_sales_data1 = pd.read_csv('sales_train.csv')"
   ]
  },
  {
   "cell_type": "code",
   "execution_count": null,
   "metadata": {},
   "outputs": [],
   "source": [
    "initial_sales_data1.head()"
   ]
  },
  {
   "cell_type": "code",
   "execution_count": null,
   "metadata": {},
   "outputs": [],
   "source": [
    "initial_test = pd.read_csv('test.csv')"
   ]
  },
  {
   "cell_type": "code",
   "execution_count": null,
   "metadata": {},
   "outputs": [],
   "source": [
    "initial_sales_data2 = pd.read_csv('item_categories.csv')"
   ]
  },
  {
   "cell_type": "code",
   "execution_count": null,
   "metadata": {},
   "outputs": [],
   "source": [
    "initial_sales_data3 = pd.read_csv('items.csv')"
   ]
  },
  {
   "cell_type": "code",
   "execution_count": null,
   "metadata": {},
   "outputs": [],
   "source": [
    "initial_sales_data2.head()"
   ]
  },
  {
   "cell_type": "code",
   "execution_count": null,
   "metadata": {},
   "outputs": [],
   "source": [
    "monitoring_data.reset_index(inplace = True)"
   ]
  },
  {
   "cell_type": "code",
   "execution_count": null,
   "metadata": {},
   "outputs": [],
   "source": [
    "fig = plt.figure()\n",
    "ax1 = fig.add_subplot(111)\n",
    "ax1.plot(monitoring_data['Validation_Score_after_clip'], monitoring_data['Public_LB_Score'])\n",
    "plt.show()"
   ]
  },
  {
   "cell_type": "code",
   "execution_count": null,
   "metadata": {},
   "outputs": [],
   "source": [
    "#May be I should tune the xgboost with current data.\n",
    "train_full_lag1_2_season = pd.read_csv('train_full_lag1_lag2_season.csv')"
   ]
  },
  {
   "cell_type": "code",
   "execution_count": null,
   "metadata": {},
   "outputs": [],
   "source": [
    "train_full_lag1_2_season.drop(['Unnamed: 0'], axis = 1, inplace = True)"
   ]
  },
  {
   "cell_type": "code",
   "execution_count": null,
   "metadata": {},
   "outputs": [],
   "source": [
    "monitoring_data"
   ]
  },
  {
   "cell_type": "code",
   "execution_count": null,
   "metadata": {},
   "outputs": [],
   "source": [
    "train_full_lag1_2_season.columns"
   ]
  },
  {
   "cell_type": "code",
   "execution_count": null,
   "metadata": {},
   "outputs": [],
   "source": [
    "train_lag1_2_season, val_lag1_2_season = month_split(train_full_lag1_2_season, 33)"
   ]
  },
  {
   "cell_type": "code",
   "execution_count": null,
   "metadata": {},
   "outputs": [],
   "source": [
    "dropped_train_lag1_lag2_season = train_lag1_2_season.drop(['shop_id','item_id','item_category_id','item_cnt_month','unique'], axis = 1)"
   ]
  },
  {
   "cell_type": "code",
   "execution_count": null,
   "metadata": {},
   "outputs": [],
   "source": [
    "dropped_val_lag1_lag2_season = val_lag1_2_season.drop(['shop_id','item_id','item_category_id','item_cnt_month','unique'], axis = 1)"
   ]
  },
  {
   "cell_type": "code",
   "execution_count": null,
   "metadata": {},
   "outputs": [],
   "source": [
    "len(dropped_train_lag1_lag2_season)"
   ]
  },
  {
   "cell_type": "code",
   "execution_count": null,
   "metadata": {},
   "outputs": [],
   "source": [
    "len(train_full_lag1_2_season['item_cnt_month'])"
   ]
  },
  {
   "cell_type": "code",
   "execution_count": null,
   "metadata": {},
   "outputs": [],
   "source": [
    "#Training with xgboost with default parameters\n",
    "xg_train = xgboost.DMatrix(dropped_train_lag1_lag2_season,label = train_lag1_2_season.copy()['item_cnt_month'])\n",
    "xg_val = xgboost.DMatrix(dropped_val_lag1_lag2_season,label = val_lag1_2_season.copy()['item_cnt_month'])"
   ]
  },
  {
   "cell_type": "code",
   "execution_count": null,
   "metadata": {},
   "outputs": [],
   "source": [
    "param_set_2_lag_2_seasonal = {'max_depth': 1, 'eta': 0.05, 'silent': 1, 'objective': 'reg:linear', 'subsample' : 0.5,'eval_metric': 'rmse'}"
   ]
  },
  {
   "cell_type": "code",
   "execution_count": null,
   "metadata": {},
   "outputs": [],
   "source": [
    "progress_1_05_lag1_lag2_seasonal = {}\n",
    "xg_model_1_05_lag1_lag2_seasonal = xgboost.train(param_set_2_lag_2_seasonal , xg_train,early_stopping_rounds=10,evals = [(xg_train , \"train_set\"),(xg_val,\"validation_set\")], evals_result=progress_1_05_lag1_lag2_seasonal ,num_boost_round=1000)"
   ]
  },
  {
   "cell_type": "code",
   "execution_count": null,
   "metadata": {},
   "outputs": [],
   "source": [
    "param_set_3_lag_2_seasonal = {'max_depth': 3, 'eta': 0.05, 'silent': 1, 'objective': 'reg:linear', 'subsample' : 0.5,'eval_metric': 'rmse'}\n",
    "progress_2_05_lag1_lag2_seasonal = {}\n",
    "xg_model_2_05_lag1_lag2_seasonal = xgboost.train(param_set_3_lag_2_seasonal , xg_train,early_stopping_rounds=10,evals = [(xg_train , \"train_set\"),(xg_val,\"validation_set\")], evals_result=progress_2_05_lag1_lag2_seasonal ,num_boost_round=1000)"
   ]
  },
  {
   "cell_type": "code",
   "execution_count": null,
   "metadata": {},
   "outputs": [],
   "source": [
    "param_set_4_lag_2_seasonal = {'max_depth': 4, 'eta': 0.05, 'silent': 1, 'objective': 'reg:linear', 'subsample' : 0.5,'eval_metric': 'rmse'}\n",
    "progress_3_05_lag1_lag2_seasonal = {}\n",
    "xg_model_3_05_lag1_lag2_seasonal = xgboost.train(param_set_4_lag_2_seasonal , xg_train,early_stopping_rounds=30,evals = [(xg_train , \"train_set\"),(xg_val,\"validation_set\")], evals_result=progress_3_05_lag1_lag2_seasonal ,num_boost_round=1000)"
   ]
  },
  {
   "cell_type": "code",
   "execution_count": null,
   "metadata": {},
   "outputs": [],
   "source": [
    "fig = plt.figure()\n",
    "ax1 = fig.add_subplot(111)\n",
    "ax1.plot(np.arange(xg_model_1_05_lag1_lag2_seasonal.best_ntree_limit), progress_1_05_lag1_lag2_seasonal['validation_set']['rmse'][0:xg_model_1_05_lag1_lag2_seasonal.best_ntree_limit], color = 'blue', label = 'xg_depth1_lr_05_subsamp_0.5')\n",
    "ax1.plot(np.arange(xg_model_2_05_lag1_lag2_seasonal.best_ntree_limit), progress_2_05_lag1_lag2_seasonal['validation_set']['rmse'][0:xg_model_2_05_lag1_lag2_seasonal.best_ntree_limit], color = 'red', label = 'xg_depth2_lr_05_subsamp_0.5')\n",
    "ax1.plot(np.arange(xg_model_3_05_lag1_lag2_seasonal.best_ntree_limit), progress_3_05_lag1_lag2_seasonal['validation_set']['rmse'][0:xg_model_3_05_lag1_lag2_seasonal.best_ntree_limit], color = 'orange', label = 'xg_depth4_lr_05_subsamp_0.5')\n",
    "ax1.plot([0,len(progress_1_05_lag1_lag2_seasonal['validation_set']['rmse'])-1], [14,xgboost_caliberation.best_score], color ='green', label = 'xg_depth6_lr_01_subsamp_1')\n",
    "ax1.legend()\n",
    "plt.show()"
   ]
  },
  {
   "cell_type": "code",
   "execution_count": null,
   "metadata": {},
   "outputs": [],
   "source": [
    "monitoring_data['row_type_val'] = 'na_dropped'\n",
    "monitoring_data['row_type_test'] = 'na_predicted_as_zero'"
   ]
  },
  {
   "cell_type": "code",
   "execution_count": null,
   "metadata": {},
   "outputs": [],
   "source": [
    "xg_model_3_05_lag1_lag2_seasonal.best_score"
   ]
  },
  {
   "cell_type": "code",
   "execution_count": null,
   "metadata": {},
   "outputs": [],
   "source": [
    "xg_model_3_05_lag1_lag2_seasonal.best_ntree_limit"
   ]
  },
  {
   "cell_type": "code",
   "execution_count": null,
   "metadata": {},
   "outputs": [],
   "source": [
    "compute_trimmed_rmse(val_lag1_2_season.copy()['item_cnt_month'],xg_model_3_05_lag1_lag2_seasonal.predict(xg_val, ntree_limit=xg_model_3_05_lag1_lag2_seasonal.best_ntree_limit))"
   ]
  },
  {
   "cell_type": "code",
   "execution_count": null,
   "metadata": {},
   "outputs": [],
   "source": [
    "rmse(val_lag1_2_season.copy()['item_cnt_month'],xg_model_3_05_lag1_lag2_seasonal.predict(xg_val))"
   ]
  },
  {
   "cell_type": "code",
   "execution_count": null,
   "metadata": {},
   "outputs": [],
   "source": [
    "why = xg_model_3_05_lag1_lag2_seasonal.predict(xg_val)"
   ]
  },
  {
   "cell_type": "code",
   "execution_count": null,
   "metadata": {},
   "outputs": [],
   "source": [
    "len(np.unique(why))test"
   ]
  },
  {
   "cell_type": "code",
   "execution_count": null,
   "metadata": {},
   "outputs": [],
   "source": [
    "test_for_submit = pd.read_csv('test_full_lag1_lag2_seasonal.csv')"
   ]
  },
  {
   "cell_type": "code",
   "execution_count": null,
   "metadata": {},
   "outputs": [],
   "source": [
    "test_for_submit.drop(['Unnamed: 0','ID','shop_id','item_id','item_category_id','unique'],axis = 1, inplace = True)"
   ]
  },
  {
   "cell_type": "code",
   "execution_count": null,
   "metadata": {},
   "outputs": [],
   "source": [
    "features = dropped_val_lag1_lag2_season.columns.values"
   ]
  },
  {
   "cell_type": "code",
   "execution_count": null,
   "metadata": {},
   "outputs": [],
   "source": [
    "test_for_submit['is_music'] = test_for_submit['is_music'].astype(float)"
   ]
  },
  {
   "cell_type": "code",
   "execution_count": null,
   "metadata": {},
   "outputs": [],
   "source": [
    "xg_test = xgboost.DMatrix(test_for_submit[features])"
   ]
  },
  {
   "cell_type": "code",
   "execution_count": null,
   "metadata": {},
   "outputs": [],
   "source": [
    "try_submitting = xg_model_3_05_lag1_lag2_seasonal.predict(xg_test)"
   ]
  },
  {
   "cell_type": "code",
   "execution_count": null,
   "metadata": {},
   "outputs": [],
   "source": [
    "len(np.unique(try_submitting))/len(try_submitting)"
   ]
  },
  {
   "cell_type": "code",
   "execution_count": null,
   "metadata": {},
   "outputs": [],
   "source": [
    "max(try_submitting)"
   ]
  },
  {
   "cell_type": "code",
   "execution_count": null,
   "metadata": {},
   "outputs": [],
   "source": [
    "min(try_submitting)"
   ]
  },
  {
   "cell_type": "code",
   "execution_count": null,
   "metadata": {},
   "outputs": [],
   "source": [
    "np.mean(try_submitting)"
   ]
  },
  {
   "cell_type": "code",
   "execution_count": null,
   "metadata": {},
   "outputs": [],
   "source": [
    "test_for_submit.columns"
   ]
  },
  {
   "cell_type": "code",
   "execution_count": null,
   "metadata": {},
   "outputs": [],
   "source": [
    "verify = pd.read_csv('test_full_lag1_lag2_seasonal.csv')"
   ]
  },
  {
   "cell_type": "code",
   "execution_count": null,
   "metadata": {},
   "outputs": [],
   "source": [
    "count = 0\n",
    "for i in test_unique_item_id:\n",
    "    if i not in train_unique_item_id:\n",
    "        count+=1\n",
    "print(count)"
   ]
  },
  {
   "cell_type": "code",
   "execution_count": null,
   "metadata": {},
   "outputs": [],
   "source": [
    "count = 0\n",
    "for i in test_unique_shop_id:\n",
    "    if i not in train_unique_shop_id:\n",
    "        count+=1\n",
    "print(count)"
   ]
  },
  {
   "cell_type": "code",
   "execution_count": null,
   "metadata": {},
   "outputs": [],
   "source": [
    "train_unique_item_id = np.unique(np.unique(train_full_lag1_2_season['item_id']))"
   ]
  },
  {
   "cell_type": "code",
   "execution_count": null,
   "metadata": {},
   "outputs": [],
   "source": [
    "test_unique_item_id = np.unique(np.unique(verify['item_id']))"
   ]
  },
  {
   "cell_type": "code",
   "execution_count": null,
   "metadata": {},
   "outputs": [],
   "source": [
    "train_unique_shop_id = np.unique(np.unique(train_full_lag1_2_season['shop_id']))"
   ]
  },
  {
   "cell_type": "code",
   "execution_count": null,
   "metadata": {},
   "outputs": [],
   "source": [
    "test_unique_shop_id = np.unique(np.unique(verify['shop_id']))"
   ]
  },
  {
   "cell_type": "code",
   "execution_count": null,
   "metadata": {},
   "outputs": [],
   "source": [
    "len(train_unique_item_id)"
   ]
  },
  {
   "cell_type": "code",
   "execution_count": null,
   "metadata": {},
   "outputs": [],
   "source": [
    "len(test_unique_item_id)"
   ]
  },
  {
   "cell_type": "code",
   "execution_count": null,
   "metadata": {},
   "outputs": [],
   "source": [
    "sum(pd.isnull(test_for_submit[features]['item_price']))"
   ]
  },
  {
   "cell_type": "code",
   "execution_count": null,
   "metadata": {},
   "outputs": [],
   "source": [
    "test_for_submit[test_for_submit[\"indicator\"]==0]"
   ]
  },
  {
   "cell_type": "code",
   "execution_count": null,
   "metadata": {},
   "outputs": [],
   "source": [
    "submit = pd.DataFrame([verify['ID'], try_submitting]).T"
   ]
  },
  {
   "cell_type": "code",
   "execution_count": null,
   "metadata": {},
   "outputs": [],
   "source": [
    "submit['ID'] = submit['ID'].astype(int)\n",
    "submit.rename(columns={'Unnamed 0': 'item_cnt_month'}, inplace=True)"
   ]
  },
  {
   "cell_type": "code",
   "execution_count": null,
   "metadata": {},
   "outputs": [],
   "source": [
    "submit.loc[submit['item_cnt_month'] >= 20, 'item_cnt_month'] = 20\n",
    "submit.loc[submit['item_cnt_month'] <= 0, 'item_cnt_month'] = 0"
   ]
  },
  {
   "cell_type": "code",
   "execution_count": null,
   "metadata": {},
   "outputs": [],
   "source": [
    "submit.to_csv('take_care.csv',index=False)"
   ]
  },
  {
   "cell_type": "code",
   "execution_count": null,
   "metadata": {},
   "outputs": [],
   "source": [
    "sum(submit['item_cnt_month'] == 20)"
   ]
  },
  {
   "cell_type": "code",
   "execution_count": null,
   "metadata": {},
   "outputs": [],
   "source": [
    "ax1.d"
   ]
  },
  {
   "cell_type": "code",
   "execution_count": null,
   "metadata": {},
   "outputs": [],
   "source": [
    "fig1 = plt.figure()\n",
    "ax2 = fig1.add_subplot(111)\n",
    "sns.distplot(submit['item_cnt_month'].values, ax = ax2)\n",
    "plt.show()"
   ]
  },
  {
   "cell_type": "code",
   "execution_count": null,
   "metadata": {},
   "outputs": [],
   "source": [
    "dist_comp = pd.read_csv('ensemble_lin_xgb_0092_lag1_lag2_season.csv')"
   ]
  },
  {
   "cell_type": "code",
   "execution_count": null,
   "metadata": {},
   "outputs": [],
   "source": [
    "fig2 = plt.figure(figsize=(5,5))\n",
    "ax3 = fig2.add_subplot(111)\n",
    "sns.distplot(dist_comp['item_cnt_month'].values, ax = ax3)\n",
    "plt.show()"
   ]
  },
  {
   "cell_type": "code",
   "execution_count": null,
   "metadata": {},
   "outputs": [],
   "source": [
    "xg_model_3_05_lag1_lag2_seasonal.best_score"
   ]
  },
  {
   "cell_type": "code",
   "execution_count": null,
   "metadata": {},
   "outputs": [],
   "source": [
    "to_be_added = ['xg_model_4_05_subsample_05', 'None', 'None', 'None', 'None', 'xgb_pred', 'xgb_lag1_lag2_season','Time_based','subset_of_train_full_lag1_lag2_seasonal', '12.5504','2.1850','3.59936','Lag1_Lag2_Seasonal','na_kept_as_is','all_predict_with_xg']"
   ]
  },
  {
   "cell_type": "code",
   "execution_count": null,
   "metadata": {},
   "outputs": [],
   "source": [
    "monitoring_data = pd.concat([monitoring_data , pd.DataFrame(np.expand_dims(to_be_added,axis = 0) , columns = monitoring_data.columns)], axis = 0)"
   ]
  },
  {
   "cell_type": "code",
   "execution_count": null,
   "metadata": {},
   "outputs": [],
   "source": [
    "monitoring_data.drop('index',axis = 1 , inplace=True)"
   ]
  },
  {
   "cell_type": "code",
   "execution_count": null,
   "metadata": {},
   "outputs": [],
   "source": [
    "monitoring_data.reset_index(inplace=True)"
   ]
  },
  {
   "cell_type": "code",
   "execution_count": null,
   "metadata": {},
   "outputs": [],
   "source": [
    "monitoring_data['Test_Prediction_Name'][5] = 'only_xgb_lag1_lag2_season'"
   ]
  },
  {
   "cell_type": "code",
   "execution_count": null,
   "metadata": {},
   "outputs": [],
   "source": [
    "monitoring_data"
   ]
  },
  {
   "cell_type": "code",
   "execution_count": null,
   "metadata": {},
   "outputs": [],
   "source": [
    "submit.to_csv('only_xgb_lag1_lag2_season.csv',index=False)"
   ]
  },
  {
   "cell_type": "code",
   "execution_count": null,
   "metadata": {},
   "outputs": [],
   "source": [
    "??plt.plot"
   ]
  },
  {
   "cell_type": "code",
   "execution_count": null,
   "metadata": {},
   "outputs": [],
   "source": [
    "monitoring_data"
   ]
  },
  {
   "cell_type": "code",
   "execution_count": null,
   "metadata": {},
   "outputs": [],
   "source": []
  }
 ],
 "metadata": {
  "kernelspec": {
   "display_name": "Python [conda root]",
   "language": "python",
   "name": "conda-root-py"
  },
  "language_info": {
   "codemirror_mode": {
    "name": "ipython",
    "version": 3
   },
   "file_extension": ".py",
   "mimetype": "text/x-python",
   "name": "python",
   "nbconvert_exporter": "python",
   "pygments_lexer": "ipython3",
   "version": "3.6.5"
  }
 },
 "nbformat": 4,
 "nbformat_minor": 2
}
