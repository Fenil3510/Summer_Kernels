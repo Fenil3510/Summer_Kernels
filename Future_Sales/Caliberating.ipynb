{
 "cells": [
  {
   "cell_type": "markdown",
   "metadata": {},
   "source": [
    "Caliberating validation set with test accuracy\n",
    "Season_1 , Season_2 lag and Seasonal 3 component are the features"
   ]
  },
  {
   "cell_type": "code",
   "execution_count": 177,
   "metadata": {},
   "outputs": [],
   "source": [
    "%store -r __toolboxforsalesdata"
   ]
  },
  {
   "cell_type": "code",
   "execution_count": 178,
   "metadata": {},
   "outputs": [
    {
     "name": "stdout",
     "output_type": "stream",
     "text": [
      "The rpy2.ipython extension is already loaded. To reload it, use:\n",
      "  %reload_ext rpy2.ipython\n"
     ]
    }
   ],
   "source": [
    "__toolboxforsalesdata"
   ]
  },
  {
   "cell_type": "code",
   "execution_count": 179,
   "metadata": {},
   "outputs": [],
   "source": [
    "import pickle"
   ]
  },
  {
   "cell_type": "code",
   "execution_count": 180,
   "metadata": {},
   "outputs": [],
   "source": [
    "monitoring_data = pd.read_csv('monitoring_data.csv')"
   ]
  },
  {
   "cell_type": "code",
   "execution_count": 181,
   "metadata": {},
   "outputs": [],
   "source": [
    "#xgboost model for this calliberation, linear model yet to be obtained.\n",
    "#Note I am unable to get parameters I set. Must try a diff format.\n",
    "xgboost_caliberation = pickle.load(open(\"xgb_model1_set_1_lag_2_seasonal.pickle.dat\",\"rb\"))"
   ]
  },
  {
   "cell_type": "code",
   "execution_count": 183,
   "metadata": {},
   "outputs": [
    {
     "data": {
      "text/plain": [
       "LinearRegression(copy_X=True, fit_intercept=True, n_jobs=1, normalize=False)"
      ]
     },
     "execution_count": 183,
     "metadata": {},
     "output_type": "execute_result"
    }
   ],
   "source": [
    "for_lr = train_calib.dropna()\n",
    "X = for_lr.drop(['shop_id','item_id','item_category_id','item_cnt_month','unique'], axis = 1)\n",
    "y = for_lr['item_cnt_month']\n",
    "lm_calliberation = LinearRegression()\n",
    "lm_calliberation.fit(X,y)"
   ]
  },
  {
   "cell_type": "code",
   "execution_count": 184,
   "metadata": {},
   "outputs": [],
   "source": [
    "lm_calliberation_prediction = lm_calliberation.predict(final_val_for_calib.drop('item_cnt_month', axis = 1))"
   ]
  },
  {
   "cell_type": "code",
   "execution_count": 185,
   "metadata": {},
   "outputs": [
    {
     "name": "stderr",
     "output_type": "stream",
     "text": [
      "/anaconda/lib/python3.6/site-packages/ipykernel/__main__.py:3: SettingWithCopyWarning: \n",
      "A value is trying to be set on a copy of a slice from a DataFrame\n",
      "\n",
      "See the caveats in the documentation: http://pandas.pydata.org/pandas-docs/stable/indexing.html#indexing-view-versus-copy\n",
      "  app.launch_new_instance()\n"
     ]
    }
   ],
   "source": [
    "#Best alpha for ensemble being 0.092,- alpha*lin + (1-alpha)*xgb\n",
    "final_val_for_calib = valid_calib.dropna()\n",
    "final_val_for_calib.drop(['shop_id','item_id','item_category_id','unique'], axis = 1, inplace=True)"
   ]
  },
  {
   "cell_type": "code",
   "execution_count": 258,
   "metadata": {},
   "outputs": [],
   "source": [
    "xgboost_caliberation_prediction = xgboost_caliberation.predict(xgboost.DMatrix(final_val_for_calib.drop('item_cnt_month', axis = 1)), ntree_limit=211)"
   ]
  },
  {
   "cell_type": "code",
   "execution_count": 279,
   "metadata": {},
   "outputs": [],
   "source": [
    "temp = xgboost_caliberation.predict(xg_val, ntree_limit=211)"
   ]
  },
  {
   "cell_type": "code",
   "execution_count": 186,
   "metadata": {},
   "outputs": [],
   "source": [
    "pred_call1 = 0.092*lm_calliberation_prediction+(1-0.092)*xgboost_caliberation_prediction\n",
    "rmse_1 = rmse(final_val_for_calib['item_cnt_month'], pred_call1)\n",
    "trim_rmse1 = compute_trimmed_rmse(pred_call1.copy(), final_val_for_calib['item_cnt_month'].copy())"
   ]
  },
  {
   "cell_type": "code",
   "execution_count": 229,
   "metadata": {},
   "outputs": [
    {
     "data": {
      "text/html": [
       "<div>\n",
       "<style>\n",
       "    .dataframe thead tr:only-child th {\n",
       "        text-align: right;\n",
       "    }\n",
       "\n",
       "    .dataframe thead th {\n",
       "        text-align: left;\n",
       "    }\n",
       "\n",
       "    .dataframe tbody tr th {\n",
       "        vertical-align: top;\n",
       "    }\n",
       "</style>\n",
       "<table border=\"1\" class=\"dataframe\">\n",
       "  <thead>\n",
       "    <tr style=\"text-align: right;\">\n",
       "      <th></th>\n",
       "      <th>index</th>\n",
       "      <th>Model1</th>\n",
       "      <th>Model2</th>\n",
       "      <th>Model3</th>\n",
       "      <th>Model4</th>\n",
       "      <th>Ensemble_Type</th>\n",
       "      <th>Val_Prediction_Name</th>\n",
       "      <th>Test_Prediction_Name</th>\n",
       "      <th>Validation_Type</th>\n",
       "      <th>Validation Set</th>\n",
       "      <th>Validation_Score_before_clip</th>\n",
       "      <th>Validation_Score_after_clip</th>\n",
       "      <th>Public_LB_Score</th>\n",
       "      <th>Features</th>\n",
       "    </tr>\n",
       "  </thead>\n",
       "  <tbody>\n",
       "    <tr>\n",
       "      <th>0</th>\n",
       "      <td>0</td>\n",
       "      <td>xg_model_1_001_subsample_1</td>\n",
       "      <td>lm_model_standardized</td>\n",
       "      <td>rf_n_est_1000_depth_3_sqrt</td>\n",
       "      <td>None</td>\n",
       "      <td>Average</td>\n",
       "      <td>triple_ensemble</td>\n",
       "      <td>trip_ens_submission</td>\n",
       "      <td>Time_based</td>\n",
       "      <td>dropped_col_val33_no_na</td>\n",
       "      <td>22.1521</td>\n",
       "      <td>2.16371</td>\n",
       "      <td>1.17125</td>\n",
       "      <td>Lag1</td>\n",
       "    </tr>\n",
       "    <tr>\n",
       "      <th>1</th>\n",
       "      <td>1</td>\n",
       "      <td>xg_model_1_001_subsample_1</td>\n",
       "      <td>lm_model_standardized</td>\n",
       "      <td>rf_n_est_1000_depth_3_sqrt</td>\n",
       "      <td>None</td>\n",
       "      <td>Average</td>\n",
       "      <td>triple_ensemble_sub_025</td>\n",
       "      <td>trip_ens_submission_sub_025</td>\n",
       "      <td>Time_based</td>\n",
       "      <td>dropped_col_val33_no_na</td>\n",
       "      <td>22.1524</td>\n",
       "      <td>2.16037</td>\n",
       "      <td>1.16766</td>\n",
       "      <td>Lag1</td>\n",
       "    </tr>\n",
       "    <tr>\n",
       "      <th>2</th>\n",
       "      <td>2</td>\n",
       "      <td>xg_model_1_001_subsample_1</td>\n",
       "      <td>lm_model</td>\n",
       "      <td>None</td>\n",
       "      <td>None</td>\n",
       "      <td>Average</td>\n",
       "      <td>ensemble_lin_xgb</td>\n",
       "      <td>test_ensemble_lin_xgb</td>\n",
       "      <td>Time_based</td>\n",
       "      <td>dropped_col_val33_no_na</td>\n",
       "      <td>20.7824</td>\n",
       "      <td>2.15148</td>\n",
       "      <td>1.14767</td>\n",
       "      <td>Lag1</td>\n",
       "    </tr>\n",
       "    <tr>\n",
       "      <th>3</th>\n",
       "      <td>0</td>\n",
       "      <td>xg_model_6_01_subsample_1</td>\n",
       "      <td>lm_model</td>\n",
       "      <td>None</td>\n",
       "      <td>None</td>\n",
       "      <td>alpha(0.092*lm+0.908*xg)</td>\n",
       "      <td>ensemble_lin_xgb_0092</td>\n",
       "      <td>ensemble_lin_xgb_0092_lag1_lag2_season</td>\n",
       "      <td>Time_based</td>\n",
       "      <td>subset_of_train_full_lag1_lag2_seasonal</td>\n",
       "      <td>24.935</td>\n",
       "      <td>2.04778</td>\n",
       "      <td>1.09124</td>\n",
       "      <td>Lag1_Lag2_Seasonal</td>\n",
       "    </tr>\n",
       "    <tr>\n",
       "      <th>4</th>\n",
       "      <td>0</td>\n",
       "      <td>xg_model_6_01_subsample_1</td>\n",
       "      <td>lm_model</td>\n",
       "      <td>None</td>\n",
       "      <td>None</td>\n",
       "      <td>alpha(0.092*lm+0.908*xg)</td>\n",
       "      <td>ensemble_lin_xgb_0092_less_0025</td>\n",
       "      <td>ensemble_lin_xgb_0092_lag1_lag2_season_less_0025</td>\n",
       "      <td>Time_based</td>\n",
       "      <td>subset_of_train_full_lag1_lag2_seasonal</td>\n",
       "      <td>24.936</td>\n",
       "      <td>2.050922</td>\n",
       "      <td>1.09067</td>\n",
       "      <td>Lag1_Lag2_Seasonal</td>\n",
       "    </tr>\n",
       "  </tbody>\n",
       "</table>\n",
       "</div>"
      ],
      "text/plain": [
       "   index                      Model1                 Model2  \\\n",
       "0      0  xg_model_1_001_subsample_1  lm_model_standardized   \n",
       "1      1  xg_model_1_001_subsample_1  lm_model_standardized   \n",
       "2      2  xg_model_1_001_subsample_1               lm_model   \n",
       "3      0   xg_model_6_01_subsample_1               lm_model   \n",
       "4      0   xg_model_6_01_subsample_1               lm_model   \n",
       "\n",
       "                       Model3 Model4             Ensemble_Type  \\\n",
       "0  rf_n_est_1000_depth_3_sqrt   None                   Average   \n",
       "1  rf_n_est_1000_depth_3_sqrt   None                   Average   \n",
       "2                        None   None                   Average   \n",
       "3                        None   None  alpha(0.092*lm+0.908*xg)   \n",
       "4                        None   None  alpha(0.092*lm+0.908*xg)   \n",
       "\n",
       "               Val_Prediction_Name  \\\n",
       "0                  triple_ensemble   \n",
       "1          triple_ensemble_sub_025   \n",
       "2                 ensemble_lin_xgb   \n",
       "3            ensemble_lin_xgb_0092   \n",
       "4  ensemble_lin_xgb_0092_less_0025   \n",
       "\n",
       "                               Test_Prediction_Name Validation_Type  \\\n",
       "0                               trip_ens_submission      Time_based   \n",
       "1                       trip_ens_submission_sub_025      Time_based   \n",
       "2                             test_ensemble_lin_xgb      Time_based   \n",
       "3            ensemble_lin_xgb_0092_lag1_lag2_season      Time_based   \n",
       "4  ensemble_lin_xgb_0092_lag1_lag2_season_less_0025      Time_based   \n",
       "\n",
       "                            Validation Set Validation_Score_before_clip  \\\n",
       "0                  dropped_col_val33_no_na                      22.1521   \n",
       "1                  dropped_col_val33_no_na                      22.1524   \n",
       "2                  dropped_col_val33_no_na                      20.7824   \n",
       "3  subset_of_train_full_lag1_lag2_seasonal                       24.935   \n",
       "4  subset_of_train_full_lag1_lag2_seasonal                       24.936   \n",
       "\n",
       "  Validation_Score_after_clip Public_LB_Score            Features  \n",
       "0                     2.16371         1.17125                Lag1  \n",
       "1                     2.16037         1.16766                Lag1  \n",
       "2                     2.15148         1.14767                Lag1  \n",
       "3                     2.04778         1.09124  Lag1_Lag2_Seasonal  \n",
       "4                    2.050922         1.09067  Lag1_Lag2_Seasonal  "
      ]
     },
     "execution_count": 229,
     "metadata": {},
     "output_type": "execute_result"
    }
   ],
   "source": [
    "monitoring_data``"
   ]
  },
  {
   "cell_type": "code",
   "execution_count": 287,
   "metadata": {},
   "outputs": [
    {
     "data": {
      "text/plain": [
       "(7127, 9)"
      ]
     },
     "execution_count": 287,
     "metadata": {},
     "output_type": "execute_result"
    }
   ],
   "source": [
    "dropped_val_lag1_lag2_season.dropna().shape"
   ]
  },
  {
   "cell_type": "code",
   "execution_count": 285,
   "metadata": {},
   "outputs": [
    {
     "data": {
      "text/plain": [
       "(7127, 10)"
      ]
     },
     "execution_count": 285,
     "metadata": {},
     "output_type": "execute_result"
    }
   ],
   "source": [
    "final_val_for_calib.shape"
   ]
  },
  {
   "cell_type": "code",
   "execution_count": 283,
   "metadata": {},
   "outputs": [
    {
     "data": {
      "text/plain": [
       "1.0"
      ]
     },
     "execution_count": 283,
     "metadata": {},
     "output_type": "execute_result"
    }
   ],
   "source": [
    "len(pd.isnull(dropped_val_lag1_lag2_season))/len(val_lag1_2_season)"
   ]
  },
  {
   "cell_type": "code",
   "execution_count": 280,
   "metadata": {},
   "outputs": [
    {
     "data": {
      "text/plain": [
       "12.621818998865741"
      ]
     },
     "execution_count": 280,
     "metadata": {},
     "output_type": "execute_result"
    }
   ],
   "source": [
    "rmse(val_lag1_2_season['item_cnt_month'], temp)"
   ]
  },
  {
   "cell_type": "code",
   "execution_count": 281,
   "metadata": {},
   "outputs": [
    {
     "data": {
      "text/plain": [
       "24.93264163402205"
      ]
     },
     "execution_count": 281,
     "metadata": {},
     "output_type": "execute_result"
    }
   ],
   "source": [
    "rmse(final_val_for_calib['item_cnt_month'],xgboost_caliberation_prediction)"
   ]
  },
  {
   "cell_type": "code",
   "execution_count": 188,
   "metadata": {},
   "outputs": [
    {
     "data": {
      "text/plain": [
       "2.047781109189153"
      ]
     },
     "execution_count": 188,
     "metadata": {},
     "output_type": "execute_result"
    }
   ],
   "source": [
    "trim_rmse1"
   ]
  },
  {
   "cell_type": "code",
   "execution_count": 191,
   "metadata": {},
   "outputs": [
    {
     "data": {
      "text/html": [
       "<div>\n",
       "<style>\n",
       "    .dataframe thead tr:only-child th {\n",
       "        text-align: right;\n",
       "    }\n",
       "\n",
       "    .dataframe thead th {\n",
       "        text-align: left;\n",
       "    }\n",
       "\n",
       "    .dataframe tbody tr th {\n",
       "        vertical-align: top;\n",
       "    }\n",
       "</style>\n",
       "<table border=\"1\" class=\"dataframe\">\n",
       "  <thead>\n",
       "    <tr style=\"text-align: right;\">\n",
       "      <th></th>\n",
       "      <th>Model1</th>\n",
       "      <th>Model2</th>\n",
       "      <th>Model3</th>\n",
       "      <th>Model4</th>\n",
       "      <th>Ensemble_Type</th>\n",
       "      <th>Val_Prediction_Name</th>\n",
       "      <th>Test_Prediction_Name</th>\n",
       "      <th>Validation_Type</th>\n",
       "      <th>Validation Set</th>\n",
       "      <th>Validation_Score_before_clip</th>\n",
       "      <th>Validation_Score_after_clip</th>\n",
       "      <th>Public_LB_Score</th>\n",
       "    </tr>\n",
       "  </thead>\n",
       "  <tbody>\n",
       "    <tr>\n",
       "      <th>0</th>\n",
       "      <td>xg_model_1_001_subsample_1</td>\n",
       "      <td>lm_model_standardized</td>\n",
       "      <td>rf_n_est_1000_depth_3_sqrt</td>\n",
       "      <td>None</td>\n",
       "      <td>Average</td>\n",
       "      <td>triple_ensemble</td>\n",
       "      <td>trip_ens_submission</td>\n",
       "      <td>Time_based</td>\n",
       "      <td>dropped_col_val33_no_na</td>\n",
       "      <td>22.152129</td>\n",
       "      <td>2.163706</td>\n",
       "      <td>1.17125</td>\n",
       "    </tr>\n",
       "    <tr>\n",
       "      <th>1</th>\n",
       "      <td>xg_model_1_001_subsample_1</td>\n",
       "      <td>lm_model_standardized</td>\n",
       "      <td>rf_n_est_1000_depth_3_sqrt</td>\n",
       "      <td>None</td>\n",
       "      <td>Average</td>\n",
       "      <td>triple_ensemble_sub_025</td>\n",
       "      <td>trip_ens_submission_sub_025</td>\n",
       "      <td>Time_based</td>\n",
       "      <td>dropped_col_val33_no_na</td>\n",
       "      <td>22.152377</td>\n",
       "      <td>2.160372</td>\n",
       "      <td>1.16766</td>\n",
       "    </tr>\n",
       "    <tr>\n",
       "      <th>2</th>\n",
       "      <td>xg_model_1_001_subsample_1</td>\n",
       "      <td>lm_model</td>\n",
       "      <td>None</td>\n",
       "      <td>None</td>\n",
       "      <td>Average</td>\n",
       "      <td>ensemble_lin_xgb</td>\n",
       "      <td>test_ensemble_lin_xgb</td>\n",
       "      <td>Time_based</td>\n",
       "      <td>dropped_col_val33_no_na</td>\n",
       "      <td>20.782377</td>\n",
       "      <td>2.151485</td>\n",
       "      <td>1.14767</td>\n",
       "    </tr>\n",
       "  </tbody>\n",
       "</table>\n",
       "</div>"
      ],
      "text/plain": [
       "                       Model1                 Model2  \\\n",
       "0  xg_model_1_001_subsample_1  lm_model_standardized   \n",
       "1  xg_model_1_001_subsample_1  lm_model_standardized   \n",
       "2  xg_model_1_001_subsample_1               lm_model   \n",
       "\n",
       "                       Model3 Model4 Ensemble_Type      Val_Prediction_Name  \\\n",
       "0  rf_n_est_1000_depth_3_sqrt   None       Average          triple_ensemble   \n",
       "1  rf_n_est_1000_depth_3_sqrt   None       Average  triple_ensemble_sub_025   \n",
       "2                        None   None       Average         ensemble_lin_xgb   \n",
       "\n",
       "          Test_Prediction_Name Validation_Type           Validation Set  \\\n",
       "0          trip_ens_submission      Time_based  dropped_col_val33_no_na   \n",
       "1  trip_ens_submission_sub_025      Time_based  dropped_col_val33_no_na   \n",
       "2        test_ensemble_lin_xgb      Time_based  dropped_col_val33_no_na   \n",
       "\n",
       "   Validation_Score_before_clip  Validation_Score_after_clip  Public_LB_Score  \n",
       "0                     22.152129                     2.163706          1.17125  \n",
       "1                     22.152377                     2.160372          1.16766  \n",
       "2                     20.782377                     2.151485          1.14767  "
      ]
     },
     "execution_count": 191,
     "metadata": {},
     "output_type": "execute_result"
    }
   ],
   "source": [
    "monitoring_data"
   ]
  },
  {
   "cell_type": "code",
   "execution_count": 202,
   "metadata": {},
   "outputs": [],
   "source": [
    "monitoring_data['Features'] = 'Lag1'"
   ]
  },
  {
   "cell_type": "code",
   "execution_count": 203,
   "metadata": {},
   "outputs": [],
   "source": [
    "to_be_added = ['xg_model_6_01_subsample_1', 'lm_model', 'None', 'None', 'alpha(0.092*lm+0.908*xg)', 'ensemble_lin_xgb_0092', 'ensemble_lin_xgb_0092_lag1_lag2_season','Time_based','subset_of_train_full_lag1_lag2_seasonal', '24.935','2.04778','1.09124','Lag1_Lag2_Seasonal']"
   ]
  },
  {
   "cell_type": "code",
   "execution_count": 204,
   "metadata": {},
   "outputs": [],
   "source": [
    "monitoring_data = pd.concat([monitoring_data , pd.DataFrame(np.expand_dims(to_be_added,axis = 0) , columns = monitoring_data.columns)], axis = 0)"
   ]
  },
  {
   "cell_type": "code",
   "execution_count": 205,
   "metadata": {},
   "outputs": [],
   "source": [
    "pred_call2 = (0.092*lm_calliberation_prediction+(1-0.092)*xgboost_caliberation_prediction)-0.025\n",
    "pred_call2[pred_call2<0] = 0\n",
    "rmse_2 = rmse(final_val_for_calib['item_cnt_month'], pred_call2)\n",
    "trim_rmse2 = compute_trimmed_rmse(pred_call2.copy(), final_val_for_calib['item_cnt_month'].copy())"
   ]
  },
  {
   "cell_type": "code",
   "execution_count": 257,
   "metadata": {},
   "outputs": [
    {
     "data": {
      "text/plain": [
       "12.621004"
      ]
     },
     "execution_count": 257,
     "metadata": {},
     "output_type": "execute_result"
    }
   ],
   "source": []
  },
  {
   "cell_type": "code",
   "execution_count": 255,
   "metadata": {},
   "outputs": [
    {
     "data": {
      "text/plain": [
       "24.940924281984767"
      ]
     },
     "execution_count": 255,
     "metadata": {},
     "output_type": "execute_result"
    }
   ],
   "source": [
    "rmse(final_val_for_calib['item_cnt_month'], xgboost_caliberation_prediction)"
   ]
  },
  {
   "cell_type": "code",
   "execution_count": 207,
   "metadata": {},
   "outputs": [
    {
     "data": {
      "text/plain": [
       "2.0509226553203104"
      ]
     },
     "execution_count": 207,
     "metadata": {},
     "output_type": "execute_result"
    }
   ],
   "source": [
    "trim_rmse2"
   ]
  },
  {
   "cell_type": "code",
   "execution_count": 208,
   "metadata": {},
   "outputs": [],
   "source": [
    "to_be_added = ['xg_model_6_01_subsample_1', 'lm_model', 'None', 'None', 'alpha(0.092*lm+0.908*xg)', 'ensemble_lin_xgb_0092_less_0025', 'ensemble_lin_xgb_0092_lag1_lag2_season_less_0025','Time_based','subset_of_train_full_lag1_lag2_seasonal', '24.936','2.050922','1.09067','Lag1_Lag2_Seasonal']"
   ]
  },
  {
   "cell_type": "code",
   "execution_count": 209,
   "metadata": {},
   "outputs": [],
   "source": [
    "monitoring_data = pd.concat([monitoring_data , pd.DataFrame(np.expand_dims(to_be_added,axis = 0) , columns = monitoring_data.columns)], axis = 0)"
   ]
  },
  {
   "cell_type": "code",
   "execution_count": 211,
   "metadata": {},
   "outputs": [],
   "source": [
    "monitoring_data.to_csv('monitoring_data.csv')"
   ]
  },
  {
   "cell_type": "code",
   "execution_count": 215,
   "metadata": {},
   "outputs": [],
   "source": [
    "train_full = pd.read_csv('train_full_lag1_lag2_season.csv')"
   ]
  },
  {
   "cell_type": "code",
   "execution_count": 216,
   "metadata": {},
   "outputs": [],
   "source": [
    "initial_sales_data1 = pd.read_csv('sales_train.csv')"
   ]
  },
  {
   "cell_type": "code",
   "execution_count": 217,
   "metadata": {},
   "outputs": [
    {
     "data": {
      "text/html": [
       "<div>\n",
       "<style>\n",
       "    .dataframe thead tr:only-child th {\n",
       "        text-align: right;\n",
       "    }\n",
       "\n",
       "    .dataframe thead th {\n",
       "        text-align: left;\n",
       "    }\n",
       "\n",
       "    .dataframe tbody tr th {\n",
       "        vertical-align: top;\n",
       "    }\n",
       "</style>\n",
       "<table border=\"1\" class=\"dataframe\">\n",
       "  <thead>\n",
       "    <tr style=\"text-align: right;\">\n",
       "      <th></th>\n",
       "      <th>date</th>\n",
       "      <th>date_block_num</th>\n",
       "      <th>shop_id</th>\n",
       "      <th>item_id</th>\n",
       "      <th>item_price</th>\n",
       "      <th>item_cnt_day</th>\n",
       "    </tr>\n",
       "  </thead>\n",
       "  <tbody>\n",
       "    <tr>\n",
       "      <th>0</th>\n",
       "      <td>02.01.2013</td>\n",
       "      <td>0</td>\n",
       "      <td>59</td>\n",
       "      <td>22154</td>\n",
       "      <td>999.00</td>\n",
       "      <td>1.0</td>\n",
       "    </tr>\n",
       "    <tr>\n",
       "      <th>1</th>\n",
       "      <td>03.01.2013</td>\n",
       "      <td>0</td>\n",
       "      <td>25</td>\n",
       "      <td>2552</td>\n",
       "      <td>899.00</td>\n",
       "      <td>1.0</td>\n",
       "    </tr>\n",
       "    <tr>\n",
       "      <th>2</th>\n",
       "      <td>05.01.2013</td>\n",
       "      <td>0</td>\n",
       "      <td>25</td>\n",
       "      <td>2552</td>\n",
       "      <td>899.00</td>\n",
       "      <td>-1.0</td>\n",
       "    </tr>\n",
       "    <tr>\n",
       "      <th>3</th>\n",
       "      <td>06.01.2013</td>\n",
       "      <td>0</td>\n",
       "      <td>25</td>\n",
       "      <td>2554</td>\n",
       "      <td>1709.05</td>\n",
       "      <td>1.0</td>\n",
       "    </tr>\n",
       "    <tr>\n",
       "      <th>4</th>\n",
       "      <td>15.01.2013</td>\n",
       "      <td>0</td>\n",
       "      <td>25</td>\n",
       "      <td>2555</td>\n",
       "      <td>1099.00</td>\n",
       "      <td>1.0</td>\n",
       "    </tr>\n",
       "  </tbody>\n",
       "</table>\n",
       "</div>"
      ],
      "text/plain": [
       "         date  date_block_num  shop_id  item_id  item_price  item_cnt_day\n",
       "0  02.01.2013               0       59    22154      999.00           1.0\n",
       "1  03.01.2013               0       25     2552      899.00           1.0\n",
       "2  05.01.2013               0       25     2552      899.00          -1.0\n",
       "3  06.01.2013               0       25     2554     1709.05           1.0\n",
       "4  15.01.2013               0       25     2555     1099.00           1.0"
      ]
     },
     "execution_count": 217,
     "metadata": {},
     "output_type": "execute_result"
    }
   ],
   "source": [
    "initial_sales_data1.head()"
   ]
  },
  {
   "cell_type": "code",
   "execution_count": 218,
   "metadata": {},
   "outputs": [],
   "source": [
    "initial_test = pd.read_csv('test.csv')"
   ]
  },
  {
   "cell_type": "code",
   "execution_count": 219,
   "metadata": {},
   "outputs": [],
   "source": [
    "initial_sales_data2 = pd.read_csv('item_categories.csv')"
   ]
  },
  {
   "cell_type": "code",
   "execution_count": 220,
   "metadata": {},
   "outputs": [],
   "source": [
    "initial_sales_data3 = pd.read_csv('items.csv')"
   ]
  },
  {
   "cell_type": "code",
   "execution_count": 221,
   "metadata": {},
   "outputs": [
    {
     "data": {
      "text/html": [
       "<div>\n",
       "<style>\n",
       "    .dataframe thead tr:only-child th {\n",
       "        text-align: right;\n",
       "    }\n",
       "\n",
       "    .dataframe thead th {\n",
       "        text-align: left;\n",
       "    }\n",
       "\n",
       "    .dataframe tbody tr th {\n",
       "        vertical-align: top;\n",
       "    }\n",
       "</style>\n",
       "<table border=\"1\" class=\"dataframe\">\n",
       "  <thead>\n",
       "    <tr style=\"text-align: right;\">\n",
       "      <th></th>\n",
       "      <th>item_category_name</th>\n",
       "      <th>item_category_id</th>\n",
       "    </tr>\n",
       "  </thead>\n",
       "  <tbody>\n",
       "    <tr>\n",
       "      <th>0</th>\n",
       "      <td>PC - Гарнитуры/Наушники</td>\n",
       "      <td>0</td>\n",
       "    </tr>\n",
       "    <tr>\n",
       "      <th>1</th>\n",
       "      <td>Аксессуары - PS2</td>\n",
       "      <td>1</td>\n",
       "    </tr>\n",
       "    <tr>\n",
       "      <th>2</th>\n",
       "      <td>Аксессуары - PS3</td>\n",
       "      <td>2</td>\n",
       "    </tr>\n",
       "    <tr>\n",
       "      <th>3</th>\n",
       "      <td>Аксессуары - PS4</td>\n",
       "      <td>3</td>\n",
       "    </tr>\n",
       "    <tr>\n",
       "      <th>4</th>\n",
       "      <td>Аксессуары - PSP</td>\n",
       "      <td>4</td>\n",
       "    </tr>\n",
       "  </tbody>\n",
       "</table>\n",
       "</div>"
      ],
      "text/plain": [
       "        item_category_name  item_category_id\n",
       "0  PC - Гарнитуры/Наушники                 0\n",
       "1         Аксессуары - PS2                 1\n",
       "2         Аксессуары - PS3                 2\n",
       "3         Аксессуары - PS4                 3\n",
       "4         Аксессуары - PSP                 4"
      ]
     },
     "execution_count": 221,
     "metadata": {},
     "output_type": "execute_result"
    }
   ],
   "source": [
    "initial_sales_data2.head()"
   ]
  },
  {
   "cell_type": "code",
   "execution_count": 222,
   "metadata": {},
   "outputs": [],
   "source": [
    "monitoring_data.reset_index(inplace = True)"
   ]
  },
  {
   "cell_type": "code",
   "execution_count": 225,
   "metadata": {},
   "outputs": [
    {
     "data": {
      "image/png": "[encoded data removed]",
      "text/plain": [
       "<Figure size 432x288 with 1 Axes>"
      ]
     },
     "metadata": {},
     "output_type": "display_data"
    }
   ],
   "source": [
    "fig = plt.figure()\n",
    "ax1 = fig.add_subplot(111)\n",
    "ax1.plot(monitoring_data['Validation_Score_after_clip'], monitoring_data['Public_LB_Score'])\n",
    "plt.show()"
   ]
  },
  {
   "cell_type": "code",
   "execution_count": 267,
   "metadata": {},
   "outputs": [],
   "source": [
    "#May be I should tune the xgboost with current data.\n",
    "train_full_lag1_2_season = pd.read_csv('train_full_lag1_lag2_season.csv')"
   ]
  },
  {
   "cell_type": "code",
   "execution_count": 268,
   "metadata": {},
   "outputs": [],
   "source": [
    "train_full_lag1_2_season.drop(['Unnamed: 0'], axis = 1, inplace = True)"
   ]
  },
  {
   "cell_type": "code",
   "execution_count": 224,
   "metadata": {},
   "outputs": [
    {
     "data": {
      "text/html": [
       "<div>\n",
       "<style>\n",
       "    .dataframe thead tr:only-child th {\n",
       "        text-align: right;\n",
       "    }\n",
       "\n",
       "    .dataframe thead th {\n",
       "        text-align: left;\n",
       "    }\n",
       "\n",
       "    .dataframe tbody tr th {\n",
       "        vertical-align: top;\n",
       "    }\n",
       "</style>\n",
       "<table border=\"1\" class=\"dataframe\">\n",
       "  <thead>\n",
       "    <tr style=\"text-align: right;\">\n",
       "      <th></th>\n",
       "      <th>index</th>\n",
       "      <th>Model1</th>\n",
       "      <th>Model2</th>\n",
       "      <th>Model3</th>\n",
       "      <th>Model4</th>\n",
       "      <th>Ensemble_Type</th>\n",
       "      <th>Val_Prediction_Name</th>\n",
       "      <th>Test_Prediction_Name</th>\n",
       "      <th>Validation_Type</th>\n",
       "      <th>Validation Set</th>\n",
       "      <th>Validation_Score_before_clip</th>\n",
       "      <th>Validation_Score_after_clip</th>\n",
       "      <th>Public_LB_Score</th>\n",
       "      <th>Features</th>\n",
       "    </tr>\n",
       "  </thead>\n",
       "  <tbody>\n",
       "    <tr>\n",
       "      <th>0</th>\n",
       "      <td>0</td>\n",
       "      <td>xg_model_1_001_subsample_1</td>\n",
       "      <td>lm_model_standardized</td>\n",
       "      <td>rf_n_est_1000_depth_3_sqrt</td>\n",
       "      <td>None</td>\n",
       "      <td>Average</td>\n",
       "      <td>triple_ensemble</td>\n",
       "      <td>trip_ens_submission</td>\n",
       "      <td>Time_based</td>\n",
       "      <td>dropped_col_val33_no_na</td>\n",
       "      <td>22.1521</td>\n",
       "      <td>2.16371</td>\n",
       "      <td>1.17125</td>\n",
       "      <td>Lag1</td>\n",
       "    </tr>\n",
       "    <tr>\n",
       "      <th>1</th>\n",
       "      <td>1</td>\n",
       "      <td>xg_model_1_001_subsample_1</td>\n",
       "      <td>lm_model_standardized</td>\n",
       "      <td>rf_n_est_1000_depth_3_sqrt</td>\n",
       "      <td>None</td>\n",
       "      <td>Average</td>\n",
       "      <td>triple_ensemble_sub_025</td>\n",
       "      <td>trip_ens_submission_sub_025</td>\n",
       "      <td>Time_based</td>\n",
       "      <td>dropped_col_val33_no_na</td>\n",
       "      <td>22.1524</td>\n",
       "      <td>2.16037</td>\n",
       "      <td>1.16766</td>\n",
       "      <td>Lag1</td>\n",
       "    </tr>\n",
       "    <tr>\n",
       "      <th>2</th>\n",
       "      <td>2</td>\n",
       "      <td>xg_model_1_001_subsample_1</td>\n",
       "      <td>lm_model</td>\n",
       "      <td>None</td>\n",
       "      <td>None</td>\n",
       "      <td>Average</td>\n",
       "      <td>ensemble_lin_xgb</td>\n",
       "      <td>test_ensemble_lin_xgb</td>\n",
       "      <td>Time_based</td>\n",
       "      <td>dropped_col_val33_no_na</td>\n",
       "      <td>20.7824</td>\n",
       "      <td>2.15148</td>\n",
       "      <td>1.14767</td>\n",
       "      <td>Lag1</td>\n",
       "    </tr>\n",
       "    <tr>\n",
       "      <th>3</th>\n",
       "      <td>0</td>\n",
       "      <td>xg_model_6_01_subsample_1</td>\n",
       "      <td>lm_model</td>\n",
       "      <td>None</td>\n",
       "      <td>None</td>\n",
       "      <td>alpha(0.092*lm+0.908*xg)</td>\n",
       "      <td>ensemble_lin_xgb_0092</td>\n",
       "      <td>ensemble_lin_xgb_0092_lag1_lag2_season</td>\n",
       "      <td>Time_based</td>\n",
       "      <td>subset_of_train_full_lag1_lag2_seasonal</td>\n",
       "      <td>24.935</td>\n",
       "      <td>2.04778</td>\n",
       "      <td>1.09124</td>\n",
       "      <td>Lag1_Lag2_Seasonal</td>\n",
       "    </tr>\n",
       "    <tr>\n",
       "      <th>4</th>\n",
       "      <td>0</td>\n",
       "      <td>xg_model_6_01_subsample_1</td>\n",
       "      <td>lm_model</td>\n",
       "      <td>None</td>\n",
       "      <td>None</td>\n",
       "      <td>alpha(0.092*lm+0.908*xg)</td>\n",
       "      <td>ensemble_lin_xgb_0092_less_0025</td>\n",
       "      <td>ensemble_lin_xgb_0092_lag1_lag2_season_less_0025</td>\n",
       "      <td>Time_based</td>\n",
       "      <td>subset_of_train_full_lag1_lag2_seasonal</td>\n",
       "      <td>24.936</td>\n",
       "      <td>2.050922</td>\n",
       "      <td>1.09067</td>\n",
       "      <td>Lag1_Lag2_Seasonal</td>\n",
       "    </tr>\n",
       "  </tbody>\n",
       "</table>\n",
       "</div>"
      ],
      "text/plain": [
       "   index                      Model1                 Model2  \\\n",
       "0      0  xg_model_1_001_subsample_1  lm_model_standardized   \n",
       "1      1  xg_model_1_001_subsample_1  lm_model_standardized   \n",
       "2      2  xg_model_1_001_subsample_1               lm_model   \n",
       "3      0   xg_model_6_01_subsample_1               lm_model   \n",
       "4      0   xg_model_6_01_subsample_1               lm_model   \n",
       "\n",
       "                       Model3 Model4             Ensemble_Type  \\\n",
       "0  rf_n_est_1000_depth_3_sqrt   None                   Average   \n",
       "1  rf_n_est_1000_depth_3_sqrt   None                   Average   \n",
       "2                        None   None                   Average   \n",
       "3                        None   None  alpha(0.092*lm+0.908*xg)   \n",
       "4                        None   None  alpha(0.092*lm+0.908*xg)   \n",
       "\n",
       "               Val_Prediction_Name  \\\n",
       "0                  triple_ensemble   \n",
       "1          triple_ensemble_sub_025   \n",
       "2                 ensemble_lin_xgb   \n",
       "3            ensemble_lin_xgb_0092   \n",
       "4  ensemble_lin_xgb_0092_less_0025   \n",
       "\n",
       "                               Test_Prediction_Name Validation_Type  \\\n",
       "0                               trip_ens_submission      Time_based   \n",
       "1                       trip_ens_submission_sub_025      Time_based   \n",
       "2                             test_ensemble_lin_xgb      Time_based   \n",
       "3            ensemble_lin_xgb_0092_lag1_lag2_season      Time_based   \n",
       "4  ensemble_lin_xgb_0092_lag1_lag2_season_less_0025      Time_based   \n",
       "\n",
       "                            Validation Set Validation_Score_before_clip  \\\n",
       "0                  dropped_col_val33_no_na                      22.1521   \n",
       "1                  dropped_col_val33_no_na                      22.1524   \n",
       "2                  dropped_col_val33_no_na                      20.7824   \n",
       "3  subset_of_train_full_lag1_lag2_seasonal                       24.935   \n",
       "4  subset_of_train_full_lag1_lag2_seasonal                       24.936   \n",
       "\n",
       "  Validation_Score_after_clip Public_LB_Score            Features  \n",
       "0                     2.16371         1.17125                Lag1  \n",
       "1                     2.16037         1.16766                Lag1  \n",
       "2                     2.15148         1.14767                Lag1  \n",
       "3                     2.04778         1.09124  Lag1_Lag2_Seasonal  \n",
       "4                    2.050922         1.09067  Lag1_Lag2_Seasonal  "
      ]
     },
     "execution_count": 224,
     "metadata": {},
     "output_type": "execute_result"
    }
   ],
   "source": [
    "monitoring_data"
   ]
  },
  {
   "cell_type": "code",
   "execution_count": 269,
   "metadata": {},
   "outputs": [
    {
     "data": {
      "text/plain": [
       "Index(['shop_id', 'item_id', 'unique', 'item_price', 'item_cnt_month',\n",
       "       'item_category_id', 'is_music', 'lag_shop_item_comb', 'lag_only_item',\n",
       "       'lag_only_item_cat', 'lag2_only_item_cat', 'lag2_shop_item_comb',\n",
       "       'lag2_only_item', 'seasonal_freq_3_feature'],\n",
       "      dtype='object')"
      ]
     },
     "execution_count": 269,
     "metadata": {},
     "output_type": "execute_result"
    }
   ],
   "source": [
    "train_full_lag1_2_season.columns"
   ]
  },
  {
   "cell_type": "code",
   "execution_count": 270,
   "metadata": {},
   "outputs": [],
   "source": [
    "train_lag1_2_season, val_lag1_2_season = month_split(train_full_lag1_2_season, 33)"
   ]
  },
  {
   "cell_type": "code",
   "execution_count": 271,
   "metadata": {},
   "outputs": [],
   "source": [
    "dropped_train_lag1_lag2_season = train_lag1_2_season.drop(['shop_id','item_id','item_category_id','item_cnt_month','unique'], axis = 1)"
   ]
  },
  {
   "cell_type": "code",
   "execution_count": 272,
   "metadata": {},
   "outputs": [],
   "source": [
    "dropped_val_lag1_lag2_season = val_lag1_2_season.drop(['shop_id','item_id','item_category_id','item_cnt_month','unique'], axis = 1)"
   ]
  },
  {
   "cell_type": "code",
   "execution_count": 273,
   "metadata": {},
   "outputs": [
    {
     "data": {
      "text/plain": [
       "1577591"
      ]
     },
     "execution_count": 273,
     "metadata": {},
     "output_type": "execute_result"
    }
   ],
   "source": [
    "len(dropped_train_lag1_lag2_season)"
   ]
  },
  {
   "cell_type": "code",
   "execution_count": 274,
   "metadata": {},
   "outputs": [
    {
     "data": {
      "text/plain": [
       "1609122"
      ]
     },
     "execution_count": 274,
     "metadata": {},
     "output_type": "execute_result"
    }
   ],
   "source": [
    "len(train_full_lag1_2_season['item_cnt_month'])"
   ]
  },
  {
   "cell_type": "code",
   "execution_count": 275,
   "metadata": {},
   "outputs": [],
   "source": [
    "#Training with xgboost with default parameters\n",
    "xg_train = xgboost.DMatrix(dropped_train_lag1_lag2_season,label = train_lag1_2_season.copy()['item_cnt_month'])\n",
    "xg_val = xgboost.DMatrix(dropped_val_lag1_lag2_season,label = val_lag1_2_season.copy()['item_cnt_month'])"
   ]
  },
  {
   "cell_type": "code",
   "execution_count": 277,
   "metadata": {},
   "outputs": [],
   "source": [
    "param_set_2_lag_2_seasonal = {'max_depth': 1, 'eta': 0.05, 'silent': 1, 'objective': 'reg:linear', 'subsample' : 0.5,'eval_metric': 'rmse'}"
   ]
  },
  {
   "cell_type": "code",
   "execution_count": 305,
   "metadata": {},
   "outputs": [
    {
     "name": "stdout",
     "output_type": "stream",
     "text": [
      "[0]\ttrain_set-rmse:8.52987\tvalidation_set-rmse:14.5663\n",
      "Multiple eval metrics have been passed: 'validation_set-rmse' will be used for early stopping.\n",
      "\n",
      "Will train until validation_set-rmse hasn't improved in 10 rounds.\n",
      "[1]\ttrain_set-rmse:8.39853\tvalidation_set-rmse:14.5006\n",
      "[2]\ttrain_set-rmse:8.292\tvalidation_set-rmse:14.3993\n",
      "[3]\ttrain_set-rmse:8.18005\tvalidation_set-rmse:14.3387\n",
      "[4]\ttrain_set-rmse:8.0731\tvalidation_set-rmse:14.2877\n",
      "[5]\ttrain_set-rmse:7.98396\tvalidation_set-rmse:14.2028\n",
      "[6]\ttrain_set-rmse:7.89381\tvalidation_set-rmse:14.1605\n",
      "[7]\ttrain_set-rmse:7.80272\tvalidation_set-rmse:14.1134\n",
      "[8]\ttrain_set-rmse:7.72049\tvalidation_set-rmse:14.0306\n",
      "[9]\ttrain_set-rmse:7.64872\tvalidation_set-rmse:13.9944\n",
      "[10]\ttrain_set-rmse:7.57247\tvalidation_set-rmse:13.9471\n",
      "[11]\ttrain_set-rmse:7.50488\tvalidation_set-rmse:13.8918\n",
      "[12]\ttrain_set-rmse:7.44033\tvalidation_set-rmse:13.8788\n",
      "[13]\ttrain_set-rmse:7.37715\tvalidation_set-rmse:13.8174\n",
      "[14]\ttrain_set-rmse:7.31828\tvalidation_set-rmse:13.7865\n",
      "[15]\ttrain_set-rmse:7.26154\tvalidation_set-rmse:13.7589\n",
      "[16]\ttrain_set-rmse:7.20599\tvalidation_set-rmse:13.6972\n",
      "[17]\ttrain_set-rmse:7.15367\tvalidation_set-rmse:13.6667\n",
      "[18]\ttrain_set-rmse:7.1038\tvalidation_set-rmse:13.643\n",
      "[19]\ttrain_set-rmse:7.05676\tvalidation_set-rmse:13.6032\n",
      "[20]\ttrain_set-rmse:7.01324\tvalidation_set-rmse:13.5785\n",
      "[21]\ttrain_set-rmse:6.97072\tvalidation_set-rmse:13.5407\n",
      "[22]\ttrain_set-rmse:6.93121\tvalidation_set-rmse:13.5343\n",
      "[23]\ttrain_set-rmse:6.89456\tvalidation_set-rmse:13.518\n",
      "[24]\ttrain_set-rmse:6.8586\tvalidation_set-rmse:13.4612\n",
      "[25]\ttrain_set-rmse:6.8248\tvalidation_set-rmse:13.4261\n",
      "[26]\ttrain_set-rmse:6.79533\tvalidation_set-rmse:13.422\n",
      "[27]\ttrain_set-rmse:6.76329\tvalidation_set-rmse:13.3922\n",
      "[28]\ttrain_set-rmse:6.73554\tvalidation_set-rmse:13.3765\n",
      "[29]\ttrain_set-rmse:6.70819\tvalidation_set-rmse:13.3729\n",
      "[30]\ttrain_set-rmse:6.68268\tvalidation_set-rmse:13.3594\n",
      "[31]\ttrain_set-rmse:6.65803\tvalidation_set-rmse:13.3353\n",
      "[32]\ttrain_set-rmse:6.63531\tvalidation_set-rmse:13.3227\n",
      "[33]\ttrain_set-rmse:6.61325\tvalidation_set-rmse:13.3038\n",
      "[34]\ttrain_set-rmse:6.59129\tvalidation_set-rmse:13.3035\n",
      "[35]\ttrain_set-rmse:6.569\tvalidation_set-rmse:13.2965\n",
      "[36]\ttrain_set-rmse:6.55021\tvalidation_set-rmse:13.2963\n",
      "[37]\ttrain_set-rmse:6.5294\tvalidation_set-rmse:13.294\n",
      "[38]\ttrain_set-rmse:6.51121\tvalidation_set-rmse:13.2938\n",
      "[39]\ttrain_set-rmse:6.49349\tvalidation_set-rmse:13.2496\n",
      "[40]\ttrain_set-rmse:6.47518\tvalidation_set-rmse:13.2393\n",
      "[41]\ttrain_set-rmse:6.45857\tvalidation_set-rmse:13.2392\n",
      "[42]\ttrain_set-rmse:6.44199\tvalidation_set-rmse:13.2376\n",
      "[43]\ttrain_set-rmse:6.42572\tvalidation_set-rmse:13.2292\n",
      "[44]\ttrain_set-rmse:6.40992\tvalidation_set-rmse:13.2278\n",
      "[45]\ttrain_set-rmse:6.39472\tvalidation_set-rmse:13.2175\n",
      "[46]\ttrain_set-rmse:6.37993\tvalidation_set-rmse:13.2005\n",
      "[47]\ttrain_set-rmse:6.36802\tvalidation_set-rmse:13.1938\n",
      "[48]\ttrain_set-rmse:6.35454\tvalidation_set-rmse:13.1878\n",
      "[49]\ttrain_set-rmse:6.34152\tvalidation_set-rmse:13.1878\n",
      "[50]\ttrain_set-rmse:6.32946\tvalidation_set-rmse:13.1818\n",
      "[51]\ttrain_set-rmse:6.31703\tvalidation_set-rmse:13.1669\n",
      "[52]\ttrain_set-rmse:6.30608\tvalidation_set-rmse:13.1625\n",
      "[53]\ttrain_set-rmse:6.29611\tvalidation_set-rmse:13.1625\n",
      "[54]\ttrain_set-rmse:6.28469\tvalidation_set-rmse:13.1624\n",
      "[55]\ttrain_set-rmse:6.27399\tvalidation_set-rmse:13.1544\n",
      "[56]\ttrain_set-rmse:6.26358\tvalidation_set-rmse:13.1414\n",
      "[57]\ttrain_set-rmse:6.25362\tvalidation_set-rmse:13.1413\n",
      "[58]\ttrain_set-rmse:6.24391\tvalidation_set-rmse:13.1371\n",
      "[59]\ttrain_set-rmse:6.23472\tvalidation_set-rmse:13.1339\n",
      "[60]\ttrain_set-rmse:6.2252\tvalidation_set-rmse:13.1307\n",
      "[61]\ttrain_set-rmse:6.21738\tvalidation_set-rmse:13.1307\n",
      "[62]\ttrain_set-rmse:6.21004\tvalidation_set-rmse:13.1302\n",
      "[63]\ttrain_set-rmse:6.20352\tvalidation_set-rmse:13.1302\n",
      "[64]\ttrain_set-rmse:6.19511\tvalidation_set-rmse:13.1268\n",
      "[65]\ttrain_set-rmse:6.18749\tvalidation_set-rmse:13.1224\n",
      "[66]\ttrain_set-rmse:6.18016\tvalidation_set-rmse:13.1195\n",
      "[67]\ttrain_set-rmse:6.17401\tvalidation_set-rmse:13.1194\n",
      "[68]\ttrain_set-rmse:6.1676\tvalidation_set-rmse:13.1111\n",
      "[69]\ttrain_set-rmse:6.16124\tvalidation_set-rmse:13.1018\n",
      "[70]\ttrain_set-rmse:6.15479\tvalidation_set-rmse:13.0993\n",
      "[71]\ttrain_set-rmse:6.14895\tvalidation_set-rmse:13.097\n",
      "[72]\ttrain_set-rmse:6.14319\tvalidation_set-rmse:13.0882\n",
      "[73]\ttrain_set-rmse:6.1375\tvalidation_set-rmse:13.0842\n",
      "[74]\ttrain_set-rmse:6.13194\tvalidation_set-rmse:13.0842\n",
      "[75]\ttrain_set-rmse:6.12652\tvalidation_set-rmse:13.0819\n",
      "[76]\ttrain_set-rmse:6.12174\tvalidation_set-rmse:13.0819\n",
      "[77]\ttrain_set-rmse:6.11677\tvalidation_set-rmse:13.0799\n",
      "[78]\ttrain_set-rmse:6.11162\tvalidation_set-rmse:13.0779\n",
      "[79]\ttrain_set-rmse:6.10683\tvalidation_set-rmse:13.076\n",
      "[80]\ttrain_set-rmse:6.10093\tvalidation_set-rmse:13.076\n",
      "[81]\ttrain_set-rmse:6.09659\tvalidation_set-rmse:13.0743\n",
      "[82]\ttrain_set-rmse:6.09232\tvalidation_set-rmse:13.0743\n",
      "[83]\ttrain_set-rmse:6.0878\tvalidation_set-rmse:13.0716\n",
      "[84]\ttrain_set-rmse:6.08366\tvalidation_set-rmse:13.0716\n",
      "[85]\ttrain_set-rmse:6.07937\tvalidation_set-rmse:13.0531\n",
      "[86]\ttrain_set-rmse:6.07558\tvalidation_set-rmse:13.0388\n",
      "[87]\ttrain_set-rmse:6.07235\tvalidation_set-rmse:13.0388\n",
      "[88]\ttrain_set-rmse:6.06827\tvalidation_set-rmse:13.0367\n",
      "[89]\ttrain_set-rmse:6.06522\tvalidation_set-rmse:13.0367\n",
      "[90]\ttrain_set-rmse:6.06136\tvalidation_set-rmse:13.0351\n",
      "[91]\ttrain_set-rmse:6.05767\tvalidation_set-rmse:13.0337\n",
      "[92]\ttrain_set-rmse:6.05545\tvalidation_set-rmse:13.0336\n",
      "[93]\ttrain_set-rmse:6.05309\tvalidation_set-rmse:13.0336\n",
      "[94]\ttrain_set-rmse:6.04957\tvalidation_set-rmse:13.0292\n",
      "[95]\ttrain_set-rmse:6.04621\tvalidation_set-rmse:13.0279\n",
      "[96]\ttrain_set-rmse:6.0436\tvalidation_set-rmse:13.0257\n",
      "[97]\ttrain_set-rmse:6.04177\tvalidation_set-rmse:13.0257\n",
      "[98]\ttrain_set-rmse:6.0386\tvalidation_set-rmse:13.0244\n",
      "[99]\ttrain_set-rmse:6.03544\tvalidation_set-rmse:13.0195\n",
      "[100]\ttrain_set-rmse:6.0321\tvalidation_set-rmse:13.0141\n",
      "[101]\ttrain_set-rmse:6.02915\tvalidation_set-rmse:13.0128\n",
      "[102]\ttrain_set-rmse:6.02796\tvalidation_set-rmse:13.0128\n",
      "[103]\ttrain_set-rmse:6.02524\tvalidation_set-rmse:13.0091\n",
      "[104]\ttrain_set-rmse:6.02253\tvalidation_set-rmse:13.0047\n",
      "[105]\ttrain_set-rmse:6.02028\tvalidation_set-rmse:13.0047\n",
      "[106]\ttrain_set-rmse:6.01751\tvalidation_set-rmse:13.0035\n",
      "[107]\ttrain_set-rmse:6.01578\tvalidation_set-rmse:13.0035\n",
      "[108]\ttrain_set-rmse:6.01418\tvalidation_set-rmse:13.0035\n",
      "[109]\ttrain_set-rmse:6.0117\tvalidation_set-rmse:13.0035\n",
      "[110]\ttrain_set-rmse:6.00902\tvalidation_set-rmse:13.0025\n",
      "[111]\ttrain_set-rmse:6.0066\tvalidation_set-rmse:13.0006\n",
      "[112]\ttrain_set-rmse:6.00411\tvalidation_set-rmse:12.9996\n",
      "[113]\ttrain_set-rmse:6.00183\tvalidation_set-rmse:12.9986\n",
      "[114]\ttrain_set-rmse:5.99961\tvalidation_set-rmse:12.9968\n",
      "[115]\ttrain_set-rmse:5.99922\tvalidation_set-rmse:12.9968\n",
      "[116]\ttrain_set-rmse:5.99718\tvalidation_set-rmse:12.9918\n",
      "[117]\ttrain_set-rmse:5.99674\tvalidation_set-rmse:12.9918\n",
      "[118]\ttrain_set-rmse:5.99455\tvalidation_set-rmse:12.9918\n",
      "[119]\ttrain_set-rmse:5.99451\tvalidation_set-rmse:12.9918\n",
      "[120]\ttrain_set-rmse:5.99309\tvalidation_set-rmse:12.9918\n",
      "[121]\ttrain_set-rmse:5.99162\tvalidation_set-rmse:12.9918\n",
      "[122]\ttrain_set-rmse:5.9904\tvalidation_set-rmse:12.9918\n",
      "[123]\ttrain_set-rmse:5.98862\tvalidation_set-rmse:12.9918\n",
      "[124]\ttrain_set-rmse:5.98687\tvalidation_set-rmse:12.9906\n",
      "[125]\ttrain_set-rmse:5.98567\tvalidation_set-rmse:12.9906\n",
      "[126]\ttrain_set-rmse:5.98393\tvalidation_set-rmse:12.9906\n",
      "[127]\ttrain_set-rmse:5.98221\tvalidation_set-rmse:12.9906\n",
      "[128]\ttrain_set-rmse:5.98056\tvalidation_set-rmse:12.9835\n",
      "[129]\ttrain_set-rmse:5.97855\tvalidation_set-rmse:12.983\n",
      "[130]\ttrain_set-rmse:5.9781\tvalidation_set-rmse:12.983\n",
      "[131]\ttrain_set-rmse:5.97721\tvalidation_set-rmse:12.983\n",
      "[132]\ttrain_set-rmse:5.97523\tvalidation_set-rmse:12.9823\n",
      "[133]\ttrain_set-rmse:5.97328\tvalidation_set-rmse:12.9815\n",
      "[134]\ttrain_set-rmse:5.97201\tvalidation_set-rmse:12.9804\n",
      "[135]\ttrain_set-rmse:5.97016\tvalidation_set-rmse:12.9796\n",
      "[136]\ttrain_set-rmse:5.9683\tvalidation_set-rmse:12.9757\n",
      "[137]\ttrain_set-rmse:5.9682\tvalidation_set-rmse:12.9757\n",
      "[138]\ttrain_set-rmse:5.96662\tvalidation_set-rmse:12.9757\n",
      "[139]\ttrain_set-rmse:5.9648\tvalidation_set-rmse:12.9749\n",
      "[140]\ttrain_set-rmse:5.96313\tvalidation_set-rmse:12.9749\n",
      "[141]\ttrain_set-rmse:5.96149\tvalidation_set-rmse:12.9742\n",
      "[142]\ttrain_set-rmse:5.96006\tvalidation_set-rmse:12.9742\n",
      "[143]\ttrain_set-rmse:5.95845\tvalidation_set-rmse:12.9735\n"
     ]
    },
    {
     "name": "stdout",
     "output_type": "stream",
     "text": [
      "[144]\ttrain_set-rmse:5.9572\tvalidation_set-rmse:12.9735\n",
      "[145]\ttrain_set-rmse:5.95609\tvalidation_set-rmse:12.9735\n",
      "[146]\ttrain_set-rmse:5.95408\tvalidation_set-rmse:12.9735\n",
      "[147]\ttrain_set-rmse:5.9529\tvalidation_set-rmse:12.9735\n",
      "[148]\ttrain_set-rmse:5.95109\tvalidation_set-rmse:12.9735\n",
      "[149]\ttrain_set-rmse:5.94963\tvalidation_set-rmse:12.9704\n",
      "[150]\ttrain_set-rmse:5.94891\tvalidation_set-rmse:12.9704\n",
      "[151]\ttrain_set-rmse:5.94753\tvalidation_set-rmse:12.9704\n",
      "[152]\ttrain_set-rmse:5.94616\tvalidation_set-rmse:12.9691\n",
      "[153]\ttrain_set-rmse:5.94497\tvalidation_set-rmse:12.9684\n",
      "[154]\ttrain_set-rmse:5.94367\tvalidation_set-rmse:12.9684\n",
      "[155]\ttrain_set-rmse:5.94244\tvalidation_set-rmse:12.9684\n",
      "[156]\ttrain_set-rmse:5.9417\tvalidation_set-rmse:12.9684\n",
      "[157]\ttrain_set-rmse:5.94062\tvalidation_set-rmse:12.9684\n",
      "[158]\ttrain_set-rmse:5.93911\tvalidation_set-rmse:12.9684\n",
      "[159]\ttrain_set-rmse:5.93895\tvalidation_set-rmse:12.9684\n",
      "[160]\ttrain_set-rmse:5.93763\tvalidation_set-rmse:12.9684\n",
      "[161]\ttrain_set-rmse:5.93714\tvalidation_set-rmse:12.9684\n",
      "[162]\ttrain_set-rmse:5.93619\tvalidation_set-rmse:12.9684\n",
      "[163]\ttrain_set-rmse:5.93572\tvalidation_set-rmse:12.9684\n",
      "[164]\ttrain_set-rmse:5.93519\tvalidation_set-rmse:12.9674\n",
      "[165]\ttrain_set-rmse:5.93445\tvalidation_set-rmse:12.9674\n",
      "[166]\ttrain_set-rmse:5.93355\tvalidation_set-rmse:12.9674\n",
      "[167]\ttrain_set-rmse:5.93263\tvalidation_set-rmse:12.9676\n",
      "[168]\ttrain_set-rmse:5.93167\tvalidation_set-rmse:12.9668\n",
      "[169]\ttrain_set-rmse:5.9301\tvalidation_set-rmse:12.9662\n",
      "[170]\ttrain_set-rmse:5.92867\tvalidation_set-rmse:12.9657\n",
      "[171]\ttrain_set-rmse:5.92727\tvalidation_set-rmse:12.9653\n",
      "[172]\ttrain_set-rmse:5.92615\tvalidation_set-rmse:12.9653\n",
      "[173]\ttrain_set-rmse:5.92626\tvalidation_set-rmse:12.9653\n",
      "[174]\ttrain_set-rmse:5.92526\tvalidation_set-rmse:12.9653\n",
      "[175]\ttrain_set-rmse:5.92469\tvalidation_set-rmse:12.9653\n",
      "[176]\ttrain_set-rmse:5.92329\tvalidation_set-rmse:12.9647\n",
      "[177]\ttrain_set-rmse:5.92208\tvalidation_set-rmse:12.9647\n",
      "[178]\ttrain_set-rmse:5.92108\tvalidation_set-rmse:12.9647\n",
      "[179]\ttrain_set-rmse:5.91978\tvalidation_set-rmse:12.9642\n",
      "[180]\ttrain_set-rmse:5.91876\tvalidation_set-rmse:12.9642\n",
      "[181]\ttrain_set-rmse:5.91796\tvalidation_set-rmse:12.9642\n",
      "[182]\ttrain_set-rmse:5.91667\tvalidation_set-rmse:12.9637\n",
      "[183]\ttrain_set-rmse:5.91573\tvalidation_set-rmse:12.9637\n",
      "[184]\ttrain_set-rmse:5.91551\tvalidation_set-rmse:12.9637\n",
      "[185]\ttrain_set-rmse:5.91423\tvalidation_set-rmse:12.9628\n",
      "[186]\ttrain_set-rmse:5.91352\tvalidation_set-rmse:12.9628\n",
      "[187]\ttrain_set-rmse:5.91224\tvalidation_set-rmse:12.9619\n",
      "[188]\ttrain_set-rmse:5.91128\tvalidation_set-rmse:12.9619\n",
      "[189]\ttrain_set-rmse:5.91071\tvalidation_set-rmse:12.9619\n",
      "[190]\ttrain_set-rmse:5.90965\tvalidation_set-rmse:12.9619\n",
      "[191]\ttrain_set-rmse:5.90925\tvalidation_set-rmse:12.9609\n",
      "[192]\ttrain_set-rmse:5.90876\tvalidation_set-rmse:12.9609\n",
      "[193]\ttrain_set-rmse:5.90759\tvalidation_set-rmse:12.9602\n",
      "[194]\ttrain_set-rmse:5.90671\tvalidation_set-rmse:12.9602\n",
      "[195]\ttrain_set-rmse:5.90574\tvalidation_set-rmse:12.9602\n",
      "[196]\ttrain_set-rmse:5.90566\tvalidation_set-rmse:12.96\n",
      "[197]\ttrain_set-rmse:5.90495\tvalidation_set-rmse:12.96\n",
      "[198]\ttrain_set-rmse:5.90443\tvalidation_set-rmse:12.96\n",
      "[199]\ttrain_set-rmse:5.90345\tvalidation_set-rmse:12.9578\n",
      "[200]\ttrain_set-rmse:5.90304\tvalidation_set-rmse:12.9578\n",
      "[201]\ttrain_set-rmse:5.90192\tvalidation_set-rmse:12.9573\n",
      "[202]\ttrain_set-rmse:5.90221\tvalidation_set-rmse:12.9573\n",
      "[203]\ttrain_set-rmse:5.90201\tvalidation_set-rmse:12.9573\n",
      "[204]\ttrain_set-rmse:5.90171\tvalidation_set-rmse:12.9573\n",
      "[205]\ttrain_set-rmse:5.90135\tvalidation_set-rmse:12.9573\n",
      "[206]\ttrain_set-rmse:5.90031\tvalidation_set-rmse:12.9568\n",
      "[207]\ttrain_set-rmse:5.89928\tvalidation_set-rmse:12.9565\n",
      "[208]\ttrain_set-rmse:5.89933\tvalidation_set-rmse:12.9565\n",
      "[209]\ttrain_set-rmse:5.89862\tvalidation_set-rmse:12.9565\n",
      "[210]\ttrain_set-rmse:5.89809\tvalidation_set-rmse:12.9565\n",
      "[211]\ttrain_set-rmse:5.89741\tvalidation_set-rmse:12.9565\n",
      "[212]\ttrain_set-rmse:5.89708\tvalidation_set-rmse:12.9565\n",
      "[213]\ttrain_set-rmse:5.89617\tvalidation_set-rmse:12.9562\n",
      "[214]\ttrain_set-rmse:5.89625\tvalidation_set-rmse:12.9562\n",
      "[215]\ttrain_set-rmse:5.89617\tvalidation_set-rmse:12.9562\n",
      "[216]\ttrain_set-rmse:5.89567\tvalidation_set-rmse:12.9562\n",
      "[217]\ttrain_set-rmse:5.89557\tvalidation_set-rmse:12.9564\n",
      "[218]\ttrain_set-rmse:5.89556\tvalidation_set-rmse:12.9564\n",
      "[219]\ttrain_set-rmse:5.89518\tvalidation_set-rmse:12.9564\n",
      "[220]\ttrain_set-rmse:5.89479\tvalidation_set-rmse:12.9564\n",
      "[221]\ttrain_set-rmse:5.89385\tvalidation_set-rmse:12.9564\n",
      "[222]\ttrain_set-rmse:5.893\tvalidation_set-rmse:12.9564\n",
      "[223]\ttrain_set-rmse:5.8926\tvalidation_set-rmse:12.9564\n",
      "Stopping. Best iteration:\n",
      "[213]\ttrain_set-rmse:5.89617\tvalidation_set-rmse:12.9562\n",
      "\n"
     ]
    }
   ],
   "source": [
    "progress_1_05_lag1_lag2_seasonal = {}\n",
    "xg_model_1_05_lag1_lag2_seasonal = xgboost.train(param_set_2_lag_2_seasonal , xg_train,early_stopping_rounds=10,evals = [(xg_train , \"train_set\"),(xg_val,\"validation_set\")], evals_result=progress_1_05_lag1_lag2_seasonal ,num_boost_round=1000)"
   ]
  },
  {
   "cell_type": "code",
   "execution_count": 331,
   "metadata": {},
   "outputs": [
    {
     "name": "stdout",
     "output_type": "stream",
     "text": [
      "[0]\ttrain_set-rmse:8.45927\tvalidation_set-rmse:14.519\n",
      "Multiple eval metrics have been passed: 'validation_set-rmse' will be used for early stopping.\n",
      "\n",
      "Will train until validation_set-rmse hasn't improved in 10 rounds.\n",
      "[1]\ttrain_set-rmse:8.2533\tvalidation_set-rmse:14.4085\n",
      "[2]\ttrain_set-rmse:8.07555\tvalidation_set-rmse:14.2536\n",
      "[3]\ttrain_set-rmse:7.89463\tvalidation_set-rmse:14.1427\n",
      "[4]\ttrain_set-rmse:7.73412\tvalidation_set-rmse:14.0619\n",
      "[5]\ttrain_set-rmse:7.57739\tvalidation_set-rmse:13.9763\n",
      "[6]\ttrain_set-rmse:7.43426\tvalidation_set-rmse:13.901\n",
      "[7]\ttrain_set-rmse:7.29858\tvalidation_set-rmse:13.8252\n",
      "[8]\ttrain_set-rmse:7.17465\tvalidation_set-rmse:13.7604\n",
      "[9]\ttrain_set-rmse:7.06157\tvalidation_set-rmse:13.6747\n",
      "[10]\ttrain_set-rmse:6.95517\tvalidation_set-rmse:13.5985\n",
      "[11]\ttrain_set-rmse:6.86179\tvalidation_set-rmse:13.5481\n",
      "[12]\ttrain_set-rmse:6.76653\tvalidation_set-rmse:13.4877\n",
      "[13]\ttrain_set-rmse:6.67735\tvalidation_set-rmse:13.4222\n",
      "[14]\ttrain_set-rmse:6.59555\tvalidation_set-rmse:13.3764\n",
      "[15]\ttrain_set-rmse:6.522\tvalidation_set-rmse:13.3343\n",
      "[16]\ttrain_set-rmse:6.44957\tvalidation_set-rmse:13.2863\n",
      "[17]\ttrain_set-rmse:6.38854\tvalidation_set-rmse:13.2568\n",
      "[18]\ttrain_set-rmse:6.32796\tvalidation_set-rmse:13.2025\n",
      "[19]\ttrain_set-rmse:6.27531\tvalidation_set-rmse:13.1574\n",
      "[20]\ttrain_set-rmse:6.22474\tvalidation_set-rmse:13.1168\n",
      "[21]\ttrain_set-rmse:6.17926\tvalidation_set-rmse:13.0665\n",
      "[22]\ttrain_set-rmse:6.13682\tvalidation_set-rmse:13.0523\n",
      "[23]\ttrain_set-rmse:6.09766\tvalidation_set-rmse:13.0389\n",
      "[24]\ttrain_set-rmse:6.05811\tvalidation_set-rmse:12.9989\n",
      "[25]\ttrain_set-rmse:6.0258\tvalidation_set-rmse:12.9732\n",
      "[26]\ttrain_set-rmse:5.99527\tvalidation_set-rmse:12.956\n",
      "[27]\ttrain_set-rmse:5.96765\tvalidation_set-rmse:12.9339\n",
      "[28]\ttrain_set-rmse:5.93993\tvalidation_set-rmse:12.927\n",
      "[29]\ttrain_set-rmse:5.9139\tvalidation_set-rmse:12.8924\n",
      "[30]\ttrain_set-rmse:5.89165\tvalidation_set-rmse:12.8783\n",
      "[31]\ttrain_set-rmse:5.86996\tvalidation_set-rmse:12.857\n",
      "[32]\ttrain_set-rmse:5.84963\tvalidation_set-rmse:12.8461\n",
      "[33]\ttrain_set-rmse:5.82387\tvalidation_set-rmse:12.8396\n",
      "[34]\ttrain_set-rmse:5.80358\tvalidation_set-rmse:12.8276\n",
      "[35]\ttrain_set-rmse:5.78645\tvalidation_set-rmse:12.8214\n",
      "[36]\ttrain_set-rmse:5.76796\tvalidation_set-rmse:12.81\n",
      "[37]\ttrain_set-rmse:5.75009\tvalidation_set-rmse:12.8093\n",
      "[38]\ttrain_set-rmse:5.73372\tvalidation_set-rmse:12.8035\n",
      "[39]\ttrain_set-rmse:5.71915\tvalidation_set-rmse:12.7867\n",
      "[40]\ttrain_set-rmse:5.70926\tvalidation_set-rmse:12.7817\n",
      "[41]\ttrain_set-rmse:5.69749\tvalidation_set-rmse:12.7695\n",
      "[42]\ttrain_set-rmse:5.68634\tvalidation_set-rmse:12.7673\n",
      "[43]\ttrain_set-rmse:5.67697\tvalidation_set-rmse:12.763\n",
      "[44]\ttrain_set-rmse:5.66656\tvalidation_set-rmse:12.7619\n",
      "[45]\ttrain_set-rmse:5.65658\tvalidation_set-rmse:12.7585\n",
      "[46]\ttrain_set-rmse:5.64974\tvalidation_set-rmse:12.7566\n",
      "[47]\ttrain_set-rmse:5.63697\tvalidation_set-rmse:12.7556\n",
      "[48]\ttrain_set-rmse:5.6296\tvalidation_set-rmse:12.7472\n",
      "[49]\ttrain_set-rmse:5.6195\tvalidation_set-rmse:12.745\n",
      "[50]\ttrain_set-rmse:5.61051\tvalidation_set-rmse:12.7432\n",
      "[51]\ttrain_set-rmse:5.60392\tvalidation_set-rmse:12.7388\n",
      "[52]\ttrain_set-rmse:5.59695\tvalidation_set-rmse:12.7485\n",
      "[53]\ttrain_set-rmse:5.58837\tvalidation_set-rmse:12.7479\n",
      "[54]\ttrain_set-rmse:5.58052\tvalidation_set-rmse:12.7474\n",
      "[55]\ttrain_set-rmse:5.57027\tvalidation_set-rmse:12.7465\n",
      "[56]\ttrain_set-rmse:5.564\tvalidation_set-rmse:12.7462\n",
      "[57]\ttrain_set-rmse:5.55824\tvalidation_set-rmse:12.7457\n",
      "[58]\ttrain_set-rmse:5.55049\tvalidation_set-rmse:12.7419\n",
      "[59]\ttrain_set-rmse:5.54467\tvalidation_set-rmse:12.738\n",
      "[60]\ttrain_set-rmse:5.54058\tvalidation_set-rmse:12.737\n",
      "[61]\ttrain_set-rmse:5.53656\tvalidation_set-rmse:12.7363\n",
      "[62]\ttrain_set-rmse:5.52784\tvalidation_set-rmse:12.7345\n",
      "[63]\ttrain_set-rmse:5.52618\tvalidation_set-rmse:12.7344\n",
      "[64]\ttrain_set-rmse:5.52203\tvalidation_set-rmse:12.7335\n",
      "[65]\ttrain_set-rmse:5.5196\tvalidation_set-rmse:12.7326\n",
      "[66]\ttrain_set-rmse:5.51405\tvalidation_set-rmse:12.7313\n",
      "[67]\ttrain_set-rmse:5.51068\tvalidation_set-rmse:12.7313\n",
      "[68]\ttrain_set-rmse:5.50493\tvalidation_set-rmse:12.7278\n",
      "[69]\ttrain_set-rmse:5.50245\tvalidation_set-rmse:12.727\n",
      "[70]\ttrain_set-rmse:5.50162\tvalidation_set-rmse:12.727\n",
      "[71]\ttrain_set-rmse:5.49907\tvalidation_set-rmse:12.7266\n",
      "[72]\ttrain_set-rmse:5.49311\tvalidation_set-rmse:12.7218\n",
      "[73]\ttrain_set-rmse:5.48914\tvalidation_set-rmse:12.6816\n",
      "[74]\ttrain_set-rmse:5.48416\tvalidation_set-rmse:12.6814\n",
      "[75]\ttrain_set-rmse:5.48101\tvalidation_set-rmse:12.6814\n",
      "[76]\ttrain_set-rmse:5.47922\tvalidation_set-rmse:12.6811\n",
      "[77]\ttrain_set-rmse:5.47681\tvalidation_set-rmse:12.681\n",
      "[78]\ttrain_set-rmse:5.4733\tvalidation_set-rmse:12.681\n",
      "[79]\ttrain_set-rmse:5.47164\tvalidation_set-rmse:12.6837\n",
      "[80]\ttrain_set-rmse:5.46975\tvalidation_set-rmse:12.6837\n",
      "[81]\ttrain_set-rmse:5.46557\tvalidation_set-rmse:12.6813\n",
      "[82]\ttrain_set-rmse:5.46345\tvalidation_set-rmse:12.678\n",
      "[83]\ttrain_set-rmse:5.45591\tvalidation_set-rmse:12.6808\n",
      "[84]\ttrain_set-rmse:5.45317\tvalidation_set-rmse:12.6803\n",
      "[85]\ttrain_set-rmse:5.44878\tvalidation_set-rmse:12.6791\n",
      "[86]\ttrain_set-rmse:5.44452\tvalidation_set-rmse:12.6679\n",
      "[87]\ttrain_set-rmse:5.44238\tvalidation_set-rmse:12.6647\n",
      "[88]\ttrain_set-rmse:5.44001\tvalidation_set-rmse:12.6647\n",
      "[89]\ttrain_set-rmse:5.43892\tvalidation_set-rmse:12.6647\n",
      "[90]\ttrain_set-rmse:5.43827\tvalidation_set-rmse:12.6644\n",
      "[91]\ttrain_set-rmse:5.43779\tvalidation_set-rmse:12.6644\n",
      "[92]\ttrain_set-rmse:5.43511\tvalidation_set-rmse:12.6639\n",
      "[93]\ttrain_set-rmse:5.43289\tvalidation_set-rmse:12.6639\n",
      "[94]\ttrain_set-rmse:5.43058\tvalidation_set-rmse:12.6639\n",
      "[95]\ttrain_set-rmse:5.42751\tvalidation_set-rmse:12.6631\n",
      "[96]\ttrain_set-rmse:5.42446\tvalidation_set-rmse:12.663\n",
      "[97]\ttrain_set-rmse:5.42421\tvalidation_set-rmse:12.663\n",
      "[98]\ttrain_set-rmse:5.42156\tvalidation_set-rmse:12.663\n",
      "[99]\ttrain_set-rmse:5.41963\tvalidation_set-rmse:12.663\n",
      "[100]\ttrain_set-rmse:5.41638\tvalidation_set-rmse:12.6616\n",
      "[101]\ttrain_set-rmse:5.4157\tvalidation_set-rmse:12.6616\n",
      "[102]\ttrain_set-rmse:5.41446\tvalidation_set-rmse:12.6614\n",
      "[103]\ttrain_set-rmse:5.41344\tvalidation_set-rmse:12.6611\n",
      "[104]\ttrain_set-rmse:5.41119\tvalidation_set-rmse:12.6611\n",
      "[105]\ttrain_set-rmse:5.41029\tvalidation_set-rmse:12.6611\n",
      "[106]\ttrain_set-rmse:5.40955\tvalidation_set-rmse:12.6611\n",
      "[107]\ttrain_set-rmse:5.40735\tvalidation_set-rmse:12.6629\n",
      "[108]\ttrain_set-rmse:5.40674\tvalidation_set-rmse:12.6629\n",
      "[109]\ttrain_set-rmse:5.40558\tvalidation_set-rmse:12.6629\n",
      "[110]\ttrain_set-rmse:5.40303\tvalidation_set-rmse:12.6629\n",
      "[111]\ttrain_set-rmse:5.40193\tvalidation_set-rmse:12.6629\n",
      "[112]\ttrain_set-rmse:5.40145\tvalidation_set-rmse:12.6628\n",
      "[113]\ttrain_set-rmse:5.39991\tvalidation_set-rmse:12.6621\n",
      "[114]\ttrain_set-rmse:5.39411\tvalidation_set-rmse:12.6617\n",
      "[115]\ttrain_set-rmse:5.39301\tvalidation_set-rmse:12.6681\n",
      "[116]\ttrain_set-rmse:5.39208\tvalidation_set-rmse:12.6683\n",
      "Stopping. Best iteration:\n",
      "[106]\ttrain_set-rmse:5.40955\tvalidation_set-rmse:12.6611\n",
      "\n"
     ]
    }
   ],
   "source": [
    "param_set_3_lag_2_seasonal = {'max_depth': 3, 'eta': 0.05, 'silent': 1, 'objective': 'reg:linear', 'subsample' : 0.5,'eval_metric': 'rmse'}\n",
    "progress_2_05_lag1_lag2_seasonal = {}\n",
    "xg_model_2_05_lag1_lag2_seasonal = xgboost.train(param_set_3_lag_2_seasonal , xg_train,early_stopping_rounds=10,evals = [(xg_train , \"train_set\"),(xg_val,\"validation_set\")], evals_result=progress_2_05_lag1_lag2_seasonal ,num_boost_round=1000)"
   ]
  },
  {
   "cell_type": "code",
   "execution_count": 343,
   "metadata": {},
   "outputs": [
    {
     "name": "stdout",
     "output_type": "stream",
     "text": [
      "[0]\ttrain_set-rmse:8.44601\tvalidation_set-rmse:14.5052\n",
      "Multiple eval metrics have been passed: 'validation_set-rmse' will be used for early stopping.\n",
      "\n",
      "Will train until validation_set-rmse hasn't improved in 30 rounds.\n",
      "[1]\ttrain_set-rmse:8.22514\tvalidation_set-rmse:14.3928\n",
      "[2]\ttrain_set-rmse:8.03102\tvalidation_set-rmse:14.2065\n",
      "[3]\ttrain_set-rmse:7.84188\tvalidation_set-rmse:14.0978\n",
      "[4]\ttrain_set-rmse:7.66995\tvalidation_set-rmse:14.0006\n",
      "[5]\ttrain_set-rmse:7.50113\tvalidation_set-rmse:13.9184\n",
      "[6]\ttrain_set-rmse:7.3416\tvalidation_set-rmse:13.8485\n",
      "[7]\ttrain_set-rmse:7.19937\tvalidation_set-rmse:13.7493\n",
      "[8]\ttrain_set-rmse:7.06941\tvalidation_set-rmse:13.6492\n",
      "[9]\ttrain_set-rmse:6.95356\tvalidation_set-rmse:13.4802\n",
      "[10]\ttrain_set-rmse:6.8364\tvalidation_set-rmse:13.434\n",
      "[11]\ttrain_set-rmse:6.73604\tvalidation_set-rmse:13.371\n",
      "[12]\ttrain_set-rmse:6.63657\tvalidation_set-rmse:13.3434\n",
      "[13]\ttrain_set-rmse:6.53602\tvalidation_set-rmse:13.3052\n",
      "[14]\ttrain_set-rmse:6.44719\tvalidation_set-rmse:13.2533\n",
      "[15]\ttrain_set-rmse:6.37155\tvalidation_set-rmse:13.2237\n",
      "[16]\ttrain_set-rmse:6.29466\tvalidation_set-rmse:13.1825\n",
      "[17]\ttrain_set-rmse:6.22821\tvalidation_set-rmse:13.151\n",
      "[18]\ttrain_set-rmse:6.16524\tvalidation_set-rmse:13.1145\n",
      "[19]\ttrain_set-rmse:6.11029\tvalidation_set-rmse:13.0743\n",
      "[20]\ttrain_set-rmse:6.05585\tvalidation_set-rmse:13.0361\n",
      "[21]\ttrain_set-rmse:6.00741\tvalidation_set-rmse:12.9531\n",
      "[22]\ttrain_set-rmse:5.96124\tvalidation_set-rmse:12.9306\n",
      "[23]\ttrain_set-rmse:5.91709\tvalidation_set-rmse:12.9112\n",
      "[24]\ttrain_set-rmse:5.87526\tvalidation_set-rmse:12.8844\n",
      "[25]\ttrain_set-rmse:5.84173\tvalidation_set-rmse:12.873\n",
      "[26]\ttrain_set-rmse:5.80754\tvalidation_set-rmse:12.857\n",
      "[27]\ttrain_set-rmse:5.77692\tvalidation_set-rmse:12.8581\n",
      "[28]\ttrain_set-rmse:5.74733\tvalidation_set-rmse:12.8481\n",
      "[29]\ttrain_set-rmse:5.71769\tvalidation_set-rmse:12.8095\n",
      "[30]\ttrain_set-rmse:5.6887\tvalidation_set-rmse:12.7965\n",
      "[31]\ttrain_set-rmse:5.66486\tvalidation_set-rmse:12.7896\n",
      "[32]\ttrain_set-rmse:5.64248\tvalidation_set-rmse:12.7824\n",
      "[33]\ttrain_set-rmse:5.62191\tvalidation_set-rmse:12.7762\n",
      "[34]\ttrain_set-rmse:5.60019\tvalidation_set-rmse:12.7661\n",
      "[35]\ttrain_set-rmse:5.58101\tvalidation_set-rmse:12.7598\n",
      "[36]\ttrain_set-rmse:5.56231\tvalidation_set-rmse:12.7467\n",
      "[37]\ttrain_set-rmse:5.54434\tvalidation_set-rmse:12.7444\n",
      "[38]\ttrain_set-rmse:5.52797\tvalidation_set-rmse:12.7372\n",
      "[39]\ttrain_set-rmse:5.51093\tvalidation_set-rmse:12.7081\n",
      "[40]\ttrain_set-rmse:5.49796\tvalidation_set-rmse:12.7051\n",
      "[41]\ttrain_set-rmse:5.48492\tvalidation_set-rmse:12.6952\n",
      "[42]\ttrain_set-rmse:5.46236\tvalidation_set-rmse:12.6906\n",
      "[43]\ttrain_set-rmse:5.45192\tvalidation_set-rmse:12.6696\n",
      "[44]\ttrain_set-rmse:5.44107\tvalidation_set-rmse:12.6665\n",
      "[45]\ttrain_set-rmse:5.42876\tvalidation_set-rmse:12.6629\n",
      "[46]\ttrain_set-rmse:5.42033\tvalidation_set-rmse:12.6589\n",
      "[47]\ttrain_set-rmse:5.40716\tvalidation_set-rmse:12.6574\n",
      "[48]\ttrain_set-rmse:5.40084\tvalidation_set-rmse:12.6468\n",
      "[49]\ttrain_set-rmse:5.38981\tvalidation_set-rmse:12.6456\n",
      "[50]\ttrain_set-rmse:5.38\tvalidation_set-rmse:12.643\n",
      "[51]\ttrain_set-rmse:5.37316\tvalidation_set-rmse:12.6352\n",
      "[52]\ttrain_set-rmse:5.36565\tvalidation_set-rmse:12.6277\n",
      "[53]\ttrain_set-rmse:5.35786\tvalidation_set-rmse:12.6271\n",
      "[54]\ttrain_set-rmse:5.35\tvalidation_set-rmse:12.6159\n",
      "[55]\ttrain_set-rmse:5.34007\tvalidation_set-rmse:12.6131\n",
      "[56]\ttrain_set-rmse:5.33581\tvalidation_set-rmse:12.6091\n",
      "[57]\ttrain_set-rmse:5.33096\tvalidation_set-rmse:12.6032\n",
      "[58]\ttrain_set-rmse:5.32385\tvalidation_set-rmse:12.5989\n",
      "[59]\ttrain_set-rmse:5.31763\tvalidation_set-rmse:12.5681\n",
      "[60]\ttrain_set-rmse:5.31176\tvalidation_set-rmse:12.5671\n",
      "[61]\ttrain_set-rmse:5.30598\tvalidation_set-rmse:12.5665\n",
      "[62]\ttrain_set-rmse:5.30022\tvalidation_set-rmse:12.5665\n",
      "[63]\ttrain_set-rmse:5.29766\tvalidation_set-rmse:12.5659\n",
      "[64]\ttrain_set-rmse:5.29155\tvalidation_set-rmse:12.5639\n",
      "[65]\ttrain_set-rmse:5.28846\tvalidation_set-rmse:12.5634\n",
      "[66]\ttrain_set-rmse:5.28501\tvalidation_set-rmse:12.5631\n",
      "[67]\ttrain_set-rmse:5.28206\tvalidation_set-rmse:12.5622\n",
      "[68]\ttrain_set-rmse:5.27558\tvalidation_set-rmse:12.5611\n",
      "[69]\ttrain_set-rmse:5.27049\tvalidation_set-rmse:12.5594\n",
      "[70]\ttrain_set-rmse:5.26696\tvalidation_set-rmse:12.5578\n",
      "[71]\ttrain_set-rmse:5.26405\tvalidation_set-rmse:12.5571\n",
      "[72]\ttrain_set-rmse:5.26012\tvalidation_set-rmse:12.556\n",
      "[73]\ttrain_set-rmse:5.25431\tvalidation_set-rmse:12.5594\n",
      "[74]\ttrain_set-rmse:5.25102\tvalidation_set-rmse:12.5603\n",
      "[75]\ttrain_set-rmse:5.24803\tvalidation_set-rmse:12.5599\n",
      "[76]\ttrain_set-rmse:5.24608\tvalidation_set-rmse:12.5594\n",
      "[77]\ttrain_set-rmse:5.24465\tvalidation_set-rmse:12.5593\n",
      "[78]\ttrain_set-rmse:5.23216\tvalidation_set-rmse:12.5568\n",
      "[79]\ttrain_set-rmse:5.23147\tvalidation_set-rmse:12.5568\n",
      "[80]\ttrain_set-rmse:5.22967\tvalidation_set-rmse:12.5557\n",
      "[81]\ttrain_set-rmse:5.22676\tvalidation_set-rmse:12.5542\n",
      "[82]\ttrain_set-rmse:5.22459\tvalidation_set-rmse:12.5542\n",
      "[83]\ttrain_set-rmse:5.22141\tvalidation_set-rmse:12.5542\n",
      "[84]\ttrain_set-rmse:5.21882\tvalidation_set-rmse:12.554\n",
      "[85]\ttrain_set-rmse:5.21585\tvalidation_set-rmse:12.5634\n",
      "[86]\ttrain_set-rmse:5.21155\tvalidation_set-rmse:12.5588\n",
      "[87]\ttrain_set-rmse:5.20838\tvalidation_set-rmse:12.5562\n",
      "[88]\ttrain_set-rmse:5.20659\tvalidation_set-rmse:12.5562\n",
      "[89]\ttrain_set-rmse:5.2058\tvalidation_set-rmse:12.5562\n",
      "[90]\ttrain_set-rmse:5.2046\tvalidation_set-rmse:12.5507\n",
      "[91]\ttrain_set-rmse:5.20373\tvalidation_set-rmse:12.5507\n",
      "[92]\ttrain_set-rmse:5.20118\tvalidation_set-rmse:12.5504\n",
      "[93]\ttrain_set-rmse:5.19949\tvalidation_set-rmse:12.5504\n",
      "[94]\ttrain_set-rmse:5.19785\tvalidation_set-rmse:12.5555\n",
      "[95]\ttrain_set-rmse:5.19582\tvalidation_set-rmse:12.5562\n",
      "[96]\ttrain_set-rmse:5.19356\tvalidation_set-rmse:12.5561\n",
      "[97]\ttrain_set-rmse:5.19313\tvalidation_set-rmse:12.5561\n",
      "[98]\ttrain_set-rmse:5.19178\tvalidation_set-rmse:12.5616\n",
      "[99]\ttrain_set-rmse:5.19085\tvalidation_set-rmse:12.5616\n",
      "[100]\ttrain_set-rmse:5.18694\tvalidation_set-rmse:12.5582\n",
      "[101]\ttrain_set-rmse:5.18628\tvalidation_set-rmse:12.5582\n",
      "[102]\ttrain_set-rmse:5.18462\tvalidation_set-rmse:12.558\n",
      "[103]\ttrain_set-rmse:5.18344\tvalidation_set-rmse:12.5581\n",
      "[104]\ttrain_set-rmse:5.18249\tvalidation_set-rmse:12.5581\n",
      "[105]\ttrain_set-rmse:5.18146\tvalidation_set-rmse:12.558\n",
      "[106]\ttrain_set-rmse:5.18071\tvalidation_set-rmse:12.558\n",
      "[107]\ttrain_set-rmse:5.17237\tvalidation_set-rmse:12.5577\n",
      "[108]\ttrain_set-rmse:5.17141\tvalidation_set-rmse:12.5577\n",
      "[109]\ttrain_set-rmse:5.16935\tvalidation_set-rmse:12.5577\n",
      "[110]\ttrain_set-rmse:5.16657\tvalidation_set-rmse:12.562\n",
      "[111]\ttrain_set-rmse:5.16501\tvalidation_set-rmse:12.562\n",
      "[112]\ttrain_set-rmse:5.16392\tvalidation_set-rmse:12.562\n",
      "[113]\ttrain_set-rmse:5.16289\tvalidation_set-rmse:12.5618\n",
      "[114]\ttrain_set-rmse:5.14541\tvalidation_set-rmse:12.562\n",
      "[115]\ttrain_set-rmse:5.14475\tvalidation_set-rmse:12.5619\n",
      "[116]\ttrain_set-rmse:5.14351\tvalidation_set-rmse:12.5606\n",
      "[117]\ttrain_set-rmse:5.14161\tvalidation_set-rmse:12.5619\n",
      "[118]\ttrain_set-rmse:5.13703\tvalidation_set-rmse:12.5619\n",
      "[119]\ttrain_set-rmse:5.13653\tvalidation_set-rmse:12.5619\n",
      "[120]\ttrain_set-rmse:5.13584\tvalidation_set-rmse:12.5626\n",
      "[121]\ttrain_set-rmse:5.13477\tvalidation_set-rmse:12.5628\n",
      "[122]\ttrain_set-rmse:5.13324\tvalidation_set-rmse:12.5631\n",
      "[123]\ttrain_set-rmse:5.13157\tvalidation_set-rmse:12.5654\n",
      "Stopping. Best iteration:\n",
      "[93]\ttrain_set-rmse:5.19949\tvalidation_set-rmse:12.5504\n",
      "\n"
     ]
    }
   ],
   "source": [
    "param_set_4_lag_2_seasonal = {'max_depth': 4, 'eta': 0.05, 'silent': 1, 'objective': 'reg:linear', 'subsample' : 0.5,'eval_metric': 'rmse'}\n",
    "progress_3_05_lag1_lag2_seasonal = {}\n",
    "xg_model_3_05_lag1_lag2_seasonal = xgboost.train(param_set_4_lag_2_seasonal , xg_train,early_stopping_rounds=30,evals = [(xg_train , \"train_set\"),(xg_val,\"validation_set\")], evals_result=progress_3_05_lag1_lag2_seasonal ,num_boost_round=1000)"
   ]
  },
  {
   "cell_type": "code",
   "execution_count": 344,
   "metadata": {},
   "outputs": [
    {
     "data": {
      "image/png": "[encoded data removed]",
      "text/plain": [
       "<Figure size 432x288 with 1 Axes>"
      ]
     },
     "metadata": {},
     "output_type": "display_data"
    }
   ],
   "source": [
    "fig = plt.figure()\n",
    "ax1 = fig.add_subplot(111)\n",
    "ax1.plot(np.arange(xg_model_1_05_lag1_lag2_seasonal.best_ntree_limit), progress_1_05_lag1_lag2_seasonal['validation_set']['rmse'][0:xg_model_1_05_lag1_lag2_seasonal.best_ntree_limit], color = 'blue', label = 'xg_depth1_lr_05_subsamp_0.5')\n",
    "ax1.plot(np.arange(xg_model_2_05_lag1_lag2_seasonal.best_ntree_limit), progress_2_05_lag1_lag2_seasonal['validation_set']['rmse'][0:xg_model_2_05_lag1_lag2_seasonal.best_ntree_limit], color = 'red', label = 'xg_depth2_lr_05_subsamp_0.5')\n",
    "ax1.plot(np.arange(xg_model_3_05_lag1_lag2_seasonal.best_ntree_limit), progress_3_05_lag1_lag2_seasonal['validation_set']['rmse'][0:xg_model_3_05_lag1_lag2_seasonal.best_ntree_limit], color = 'orange', label = 'xg_depth4_lr_05_subsamp_0.5')\n",
    "ax1.plot([0,len(progress_1_05_lag1_lag2_seasonal['validation_set']['rmse'])-1], [14,xgboost_caliberation.best_score], color ='green', label = 'xg_depth6_lr_01_subsamp_1')\n",
    "ax1.legend()\n",
    "plt.show()"
   ]
  },
  {
   "cell_type": "code",
   "execution_count": 296,
   "metadata": {},
   "outputs": [],
   "source": [
    "monitoring_data['row_type_val'] = 'na_dropped'\n",
    "monitoring_data['row_type_test'] = 'na_predicted_as_zero'"
   ]
  },
  {
   "cell_type": "code",
   "execution_count": 351,
   "metadata": {},
   "outputs": [
    {
     "data": {
      "text/plain": [
       "12.550432"
      ]
     },
     "execution_count": 351,
     "metadata": {},
     "output_type": "execute_result"
    }
   ],
   "source": [
    "xg_model_3_05_lag1_lag2_seasonal.best_score"
   ]
  },
  {
   "cell_type": "code",
   "execution_count": 362,
   "metadata": {},
   "outputs": [
    {
     "data": {
      "text/plain": [
       "94"
      ]
     },
     "execution_count": 362,
     "metadata": {},
     "output_type": "execute_result"
    }
   ],
   "source": [
    "xg_model_3_05_lag1_lag2_seasonal.best_ntree_limit"
   ]
  },
  {
   "cell_type": "code",
   "execution_count": 363,
   "metadata": {},
   "outputs": [
    {
     "data": {
      "text/plain": [
       "2.1850761534363525"
      ]
     },
     "execution_count": 363,
     "metadata": {},
     "output_type": "execute_result"
    }
   ],
   "source": [
    "compute_trimmed_rmse(val_lag1_2_season.copy()['item_cnt_month'],xg_model_3_05_lag1_lag2_seasonal.predict(xg_val, ntree_limit=xg_model_3_05_lag1_lag2_seasonal.best_ntree_limit))"
   ]
  },
  {
   "cell_type": "code",
   "execution_count": 360,
   "metadata": {},
   "outputs": [
    {
     "data": {
      "text/plain": [
       "12.565412424645453"
      ]
     },
     "execution_count": 360,
     "metadata": {},
     "output_type": "execute_result"
    }
   ],
   "source": [
    "rmse(val_lag1_2_season.copy()['item_cnt_month'],xg_model_3_05_lag1_lag2_seasonal.predict(xg_val))"
   ]
  },
  {
   "cell_type": "code",
   "execution_count": 364,
   "metadata": {},
   "outputs": [],
   "source": [
    "why = xg_model_3_05_lag1_lag2_seasonal.predict(xg_val)"
   ]
  },
  {
   "cell_type": "code",
   "execution_count": 366,
   "metadata": {},
   "outputs": [
    {
     "data": {
      "text/plain": [
       "3966"
      ]
     },
     "execution_count": 366,
     "metadata": {},
     "output_type": "execute_result"
    }
   ],
   "source": [
    "len(np.unique(why))test"
   ]
  },
  {
   "cell_type": "code",
   "execution_count": 367,
   "metadata": {},
   "outputs": [],
   "source": [
    "test_for_submit = pd.read_csv('test_full_lag1_lag2_seasonal.csv')"
   ]
  },
  {
   "cell_type": "code",
   "execution_count": 371,
   "metadata": {},
   "outputs": [],
   "source": [
    "test_for_submit.drop(['Unnamed: 0','ID','shop_id','item_id','item_category_id','unique'],axis = 1, inplace = True)"
   ]
  },
  {
   "cell_type": "code",
   "execution_count": 381,
   "metadata": {},
   "outputs": [],
   "source": [
    "features = dropped_val_lag1_lag2_season.columns.values"
   ]
  },
  {
   "cell_type": "code",
   "execution_count": 378,
   "metadata": {},
   "outputs": [],
   "source": [
    "test_for_submit['is_music'] = test_for_submit['is_music'].astype(float)"
   ]
  },
  {
   "cell_type": "code",
   "execution_count": 382,
   "metadata": {},
   "outputs": [],
   "source": [
    "xg_test = xgboost.DMatrix(test_for_submit[features])"
   ]
  },
  {
   "cell_type": "code",
   "execution_count": 383,
   "metadata": {},
   "outputs": [],
   "source": [
    "try_submitting = xg_model_3_05_lag1_lag2_seasonal.predict(xg_test)"
   ]
  },
  {
   "cell_type": "code",
   "execution_count": 388,
   "metadata": {},
   "outputs": [
    {
     "data": {
      "text/plain": [
       "0.023949579831932775"
      ]
     },
     "execution_count": 388,
     "metadata": {},
     "output_type": "execute_result"
    }
   ],
   "source": [
    "len(np.unique(try_submitting))/len(try_submitting)"
   ]
  },
  {
   "cell_type": "code",
   "execution_count": 389,
   "metadata": {},
   "outputs": [
    {
     "data": {
      "text/plain": [
       "674.4618"
      ]
     },
     "execution_count": 389,
     "metadata": {},
     "output_type": "execute_result"
    }
   ],
   "source": [
    "max(try_submitting)"
   ]
  },
  {
   "cell_type": "code",
   "execution_count": 390,
   "metadata": {},
   "outputs": [
    {
     "data": {
      "text/plain": [
       "1.2152548"
      ]
     },
     "execution_count": 390,
     "metadata": {},
     "output_type": "execute_result"
    }
   ],
   "source": [
    "min(try_submitting)"
   ]
  },
  {
   "cell_type": "code",
   "execution_count": 392,
   "metadata": {},
   "outputs": [
    {
     "data": {
      "text/plain": [
       "2.8989894"
      ]
     },
     "execution_count": 392,
     "metadata": {},
     "output_type": "execute_result"
    }
   ],
   "source": [
    "np.mean(try_submitting)"
   ]
  },
  {
   "cell_type": "code",
   "execution_count": 395,
   "metadata": {},
   "outputs": [
    {
     "data": {
      "text/plain": [
       "Index(['indicator', 'is_music', 'lag_shop_item_comb', 'lag_only_item',\n",
       "       'item_price', 'lag_only_item_cat', 'lag2_only_item_cat',\n",
       "       'lag2_only_item', 'lag2_shop_item_comb', 'seasonal_freq_3_feature'],\n",
       "      dtype='object')"
      ]
     },
     "execution_count": 395,
     "metadata": {},
     "output_type": "execute_result"
    }
   ],
   "source": [
    "test_for_submit.columns"
   ]
  },
  {
   "cell_type": "code",
   "execution_count": 396,
   "metadata": {},
   "outputs": [],
   "source": [
    "verify = pd.read_csv('test_full_lag1_lag2_seasonal.csv')"
   ]
  },
  {
   "cell_type": "code",
   "execution_count": 409,
   "metadata": {},
   "outputs": [
    {
     "name": "stdout",
     "output_type": "stream",
     "text": [
      "363\n"
     ]
    }
   ],
   "source": [
    "count = 0\n",
    "for i in test_unique_item_id:\n",
    "    if i not in train_unique_item_id:\n",
    "        count+=1\n",
    "print(count)"
   ]
  },
  {
   "cell_type": "code",
   "execution_count": 414,
   "metadata": {},
   "outputs": [
    {
     "name": "stdout",
     "output_type": "stream",
     "text": [
      "0\n"
     ]
    }
   ],
   "source": [
    "count = 0\n",
    "for i in test_unique_shop_id:\n",
    "    if i not in train_unique_shop_id:\n",
    "        count+=1\n",
    "print(count)"
   ]
  },
  {
   "cell_type": "code",
   "execution_count": 400,
   "metadata": {},
   "outputs": [],
   "source": [
    "train_unique_item_id = np.unique(np.unique(train_full_lag1_2_season['item_id']))"
   ]
  },
  {
   "cell_type": "code",
   "execution_count": 404,
   "metadata": {},
   "outputs": [],
   "source": [
    "test_unique_item_id = np.unique(np.unique(verify['item_id']))"
   ]
  },
  {
   "cell_type": "code",
   "execution_count": 410,
   "metadata": {},
   "outputs": [],
   "source": [
    "train_unique_shop_id = np.unique(np.unique(train_full_lag1_2_season['shop_id']))"
   ]
  },
  {
   "cell_type": "code",
   "execution_count": 411,
   "metadata": {},
   "outputs": [],
   "source": [
    "test_unique_shop_id = np.unique(np.unique(verify['shop_id']))"
   ]
  },
  {
   "cell_type": "code",
   "execution_count": 412,
   "metadata": {},
   "outputs": [
    {
     "data": {
      "text/plain": [
       "21805"
      ]
     },
     "execution_count": 412,
     "metadata": {},
     "output_type": "execute_result"
    }
   ],
   "source": [
    "len(train_unique_item_id)"
   ]
  },
  {
   "cell_type": "code",
   "execution_count": 413,
   "metadata": {},
   "outputs": [
    {
     "data": {
      "text/plain": [
       "5100"
      ]
     },
     "execution_count": 413,
     "metadata": {},
     "output_type": "execute_result"
    }
   ],
   "source": [
    "len(test_unique_item_id)"
   ]
  },
  {
   "cell_type": "code",
   "execution_count": 419,
   "metadata": {},
   "outputs": [
    {
     "data": {
      "text/plain": [
       "102796"
      ]
     },
     "execution_count": 419,
     "metadata": {},
     "output_type": "execute_result"
    }
   ],
   "source": [
    "sum(pd.isnull(test_for_submit[features]['item_price']))"
   ]
  },
  {
   "cell_type": "code",
   "execution_count": 421,
   "metadata": {},
   "outputs": [
    {
     "data": {
      "text/html": [
       "<div>\n",
       "<style>\n",
       "    .dataframe thead tr:only-child th {\n",
       "        text-align: right;\n",
       "    }\n",
       "\n",
       "    .dataframe thead th {\n",
       "        text-align: left;\n",
       "    }\n",
       "\n",
       "    .dataframe tbody tr th {\n",
       "        vertical-align: top;\n",
       "    }\n",
       "</style>\n",
       "<table border=\"1\" class=\"dataframe\">\n",
       "  <thead>\n",
       "    <tr style=\"text-align: right;\">\n",
       "      <th></th>\n",
       "      <th>indicator</th>\n",
       "      <th>is_music</th>\n",
       "      <th>lag_shop_item_comb</th>\n",
       "      <th>lag_only_item</th>\n",
       "      <th>item_price</th>\n",
       "      <th>lag_only_item_cat</th>\n",
       "      <th>lag2_only_item_cat</th>\n",
       "      <th>lag2_only_item</th>\n",
       "      <th>lag2_shop_item_comb</th>\n",
       "      <th>seasonal_freq_3_feature</th>\n",
       "    </tr>\n",
       "  </thead>\n",
       "  <tbody>\n",
       "    <tr>\n",
       "      <th>1</th>\n",
       "      <td>0</td>\n",
       "      <td>NaN</td>\n",
       "      <td>NaN</td>\n",
       "      <td>NaN</td>\n",
       "      <td>NaN</td>\n",
       "      <td>NaN</td>\n",
       "      <td>NaN</td>\n",
       "      <td>NaN</td>\n",
       "      <td>NaN</td>\n",
       "      <td>-0.047512</td>\n",
       "    </tr>\n",
       "    <tr>\n",
       "      <th>4</th>\n",
       "      <td>0</td>\n",
       "      <td>NaN</td>\n",
       "      <td>NaN</td>\n",
       "      <td>NaN</td>\n",
       "      <td>NaN</td>\n",
       "      <td>NaN</td>\n",
       "      <td>NaN</td>\n",
       "      <td>NaN</td>\n",
       "      <td>NaN</td>\n",
       "      <td>-0.047512</td>\n",
       "    </tr>\n",
       "    <tr>\n",
       "      <th>45</th>\n",
       "      <td>0</td>\n",
       "      <td>NaN</td>\n",
       "      <td>NaN</td>\n",
       "      <td>NaN</td>\n",
       "      <td>NaN</td>\n",
       "      <td>NaN</td>\n",
       "      <td>NaN</td>\n",
       "      <td>NaN</td>\n",
       "      <td>NaN</td>\n",
       "      <td>-0.047512</td>\n",
       "    </tr>\n",
       "    <tr>\n",
       "      <th>64</th>\n",
       "      <td>0</td>\n",
       "      <td>NaN</td>\n",
       "      <td>NaN</td>\n",
       "      <td>NaN</td>\n",
       "      <td>NaN</td>\n",
       "      <td>NaN</td>\n",
       "      <td>NaN</td>\n",
       "      <td>NaN</td>\n",
       "      <td>NaN</td>\n",
       "      <td>-0.047512</td>\n",
       "    </tr>\n",
       "    <tr>\n",
       "      <th>65</th>\n",
       "      <td>0</td>\n",
       "      <td>NaN</td>\n",
       "      <td>NaN</td>\n",
       "      <td>NaN</td>\n",
       "      <td>NaN</td>\n",
       "      <td>NaN</td>\n",
       "      <td>NaN</td>\n",
       "      <td>NaN</td>\n",
       "      <td>NaN</td>\n",
       "      <td>-0.047512</td>\n",
       "    </tr>\n",
       "    <tr>\n",
       "      <th>70</th>\n",
       "      <td>0</td>\n",
       "      <td>NaN</td>\n",
       "      <td>NaN</td>\n",
       "      <td>NaN</td>\n",
       "      <td>NaN</td>\n",
       "      <td>NaN</td>\n",
       "      <td>NaN</td>\n",
       "      <td>NaN</td>\n",
       "      <td>NaN</td>\n",
       "      <td>-0.047512</td>\n",
       "    </tr>\n",
       "    <tr>\n",
       "      <th>74</th>\n",
       "      <td>0</td>\n",
       "      <td>NaN</td>\n",
       "      <td>NaN</td>\n",
       "      <td>NaN</td>\n",
       "      <td>NaN</td>\n",
       "      <td>NaN</td>\n",
       "      <td>NaN</td>\n",
       "      <td>NaN</td>\n",
       "      <td>NaN</td>\n",
       "      <td>-0.047512</td>\n",
       "    </tr>\n",
       "    <tr>\n",
       "      <th>75</th>\n",
       "      <td>0</td>\n",
       "      <td>NaN</td>\n",
       "      <td>NaN</td>\n",
       "      <td>NaN</td>\n",
       "      <td>NaN</td>\n",
       "      <td>NaN</td>\n",
       "      <td>NaN</td>\n",
       "      <td>NaN</td>\n",
       "      <td>NaN</td>\n",
       "      <td>-0.047512</td>\n",
       "    </tr>\n",
       "    <tr>\n",
       "      <th>77</th>\n",
       "      <td>0</td>\n",
       "      <td>NaN</td>\n",
       "      <td>NaN</td>\n",
       "      <td>NaN</td>\n",
       "      <td>NaN</td>\n",
       "      <td>NaN</td>\n",
       "      <td>NaN</td>\n",
       "      <td>NaN</td>\n",
       "      <td>NaN</td>\n",
       "      <td>-0.047512</td>\n",
       "    </tr>\n",
       "    <tr>\n",
       "      <th>109</th>\n",
       "      <td>0</td>\n",
       "      <td>NaN</td>\n",
       "      <td>NaN</td>\n",
       "      <td>NaN</td>\n",
       "      <td>NaN</td>\n",
       "      <td>NaN</td>\n",
       "      <td>NaN</td>\n",
       "      <td>NaN</td>\n",
       "      <td>NaN</td>\n",
       "      <td>-0.047512</td>\n",
       "    </tr>\n",
       "    <tr>\n",
       "      <th>139</th>\n",
       "      <td>0</td>\n",
       "      <td>NaN</td>\n",
       "      <td>NaN</td>\n",
       "      <td>NaN</td>\n",
       "      <td>NaN</td>\n",
       "      <td>NaN</td>\n",
       "      <td>NaN</td>\n",
       "      <td>NaN</td>\n",
       "      <td>NaN</td>\n",
       "      <td>-0.047512</td>\n",
       "    </tr>\n",
       "    <tr>\n",
       "      <th>144</th>\n",
       "      <td>0</td>\n",
       "      <td>NaN</td>\n",
       "      <td>NaN</td>\n",
       "      <td>NaN</td>\n",
       "      <td>NaN</td>\n",
       "      <td>NaN</td>\n",
       "      <td>NaN</td>\n",
       "      <td>NaN</td>\n",
       "      <td>NaN</td>\n",
       "      <td>-0.047512</td>\n",
       "    </tr>\n",
       "    <tr>\n",
       "      <th>145</th>\n",
       "      <td>0</td>\n",
       "      <td>NaN</td>\n",
       "      <td>NaN</td>\n",
       "      <td>NaN</td>\n",
       "      <td>NaN</td>\n",
       "      <td>NaN</td>\n",
       "      <td>NaN</td>\n",
       "      <td>NaN</td>\n",
       "      <td>NaN</td>\n",
       "      <td>-0.047512</td>\n",
       "    </tr>\n",
       "    <tr>\n",
       "      <th>146</th>\n",
       "      <td>0</td>\n",
       "      <td>NaN</td>\n",
       "      <td>NaN</td>\n",
       "      <td>NaN</td>\n",
       "      <td>NaN</td>\n",
       "      <td>NaN</td>\n",
       "      <td>NaN</td>\n",
       "      <td>NaN</td>\n",
       "      <td>NaN</td>\n",
       "      <td>-0.047512</td>\n",
       "    </tr>\n",
       "    <tr>\n",
       "      <th>148</th>\n",
       "      <td>0</td>\n",
       "      <td>NaN</td>\n",
       "      <td>NaN</td>\n",
       "      <td>NaN</td>\n",
       "      <td>NaN</td>\n",
       "      <td>NaN</td>\n",
       "      <td>NaN</td>\n",
       "      <td>NaN</td>\n",
       "      <td>NaN</td>\n",
       "      <td>-0.047512</td>\n",
       "    </tr>\n",
       "    <tr>\n",
       "      <th>168</th>\n",
       "      <td>0</td>\n",
       "      <td>NaN</td>\n",
       "      <td>NaN</td>\n",
       "      <td>NaN</td>\n",
       "      <td>NaN</td>\n",
       "      <td>NaN</td>\n",
       "      <td>NaN</td>\n",
       "      <td>NaN</td>\n",
       "      <td>NaN</td>\n",
       "      <td>-0.047512</td>\n",
       "    </tr>\n",
       "    <tr>\n",
       "      <th>177</th>\n",
       "      <td>0</td>\n",
       "      <td>NaN</td>\n",
       "      <td>NaN</td>\n",
       "      <td>NaN</td>\n",
       "      <td>NaN</td>\n",
       "      <td>NaN</td>\n",
       "      <td>NaN</td>\n",
       "      <td>NaN</td>\n",
       "      <td>NaN</td>\n",
       "      <td>-0.047512</td>\n",
       "    </tr>\n",
       "    <tr>\n",
       "      <th>188</th>\n",
       "      <td>0</td>\n",
       "      <td>NaN</td>\n",
       "      <td>NaN</td>\n",
       "      <td>NaN</td>\n",
       "      <td>NaN</td>\n",
       "      <td>NaN</td>\n",
       "      <td>NaN</td>\n",
       "      <td>NaN</td>\n",
       "      <td>NaN</td>\n",
       "      <td>-0.047512</td>\n",
       "    </tr>\n",
       "    <tr>\n",
       "      <th>189</th>\n",
       "      <td>0</td>\n",
       "      <td>NaN</td>\n",
       "      <td>NaN</td>\n",
       "      <td>NaN</td>\n",
       "      <td>NaN</td>\n",
       "      <td>NaN</td>\n",
       "      <td>NaN</td>\n",
       "      <td>NaN</td>\n",
       "      <td>NaN</td>\n",
       "      <td>-0.047512</td>\n",
       "    </tr>\n",
       "    <tr>\n",
       "      <th>199</th>\n",
       "      <td>0</td>\n",
       "      <td>NaN</td>\n",
       "      <td>NaN</td>\n",
       "      <td>NaN</td>\n",
       "      <td>NaN</td>\n",
       "      <td>NaN</td>\n",
       "      <td>NaN</td>\n",
       "      <td>NaN</td>\n",
       "      <td>NaN</td>\n",
       "      <td>-0.047512</td>\n",
       "    </tr>\n",
       "    <tr>\n",
       "      <th>200</th>\n",
       "      <td>0</td>\n",
       "      <td>NaN</td>\n",
       "      <td>NaN</td>\n",
       "      <td>NaN</td>\n",
       "      <td>NaN</td>\n",
       "      <td>NaN</td>\n",
       "      <td>NaN</td>\n",
       "      <td>NaN</td>\n",
       "      <td>NaN</td>\n",
       "      <td>-0.047512</td>\n",
       "    </tr>\n",
       "    <tr>\n",
       "      <th>201</th>\n",
       "      <td>0</td>\n",
       "      <td>NaN</td>\n",
       "      <td>NaN</td>\n",
       "      <td>NaN</td>\n",
       "      <td>NaN</td>\n",
       "      <td>NaN</td>\n",
       "      <td>NaN</td>\n",
       "      <td>NaN</td>\n",
       "      <td>NaN</td>\n",
       "      <td>-0.047512</td>\n",
       "    </tr>\n",
       "    <tr>\n",
       "      <th>205</th>\n",
       "      <td>0</td>\n",
       "      <td>NaN</td>\n",
       "      <td>NaN</td>\n",
       "      <td>NaN</td>\n",
       "      <td>NaN</td>\n",
       "      <td>NaN</td>\n",
       "      <td>NaN</td>\n",
       "      <td>NaN</td>\n",
       "      <td>NaN</td>\n",
       "      <td>-0.047512</td>\n",
       "    </tr>\n",
       "    <tr>\n",
       "      <th>206</th>\n",
       "      <td>0</td>\n",
       "      <td>NaN</td>\n",
       "      <td>NaN</td>\n",
       "      <td>NaN</td>\n",
       "      <td>NaN</td>\n",
       "      <td>NaN</td>\n",
       "      <td>NaN</td>\n",
       "      <td>NaN</td>\n",
       "      <td>NaN</td>\n",
       "      <td>-0.047512</td>\n",
       "    </tr>\n",
       "    <tr>\n",
       "      <th>221</th>\n",
       "      <td>0</td>\n",
       "      <td>NaN</td>\n",
       "      <td>NaN</td>\n",
       "      <td>NaN</td>\n",
       "      <td>NaN</td>\n",
       "      <td>NaN</td>\n",
       "      <td>NaN</td>\n",
       "      <td>NaN</td>\n",
       "      <td>NaN</td>\n",
       "      <td>-0.047512</td>\n",
       "    </tr>\n",
       "    <tr>\n",
       "      <th>222</th>\n",
       "      <td>0</td>\n",
       "      <td>NaN</td>\n",
       "      <td>NaN</td>\n",
       "      <td>NaN</td>\n",
       "      <td>NaN</td>\n",
       "      <td>NaN</td>\n",
       "      <td>NaN</td>\n",
       "      <td>NaN</td>\n",
       "      <td>NaN</td>\n",
       "      <td>-0.047512</td>\n",
       "    </tr>\n",
       "    <tr>\n",
       "      <th>230</th>\n",
       "      <td>0</td>\n",
       "      <td>NaN</td>\n",
       "      <td>NaN</td>\n",
       "      <td>NaN</td>\n",
       "      <td>NaN</td>\n",
       "      <td>NaN</td>\n",
       "      <td>NaN</td>\n",
       "      <td>NaN</td>\n",
       "      <td>NaN</td>\n",
       "      <td>-0.047512</td>\n",
       "    </tr>\n",
       "    <tr>\n",
       "      <th>232</th>\n",
       "      <td>0</td>\n",
       "      <td>0.0</td>\n",
       "      <td>NaN</td>\n",
       "      <td>1.0</td>\n",
       "      <td>NaN</td>\n",
       "      <td>43.0</td>\n",
       "      <td>1.276596</td>\n",
       "      <td>1.00</td>\n",
       "      <td>NaN</td>\n",
       "      <td>-0.047512</td>\n",
       "    </tr>\n",
       "    <tr>\n",
       "      <th>243</th>\n",
       "      <td>0</td>\n",
       "      <td>NaN</td>\n",
       "      <td>NaN</td>\n",
       "      <td>NaN</td>\n",
       "      <td>NaN</td>\n",
       "      <td>NaN</td>\n",
       "      <td>NaN</td>\n",
       "      <td>NaN</td>\n",
       "      <td>NaN</td>\n",
       "      <td>-0.047512</td>\n",
       "    </tr>\n",
       "    <tr>\n",
       "      <th>244</th>\n",
       "      <td>0</td>\n",
       "      <td>NaN</td>\n",
       "      <td>NaN</td>\n",
       "      <td>NaN</td>\n",
       "      <td>NaN</td>\n",
       "      <td>NaN</td>\n",
       "      <td>NaN</td>\n",
       "      <td>NaN</td>\n",
       "      <td>NaN</td>\n",
       "      <td>-0.047512</td>\n",
       "    </tr>\n",
       "    <tr>\n",
       "      <th>...</th>\n",
       "      <td>...</td>\n",
       "      <td>...</td>\n",
       "      <td>...</td>\n",
       "      <td>...</td>\n",
       "      <td>...</td>\n",
       "      <td>...</td>\n",
       "      <td>...</td>\n",
       "      <td>...</td>\n",
       "      <td>...</td>\n",
       "      <td>...</td>\n",
       "    </tr>\n",
       "    <tr>\n",
       "      <th>214011</th>\n",
       "      <td>0</td>\n",
       "      <td>0.0</td>\n",
       "      <td>NaN</td>\n",
       "      <td>2.0</td>\n",
       "      <td>1389.0</td>\n",
       "      <td>73.0</td>\n",
       "      <td>1.274194</td>\n",
       "      <td>1.00</td>\n",
       "      <td>NaN</td>\n",
       "      <td>-0.047512</td>\n",
       "    </tr>\n",
       "    <tr>\n",
       "      <th>214013</th>\n",
       "      <td>0</td>\n",
       "      <td>0.0</td>\n",
       "      <td>NaN</td>\n",
       "      <td>NaN</td>\n",
       "      <td>NaN</td>\n",
       "      <td>73.0</td>\n",
       "      <td>1.274194</td>\n",
       "      <td>1.00</td>\n",
       "      <td>NaN</td>\n",
       "      <td>-0.047512</td>\n",
       "    </tr>\n",
       "    <tr>\n",
       "      <th>214019</th>\n",
       "      <td>0</td>\n",
       "      <td>1.0</td>\n",
       "      <td>NaN</td>\n",
       "      <td>2.0</td>\n",
       "      <td>NaN</td>\n",
       "      <td>364.0</td>\n",
       "      <td>1.298913</td>\n",
       "      <td>1.25</td>\n",
       "      <td>NaN</td>\n",
       "      <td>-0.047512</td>\n",
       "    </tr>\n",
       "    <tr>\n",
       "      <th>214020</th>\n",
       "      <td>0</td>\n",
       "      <td>1.0</td>\n",
       "      <td>NaN</td>\n",
       "      <td>1.0</td>\n",
       "      <td>NaN</td>\n",
       "      <td>364.0</td>\n",
       "      <td>1.298913</td>\n",
       "      <td>1.25</td>\n",
       "      <td>NaN</td>\n",
       "      <td>-0.047512</td>\n",
       "    </tr>\n",
       "    <tr>\n",
       "      <th>214021</th>\n",
       "      <td>0</td>\n",
       "      <td>1.0</td>\n",
       "      <td>NaN</td>\n",
       "      <td>2.0</td>\n",
       "      <td>NaN</td>\n",
       "      <td>235.0</td>\n",
       "      <td>1.236842</td>\n",
       "      <td>2.00</td>\n",
       "      <td>NaN</td>\n",
       "      <td>-0.047512</td>\n",
       "    </tr>\n",
       "    <tr>\n",
       "      <th>214032</th>\n",
       "      <td>0</td>\n",
       "      <td>1.0</td>\n",
       "      <td>NaN</td>\n",
       "      <td>3.0</td>\n",
       "      <td>NaN</td>\n",
       "      <td>235.0</td>\n",
       "      <td>1.236842</td>\n",
       "      <td>1.00</td>\n",
       "      <td>NaN</td>\n",
       "      <td>-0.047512</td>\n",
       "    </tr>\n",
       "    <tr>\n",
       "      <th>214042</th>\n",
       "      <td>0</td>\n",
       "      <td>NaN</td>\n",
       "      <td>NaN</td>\n",
       "      <td>NaN</td>\n",
       "      <td>NaN</td>\n",
       "      <td>NaN</td>\n",
       "      <td>NaN</td>\n",
       "      <td>NaN</td>\n",
       "      <td>NaN</td>\n",
       "      <td>-0.047512</td>\n",
       "    </tr>\n",
       "    <tr>\n",
       "      <th>214061</th>\n",
       "      <td>0</td>\n",
       "      <td>NaN</td>\n",
       "      <td>NaN</td>\n",
       "      <td>NaN</td>\n",
       "      <td>NaN</td>\n",
       "      <td>NaN</td>\n",
       "      <td>NaN</td>\n",
       "      <td>NaN</td>\n",
       "      <td>NaN</td>\n",
       "      <td>-0.047512</td>\n",
       "    </tr>\n",
       "    <tr>\n",
       "      <th>214065</th>\n",
       "      <td>0</td>\n",
       "      <td>1.0</td>\n",
       "      <td>NaN</td>\n",
       "      <td>3.0</td>\n",
       "      <td>NaN</td>\n",
       "      <td>235.0</td>\n",
       "      <td>1.236842</td>\n",
       "      <td>NaN</td>\n",
       "      <td>NaN</td>\n",
       "      <td>-0.047512</td>\n",
       "    </tr>\n",
       "    <tr>\n",
       "      <th>214067</th>\n",
       "      <td>0</td>\n",
       "      <td>NaN</td>\n",
       "      <td>NaN</td>\n",
       "      <td>NaN</td>\n",
       "      <td>NaN</td>\n",
       "      <td>NaN</td>\n",
       "      <td>NaN</td>\n",
       "      <td>NaN</td>\n",
       "      <td>NaN</td>\n",
       "      <td>-0.047512</td>\n",
       "    </tr>\n",
       "    <tr>\n",
       "      <th>214074</th>\n",
       "      <td>0</td>\n",
       "      <td>NaN</td>\n",
       "      <td>NaN</td>\n",
       "      <td>NaN</td>\n",
       "      <td>NaN</td>\n",
       "      <td>NaN</td>\n",
       "      <td>NaN</td>\n",
       "      <td>NaN</td>\n",
       "      <td>NaN</td>\n",
       "      <td>-0.047512</td>\n",
       "    </tr>\n",
       "    <tr>\n",
       "      <th>214075</th>\n",
       "      <td>0</td>\n",
       "      <td>NaN</td>\n",
       "      <td>NaN</td>\n",
       "      <td>NaN</td>\n",
       "      <td>NaN</td>\n",
       "      <td>NaN</td>\n",
       "      <td>NaN</td>\n",
       "      <td>NaN</td>\n",
       "      <td>NaN</td>\n",
       "      <td>-0.047512</td>\n",
       "    </tr>\n",
       "    <tr>\n",
       "      <th>214076</th>\n",
       "      <td>0</td>\n",
       "      <td>NaN</td>\n",
       "      <td>NaN</td>\n",
       "      <td>NaN</td>\n",
       "      <td>NaN</td>\n",
       "      <td>NaN</td>\n",
       "      <td>NaN</td>\n",
       "      <td>NaN</td>\n",
       "      <td>NaN</td>\n",
       "      <td>-0.047512</td>\n",
       "    </tr>\n",
       "    <tr>\n",
       "      <th>214079</th>\n",
       "      <td>0</td>\n",
       "      <td>NaN</td>\n",
       "      <td>NaN</td>\n",
       "      <td>NaN</td>\n",
       "      <td>NaN</td>\n",
       "      <td>NaN</td>\n",
       "      <td>NaN</td>\n",
       "      <td>NaN</td>\n",
       "      <td>NaN</td>\n",
       "      <td>-0.047512</td>\n",
       "    </tr>\n",
       "    <tr>\n",
       "      <th>214083</th>\n",
       "      <td>0</td>\n",
       "      <td>NaN</td>\n",
       "      <td>NaN</td>\n",
       "      <td>NaN</td>\n",
       "      <td>NaN</td>\n",
       "      <td>NaN</td>\n",
       "      <td>NaN</td>\n",
       "      <td>NaN</td>\n",
       "      <td>NaN</td>\n",
       "      <td>-0.047512</td>\n",
       "    </tr>\n",
       "    <tr>\n",
       "      <th>214084</th>\n",
       "      <td>0</td>\n",
       "      <td>NaN</td>\n",
       "      <td>NaN</td>\n",
       "      <td>NaN</td>\n",
       "      <td>NaN</td>\n",
       "      <td>NaN</td>\n",
       "      <td>NaN</td>\n",
       "      <td>NaN</td>\n",
       "      <td>NaN</td>\n",
       "      <td>-0.047512</td>\n",
       "    </tr>\n",
       "    <tr>\n",
       "      <th>214085</th>\n",
       "      <td>0</td>\n",
       "      <td>NaN</td>\n",
       "      <td>NaN</td>\n",
       "      <td>NaN</td>\n",
       "      <td>NaN</td>\n",
       "      <td>NaN</td>\n",
       "      <td>NaN</td>\n",
       "      <td>NaN</td>\n",
       "      <td>NaN</td>\n",
       "      <td>-0.047512</td>\n",
       "    </tr>\n",
       "    <tr>\n",
       "      <th>214086</th>\n",
       "      <td>0</td>\n",
       "      <td>NaN</td>\n",
       "      <td>NaN</td>\n",
       "      <td>NaN</td>\n",
       "      <td>NaN</td>\n",
       "      <td>NaN</td>\n",
       "      <td>NaN</td>\n",
       "      <td>NaN</td>\n",
       "      <td>NaN</td>\n",
       "      <td>-0.047512</td>\n",
       "    </tr>\n",
       "    <tr>\n",
       "      <th>214087</th>\n",
       "      <td>0</td>\n",
       "      <td>0.0</td>\n",
       "      <td>NaN</td>\n",
       "      <td>1.0</td>\n",
       "      <td>NaN</td>\n",
       "      <td>76.0</td>\n",
       "      <td>1.078125</td>\n",
       "      <td>1.00</td>\n",
       "      <td>NaN</td>\n",
       "      <td>-0.047512</td>\n",
       "    </tr>\n",
       "    <tr>\n",
       "      <th>214099</th>\n",
       "      <td>0</td>\n",
       "      <td>0.0</td>\n",
       "      <td>NaN</td>\n",
       "      <td>2.0</td>\n",
       "      <td>599.0</td>\n",
       "      <td>44.0</td>\n",
       "      <td>1.000000</td>\n",
       "      <td>1.00</td>\n",
       "      <td>NaN</td>\n",
       "      <td>-0.047512</td>\n",
       "    </tr>\n",
       "    <tr>\n",
       "      <th>214102</th>\n",
       "      <td>0</td>\n",
       "      <td>NaN</td>\n",
       "      <td>NaN</td>\n",
       "      <td>NaN</td>\n",
       "      <td>NaN</td>\n",
       "      <td>NaN</td>\n",
       "      <td>NaN</td>\n",
       "      <td>NaN</td>\n",
       "      <td>NaN</td>\n",
       "      <td>-0.047512</td>\n",
       "    </tr>\n",
       "    <tr>\n",
       "      <th>214126</th>\n",
       "      <td>0</td>\n",
       "      <td>1.0</td>\n",
       "      <td>NaN</td>\n",
       "      <td>2.0</td>\n",
       "      <td>249.0</td>\n",
       "      <td>364.0</td>\n",
       "      <td>1.298913</td>\n",
       "      <td>1.00</td>\n",
       "      <td>NaN</td>\n",
       "      <td>-0.047512</td>\n",
       "    </tr>\n",
       "    <tr>\n",
       "      <th>214127</th>\n",
       "      <td>0</td>\n",
       "      <td>1.0</td>\n",
       "      <td>NaN</td>\n",
       "      <td>1.0</td>\n",
       "      <td>NaN</td>\n",
       "      <td>364.0</td>\n",
       "      <td>1.298913</td>\n",
       "      <td>1.50</td>\n",
       "      <td>NaN</td>\n",
       "      <td>-0.047512</td>\n",
       "    </tr>\n",
       "    <tr>\n",
       "      <th>214130</th>\n",
       "      <td>0</td>\n",
       "      <td>NaN</td>\n",
       "      <td>NaN</td>\n",
       "      <td>NaN</td>\n",
       "      <td>NaN</td>\n",
       "      <td>NaN</td>\n",
       "      <td>NaN</td>\n",
       "      <td>NaN</td>\n",
       "      <td>NaN</td>\n",
       "      <td>-0.047512</td>\n",
       "    </tr>\n",
       "    <tr>\n",
       "      <th>214131</th>\n",
       "      <td>0</td>\n",
       "      <td>1.0</td>\n",
       "      <td>NaN</td>\n",
       "      <td>3.0</td>\n",
       "      <td>NaN</td>\n",
       "      <td>235.0</td>\n",
       "      <td>1.236842</td>\n",
       "      <td>1.00</td>\n",
       "      <td>NaN</td>\n",
       "      <td>-0.047512</td>\n",
       "    </tr>\n",
       "    <tr>\n",
       "      <th>214134</th>\n",
       "      <td>0</td>\n",
       "      <td>1.0</td>\n",
       "      <td>NaN</td>\n",
       "      <td>2.0</td>\n",
       "      <td>NaN</td>\n",
       "      <td>364.0</td>\n",
       "      <td>1.298913</td>\n",
       "      <td>1.00</td>\n",
       "      <td>NaN</td>\n",
       "      <td>-0.047512</td>\n",
       "    </tr>\n",
       "    <tr>\n",
       "      <th>214150</th>\n",
       "      <td>0</td>\n",
       "      <td>NaN</td>\n",
       "      <td>NaN</td>\n",
       "      <td>NaN</td>\n",
       "      <td>NaN</td>\n",
       "      <td>NaN</td>\n",
       "      <td>NaN</td>\n",
       "      <td>NaN</td>\n",
       "      <td>NaN</td>\n",
       "      <td>-0.047512</td>\n",
       "    </tr>\n",
       "    <tr>\n",
       "      <th>214154</th>\n",
       "      <td>0</td>\n",
       "      <td>NaN</td>\n",
       "      <td>NaN</td>\n",
       "      <td>NaN</td>\n",
       "      <td>NaN</td>\n",
       "      <td>NaN</td>\n",
       "      <td>NaN</td>\n",
       "      <td>NaN</td>\n",
       "      <td>NaN</td>\n",
       "      <td>-0.047512</td>\n",
       "    </tr>\n",
       "    <tr>\n",
       "      <th>214161</th>\n",
       "      <td>0</td>\n",
       "      <td>NaN</td>\n",
       "      <td>NaN</td>\n",
       "      <td>NaN</td>\n",
       "      <td>NaN</td>\n",
       "      <td>NaN</td>\n",
       "      <td>NaN</td>\n",
       "      <td>NaN</td>\n",
       "      <td>NaN</td>\n",
       "      <td>-0.047512</td>\n",
       "    </tr>\n",
       "    <tr>\n",
       "      <th>214173</th>\n",
       "      <td>0</td>\n",
       "      <td>NaN</td>\n",
       "      <td>NaN</td>\n",
       "      <td>NaN</td>\n",
       "      <td>NaN</td>\n",
       "      <td>NaN</td>\n",
       "      <td>NaN</td>\n",
       "      <td>NaN</td>\n",
       "      <td>NaN</td>\n",
       "      <td>-0.047512</td>\n",
       "    </tr>\n",
       "  </tbody>\n",
       "</table>\n",
       "<p>47243 rows × 10 columns</p>\n",
       "</div>"
      ],
      "text/plain": [
       "        indicator  is_music  lag_shop_item_comb  lag_only_item  item_price  \\\n",
       "1               0       NaN                 NaN            NaN         NaN   \n",
       "4               0       NaN                 NaN            NaN         NaN   \n",
       "45              0       NaN                 NaN            NaN         NaN   \n",
       "64              0       NaN                 NaN            NaN         NaN   \n",
       "65              0       NaN                 NaN            NaN         NaN   \n",
       "70              0       NaN                 NaN            NaN         NaN   \n",
       "74              0       NaN                 NaN            NaN         NaN   \n",
       "75              0       NaN                 NaN            NaN         NaN   \n",
       "77              0       NaN                 NaN            NaN         NaN   \n",
       "109             0       NaN                 NaN            NaN         NaN   \n",
       "139             0       NaN                 NaN            NaN         NaN   \n",
       "144             0       NaN                 NaN            NaN         NaN   \n",
       "145             0       NaN                 NaN            NaN         NaN   \n",
       "146             0       NaN                 NaN            NaN         NaN   \n",
       "148             0       NaN                 NaN            NaN         NaN   \n",
       "168             0       NaN                 NaN            NaN         NaN   \n",
       "177             0       NaN                 NaN            NaN         NaN   \n",
       "188             0       NaN                 NaN            NaN         NaN   \n",
       "189             0       NaN                 NaN            NaN         NaN   \n",
       "199             0       NaN                 NaN            NaN         NaN   \n",
       "200             0       NaN                 NaN            NaN         NaN   \n",
       "201             0       NaN                 NaN            NaN         NaN   \n",
       "205             0       NaN                 NaN            NaN         NaN   \n",
       "206             0       NaN                 NaN            NaN         NaN   \n",
       "221             0       NaN                 NaN            NaN         NaN   \n",
       "222             0       NaN                 NaN            NaN         NaN   \n",
       "230             0       NaN                 NaN            NaN         NaN   \n",
       "232             0       0.0                 NaN            1.0         NaN   \n",
       "243             0       NaN                 NaN            NaN         NaN   \n",
       "244             0       NaN                 NaN            NaN         NaN   \n",
       "...           ...       ...                 ...            ...         ...   \n",
       "214011          0       0.0                 NaN            2.0      1389.0   \n",
       "214013          0       0.0                 NaN            NaN         NaN   \n",
       "214019          0       1.0                 NaN            2.0         NaN   \n",
       "214020          0       1.0                 NaN            1.0         NaN   \n",
       "214021          0       1.0                 NaN            2.0         NaN   \n",
       "214032          0       1.0                 NaN            3.0         NaN   \n",
       "214042          0       NaN                 NaN            NaN         NaN   \n",
       "214061          0       NaN                 NaN            NaN         NaN   \n",
       "214065          0       1.0                 NaN            3.0         NaN   \n",
       "214067          0       NaN                 NaN            NaN         NaN   \n",
       "214074          0       NaN                 NaN            NaN         NaN   \n",
       "214075          0       NaN                 NaN            NaN         NaN   \n",
       "214076          0       NaN                 NaN            NaN         NaN   \n",
       "214079          0       NaN                 NaN            NaN         NaN   \n",
       "214083          0       NaN                 NaN            NaN         NaN   \n",
       "214084          0       NaN                 NaN            NaN         NaN   \n",
       "214085          0       NaN                 NaN            NaN         NaN   \n",
       "214086          0       NaN                 NaN            NaN         NaN   \n",
       "214087          0       0.0                 NaN            1.0         NaN   \n",
       "214099          0       0.0                 NaN            2.0       599.0   \n",
       "214102          0       NaN                 NaN            NaN         NaN   \n",
       "214126          0       1.0                 NaN            2.0       249.0   \n",
       "214127          0       1.0                 NaN            1.0         NaN   \n",
       "214130          0       NaN                 NaN            NaN         NaN   \n",
       "214131          0       1.0                 NaN            3.0         NaN   \n",
       "214134          0       1.0                 NaN            2.0         NaN   \n",
       "214150          0       NaN                 NaN            NaN         NaN   \n",
       "214154          0       NaN                 NaN            NaN         NaN   \n",
       "214161          0       NaN                 NaN            NaN         NaN   \n",
       "214173          0       NaN                 NaN            NaN         NaN   \n",
       "\n",
       "        lag_only_item_cat  lag2_only_item_cat  lag2_only_item  \\\n",
       "1                     NaN                 NaN             NaN   \n",
       "4                     NaN                 NaN             NaN   \n",
       "45                    NaN                 NaN             NaN   \n",
       "64                    NaN                 NaN             NaN   \n",
       "65                    NaN                 NaN             NaN   \n",
       "70                    NaN                 NaN             NaN   \n",
       "74                    NaN                 NaN             NaN   \n",
       "75                    NaN                 NaN             NaN   \n",
       "77                    NaN                 NaN             NaN   \n",
       "109                   NaN                 NaN             NaN   \n",
       "139                   NaN                 NaN             NaN   \n",
       "144                   NaN                 NaN             NaN   \n",
       "145                   NaN                 NaN             NaN   \n",
       "146                   NaN                 NaN             NaN   \n",
       "148                   NaN                 NaN             NaN   \n",
       "168                   NaN                 NaN             NaN   \n",
       "177                   NaN                 NaN             NaN   \n",
       "188                   NaN                 NaN             NaN   \n",
       "189                   NaN                 NaN             NaN   \n",
       "199                   NaN                 NaN             NaN   \n",
       "200                   NaN                 NaN             NaN   \n",
       "201                   NaN                 NaN             NaN   \n",
       "205                   NaN                 NaN             NaN   \n",
       "206                   NaN                 NaN             NaN   \n",
       "221                   NaN                 NaN             NaN   \n",
       "222                   NaN                 NaN             NaN   \n",
       "230                   NaN                 NaN             NaN   \n",
       "232                  43.0            1.276596            1.00   \n",
       "243                   NaN                 NaN             NaN   \n",
       "244                   NaN                 NaN             NaN   \n",
       "...                   ...                 ...             ...   \n",
       "214011               73.0            1.274194            1.00   \n",
       "214013               73.0            1.274194            1.00   \n",
       "214019              364.0            1.298913            1.25   \n",
       "214020              364.0            1.298913            1.25   \n",
       "214021              235.0            1.236842            2.00   \n",
       "214032              235.0            1.236842            1.00   \n",
       "214042                NaN                 NaN             NaN   \n",
       "214061                NaN                 NaN             NaN   \n",
       "214065              235.0            1.236842             NaN   \n",
       "214067                NaN                 NaN             NaN   \n",
       "214074                NaN                 NaN             NaN   \n",
       "214075                NaN                 NaN             NaN   \n",
       "214076                NaN                 NaN             NaN   \n",
       "214079                NaN                 NaN             NaN   \n",
       "214083                NaN                 NaN             NaN   \n",
       "214084                NaN                 NaN             NaN   \n",
       "214085                NaN                 NaN             NaN   \n",
       "214086                NaN                 NaN             NaN   \n",
       "214087               76.0            1.078125            1.00   \n",
       "214099               44.0            1.000000            1.00   \n",
       "214102                NaN                 NaN             NaN   \n",
       "214126              364.0            1.298913            1.00   \n",
       "214127              364.0            1.298913            1.50   \n",
       "214130                NaN                 NaN             NaN   \n",
       "214131              235.0            1.236842            1.00   \n",
       "214134              364.0            1.298913            1.00   \n",
       "214150                NaN                 NaN             NaN   \n",
       "214154                NaN                 NaN             NaN   \n",
       "214161                NaN                 NaN             NaN   \n",
       "214173                NaN                 NaN             NaN   \n",
       "\n",
       "        lag2_shop_item_comb  seasonal_freq_3_feature  \n",
       "1                       NaN                -0.047512  \n",
       "4                       NaN                -0.047512  \n",
       "45                      NaN                -0.047512  \n",
       "64                      NaN                -0.047512  \n",
       "65                      NaN                -0.047512  \n",
       "70                      NaN                -0.047512  \n",
       "74                      NaN                -0.047512  \n",
       "75                      NaN                -0.047512  \n",
       "77                      NaN                -0.047512  \n",
       "109                     NaN                -0.047512  \n",
       "139                     NaN                -0.047512  \n",
       "144                     NaN                -0.047512  \n",
       "145                     NaN                -0.047512  \n",
       "146                     NaN                -0.047512  \n",
       "148                     NaN                -0.047512  \n",
       "168                     NaN                -0.047512  \n",
       "177                     NaN                -0.047512  \n",
       "188                     NaN                -0.047512  \n",
       "189                     NaN                -0.047512  \n",
       "199                     NaN                -0.047512  \n",
       "200                     NaN                -0.047512  \n",
       "201                     NaN                -0.047512  \n",
       "205                     NaN                -0.047512  \n",
       "206                     NaN                -0.047512  \n",
       "221                     NaN                -0.047512  \n",
       "222                     NaN                -0.047512  \n",
       "230                     NaN                -0.047512  \n",
       "232                     NaN                -0.047512  \n",
       "243                     NaN                -0.047512  \n",
       "244                     NaN                -0.047512  \n",
       "...                     ...                      ...  \n",
       "214011                  NaN                -0.047512  \n",
       "214013                  NaN                -0.047512  \n",
       "214019                  NaN                -0.047512  \n",
       "214020                  NaN                -0.047512  \n",
       "214021                  NaN                -0.047512  \n",
       "214032                  NaN                -0.047512  \n",
       "214042                  NaN                -0.047512  \n",
       "214061                  NaN                -0.047512  \n",
       "214065                  NaN                -0.047512  \n",
       "214067                  NaN                -0.047512  \n",
       "214074                  NaN                -0.047512  \n",
       "214075                  NaN                -0.047512  \n",
       "214076                  NaN                -0.047512  \n",
       "214079                  NaN                -0.047512  \n",
       "214083                  NaN                -0.047512  \n",
       "214084                  NaN                -0.047512  \n",
       "214085                  NaN                -0.047512  \n",
       "214086                  NaN                -0.047512  \n",
       "214087                  NaN                -0.047512  \n",
       "214099                  NaN                -0.047512  \n",
       "214102                  NaN                -0.047512  \n",
       "214126                  NaN                -0.047512  \n",
       "214127                  NaN                -0.047512  \n",
       "214130                  NaN                -0.047512  \n",
       "214131                  NaN                -0.047512  \n",
       "214134                  NaN                -0.047512  \n",
       "214150                  NaN                -0.047512  \n",
       "214154                  NaN                -0.047512  \n",
       "214161                  NaN                -0.047512  \n",
       "214173                  NaN                -0.047512  \n",
       "\n",
       "[47243 rows x 10 columns]"
      ]
     },
     "execution_count": 421,
     "metadata": {},
     "output_type": "execute_result"
    }
   ],
   "source": [
    "test_for_submit[test_for_submit[\"indicator\"]==0]"
   ]
  },
  {
   "cell_type": "code",
   "execution_count": 425,
   "metadata": {},
   "outputs": [],
   "source": [
    "submit = pd.DataFrame([verify['ID'], try_submitting]).T"
   ]
  },
  {
   "cell_type": "code",
   "execution_count": 426,
   "metadata": {},
   "outputs": [],
   "source": [
    "submit['ID'] = submit['ID'].astype(int)\n",
    "submit.rename(columns={'Unnamed 0': 'item_cnt_month'}, inplace=True)"
   ]
  },
  {
   "cell_type": "code",
   "execution_count": 428,
   "metadata": {},
   "outputs": [],
   "source": [
    "submit.loc[submit['item_cnt_month'] >= 20, 'item_cnt_month'] = 20\n",
    "submit.loc[submit['item_cnt_month'] <= 0, 'item_cnt_month'] = 0"
   ]
  },
  {
   "cell_type": "code",
   "execution_count": 429,
   "metadata": {},
   "outputs": [],
   "source": [
    "submit.to_csv('take_care.csv',index=False)"
   ]
  },
  {
   "cell_type": "code",
   "execution_count": 433,
   "metadata": {},
   "outputs": [
    {
     "data": {
      "text/plain": [
       "665"
      ]
     },
     "execution_count": 433,
     "metadata": {},
     "output_type": "execute_result"
    }
   ],
   "source": [
    "sum(submit['item_cnt_month'] == 20)"
   ]
  },
  {
   "cell_type": "code",
   "execution_count": null,
   "metadata": {},
   "outputs": [],
   "source": [
    "ax1.d"
   ]
  },
  {
   "cell_type": "code",
   "execution_count": 436,
   "metadata": {},
   "outputs": [
    {
     "name": "stderr",
     "output_type": "stream",
     "text": [
      "/anaconda/lib/python3.6/site-packages/scipy/stats/stats.py:1713: FutureWarning: Using a non-tuple sequence for multidimensional indexing is deprecated; use `arr[tuple(seq)]` instead of `arr[seq]`. In the future this will be interpreted as an array index, `arr[np.array(seq)]`, which will result either in an error or a different result.\n",
      "  return np.add.reduce(sorted[indexer] * weights, axis=axis) / sumval\n",
      "/anaconda/lib/python3.6/site-packages/matplotlib/axes/_axes.py:6462: UserWarning: The 'normed' kwarg is deprecated, and has been replaced by the 'density' kwarg.\n",
      "  warnings.warn(\"The 'normed' kwarg is deprecated, and has been \"\n"
     ]
    },
    {
     "data": {
      "image/png": "[encoded data removed]",
      "text/plain": [
       "<Figure size 432x288 with 1 Axes>"
      ]
     },
     "metadata": {},
     "output_type": "display_data"
    }
   ],
   "source": [
    "fig1 = plt.figure()\n",
    "ax2 = fig1.add_subplot(111)\n",
    "sns.distplot(submit['item_cnt_month'].values, ax = ax2)\n",
    "plt.show()"
   ]
  },
  {
   "cell_type": "code",
   "execution_count": 438,
   "metadata": {},
   "outputs": [],
   "source": [
    "dist_comp = pd.read_csv('ensemble_lin_xgb_0092_lag1_lag2_season.csv')"
   ]
  },
  {
   "cell_type": "code",
   "execution_count": 441,
   "metadata": {},
   "outputs": [
    {
     "name": "stderr",
     "output_type": "stream",
     "text": [
      "/anaconda/lib/python3.6/site-packages/scipy/stats/stats.py:1713: FutureWarning: Using a non-tuple sequence for multidimensional indexing is deprecated; use `arr[tuple(seq)]` instead of `arr[seq]`. In the future this will be interpreted as an array index, `arr[np.array(seq)]`, which will result either in an error or a different result.\n",
      "  return np.add.reduce(sorted[indexer] * weights, axis=axis) / sumval\n",
      "/anaconda/lib/python3.6/site-packages/matplotlib/axes/_axes.py:6462: UserWarning: The 'normed' kwarg is deprecated, and has been replaced by the 'density' kwarg.\n",
      "  warnings.warn(\"The 'normed' kwarg is deprecated, and has been \"\n"
     ]
    },
    {
     "data": {
      "image/png": "[encoded data removed]",
      "text/plain": [
       "<Figure size 360x360 with 1 Axes>"
      ]
     },
     "metadata": {},
     "output_type": "display_data"
    }
   ],
   "source": [
    "fig2 = plt.figure(figsize=(5,5))\n",
    "ax3 = fig2.add_subplot(111)\n",
    "sns.distplot(dist_comp['item_cnt_month'].values, ax = ax3)\n",
    "plt.show()"
   ]
  },
  {
   "cell_type": "code",
   "execution_count": 443,
   "metadata": {},
   "outputs": [
    {
     "data": {
      "text/plain": [
       "12.550432"
      ]
     },
     "execution_count": 443,
     "metadata": {},
     "output_type": "execute_result"
    }
   ],
   "source": [
    "xg_model_3_05_lag1_lag2_seasonal.best_score"
   ]
  },
  {
   "cell_type": "code",
   "execution_count": 449,
   "metadata": {},
   "outputs": [],
   "source": [
    "to_be_added = ['xg_model_4_05_subsample_05', 'None', 'None', 'None', 'None', 'xgb_pred', 'xgb_lag1_lag2_season','Time_based','subset_of_train_full_lag1_lag2_seasonal', '12.5504','2.1850','3.59936','Lag1_Lag2_Seasonal','na_kept_as_is','all_predict_with_xg']"
   ]
  },
  {
   "cell_type": "code",
   "execution_count": 450,
   "metadata": {},
   "outputs": [],
   "source": [
    "monitoring_data = pd.concat([monitoring_data , pd.DataFrame(np.expand_dims(to_be_added,axis = 0) , columns = monitoring_data.columns)], axis = 0)"
   ]
  },
  {
   "cell_type": "code",
   "execution_count": 447,
   "metadata": {},
   "outputs": [],
   "source": [
    "monitoring_data.drop('index',axis = 1 , inplace=True)"
   ]
  },
  {
   "cell_type": "code",
   "execution_count": 452,
   "metadata": {},
   "outputs": [],
   "source": [
    "monitoring_data.reset_index(inplace=True)"
   ]
  },
  {
   "cell_type": "code",
   "execution_count": 457,
   "metadata": {},
   "outputs": [
    {
     "name": "stderr",
     "output_type": "stream",
     "text": [
      "/anaconda/lib/python3.6/site-packages/ipykernel/__main__.py:1: SettingWithCopyWarning: \n",
      "A value is trying to be set on a copy of a slice from a DataFrame\n",
      "\n",
      "See the caveats in the documentation: http://pandas.pydata.org/pandas-docs/stable/indexing.html#indexing-view-versus-copy\n",
      "  if __name__ == '__main__':\n"
     ]
    }
   ],
   "source": [
    "monitoring_data['Test_Prediction_Name'][5] = 'only_xgb_lag1_lag2_season'"
   ]
  },
  {
   "cell_type": "code",
   "execution_count": 458,
   "metadata": {},
   "outputs": [
    {
     "data": {
      "text/html": [
       "<div>\n",
       "<style>\n",
       "    .dataframe thead tr:only-child th {\n",
       "        text-align: right;\n",
       "    }\n",
       "\n",
       "    .dataframe thead th {\n",
       "        text-align: left;\n",
       "    }\n",
       "\n",
       "    .dataframe tbody tr th {\n",
       "        vertical-align: top;\n",
       "    }\n",
       "</style>\n",
       "<table border=\"1\" class=\"dataframe\">\n",
       "  <thead>\n",
       "    <tr style=\"text-align: right;\">\n",
       "      <th></th>\n",
       "      <th>index</th>\n",
       "      <th>Model1</th>\n",
       "      <th>Model2</th>\n",
       "      <th>Model3</th>\n",
       "      <th>Model4</th>\n",
       "      <th>Ensemble_Type</th>\n",
       "      <th>Val_Prediction_Name</th>\n",
       "      <th>Test_Prediction_Name</th>\n",
       "      <th>Validation_Type</th>\n",
       "      <th>Validation Set</th>\n",
       "      <th>Validation_Score_before_clip</th>\n",
       "      <th>Validation_Score_after_clip</th>\n",
       "      <th>Public_LB_Score</th>\n",
       "      <th>Features</th>\n",
       "      <th>row_type_val</th>\n",
       "      <th>row_type_test</th>\n",
       "    </tr>\n",
       "  </thead>\n",
       "  <tbody>\n",
       "    <tr>\n",
       "      <th>0</th>\n",
       "      <td>0</td>\n",
       "      <td>xg_model_1_001_subsample_1</td>\n",
       "      <td>lm_model_standardized</td>\n",
       "      <td>rf_n_est_1000_depth_3_sqrt</td>\n",
       "      <td>None</td>\n",
       "      <td>Average</td>\n",
       "      <td>triple_ensemble</td>\n",
       "      <td>trip_ens_submission</td>\n",
       "      <td>Time_based</td>\n",
       "      <td>dropped_col_val33_no_na</td>\n",
       "      <td>22.1521</td>\n",
       "      <td>2.16371</td>\n",
       "      <td>1.17125</td>\n",
       "      <td>Lag1</td>\n",
       "      <td>na_dropped</td>\n",
       "      <td>na_predicted_as_zero</td>\n",
       "    </tr>\n",
       "    <tr>\n",
       "      <th>1</th>\n",
       "      <td>1</td>\n",
       "      <td>xg_model_1_001_subsample_1</td>\n",
       "      <td>lm_model_standardized</td>\n",
       "      <td>rf_n_est_1000_depth_3_sqrt</td>\n",
       "      <td>None</td>\n",
       "      <td>Average</td>\n",
       "      <td>triple_ensemble_sub_025</td>\n",
       "      <td>trip_ens_submission_sub_025</td>\n",
       "      <td>Time_based</td>\n",
       "      <td>dropped_col_val33_no_na</td>\n",
       "      <td>22.1524</td>\n",
       "      <td>2.16037</td>\n",
       "      <td>1.16766</td>\n",
       "      <td>Lag1</td>\n",
       "      <td>na_dropped</td>\n",
       "      <td>na_predicted_as_zero</td>\n",
       "    </tr>\n",
       "    <tr>\n",
       "      <th>2</th>\n",
       "      <td>2</td>\n",
       "      <td>xg_model_1_001_subsample_1</td>\n",
       "      <td>lm_model</td>\n",
       "      <td>None</td>\n",
       "      <td>None</td>\n",
       "      <td>Average</td>\n",
       "      <td>ensemble_lin_xgb</td>\n",
       "      <td>test_ensemble_lin_xgb</td>\n",
       "      <td>Time_based</td>\n",
       "      <td>dropped_col_val33_no_na</td>\n",
       "      <td>20.7824</td>\n",
       "      <td>2.15148</td>\n",
       "      <td>1.14767</td>\n",
       "      <td>Lag1</td>\n",
       "      <td>na_dropped</td>\n",
       "      <td>na_predicted_as_zero</td>\n",
       "    </tr>\n",
       "    <tr>\n",
       "      <th>3</th>\n",
       "      <td>3</td>\n",
       "      <td>xg_model_6_01_subsample_1</td>\n",
       "      <td>lm_model</td>\n",
       "      <td>None</td>\n",
       "      <td>None</td>\n",
       "      <td>alpha(0.092*lm+0.908*xg)</td>\n",
       "      <td>ensemble_lin_xgb_0092</td>\n",
       "      <td>ensemble_lin_xgb_0092_lag1_lag2_season</td>\n",
       "      <td>Time_based</td>\n",
       "      <td>subset_of_train_full_lag1_lag2_seasonal</td>\n",
       "      <td>24.935</td>\n",
       "      <td>2.04778</td>\n",
       "      <td>1.09124</td>\n",
       "      <td>Lag1_Lag2_Seasonal</td>\n",
       "      <td>na_dropped</td>\n",
       "      <td>na_predicted_as_zero</td>\n",
       "    </tr>\n",
       "    <tr>\n",
       "      <th>4</th>\n",
       "      <td>4</td>\n",
       "      <td>xg_model_6_01_subsample_1</td>\n",
       "      <td>lm_model</td>\n",
       "      <td>None</td>\n",
       "      <td>None</td>\n",
       "      <td>alpha(0.092*lm+0.908*xg)</td>\n",
       "      <td>ensemble_lin_xgb_0092_less_0025</td>\n",
       "      <td>ensemble_lin_xgb_0092_lag1_lag2_season_less_0025</td>\n",
       "      <td>Time_based</td>\n",
       "      <td>subset_of_train_full_lag1_lag2_seasonal</td>\n",
       "      <td>24.936</td>\n",
       "      <td>2.050922</td>\n",
       "      <td>1.09067</td>\n",
       "      <td>Lag1_Lag2_Seasonal</td>\n",
       "      <td>na_dropped</td>\n",
       "      <td>na_predicted_as_zero</td>\n",
       "    </tr>\n",
       "    <tr>\n",
       "      <th>5</th>\n",
       "      <td>0</td>\n",
       "      <td>xg_model_4_05_subsample_05</td>\n",
       "      <td>None</td>\n",
       "      <td>None</td>\n",
       "      <td>None</td>\n",
       "      <td>None</td>\n",
       "      <td>xgb_pred</td>\n",
       "      <td>only_xgb_lag1_lag2_season</td>\n",
       "      <td>Time_based</td>\n",
       "      <td>subset_of_train_full_lag1_lag2_seasonal</td>\n",
       "      <td>12.5504</td>\n",
       "      <td>2.1850</td>\n",
       "      <td>3.59936</td>\n",
       "      <td>Lag1_Lag2_Seasonal</td>\n",
       "      <td>na_kept_as_is</td>\n",
       "      <td>all_predict_with_xg</td>\n",
       "    </tr>\n",
       "  </tbody>\n",
       "</table>\n",
       "</div>"
      ],
      "text/plain": [
       "   index                      Model1                 Model2  \\\n",
       "0      0  xg_model_1_001_subsample_1  lm_model_standardized   \n",
       "1      1  xg_model_1_001_subsample_1  lm_model_standardized   \n",
       "2      2  xg_model_1_001_subsample_1               lm_model   \n",
       "3      3   xg_model_6_01_subsample_1               lm_model   \n",
       "4      4   xg_model_6_01_subsample_1               lm_model   \n",
       "5      0  xg_model_4_05_subsample_05                   None   \n",
       "\n",
       "                       Model3 Model4             Ensemble_Type  \\\n",
       "0  rf_n_est_1000_depth_3_sqrt   None                   Average   \n",
       "1  rf_n_est_1000_depth_3_sqrt   None                   Average   \n",
       "2                        None   None                   Average   \n",
       "3                        None   None  alpha(0.092*lm+0.908*xg)   \n",
       "4                        None   None  alpha(0.092*lm+0.908*xg)   \n",
       "5                        None   None                      None   \n",
       "\n",
       "               Val_Prediction_Name  \\\n",
       "0                  triple_ensemble   \n",
       "1          triple_ensemble_sub_025   \n",
       "2                 ensemble_lin_xgb   \n",
       "3            ensemble_lin_xgb_0092   \n",
       "4  ensemble_lin_xgb_0092_less_0025   \n",
       "5                         xgb_pred   \n",
       "\n",
       "                               Test_Prediction_Name Validation_Type  \\\n",
       "0                               trip_ens_submission      Time_based   \n",
       "1                       trip_ens_submission_sub_025      Time_based   \n",
       "2                             test_ensemble_lin_xgb      Time_based   \n",
       "3            ensemble_lin_xgb_0092_lag1_lag2_season      Time_based   \n",
       "4  ensemble_lin_xgb_0092_lag1_lag2_season_less_0025      Time_based   \n",
       "5                         only_xgb_lag1_lag2_season      Time_based   \n",
       "\n",
       "                            Validation Set Validation_Score_before_clip  \\\n",
       "0                  dropped_col_val33_no_na                      22.1521   \n",
       "1                  dropped_col_val33_no_na                      22.1524   \n",
       "2                  dropped_col_val33_no_na                      20.7824   \n",
       "3  subset_of_train_full_lag1_lag2_seasonal                       24.935   \n",
       "4  subset_of_train_full_lag1_lag2_seasonal                       24.936   \n",
       "5  subset_of_train_full_lag1_lag2_seasonal                      12.5504   \n",
       "\n",
       "  Validation_Score_after_clip Public_LB_Score            Features  \\\n",
       "0                     2.16371         1.17125                Lag1   \n",
       "1                     2.16037         1.16766                Lag1   \n",
       "2                     2.15148         1.14767                Lag1   \n",
       "3                     2.04778         1.09124  Lag1_Lag2_Seasonal   \n",
       "4                    2.050922         1.09067  Lag1_Lag2_Seasonal   \n",
       "5                      2.1850         3.59936  Lag1_Lag2_Seasonal   \n",
       "\n",
       "    row_type_val         row_type_test  \n",
       "0     na_dropped  na_predicted_as_zero  \n",
       "1     na_dropped  na_predicted_as_zero  \n",
       "2     na_dropped  na_predicted_as_zero  \n",
       "3     na_dropped  na_predicted_as_zero  \n",
       "4     na_dropped  na_predicted_as_zero  \n",
       "5  na_kept_as_is   all_predict_with_xg  "
      ]
     },
     "execution_count": 458,
     "metadata": {},
     "output_type": "execute_result"
    }
   ],
   "source": [
    "monitoring_data"
   ]
  },
  {
   "cell_type": "code",
   "execution_count": 460,
   "metadata": {},
   "outputs": [],
   "source": [
    "submit.to_csv('only_xgb_lag1_lag2_season.csv',index=False)"
   ]
  }
 ],
 "metadata": {
  "kernelspec": {
   "display_name": "Python [conda root]",
   "language": "python",
   "name": "conda-root-py"
  },
  "language_info": {
   "codemirror_mode": {
    "name": "ipython",
    "version": 3
   },
   "file_extension": ".py",
   "mimetype": "text/x-python",
   "name": "python",
   "nbconvert_exporter": "python",
   "pygments_lexer": "ipython3",
   "version": "3.6.5"
  }
 },
 "nbformat": 4,
 "nbformat_minor": 2
}
